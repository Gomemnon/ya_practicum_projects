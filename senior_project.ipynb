{
 "cells": [
  {
   "cell_type": "markdown",
   "id": "6958ddd9",
   "metadata": {},
   "source": [
    "## Построение модели предсказания оттока клиентов \"ТелеДом\"\n",
    "- Проект: \n",
    "    - `Выпускной` проект когорты `DS113` отделения `телекоммуникации № 2`\n",
    "- Студент:\n",
    "    - `Примаченко Герман`\n",
    "- Ментор:\n",
    "    - `Абрашин Денис`"
   ]
  },
  {
   "cell_type": "markdown",
   "id": "23dab3ee",
   "metadata": {
    "toc": true
   },
   "source": [
    "<h1>Содержание<span class=\"tocSkip\"></span></h1>\n",
    "<div class=\"toc\"><ul class=\"toc-item\"><li><span><a href=\"#Построение-модели-предсказания-оттока-клиентов-&quot;ТелеДом&quot;\" data-toc-modified-id=\"Построение-модели-предсказания-оттока-клиентов-&quot;ТелеДом&quot;-1\"><span class=\"toc-item-num\">1&nbsp;&nbsp;</span>Построение модели предсказания оттока клиентов \"ТелеДом\"</a></span></li><li><span><a href=\"#Описание-проекта\" data-toc-modified-id=\"Описание-проекта-2\"><span class=\"toc-item-num\">2&nbsp;&nbsp;</span>Описание проекта</a></span><ul class=\"toc-item\"><li><span><a href=\"#Цель\" data-toc-modified-id=\"Цель-2.1\"><span class=\"toc-item-num\">2.1&nbsp;&nbsp;</span>Цель</a></span></li><li><span><a href=\"#Задачи\" data-toc-modified-id=\"Задачи-2.2\"><span class=\"toc-item-num\">2.2&nbsp;&nbsp;</span>Задачи</a></span></li><li><span><a href=\"#Описание-данных\" data-toc-modified-id=\"Описание-данных-2.3\"><span class=\"toc-item-num\">2.3&nbsp;&nbsp;</span>Описание данных</a></span><ul class=\"toc-item\"><li><span><a href=\"#Хранение\" data-toc-modified-id=\"Хранение-2.3.1\"><span class=\"toc-item-num\">2.3.1&nbsp;&nbsp;</span>Хранение</a></span></li><li><span><a href=\"#Описание-оказываемых-услуг\" data-toc-modified-id=\"Описание-оказываемых-услуг-2.3.2\"><span class=\"toc-item-num\">2.3.2&nbsp;&nbsp;</span>Описание оказываемых услуг</a></span></li></ul></li></ul></li><li><span><a href=\"#Подготовка-к-работе\" data-toc-modified-id=\"Подготовка-к-работе-3\"><span class=\"toc-item-num\">3&nbsp;&nbsp;</span>Подготовка к работе</a></span><ul class=\"toc-item\"><li><span><a href=\"#Загрузка/обновление-библиотек\" data-toc-modified-id=\"Загрузка/обновление-библиотек-3.1\"><span class=\"toc-item-num\">3.1&nbsp;&nbsp;</span>Загрузка/обновление библиотек</a></span></li><li><span><a href=\"#Импорты-библиотек\" data-toc-modified-id=\"Импорты-библиотек-3.2\"><span class=\"toc-item-num\">3.2&nbsp;&nbsp;</span>Импорты библиотек</a></span></li><li><span><a href=\"#Используемые-функции\" data-toc-modified-id=\"Используемые-функции-3.3\"><span class=\"toc-item-num\">3.3&nbsp;&nbsp;</span>Используемые функции</a></span><ul class=\"toc-item\"><li><span><a href=\"#Построение-графика-bar\" data-toc-modified-id=\"Построение-графика-bar-3.3.1\"><span class=\"toc-item-num\">3.3.1&nbsp;&nbsp;</span>Построение графика <code>bar</code></a></span></li><li><span><a href=\"#bar-в-разрезе-выбранного-признака\" data-toc-modified-id=\"bar-в-разрезе-выбранного-признака-3.3.2\"><span class=\"toc-item-num\">3.3.2&nbsp;&nbsp;</span><code>bar</code> в разрезе выбранного признака</a></span></li><li><span><a href=\"#Построение-графика-hist\" data-toc-modified-id=\"Построение-графика-hist-3.3.3\"><span class=\"toc-item-num\">3.3.3&nbsp;&nbsp;</span>Построение графика <code>hist</code></a></span></li><li><span><a href=\"#hist-в-разрезе-выбранного-признака\" data-toc-modified-id=\"hist-в-разрезе-выбранного-признака-3.3.4\"><span class=\"toc-item-num\">3.3.4&nbsp;&nbsp;</span><code>hist</code> в разрезе выбранного признака</a></span></li><li><span><a href=\"#Построение-графика-heatmap\" data-toc-modified-id=\"Построение-графика-heatmap-3.3.5\"><span class=\"toc-item-num\">3.3.5&nbsp;&nbsp;</span>Построение графика <code>heatmap</code></a></span></li><li><span><a href=\"#Отбор-мультиколлинеарных-и-малозначимых-признаков\" data-toc-modified-id=\"Отбор-мультиколлинеарных-и-малозначимых-признаков-3.3.6\"><span class=\"toc-item-num\">3.3.6&nbsp;&nbsp;</span>Отбор мультиколлинеарных и малозначимых признаков</a></span></li><li><span><a href=\"#Построение-моделей-с-кросс-валидацией-через-Optuna\" data-toc-modified-id=\"Построение-моделей-с-кросс-валидацией-через-Optuna-3.3.7\"><span class=\"toc-item-num\">3.3.7&nbsp;&nbsp;</span>Построение моделей с кросс валидацией через Optuna</a></span></li><li><span><a href=\"#Построение-графика-ROC-AUC\" data-toc-modified-id=\"Построение-графика-ROC-AUC-3.3.8\"><span class=\"toc-item-num\">3.3.8&nbsp;&nbsp;</span>Построение графика <code>ROC-AUC</code></a></span></li><li><span><a href=\"#Построение-графика-Confusion-matrix\" data-toc-modified-id=\"Построение-графика-Confusion-matrix-3.3.9\"><span class=\"toc-item-num\">3.3.9&nbsp;&nbsp;</span>Построение графика <code>Confusion matrix</code></a></span></li></ul></li><li><span><a href=\"#Используемые-классы\" data-toc-modified-id=\"Используемые-классы-3.4\"><span class=\"toc-item-num\">3.4&nbsp;&nbsp;</span>Используемые классы</a></span><ul class=\"toc-item\"><li><span><a href=\"#Импьютер-пропусков-через-группировку\" data-toc-modified-id=\"Импьютер-пропусков-через-группировку-3.4.1\"><span class=\"toc-item-num\">3.4.1&nbsp;&nbsp;</span>Импьютер пропусков через группировку</a></span></li><li><span><a href=\"#Бинарный-кодировщик-через-определение-минорного-и-мажорного-класса\" data-toc-modified-id=\"Бинарный-кодировщик-через-определение-минорного-и-мажорного-класса-3.4.2\"><span class=\"toc-item-num\">3.4.2&nbsp;&nbsp;</span>Бинарный кодировщик через определение минорного и мажорного класса</a></span></li><li><span><a href=\"#Генератор-столбца-с-продолжительностью-использования-услуг-связи\" data-toc-modified-id=\"Генератор-столбца-с-продолжительностью-использования-услуг-связи-3.4.3\"><span class=\"toc-item-num\">3.4.3&nbsp;&nbsp;</span>Генератор столбца с продолжительностью использования услуг связи</a></span></li><li><span><a href=\"#Удаление-ненужных-столбцов\" data-toc-modified-id=\"Удаление-ненужных-столбцов-3.4.4\"><span class=\"toc-item-num\">3.4.4&nbsp;&nbsp;</span>Удаление ненужных столбцов</a></span></li><li><span><a href=\"#Заполнитель-пропусков-в-категориальных-переменных\" data-toc-modified-id=\"Заполнитель-пропусков-в-категориальных-переменных-3.4.5\"><span class=\"toc-item-num\">3.4.5&nbsp;&nbsp;</span>Заполнитель пропусков в категориальных переменных</a></span></li></ul></li></ul></li><li><span><a href=\"#Загрузка-данных\" data-toc-modified-id=\"Загрузка-данных-4\"><span class=\"toc-item-num\">4&nbsp;&nbsp;</span>Загрузка данных</a></span><ul class=\"toc-item\"><li><span><a href=\"#Загрузка-данных-и-первичный-анализ\" data-toc-modified-id=\"Загрузка-данных-и-первичный-анализ-4.1\"><span class=\"toc-item-num\">4.1&nbsp;&nbsp;</span>Загрузка данных и первичный анализ</a></span></li><li><span><a href=\"#Объединение-таблиц\" data-toc-modified-id=\"Объединение-таблиц-4.2\"><span class=\"toc-item-num\">4.2&nbsp;&nbsp;</span>Объединение таблиц</a></span></li><li><span><a href=\"#Выводы\" data-toc-modified-id=\"Выводы-4.3\"><span class=\"toc-item-num\">4.3&nbsp;&nbsp;</span>Выводы</a></span></li></ul></li><li><span><a href=\"#Исследовательский-анализ-и-предобработка-данных\" data-toc-modified-id=\"Исследовательский-анализ-и-предобработка-данных-5\"><span class=\"toc-item-num\">5&nbsp;&nbsp;</span>Исследовательский анализ и предобработка данных</a></span><ul class=\"toc-item\"><li><span><a href=\"#Оформление-таблицы\" data-toc-modified-id=\"Оформление-таблицы-5.1\"><span class=\"toc-item-num\">5.1&nbsp;&nbsp;</span>Оформление таблицы</a></span></li><li><span><a href=\"#Создание-целевой-переменной\" data-toc-modified-id=\"Создание-целевой-переменной-5.2\"><span class=\"toc-item-num\">5.2&nbsp;&nbsp;</span>Создание целевой переменной</a></span></li><li><span><a href=\"#Преобразование-типов\" data-toc-modified-id=\"Преобразование-типов-5.3\"><span class=\"toc-item-num\">5.3&nbsp;&nbsp;</span>Преобразование типов</a></span></li><li><span><a href=\"#Разбиение-данных-на-тренировочную-и-тестовую-выборки\" data-toc-modified-id=\"Разбиение-данных-на-тренировочную-и-тестовую-выборки-5.4\"><span class=\"toc-item-num\">5.4&nbsp;&nbsp;</span>Разбиение данных на тренировочную и тестовую выборки</a></span></li><li><span><a href=\"#Комплексное-исследование-оригинальных-признаков\" data-toc-modified-id=\"Комплексное-исследование-оригинальных-признаков-5.5\"><span class=\"toc-item-num\">5.5&nbsp;&nbsp;</span>Комплексное исследование оригинальных признаков</a></span><ul class=\"toc-item\"><li><span><a href=\"#Исследование-целевого-признака:-goodbye_my_friend\" data-toc-modified-id=\"Исследование-целевого-признака:-goodbye_my_friend-5.5.1\"><span class=\"toc-item-num\">5.5.1&nbsp;&nbsp;</span>Исследование целевого признака: <code>goodbye_my_friend</code></a></span></li><li><span><a href=\"#Исследованиеtype\" data-toc-modified-id=\"Исследованиеtype-5.5.2\"><span class=\"toc-item-num\">5.5.2&nbsp;&nbsp;</span>Исследование<code>type</code></a></span></li><li><span><a href=\"#Исследование-paper_less_billing\" data-toc-modified-id=\"Исследование-paper_less_billing-5.5.3\"><span class=\"toc-item-num\">5.5.3&nbsp;&nbsp;</span>Исследование <code>paper_less_billing</code></a></span></li><li><span><a href=\"#Исследование-payment_method\" data-toc-modified-id=\"Исследование-payment_method-5.5.4\"><span class=\"toc-item-num\">5.5.4&nbsp;&nbsp;</span>Исследование <code>payment_method</code></a></span><ul class=\"toc-item\"><li><span><a href=\"#Создание-новых-фичей-на-основе-payment_method\" data-toc-modified-id=\"Создание-новых-фичей-на-основе-payment_method-5.5.4.1\"><span class=\"toc-item-num\">5.5.4.1&nbsp;&nbsp;</span>Создание новых фичей на основе <code>payment_method</code></a></span></li></ul></li><li><span><a href=\"#Исследование-gender\" data-toc-modified-id=\"Исследование-gender-5.5.5\"><span class=\"toc-item-num\">5.5.5&nbsp;&nbsp;</span>Исследование <code>gender</code></a></span></li><li><span><a href=\"#Исследование-senior_citizen\" data-toc-modified-id=\"Исследование-senior_citizen-5.5.6\"><span class=\"toc-item-num\">5.5.6&nbsp;&nbsp;</span>Исследование <code>senior_citizen</code></a></span></li><li><span><a href=\"#Исследование-partner\" data-toc-modified-id=\"Исследование-partner-5.5.7\"><span class=\"toc-item-num\">5.5.7&nbsp;&nbsp;</span>Исследование <code>partner</code></a></span></li><li><span><a href=\"#Исследование-dependents\" data-toc-modified-id=\"Исследование-dependents-5.5.8\"><span class=\"toc-item-num\">5.5.8&nbsp;&nbsp;</span>Исследование <code>dependents</code></a></span></li><li><span><a href=\"#Исследование-internet_service\" data-toc-modified-id=\"Исследование-internet_service-5.5.9\"><span class=\"toc-item-num\">5.5.9&nbsp;&nbsp;</span>Исследование <code>internet_service</code></a></span></li><li><span><a href=\"#Исследование-online_security\" data-toc-modified-id=\"Исследование-online_security-5.5.10\"><span class=\"toc-item-num\">5.5.10&nbsp;&nbsp;</span>Исследование <code>online_security</code></a></span></li><li><span><a href=\"#Исследование-monthly_charges\" data-toc-modified-id=\"Исследование-monthly_charges-5.5.11\"><span class=\"toc-item-num\">5.5.11&nbsp;&nbsp;</span>Исследование <code>monthly_charges</code></a></span><ul class=\"toc-item\"><li><span><a href=\"#Создание-новых-фичей-на-основе-monthly_charges\" data-toc-modified-id=\"Создание-новых-фичей-на-основе-monthly_charges-5.5.11.1\"><span class=\"toc-item-num\">5.5.11.1&nbsp;&nbsp;</span>Создание новых фичей на основе <code>monthly_charges</code></a></span></li></ul></li><li><span><a href=\"#Исследование-total_charges\" data-toc-modified-id=\"Исследование-total_charges-5.5.12\"><span class=\"toc-item-num\">5.5.12&nbsp;&nbsp;</span>Исследование <code>total_charges</code></a></span></li><li><span><a href=\"#Исследование-online_backup\" data-toc-modified-id=\"Исследование-online_backup-5.5.13\"><span class=\"toc-item-num\">5.5.13&nbsp;&nbsp;</span>Исследование <code>online_backup</code></a></span></li><li><span><a href=\"#Исследование-device_protection\" data-toc-modified-id=\"Исследование-device_protection-5.5.14\"><span class=\"toc-item-num\">5.5.14&nbsp;&nbsp;</span>Исследование <code>device_protection</code></a></span></li><li><span><a href=\"#Исследование-tech_support\" data-toc-modified-id=\"Исследование-tech_support-5.5.15\"><span class=\"toc-item-num\">5.5.15&nbsp;&nbsp;</span>Исследование <code>tech_support</code></a></span></li><li><span><a href=\"#Исследование-streaming_tv\" data-toc-modified-id=\"Исследование-streaming_tv-5.5.16\"><span class=\"toc-item-num\">5.5.16&nbsp;&nbsp;</span>Исследование <code>streaming_tv</code></a></span></li><li><span><a href=\"#Исследование-streaming_movies\" data-toc-modified-id=\"Исследование-streaming_movies-5.5.17\"><span class=\"toc-item-num\">5.5.17&nbsp;&nbsp;</span>Исследование <code>streaming_movies</code></a></span></li><li><span><a href=\"#Исследование-multiple_lines\" data-toc-modified-id=\"Исследование-multiple_lines-5.5.18\"><span class=\"toc-item-num\">5.5.18&nbsp;&nbsp;</span>Исследование <code>multiple_lines</code></a></span></li><li><span><a href=\"#Исследование-begin_date-и-end_date\" data-toc-modified-id=\"Исследование-begin_date-и-end_date-5.5.19\"><span class=\"toc-item-num\">5.5.19&nbsp;&nbsp;</span>Исследование <code>begin_date</code> и <code>end_date</code></a></span><ul class=\"toc-item\"><li><span><a href=\"#Создание-новых-фичей-на-основе-begin_date-и-end_date\" data-toc-modified-id=\"Создание-новых-фичей-на-основе-begin_date-и-end_date-5.5.19.1\"><span class=\"toc-item-num\">5.5.19.1&nbsp;&nbsp;</span>Создание новых фичей на основе <code>begin_date</code> и <code>end_date</code></a></span></li></ul></li></ul></li><li><span><a href=\"#Комплексное-исследование-сгенерированных-признаков\" data-toc-modified-id=\"Комплексное-исследование-сгенерированных-признаков-5.6\"><span class=\"toc-item-num\">5.6&nbsp;&nbsp;</span>Комплексное исследование сгенерированных признаков</a></span><ul class=\"toc-item\"><li><span><a href=\"#Исследования-payment_method_ternary\" data-toc-modified-id=\"Исследования-payment_method_ternary-5.6.1\"><span class=\"toc-item-num\">5.6.1&nbsp;&nbsp;</span>Исследования <code>payment_method_ternary</code></a></span></li><li><span><a href=\"#Исследования-payment_method_binary\" data-toc-modified-id=\"Исследования-payment_method_binary-5.6.2\"><span class=\"toc-item-num\">5.6.2&nbsp;&nbsp;</span>Исследования <code>payment_method_binary</code></a></span></li><li><span><a href=\"#Исследование-monthly_charges_ternary\" data-toc-modified-id=\"Исследование-monthly_charges_ternary-5.6.3\"><span class=\"toc-item-num\">5.6.3&nbsp;&nbsp;</span>Исследование <code>monthly_charges_ternary</code></a></span></li><li><span><a href=\"#Исследование-monthly_charges_quaternary\" data-toc-modified-id=\"Исследование-monthly_charges_quaternary-5.6.4\"><span class=\"toc-item-num\">5.6.4&nbsp;&nbsp;</span>Исследование <code>monthly_charges_quaternary</code></a></span></li><li><span><a href=\"#Исследование-duration_by_days\" data-toc-modified-id=\"Исследование-duration_by_days-5.6.5\"><span class=\"toc-item-num\">5.6.5&nbsp;&nbsp;</span>Исследование <code>duration_by_days</code></a></span></li></ul></li><li><span><a href=\"#Корреляционный-анализ-признаков\" data-toc-modified-id=\"Корреляционный-анализ-признаков-5.7\"><span class=\"toc-item-num\">5.7&nbsp;&nbsp;</span>Корреляционный анализ признаков</a></span><ul class=\"toc-item\"><li><span><a href=\"#Удаление-ненужных-столбцов\" data-toc-modified-id=\"Удаление-ненужных-столбцов-5.7.1\"><span class=\"toc-item-num\">5.7.1&nbsp;&nbsp;</span>Удаление ненужных столбцов</a></span></li><li><span><a href=\"#Удаление-неинформативных-и-мультиколлинеарных-признаков\" data-toc-modified-id=\"Удаление-неинформативных-и-мультиколлинеарных-признаков-5.7.2\"><span class=\"toc-item-num\">5.7.2&nbsp;&nbsp;</span>Удаление неинформативных и мультиколлинеарных признаков</a></span></li></ul></li><li><span><a href=\"#Выводы\" data-toc-modified-id=\"Выводы-5.8\"><span class=\"toc-item-num\">5.8&nbsp;&nbsp;</span>Выводы</a></span></li></ul></li><li><span><a href=\"#Подготовка-данных-для-запуска-моделей-машинного-обучения\" data-toc-modified-id=\"Подготовка-данных-для-запуска-моделей-машинного-обучения-6\"><span class=\"toc-item-num\">6&nbsp;&nbsp;</span>Подготовка данных для запуска моделей машинного обучения</a></span><ul class=\"toc-item\"><li><span><a href=\"#Создание-пайплайна-подготовки-данных\" data-toc-modified-id=\"Создание-пайплайна-подготовки-данных-6.1\"><span class=\"toc-item-num\">6.1&nbsp;&nbsp;</span>Создание пайплайна подготовки данных</a></span></li><li><span><a href=\"#Пайплайн-для-линейных-моделей,-KNN-и-нейронных-сетей\" data-toc-modified-id=\"Пайплайн-для-линейных-моделей,-KNN-и-нейронных-сетей-6.2\"><span class=\"toc-item-num\">6.2&nbsp;&nbsp;</span>Пайплайн для линейных моделей, KNN и нейронных сетей</a></span></li><li><span><a href=\"#Пайплайн-для-деревянных-моделей\" data-toc-modified-id=\"Пайплайн-для-деревянных-моделей-6.3\"><span class=\"toc-item-num\">6.3&nbsp;&nbsp;</span>Пайплайн для деревянных моделей</a></span></li><li><span><a href=\"#Создание-словарей-с-перебором-параметров-пайплайна-и-гиперпараметров-моделей\" data-toc-modified-id=\"Создание-словарей-с-перебором-параметров-пайплайна-и-гиперпараметров-моделей-6.4\"><span class=\"toc-item-num\">6.4&nbsp;&nbsp;</span>Создание словарей с перебором параметров пайплайна и гиперпараметров моделей</a></span><ul class=\"toc-item\"><li><span><a href=\"#Словарь:-Логистическая-регрессия\" data-toc-modified-id=\"Словарь:-Логистическая-регрессия-6.4.1\"><span class=\"toc-item-num\">6.4.1&nbsp;&nbsp;</span>Словарь: Логистическая регрессия</a></span></li><li><span><a href=\"#Словарь:-SVC\" data-toc-modified-id=\"Словарь:-SVC-6.4.2\"><span class=\"toc-item-num\">6.4.2&nbsp;&nbsp;</span>Словарь: SVC</a></span></li><li><span><a href=\"#Словарь:-классификатор-K-соседей\" data-toc-modified-id=\"Словарь:-классификатор-K-соседей-6.4.3\"><span class=\"toc-item-num\">6.4.3&nbsp;&nbsp;</span>Словарь: классификатор K-соседей</a></span></li><li><span><a href=\"#Словарь:-Дерево-решений\" data-toc-modified-id=\"Словарь:-Дерево-решений-6.4.4\"><span class=\"toc-item-num\">6.4.4&nbsp;&nbsp;</span>Словарь: Дерево решений</a></span></li><li><span><a href=\"#Словарь:-Случайный-лес\" data-toc-modified-id=\"Словарь:-Случайный-лес-6.4.5\"><span class=\"toc-item-num\">6.4.5&nbsp;&nbsp;</span>Словарь: Случайный лес</a></span></li><li><span><a href=\"#Словарь:-Градиентный-бустинг\" data-toc-modified-id=\"Словарь:-Градиентный-бустинг-6.4.6\"><span class=\"toc-item-num\">6.4.6&nbsp;&nbsp;</span>Словарь: Градиентный бустинг</a></span></li></ul></li><li><span><a href=\"#Создание-своего-пайплайна-для-CatBoost-и-LGBM\" data-toc-modified-id=\"Создание-своего-пайплайна-для-CatBoost-и-LGBM-6.5\"><span class=\"toc-item-num\">6.5&nbsp;&nbsp;</span>Создание своего пайплайна для <code>CatBoost</code> и <code>LGBM</code></a></span><ul class=\"toc-item\"><li><span><a href=\"#Словарь-CatBoost\" data-toc-modified-id=\"Словарь-CatBoost-6.5.1\"><span class=\"toc-item-num\">6.5.1&nbsp;&nbsp;</span>Словарь CatBoost</a></span></li><li><span><a href=\"#Словарь:-LGBM\" data-toc-modified-id=\"Словарь:-LGBM-6.5.2\"><span class=\"toc-item-num\">6.5.2&nbsp;&nbsp;</span>Словарь: LGBM</a></span></li></ul></li><li><span><a href=\"#Подготовка-данных-для-обучения-нейронной-сети\" data-toc-modified-id=\"Подготовка-данных-для-обучения-нейронной-сети-6.6\"><span class=\"toc-item-num\">6.6&nbsp;&nbsp;</span>Подготовка данных для обучения нейронной сети</a></span></li><li><span><a href=\"#Выводы\" data-toc-modified-id=\"Выводы-6.7\"><span class=\"toc-item-num\">6.7&nbsp;&nbsp;</span>Выводы</a></span></li></ul></li><li><span><a href=\"#Обучение-моделей\" data-toc-modified-id=\"Обучение-моделей-7\"><span class=\"toc-item-num\">7&nbsp;&nbsp;</span>Обучение моделей</a></span><ul class=\"toc-item\"><li><span><a href=\"#Построение-логистической-регрессии\" data-toc-modified-id=\"Построение-логистической-регрессии-7.1\"><span class=\"toc-item-num\">7.1&nbsp;&nbsp;</span>Построение логистической регрессии</a></span></li><li><span><a href=\"#Построение-SVC\" data-toc-modified-id=\"Построение-SVC-7.2\"><span class=\"toc-item-num\">7.2&nbsp;&nbsp;</span>Построение SVC</a></span></li><li><span><a href=\"#Построение-модели-K-соседей\" data-toc-modified-id=\"Построение-модели-K-соседей-7.3\"><span class=\"toc-item-num\">7.3&nbsp;&nbsp;</span>Построение модели K-соседей</a></span></li><li><span><a href=\"#Построение-модели-дерева-решений\" data-toc-modified-id=\"Построение-модели-дерева-решений-7.4\"><span class=\"toc-item-num\">7.4&nbsp;&nbsp;</span>Построение модели дерева решений</a></span></li><li><span><a href=\"#Построение-модели-случайного-леса\" data-toc-modified-id=\"Построение-модели-случайного-леса-7.5\"><span class=\"toc-item-num\">7.5&nbsp;&nbsp;</span>Построение модели случайного леса</a></span></li><li><span><a href=\"#Построение-модели-градиентного-бустинга\" data-toc-modified-id=\"Построение-модели-градиентного-бустинга-7.6\"><span class=\"toc-item-num\">7.6&nbsp;&nbsp;</span>Построение модели градиентного бустинга</a></span></li><li><span><a href=\"#Построение-CatBoostClassifier\" data-toc-modified-id=\"Построение-CatBoostClassifier-7.7\"><span class=\"toc-item-num\">7.7&nbsp;&nbsp;</span>Построение CatBoostClassifier</a></span><ul class=\"toc-item\"><li><span><a href=\"#CatBoost-с-предобработкой\" data-toc-modified-id=\"CatBoost-с-предобработкой-7.7.1\"><span class=\"toc-item-num\">7.7.1&nbsp;&nbsp;</span>CatBoost с предобработкой</a></span></li><li><span><a href=\"#CatBoost-без-предобработки\" data-toc-modified-id=\"CatBoost-без-предобработки-7.7.2\"><span class=\"toc-item-num\">7.7.2&nbsp;&nbsp;</span>CatBoost без предобработки</a></span></li></ul></li><li><span><a href=\"#Построение-LGBMClassifier\" data-toc-modified-id=\"Построение-LGBMClassifier-7.8\"><span class=\"toc-item-num\">7.8&nbsp;&nbsp;</span>Построение LGBMClassifier</a></span><ul class=\"toc-item\"><li><span><a href=\"#LGBM-с-предобработки\" data-toc-modified-id=\"LGBM-с-предобработки-7.8.1\"><span class=\"toc-item-num\">7.8.1&nbsp;&nbsp;</span>LGBM с предобработки</a></span></li><li><span><a href=\"#LGBM-без-предобработки\" data-toc-modified-id=\"LGBM-без-предобработки-7.8.2\"><span class=\"toc-item-num\">7.8.2&nbsp;&nbsp;</span>LGBM без предобработки</a></span></li></ul></li><li><span><a href=\"#Построение-нейронной-сети-с-функцией-активации-sigmoid\" data-toc-modified-id=\"Построение-нейронной-сети-с-функцией-активации-sigmoid-7.9\"><span class=\"toc-item-num\">7.9&nbsp;&nbsp;</span>Построение нейронной сети с функцией активации <code>sigmoid</code></a></span><ul class=\"toc-item\"><li><span><a href=\"#Создание-архитекуры-модели\" data-toc-modified-id=\"Создание-архитекуры-модели-7.9.1\"><span class=\"toc-item-num\">7.9.1&nbsp;&nbsp;</span>Создание архитекуры модели</a></span></li><li><span><a href=\"#Построение-функции-оптимизации-и-обучение-модели\" data-toc-modified-id=\"Построение-функции-оптимизации-и-обучение-модели-7.9.2\"><span class=\"toc-item-num\">7.9.2&nbsp;&nbsp;</span>Построение функции оптимизации и обучение модели</a></span></li></ul></li><li><span><a href=\"#Построение-архитектуры-модели-с-функцией-активации-softmax\" data-toc-modified-id=\"Построение-архитектуры-модели-с-функцией-активации-softmax-7.10\"><span class=\"toc-item-num\">7.10&nbsp;&nbsp;</span>Построение архитектуры модели с функцией активации <code>softmax</code></a></span><ul class=\"toc-item\"><li><span><a href=\"#Создание-архитектуры-модели\" data-toc-modified-id=\"Создание-архитектуры-модели-7.10.1\"><span class=\"toc-item-num\">7.10.1&nbsp;&nbsp;</span>Создание архитектуры модели</a></span></li><li><span><a href=\"#Построение-функции-оптимизации-и-обучение-модели\" data-toc-modified-id=\"Построение-функции-оптимизации-и-обучение-модели-7.10.2\"><span class=\"toc-item-num\">7.10.2&nbsp;&nbsp;</span>Построение функции оптимизации и обучение модели</a></span></li></ul></li><li><span><a href=\"#Выводы\" data-toc-modified-id=\"Выводы-7.11\"><span class=\"toc-item-num\">7.11&nbsp;&nbsp;</span>Выводы</a></span></li></ul></li><li><span><a href=\"#Проверка-качества-модели-на-тестовой-выборке\" data-toc-modified-id=\"Проверка-качества-модели-на-тестовой-выборке-8\"><span class=\"toc-item-num\">8&nbsp;&nbsp;</span>Проверка качества модели на тестовой выборке</a></span><ul class=\"toc-item\"><li><span><a href=\"#Анализ-результатов-работы-оптимизатора\" data-toc-modified-id=\"Анализ-результатов-работы-оптимизатора-8.1\"><span class=\"toc-item-num\">8.1&nbsp;&nbsp;</span>Анализ результатов работы оптимизатора</a></span></li><li><span><a href=\"#Рассчёт-метрик-на-лучшей-модели\" data-toc-modified-id=\"Рассчёт-метрик-на-лучшей-модели-8.2\"><span class=\"toc-item-num\">8.2&nbsp;&nbsp;</span>Рассчёт метрик на лучшей модели</a></span><ul class=\"toc-item\"><li><span><a href=\"#Рассчёт-ROC-AUC-и-accuracy\" data-toc-modified-id=\"Рассчёт-ROC-AUC-и-accuracy-8.2.1\"><span class=\"toc-item-num\">8.2.1&nbsp;&nbsp;</span>Рассчёт <code>ROC-AUC</code> и <code>accuracy</code></a></span></li><li><span><a href=\"#Построение-графика-ROC-AUC\" data-toc-modified-id=\"Построение-графика-ROC-AUC-8.2.2\"><span class=\"toc-item-num\">8.2.2&nbsp;&nbsp;</span>Построение графика <code>ROC-AUC</code></a></span></li><li><span><a href=\"#Построение-Confusion-matrix\" data-toc-modified-id=\"Построение-Confusion-matrix-8.2.3\"><span class=\"toc-item-num\">8.2.3&nbsp;&nbsp;</span>Построение <code>Confusion matrix</code></a></span></li></ul></li><li><span><a href=\"#Оценка-вклада-признаков-в-предсказание-модели\" data-toc-modified-id=\"Оценка-вклада-признаков-в-предсказание-модели-8.3\"><span class=\"toc-item-num\">8.3&nbsp;&nbsp;</span>Оценка вклада признаков в предсказание модели</a></span></li><li><span><a href=\"#Выводы\" data-toc-modified-id=\"Выводы-8.4\"><span class=\"toc-item-num\">8.4&nbsp;&nbsp;</span>Выводы</a></span></li></ul></li><li><span><a href=\"#Итоговый-вывод\" data-toc-modified-id=\"Итоговый-вывод-9\"><span class=\"toc-item-num\">9&nbsp;&nbsp;</span>Итоговый вывод</a></span></li></ul></div>"
   ]
  },
  {
   "cell_type": "markdown",
   "id": "19d4c499",
   "metadata": {},
   "source": [
    "## Описание проекта\n",
    "- Блок содержит описательную информацию о:\n",
    "    - Целях и задачах проекта\n",
    "    - Услугах заказчика\n",
    "    - Способах хранения данных\n",
    "    - Содеражании таблиц данных"
   ]
  },
  {
   "cell_type": "markdown",
   "id": "2cf81704",
   "metadata": {},
   "source": [
    "**Бизнес-задача**"
   ]
  },
  {
   "cell_type": "markdown",
   "id": "6fb53309",
   "metadata": {},
   "source": [
    "- Оператор связи «ТелеДом» борется с оттоком клиентов. \n",
    "    - Сотрудники предлагают промокоды и специальные условия клиентам, планирующим отказатья от услуг оператора.\n",
    "    - Компания хочет действовать на упреждение, предлагая обозначенные услуги клиентам, которые, вероятнее всего, откажутся в скором времени от услуг оператора.\n",
    "    - Рабочие данные содержат информацию о некоторых клиентах, их тарифах и услугах."
   ]
  },
  {
   "cell_type": "markdown",
   "id": "a1432ac0",
   "metadata": {},
   "source": [
    "### Цель"
   ]
  },
  {
   "cell_type": "markdown",
   "id": "692aa7b0",
   "metadata": {},
   "source": [
    "- Целью проекта является создание модели бинарной классификации для предсказания классов:\n",
    "    - Класс 0 или `stay`: клиент продолжит пользоваться услугами оператора\n",
    "    - Класс 1 или `leave`: клиент откажется от услуг оператора\n",
    "---\n",
    "- Метрика качества модели: `ROC-AUC`\n",
    "- Интерпретация результатов: `accuracy`, `Confusion matrix`, `TPR`, `FPR`"
   ]
  },
  {
   "cell_type": "markdown",
   "id": "647441e6",
   "metadata": {},
   "source": [
    "### Задачи"
   ]
  },
  {
   "cell_type": "markdown",
   "id": "79e042c0",
   "metadata": {},
   "source": [
    "1. **Загрузка данных**\n",
    "    - Первичный анализ данных и объединение таблиц\n",
    "---\n",
    "2. **Исследовательский анализ и предобработка данных**\n",
    "    - Исследование распределения признаков, баланса классов\n",
    "        - По отдельности и в разрезе с целевой переменной\n",
    "    - Работа с пропусками\n",
    "    - Оценка важности признаков\n",
    "    - Генерация признаков, удаление неинформативных и перобразование имеющихся признаков\n",
    "---\n",
    "3. **Подготовка данных для запуска моделей машинного обучения**\n",
    "    - Разбиение данных на тренировочную и тестовую выборки\n",
    "    - Создание пайплайна с перебором различных кодировщиков и скейлеров, выбор K-лучшых параметров\n",
    "    - Подготовка словарей с диапазонами перебора различных гиперпараметров моделей\n",
    "---\n",
    "4. **Обучение моделей машинного обучения**\n",
    "    - Создание объекта скоринга для одновременного расчёта: 1: `ROC-AUC`, 2: `accuracy`\n",
    "    - Обучение различных моделей машинного обучения на кросс валидации\n",
    "    - Выбор лучшей модели на тренировочных данных\n",
    "---\n",
    "5. **Проверка качества модели на тестовой выборке**\n",
    "    - Интерпретация вклада признаков в предсказание модели\n",
    "    - Построение и описание графика `ROC-AUС` с помощью `TPR`, `FPR`, построение и описание `Confusion matrix`\n",
    "---\n",
    "6. **Оформление итогового вывода**\n",
    "    - Описание проделанной работы, возникших при работе с данными проблем и путях их решения\n",
    "    - Описание выбранной модели и вклада признаков\n",
    "    - Формирование рекомендаций заказчику"
   ]
  },
  {
   "cell_type": "markdown",
   "id": "52a28048",
   "metadata": {},
   "source": [
    "### Описание данных"
   ]
  },
  {
   "cell_type": "markdown",
   "id": "09e5134e",
   "metadata": {},
   "source": [
    "#### Хранение"
   ]
  },
  {
   "cell_type": "markdown",
   "id": "1e38bd79",
   "metadata": {},
   "source": [
    "- Данные состоят из нескольких файлов, полученных из разных источников:\n",
    "    - `contract_new.csv` — информация о договоре\n",
    "    - `personal_new.csv` — персональные данные клиента\n",
    "    - `internet_new.csv` — информация об интернет-услугах\n",
    "    - `phone_new.csv` — информация об услугах телефонии"
   ]
  },
  {
   "cell_type": "markdown",
   "id": "d7b2fdd4",
   "metadata": {},
   "source": [
    "**Файл `contract_new.csv`**\n",
    "- customerID — идентификатор абонента\n",
    "- BeginDate — дата начала действия договора\n",
    "- EndDate — дата окончания действия договора\n",
    "- Type — тип оплаты: раз в год-два или ежемесячно\n",
    "- PaperlessBilling — электронный расчётный лист\n",
    "- PaymentMethod — тип платежа\n",
    "- MonthlyCharges — расходы за месяц\n",
    "- TotalCharges — общие расходы абонента"
   ]
  },
  {
   "cell_type": "markdown",
   "id": "e15f6ef4",
   "metadata": {},
   "source": [
    "**Файл `personal_new.csv`**\n",
    "- customerID — идентификатор пользователя\n",
    "- gender — пол\n",
    "- SeniorCitizen — является ли абонент пенсионером\n",
    "- Partner — есть ли у абонента супруг или супруга\n",
    "- Dependents — есть ли у абонента дети"
   ]
  },
  {
   "cell_type": "markdown",
   "id": "0d8d370b",
   "metadata": {},
   "source": [
    "**Файл `internet_new.csv`**\n",
    "- customerID — идентификатор пользователя\n",
    "- InternetService — тип подключения\n",
    "- OnlineSecurity — блокировка опасных сайтов\n",
    "- OnlineBackup — облачное хранилище файлов для резервного копирования данных\n",
    "- DeviceProtection — антивирус\n",
    "- TechSupport — выделенная линия технической поддержки\n",
    "- StreamingTV — стриминговое телевидение\n",
    "- StreamingMovies — каталог фильмов"
   ]
  },
  {
   "cell_type": "markdown",
   "id": "fd188b83",
   "metadata": {},
   "source": [
    "**Файл `phone_new.csv`**\n",
    "- customerID — идентификатор пользователя\n",
    "- MultipleLines — подключение телефона к нескольким линиям одновременно\n"
   ]
  },
  {
   "cell_type": "markdown",
   "id": "154a0709",
   "metadata": {},
   "source": [
    "#### Описание оказываемых услуг"
   ]
  },
  {
   "cell_type": "markdown",
   "id": "257838f0",
   "metadata": {},
   "source": [
    "**Важно помнить:**\n",
    "- Во всех файлах столбец `customerID` содержит код клиента\n",
    "- Информация о договорах актуальна на `1 февраля 2020 года`\n",
    "- Способы оплаты:\n",
    "    - помесячно\n",
    "    - договор на 1-2 года\n",
    "- Оплата возможна различными способами\n",
    "    - Клиент толжен получить электронный чекЭ\n",
    "---\n",
    "**Основные услуги:**\n",
    "- Стационарную телефонную связь\n",
    "    - Телефон можно подключить к нескольким линиям одновременно\n",
    "- Интернет\n",
    "    - Подключение может быть двух типов:\n",
    "        - через телефонную линию (`DSL`, от англ. digital subscriber line — «цифровая абонентская линия»)\n",
    "        - оптоволоконный кабель (`Fiber optic`).\n",
    "---\n",
    "**Дополнительные услуги:**\n",
    "- Интернет-безопасность:\n",
    "    - антивирус (`DeviceProtection`)\n",
    "    - блокировка небезопасных сайтов (`OnlineSecurity`)\n",
    "- Выделенная линия технической поддержки (`TechSupport`)\n",
    "- Облачное хранилище файлов для резервного копирования данных (`OnlineBackup`)\n",
    "- Стриминговое телевидение (`StreamingTV`) и каталог фильмов (`StreamingMovies`)"
   ]
  },
  {
   "cell_type": "markdown",
   "id": "d8b79227",
   "metadata": {},
   "source": [
    "## Подготовка к работе"
   ]
  },
  {
   "cell_type": "markdown",
   "id": "ecf3e9c5",
   "metadata": {},
   "source": [
    "### Загрузка/обновление библиотек"
   ]
  },
  {
   "cell_type": "code",
   "execution_count": null,
   "id": "aab3d46d",
   "metadata": {},
   "outputs": [],
   "source": [
    "# Если не установить, то ничего не посчитается\n",
    "!pip install phik -q\n",
    "!pip install optuna-integration[sklearn] -q\n",
    "!pip install optuna -q\n",
    "\n",
    "# Устанавливаем более новую версию библиотеи для отображения чисел на heatmap\n",
    "!pip install plotly==5.6.0 -q\n",
    "\n",
    "# Если не обновить, поломается расчёт\n",
    "!pip install --upgrade lightgbm -q\n",
    "!pip install -q -U scikit-learn\n",
    "\n",
    "# Визуализация вклада признаков\n",
    "!pip install shap -q"
   ]
  },
  {
   "cell_type": "markdown",
   "id": "459618c8",
   "metadata": {},
   "source": [
    "### Импорты библиотек"
   ]
  },
  {
   "cell_type": "code",
   "execution_count": null,
   "id": "ce113192",
   "metadata": {},
   "outputs": [],
   "source": [
    "# Графики, корреляция, оптимизация\n",
    "import plotly\n",
    "import phik\n",
    "import optuna\n",
    "import shap\n",
    "\n",
    "# Работа с данными в формате фреймо, и тензоров, мат. расчёты над ними\n",
    "import pandas as pd\n",
    "import numpy as np\n",
    "import tensorflow as tf\n",
    "\n",
    "# Работа с графиками через графические объекты и цветовый палитры\n",
    "import plotly.graph_objs as go\n",
    "import matplotlib.pyplot as plt\n",
    "import matplotlib.cm as cm\n",
    "import matplotlib.colors as mcolors\n",
    "\n",
    "# Построение нормальной апроксимации\n",
    "from scipy import stats\n",
    "from scipy.stats import gaussian_kde\n",
    "# Аннотация типов\n",
    "from typing import Optional, Any, Set\n",
    "# Расчёт времени выполнения кода\n",
    "from tqdm import tqdm\n",
    "# Используем построение графиков рядом\n",
    "from plotly.subplots import make_subplots\n",
    "\n",
    "# sk-learn\n",
    "# Разделение на выборки\n",
    "from sklearn.model_selection import train_test_split\n",
    "# Создание пайплайна\n",
    "from sklearn.pipeline import Pipeline\n",
    "from sklearn.compose import ColumnTransformer\n",
    "# Кодировщики и скейлеры\n",
    "from sklearn.impute import SimpleImputer\n",
    "from sklearn.preprocessing import (\n",
    "    OneHotEncoder,\n",
    "    OrdinalEncoder,\n",
    "    LabelEncoder,\n",
    "    StandardScaler,\n",
    "    MinMaxScaler,\n",
    "    RobustScaler\n",
    ")\n",
    "# Импортируем базовые классы sklearn\n",
    "from sklearn.base import BaseEstimator, TransformerMixin\n",
    "# Импортируем функцию для отбора признаков\n",
    "from sklearn.feature_selection import SelectKBest\n",
    "# Импортируем алгоритм выбора лучших признаков\n",
    "from sklearn.feature_selection import mutual_info_classif\n",
    "# Метрики качества\n",
    "from sklearn.metrics import make_scorer, accuracy_score, roc_auc_score\n",
    "from sklearn.metrics import roc_curve\n",
    "from sklearn.metrics import confusion_matrix\n",
    "# Предсказание на кросс-валидации\n",
    "from sklearn.model_selection import cross_val_predict\n",
    "# Создание стратифицированных фолдов\n",
    "from sklearn.model_selection import StratifiedKFold\n",
    "# Взвешивание классов\n",
    "from sklearn.utils.class_weight import compute_class_weight\n",
    "\n",
    "# Модели\n",
    "from sklearn.linear_model import LogisticRegression\n",
    "from sklearn.svm import SVC\n",
    "from sklearn.neighbors import KNeighborsClassifier\n",
    "from sklearn.tree import DecisionTreeClassifier\n",
    "from sklearn.ensemble import (\n",
    "    RandomForestClassifier,\n",
    "    GradientBoostingClassifier\n",
    ")\n",
    "\n",
    "# Модели из других библиотек\n",
    "from catboost import CatBoostClassifier\n",
    "from lightgbm import LGBMClassifier\n",
    "\n",
    "# Optuna\n",
    "# Оптимизатор гиперпараметров\n",
    "from optuna.integration import OptunaSearchCV\n",
    "# Создание распределений признаков\n",
    "from optuna.distributions import (\n",
    "    FloatDistribution,\n",
    "    IntDistribution,\n",
    "    CategoricalDistribution\n",
    ")\n",
    "# Визуализация лптимизации\n",
    "import optuna.visualization as vis\n",
    "\n",
    "# Построение нейронной сети\n",
    "# Последовательная модель\n",
    "from tensorflow.keras.models import Sequential\n",
    "# Полносвязный слой, отключение нейронов, нормализации\n",
    "from tensorflow.keras.layers import Dense, Dropout, BatchNormalization\n",
    "# Алгоритм поиска экстремума\n",
    "from tensorflow.keras.optimizers import Adam\n",
    "# Параметры ранней остановки\n",
    "from tensorflow.keras.callbacks import EarlyStopping\n",
    "# Размерность входного слоя\n",
    "from tensorflow.keras.layers import Input\n",
    "# One-hot кодировка бинарной фичи для softmax\n",
    "from tensorflow.keras.utils import to_categorical\n",
    "\n",
    "# Устанавливаем формат вывода пользовательских предупреждений\n",
    "import warnings\n",
    "warnings.filterwarnings(\"ignore\")"
   ]
  },
  {
   "cell_type": "markdown",
   "id": "45c96bf5",
   "metadata": {},
   "source": [
    "### Используемые функции"
   ]
  },
  {
   "cell_type": "markdown",
   "id": "5f13ae55",
   "metadata": {},
   "source": [
    "#### Построение графика `bar`"
   ]
  },
  {
   "cell_type": "code",
   "execution_count": null,
   "id": "6d2ac5bf",
   "metadata": {},
   "outputs": [],
   "source": [
    "def get_bar(\n",
    "    data: pd.Series,\n",
    "    title: str,\n",
    "    x_title: str,\n",
    "    y_title: str,\n",
    "    low_bound: Optional[float]=0,\n",
    "    up_bound: Optional[float]=None,\n",
    "    percentage: Optional[bool]=True,\n",
    "    cmap_obj: Optional[str]='coolwarm'\n",
    ") -> None:\n",
    "    \"\"\"Функция строит интерактивные барплоты.\n",
    "    \n",
    "    Функция строит барплоты по количеству строк в переданном объекте.\n",
    "    Функция может присвоить барам цвет различных оттенков из cmap\n",
    "    Функция может отображать как абсолютные величины, так и относительные\n",
    "    \n",
    "    Особенности:\n",
    "        Для работы необходимы следующие импорты: import matplotlib.cm as cm\n",
    "                                                 import matplotlib.colors as mcolors\n",
    "        Входязий объект data должен быть вида: каждый индекс - это группа,\n",
    "            каждое значение индекса - это высота бара\n",
    "            \n",
    "    Аргументы:\n",
    "        data: Объект, который содержит информацию о группах (индексы) и соответствущих им значениях\n",
    "        title: Название графика\n",
    "        x_title: Название оси абсцисс\n",
    "        y_title: Название оси ординат\n",
    "        low_bound: Нижняя граница отображения. Может быть выражена как в %, так и в абсолютных величинах\n",
    "        up_bound: Верхняя граница отображения. Может быть выражена как в %, так и в абсолютных величинах\n",
    "        percentage: Булевый параметр, обозначающий отображение % или абсолютных величин\n",
    "        cmap_obj: Название палитры cmap\n",
    "    \n",
    "    Ошибки:\n",
    "        Если индексы представлены неупорядоченными числами, которые и/или больше длины передаваемого массива,\n",
    "            то для корректной работы нужно привести эти индексы к типу object\n",
    "        Указана неверная палитра cmap\n",
    "        Передан data неподходящего формата\n",
    "            \n",
    "    \"\"\"\n",
    "    \n",
    "    # Создаём фигуру\n",
    "    fig = go.Figure()\n",
    "    # Задаём границы отображения по ординате\n",
    "    if up_bound == None and percentage:\n",
    "        up_bound = data.max() / data.sum() * 100 +5\n",
    "    elif up_bound == None and ~percentage:\n",
    "        up_bound = data.max() + 0.1 * data.max()\n",
    "    fig.update_yaxes(range=[low_bound, up_bound])\n",
    "    \n",
    "    # Если числа представлены в виде категорий, то может быть нарушена логика обращения к элементу по индексу\n",
    "    # В том случае, если индекс первого элемента не равен 0\n",
    "    # Работает только для категорий типа (1, 2, 3, 4), не работает для (1, 3, 4, 5)\n",
    "    if data.index.dtype != 'O':\n",
    "        range_list = list(data.index)\n",
    "    else:\n",
    "        range_list = list(data.index)\n",
    "    \n",
    "    \n",
    "    # Создаём список используемых цветов\n",
    "    # Вычлиняем параметры выбранной палитры\n",
    "    cmap = getattr(cm, cmap_obj) \n",
    "    # Определяем необходимое количество оттенков для отображения (по количеству баров)\n",
    "    num_colors = len(range_list)    \n",
    "\n",
    "    # Делим отрезок [0:1] на количество категорий\n",
    "    # 0-й категории присвоится 1-й цвет палитры, последней категории - последний цвет палитры\n",
    "    colors_rgb = [cmap(i/num_colors) for i in range(num_colors)]\n",
    "\n",
    "    # Преобразуем RGB параметры в пантонный номер оттенка. Прозрачность не учитываем\n",
    "    colors = [mcolors.rgb2hex(color[:3]) for color in colors_rgb]\n",
    "    \n",
    "   \n",
    "    # Отображаем N графиков, где N количество численных столбцов в data\n",
    "    # Это нужно, чтобы корректно присваивалось название категории для обоих случаев типа индексов\n",
    "    for category_number, char in enumerate(range_list):\n",
    "        # Добавляем условие для отображения либо процентов либо абсолюта\n",
    "        if percentage:\n",
    "            y = [data[char]/data.sum()*100]\n",
    "            temp = 'Группа: %{data.name}<br>Доля: %{y} %'\n",
    "        else:\n",
    "            y = [data[char]]\n",
    "            temp = 'Группа: %{data.name}<br>Количество: %{y}'\n",
    "        # Добавляем на фигуру бары по очереди\n",
    "        fig.add_trace(\n",
    "            go.Bar(\n",
    "                y=y,\n",
    "                x=[char],\n",
    "                marker_line_color='black', \n",
    "                marker_line_width=0.7,\n",
    "                name=list(data.index)[category_number], \n",
    "                hovertemplate=temp,\n",
    "                marker_color=colors[category_number]\n",
    "            )\n",
    "        )\n",
    "        #category_number += 1\n",
    "    # Добавляем название графика и осей, форматируем края фигуры, ориентацию легенты и её положение\n",
    "    fig.update_layout(\n",
    "        title=dict(\n",
    "            text=title,\n",
    "            x=0.5,\n",
    "            xanchor='center'\n",
    "        ),\n",
    "        xaxis_title=x_title,\n",
    "        yaxis_title=y_title,\n",
    "        margin=dict(l=30, r=10, t=50, b=30),\n",
    "        legend_orientation=\"h\",\n",
    "        legend=dict(x=.5, xanchor=\"center\"),\n",
    "        #bargap=0\n",
    "    )\n",
    "    # Отображаем график\n",
    "    fig.show()"
   ]
  },
  {
   "cell_type": "markdown",
   "id": "1c85f2a8",
   "metadata": {},
   "source": [
    "#### `bar` в разрезе выбранного признака "
   ]
  },
  {
   "cell_type": "code",
   "execution_count": null,
   "id": "532c3b19",
   "metadata": {},
   "outputs": [],
   "source": [
    "def get_double_trouble_bar(data,\n",
    "                           title,\n",
    "                           x_title,\n",
    "                           y_title,\n",
    "                           low_bound,\n",
    "                           up_bound,\n",
    "                           color_delimiter='yes',\n",
    "                           percentage=True,\n",
    "                           vertical_counting=False,\n",
    "                          ):\n",
    "    \n",
    "    # Создаём фигуру\n",
    "    fig = go.Figure()\n",
    "    # Данные сгруппированы по объёму групп интересующей переменной * 2 пройдёмся по каждому отдельно \n",
    "    for first in data.index.levels[0]:\n",
    "        for second in data.index.levels[1]:\n",
    "            \n",
    "            # Условия цветовой маркировки\n",
    "            # Если не получается разделить по цвету - проверь очерёдность группировки\n",
    "            if second == color_delimiter:\n",
    "                color = '#047495'\n",
    "            else:\n",
    "                color = '#952504'\n",
    "\n",
    "            # Названия групп\n",
    "            x_tick = [f'{first}<br>{second}']\n",
    "\n",
    "            # Считаем горизонтальную и вертикальную суммы по группам\n",
    "            horizontal_sum = data.loc[first, :].sum()\n",
    "            vertical_sum = data.loc[:, second].sum()\n",
    "            \n",
    "            # определяем что отображать: процента или абслолют\n",
    "            if percentage:\n",
    "                # Если нужна вертикальная сумма\n",
    "                if vertical_counting:\n",
    "                    y = [data.loc[first, second] / vertical_sum * 100]\n",
    "                # Если нужна горизонтальная сумма\n",
    "                else:\n",
    "                    y = [data.loc[first, second] / horizontal_sum * 100]\n",
    "                temp = 'Группа: %{x}<br>%{data.name}: %{y} %'\n",
    "            else:\n",
    "                y = [data.loc[first, second]]\n",
    "                temp = 'Группа: %{x}<br>%{data.name}: %{y}'\n",
    "\n",
    "            # Отрисовка столбца\n",
    "            fig.add_trace(\n",
    "                go.Bar(\n",
    "                    y=y,\n",
    "                    x=x_tick,\n",
    "                    marker_line_color='black', \n",
    "                    marker_line_width=0.7,\n",
    "                    name=second,\n",
    "                    hovertemplate=temp,\n",
    "                    marker_color=color\n",
    "                )\n",
    "            )\n",
    "        \n",
    "    # Задаём границы отображения по ординате\n",
    "    fig.update_yaxes(range=[low_bound, up_bound])\n",
    "    \n",
    "    # Добавляем название графика и осей, форматируем края фигуры, ориентацию легенты и её положение\n",
    "    fig.update_layout(\n",
    "        title=dict(\n",
    "            text=title,\n",
    "            x=0.5,\n",
    "            xanchor='center'\n",
    "        ),\n",
    "        xaxis_title=x_title,\n",
    "        yaxis_title=y_title,\n",
    "        margin=dict(l=30, r=10, t=50, b=30),\n",
    "        showlegend=False\n",
    "    )\n",
    "    # Отображаем график\n",
    "    fig.show()"
   ]
  },
  {
   "cell_type": "markdown",
   "id": "51318400",
   "metadata": {},
   "source": [
    "#### Построение графика `hist`"
   ]
  },
  {
   "cell_type": "code",
   "execution_count": null,
   "id": "117b413e",
   "metadata": {},
   "outputs": [],
   "source": [
    "def get_hist(\n",
    "    data: pd.Series,\n",
    "    title: str,\n",
    "    x_title: str,\n",
    "    y_title: str,\n",
    "    bins: Optional[int]=None,\n",
    "    lr: Optional[bool]=False,\n",
    "    poisson: Optional[bool]=False\n",
    ") -> None:\n",
    "    \"\"\"Строит интерактивную гистограмму.  \n",
    "\n",
    "    Эта функция строит гистограмму плотности распределения передаваемого признака.\n",
    "    Опционально можно наложить на гистограмму график теоретического нормального распределения\n",
    "    и распределения Пуассона.\n",
    "    Графики теоретических распределений строятся на основании параметров\n",
    "    распределения передваемого признака.\n",
    "\n",
    "    Аргументы:\n",
    "        data: Список значений для отображения\n",
    "        bins: Размер блоков для разбиения\n",
    "        title: Название графика\n",
    "        x_title: Название оси абсцисс\n",
    "        y_title: Название оси ординат\n",
    "        lr: Указатель на необходимость отображения нормальной апроксимации\n",
    "        poisson: Указатель на необходимость отображения апроксимации Пуассона\n",
    "\n",
    "    Ошибки: \n",
    "        TypeError: Если не соблюсти передаваемые типы данных.\n",
    "        RuntimeError: Если передаётся несколько десятков тысяч строк. Зависит от Jypiter.\n",
    "    \"\"\" \n",
    "    # Создаём нормальное распределпние на основе данных выборки\n",
    "    normal_dist = stats.norm(loc=np.mean(data), scale=np.std(data))\n",
    "    # Генерируем случайные сисла из полученного распределения\n",
    "    x_norm = np.linspace(normal_dist.ppf(0.001), normal_dist.ppf(0.999), len(data))\n",
    "    # Создаём фигуру\n",
    "    fig = go.Figure()\n",
    "    # Добавляем на фигуру гистограмму плотности вероятности\n",
    "    fig.add_trace(\n",
    "        go.Histogram(\n",
    "            x=data,\n",
    "            marker_color='#047495', \n",
    "            marker_line_color='black', \n",
    "            marker_line_width=0.7,\n",
    "            nbinsx=bins,\n",
    "            histnorm='probability density',\n",
    "            name=data.name,\n",
    "            hovertemplate='%{data.name}: %{x}<br>Плотность вероятности: %{y}',\n",
    "        )\n",
    "    )\n",
    "   \n",
    "    # В случае, если нужна апроксимация распределения Пуассона\n",
    "    if poisson:\n",
    "        # Создаём распределение Пуассона на основании данных из выборки\n",
    "        poisson_dist = stats.poisson(np.mean(data))\n",
    "        # Генерируем числа из полученного распределения\n",
    "        x_poisson = np.linspace(poisson_dist.ppf(0.001), poisson_dist.ppf(0.999), len(data))\n",
    "        # Добавляем на фигуру нормальный график плотности распределения для исследуемой выборки\n",
    "        fig.add_trace(\n",
    "            go.Scatter(\n",
    "                x=x_poisson,\n",
    "                y=poisson_dist.pmf(x_poisson), # Рассчитываем вероятности\n",
    "                name='poisson_dist',\n",
    "                marker_color='#000000',\n",
    "                hovertemplate='%{data.name}: %{x}<br>Плотность вероятности: %{y}',\n",
    "            )\n",
    "        )\n",
    "    # Отображается только есил lr истинно\n",
    "    # Отображает среднее значение выборки и нулевую линию на гистограмме\n",
    "    # Максимумом по ординате берётся максимальное значение функции плотности вероятности\n",
    "    if lr:\n",
    "        # Получение максимального значения плотности вероятности\n",
    "        max_prob_density = max(normal_dist.pdf(x_norm))\n",
    "        # Отобразим вертикальную линию, отражающую положение среднего значения выборки\n",
    "        fig.add_trace(\n",
    "            go.Scatter(\n",
    "                x=[np.mean(data), np.mean(data)],\n",
    "                y=[0, max_prob_density],\n",
    "                name='Среднее значение',\n",
    "                marker_color='#feffca',\n",
    "                hovertemplate=f'Среднее знчение:{round(np.mean(data), 2)}',\n",
    "            )\n",
    "        )\n",
    "        # Добавляем на фигуру нормальный график плотности распределения для исследуемой выборки\n",
    "        fig.add_trace(\n",
    "            go.Scatter(\n",
    "                x=x_norm,\n",
    "                y=normal_dist.pdf(x_norm),\n",
    "                name='normal_dist',\n",
    "                marker_color='#d90166',\n",
    "                hovertemplate='%{data.name}: %{x}<br>Плотность вероятности: %{y}',\n",
    "            )\n",
    "        )\n",
    "    # Добавляем название графика и осей, форматируем края фигуры, ориентацию легенты и её положение\n",
    "    fig.update_layout(\n",
    "        title=dict(\n",
    "            text=title,\n",
    "            x=0.5,\n",
    "            xanchor='center'\n",
    "        ),\n",
    "        xaxis_title=x_title,\n",
    "        yaxis_title=y_title,\n",
    "        margin=dict(l=30, r=10, t=30, b=30),\n",
    "        legend_orientation=\"h\",\n",
    "        legend=dict(x=.5, xanchor=\"center\"),\n",
    "    )\n",
    "    # Отображаем график\n",
    "    fig.show()"
   ]
  },
  {
   "cell_type": "markdown",
   "id": "8ee14735",
   "metadata": {},
   "source": [
    "####  `hist` в разрезе выбранного признака"
   ]
  },
  {
   "cell_type": "code",
   "execution_count": null,
   "id": "e704ca0a",
   "metadata": {},
   "outputs": [],
   "source": [
    "def get_double_trouble_hist(data, values,  bins, title, x_title, y_title, lr=False, group_by_what='activity'):\n",
    "    # Создаём список групп\n",
    "    groups = data[group_by_what].unique()\n",
    "    count = 0\n",
    "    colors = ['#047495', '#952504', '#5c8b15', '#000000']\n",
    "    # Создаём фигуру\n",
    "    fig = go.Figure()\n",
    "    for group in groups:\n",
    "        data_g = data[data[group_by_what] == group]\n",
    "        data_g = data_g[values]\n",
    "        # Создаём нормальное распределпние на основе данных выборки\n",
    "        normal_dist = stats.norm(loc=np.mean(data_g), scale=np.std(data_g))\n",
    "        # Генерируем случайные сисла из полученного распределения\n",
    "        x_norm = np.linspace(normal_dist.ppf(0.001), normal_dist.ppf(0.999), len(data_g))\n",
    "        # Добавляем на фигуру гистограмму плотности вероятности\n",
    "        fig.add_trace(\n",
    "            go.Histogram(\n",
    "                x=data_g,\n",
    "                marker_color=colors[count], \n",
    "                marker_line_color='black', \n",
    "                marker_line_width=0.7,\n",
    "                nbinsx=bins,\n",
    "                histnorm='probability density',\n",
    "                name=group,\n",
    "                hovertemplate='%{data.name}: %{x}<br>Плотность вероятности: %{y}'\n",
    "            )\n",
    "        )\n",
    "        \n",
    "        # Добавляем на фигуру нормальный график плотности распределения для исследуемой выборки\n",
    "        fig.add_trace(\n",
    "            go.Scatter(\n",
    "                x=x_norm,\n",
    "                y=normal_dist.pdf(x_norm),\n",
    "                name='normal_dist',\n",
    "                marker_color=colors[count],\n",
    "                hovertemplate='%{data.name}: %{x}<br>Плотность вероятности: %{y}',\n",
    "            )\n",
    "        )\n",
    "        \n",
    "        # Отображается только есил lr истинно\n",
    "        # Отображает среднее значение выборки и нулевую линию на гистограмме\n",
    "        # Максимумом по ординате берётся максимальное значение функции плотности вероятности\n",
    "        if lr and len(x_norm) != 0:\n",
    "            # Получение максимального значения плотности вероятности\n",
    "            max_prob_density = max(normal_dist.pdf(x_norm))\n",
    "            # Отобразим вертикальную линию, отражающую положение среднего значения выборки\n",
    "            fig.add_trace(\n",
    "                go.Scatter(\n",
    "                    x=[np.mean(data_g), np.mean(data_g)],\n",
    "                    y=[0, max_prob_density],\n",
    "                    name='Среднее значение',\n",
    "                    marker_color='#feffca',\n",
    "                    hovertemplate=f'Среднее знчение:{round(np.mean(data_g), 2)}',\n",
    "                )\n",
    "            )\n",
    "        count +=1\n",
    "    # Добавляем название графика и осей, форматируем края фигуры, ориентацию легенты и её положение\n",
    "    fig.update_layout(\n",
    "        title=dict(\n",
    "            text=title,\n",
    "            x=0.5,\n",
    "            xanchor='center'\n",
    "        ),\n",
    "        xaxis_title=x_title,\n",
    "        yaxis_title=y_title,\n",
    "        margin=dict(l=30, r=10, t=60, b=30),\n",
    "        legend_orientation=\"h\",\n",
    "        legend=dict(x=.5, xanchor=\"center\"),\n",
    "    )\n",
    "    # Отображаем график\n",
    "    fig.show()"
   ]
  },
  {
   "cell_type": "markdown",
   "id": "0f31d68a",
   "metadata": {},
   "source": [
    "#### Построение графика `heatmap`"
   ]
  },
  {
   "cell_type": "code",
   "execution_count": null,
   "id": "819ae01a",
   "metadata": {},
   "outputs": [],
   "source": [
    "def get_corr_heatmap(\n",
    "    data: pd.DataFrame,\n",
    "    title: str,\n",
    "    how: Optional[str]='corr',\n",
    "    x_title: Optional[str]=None,\n",
    "    y_title: Optional[str]=None,\n",
    "    how_many_times: Optional[int]=20\n",
    ") -> None:\n",
    "    \"\"\"Строит тепловую карту корреляций признаков.  \n",
    "    \n",
    "    Эта функция строит тепловую карту корреляций методом Пирсона или phik.\n",
    "    \n",
    "    Аргументы:\n",
    "        data: Данные, для которых рассчитывается к-т корреляции\n",
    "        title: Название графика\n",
    "        how: Определяет тип к-та корреляции. Доступны опции: `corr` или `phik`\n",
    "        x_title: Название оси абсцисс\n",
    "        y_title: Название оси ординат\n",
    "        how_many_times: Как много уникальных значений нужно для приведения типа категорий к численному\n",
    "        \n",
    "    Ошибки: \n",
    "        ValueError: Если присвоить how значение не из доступных опций или любым другим значения неверный тип.\n",
    "        RuntimeError: Если передаётся несколько сотен тысяч строк. Зависит от Jypiter.\n",
    "    \"\"\" \n",
    "    # Если количество уникальных значений в численных столбцах больше, чем how_many_times\n",
    "    # То определяем, что этот столбец нужно преобразовать в интервалы для рассчёта phik\n",
    "    interval_cols = list()\n",
    "    for columns in data.select_dtypes(include='number').columns:\n",
    "        if data[columns].nunique() >= how_many_times:\n",
    "            interval_cols.append(columns)\n",
    "    # Обрабатываем неверное заполнение how\n",
    "    # Если переданно неверное имя, вызывается метод Пирсона\n",
    "    try:\n",
    "        # Ищем линейную корреляцию\n",
    "        if how == 'corr':\n",
    "            corr_data = data.corr().to_dict(orient='split')\n",
    "        # Ищем любую корреляцию\n",
    "        elif how == 'phik':\n",
    "            corr_data = data.phik_matrix(interval_cols=interval_cols).to_dict(orient='split')\n",
    "        else:\n",
    "            raise ValueError(f'Неподдерживаемое значение how: \"{how}\"')\n",
    "    except:\n",
    "        corr_data = data.corr().to_dict(orient='split')\n",
    "    if plotly.__version__ == '5.6.0':\n",
    "        # Строим тепловую карту\n",
    "        fig = go.Figure(\n",
    "            data=go.Heatmap(\n",
    "                z=corr_data['data'],\n",
    "                x=corr_data['index'],  \n",
    "                y=corr_data['columns'], \n",
    "                colorscale=[[0, '#fffe7a'], [1, '#06470c']],\n",
    "                colorbar=dict(title='К-т'),\n",
    "                text=np.round(corr_data['data'], decimals=3),\n",
    "                texttemplate = '%{text}',\n",
    "                hovertemplate='Параметр: %{x}<br>Парметр: %{y}<br>К-т кореляции: %{z}'\n",
    "            )\n",
    "        )\n",
    "    else:\n",
    "        # Строим тепловую карту\n",
    "        fig = go.Figure(\n",
    "            data=go.Heatmap(\n",
    "                z=corr_data['data'],\n",
    "                x=corr_data['index'],  \n",
    "                y=corr_data['columns'], \n",
    "                colorscale=[[0, '#fffe7a'], [1, '#06470c']],\n",
    "                colorbar=dict(title='К-т'),\n",
    "            )\n",
    "        )\n",
    "     # Задаём параметры отображения подписенй и легенды\n",
    "    fig.update_layout(\n",
    "        title=dict(\n",
    "            text=title,\n",
    "            x=0.5,\n",
    "            xanchor='center'\n",
    "        ),\n",
    "        margin=dict(l=30, r=10, t=60, b=30),\n",
    "        legend_orientation=\"h\",\n",
    "        legend=dict(x=.5, xanchor=\"center\"),\n",
    "        xaxis=dict(title_font_size=10, tickfont_size=8),\n",
    "        yaxis=dict(title_font_size=10, tickfont_size=8)\n",
    "    )\n",
    "    # Отображаем график\n",
    "    fig.show()"
   ]
  },
  {
   "cell_type": "markdown",
   "id": "5ecc2639",
   "metadata": {},
   "source": [
    "#### Отбор мультиколлинеарных и малозначимых признаков"
   ]
  },
  {
   "cell_type": "code",
   "execution_count": null,
   "id": "a3651e52",
   "metadata": {},
   "outputs": [],
   "source": [
    "def drop_corr_exog_factors(\n",
    "    data: pd.DataFrame,\n",
    "    r_max: float,\n",
    "    r_min: float,\n",
    "    target: str,\n",
    "    how: str,\n",
    "    how_many_times: int=20\n",
    ") -> Set:\n",
    "    \"\"\" Функция отбирает признаки, которые коррелируют с таргетом ниже и выше опредёленного порога\n",
    "    \n",
    "    Если к-т корреляции ниже r_min, то признак добавляется в список\n",
    "    Если признаки коллинеарны друг другу выше, чем на r_max, то в список добавляется тот, который меньше коррелирует\n",
    "        с target\n",
    "        \n",
    "    Аргументы:\n",
    "        data: фрейм данных для рассчёта к-тов корреляции\n",
    "        r_max: верхний порог для коллинеарных факторов\n",
    "        r_min: нижний порог значения к-та корреляции, по отношению к таргету\n",
    "        target: целевая переменная\n",
    "        how: способ рассчёта к-та корреляции. ``phik`` или ``corr``\n",
    "        how_many_times: Количество уникальных значений признаков, при достижении которого фича добавляется как интервальная\n",
    "        \n",
    "    Особенности:\n",
    "        Если не указан или неверно указан how, то рассчитывается к-т корреляции Пирсона\n",
    "        \n",
    "    Ошибки:\n",
    "        Если неверно указан какой-либо из параметров или переданы данные в формате datetime\n",
    "    \"\"\"\n",
    "    correlated_features = set()\n",
    "    # Если количество уникальных значений в численных столбцах больше, чем how_many_times\n",
    "    # То определяем, что этот столбец нужно преобразовать в интервалы для рассчёта phik\n",
    "    interval_cols = list()\n",
    "    for columns in data.select_dtypes(include='number').columns:\n",
    "        if data[columns].nunique() >= how_many_times:\n",
    "            interval_cols.append(columns)\n",
    "    # Обрабатываем неверное заполнение how\n",
    "    # Если переданно неверное имя, вызывается метод Пирсона\n",
    "    try:\n",
    "        # Ищем линейную корреляцию\n",
    "        if how == 'corr':\n",
    "            corr_matrix = data.corr()\n",
    "        # Ищем любую корреляцию\n",
    "        elif how == 'phik':\n",
    "            corr_matrix = data.phik_matrix(interval_cols=interval_cols)\n",
    "        else:\n",
    "            raise ValueError(f'Неподдерживаемое значение how: \"{how}\"')\n",
    "    except:\n",
    "        corr_matrix = data.corr()\n",
    "        \n",
    "    # Проверяем условие для нижнего порога\n",
    "    # Для этой проверки нужна только одна строка признаков в корреляции с target\n",
    "    for col in data.columns:\n",
    "        # Даже если сюда попадёт target в качестве col - код его не запишет в список\n",
    "        # Ттак как корреляция признака с самим собой равна 1\n",
    "        # Здесь потом можно добавить проверку на корректоность ввода r_min\n",
    "        if abs(corr_matrix[target][col]) < r_min:\n",
    "            correlated_features.add(col)\n",
    "    # Проходимся по матрице корреляций\n",
    "    for i in range(len(corr_matrix.columns)):\n",
    "        # Просматриваем только верхний треугольник\n",
    "        for j in range(i):\n",
    "            col_i = corr_matrix.columns[i]\n",
    "            col_j = corr_matrix.columns[j]\n",
    "            # Добавляем условие, при котором target точно не попадёт в список удаления\n",
    "            # Таким образом просмотрим только взаимную корреляцию признаков без таргета\n",
    "            if col_i == target or col_j == target:\n",
    "                continue\n",
    "            # Если порог больше r_max\n",
    "            if abs(corr_matrix.iloc[i, j]) > r_max:\n",
    "                # Если корреляция j-го признака с таргетом больше или равна\n",
    "                # корреляции i-го признака с таргетом, то в стоп лист добавляем i-й признак\n",
    "                if abs(corr_matrix[target][col_j]) >= abs(corr_matrix[target][col_i]):\n",
    "                    correlated_features.add(col_i)\n",
    "                # иначе добавляем j-й\n",
    "                else:\n",
    "                    correlated_features.add(col_j)\n",
    "    return correlated_features"
   ]
  },
  {
   "cell_type": "markdown",
   "id": "3ba7ce15",
   "metadata": {},
   "source": [
    "#### Построение моделей с кросс валидацией через Optuna"
   ]
  },
  {
   "cell_type": "code",
   "execution_count": null,
   "id": "87f6e2ce",
   "metadata": {},
   "outputs": [],
   "source": [
    "def obj(X_train, y_train, pipe, grid):\n",
    "    acc_list = []\n",
    "    oscv = OptunaSearchCV(\n",
    "        pipe,\n",
    "        grid,\n",
    "        scoring='roc_auc',\n",
    "        cv=5,\n",
    "        n_trials=15, \n",
    "        random_state=RANDOM_STATE\n",
    "    ) \n",
    "    oscv.fit(X_train, y_train)\n",
    "    # Добавим рассчёт точности на трейне\n",
    "    y_pred = cross_val_predict(oscv.best_estimator_, X_train, y_train, cv=5, method='predict')\n",
    "    acc = accuracy_score(y_train, y_pred)\n",
    "    # Выводим лучший решатель и метрику\n",
    "    # Т.к. в optuna используются отрицательные оценки, изменим знак метрики\n",
    "    print('Лучшая модель и её параметры:\\n\\n', oscv.best_estimator_)\n",
    "    print ('Метрика лучшей модели на тренировочной выборке:', oscv.best_score_)\n",
    "    print('Точность модели:', acc)\n",
    "    return oscv"
   ]
  },
  {
   "cell_type": "markdown",
   "id": "09cd7c3a",
   "metadata": {},
   "source": [
    "#### Построение графика `ROC-AUC`"
   ]
  },
  {
   "cell_type": "code",
   "execution_count": null,
   "id": "2382ae2d",
   "metadata": {},
   "outputs": [],
   "source": [
    "def get_roc_auc_graph(fpr, tpr, trashold, roc_auc):\n",
    "    fig = go.Figure()\n",
    "    fig.add_trace(\n",
    "        go.Scatter(\n",
    "            x=fpr,\n",
    "            y=tpr,\n",
    "            marker_color='#5c8b15',\n",
    "            line=dict(width=2),\n",
    "            hovertemplate='FPR: %{x}<br>TPR: %{y}',\n",
    "            name='ROC_AUC'\n",
    "        )\n",
    "    )\n",
    "    fig.add_trace(\n",
    "        go.Scatter(\n",
    "            x=[0, 1],\n",
    "            y=[0, 1],\n",
    "            marker_color='#000000',\n",
    "            mode='markers+text+lines',\n",
    "            line=dict(dash='dash', width=2),\n",
    "            hovertemplate='{FPR: %{x}<br>TPR: %{y}', \n",
    "            marker_line_width=1,\n",
    "            text=[f'ROC-AUC:{roc_auc:.2f}'],\n",
    "            textposition=\"bottom right\",\n",
    "            name='DUMMY_MODEL'\n",
    "        )\n",
    "    )\n",
    "    fig.add_trace(\n",
    "        go.Scatter(\n",
    "            x=trashold,\n",
    "            y=fpr,\n",
    "            marker_color='red',\n",
    "            line=dict(dash='dot', width=2),\n",
    "            hovertemplate='{Порог: %{x}<br>FPR: %{y}', \n",
    "            name='FPR by trashold'\n",
    "        )\n",
    "    )\n",
    "    fig.add_trace(\n",
    "        go.Scatter(\n",
    "            x=trashold,\n",
    "            y=tpr,\n",
    "            marker_color='blue',\n",
    "            line=dict(dash='dot', width=2),\n",
    "            hovertemplate='{Порог: %{x}<br>TPR: %{y}', \n",
    "            marker_line_width=1,\n",
    "            name='TPR by trashold'\n",
    "        )\n",
    "    )\n",
    "    fig.update_layout(\n",
    "        title=dict(\n",
    "            text='Кривая ROC-AUC',\n",
    "            x=0.5,\n",
    "            xanchor='center'\n",
    "            ),\n",
    "        xaxis_title = 'FPR',\n",
    "        yaxis_title = 'TPR',\n",
    "        xaxis_range=[-0.05, 1.05],\n",
    "        yaxis_range=[-0.05, 1.05],\n",
    "        showlegend=False\n",
    "    )\n",
    "    fig.show()"
   ]
  },
  {
   "cell_type": "markdown",
   "id": "9a22b8e1",
   "metadata": {},
   "source": [
    "#### Построение графика `Confusion matrix`"
   ]
  },
  {
   "cell_type": "code",
   "execution_count": null,
   "id": "b13c9ecd",
   "metadata": {},
   "outputs": [],
   "source": [
    "def get_conf_matrix_graph(cm):\n",
    "    # Создаём фрейм для передачи в heatmap\n",
    "    c_matrix = pd.DataFrame(\n",
    "        cm,\n",
    "        index=['True stay', 'True leave'],\n",
    "        columns=['Pred stay', 'Pred leave']\n",
    "    )\n",
    "    # В зависимости от версий plotly числа на графике могут не отображаться\n",
    "    if plotly.__version__ == '5.6.0':\n",
    "        fig = go.Figure(\n",
    "            data=go.Heatmap(\n",
    "                z=c_matrix.values,           \n",
    "                x=c_matrix.columns.tolist(), \n",
    "                y=c_matrix.index.tolist(),   \n",
    "                colorscale=[[0, '#fffe7a'], [1, '#06470c']],\n",
    "                colorbar=dict(title='Кол-во'),\n",
    "                text=c_matrix.values,        \n",
    "                texttemplate=\"%{text}\",\n",
    "                hovertemplate='Строка: %{y}<br>Столбец: %{x}<br>Число: %{z}',\n",
    "                name='Confusion Matrix'\n",
    "            )\n",
    "        )\n",
    "\n",
    "    else:\n",
    "        fig = go.Figure(\n",
    "            data=go.Heatmap(\n",
    "                z=c_matrix.values,           \n",
    "                x=c_matrix.columns.tolist(), \n",
    "                y=c_matrix.index.tolist(), \n",
    "                colorscale=[[0, '#fffe7a'], [1, '#06470c']],\n",
    "                colorbar=dict(title='Кол-во'),\n",
    "                name='Confusion Matrix'\n",
    "            )\n",
    "        )\n",
    "\n",
    "\n",
    "    fig.update_layout(\n",
    "            title=dict(\n",
    "                text='Матрица ошибок',\n",
    "                x=0.5,\n",
    "                xanchor='center'\n",
    "                ),\n",
    "            xaxis_title = 'Предсказанные значения',\n",
    "            yaxis_title = 'Истинные значения',\n",
    "    )\n",
    "\n",
    "    fig.show()"
   ]
  },
  {
   "cell_type": "markdown",
   "id": "78118fa5",
   "metadata": {},
   "source": [
    "### Используемые классы"
   ]
  },
  {
   "cell_type": "markdown",
   "id": "63b10d01",
   "metadata": {},
   "source": [
    "#### Импьютер пропусков через группировку"
   ]
  },
  {
   "cell_type": "code",
   "execution_count": null,
   "id": "4d1dc294",
   "metadata": {},
   "outputs": [],
   "source": [
    "class ByCategoryImputer(BaseEstimator, TransformerMixin):\n",
    "    \"\"\"\n",
    "    Класс для заполнения пропусков в выбранном столбце\n",
    "    По умолчанию в столбце с общей суммой платежей (`total_col`)\n",
    "    Пропуски заполняются на основе средних указанных значений\n",
    "    По умолчанию значений ежемесячных платежей (`monthly_col`)\n",
    "    По группам выбранного признака\n",
    "    По умолчанию по категориям  (`group_col`)\n",
    "    Средние значения соответсвующих групп умножаются на заданные коэффициенты\n",
    "    По умолчанию {'one year': 12, 'two year': 24, 'month-to-month': 1}\n",
    "\n",
    "    Для каждой категории в `group_col` берётся среднее значение ежемесячных платежей\n",
    "    из тренировочных данных и умножается на заданный коэффициент (`unique_groups`),\n",
    "    после чего результат подставляется в пропуски\n",
    "\n",
    "    Аргументы\n",
    "    ----------\n",
    "    group_col : str, default='type'\n",
    "        Название столбца, по которому будут группироваться данные для расчёта средних\n",
    "\n",
    "    monthly_col : str, default='monthly_charges'\n",
    "        Название столбца с ежемесячными платежами\n",
    "\n",
    "    total_col : str, default='total_charges'\n",
    "        Название столбца, в который будут подставляться рассчитанные значения\n",
    "\n",
    "    factors : dict, default={'one year': 12, 'two year': 24, 'month-to-month': 1}\n",
    "        Словарь коэффициентов умножения для каждой категории\n",
    "        Ключ — категория в `group_col`, значение — множитель для перевода\n",
    "        ежемесячных платежей в общую сумму\n",
    "\n",
    "    Внутренние методы\n",
    "    --------\n",
    "    means_monthly_charges_ : pandas.Series\n",
    "        Средние ежемесячные платежи по категориям, рассчитанные на тренировочных данных\n",
    "\n",
    "    seen_categories_ : set\n",
    "        Множество категорий, которые были встречены в тренировочных данных\n",
    "    \"\"\"\n",
    "    def __init__(\n",
    "        self, \n",
    "        group_col='type',\n",
    "        monthly_col='monthly_charges',\n",
    "        total_col='total_charges',\n",
    "        unique_groups={'one year': 12, 'two year': 24, 'month-to-month': 1}\n",
    "    ):\n",
    "        self.group_col = group_col\n",
    "        self.monthly_col = monthly_col\n",
    "        self.total_col = total_col\n",
    "        self.unique_groups = unique_groups\n",
    "\n",
    "    def fit(self, X, y=None):\n",
    "        # Если передать столбцов, которых нет, выдаст ошибку\n",
    "        if self.group_col not in X.columns or self.monthly_col not in X.columns:\n",
    "            raise ValueError(f\"Столбцов {self.group_col} и {self.monthly_col} не существует\")\n",
    "\n",
    "        # Считаем средние по переданным группам в требуемом столбце\n",
    "        # Средние считаются только на трейне\n",
    "        # Соответствующие средние будут переданы в тест при заполнении пропусков\n",
    "        # Укажем, что это внутренний метод\n",
    "        self.means_monthly_charges_ = X.groupby(self.group_col)[self.monthly_col].mean()\n",
    "\n",
    "        # Создадим внутренний метод .seen_categories_\n",
    "        # Чтобы понимать с какими категориями в итоге работал groupby \n",
    "        self.seen_categories_ = set(self.means_monthly_charges_.index)\n",
    "\n",
    "        return self\n",
    "\n",
    "    def transform(self, X, y=None):\n",
    "        # Создаём копию ,чтобы не менять исходные данные\n",
    "        X_new = X.copy()\n",
    "\n",
    "        # Пройдёмся по группам\n",
    "        for category, multiplier in self.unique_groups.items():\n",
    "            # Если в передаваемых категориях есть новые, то заполнены они не будут\n",
    "            if category in self.seen_categories_:\n",
    "                # Выбираем только пропуски и только по уникальной категории\n",
    "                idx = X_new[(X_new[self.total_col].isna()) & (X_new[self.group_col] == category)].index\n",
    "                X_new.loc[idx, self.total_col] = self.means_monthly_charges_[category] * multiplier\n",
    "\n",
    "        return X_new"
   ]
  },
  {
   "cell_type": "markdown",
   "id": "a97d6ab1",
   "metadata": {},
   "source": [
    "#### Бинарный кодировщик через определение минорного и мажорного класса"
   ]
  },
  {
   "cell_type": "code",
   "execution_count": null,
   "id": "9f675e95",
   "metadata": {},
   "outputs": [],
   "source": [
    "class CustomBinaryEncoder():\n",
    "    \"\"\"\n",
    "    Класс для кодирования бинарного целевого признака\n",
    "    Признак можно переименовывать\n",
    "    По умолчанию 'goodbye_my_friend'\n",
    "\n",
    "    Вычисляется минорный и мажорный класс\n",
    "    Минорному классу присваивается класс 1\n",
    "    Мажорному классу присваивается класс 0\n",
    "\n",
    "    Аргументы\n",
    "    ----------\n",
    "    rename : str, default='goodbye_my_friend'\n",
    "        Название переименованного столлбца\n",
    "\n",
    "    Внутренние атрибуты\n",
    "    --------\n",
    "    major_class_ : str\n",
    "        Название мажорного класса\n",
    "\n",
    "    minor_class_ : str\n",
    "        Название минорного класса\n",
    "    \"\"\"\n",
    "    def __init__(self, rename='goodbye_my_friend'):\n",
    "        self.rename = rename\n",
    "\n",
    "    def fit(self, y):\n",
    "        \n",
    "        if y.nunique() > 2:\n",
    "            raise ValueError(f\"Ожидалась 2 класса, передано {y.nunique()} классов\")\n",
    "\n",
    "        self.major_class_ = y.value_counts().index[0]\n",
    "        self.minor_class_ = y.value_counts().index[1]\n",
    "        self.classes_ = {\n",
    "            self.major_class_: 0,\n",
    "            self.minor_class_: 1\n",
    "        }\n",
    "        self._fitted = True\n",
    "        return self\n",
    "\n",
    "    def transform(self, y):\n",
    "        if y.nunique() > 2:\n",
    "            raise ValueError(f\"Ожидалась 2 класса, передано {y.nunique()} классов\")\n",
    "\n",
    "        y_new = y.map(self.classes_)\n",
    "        return pd.Series(y_new, name=self.rename)\n"
   ]
  },
  {
   "cell_type": "markdown",
   "id": "ade4df18",
   "metadata": {},
   "source": [
    "#### Генератор столбца с продолжительностью использования услуг связи"
   ]
  },
  {
   "cell_type": "code",
   "execution_count": null,
   "id": "90248d64",
   "metadata": {},
   "outputs": [],
   "source": [
    "class DurationColumnGenerator(BaseEstimator, TransformerMixin):\n",
    "    \"\"\"\n",
    "    Класс расчёта разницы между двумя датами в днях\n",
    "\n",
    "    Проверяет что два столбца принадлежат типу 'datetime64[ns]'\n",
    "    Вычисляет разницу между 'end_date' и 'start_date'\n",
    "    Записывает результат в 'duration_by_days'\n",
    "\n",
    "    Аргументы\n",
    "    ----------\n",
    "    start_date : str, default='begin_date'\n",
    "        Название столбца стартовой даты\n",
    "        \n",
    "    end_date : str, default='end_date'\n",
    "        Название столбца конечной даты\n",
    "    \n",
    "    duration_column_name : str, default='duration_by_days'\n",
    "        Название столбца протяжённости в днях\n",
    "    \"\"\"\n",
    "    def __init__(\n",
    "        self,\n",
    "        start_date='begin_date',\n",
    "        end_date='end_date',\n",
    "        duration_column_name='duration_by_days'\n",
    "    ):\n",
    "        self.start_date = start_date\n",
    "        self.end_date = end_date\n",
    "        self.duration_column_name = duration_column_name\n",
    "\n",
    "    def fit(self, X, y=None):\n",
    "        self.is_fitted_ = True\n",
    "        return self\n",
    "\n",
    "    def transform(self, X, y=None):\n",
    "        X_new = X.copy()\n",
    "        \n",
    "        # Проверяем, что данные нужного типа\n",
    "        if X[self.start_date].dtype != 'datetime64[ns]':\n",
    "            raise ValueError(\n",
    "                f\"Ожидался 'datetime64[ns]', передано {self.start_date}: {X[self.start_date].dtype}\"\n",
    "            )\n",
    "            \n",
    "        if X[self.end_date].dtype != 'datetime64[ns]':\n",
    "            raise ValueError(\n",
    "                f\"Ожидался 'datetime64[ns]', передано {self.end_date}: {X[self.end_date].dtype}\")\n",
    "\n",
    "            \n",
    "        X_new[self.duration_column_name] = (X_new[self.end_date] - X_new[self.start_date]).dt.days\n",
    "        return X_new"
   ]
  },
  {
   "cell_type": "markdown",
   "id": "36d877c6",
   "metadata": {},
   "source": [
    "#### Удаление ненужных столбцов"
   ]
  },
  {
   "cell_type": "code",
   "execution_count": null,
   "id": "9b1be740",
   "metadata": {},
   "outputs": [],
   "source": [
    "class DropFeatures(BaseEstimator, TransformerMixin):\n",
    "    \"\"\"\n",
    "    Класс удаляет переданные столбцы из датафрейма\n",
    "    \n",
    "    Удаление происходит только по тем столбцам, которые в фрейме есть\n",
    "    Если столбцов нет, то и удаления не происходит\n",
    "\n",
    "    Аргументы\n",
    "    ----------\n",
    "    columns : set\n",
    "        Множество столбцов которых не должно быть в обучении\n",
    "        \n",
    "    \"\"\"\n",
    "    def __init__(self, columns):\n",
    "        self.columns=columns\n",
    "\n",
    "    def fit(self, X, y=None):\n",
    "        self.is_fitted_ = True\n",
    "        return self\n",
    "\n",
    "    def transform(self, X, y=None):\n",
    "        X_new = X.copy()\n",
    "        \n",
    "        drop_list = self.columns.intersection(X_new.columns)\n",
    "        \n",
    "        if len(drop_list) != 0:\n",
    "            return X_new.drop(drop_list, axis=1)\n",
    "        else:\n",
    "            return X_new"
   ]
  },
  {
   "cell_type": "markdown",
   "id": "8ce8968c",
   "metadata": {},
   "source": [
    "#### Заполнитель пропусков в категориальных переменных"
   ]
  },
  {
   "cell_type": "code",
   "execution_count": null,
   "id": "721e7903",
   "metadata": {},
   "outputs": [],
   "source": [
    "class ObjectImputer(BaseEstimator, TransformerMixin):\n",
    "    \"\"\"\n",
    "    Заполняет пропуски в категориальных переменных\n",
    "\n",
    "    Заполняет пропуски во всех категориальных переменных константой `no`\n",
    "    Пропуски в `another_column` заполняются константой `other`\n",
    "\n",
    "    Аргументы\n",
    "    ----------\n",
    "    first_fill_value : str, default='no'\n",
    "        Первая константа для заполнения пропусков\n",
    "        \n",
    "    second_fill_value : str, default='other'\n",
    "        Вторая константа для заполнения пропусков\n",
    "    \n",
    "    another_column : str, default='internet_service'\n",
    "        Столбец для заполнения пропусков с использованием второй константы\n",
    "    \"\"\"\n",
    "    def __init__(\n",
    "        self,\n",
    "        first_fill_value='no',\n",
    "        second_fill_value='other',\n",
    "        another_column='internet_service'\n",
    "    ):\n",
    "        self.first_fill_value = first_fill_value\n",
    "        self.second_fill_value = second_fill_value\n",
    "        self.object_cols_ = None\n",
    "        self.another_column_ = another_column\n",
    "        self.first_imputer_ = None\n",
    "        self.second_imputer_ = None\n",
    "\n",
    "    def fit(self, X, y=None):\n",
    "        self.object_cols_ = X.select_dtypes(include=[\"object\"]).columns\n",
    "        \n",
    "        if self.another_column_ in self.object_cols_:\n",
    "            self.object_cols_ = self.object_cols_.drop(self.another_column_)\n",
    "            # Выполняется только если этот столбец существует\n",
    "            self.second_imputer_ = SimpleImputer(strategy=\"constant\", fill_value=self.second_fill_value)\n",
    "            self.second_imputer_.fit(X[[self.another_column_]])\n",
    "        else:\n",
    "            self.object_cols_ = self.object_cols_\n",
    "            \n",
    "        # Выполняется в любом случае\n",
    "        self.first_imputer_ = SimpleImputer(strategy=\"constant\", fill_value=self.first_fill_value)\n",
    "        self.first_imputer_.fit(X[self.object_cols_])\n",
    "        \n",
    "        return self\n",
    "\n",
    "    def transform(self, X):\n",
    "        X_new = X.copy()\n",
    "        if len(self.object_cols_) > 0:\n",
    "            X_new[self.object_cols_] = self.first_imputer_.transform(X_new[self.object_cols_])\n",
    "        if self.another_column_ in X.columns:\n",
    "            X_new[[self.another_column_]] = self.second_imputer_.transform(X_new[[self.another_column_]])\n",
    "        \n",
    "        # Заменим тип столбцов с object на category\n",
    "        obj_columns = X_new.select_dtypes(include='object').columns\n",
    "        X_new[obj_columns] = X_new[obj_columns].astype('category')\n",
    "\n",
    "            \n",
    "        return X_new"
   ]
  },
  {
   "cell_type": "markdown",
   "id": "7769d4ba",
   "metadata": {},
   "source": [
    "## Загрузка данных"
   ]
  },
  {
   "cell_type": "markdown",
   "id": "5edfbdfa",
   "metadata": {},
   "source": [
    "### Загрузка данных и первичный анализ"
   ]
  },
  {
   "cell_type": "markdown",
   "id": "717add98",
   "metadata": {},
   "source": [
    "**Загрузим данные из всех источников**"
   ]
  },
  {
   "cell_type": "code",
   "execution_count": null,
   "id": "9f994035",
   "metadata": {},
   "outputs": [],
   "source": [
    "try:\n",
    "    contract = pd.read_csv('/datasets/contract_new.csv')\n",
    "    personal = pd.read_csv('/datasets/personal_new.csv')\n",
    "    internet = pd.read_csv('/datasets/internet_new.csv')\n",
    "    phone = pd.read_csv('/datasets/phone_new.csv')\n",
    "except:\n",
    "    contract = pd.read_csv('https://code.s3.yandex.net/datasets/contract_new.csv')\n",
    "    personal = pd.read_csv('https://code.s3.yandex.net/datasets/personal_new.csv')\n",
    "    internet = pd.read_csv('https://code.s3.yandex.net/datasets/internet_new.csv')\n",
    "    phone = pd.read_csv('https://code.s3.yandex.net/datasets/phone_new.csv')"
   ]
  },
  {
   "cell_type": "markdown",
   "id": "454bcbd9",
   "metadata": {},
   "source": [
    "**Анализ основной информации из `contract`**"
   ]
  },
  {
   "cell_type": "code",
   "execution_count": null,
   "id": "ef8252d7",
   "metadata": {},
   "outputs": [],
   "source": [
    "display(contract.sample())\n",
    "contract.info()"
   ]
  },
  {
   "cell_type": "markdown",
   "id": "fce0e1ac",
   "metadata": {},
   "source": [
    "**Выводы:**\n",
    "- Столбцы можно переименовать в питоновском стиле\n",
    "- Явных пропусков нет\n",
    "- Нужно сгенерировать целевую переменную на основании столбца `EndDate` c оглядкой на актуальную дату: `2020-02-01`\n",
    "- Столбы с датой переведём в тип `datetime`\n",
    "- Столбец `TotalCharges` приведём к типу `float`"
   ]
  },
  {
   "cell_type": "markdown",
   "id": "1f036398",
   "metadata": {},
   "source": [
    "**Анализ основной информации из `personal`**"
   ]
  },
  {
   "cell_type": "code",
   "execution_count": null,
   "id": "a9df5b21",
   "metadata": {},
   "outputs": [],
   "source": [
    "display(personal.sample())\n",
    "personal.info()"
   ]
  },
  {
   "cell_type": "markdown",
   "id": "e6ae6b79",
   "metadata": {},
   "source": [
    "**Выводы:**\n",
    "- Строк столько же, сколько и в `contract`\n",
    "- Явных пропусков нет\n",
    "- Названия столбцов можно привести в питоновский вид\n",
    "- Столбец `SeniorCitizen` приведём в тип `object` и переопределим классы как `no` и `yes`"
   ]
  },
  {
   "cell_type": "markdown",
   "id": "66007c17",
   "metadata": {},
   "source": [
    "**Анализ основной информации из `internet`**"
   ]
  },
  {
   "cell_type": "code",
   "execution_count": null,
   "id": "74623b8d",
   "metadata": {},
   "outputs": [],
   "source": [
    "display(internet.sample())\n",
    "internet.info()"
   ]
  },
  {
   "cell_type": "markdown",
   "id": "1524e54f",
   "metadata": {},
   "source": [
    "**Выводы:**\n",
    "- Столбцов меньше, чем в `personal` и `contract`, нужно проверить с чем это связано\n",
    "- Явных пропусков нет\n",
    "- Можно привести названия столбцов в питоновский вид"
   ]
  },
  {
   "cell_type": "markdown",
   "id": "3a5da2f3",
   "metadata": {},
   "source": [
    "**Анализ основной информации из `phone`**"
   ]
  },
  {
   "cell_type": "code",
   "execution_count": null,
   "id": "0eb36921",
   "metadata": {},
   "outputs": [],
   "source": [
    "display(phone.sample())\n",
    "phone.info()"
   ]
  },
  {
   "cell_type": "markdown",
   "id": "fd28ec84",
   "metadata": {},
   "source": [
    "**Выводы:**\n",
    "- Количество записей отличается от всех других таблиц, нужно установить с чем это может быть связано\n",
    "    - Самое простое проверить уникальность id пользователей и их количество\n",
    "- Нужно перевести данные в питоновский вид"
   ]
  },
  {
   "cell_type": "markdown",
   "id": "0a3caec4",
   "metadata": {},
   "source": [
    "### Объединение таблиц"
   ]
  },
  {
   "cell_type": "markdown",
   "id": "d40b26b4",
   "metadata": {},
   "source": [
    "**Анализ id**\n",
    "- Приведём id к нижнему регистру\n",
    "    - Это поможет исключить ошибки, связанные с использованием одних и тех же букв\n",
    "    - `5575-GNVDE` и `5575-GnVDE`\n",
    "- Проверим длину строк столбца с id\n",
    "    - Это поможет избежать ошибки связанной с неправильным заполнением ID\n",
    "    - `5575-GNVDE` и `5575-GNVD`"
   ]
  },
  {
   "cell_type": "markdown",
   "id": "c1a97706",
   "metadata": {},
   "source": [
    "**Для простоты выделим под `customerID` отдельную переменную**"
   ]
  },
  {
   "cell_type": "code",
   "execution_count": null,
   "id": "ddd1723d",
   "metadata": {},
   "outputs": [],
   "source": [
    "id_column = \"customerID\""
   ]
  },
  {
   "cell_type": "markdown",
   "id": "6b9fab36",
   "metadata": {},
   "source": [
    "**Проверим наличие ошибок в регистре**\n",
    "- Если ошибки есть, то количество уникальных признаков будет меньше длины таблицы"
   ]
  },
  {
   "cell_type": "code",
   "execution_count": null,
   "id": "4f7983df",
   "metadata": {},
   "outputs": [],
   "source": [
    "print(\n",
    "    contract[id_column].str.lower().nunique(),\n",
    "    personal[id_column].str.lower().nunique(),\n",
    "    internet[id_column].str.lower().nunique(),\n",
    "    phone[id_column].str.lower().nunique()\n",
    ")"
   ]
  },
  {
   "cell_type": "markdown",
   "id": "2266803f",
   "metadata": {},
   "source": [
    "**Выводы:**\n",
    "- Ошибок регистра нет, количество уникальных id совпадает с размерами соответствующих таблиц"
   ]
  },
  {
   "cell_type": "markdown",
   "id": "cb425a7e",
   "metadata": {},
   "source": [
    "**Проверим наличие ошибок при присвоении `id`**\n",
    "- Если ошибки есть, то количество уникальных длин в одной таблице будет больше 1 и длина будет отличаться от 10"
   ]
  },
  {
   "cell_type": "code",
   "execution_count": null,
   "id": "9867acba",
   "metadata": {},
   "outputs": [],
   "source": [
    "print(\n",
    "    contract[id_column].apply(lambda x: len(x)).unique(),\n",
    "    personal[id_column].apply(lambda x: len(x)).unique(),\n",
    "    internet[id_column].apply(lambda x: len(x)).unique(),\n",
    "    phone[id_column].apply(lambda x: len(x)).unique()\n",
    ")\n"
   ]
  },
  {
   "cell_type": "markdown",
   "id": "c74276ef",
   "metadata": {},
   "source": [
    "**Выводы:**\n",
    "- Каких-либо ошибок с присвоением id нет\n",
    "- Похоже, что при объединении таблиц появятся пропуски, связанные с отсутствием той или иной информации по клиентам и тарифам в объединяемых таблицах\n",
    "- Будем использовать `FULL OUTER JOIN` так как нужно сохранить всю имеющуюся информацию"
   ]
  },
  {
   "cell_type": "markdown",
   "id": "6883bc76",
   "metadata": {},
   "source": [
    "**Объединение**"
   ]
  },
  {
   "cell_type": "code",
   "execution_count": null,
   "id": "390dbd76",
   "metadata": {},
   "outputs": [],
   "source": [
    "cp = contract.merge(personal, how='outer', on=id_column)\n",
    "cpi = cp.merge(internet, how='outer', on=id_column)\n",
    "cpip = cpi.merge(phone, how='outer', on=id_column)\n",
    "cpip.isna().sum()"
   ]
  },
  {
   "cell_type": "markdown",
   "id": "c1b689c0",
   "metadata": {},
   "source": [
    "**Выводы:**\n",
    "- В данных появились пропуски в тех местах, где и ожидалось\n",
    "- Таблицы `contract` и `personal` содержат все уникальные id, которые есть в `internet` и `phone`\n",
    "    - `internet` и `phone` не содержат id, которыех нет в `contract` или `personal`\n",
    "    - Поэтому можно было использовать `LEFT INNER JOIN`"
   ]
  },
  {
   "cell_type": "markdown",
   "id": "ca6546b7",
   "metadata": {},
   "source": [
    "### Выводы"
   ]
  },
  {
   "cell_type": "markdown",
   "id": "13d6b55a",
   "metadata": {},
   "source": [
    "- Ознакомились с данными, установили возможные проблемы в данных\n",
    "- Проверили столбец `id` на ошибки\n",
    "- Объединили все таблицы в одну \n",
    "- Данные подготовлены для исследовательского анализа "
   ]
  },
  {
   "cell_type": "markdown",
   "id": "fe1b04ce",
   "metadata": {},
   "source": [
    "## Исследовательский анализ и предобработка данных"
   ]
  },
  {
   "cell_type": "markdown",
   "id": "4e255dd1",
   "metadata": {},
   "source": [
    "### Оформление таблицы"
   ]
  },
  {
   "cell_type": "markdown",
   "id": "045da6c8",
   "metadata": {},
   "source": [
    "**Назначим новые названия столбцов**"
   ]
  },
  {
   "cell_type": "code",
   "execution_count": null,
   "id": "6dfb0bb9",
   "metadata": {},
   "outputs": [],
   "source": [
    "cpip.columns = [\n",
    "    'id',                 # идентификатор пользователя \n",
    "    'begin_date',         # дата начала действия договора\n",
    "    'end_date',           # дата окончания действия договора\n",
    "    'type',               # тип оплаты: раз в год-два или ежемесячно\n",
    "    'paper_less_billing', # электронный расчётный лист\n",
    "    'payment_method',     # тип платежа\n",
    "    'monthly_charges',    # расходы за месяц\n",
    "    'total_charges',      # общие расходы абонента\n",
    "    'gender',             # пол\n",
    "    'senior_citizen',     # является ли абонент пенсионером\n",
    "    'partner',            # есть ли у абонента супруг или супруга\n",
    "    'dependents',         # есть ли у абонента дети\n",
    "    'internet_service',   # тип подключения\n",
    "    'online_security',    # блокировка опасных сайтов\n",
    "    'online_backup',      # облачное хранилище файлов для резервного копирования данных\n",
    "    'device_protection',  # антивирус\n",
    "    'tech_support',       # выделенная линия технической поддержки\n",
    "    \"streaming_tv\",       # стриминговое телевидение\n",
    "    'streaming_movies',   # каталог фильмов\n",
    "    'multiple_lines'      # подключение телефона к нескольким линиям одновременно\n",
    "]"
   ]
  },
  {
   "cell_type": "markdown",
   "id": "8d828e6e",
   "metadata": {},
   "source": [
    "**Исследуем столбцы с датами перед приведением типов**"
   ]
  },
  {
   "cell_type": "code",
   "execution_count": null,
   "id": "f68d79ec",
   "metadata": {},
   "outputs": [],
   "source": [
    "display(cpip['end_date'].unique(),\n",
    "        cpip['begin_date'].unique()\n",
    "       )"
   ]
  },
  {
   "cell_type": "markdown",
   "id": "78e3b885",
   "metadata": {},
   "source": [
    "**Выводы:**\n",
    "- Видим, что присутсвует значение \"No\" в столбце `end_date`, это означает, что контракт не окончен\n",
    "- Изменим это значение на актуальную дату проверки БД: `2020-02-01`"
   ]
  },
  {
   "cell_type": "markdown",
   "id": "d69e627e",
   "metadata": {},
   "source": [
    "### Создание целевой переменной\n",
    "- Создавать целевую переменную будем на основании столбца `end_date`\n",
    "    - Присвоим `No` метку `stay` - не отказался от услуг оператора\n",
    "    - Остальным значениям присвоим метку `leave` - отказался от услуг оператора\n",
    "- После создания целевой переменной проверим правильность заполнения столбцов `begin_date` <= `end_date`\n",
    "    - Отдельно проверим это правило для `2020-02-01`"
   ]
  },
  {
   "cell_type": "markdown",
   "id": "564899e1",
   "metadata": {},
   "source": [
    "**Создадим целевой признак и запишем его в столбец `goodbye_my_friend`**"
   ]
  },
  {
   "cell_type": "code",
   "execution_count": null,
   "id": "e81afb88",
   "metadata": {},
   "outputs": [],
   "source": [
    "cpip['goodbye_my_friend'] = np.where(cpip['end_date'] == \"No\", \"stay\", \"leave\")\n",
    "# Проверим ,что классы присвоены корректно\n",
    "display(cpip['end_date'].sample(5, random_state=2), cpip['goodbye_my_friend'].sample(5, random_state=2))"
   ]
  },
  {
   "cell_type": "markdown",
   "id": "8729522f",
   "metadata": {},
   "source": [
    "### Преобразование типов"
   ]
  },
  {
   "cell_type": "markdown",
   "id": "65621a7e",
   "metadata": {},
   "source": [
    "**Объявим отдельную переменную для актуальной даты**"
   ]
  },
  {
   "cell_type": "code",
   "execution_count": null,
   "id": "22fcc3e9",
   "metadata": {},
   "outputs": [],
   "source": [
    "actual_date = '2020-02-01'"
   ]
  },
  {
   "cell_type": "markdown",
   "id": "a4c5ab5b",
   "metadata": {},
   "source": [
    "**Заменим `No` на актуальную дату**"
   ]
  },
  {
   "cell_type": "code",
   "execution_count": null,
   "id": "409a7a0b",
   "metadata": {},
   "outputs": [],
   "source": [
    "# Там, где дата окончания контракта указана как No, будет замещение значения на '2020-02-01'\n",
    "cpip['end_date'] = np.where(cpip['end_date'] != 'No', cpip['end_date'], actual_date)"
   ]
  },
  {
   "cell_type": "markdown",
   "id": "149bdda0",
   "metadata": {},
   "source": [
    "**Приведём типы столбцов к формату даты**"
   ]
  },
  {
   "cell_type": "code",
   "execution_count": null,
   "id": "cf8512ed",
   "metadata": {},
   "outputs": [],
   "source": [
    "# Приведём дату к типу datetime\n",
    "cpip['begin_date'] = pd.to_datetime(cpip['begin_date'], format='%Y-%m-%d')\n",
    "# Переведём дату к типу datetime\n",
    "cpip['end_date'] = pd.to_datetime(cpip['end_date'], format='%Y-%m-%d')"
   ]
  },
  {
   "cell_type": "markdown",
   "id": "04f39993",
   "metadata": {},
   "source": [
    "**Проверим данные в `senior_citizen` и `total_charges` перед присвоением типов**"
   ]
  },
  {
   "cell_type": "code",
   "execution_count": null,
   "id": "1a4aaf30",
   "metadata": {},
   "outputs": [],
   "source": [
    "print(\n",
    "    # Посмотрим на уникальные группы \n",
    "    f\"senior_citizen: {cpip['senior_citizen'].unique()}\",\n",
    "    # Посчитаем количество уникальных значений, чтобы убедиться, что там действительно тип float\n",
    "    f\"total_charges: {cpip['total_charges'].nunique()}\",\n",
    "    sep=\"\\n\"\n",
    ")"
   ]
  },
  {
   "cell_type": "markdown",
   "id": "84f7d0a0",
   "metadata": {},
   "source": [
    "**Выводы:**\n",
    "- Заменим 1 на `yes` и 0 на `no` в `senior_citizen`\n",
    "- Приведём к типу `float` данные в `total_charges`\n",
    "    - Количество уникальных значений отличается от длины таблицы\n",
    "        - Либо повторяются `float` значения\n",
    "        - Либо присутсвтвуют ошибки"
   ]
  },
  {
   "cell_type": "markdown",
   "id": "ee01070c",
   "metadata": {},
   "source": [
    "**Перекодируем `senior_citizen` и приведём `total_charges` к нужному типу**"
   ]
  },
  {
   "cell_type": "code",
   "execution_count": null,
   "id": "c210e6aa",
   "metadata": {},
   "outputs": [],
   "source": [
    "cpip['senior_citizen'] = np.where(cpip['senior_citizen'] == 0, \"no\", \"yes\")\n",
    "# Заменим ошибочные значения '' на np.nan и присвоим корректный тип\n",
    "cpip['total_charges'] = np.where(cpip['total_charges'] == ' ', np.nan, cpip['total_charges'])\n",
    "cpip['total_charges'] = cpip['total_charges'].astype(float)"
   ]
  },
  {
   "cell_type": "markdown",
   "id": "8b2f9297",
   "metadata": {},
   "source": [
    "**Выводы:**\n",
    "- В `total_charges` изначально были ошибочные значения, которые мы заменили на пропуски, далее их нужно будет заполнить"
   ]
  },
  {
   "cell_type": "markdown",
   "id": "f3e97a02",
   "metadata": {},
   "source": [
    "**Проверим, что все даты корректны**"
   ]
  },
  {
   "cell_type": "code",
   "execution_count": null,
   "id": "8ab3c5c6",
   "metadata": {},
   "outputs": [],
   "source": [
    "print(\n",
    "    \"Кол-во ошибок для end_date = 2020-02-01:\",\n",
    "    f\"{len(cpip[(cpip['begin_date'] > cpip['end_date']) & (cpip['end_date'] == '2020-02-01')])}\",\n",
    "    \"Кол-во ошибок для end_date != 2020-02-01:\",\n",
    "    f\"{len(cpip[(cpip['begin_date'] > cpip['end_date']) & (cpip['end_date'] != '2020-02-01')])}\",\n",
    "    sep='\\n'\n",
    ")"
   ]
  },
  {
   "cell_type": "markdown",
   "id": "b80ee9fd",
   "metadata": {},
   "source": [
    "**Выводы:**\n",
    "- Ошибок нет. Удалять ничего не нужно\n",
    "- Для ситуаций, когда `begin_date` = `end_date` = `2020-01-02` будем считать, что пользователь активен\n",
    "- Для ситуаций, когда `begin_date` = `end_date` != `2020-01-02` будем считать, что пользователь разорвал договор в день оформления"
   ]
  },
  {
   "cell_type": "code",
   "execution_count": null,
   "id": "e79d572d",
   "metadata": {},
   "outputs": [],
   "source": [
    "### Создание целевой переменной\n",
    "#- Создавать целевую переменную будем на основании столбца `end_date`\n",
    "#    - Присвоим `2020-02-01` метку `stay` - не отказался от услуг оператора\n",
    "#    - Остальным значениям присвоим метку `leave` - отказался от услуг оператора\n",
    "#- До создания целевой переменной проверим правильность заполнения столбцов `begin_date` <= `end_date`\n",
    "#    - Отдельно проверим это правило для `2020-02-01`"
   ]
  },
  {
   "cell_type": "code",
   "execution_count": null,
   "id": "8b849745",
   "metadata": {},
   "outputs": [],
   "source": [
    "#**Создадим целевой признак и запишем его в столбец `goodbye_my_friend`**"
   ]
  },
  {
   "cell_type": "code",
   "execution_count": null,
   "id": "2e012ca1",
   "metadata": {},
   "outputs": [],
   "source": [
    "#cpip['goodbye_my_friend'] = np.where(cpip['end_date'] == \"2020-02-01\", \"stay\", \"leave\")\n",
    "# Проверим ,что типы присвоены корректно\n",
    "#display(cpip['end_date'].sample(5, random_state=2), cpip['goodbye_my_friend'].sample(5, random_state=2))"
   ]
  },
  {
   "cell_type": "markdown",
   "id": "e9857854",
   "metadata": {},
   "source": [
    "**Приведём все строковые данные к нижнему регистру**"
   ]
  },
  {
   "cell_type": "code",
   "execution_count": null,
   "id": "1eb1eb99",
   "metadata": {},
   "outputs": [],
   "source": [
    "for col in cpip.columns:\n",
    "    if cpip[col].dtype == object:\n",
    "        print(col)\n",
    "        cpip[col] = cpip[col].apply(lambda x: x.lower() if not pd.isnull(x) else x)"
   ]
  },
  {
   "cell_type": "markdown",
   "id": "54244f12",
   "metadata": {},
   "source": [
    "### Разбиение данных на тренировочную и тестовую выборки"
   ]
  },
  {
   "cell_type": "code",
   "execution_count": null,
   "id": "59900361",
   "metadata": {},
   "outputs": [],
   "source": [
    "# Задаём внутреннее состояние и размер тестовой выборки\n",
    "RANDOM_STATE = 280725\n",
    "TEST_SIZE = 0.25\n",
    "\n",
    "# Разделим таргет с фичами\n",
    "X =  cpip.drop('goodbye_my_friend', axis=1)\n",
    "\n",
    "y = cpip['goodbye_my_friend']"
   ]
  },
  {
   "cell_type": "markdown",
   "id": "8e02083d",
   "metadata": {},
   "source": [
    "**Разделим данные на тренировочную и тестовую выборки**"
   ]
  },
  {
   "cell_type": "code",
   "execution_count": null,
   "id": "ef1c04bc",
   "metadata": {},
   "outputs": [],
   "source": [
    "X_train, X_test, y_train, y_test = train_test_split(\n",
    "    X,\n",
    "    y,\n",
    "    test_size = TEST_SIZE, \n",
    "    random_state = RANDOM_STATE,\n",
    "    stratify=y\n",
    ")\n",
    "\n",
    "# Проверим что данные представлены корректно\n",
    "print(X_train.shape, X_test.shape, y_train.shape, y_test.shape)"
   ]
  },
  {
   "cell_type": "markdown",
   "id": "5222b954",
   "metadata": {},
   "source": [
    "**Для визуализации и анализа признаков создадим единый фрейм**"
   ]
  },
  {
   "cell_type": "code",
   "execution_count": null,
   "id": "39abf639",
   "metadata": {},
   "outputs": [],
   "source": [
    "train = X_train.join(y_train, how=\"left\")"
   ]
  },
  {
   "cell_type": "markdown",
   "id": "5d281dfe",
   "metadata": {},
   "source": [
    "### Комплексное исследование оригинальных признаков\n",
    "- **План работ для каждого из признаков:**\n",
    "    1. Поиск скрытых дубликатов (при необходимости)\n",
    "    2. Исследование распределение признака отдельно и относительно целевого\n",
    "        - Построение интерактивных графиков с выводом описываемой статистики при наведении курсора\n",
    "        - Рассчёт объёма групп в разрезе целевого признака будет производиться с использованием \n",
    "            - Вертикального расчёта объёма групп\n",
    "                - 100% - группа `stay`, 100% - группа `leave` по всем группа исследуемого признака\n",
    "            - Горизонтального (при необходимости)\n",
    "                - 100% - объём каждой группы исследуемого признака\n",
    "    3. Заполнение пропусков на основании проведённого анализа (при необходимости)\n",
    "    4. Генерация новых фичей (при необходимости)\n"
   ]
  },
  {
   "cell_type": "markdown",
   "id": "db61783f",
   "metadata": {},
   "source": [
    "#### Исследование целевого признака: `goodbye_my_friend`"
   ]
  },
  {
   "cell_type": "code",
   "execution_count": null,
   "id": "12765e80",
   "metadata": {},
   "outputs": [],
   "source": [
    "# Распределение признака в выборкеe\n",
    "get_bar(\n",
    "    train['goodbye_my_friend'].value_counts().sort_values(),\n",
    "    'Соотношение покупателей расторгнувших договор к общему числу клиентов',\n",
    "    'Статус рассторжения договора',\n",
    "    'Процентное соотношение, %',\n",
    "    0,\n",
    "    None,\n",
    "    percentage=True,\n",
    "    cmap_obj='twilight_shifted'\n",
    ")"
   ]
  },
  {
   "cell_type": "markdown",
   "id": "d809d71e",
   "metadata": {},
   "source": [
    "**Выводы:**\n",
    "- Присутствует дисбаланс классов по целевому признаку\n",
    "- Из всех клиентов лишь 15.6% решили отказаться от услуг оператора"
   ]
  },
  {
   "cell_type": "markdown",
   "id": "bb2fb4ae",
   "metadata": {},
   "source": [
    "#### Исследование`type`"
   ]
  },
  {
   "cell_type": "markdown",
   "id": "b595f612",
   "metadata": {},
   "source": [
    "**Поиск дублей**"
   ]
  },
  {
   "cell_type": "code",
   "execution_count": null,
   "id": "a323c2b9",
   "metadata": {},
   "outputs": [],
   "source": [
    "train['type'].unique()"
   ]
  },
  {
   "cell_type": "markdown",
   "id": "866ed110",
   "metadata": {},
   "source": [
    "**Выводы:**\n",
    "- Дублей нет, можно использовать оригинальное название категорий"
   ]
  },
  {
   "cell_type": "markdown",
   "id": "fd51e76f",
   "metadata": {},
   "source": [
    "**Расредение `type`**"
   ]
  },
  {
   "cell_type": "code",
   "execution_count": null,
   "id": "89afe393",
   "metadata": {},
   "outputs": [],
   "source": [
    "# Распределение признака в выборке\n",
    "get_bar(\n",
    "    train['type'].value_counts().sort_values(),\n",
    "    'Соотношение всех клиентов в категориях оплаты',\n",
    "    'Платёжные интервалы',\n",
    "    'Процентное соотношение, %',\n",
    "    0,\n",
    "    None,\n",
    "    percentage=True,\n",
    "    cmap_obj='twilight_shifted'\n",
    ")\n",
    "# Распределение признака относительно целевого\n",
    "get_double_trouble_bar(\n",
    "    train.groupby('type')['goodbye_my_friend'].value_counts(),\n",
    "    'Соотношение клиентов по категориям оплаты в группах целевого признака',\n",
    "    'Категории',\n",
    "    'Соотношение по числу клиентов<br>в группах целевого признака, %',\n",
    "    0,\n",
    "    None,\n",
    "    color_delimiter ='stay',\n",
    "    percentage=True,\n",
    "    vertical_counting=True\n",
    ")"
   ]
  },
  {
   "cell_type": "markdown",
   "id": "20cdfbf2",
   "metadata": {},
   "source": [
    "**Выводы:**\n",
    "- Половина клиентов оформляет контракт на 1 месяц, другая половина в приблизительно равных долях на 1 и 2 года\n",
    "    - Подписку на 2 года оформляли лишь на 4% больше пользователей, чем на 1 год\n",
    "- Среди клиентов, продолжающих пользоваться услугами компании преимущество отдаётся помесячной оплате : 60% оставшихся клиентов\n",
    "- Среди клиентов, расторгнувших договор предпочтения по интервалу оплаты равнометрно распределено между типами подписки\n",
    "- Однако, меньше всего представителей годовой подписки и больше всего месячной\n",
    "  - Учитывая бОльшее количество клиентв с месячной подпиской это может ни о чем не говорить\n",
    "- Среди ушедших клиентов больше тех, кто оформил подписку сразу на 2 года"
   ]
  },
  {
   "cell_type": "markdown",
   "id": "e96801bd",
   "metadata": {},
   "source": [
    "#### Исследование `paper_less_billing`"
   ]
  },
  {
   "cell_type": "code",
   "execution_count": null,
   "id": "46dfbfd8",
   "metadata": {},
   "outputs": [],
   "source": [
    "train['paper_less_billing'].unique()"
   ]
  },
  {
   "cell_type": "markdown",
   "id": "e759575e",
   "metadata": {},
   "source": [
    "**Выводы:**\n",
    "- Дублей нет, можно использовать оригинальное название категорий"
   ]
  },
  {
   "cell_type": "code",
   "execution_count": null,
   "id": "fc4fed04",
   "metadata": {},
   "outputs": [],
   "source": [
    "# Распределение признака в выборке\n",
    "get_bar(\n",
    "    train['paper_less_billing'].value_counts().sort_values(),\n",
    "    'Соотношение всех клиентов в категориях наличия электронного рассчётного листа',\n",
    "    'Наличие документа',\n",
    "    'Процентное соотношение, %',\n",
    "    0,\n",
    "    None,\n",
    "    percentage=True,\n",
    "    cmap_obj='twilight_shifted'\n",
    ")\n",
    "# Распределение признака относительно целевого\n",
    "get_double_trouble_bar(\n",
    "    train.groupby('paper_less_billing')['goodbye_my_friend'].value_counts(),\n",
    "    'Соотношение клиентов по категориям наличия рассчётного листа<br> в группах целевого признака',\n",
    "    'Категории',\n",
    "    'Соотношение по числу клиентов<br>в группах целевого признака, %',\n",
    "    0,\n",
    "    None,\n",
    "    color_delimiter ='stay',\n",
    "    percentage=True,\n",
    "    vertical_counting=True\n",
    ")"
   ]
  },
  {
   "cell_type": "markdown",
   "id": "4dcdf5ad",
   "metadata": {},
   "source": [
    "**Выводы:**\n",
    "- Больше всего клиентов с электронным расчётным листом\n",
    "- Похоже, наличие или отсутствие электронного расчётного листа не влияент на вероятность ухода клиента\n",
    "    - Средни обеих групп клиентов (оставшихся и ушедших) сохраняется соотношение наличия/отсутсчия рассчётного листа из общей группы"
   ]
  },
  {
   "cell_type": "markdown",
   "id": "4405eac1",
   "metadata": {},
   "source": [
    "#### Исследование `payment_method`"
   ]
  },
  {
   "cell_type": "code",
   "execution_count": null,
   "id": "650b0b3a",
   "metadata": {},
   "outputs": [],
   "source": [
    "train['payment_method'].unique()"
   ]
  },
  {
   "cell_type": "markdown",
   "id": "217b5c90",
   "metadata": {},
   "source": [
    "**Выводы:**\n",
    "- Дублей нет, можно использовать оригинальное название категорий"
   ]
  },
  {
   "cell_type": "code",
   "execution_count": null,
   "id": "c940411d",
   "metadata": {},
   "outputs": [],
   "source": [
    "# Распределение признака в выборке\n",
    "get_bar(\n",
    "    train['payment_method'].value_counts().sort_values(),\n",
    "    'Соотношение всех клиентов по типу платежа',\n",
    "    'Платёжные системы',\n",
    "    'Процентное соотношение, %',\n",
    "    0,\n",
    "    None,\n",
    "    percentage=True,\n",
    "    cmap_obj='twilight_shifted'\n",
    ")\n",
    "# Распределение признака относительно целевого\n",
    "get_double_trouble_bar(\n",
    "    train.groupby('payment_method')['goodbye_my_friend'].value_counts(),\n",
    "    'Соотношение клиентов по способу оплаты в группах целевого признака',\n",
    "    'Категории',\n",
    "    'Соотношение по числу клиентов<br>в группах целевого признака, %',\n",
    "    0,\n",
    "    None,\n",
    "    color_delimiter ='stay',\n",
    "    percentage=True,\n",
    "    vertical_counting=True\n",
    ")"
   ]
  },
  {
   "cell_type": "markdown",
   "id": "64543664",
   "metadata": {},
   "source": [
    "**Выводы:**\n",
    "- Клиенты равномерно представлены в группах автопополнения через кредитную карту или банковский перерод наряду с группой оплаты через почтовый трансфер\n",
    "- Группа электронной неавтоматической оплаты самая многочисленная\n",
    "- Среди оставшихся клиентов больше тех, кто платит через электронный неавтоматический платёж\n",
    "    - И меньше всего представителей автоматической в каждой из групп\n",
    "    - Возможно, группы автоматической оплаты стоит объединить в одну\n",
    "- Меньше всего среди ушедших клиентов тех, кто платит через почту\n",
    "- Если посмотреть на электронные автоматические и неавтоматические платежи, то количество ушедших клиентов близко друг к другу"
   ]
  },
  {
   "cell_type": "markdown",
   "id": "857a2526",
   "metadata": {},
   "source": [
    "##### Создание новых фичей на основе `payment_method`\n",
    "- Создадим две новые фичи:\n",
    "    - Для первой объединим автоматические платежи\n",
    "    - Для второй объединим все электронные платежи"
   ]
  },
  {
   "cell_type": "markdown",
   "id": "2ddf95c5",
   "metadata": {},
   "source": [
    "**Объединение автоматических платежей**"
   ]
  },
  {
   "cell_type": "code",
   "execution_count": null,
   "id": "fa561193",
   "metadata": {},
   "outputs": [],
   "source": [
    "train['payment_method_ternary'] = train['payment_method'].apply(\n",
    "    lambda x: 'electronic check (automatic)' if x == 'bank transfer (automatic)' or x == 'credit card (automatic)' else x\n",
    ")\n",
    "train['payment_method_ternary'].unique()"
   ]
  },
  {
   "cell_type": "markdown",
   "id": "9721d5e2",
   "metadata": {},
   "source": [
    "**Объединение электронных платежей**"
   ]
  },
  {
   "cell_type": "code",
   "execution_count": null,
   "id": "0ef806ad",
   "metadata": {},
   "outputs": [],
   "source": [
    "train['payment_method_binary'] = train['payment_method'].apply(\n",
    "    lambda x: 'electronic check (all)' if x != 'mailed check' else x\n",
    ")\n",
    "train['payment_method_binary'].unique()"
   ]
  },
  {
   "cell_type": "markdown",
   "id": "4ed7d477",
   "metadata": {},
   "source": [
    "#### Исследование `gender`"
   ]
  },
  {
   "cell_type": "code",
   "execution_count": null,
   "id": "0dbc6288",
   "metadata": {},
   "outputs": [],
   "source": [
    "train['gender'].unique()"
   ]
  },
  {
   "cell_type": "markdown",
   "id": "fae3b9e9",
   "metadata": {},
   "source": [
    "**Выводы:**\n",
    "- Дублей нет, можно использовать оригинальное название категорий"
   ]
  },
  {
   "cell_type": "code",
   "execution_count": null,
   "id": "8c861c4b",
   "metadata": {},
   "outputs": [],
   "source": [
    "# Распределение признака в выборке\n",
    "get_bar(\n",
    "    train['gender'].value_counts().sort_values(),\n",
    "    'Соотношение всех клиентов по полу',\n",
    "    'Пол клиента',\n",
    "    'Процентное соотношение, %',\n",
    "    0,\n",
    "    None,\n",
    "    percentage=True,\n",
    "    cmap_obj='twilight_shifted'\n",
    ")\n",
    "# Распределение признака относительно целевого\n",
    "get_double_trouble_bar(\n",
    "    train.groupby('gender')['goodbye_my_friend'].value_counts(),\n",
    "    'Соотношение клиентов по полу в группах целевого признака',\n",
    "    'Категории',\n",
    "    'Соотношение по числу клиентов<br>в группах целевого признака, %',\n",
    "    0,\n",
    "    None,\n",
    "    color_delimiter ='stay',\n",
    "    percentage=True,\n",
    "    vertical_counting=True\n",
    ")"
   ]
  },
  {
   "cell_type": "markdown",
   "id": "4e68af01",
   "metadata": {},
   "source": [
    "**Выводы:**\n",
    "- Соотношение по полу примерно одинаковое и сохраняется в группах целевого признака\n",
    "- Возможно, этот признак не такой уж и важный"
   ]
  },
  {
   "cell_type": "markdown",
   "id": "9187e7c6",
   "metadata": {},
   "source": [
    "#### Исследование `senior_citizen`"
   ]
  },
  {
   "cell_type": "code",
   "execution_count": null,
   "id": "ff3f039c",
   "metadata": {},
   "outputs": [],
   "source": [
    "train['senior_citizen'].unique()"
   ]
  },
  {
   "cell_type": "markdown",
   "id": "552827a7",
   "metadata": {},
   "source": [
    "**Выводы:**\n",
    "- Дублей нет, можно использовать оригинальное название категорий"
   ]
  },
  {
   "cell_type": "code",
   "execution_count": null,
   "id": "09e923cf",
   "metadata": {},
   "outputs": [],
   "source": [
    "# Распределение признака в выборке\n",
    "get_bar(\n",
    "    train['senior_citizen'].value_counts().sort_values(),\n",
    "    'Соотношение всех клиентов по статусу пенсионера',\n",
    "    'Статус пенсионера',\n",
    "    'Процентное соотношение, %',\n",
    "    0,\n",
    "    None,\n",
    "    percentage=True,\n",
    "    cmap_obj='twilight_shifted'\n",
    ")\n",
    "# Распределение признака относительно целевого\n",
    "get_double_trouble_bar(\n",
    "    cpip.groupby('senior_citizen')['goodbye_my_friend'].value_counts(),\n",
    "    'Соотношение клиентов по статусу пенсионера в группах целевого признака',\n",
    "    'Категории',\n",
    "    'Соотношение по числу клиентов<br>в группах целевого признака, %',\n",
    "    0,\n",
    "    None,\n",
    "    color_delimiter ='stay',\n",
    "    percentage=True,\n",
    "    vertical_counting=True\n",
    ")"
   ]
  },
  {
   "cell_type": "markdown",
   "id": "8993257b",
   "metadata": {},
   "source": [
    "**Выводы:**\n",
    "- Пенсионеров среди клиентов лишь 15.9%\n",
    "- Среди ушедших клиентов больше тех, кто не является пенсионером\n",
    "- Среди оставшихся соотношение то же\n",
    "- Возможно, это не самый информативный признак"
   ]
  },
  {
   "cell_type": "markdown",
   "id": "207ee428",
   "metadata": {},
   "source": [
    "#### Исследование `partner`"
   ]
  },
  {
   "cell_type": "code",
   "execution_count": null,
   "id": "8d27f58a",
   "metadata": {},
   "outputs": [],
   "source": [
    "train['partner'].unique()"
   ]
  },
  {
   "cell_type": "markdown",
   "id": "14f8f434",
   "metadata": {},
   "source": [
    "**Выводы:**\n",
    "- Дублей нет, можно использовать оригинальное название категорий"
   ]
  },
  {
   "cell_type": "code",
   "execution_count": null,
   "id": "a492f2fa",
   "metadata": {},
   "outputs": [],
   "source": [
    "# Распределение признака в выборке\n",
    "get_bar(\n",
    "    train['partner'].value_counts().sort_values(),\n",
    "    'Соотношение всех клиентов по семейному положению',\n",
    "    'Семейный статус',\n",
    "    'Процентное соотношение, %',\n",
    "    0,\n",
    "    None,\n",
    "    percentage=True,\n",
    "    cmap_obj='twilight_shifted'\n",
    ")\n",
    "# Распределение признака относительно целевого\n",
    "get_double_trouble_bar(\n",
    "    train.groupby('partner')['goodbye_my_friend'].value_counts(),\n",
    "    'Соотношение клиентов по семейному статусу в группах целевого признака',\n",
    "    'Категории',\n",
    "    'Соотношение по числу клиентов<br>в группах целевого признака, %',\n",
    "    0,\n",
    "    None,\n",
    "    color_delimiter ='stay',\n",
    "    percentage=True,\n",
    "    vertical_counting=True\n",
    ")"
   ]
  },
  {
   "cell_type": "markdown",
   "id": "be2fdec8",
   "metadata": {},
   "source": [
    "**Выводы:**\n",
    "- Среди клиентов компании одинаковое соотношение клиентов по семейному статусу\n",
    "- Среди тех, кто отказался от услуг компании больше семейных клиентов\n",
    "- Среди тех, кто остался больше одиноких"
   ]
  },
  {
   "cell_type": "markdown",
   "id": "b13ae23e",
   "metadata": {},
   "source": [
    "#### Исследование `dependents`"
   ]
  },
  {
   "cell_type": "code",
   "execution_count": null,
   "id": "4cf6e6fc",
   "metadata": {},
   "outputs": [],
   "source": [
    "train['dependents'].unique()"
   ]
  },
  {
   "cell_type": "markdown",
   "id": "512a7c00",
   "metadata": {},
   "source": [
    "**Выводы:**\n",
    "- Дублей нет, можно использовать оригинальное название категорий"
   ]
  },
  {
   "cell_type": "code",
   "execution_count": null,
   "id": "7587607c",
   "metadata": {},
   "outputs": [],
   "source": [
    "# Распределение признака в выборке\n",
    "get_bar(\n",
    "    train['dependents'].value_counts().sort_values(),\n",
    "    'Соотношение всех клиентов по наличию детей',\n",
    "    'Наличие детей',\n",
    "    'Процентное соотношение, %',\n",
    "    0,\n",
    "    None,\n",
    "    percentage=True,\n",
    "    cmap_obj='twilight_shifted'\n",
    ")\n",
    "# Распределение признака относительно целевого\n",
    "get_double_trouble_bar(\n",
    "    train.groupby('dependents')['goodbye_my_friend'].value_counts(),\n",
    "    'Соотношение клиентов по наличию детей в группах целевого признака',\n",
    "    'Категории',\n",
    "    'Соотношение по числу клиентов<br>в группах целевого признака, %',\n",
    "    0,\n",
    "    None,\n",
    "    color_delimiter ='stay',\n",
    "    percentage=True,\n",
    "    vertical_counting=True\n",
    ")"
   ]
  },
  {
   "cell_type": "markdown",
   "id": "7ed791b2",
   "metadata": {},
   "source": [
    "**Выводы:**\n",
    "- Среди семеных пар больше тех, у кого нет детей\n",
    "- Большинство клиентов компании - семейные пары без детей\n",
    "- Среди ушедших больше клиентов без детей\n",
    "- Среди оставшихся также больше клиентов без детей"
   ]
  },
  {
   "cell_type": "markdown",
   "id": "431fb95b",
   "metadata": {},
   "source": [
    "#### Исследование `internet_service`"
   ]
  },
  {
   "cell_type": "code",
   "execution_count": null,
   "id": "b461200c",
   "metadata": {},
   "outputs": [],
   "source": [
    "train['internet_service'].unique()"
   ]
  },
  {
   "cell_type": "markdown",
   "id": "61cbe8ec",
   "metadata": {},
   "source": [
    "**Выводы:**\n",
    "- Дублей нет, можно использовать оригинальное название категорий"
   ]
  },
  {
   "cell_type": "code",
   "execution_count": null,
   "id": "0ad203ca",
   "metadata": {},
   "outputs": [],
   "source": [
    "# Распределение признака в выборке\n",
    "get_bar(\n",
    "    train['internet_service'].value_counts().sort_values(),\n",
    "    'Соотношение всех клиентов по типу подключения (до заполнения)',\n",
    "    'Тип подключения',\n",
    "    'Процентное соотношение, %',\n",
    "    0,\n",
    "    None,\n",
    "    percentage=True,\n",
    "    cmap_obj='twilight_shifted'\n",
    ")\n",
    "# Распределение признака относительно целевого\n",
    "get_double_trouble_bar(\n",
    "    train.groupby('internet_service')['goodbye_my_friend'].value_counts(),\n",
    "    'Соотношение клиентов по типу подключения в группах целевого признака (до заполнения)',\n",
    "    'Категории',\n",
    "    'Соотношение по числу клиентов<br>в группах целевого признака, %',\n",
    "    0,\n",
    "    None,\n",
    "    color_delimiter ='stay',\n",
    "    percentage=True,\n",
    "    vertical_counting=True\n",
    ")"
   ]
  },
  {
   "cell_type": "markdown",
   "id": "80afd63e",
   "metadata": {},
   "source": [
    "**Выводы:**\n",
    "- 56% клиентов подключены через оптоволоконный кабель\n",
    "- Среди ушедших больше всего клиентов, подключенных по оптоволокну\n",
    "- Среди оставшихся клиентов соотношение схоже с тем, какое есть без разделения по целевому признаку\n",
    "- Пропуски возможно вызваны отсутсвием подключённой опции\n",
    "- Поскольку какой-ибо информации о тарифах у нас нет, предположим, что конкретно этой опции у пользователей нет\n",
    "    - Однако, если оператор предоставляет только эти опции, то возможно наличие пропусков вызвано тем, что пользователи перестали пользоваться услугами компании\n",
    "    - заменим пропуски константой `other` и проверим это утверждение"
   ]
  },
  {
   "cell_type": "markdown",
   "id": "67c78c85",
   "metadata": {},
   "source": [
    "**Заполнение пропусков**"
   ]
  },
  {
   "cell_type": "code",
   "execution_count": null,
   "id": "f83832af",
   "metadata": {},
   "outputs": [],
   "source": [
    "train['internet_service'] = (train['internet_service'].fillna('other'))\n",
    "train[train['internet_service'] =='other']['goodbye_my_friend'].unique()"
   ]
  },
  {
   "cell_type": "markdown",
   "id": "58ec4d37",
   "metadata": {},
   "source": [
    "**Выводы:**\n",
    "- Предположение оказалось ложным, возможно компания предоставляет ещё какие-то услуги"
   ]
  },
  {
   "cell_type": "markdown",
   "id": "661c7221",
   "metadata": {},
   "source": [
    "**Изучение нового распределение**"
   ]
  },
  {
   "cell_type": "code",
   "execution_count": null,
   "id": "a4500027",
   "metadata": {},
   "outputs": [],
   "source": [
    "# Распределение признака относительно целевого\n",
    "get_double_trouble_bar(\n",
    "    train.groupby('internet_service')['goodbye_my_friend'].value_counts(),\n",
    "    'Соотношение клиентов по типу подключения<br>в группах целевого признака (без пропусков)',\n",
    "    'Категории',\n",
    "    'Соотношение по числу клиентов<br>в группах целевого признака, %',\n",
    "    0,\n",
    "    None,\n",
    "    color_delimiter ='stay',\n",
    "    percentage=True,\n",
    "    vertical_counting=True\n",
    ")"
   ]
  },
  {
   "cell_type": "markdown",
   "id": "1d670707",
   "metadata": {},
   "source": [
    "**Выводы**\n",
    "- Соотношение имеет ту же тенденцию, что и без пропусков\n",
    "- В группе клиентов с отличной опцией меньше всего ушедших клиентов"
   ]
  },
  {
   "cell_type": "markdown",
   "id": "70d688a1",
   "metadata": {},
   "source": [
    "#### Исследование `online_security`"
   ]
  },
  {
   "cell_type": "code",
   "execution_count": null,
   "id": "b4aa854d",
   "metadata": {},
   "outputs": [],
   "source": [
    "train['online_security'].unique()"
   ]
  },
  {
   "cell_type": "markdown",
   "id": "b25f0e89",
   "metadata": {},
   "source": [
    "**Выводы:**\n",
    "- Дублей нет, можно использовать оригинальное название категорий"
   ]
  },
  {
   "cell_type": "code",
   "execution_count": null,
   "id": "a7a6139d",
   "metadata": {},
   "outputs": [],
   "source": [
    "# Распределение признака в выборке\n",
    "get_bar(\n",
    "    train['online_security'].value_counts().sort_values(),\n",
    "    'Соотношение всех клиентов по группам блокировки сайтов (до заполнения)',\n",
    "    'Платёжные интервалы',\n",
    "    'Процентное соотношение, %',\n",
    "    0,\n",
    "    None,\n",
    "    percentage=True,\n",
    "    cmap_obj='twilight_shifted'\n",
    ")\n",
    "# Распределение признака относительно целевого\n",
    "get_double_trouble_bar(\n",
    "    train.groupby('online_security')['goodbye_my_friend'].value_counts(),\n",
    "    'Соотношение клиентов по группам блокировки сайто<br>в группах целевого признака (до заполнения)',\n",
    "    'Категории',\n",
    "    'Соотношение по числу клиентов<br>в группах целевого признака, %',\n",
    "    0,\n",
    "    None,\n",
    "    color_delimiter ='stay',\n",
    "    percentage=True,\n",
    "    vertical_counting=True\n",
    ")"
   ]
  },
  {
   "cell_type": "markdown",
   "id": "bc8dd3c6",
   "metadata": {},
   "source": [
    "**Выводы:**\n",
    "- 63% клиентов предпочитают не использовать опцию блокировки опасных сайтов\n",
    "- Среди ушедших больше тех, кто этой опцией не пользовался (больше на 11%)\n",
    "- Среди оставшихся также больше тех, кто жтой опцией не пользуется, но разброс выше (30%)\n",
    "- Учитывая, что по своей природе наличие или отсутсвие антивируса - бинарный признак, отсутсвие данной опции `np.nan` можно заменить на `no`"
   ]
  },
  {
   "cell_type": "markdown",
   "id": "7a1bb562",
   "metadata": {},
   "source": [
    "**Заполнение пропусков**"
   ]
  },
  {
   "cell_type": "code",
   "execution_count": null,
   "id": "b3039be1",
   "metadata": {},
   "outputs": [],
   "source": [
    "train['online_security'] = (train['online_security'].fillna('no'))"
   ]
  },
  {
   "cell_type": "markdown",
   "id": "453ff2ce",
   "metadata": {},
   "source": [
    "**Изучение нового распределение**"
   ]
  },
  {
   "cell_type": "code",
   "execution_count": null,
   "id": "61bacc5a",
   "metadata": {},
   "outputs": [],
   "source": [
    "# Распределение признака относительно целевого\n",
    "get_double_trouble_bar(\n",
    "    train.groupby('online_security')['goodbye_my_friend'].value_counts(),\n",
    "    'Соотношение клиентов по группам блокировки сайтов<br>в группах целевого признака (без пропусков)',\n",
    "    'Категории',\n",
    "    'Соотношение по числу клиентов<br>в группах целевого признака, %',\n",
    "    0,\n",
    "    None,\n",
    "    color_delimiter ='stay',\n",
    "    percentage=True,\n",
    "    vertical_counting=True\n",
    ")"
   ]
  },
  {
   "cell_type": "markdown",
   "id": "42277b5b",
   "metadata": {},
   "source": [
    "**Выводы:**\n",
    "- Похоже, что группа осташихся и ушедших клиентов в равной степени заполнилась теми, кто не использует цензурирование"
   ]
  },
  {
   "cell_type": "markdown",
   "id": "aee858d0",
   "metadata": {},
   "source": [
    "#### Исследование `monthly_charges`"
   ]
  },
  {
   "cell_type": "code",
   "execution_count": null,
   "id": "5f832b11",
   "metadata": {},
   "outputs": [],
   "source": [
    "get_hist(\n",
    "    train['monthly_charges'],\n",
    "    'Распределение месячных расходов клиентов',\n",
    "    'Условных единиц',\n",
    "    'Плотность распределения',\n",
    "    bins=40,\n",
    "    lr=True,\n",
    "    poisson=False\n",
    ")\n",
    "\n",
    "get_double_trouble_hist(\n",
    "   train,\n",
    "    'monthly_charges',\n",
    "    30,\n",
    "    'Распределение месячных расходов клиентов по группам целевого признака',\n",
    "    'Условных единиц',\n",
    "    'Плотность вероятности',\n",
    "    lr=True,\n",
    "    group_by_what='goodbye_my_friend'\n",
    ")"
   ]
  },
  {
   "cell_type": "markdown",
   "id": "1c5bba5a",
   "metadata": {},
   "source": [
    "**Выводы:**\n",
    "- В среднем клиенты тратят в месяц 64.76 ус.ед.\n",
    "- Распределение имеет сложную форму, явно можно выделить три области:\n",
    "    - Траты < 30 ус.ед.\n",
    "    - Траты от 30 (>=) до 65 (<) ус.ед.\n",
    "    - Траты >= 65 ус.ед.\n",
    "- Месячные траты у оставшихся абонентов составляют 67.76 ус.ед., а у ушедших 75.75 ус.ед.\n",
    "- Формы распределений признака у обеих группы схожи с общей"
   ]
  },
  {
   "cell_type": "markdown",
   "id": "c768b3d5",
   "metadata": {},
   "source": [
    "##### Создание новых фичей на основе `monthly_charges`\n",
    "- Создадим новый столбец с категориями месячных трат по указанному выше условию"
   ]
  },
  {
   "cell_type": "markdown",
   "id": "dabd3de7",
   "metadata": {},
   "source": [
    "**Рассчитаем перцентили по указанным значениям**"
   ]
  },
  {
   "cell_type": "code",
   "execution_count": null,
   "id": "c6ab002c",
   "metadata": {},
   "outputs": [],
   "source": [
    "def get_percentile(data, lower_number = 30, upper_number = 65):\n",
    "    # Задаём начальное значение перцентелей\n",
    "    lower_percentile = None\n",
    "    upper_percentile = None\n",
    "    # Преобразуем series в отсортированный список numpy array\n",
    "    sorted_list = np.sort(np.asarray(data))\n",
    "    \n",
    "    # Проходимся по списку\n",
    "    for idx, value in enumerate(sorted_list):\n",
    "        # Если прошли первую границу и перцентиля ещё нет, то рассчитываем соответствующий перцентиль\n",
    "        if lower_number <= value and lower_percentile == None:\n",
    "            lower_percentile = np.round((idx + 0.5) / len(sorted_list) * 100)\n",
    "        # Если прошли первую границу и перцентиля ещё нет, то рассчитываем соответствующий перцентиль\n",
    "        if upper_number <= value and upper_percentile == None:\n",
    "            upper_percentile = np.round((idx + 0.5) / len(sorted_list) * 100)\n",
    "            # После этого можно остановиться\n",
    "            break\n",
    "    return lower_percentile, upper_percentile\n",
    "\n",
    "lower_percentile, upper_percentile = get_percentile(train['monthly_charges'], 30, 65)\n",
    "print(f'Нижний перцентиль: {lower_percentile}', f'Верхний перцентиль: {upper_percentile}', sep='\\n')\n"
   ]
  },
  {
   "cell_type": "markdown",
   "id": "018bd349",
   "metadata": {},
   "source": [
    "**Рассчитаем новые границы по найденным перцентилям и создадим по ним новый признак**"
   ]
  },
  {
   "cell_type": "code",
   "execution_count": null,
   "id": "8dbf575b",
   "metadata": {},
   "outputs": [],
   "source": [
    "# Найдём границы категорий\n",
    "lower_bound = np.percentile(train['monthly_charges'], lower_percentile)\n",
    "upper_bound = np.percentile(train['monthly_charges'], upper_percentile)\n",
    "\n",
    "train['monthly_charges_ternary'] = train['monthly_charges'].apply(\n",
    "    lambda x: 'low' if x < lower_bound \n",
    "    else 'medium' if lower_bound <= x < upper_bound \n",
    "    else 'high')\n",
    "train['monthly_charges_ternary'].unique()"
   ]
  },
  {
   "cell_type": "code",
   "execution_count": null,
   "id": "30fa7734",
   "metadata": {},
   "outputs": [],
   "source": [
    "#conditions = [\n",
    "#    cpip['monthly_charges'] < 30,\n",
    "#    (cpip['monthly_charges'] >= 30) & (cpip['monthly_charges'] < 65),\n",
    "#    cpip['monthly_charges'] >= 65\n",
    "#]\n",
    "#categories = ['low', 'medium', 'high']\n",
    "#\n",
    "#cpip['monthly_charges_ternary'] = np.select(conditions, categories)\n",
    "#cpip['monthly_charges_ternary'].unique()"
   ]
  },
  {
   "cell_type": "markdown",
   "id": "bc65c630",
   "metadata": {},
   "source": [
    "**Создадим признак на основе квартилей**"
   ]
  },
  {
   "cell_type": "code",
   "execution_count": null,
   "id": "5b7fca80",
   "metadata": {},
   "outputs": [],
   "source": [
    "p25 = np.percentile(train['monthly_charges'], 25)\n",
    "p75 = np.percentile(train['monthly_charges'], 75)\n",
    "p50 = np.percentile(train['monthly_charges'], 50)\n",
    "\n",
    "train['monthly_charges_quaternary'] = train['monthly_charges'].apply(\n",
    "    lambda x: 'low25' if x < p25 \n",
    "    else '25between50' if p25 <= x < p50 \n",
    "    else '50between70' if p50 <= x < p75\n",
    "    else 'high75')\n",
    "train['monthly_charges_quaternary'].unique()"
   ]
  },
  {
   "cell_type": "markdown",
   "id": "21a5c1b0",
   "metadata": {},
   "source": [
    "#### Исследование `total_charges`"
   ]
  },
  {
   "cell_type": "code",
   "execution_count": null,
   "id": "9c181182",
   "metadata": {},
   "outputs": [],
   "source": [
    "get_hist(\n",
    "    train['total_charges'],\n",
    "    'Распределение суммарных расходов клиентов',\n",
    "    'Условных единиц',\n",
    "    'Плотность распределения',\n",
    "    bins=40,\n",
    "    lr=True,\n",
    "    poisson=False\n",
    ")\n",
    "\n",
    "get_double_trouble_hist(\n",
    "   train,\n",
    "    'total_charges',\n",
    "    30,\n",
    "    'Распределение суммарных расходов клиентов по группам целевого признака',\n",
    "    'Условных единиц',\n",
    "    'Плотность вероятности',\n",
    "    lr=True,\n",
    "    group_by_what='goodbye_my_friend'\n",
    ")"
   ]
  },
  {
   "cell_type": "markdown",
   "id": "3df9e3de",
   "metadata": {},
   "source": [
    "**Выводы:**\n",
    "- В среднем суммарные траты клиентов составляют 2118.62 ус.ед.\n",
    "    - Количество клиентов убывает по экспоненциальному закону с увеличением суммарных трат\n",
    "- Суммарные траты клиентов оставшихся вместе с провайдером меньше, чем таковые у ушедших клиентов\n",
    "- Закон распределения оставшихся клиентов по сумме трат аналогичен распределению на общем графике\n",
    "    - Распределение трат клиентов, ушедших от провайдера имеет более симметричную форму вокруг своего среднего значения"
   ]
  },
  {
   "cell_type": "markdown",
   "id": "5dd266a6",
   "metadata": {},
   "source": [
    "**Работа с пропусками**\n",
    "- Проверим данные из пропущенных строк"
   ]
  },
  {
   "cell_type": "code",
   "execution_count": null,
   "id": "6d9c030c",
   "metadata": {},
   "outputs": [],
   "source": [
    "train[train['total_charges'].isna()]"
   ]
  },
  {
   "cell_type": "markdown",
   "id": "2415ea44",
   "metadata": {},
   "source": [
    "**Выводы:**\n",
    "- Заметим, что все данные записаны на момент `2020-02-01`\n",
    "    - Это значит, что как минимум одну оплату они внесли\n",
    "    - Однако информации по стоимости тарифов у нас нет\n",
    "- В столбце `type` информация по преобретённым пакетам говорит о том, что эти пользователи оформили тарифы на один и два года\n",
    "    - Заполним пропуски в `total_charges` по средним тратам в соответсвующих группах `type` \n",
    "    - Средние траты для заполнения рассчитаем как средние траты за месяц в соответствующих группах `type`, домноженных на количество оплаченных месяцев в подписке"
   ]
  },
  {
   "cell_type": "markdown",
   "id": "75e6d428",
   "metadata": {},
   "source": [
    "**Рассчитаем соответствующие месячне средние**"
   ]
  },
  {
   "cell_type": "code",
   "execution_count": null,
   "id": "8b1187e7",
   "metadata": {},
   "outputs": [],
   "source": [
    "means_monthly_charges = train.groupby('type')['monthly_charges'].mean()\n",
    "means_monthly_charges"
   ]
  },
  {
   "cell_type": "markdown",
   "id": "906942bf",
   "metadata": {},
   "source": [
    "**Запишем индексы пустых значений `total_charges` по группам `type`**"
   ]
  },
  {
   "cell_type": "code",
   "execution_count": null,
   "id": "2a701a99",
   "metadata": {},
   "outputs": [],
   "source": [
    "oy_idx = train[train['total_charges'].isna()].query('type == \"one year\"').index\n",
    "ty_idx = train[train['total_charges'].isna()].query('type == \"two year\"').index"
   ]
  },
  {
   "cell_type": "markdown",
   "id": "8bddf9ac",
   "metadata": {},
   "source": [
    "**Присвоим пустым значениям `total_charges` соответствующие средние за продолжительность подписки**"
   ]
  },
  {
   "cell_type": "code",
   "execution_count": null,
   "id": "98b5464c",
   "metadata": {},
   "outputs": [],
   "source": [
    "train.loc[oy_idx, 'total_charges'] = means_monthly_charges['one year'] * 12\n",
    "train.loc[ty_idx, 'total_charges'] = means_monthly_charges['two year'] * 24\n",
    "# Проверим, что пропусков не осталось\n",
    "train['total_charges'].isna().sum()"
   ]
  },
  {
   "cell_type": "markdown",
   "id": "1e20f7a5",
   "metadata": {},
   "source": [
    "#### Исследование `online_backup`"
   ]
  },
  {
   "cell_type": "code",
   "execution_count": null,
   "id": "8f847426",
   "metadata": {},
   "outputs": [],
   "source": [
    "train['online_backup'].unique()"
   ]
  },
  {
   "cell_type": "markdown",
   "id": "b1a9f1e7",
   "metadata": {},
   "source": [
    "**Выводы:**\n",
    "- Дублей нет, можно использовать оригинальное название категорий"
   ]
  },
  {
   "cell_type": "code",
   "execution_count": null,
   "id": "7d7887a6",
   "metadata": {},
   "outputs": [],
   "source": [
    "# Распределение признака в выборке\n",
    "get_bar(\n",
    "    train['online_backup'].value_counts().sort_values(),\n",
    "    'Соотношение всех клиентов по наличию облачного хранилища (до заполнения)',\n",
    "    'Функция резервного копирования',\n",
    "    'Процентное соотношение, %',\n",
    "    0,\n",
    "    None,\n",
    "    percentage=True,\n",
    "    cmap_obj='twilight_shifted'\n",
    ")\n",
    "# Распределение признака относительно целевого\n",
    "get_double_trouble_bar(\n",
    "    train.groupby('online_backup')['goodbye_my_friend'].value_counts(),\n",
    "    'Соотношение клиентов по наличию облачного хранилища<br>в группах целевого признака (до заполнения)',\n",
    "    'Категории',\n",
    "    'Соотношение по числу клиентов<br>в группах целевого признака, %',\n",
    "    0,\n",
    "    None,\n",
    "    color_delimiter ='stay',\n",
    "    percentage=True,\n",
    "    vertical_counting=True\n",
    ")"
   ]
  },
  {
   "cell_type": "markdown",
   "id": "0eee259a",
   "metadata": {},
   "source": [
    "**Выводы:**\n",
    "- Чуть более половины пользователей не используют облачное хранилище файлов\n",
    "- Среди тех, кто ушел больше всего оказалось тех, кто этим хранилищем пользовался\n",
    "- Среди оставшихся большая часть пользователей хранилищем не пользовалась\n",
    "- Отсутсвие информации также может говорить об отсутсвии подключения опции, поэтому заполним пропуски классом `no`"
   ]
  },
  {
   "cell_type": "markdown",
   "id": "897e60d8",
   "metadata": {},
   "source": [
    "**Заполнение пропусков**"
   ]
  },
  {
   "cell_type": "code",
   "execution_count": null,
   "id": "c43e7425",
   "metadata": {},
   "outputs": [],
   "source": [
    "train['online_backup'] = (train['online_backup'].fillna('no'))"
   ]
  },
  {
   "cell_type": "code",
   "execution_count": null,
   "id": "3411a796",
   "metadata": {},
   "outputs": [],
   "source": [
    "# Распределение признака относительно целевого\n",
    "get_double_trouble_bar(\n",
    "    train.groupby('online_backup')['goodbye_my_friend'].value_counts(),\n",
    "    'Соотношение клиентов по наличию облачного хранилищ<br>в группах целевого признака (без пропусков)',\n",
    "    'Категории',\n",
    "    'Соотношение по числу клиентов<br>в группах целевого признака, %',\n",
    "    0,\n",
    "    None,\n",
    "    color_delimiter ='stay',\n",
    "    percentage=True,\n",
    "    vertical_counting=True\n",
    ")"
   ]
  },
  {
   "cell_type": "markdown",
   "id": "29558ff8",
   "metadata": {},
   "source": [
    "**Выводы:**\n",
    "- Заполнение пропусков привело к изменению баланса классов\n",
    "    - Теперь в группе ушедших количество пользователей, без облачного хранилища приблизилось к пользователям, которые его использовали, но также разорвали договор"
   ]
  },
  {
   "cell_type": "markdown",
   "id": "1aa8620e",
   "metadata": {},
   "source": [
    "#### Исследование `device_protection`"
   ]
  },
  {
   "cell_type": "code",
   "execution_count": null,
   "id": "679e6e63",
   "metadata": {},
   "outputs": [],
   "source": [
    "train['device_protection'].unique()"
   ]
  },
  {
   "cell_type": "markdown",
   "id": "1c20f2fa",
   "metadata": {},
   "source": [
    "**Выводы:**\n",
    "- Дублей нет, можно использовать оригинальное название категорий"
   ]
  },
  {
   "cell_type": "code",
   "execution_count": null,
   "id": "edd3a90f",
   "metadata": {},
   "outputs": [],
   "source": [
    "# Распределение признака в выборке\n",
    "get_bar(\n",
    "    train['device_protection'].value_counts().sort_values(),\n",
    "    'Соотношение всех клиентов по наличию антивируса (до заполнения)',\n",
    "    'Антивирус',\n",
    "    'Процентное соотношение, %',\n",
    "    0,\n",
    "    None,\n",
    "    percentage=True,\n",
    "    cmap_obj='twilight_shifted'\n",
    ")\n",
    "# Распределение признака относительно целевого\n",
    "get_double_trouble_bar(\n",
    "    train.groupby('device_protection')['goodbye_my_friend'].value_counts(),\n",
    "    'Соотношение клиентов по наличию антивируса<br>в группах целевого признака (до заполнения)',\n",
    "    'Категории',\n",
    "    'Соотношение по числу клиентов<br>в группах целевого признака, %',\n",
    "    0,\n",
    "    None,\n",
    "    color_delimiter ='stay',\n",
    "    percentage=True,\n",
    "    vertical_counting=True\n",
    ")"
   ]
  },
  {
   "cell_type": "markdown",
   "id": "5aca4a5e",
   "metadata": {},
   "source": [
    "**Выводы:**\n",
    "- 56% пользователей не используют антивирус\n",
    "- Среди ушедших абонентов преобладают те, кто этим антивирусом пользовался\n",
    "- Среди оставшихся те, кто этой опции не подключал\n",
    "- Отсутсвие информации также может говорить об отсутсвии подключения опции, поэтому заполним пропуски категоринй `no`"
   ]
  },
  {
   "cell_type": "markdown",
   "id": "e140b79a",
   "metadata": {},
   "source": [
    "**Заполним пропуски**"
   ]
  },
  {
   "cell_type": "code",
   "execution_count": null,
   "id": "d42b11dd",
   "metadata": {},
   "outputs": [],
   "source": [
    "train['device_protection'] = (train['device_protection'].fillna('no'))"
   ]
  },
  {
   "cell_type": "code",
   "execution_count": null,
   "id": "fa585d4f",
   "metadata": {},
   "outputs": [],
   "source": [
    "# Распределение признака относительно целевого\n",
    "get_double_trouble_bar(\n",
    "    train.groupby('device_protection')['goodbye_my_friend'].value_counts(),\n",
    "    'Соотношение клиентов по наличию антивируса<br>в группах целевого признака (без пропусков)',\n",
    "    'Категории',\n",
    "    'Соотношение по числу клиентов<br>в группах целевого признака, %',\n",
    "    0,\n",
    "    None,\n",
    "    color_delimiter ='stay',\n",
    "    percentage=True,\n",
    "    vertical_counting=True\n",
    ")"
   ]
  },
  {
   "cell_type": "markdown",
   "id": "b7bc6555",
   "metadata": {},
   "source": [
    "**Выводы:**\n",
    "- В группе оставшихся соотношение классов не изменилось\n",
    "- А в группе ушедших количество клиентов, использующих антивирус и тех, кто его не использовал практически сравнялось"
   ]
  },
  {
   "cell_type": "markdown",
   "id": "9134c6c6",
   "metadata": {},
   "source": [
    "#### Исследование `tech_support`"
   ]
  },
  {
   "cell_type": "code",
   "execution_count": null,
   "id": "9c64f945",
   "metadata": {},
   "outputs": [],
   "source": [
    "train['tech_support'].unique()"
   ]
  },
  {
   "cell_type": "markdown",
   "id": "0880e0f7",
   "metadata": {},
   "source": [
    "**Выводы:**\n",
    "- Дублей нет, можно использовать оригинальное название категорий"
   ]
  },
  {
   "cell_type": "code",
   "execution_count": null,
   "id": "c3757502",
   "metadata": {},
   "outputs": [],
   "source": [
    "# Распределение признака в выборке\n",
    "get_bar(\n",
    "    train['tech_support'].value_counts().sort_values(),\n",
    "    'Соотношение всех клиентов по наличию<br>выделенной линии тех. поддержки (до заполнения)',\n",
    "    'Выделенная линия тех.поддержки',\n",
    "    'Процентное соотношение, %',\n",
    "    0,\n",
    "    None,\n",
    "    percentage=True,\n",
    "    cmap_obj='twilight_shifted'\n",
    ")\n",
    "# Распределение признака относительно целевого\n",
    "get_double_trouble_bar(\n",
    "    train.groupby('tech_support')['goodbye_my_friend'].value_counts(),\n",
    "    'Соотношение клиентов по наличию выделенной линии тех.<br>поддержки в группах целевого признака (до заполнения)',\n",
    "    'Категории',\n",
    "    'Соотношение по числу клиентов<br>в группах целевого признака, %',\n",
    "    0,\n",
    "    None,\n",
    "    color_delimiter ='stay',\n",
    "    percentage=True,\n",
    "    vertical_counting=True\n",
    ")"
   ]
  },
  {
   "cell_type": "markdown",
   "id": "ee5e8f9b",
   "metadata": {},
   "source": [
    "**Выводы:**\n",
    "- 63% клиентов не пользуются выделенной линией тех. поддержки\n",
    "- Среди клиентов, разорвавших контракт большинство клиентов не пользовались выделенной линией тех.поддержки\n",
    "- Среди оставшихся абонентов выделенная линия тех поддержки также не использовалась\n",
    "- Отсутсвие информации также может говорить об отсутсвии подключения опции, поэтому заполним пропуски группой `no` "
   ]
  },
  {
   "cell_type": "markdown",
   "id": "83edb3d1",
   "metadata": {},
   "source": [
    "**Заполнение пропусков**"
   ]
  },
  {
   "cell_type": "code",
   "execution_count": null,
   "id": "53fded7e",
   "metadata": {},
   "outputs": [],
   "source": [
    "train['tech_support'] = (train['tech_support'].fillna('no'))"
   ]
  },
  {
   "cell_type": "code",
   "execution_count": null,
   "id": "4ac99e58",
   "metadata": {},
   "outputs": [],
   "source": [
    "# Распределение признака относительно целевого\n",
    "get_double_trouble_bar(\n",
    "    train.groupby('tech_support')['goodbye_my_friend'].value_counts(),\n",
    "    'Соотношение клиентов по наличию выделенной линии тех.<br>поддержки в группах целевого признака (без пропусков)',\n",
    "    'Категории',\n",
    "    'Соотношение по числу клиентов<br>в группах целевого признака, %',\n",
    "    0,\n",
    "    None,\n",
    "    color_delimiter ='stay',\n",
    "    percentage=True,\n",
    "    vertical_counting=True\n",
    ")"
   ]
  },
  {
   "cell_type": "markdown",
   "id": "df59ae31",
   "metadata": {},
   "source": [
    "**Выводы:**\n",
    "- Как и ожидалось, теперь соотношение между наличием и отсутсвием выделенной линии тех. поддержки более выражено в обеих группах по целевому признаку"
   ]
  },
  {
   "cell_type": "markdown",
   "id": "90fa0125",
   "metadata": {},
   "source": [
    "#### Исследование `streaming_tv`"
   ]
  },
  {
   "cell_type": "code",
   "execution_count": null,
   "id": "bb4512a1",
   "metadata": {},
   "outputs": [],
   "source": [
    "train['streaming_tv'].unique()"
   ]
  },
  {
   "cell_type": "markdown",
   "id": "db5c5cfe",
   "metadata": {},
   "source": [
    "**Выводы:**\n",
    "- Дублей нет, можно использовать оригинальное название категорий"
   ]
  },
  {
   "cell_type": "code",
   "execution_count": null,
   "id": "057912f4",
   "metadata": {},
   "outputs": [],
   "source": [
    "# Распределение признака в выборке\n",
    "get_bar(\n",
    "    train['streaming_tv'].value_counts().sort_values(),\n",
    "    'Соотношение всех клиентов по наличию стримингово тв. (до заполнения)',\n",
    "    'Стриминговое телевидение',\n",
    "    'Процентное соотношение, %',\n",
    "    0,\n",
    "    None,\n",
    "    percentage=True,\n",
    "    cmap_obj='twilight_shifted'\n",
    ")\n",
    "# Распределение признака относительно целевого\n",
    "get_double_trouble_bar(\n",
    "    train.groupby('streaming_tv')['goodbye_my_friend'].value_counts(),\n",
    "    'Соотношение клиентов по наличию стримингово тв.<br>в группах целевого признака (до заполнения)',\n",
    "    'Категории',\n",
    "    'Соотношение по числу клиентов<br>в группах целевого признака, %',\n",
    "    0,\n",
    "    None,\n",
    "    color_delimiter ='stay',\n",
    "    percentage=True,\n",
    "    vertical_counting=True\n",
    ")"
   ]
  },
  {
   "cell_type": "markdown",
   "id": "b2e5710c",
   "metadata": {},
   "source": [
    "**Выводы:**\n",
    "- Соотношение пользователей использующих данную опцию с пользователями, которые её не используют близко друг к другу\n",
    "- Среди клиентов, отказавшихся от услуг компании больше тех, кто пользовался стриминговым тв.\n",
    "- Среди тех, кто остался разрыв в группах не так велик, однако соотношение пользователей данную опцию не использующих 53.6% против 46.4% использующих\n",
    "- Предположим, что пропуски обусловлены отсутсвием данной опции в пакете пользователя, а поэтому заменим пропуски на `no`"
   ]
  },
  {
   "cell_type": "markdown",
   "id": "4b1bc66b",
   "metadata": {},
   "source": [
    "**Заполнение пропусков**"
   ]
  },
  {
   "cell_type": "code",
   "execution_count": null,
   "id": "182f1ce8",
   "metadata": {},
   "outputs": [],
   "source": [
    "train['streaming_tv'] = (train['streaming_tv'].fillna('no'))"
   ]
  },
  {
   "cell_type": "code",
   "execution_count": null,
   "id": "7249672a",
   "metadata": {},
   "outputs": [],
   "source": [
    "# Распределение признака относительно целевого\n",
    "get_double_trouble_bar(\n",
    "    train.groupby('streaming_tv')['goodbye_my_friend'].value_counts(),\n",
    "    'Соотношение клиентов по наличию стримингово тв<br>в группах целевого признака (без пропусков)',\n",
    "    'Категории',\n",
    "    'Соотношение по числу клиентов<br>в группах целевого признака, %',\n",
    "    0,\n",
    "    None,\n",
    "    color_delimiter ='stay',\n",
    "    percentage=True,\n",
    "    vertical_counting=True\n",
    ")"
   ]
  },
  {
   "cell_type": "markdown",
   "id": "dfb1b583",
   "metadata": {},
   "source": [
    "**Выводы:**\n",
    "- Количество пользователей без стримингового тв. увеличилось в обеих группах\n",
    "    - Так, в группе оставшихся разрыв между пользователями по факту наличия данной опции возрос:\n",
    "        - 64.2% без против 35.8% со стриминговым тв.\n",
    "    - В группе расторгнувших договор пользователей соотношение изменилось и стало более близким:\n",
    "        - 47% без против 53% со строиминговым тв."
   ]
  },
  {
   "cell_type": "markdown",
   "id": "89d0277c",
   "metadata": {},
   "source": [
    "#### Исследование `streaming_movies`"
   ]
  },
  {
   "cell_type": "code",
   "execution_count": null,
   "id": "ec78bf85",
   "metadata": {},
   "outputs": [],
   "source": [
    "train['streaming_movies'].unique()"
   ]
  },
  {
   "cell_type": "markdown",
   "id": "a8495a6d",
   "metadata": {},
   "source": [
    "**Выводы:**\n",
    "- Дублей нет, можно использовать оригинальное название категорий"
   ]
  },
  {
   "cell_type": "code",
   "execution_count": null,
   "id": "005783a4",
   "metadata": {},
   "outputs": [],
   "source": [
    "# Распределение признака в выборке\n",
    "get_bar(\n",
    "    train['streaming_movies'].value_counts().sort_values(),\n",
    "    'Соотношение всех клиентов по наличию каталога кино (до заполнения)',\n",
    "    'Каталог кинофильмов',\n",
    "    'Процентное соотношение, %',\n",
    "    0,\n",
    "    None,\n",
    "    percentage=True,\n",
    "    cmap_obj='twilight_shifted'\n",
    ")\n",
    "# Распределение признака относительно целевого\n",
    "get_double_trouble_bar(\n",
    "    train.groupby('streaming_movies')['goodbye_my_friend'].value_counts(),\n",
    "    'Соотношение клиентов по наличию каталога кино<br>в группах целевого признака (до заполнения)',\n",
    "    'Категории',\n",
    "    'Соотношение по числу клиентов<br>в группах целевого признака, %',\n",
    "    0,\n",
    "    None,\n",
    "    color_delimiter ='stay',\n",
    "    percentage=True,\n",
    "    vertical_counting=True\n",
    ")"
   ]
  },
  {
   "cell_type": "markdown",
   "id": "cd99f619",
   "metadata": {},
   "source": [
    "**Выводы:**\n",
    "- Соотношение пользователей купивших каталог кино против тех, кто его не приобрёл практически 1 к 1\n",
    "- Среди ушедших пользователей больше тех, кто этим каталогом пользовался\n",
    "- А среди тех, кто остался больше тех, кто этим каталогом не пользуется\n",
    "- Заполним пропуски категорией `no`, предположив, что отсутвие значений говорит об отключенной опции"
   ]
  },
  {
   "cell_type": "markdown",
   "id": "fad6effa",
   "metadata": {},
   "source": [
    "**Заполнение пропусков**"
   ]
  },
  {
   "cell_type": "code",
   "execution_count": null,
   "id": "3e475309",
   "metadata": {},
   "outputs": [],
   "source": [
    "train['streaming_movies'] = (train['streaming_movies'].fillna('no'))"
   ]
  },
  {
   "cell_type": "code",
   "execution_count": null,
   "id": "828835de",
   "metadata": {},
   "outputs": [],
   "source": [
    "# Распределение признака относительно целевого\n",
    "get_double_trouble_bar(\n",
    "    train.groupby('streaming_movies')['goodbye_my_friend'].value_counts(),\n",
    "    'Соотношение клиентов по наличиюкаталога кино<br>в группах целевого признака (без пропусков)',\n",
    "    'Категории',\n",
    "    'Соотношение по числу клиентов<br>в группах целевого признака, %',\n",
    "    0,\n",
    "    None,\n",
    "    color_delimiter ='stay',\n",
    "    percentage=True,\n",
    "    vertical_counting=True\n",
    ")"
   ]
  },
  {
   "cell_type": "markdown",
   "id": "43457025",
   "metadata": {},
   "source": [
    "**Выводы:**\n",
    "- Соотношение пользователей немного изменилось\n",
    "- Среди тех, кто расторгнул договор количество пользователей не использовавших каталог кино возросло и приблизилось к количеству пользователей ранее его купивших: 45% не купивших против 55% ранее купишви пакет кинофильмов\n",
    "- Среди оставшихся пользователей ранее имеющаяся разница увеличилось и тепь пользователй без этой опции 64.2%"
   ]
  },
  {
   "cell_type": "markdown",
   "id": "47af8ae4",
   "metadata": {},
   "source": [
    "#### Исследование `multiple_lines`"
   ]
  },
  {
   "cell_type": "code",
   "execution_count": null,
   "id": "3872b1cc",
   "metadata": {},
   "outputs": [],
   "source": [
    "train['multiple_lines'].unique()"
   ]
  },
  {
   "cell_type": "markdown",
   "id": "7bdc3ab3",
   "metadata": {},
   "source": [
    "**Выводы:**\n",
    "- Дублей нет, можно использовать оригинальное название категорий"
   ]
  },
  {
   "cell_type": "code",
   "execution_count": null,
   "id": "dfebdd88",
   "metadata": {},
   "outputs": [],
   "source": [
    "# Распределение признака в выборке\n",
    "get_bar(\n",
    "    train['multiple_lines'].value_counts().sort_values(),\n",
    "    'Соотношение всех клиентов по наличию<br>нескольких линий подключения (до заполнения)',\n",
    "    'Несколько линий подключения',\n",
    "    'Процентное соотношение, %',\n",
    "    0,\n",
    "    None,\n",
    "    percentage=True,\n",
    "    cmap_obj='twilight_shifted'\n",
    ")\n",
    "# Распределение признака относительно целевого\n",
    "get_double_trouble_bar(\n",
    "    train.groupby('multiple_lines')['goodbye_my_friend'].value_counts(),\n",
    "    'Соотношение клиентов по наличию нескольких линий подключения<br>в группах целевого признака (до заполнения)',\n",
    "    'Категории',\n",
    "    'Соотношение по числу клиентов<br>в группах целевого признака, %',\n",
    "    0,\n",
    "    None,\n",
    "    color_delimiter ='stay',\n",
    "    percentage=True,\n",
    "    vertical_counting=True\n",
    ")"
   ]
  },
  {
   "cell_type": "markdown",
   "id": "d8945043",
   "metadata": {},
   "source": [
    "**Выводы:**\n",
    "- 53% пользователей не используют мультилинию\n",
    "- Среди тех, кто расторгнул договор больше всего тех, кто был подключен по мультилинии\n",
    "- Среди оставшихся клиентов 57% мультилинией не пользуются\n",
    "- Предположим, что пропуски обусловлены фактом отсутствия подключения по мультилинии и присвоим им класс `no`"
   ]
  },
  {
   "cell_type": "markdown",
   "id": "59f1cba3",
   "metadata": {},
   "source": [
    "**Заполнение пропусков**"
   ]
  },
  {
   "cell_type": "code",
   "execution_count": null,
   "id": "cf39445a",
   "metadata": {},
   "outputs": [],
   "source": [
    "train['multiple_lines'] = (train['multiple_lines'].fillna('no'))"
   ]
  },
  {
   "cell_type": "code",
   "execution_count": null,
   "id": "5db27c3c",
   "metadata": {},
   "outputs": [],
   "source": [
    "# Распределение признака относительно целевого\n",
    "get_double_trouble_bar(\n",
    "    train.groupby('multiple_lines')['goodbye_my_friend'].value_counts(),\n",
    "    'Соотношение клиентов по наличию нескольких линий подключения<br>в группах целевого признака (без пропусков)',\n",
    "    'Категории',\n",
    "    'Соотношение по числу клиентов<br>в группах целевого признака, %',\n",
    "    0,\n",
    "    None,\n",
    "    color_delimiter ='stay',\n",
    "    percentage=True,\n",
    "    vertical_counting=True\n",
    ")"
   ]
  },
  {
   "cell_type": "markdown",
   "id": "3d68d44b",
   "metadata": {},
   "source": [
    "**Выводы:**\n",
    "- Похоже, что большинство пользователей не использующих мультилинию отказались расторгать договор"
   ]
  },
  {
   "cell_type": "markdown",
   "id": "576937d2",
   "metadata": {},
   "source": [
    "#### Исследование `begin_date` и `end_date`"
   ]
  },
  {
   "cell_type": "markdown",
   "id": "7cb501f0",
   "metadata": {},
   "source": [
    "**Проверим форму представления данных**"
   ]
  },
  {
   "cell_type": "code",
   "execution_count": null,
   "id": "02240a40",
   "metadata": {},
   "outputs": [],
   "source": [
    "print(f\"Уникальное число лет в begin_date: {train['begin_date'].dt.year.nunique()}\",\n",
    "     f\"Уникальное число месяцев в begin_date: {train['begin_date'].dt.month.nunique()}\",\n",
    "     f\"Уникальное число дней в begin_date: {train['begin_date'].dt.day.nunique()}\",\n",
    "     f\"Уникальное число лет в end_date: {train['end_date'].dt.year.nunique()}\",\n",
    "     f\"Уникальное число месяцев в end_date: {train['end_date'].dt.month.nunique()}\",\n",
    "     f\"Уникальное число дней в end_date: {train['end_date'].dt.day.nunique()}\",\n",
    "     sep='\\n')"
   ]
  },
  {
   "cell_type": "markdown",
   "id": "a599da4e",
   "metadata": {},
   "source": [
    "**Выводы:**\n",
    "- Видимо, в базе данных даты начала и окончания обслуживания округлены до месяца\n",
    "- Создадим новый признак - промежуток времени между началом и окончанием договаора в днях\n",
    "    - Поскольку простого способа реализовать точный подсчёт количесвта месяцев нет, будем использовать количество дней\n",
    "    - Эта цифра будет иметь то же распределение, что и количество месяцев, но, при этом дует отображать реальный интервал времени"
   ]
  },
  {
   "cell_type": "markdown",
   "id": "3eeb4fb8",
   "metadata": {},
   "source": [
    "##### Создание новых фичей на основе `begin_date` и `end_date`"
   ]
  },
  {
   "cell_type": "code",
   "execution_count": null,
   "id": "71657666",
   "metadata": {},
   "outputs": [],
   "source": [
    "train['duration_by_days'] = (train['end_date'] - train['begin_date']).dt.days"
   ]
  },
  {
   "cell_type": "markdown",
   "id": "1078ccc5",
   "metadata": {},
   "source": [
    "### Комплексное исследование сгенерированных признаков\n",
    "- Среди созданных признаков имеются следующие:\n",
    "    - `payment_method_ternary`,\n",
    "    - `payment_method_binary`,\n",
    "    - `monthly_charges_ternary`,\n",
    "    - `monthly_charges_quaternary`,\n",
    "    - `duration_by_days`"
   ]
  },
  {
   "cell_type": "markdown",
   "id": "616e747f",
   "metadata": {},
   "source": [
    "#### Исследования `payment_method_ternary`"
   ]
  },
  {
   "cell_type": "code",
   "execution_count": null,
   "id": "4f1bd08a",
   "metadata": {},
   "outputs": [],
   "source": [
    "# Распределение признака в выборке\n",
    "get_bar(\n",
    "    train['payment_method_ternary'].value_counts().sort_values(),\n",
    "    'Соотношение клиентов по способам оплаты<br>с объединением автоматических платежей',\n",
    "    'Способы оплаты',\n",
    "    'Процентное соотношение, %',\n",
    "    0,\n",
    "    None,\n",
    "    percentage=True,\n",
    "    cmap_obj='twilight_shifted'\n",
    ")\n",
    "# Распределение признака относительно целевого\n",
    "get_double_trouble_bar(\n",
    "    train.groupby('payment_method_ternary')['goodbye_my_friend'].value_counts(),\n",
    "    'Соотношение клиентов по способам оплаты с объединением автоматических платежей<br>в группах целевого признака',\n",
    "    'Категории',\n",
    "    'Соотношение по числу клиентов<br>в группах целевого признака, %',\n",
    "    0,\n",
    "    None,\n",
    "    color_delimiter ='stay',\n",
    "    percentage=True,\n",
    "    vertical_counting=True\n",
    ")"
   ]
  },
  {
   "cell_type": "markdown",
   "id": "a26bef2a",
   "metadata": {},
   "source": [
    "**Выводы:**\n",
    "- По сравнению с оригинальным признаком среди ушедших выделяется группа автоплатежа"
   ]
  },
  {
   "cell_type": "markdown",
   "id": "637ea72e",
   "metadata": {},
   "source": [
    "#### Исследования `payment_method_binary`"
   ]
  },
  {
   "cell_type": "code",
   "execution_count": null,
   "id": "0b7ee708",
   "metadata": {},
   "outputs": [],
   "source": [
    "# Распределение признака в выборке\n",
    "get_bar(\n",
    "    train['payment_method_binary'].value_counts().sort_values(),\n",
    "    'Соотношение клиентов по способам оплаты с объединением электронных платежей',\n",
    "    'Способы оплаты',\n",
    "    'Процентное соотношение, %',\n",
    "    0,\n",
    "    None,\n",
    "    percentage=True,\n",
    "    cmap_obj='twilight_shifted'\n",
    ")\n",
    "# Распределение признака относительно целевого\n",
    "get_double_trouble_bar(\n",
    "    train.groupby('payment_method_binary')['goodbye_my_friend'].value_counts(),\n",
    "    'Соотношение клиентов по способам оплаты с объединением электронных платежей<br>в группах целевого признака',\n",
    "    'Категории',\n",
    "    'Соотношение по числу клиентов<br>в группах целевого признака, %',\n",
    "    0,\n",
    "    None,\n",
    "    color_delimiter ='stay',\n",
    "    percentage=True,\n",
    "    vertical_counting=True\n",
    ")"
   ]
  },
  {
   "cell_type": "markdown",
   "id": "d247405d",
   "metadata": {},
   "source": [
    "**Выводы:**\n",
    "- Среди классов выделяется электронная оплата\n",
    "- Возможно, этот признак не так важен, так как среди оставшихся и ушедших клиентов большинство осуществляют оплату через электронные платежи\n",
    "- Нужно построить матрицу корреляций и проверить какой их треъ признако в больше коррелирует с целевой переменной"
   ]
  },
  {
   "cell_type": "markdown",
   "id": "30b7e86e",
   "metadata": {},
   "source": [
    "#### Исследование `monthly_charges_ternary`"
   ]
  },
  {
   "cell_type": "code",
   "execution_count": null,
   "id": "0b926c7a",
   "metadata": {},
   "outputs": [],
   "source": [
    "# Распределение признака в выборке\n",
    "get_bar(\n",
    "    train['monthly_charges_ternary'].value_counts().sort_values(),\n",
    "    'Соотношение клиентов по категориям трат за месяц',\n",
    "    'Способы оплаты',\n",
    "    'Процентное соотношение, %',\n",
    "    0,\n",
    "    None,\n",
    "    percentage=True,\n",
    "    cmap_obj='twilight_shifted'\n",
    ")\n",
    "# Распределение признака относительно целевого\n",
    "get_double_trouble_bar(\n",
    "    train.groupby('monthly_charges_ternary')['goodbye_my_friend'].value_counts(),\n",
    "    'Соотношение клиентов по категориям трат за месяц<br>в группах целевого признака',\n",
    "    'Категории',\n",
    "    'Соотношение по числу клиентов<br>в группах целевого признака, %',\n",
    "    0,\n",
    "    None,\n",
    "    color_delimiter ='stay',\n",
    "    percentage=True,\n",
    "    vertical_counting=True\n",
    ")"
   ]
  },
  {
   "cell_type": "markdown",
   "id": "ce961a18",
   "metadata": {},
   "source": [
    "**Выводы:**\n",
    "- Больше всего клиентов с высокими месячными тратами\n",
    "- Среди ушедших пользователей больше всего тех, кто тратит много в среднм за месяц\n",
    "- Однако среди оставшихся клиентов процент тех ,кто тратит много в среднем в месяц также высок"
   ]
  },
  {
   "cell_type": "markdown",
   "id": "ee75e2ae",
   "metadata": {},
   "source": [
    "#### Исследование `monthly_charges_quaternary`"
   ]
  },
  {
   "cell_type": "code",
   "execution_count": null,
   "id": "92908458",
   "metadata": {},
   "outputs": [],
   "source": [
    "# Распределение признака относительно целевого\n",
    "get_double_trouble_bar(\n",
    "    train.groupby('monthly_charges_quaternary')['goodbye_my_friend'].value_counts(),\n",
    "    'Соотношение клиентов по квартилям<br>в группах целевого признака',\n",
    "    'Категории',\n",
    "    'Соотношение по числу клиентов<br>в группах целевого признака, %',\n",
    "    0,\n",
    "    None,\n",
    "    color_delimiter ='stay',\n",
    "    percentage=True,\n",
    "    vertical_counting=True\n",
    ")"
   ]
  },
  {
   "cell_type": "markdown",
   "id": "14b2490b",
   "metadata": {},
   "source": [
    "**Выводы:**\n",
    "- Распределение групп похоже на то, что было после разделения рассчитанным перцентилям\n",
    "- Однако наполнение групп совершенно иное\n",
    "- Но в целом распределение равномерное между группами"
   ]
  },
  {
   "cell_type": "markdown",
   "id": "079f3979",
   "metadata": {},
   "source": [
    "#### Исследование `duration_by_days`"
   ]
  },
  {
   "cell_type": "code",
   "execution_count": null,
   "id": "e3095faa",
   "metadata": {},
   "outputs": [],
   "source": [
    "get_hist(\n",
    "    train['duration_by_days'],\n",
    "    'Распределение продолжительности пользования услугами оператора',\n",
    "    'Условных единиц',\n",
    "    'Плотность распределения',\n",
    "    bins=40,\n",
    "    lr=True,\n",
    "    poisson=False\n",
    ")\n",
    "\n",
    "get_double_trouble_hist(\n",
    "   train,\n",
    "    'duration_by_days',\n",
    "    30,\n",
    "    'Распределение продолжительности пользования услугами оператора по группам целевого признака',\n",
    "    'Условных единиц',\n",
    "    'Плотность вероятности',\n",
    "    lr=True,\n",
    "    group_by_what='goodbye_my_friend'\n",
    ")\n"
   ]
  },
  {
   "cell_type": "markdown",
   "id": "65ab3c6c",
   "metadata": {},
   "source": [
    "**Выводы:**\n",
    "- В среднем клиенты разрывают договор через 20 месяцев\n",
    "- Распределение продолжительности в группах целевого признака отличается друг от друга\n",
    "- Однако средние значения близки друг к другу\n",
    "- Среди оставшихся клиентов преобладают те, кто только начал пользоваться услугами и те, кто уже очень давно или пользуется\n",
    "- Клиенты в промежуточном интервале чаще всего разрывают контракт"
   ]
  },
  {
   "cell_type": "markdown",
   "id": "c96dce3f",
   "metadata": {},
   "source": [
    "### Корреляционный анализ признаков"
   ]
  },
  {
   "cell_type": "markdown",
   "id": "0e3cad2c",
   "metadata": {},
   "source": [
    "#### Удаление ненужных столбцов\n",
    "- Удалим столбы: `id`, `begin_date`, `end_date`\n",
    "- Они больше не представляют для нас практической ценности"
   ]
  },
  {
   "cell_type": "code",
   "execution_count": null,
   "id": "f62fda09",
   "metadata": {},
   "outputs": [],
   "source": [
    "f_drop_list = set(['id', 'begin_date', 'end_date'])\n",
    "train = train.drop(f_drop_list, axis=1)"
   ]
  },
  {
   "cell_type": "markdown",
   "id": "572969db",
   "metadata": {},
   "source": [
    "**Переопределим порядок столбцов для удобства**"
   ]
  },
  {
   "cell_type": "code",
   "execution_count": null,
   "id": "cf8ba14a",
   "metadata": {},
   "outputs": [],
   "source": [
    "new_columns_order = ['goodbye_my_friend'] + [col for col in train.columns if col != 'goodbye_my_friend']\n",
    "train = train[new_columns_order]"
   ]
  },
  {
   "cell_type": "markdown",
   "id": "8e2ef010",
   "metadata": {},
   "source": [
    "**Построим матрицу корреляций**"
   ]
  },
  {
   "cell_type": "code",
   "execution_count": null,
   "id": "46469abe",
   "metadata": {},
   "outputs": [],
   "source": [
    "get_corr_heatmap(train, 'Матрица корреляций к-та phik', how='phik', how_many_times = 20)"
   ]
  },
  {
   "cell_type": "markdown",
   "id": "be537996",
   "metadata": {},
   "source": [
    "**Выводы:**\n",
    "- Среди признаков мультиколлениарные в основаном те, что мы нагенерировали\n",
    "- При этом, уровень корреляции нагенерированных мультиколлинеарных признаков ниже с целевой переменной, чем у оригинала\n",
    "- Среди оригинальных признаков мультиколлинеарными признаками можно считать месячные траты клиента и тип подключения\n",
    "- Присутствуют неинформативные признами, которые совершенно не связаны с целевой переменной\n",
    "- Удалим из фрейма неинформативные и коллинеарные между собой признаки, которые менее всего коррелируют с целевым признаком"
   ]
  },
  {
   "cell_type": "markdown",
   "id": "1e176f69",
   "metadata": {},
   "source": [
    "#### Удаление неинформативных и мультиколлинеарных признаков\n",
    "- Порог мультиколлинеарности: `0.9`\n",
    "- Порог неинформативности: `0.1`"
   ]
  },
  {
   "cell_type": "markdown",
   "id": "b3aedd01",
   "metadata": {},
   "source": [
    "**Найдём неинформативные и мультиколлинеарные признаки**"
   ]
  },
  {
   "cell_type": "code",
   "execution_count": null,
   "id": "8bc92833",
   "metadata": {
    "scrolled": false
   },
   "outputs": [],
   "source": [
    "drop_features = drop_corr_exog_factors(\n",
    "    data=train,\n",
    "    r_max=0.9,\n",
    "    r_min=0.1,\n",
    "    target='goodbye_my_friend',\n",
    "    how='phik',\n",
    "    how_many_times=20\n",
    ")\n",
    "drop_features"
   ]
  },
  {
   "cell_type": "markdown",
   "id": "6929fd93",
   "metadata": {},
   "source": [
    "**Выводы:**\n",
    "- Оставили только значимые для таргета признаки\n",
    "- Удалили мультиколлинеарные\n",
    "- Из всех сгенерированных признаков осталась только продолжительность обслуживания и таргет\n",
    "- Все вышеописанные переменные будет удалять в пайплайне"
   ]
  },
  {
   "cell_type": "markdown",
   "id": "80ba447d",
   "metadata": {},
   "source": [
    "### Выводы"
   ]
  },
  {
   "cell_type": "markdown",
   "id": "20391e74",
   "metadata": {},
   "source": [
    "**Объем проделанной работы:**\n",
    "- Исследовано распределение всех оригинальных признаков\n",
    "    - Установлен дисбаланс классов по целевой переменной\n",
    "- Созданы новые фичи на основании уже имеющихся\n",
    "- Исследовано распределение всех сгенерированных признаков\n",
    "- Удалены признаки, которые не будут участвовать в дальнейшей работе\n",
    "- Проанализированы уровни корреляций признаков с таргетом и между собой\n",
    "    - Установлены неинформативные признаки\n",
    "    - Установлены мультиколлинеарные признаки\n",
    "- Из рассмотрения удалены мультиколлинеарные и неинформативные признаки\n",
    "- Составлен портрет ушедшего абонента:\n",
    "---\n",
    "**Портрет ушедшего пользователя:**\n",
    "- Это пользователь, который пользуется дополнительными услугами оператора\n",
    "- Абонент уже какое-то время пользуется сервисом, но постоянным клиентом его ещё назвать нельзя\n",
    "- Семейные абоненты независимо от наличия детей\n",
    "- Пользователь с месячеными и суммарными тратами больше \n",
    "---\n",
    "**Автоматизация предобработки**\n",
    "- В пайплайне нужно сделать следующее:\n",
    "    - Создать `duration_by_days`\n",
    "    - Заполнить пропуски в `total_charges`\n",
    "        - через `type` и `month_charges`\n",
    "    - Удалить \n",
    "        -`id`\n",
    "        - `begin_date`\n",
    "        - `end_date`\n",
    "        - `dependents`\n",
    "        - `gender`\n",
    "        - `internet_service`\n",
    "        - `monthly_charges`\n",
    "        - `paper_less_billing`\n",
    "        - `senior_citizen`\n",
    "        - `tech_support`\n",
    "    - Заполнить оставшиеся пропуски константой `no`"
   ]
  },
  {
   "cell_type": "markdown",
   "id": "dfcef592",
   "metadata": {},
   "source": [
    "## Подготовка данных для запуска моделей машинного обучения"
   ]
  },
  {
   "cell_type": "markdown",
   "id": "f3da2416",
   "metadata": {},
   "source": [
    "### Создание пайплайна подготовки данных\n",
    "- Нам важно учитывать именно минорный класс так как:\n",
    "    - Присутствует явный дисбаланс с перекосом в сторону `stay`\n",
    "    - Бизнес задача сформулирована как: \"Борьба с оттоком клиентов\"\n",
    "    - Любые метрики, связанные с определение `TP`, `FP`, `TN`, `TP`, зависят от выбора мажорного и минорного классов"
   ]
  },
  {
   "cell_type": "markdown",
   "id": "62ed6456",
   "metadata": {},
   "source": [
    "**Явно присвоим новые классы для целевой переменной**"
   ]
  },
  {
   "cell_type": "code",
   "execution_count": null,
   "id": "1ae32df3",
   "metadata": {},
   "outputs": [],
   "source": [
    "cbe = CustomBinaryEncoder(rename='goodbye_my_friend')\n",
    "cbe.fit(y_train)\n",
    "y_train_ml = cbe.transform(y_train)\n",
    "y_test_ml = cbe.transform(y_test)\n",
    "\n",
    "print(cbe.classes_)\n",
    "print(y_train_ml.value_counts() / len(y_train_ml) * 100)\n",
    "print(y_test_ml.value_counts()/ len(y_test_ml) * 100)"
   ]
  },
  {
   "cell_type": "markdown",
   "id": "9cc576f6",
   "metadata": {},
   "source": [
    "**Создадим общую часть пайплайна для предварительной подготовки данных**\n",
    "- Все категориальные столбцы мы заполняли константой `no` кроме столбца `internet_service`\n",
    "    - В нём пропуски заполнялись с помощью `other`\n",
    "- Все эти пропуски заполняются в `ObjectImputer`"
   ]
  },
  {
   "cell_type": "code",
   "execution_count": null,
   "id": "464520dc",
   "metadata": {},
   "outputs": [],
   "source": [
    "base_pipe = Pipeline(\n",
    "    [\n",
    "        # Эта часть пайплайна создаёт новый столбец\n",
    "        (\n",
    "            'dur_col_gen',\n",
    "            DurationColumnGenerator(\n",
    "                start_date='begin_date',\n",
    "                end_date='end_date',\n",
    "                duration_column_name='duration_by_days'\n",
    "            )\n",
    "        ),\n",
    "        # Эта чассть заполняет пропуски в 'total_charges'\n",
    "        (\n",
    "            'by_cat_imp',\n",
    "            ByCategoryImputer(\n",
    "                group_col='type',\n",
    "                monthly_col='monthly_charges',\n",
    "                total_col='total_charges',\n",
    "                unique_groups={'one year': 12, 'two year': 24, 'month-to-month': 1}\n",
    "            )\n",
    "        ),\n",
    "        # Здесь происходит удаление переданных столбцов\n",
    "        (\n",
    "            'drop_colums',\n",
    "            DropFeatures(columns=drop_features.union(f_drop_list))\n",
    "        ),\n",
    "        # Заполним проппуски во всех других столбцах\n",
    "        ('all_imputer',\n",
    "         ObjectImputer(\n",
    "             first_fill_value='no',\n",
    "             second_fill_value='other',\n",
    "             another_column='internet_service'\n",
    "         )\n",
    "        )\n",
    "    ]\n",
    ")"
   ]
  },
  {
   "cell_type": "markdown",
   "id": "0e207515",
   "metadata": {},
   "source": [
    "**Преобразуем данные перед передачей в пайплайн**"
   ]
  },
  {
   "cell_type": "code",
   "execution_count": null,
   "id": "f80a4ca9",
   "metadata": {
    "scrolled": false
   },
   "outputs": [],
   "source": [
    "X_train_ml = base_pipe.fit_transform(X_train)\n",
    "X_test_ml = base_pipe.transform(X_test)\n",
    "X_train_ml.info()"
   ]
  },
  {
   "cell_type": "markdown",
   "id": "7c050ea7",
   "metadata": {},
   "source": [
    "**Найдём числовые и категориальные столбцы для дальнейшей передачи в кодировщики**"
   ]
  },
  {
   "cell_type": "code",
   "execution_count": null,
   "id": "8afa8cdf",
   "metadata": {},
   "outputs": [],
   "source": [
    "cat_columns = X_train_ml.select_dtypes(include='category').columns\n",
    "num_columns = X_train_ml.select_dtypes(exclude='category').columns"
   ]
  },
  {
   "cell_type": "markdown",
   "id": "5269da40",
   "metadata": {},
   "source": [
    "### Пайплайн для линейных моделей, KNN и нейронных сетей"
   ]
  },
  {
   "cell_type": "code",
   "execution_count": null,
   "id": "dc460647",
   "metadata": {},
   "outputs": [],
   "source": [
    "lineal_preprocessor =  ColumnTransformer(\n",
    "    [\n",
    "        (\n",
    "            'ohe',\n",
    "            OneHotEncoder(drop='first', sparse_output=False),\n",
    "            cat_columns\n",
    "        ), \n",
    "        (\n",
    "            'num',\n",
    "            StandardScaler(),\n",
    "            num_columns\n",
    "        ),\n",
    "    ], \n",
    "        remainder='passthrough'\n",
    ")\n",
    "\n",
    "n_features_after_lp = lineal_preprocessor.fit_transform(X_train_ml).shape[1]\n",
    "print(f\"Всего признаков после препроцессора: {n_features_after_lp}\")"
   ]
  },
  {
   "cell_type": "code",
   "execution_count": null,
   "id": "b40e53ea",
   "metadata": {},
   "outputs": [],
   "source": [
    "lineal_pipe = Pipeline(\n",
    "    [\n",
    "        (\n",
    "            'preprocessor',\n",
    "            lineal_preprocessor\n",
    "        ),\n",
    "        (\n",
    "            'k_best',\n",
    "            SelectKBest(score_func=mutual_info_classif)\n",
    "        ),\n",
    "        (\n",
    "            'models',\n",
    "            LogisticRegression()\n",
    "        )\n",
    "    ])"
   ]
  },
  {
   "cell_type": "markdown",
   "id": "148f141d",
   "metadata": {},
   "source": [
    "### Пайплайн для деревянных моделей"
   ]
  },
  {
   "cell_type": "code",
   "execution_count": null,
   "id": "c7140c29",
   "metadata": {},
   "outputs": [],
   "source": [
    "tree_preprocessor =  ColumnTransformer(\n",
    "    [\n",
    "        (\n",
    "            'ord',\n",
    "            OrdinalEncoder(),\n",
    "            cat_columns\n",
    "        ), \n",
    "        (\n",
    "            'num',\n",
    "            StandardScaler(),\n",
    "            num_columns\n",
    "        )\n",
    "    ], \n",
    "        remainder='passthrough'\n",
    ")\n",
    "n_features_after_tp = tree_preprocessor.fit_transform(X_train_ml).shape[1]\n",
    "print(f\"Всего признаков после препроцессора: {n_features_after_tp}\")"
   ]
  },
  {
   "cell_type": "code",
   "execution_count": null,
   "id": "b4e72f06",
   "metadata": {},
   "outputs": [],
   "source": [
    "tree_pipe = Pipeline(\n",
    "    [\n",
    "        (\n",
    "            'preprocessor',\n",
    "            tree_preprocessor\n",
    "        ),\n",
    "        (\n",
    "            'k_best',\n",
    "            SelectKBest(score_func=mutual_info_classif)\n",
    "        ),\n",
    "        (\n",
    "            'models',\n",
    "            LogisticRegression()\n",
    "        )\n",
    "    ])"
   ]
  },
  {
   "cell_type": "markdown",
   "id": "62b875e0",
   "metadata": {},
   "source": [
    "### Создание словарей с перебором параметров пайплайна и гиперпараметров моделей"
   ]
  },
  {
   "cell_type": "markdown",
   "id": "e9f81793",
   "metadata": {},
   "source": [
    "#### Словарь: Логистическая регрессия"
   ]
  },
  {
   "cell_type": "code",
   "execution_count": null,
   "id": "470963fd",
   "metadata": {},
   "outputs": [],
   "source": [
    "param_grid_logistic = {\n",
    "    'models': CategoricalDistribution(\n",
    "        [\n",
    "            LogisticRegression(\n",
    "                random_state=RANDOM_STATE,\n",
    "                penalty='elasticnet',\n",
    "                solver='saga'\n",
    "            )\n",
    "        ]\n",
    "    ),\n",
    "    # Устанавливаем коэффициент силы регуляризации\n",
    "    'models__C': FloatDistribution(0.1, 5, step=0.2),\n",
    "    # Устанавливаем соотношение между методами регуляризации\n",
    "    'models__l1_ratio': FloatDistribution(0.1, 1.0, step=0.05),\n",
    "    # Устанавливаем диапазон для количества признаков\n",
    "    'k_best__k': IntDistribution(1, n_features_after_lp),\n",
    "    # Переберём скейлеры\n",
    "    'preprocessor__num': CategoricalDistribution(\n",
    "        [\n",
    "            StandardScaler(),\n",
    "            MinMaxScaler(),\n",
    "            RobustScaler(),\n",
    "            \"passthrough\"\n",
    "        ]\n",
    "    )\n",
    "}"
   ]
  },
  {
   "cell_type": "markdown",
   "id": "bdad62b0",
   "metadata": {},
   "source": [
    "#### Словарь: SVC"
   ]
  },
  {
   "cell_type": "code",
   "execution_count": null,
   "id": "ccdf53af",
   "metadata": {},
   "outputs": [],
   "source": [
    "param_grid_svc = {\n",
    "    'models': CategoricalDistribution(\n",
    "        [\n",
    "            SVC(\n",
    "                probability=True,\n",
    "                random_state=RANDOM_STATE\n",
    "            )\n",
    "        ]\n",
    "    ),\n",
    "    # Устанавливаем коэффициент силы регуляризации\n",
    "    'models__C': FloatDistribution(0.01, 5, step=0.5),\n",
    "    # Устанавливаем диапазон для количества признаков\n",
    "    'k_best__k': IntDistribution(1, n_features_after_lp),\n",
    "    # Переберём скейлеры\n",
    "    'preprocessor__num': CategoricalDistribution(\n",
    "        [\n",
    "            StandardScaler(),\n",
    "            MinMaxScaler(),\n",
    "            RobustScaler(),\n",
    "            \"passthrough\"\n",
    "        ]\n",
    "    )\n",
    "}"
   ]
  },
  {
   "cell_type": "markdown",
   "id": "bbce71ea",
   "metadata": {},
   "source": [
    "#### Словарь: классификатор K-соседей"
   ]
  },
  {
   "cell_type": "code",
   "execution_count": null,
   "id": "8f10cb38",
   "metadata": {},
   "outputs": [],
   "source": [
    "param_grid_kn = {\n",
    "    'models': CategoricalDistribution(\n",
    "        [\n",
    "            KNeighborsClassifier()\n",
    "        ]\n",
    "    ),\n",
    "    'models__n_neighbors': IntDistribution(3, 30), # Задаём количеству соседей\n",
    "    # Устанавливаем диапазон для количества признаков\n",
    "    'k_best__k': IntDistribution(1, n_features_after_lp),\n",
    "    # Переберём скейлеры\n",
    "    'preprocessor__num': CategoricalDistribution(\n",
    "        [\n",
    "            StandardScaler(),\n",
    "            MinMaxScaler(),\n",
    "            RobustScaler(),\n",
    "            \"passthrough\"\n",
    "        ]\n",
    "    )\n",
    "}"
   ]
  },
  {
   "cell_type": "markdown",
   "id": "c21f45e0",
   "metadata": {},
   "source": [
    "#### Словарь: Дерево решений"
   ]
  },
  {
   "cell_type": "code",
   "execution_count": null,
   "id": "0fbc8829",
   "metadata": {},
   "outputs": [],
   "source": [
    "param_grid_tree_class = {\n",
    "    'models': CategoricalDistribution(\n",
    "        [\n",
    "            DecisionTreeClassifier(random_state=RANDOM_STATE)\n",
    "        ]\n",
    "    ),\n",
    "    'models__max_depth': IntDistribution(2, 40),\n",
    "    'models__min_samples_leaf': IntDistribution(5, 30),\n",
    "    'models__min_samples_split': IntDistribution(5, 30),\n",
    "    'models__min_impurity_decrease' : FloatDistribution(0.0001, 0.005, step=0.0001), # Поставим ограничение на улучшение точности\n",
    "    # Устанавливаем диапазон для количества признаков\n",
    "    'k_best__k': IntDistribution(1, n_features_after_tp),\n",
    "    # Переберём скейлеры\n",
    "    'preprocessor__num': CategoricalDistribution(\n",
    "        [\n",
    "            StandardScaler(),\n",
    "            MinMaxScaler(),\n",
    "            RobustScaler(),\n",
    "            \"passthrough\"\n",
    "        ]\n",
    "    )\n",
    "}"
   ]
  },
  {
   "cell_type": "markdown",
   "id": "e1cd3c5b",
   "metadata": {},
   "source": [
    "#### Словарь: Случайный лес"
   ]
  },
  {
   "cell_type": "code",
   "execution_count": null,
   "id": "9f08e336",
   "metadata": {},
   "outputs": [],
   "source": [
    "param_grid_forest_class = {\n",
    "    'models': CategoricalDistribution(\n",
    "        [\n",
    "            RandomForestClassifier(random_state=RANDOM_STATE)\n",
    "        ]\n",
    "    ),\n",
    "    'models__n_estimators': IntDistribution(100, 500),\n",
    "    'models__max_depth': IntDistribution(2, 40),\n",
    "    'models__min_samples_leaf': IntDistribution(5, 30),\n",
    "    'models__min_samples_split': IntDistribution(5, 30),\n",
    "    'models__min_impurity_decrease' : FloatDistribution(0.0001, 0.005, step=0.0001), # Поставим ограничение на улучшение точности\n",
    "    # Устанавливаем диапазон для количества признаков\n",
    "    'k_best__k': IntDistribution(1, n_features_after_tp),\n",
    "    # Переберём скейлеры\n",
    "    'preprocessor__num': CategoricalDistribution(\n",
    "        [\n",
    "            StandardScaler(),\n",
    "            MinMaxScaler(),\n",
    "            RobustScaler(),\n",
    "            \"passthrough\"\n",
    "        ]\n",
    "    )\n",
    "}"
   ]
  },
  {
   "cell_type": "markdown",
   "id": "41dd25b8",
   "metadata": {},
   "source": [
    "#### Словарь: Градиентный бустинг"
   ]
  },
  {
   "cell_type": "code",
   "execution_count": null,
   "id": "d06fdf1b",
   "metadata": {},
   "outputs": [],
   "source": [
    "param_grid_boosting_class = {\n",
    "    'models': CategoricalDistribution(\n",
    "        [\n",
    "            GradientBoostingClassifier(random_state=RANDOM_STATE)\n",
    "        ]\n",
    "    ),\n",
    "    'models__n_estimators': IntDistribution(100, 1000),\n",
    "    'models__max_depth': IntDistribution(2, 40),\n",
    "    'models__min_samples_leaf': IntDistribution(5, 30),\n",
    "    'models__min_samples_split': IntDistribution(5, 30),\n",
    "    'models__min_impurity_decrease' : FloatDistribution(0.0001, 0.005, step=0.0001), # Поставим ограничение на улучшение точности\n",
    "    # Устанавливаем диапазон для количества признаков\n",
    "    'k_best__k': IntDistribution(1, n_features_after_tp),\n",
    "    # Переберём скейлеры\n",
    "    'preprocessor__num': CategoricalDistribution(\n",
    "        [\n",
    "            StandardScaler(),\n",
    "            MinMaxScaler(),\n",
    "            RobustScaler(),\n",
    "            \"passthrough\"\n",
    "        ]\n",
    "    )\n",
    "}"
   ]
  },
  {
   "cell_type": "markdown",
   "id": "1120f9b4",
   "metadata": {},
   "source": [
    "### Создание своего пайплайна для `CatBoost` и `LGBM`\n",
    "- Создадим два пайплайна\n",
    "    - Первый: без препроцессинга данных и выбора лучших признаков\n",
    "        - Доверимя CatBoost\n",
    "    - Второй:  аналогичный пайплайн, но с внутренней инициализацией модели CatBoost\n",
    "        - CatBoost нужно илициализировать модель при построении пайплайна\n",
    "- Для LGBM будет использовать также эти два пайплайна"
   ]
  },
  {
   "cell_type": "markdown",
   "id": "7f40b756",
   "metadata": {},
   "source": [
    "**Рассчитаем веса классов**\n",
    "- Расчёт весов проведём на тренировочной выборке для предотвращение утечки"
   ]
  },
  {
   "cell_type": "code",
   "execution_count": null,
   "id": "8102373e",
   "metadata": {},
   "outputs": [],
   "source": [
    "cw = compute_class_weight(class_weight='balanced', classes=np.unique(y_train_ml), y=y_train_ml)\n",
    "cw_dict = dict(zip(np.unique(y_train_ml), cw))\n",
    "cw_dict"
   ]
  },
  {
   "cell_type": "code",
   "execution_count": null,
   "id": "b5550828",
   "metadata": {},
   "outputs": [],
   "source": [
    "pipe_specific_empty = Pipeline(\n",
    "    [\n",
    "        (\n",
    "            'models',\n",
    "            CatBoostClassifier(\n",
    "                loss_function='Logloss',\n",
    "                eval_metric='AUC',\n",
    "                random_seed=RANDOM_STATE,\n",
    "                verbose=0,\n",
    "                #auto_class_weights='Balanced',\n",
    "                class_weights=cw_dict,\n",
    "                early_stopping_rounds=None,\n",
    "                cat_features=list(cat_columns))\n",
    "        )\n",
    "    ]\n",
    ")\n",
    "\n",
    "pipe_specific_full = Pipeline(\n",
    "    [\n",
    "        (\n",
    "            'preprocessor',\n",
    "            tree_preprocessor # Сперва кодируем и шкалируем признаки\n",
    "        ),\n",
    "        (\n",
    "            'k_best',\n",
    "            SelectKBest(score_func=mutual_info_classif) # После выбираем k-лучших\n",
    "        ),\n",
    "        (\n",
    "            'models',\n",
    "            CatBoostClassifier(\n",
    "                loss_function='Logloss',\n",
    "                eval_metric='AUC',\n",
    "                random_seed=RANDOM_STATE,\n",
    "                verbose=0,\n",
    "                #auto_class_weights='Balanced',\n",
    "                class_weights=cw_dict,\n",
    "                early_stopping_rounds=None)\n",
    "        )\n",
    "    ]\n",
    ")"
   ]
  },
  {
   "cell_type": "markdown",
   "id": "9077563a",
   "metadata": {},
   "source": [
    "#### Словарь CatBoost"
   ]
  },
  {
   "cell_type": "code",
   "execution_count": null,
   "id": "43f119e5",
   "metadata": {},
   "outputs": [],
   "source": [
    "param_grid_catboost_empty = {\n",
    "    'models__iterations': IntDistribution(100, 600),\n",
    "    'models__depth': IntDistribution(3, 8),\n",
    "    'models__l2_leaf_reg': FloatDistribution(1, 10),\n",
    "    'models__bagging_temperature': FloatDistribution(0, 1)\n",
    "}\n",
    "\n",
    "param_grid_catboost_full = {\n",
    "    'models__iterations': IntDistribution(100, 600),\n",
    "    'models__depth': IntDistribution(3, 8),\n",
    "    'models__l2_leaf_reg': FloatDistribution(1, 10),\n",
    "    'models__bagging_temperature': FloatDistribution(0, 1),\n",
    "    'k_best__k': IntDistribution(1, n_features_after_tp)\n",
    "}"
   ]
  },
  {
   "cell_type": "markdown",
   "id": "4a0c547d",
   "metadata": {},
   "source": [
    "#### Словарь: LGBM"
   ]
  },
  {
   "cell_type": "code",
   "execution_count": null,
   "id": "502198d0",
   "metadata": {},
   "outputs": [],
   "source": [
    "param_grid_lgbmc_empty = {\n",
    "    'models': CategoricalDistribution(\n",
    "        [\n",
    "            LGBMClassifier(\n",
    "                random_state=RANDOM_STATE,\n",
    "                objective= 'binary',\n",
    "                metric='auc',\n",
    "                verbosity = -1,\n",
    "                boosting_type = 'gbdt',\n",
    "                class_weight=cw_dict\n",
    "            )\n",
    "        ]\n",
    "    ),\n",
    "    \n",
    "    'models__n_estimators': IntDistribution(100, 600),\n",
    "    'models__max_depth': IntDistribution(3, 8)\n",
    "}\n",
    "\n",
    "param_grid_lgbmc_full = {\n",
    "    'models': CategoricalDistribution(\n",
    "        [\n",
    "            LGBMClassifier(\n",
    "                random_state=RANDOM_STATE,\n",
    "                objective= 'binary',\n",
    "                metric='auc',\n",
    "                verbosity = -1,\n",
    "                boosting_type = 'gbdt',\n",
    "                class_weight=cw_dict\n",
    "            )\n",
    "        ]\n",
    "    ),\n",
    "    \n",
    "    'models__n_estimators': IntDistribution(100, 600),\n",
    "    'models__max_depth': IntDistribution(3, 8),\n",
    "    # Устанавливаем диапазон для количества признаков\n",
    "    'k_best__k': IntDistribution(1, n_features_after_tp)\n",
    "}"
   ]
  },
  {
   "cell_type": "markdown",
   "id": "30f91ffe",
   "metadata": {},
   "source": [
    "### Подготовка данных для обучения нейронной сети"
   ]
  },
  {
   "cell_type": "markdown",
   "id": "50d1a932",
   "metadata": {},
   "source": [
    "**Явно предобрабатыем входные данные**\n",
    "- Будем использовать `StandardScaler`\n",
    "- Формат `y_train` уже подходит для обучения"
   ]
  },
  {
   "cell_type": "code",
   "execution_count": null,
   "id": "3a51e39b",
   "metadata": {},
   "outputs": [],
   "source": [
    "X_for_neurons = lineal_pipe.named_steps['preprocessor'].fit_transform(X_train_ml)"
   ]
  },
  {
   "cell_type": "markdown",
   "id": "e7f68854",
   "metadata": {},
   "source": [
    "**Создаём объект для кросс-валидации модели**\n",
    "- Зададим такое же число разбиейий как и на предыдущих этапах"
   ]
  },
  {
   "cell_type": "code",
   "execution_count": null,
   "id": "4a7d8fba",
   "metadata": {},
   "outputs": [],
   "source": [
    "cv_for_neurons = StratifiedKFold(n_splits=5, shuffle=True, random_state=RANDOM_STATE)"
   ]
  },
  {
   "cell_type": "markdown",
   "id": "17ad88c1",
   "metadata": {},
   "source": [
    "### Выводы"
   ]
  },
  {
   "cell_type": "markdown",
   "id": "a7748368",
   "metadata": {},
   "source": [
    "**Объем проделанной работы:**\n",
    "- Данные разбиты на тренировочную и тестовую выборки\n",
    "- Созданы пайплайны подготовки данных для различных моделей машинного обучения\n",
    "    - Внутри локиги пайплайна описаны способы кодирования бинарных и мульти классовых переменных\n",
    "    - Организована логика подбора скейлеров в зависимости от результатов работы моделей\n",
    "    - Описан способ выбора K-лучших признаков для улучшения качества метрики\n",
    "- Составлены словари подбора гиперпараметров для каждой модели машинного обучения\n",
    "- Созданы отдельный пайплайны для классификаторов CatBoost и LGBM\n",
    "- Подготовлены данные для обучения нейронных сетей на кросс-валидации совместо со стратификацией входящих фолдов\n",
    "    - Рассчитаны веса классов целевой переменной\n",
    "- Подобраны различные наборы гиперпараметров для каждой модели\n",
    "- Создана функция рассчёта точности предсказаний модели как дополнительного фактора при обучении моделей"
   ]
  },
  {
   "cell_type": "markdown",
   "id": "62f2dfe9",
   "metadata": {},
   "source": [
    "## Обучение моделей"
   ]
  },
  {
   "cell_type": "markdown",
   "id": "693cca9d",
   "metadata": {},
   "source": [
    "### Построение логистической регрессии"
   ]
  },
  {
   "cell_type": "code",
   "execution_count": null,
   "id": "09d3dcc1",
   "metadata": {
    "scrolled": false
   },
   "outputs": [],
   "source": [
    "oscv_lgr = obj(\n",
    "    X_train_ml,\n",
    "    y_train_ml,\n",
    "    pipe=lineal_pipe,\n",
    "    grid=param_grid_logistic\n",
    "    )"
   ]
  },
  {
   "cell_type": "markdown",
   "id": "e7ec51e0",
   "metadata": {},
   "source": [
    "### Построение SVC"
   ]
  },
  {
   "cell_type": "code",
   "execution_count": null,
   "id": "03117385",
   "metadata": {},
   "outputs": [],
   "source": [
    "oscv_svc = obj(\n",
    "    X_train_ml,\n",
    "    y_train_ml,\n",
    "    pipe=lineal_pipe,\n",
    "    grid=param_grid_svc\n",
    ")"
   ]
  },
  {
   "cell_type": "markdown",
   "id": "be03692a",
   "metadata": {},
   "source": [
    "### Построение модели K-соседей"
   ]
  },
  {
   "cell_type": "code",
   "execution_count": null,
   "id": "48415e00",
   "metadata": {},
   "outputs": [],
   "source": [
    "oscv_kn = obj(\n",
    "    X_train_ml,\n",
    "    y_train_ml,\n",
    "    pipe=lineal_pipe,\n",
    "    grid=param_grid_kn\n",
    ")"
   ]
  },
  {
   "cell_type": "markdown",
   "id": "383a6579",
   "metadata": {},
   "source": [
    "### Построение модели дерева решений"
   ]
  },
  {
   "cell_type": "code",
   "execution_count": null,
   "id": "bd61d0e8",
   "metadata": {
    "scrolled": false
   },
   "outputs": [],
   "source": [
    "oscv_tree = obj(\n",
    "    X_train_ml,\n",
    "    y_train_ml,\n",
    "    pipe=tree_pipe,\n",
    "    grid=param_grid_tree_class\n",
    ")"
   ]
  },
  {
   "cell_type": "markdown",
   "id": "d839e866",
   "metadata": {},
   "source": [
    "### Построение модели случайного леса"
   ]
  },
  {
   "cell_type": "code",
   "execution_count": null,
   "id": "135ed7f7",
   "metadata": {
    "scrolled": false
   },
   "outputs": [],
   "source": [
    "oscv_forest = obj(\n",
    "    X_train_ml,\n",
    "    y_train_ml,\n",
    "    pipe=tree_pipe,\n",
    "    grid=param_grid_forest_class\n",
    ")"
   ]
  },
  {
   "cell_type": "markdown",
   "id": "33782b71",
   "metadata": {},
   "source": [
    "### Построение модели градиентного бустинга\n"
   ]
  },
  {
   "cell_type": "code",
   "execution_count": null,
   "id": "238e4284",
   "metadata": {
    "scrolled": false
   },
   "outputs": [],
   "source": [
    "oscv_boosting = obj(\n",
    "    X_train_ml,\n",
    "    y_train_ml,\n",
    "    pipe=tree_pipe,\n",
    "    grid=param_grid_boosting_class\n",
    ")"
   ]
  },
  {
   "cell_type": "markdown",
   "id": "01af184b",
   "metadata": {},
   "source": [
    "### Построение CatBoostClassifier"
   ]
  },
  {
   "cell_type": "markdown",
   "id": "6e47d642",
   "metadata": {},
   "source": [
    "#### CatBoost с предобработкой"
   ]
  },
  {
   "cell_type": "code",
   "execution_count": null,
   "id": "dcd78dbd",
   "metadata": {},
   "outputs": [],
   "source": [
    "oscv_catboost_full = obj(\n",
    "    X_train_ml,\n",
    "    y_train_ml,\n",
    "    pipe=pipe_specific_full,\n",
    "    grid=param_grid_catboost_full\n",
    ")"
   ]
  },
  {
   "cell_type": "markdown",
   "id": "9781c52c",
   "metadata": {},
   "source": [
    "#### CatBoost без предобработки"
   ]
  },
  {
   "cell_type": "code",
   "execution_count": null,
   "id": "4deef1b0",
   "metadata": {},
   "outputs": [],
   "source": [
    "oscv_catboost_empty = obj(\n",
    "    X_train_ml,\n",
    "    y_train_ml,\n",
    "    pipe=pipe_specific_empty,\n",
    "    grid=param_grid_catboost_empty\n",
    ")"
   ]
  },
  {
   "cell_type": "markdown",
   "id": "37c2d74d",
   "metadata": {},
   "source": [
    "### Построение LGBMClassifier"
   ]
  },
  {
   "cell_type": "markdown",
   "id": "0c8047f9",
   "metadata": {},
   "source": [
    "#### LGBM с предобработки"
   ]
  },
  {
   "cell_type": "code",
   "execution_count": null,
   "id": "c7abe89e",
   "metadata": {
    "scrolled": false
   },
   "outputs": [],
   "source": [
    "oscv_lgbmc_full = obj(\n",
    "    X_train_ml,\n",
    "    y_train_ml,\n",
    "    pipe=pipe_specific_full,\n",
    "    grid=param_grid_lgbmc_full\n",
    ")"
   ]
  },
  {
   "cell_type": "markdown",
   "id": "d3ffc6a0",
   "metadata": {},
   "source": [
    "#### LGBM без предобработки"
   ]
  },
  {
   "cell_type": "code",
   "execution_count": null,
   "id": "1a03547c",
   "metadata": {},
   "outputs": [],
   "source": [
    "oscv_lgbmc_empty = obj(\n",
    "    X_train_ml,\n",
    "    y_train_ml,\n",
    "    pipe=pipe_specific_empty,\n",
    "    grid=param_grid_lgbmc_empty\n",
    ")"
   ]
  },
  {
   "cell_type": "markdown",
   "id": "9d6053d6",
   "metadata": {},
   "source": [
    "### Построение нейронной сети с функцией активации `sigmoid`"
   ]
  },
  {
   "cell_type": "markdown",
   "id": "edb73207",
   "metadata": {},
   "source": [
    "#### Создание архитекуры модели"
   ]
  },
  {
   "cell_type": "code",
   "execution_count": null,
   "id": "28a69142",
   "metadata": {},
   "outputs": [],
   "source": [
    "def create_sigmoid_model(X_tr, y_tr, X_val, y_val, trial):\n",
    "        # Создаём последовательную модель\n",
    "        model = Sequential()\n",
    "        # Явно определяем размер входного слоя\n",
    "        model.add(Input(shape=(X_tr.shape[1])))\n",
    "        # Добавляем первый полносвязный слой с подбором количества нейронов\n",
    "        model.add(\n",
    "            Dense(\n",
    "                trial.suggest_int('n_units_1', 128, 256, step=16),\n",
    "                activation='relu'\n",
    "            )\n",
    "        )\n",
    "        # Нормализуем батчи для предотваращения смещения\n",
    "        model.add(BatchNormalization())\n",
    "        # Настраиваем процент отключения нейронов для предотвращения переобучения\n",
    "        model.add(\n",
    "            Dropout(\n",
    "                trial.suggest_float('dropout_1', 0.1, 0.3, step=0.05)\n",
    "            )\n",
    "        )\n",
    "        # Добавляем второй полносвязный слой\n",
    "        # Настроим количество слоёв так, чтобы их точно было не больше, чем на предыдущем слое\n",
    "        model.add(\n",
    "            Dense(\n",
    "                trial.suggest_int('n_units_2', 16, 128, step=16),\n",
    "                activation='relu'\n",
    "            )\n",
    "        )\n",
    "        # Настраиваем процент отключения нейронов для предотвращения переобучения\n",
    "        model.add(\n",
    "            Dropout(\n",
    "                trial.suggest_float('dropout_2', 0.1, 0.3, step=0.05)\n",
    "            )\n",
    "        )\n",
    "        # Добавляем выходной слой с сигмоидной функцией активации\n",
    "        model.add(Dense(1, activation='sigmoid'))\n",
    "        \n",
    "        # Собираем модель\n",
    "        model.compile(\n",
    "            optimizer=Adam(\n",
    "                # Задаём свой оптимизатор\n",
    "                # с подбором шага обучения\n",
    "                learning_rate=trial.suggest_float('learning_rate', 1e-5, 1e-2, log=True)\n",
    "            ),\n",
    "            # Поскольку используем сигмоидную функция активации на выходном слое\n",
    "            # то в качестве функции потерь используем бинарную крос энтропию\n",
    "            loss='binary_crossentropy',\n",
    "            # \n",
    "            metrics=[tf.keras.metrics.AUC(name='auc'), 'accuracy']\n",
    "        )\n",
    "        # Установим правило остановки обучения с передачей лучших весов в случае остановки\n",
    "        early_stop = EarlyStopping(monitor='val_auc', mode='max', patience=8, restore_best_weights=True)\n",
    "    \n",
    "        # Обновляем коэффициенты модели\n",
    "        model.fit(\n",
    "            X_tr, y_tr,\n",
    "            validation_data=(X_val, y_val),\n",
    "            epochs=64,\n",
    "            # Устанавливаем размер батчей не слишком маленький,\n",
    "            # чтобы обучение шло быстрее и не слишком большой, чтобы точно хватило памяти\n",
    "            batch_size=trial.suggest_categorical('batch_size', [16, 32]),\n",
    "            callbacks=[early_stop],\n",
    "            verbose=0,\n",
    "            class_weight=cw_dict\n",
    "        )\n",
    "        return model, trial"
   ]
  },
  {
   "cell_type": "markdown",
   "id": "603f2920",
   "metadata": {},
   "source": [
    "#### Построение функции оптимизации и обучение модели"
   ]
  },
  {
   "cell_type": "markdown",
   "id": "26ae0ac9",
   "metadata": {},
   "source": [
    "**Сохраним коэффициенты модели и лучшую метрику**"
   ]
  },
  {
   "cell_type": "code",
   "execution_count": null,
   "id": "8c10b640",
   "metadata": {},
   "outputs": [],
   "source": [
    "best_auc_sigmoid = 0.0\n",
    "best_model_sigmoid = None"
   ]
  },
  {
   "cell_type": "markdown",
   "id": "68fbbed6",
   "metadata": {},
   "source": [
    "**Напишем логику поиска гиперпараметров и обучения модели**"
   ]
  },
  {
   "cell_type": "code",
   "execution_count": null,
   "id": "76cde76e",
   "metadata": {},
   "outputs": [],
   "source": [
    "def objective(trial):\n",
    "    # Зададим список для сохранения результатов расчёта целевой метрики\n",
    "    auc_scores = []\n",
    "    acc_scores = []\n",
    "    # Позволим глобальным переменным обновляться внутри функции\n",
    "    global best_auc_sigmoid, best_model_sigmoid\n",
    "    \n",
    "    # Обучение будем проводить по стратифицорованным фолдам\n",
    "    for train_idx, val_idx in tqdm(cv_for_neurons.split(X_for_neurons, y_train), desc=\"Трай\"):\n",
    "        # Определяем индексы тренировочной и валидационно выборки по максам из объекта кросс-валидации\n",
    "        X_tr, X_val = X_for_neurons[train_idx], X_for_neurons[val_idx]\n",
    "        y_tr, y_val = y_train_ml.iloc[train_idx], y_train_ml.iloc[val_idx]\n",
    "        \n",
    "        # Обучаем модель модель\n",
    "        model, trial = create_sigmoid_model(X_tr, y_tr, X_val, y_val, trial)\n",
    "        \n",
    "        # Рассчитываем auc\n",
    "        _, auc, acc = model.evaluate(X_val, y_val, verbose=0)\n",
    "        auc_scores.append(auc)\n",
    "        acc_scores.append(acc)\n",
    "        # В случе, если метрика лучше предыдущей сохраним к-ты модели\n",
    "        if auc > best_auc_sigmoid:\n",
    "            best_auc_sigmoid = auc\n",
    "            best_model_sigmoid = model\n",
    "    print(f'Точность модели: {np.mean(acc_scores)}')\n",
    "    return np.mean(auc_scores)"
   ]
  },
  {
   "cell_type": "markdown",
   "id": "ac2c7772",
   "metadata": {},
   "source": [
    "**Обучение моедели**"
   ]
  },
  {
   "cell_type": "code",
   "execution_count": null,
   "id": "40165202",
   "metadata": {},
   "outputs": [],
   "source": [
    "study_sigmoid = optuna.create_study(direction='maximize')\n",
    "study_sigmoid.optimize(objective, n_trials=5)\n",
    "\n",
    "print(\"Лучшый ROC-AUC:\", study_sigmoid.best_value)\n",
    "print(\"Лучшие параметры слоёв:\", study_sigmoid.best_params)"
   ]
  },
  {
   "cell_type": "markdown",
   "id": "30607e25",
   "metadata": {},
   "source": [
    "### Построение архитектуры модели с функцией активации `softmax`"
   ]
  },
  {
   "cell_type": "markdown",
   "id": "d173917c",
   "metadata": {},
   "source": [
    "#### Создание архитектуры модели"
   ]
  },
  {
   "cell_type": "code",
   "execution_count": null,
   "id": "ea7de1b1",
   "metadata": {},
   "outputs": [],
   "source": [
    "def create_softmax_model(X_tr, y_tr, X_val, y_val, trial):\n",
    "        # Создаём последовательную модель\n",
    "        model = Sequential()\n",
    "        # Явно определяем размер входного слоя\n",
    "        model.add(Input(shape=(X_tr.shape[1])))\n",
    "        # Добавляем первый полносвязный слой с подбором количества нейронов\n",
    "        model.add(\n",
    "            Dense(\n",
    "                trial.suggest_int('n_units_1', 64, 128, step=8),\n",
    "                activation='relu'\n",
    "            )\n",
    "        )\n",
    "        # Нормализуем батчи для предотваращения смещения\n",
    "        model.add(BatchNormalization())\n",
    "        # Настраиваем процент отключения нейронов для предотвращения переобучения\n",
    "        model.add(\n",
    "            Dropout(\n",
    "                trial.suggest_float('dropout_1', 0.1, 0.3, step=0.05)\n",
    "            )\n",
    "        )\n",
    "        # Добавляем второй полносвязный слой\n",
    "        # Настроим количество слоёв так, чтобы их точно было не больше, чем на предыдущем слое\n",
    "        model.add(\n",
    "            Dense(\n",
    "                trial.suggest_int('n_units_2', 32, 64, step=8),\n",
    "                activation='relu'\n",
    "            )\n",
    "        )\n",
    "        # Настраиваем процент отключения нейронов для предотвращения переобучения\n",
    "        model.add(\n",
    "            Dropout(\n",
    "                trial.suggest_float('dropout_2', 0.1, 0.3, step=0.05)\n",
    "            )\n",
    "        )\n",
    "        # Добавляем выходной слой с функцией активации softmax\n",
    "        model.add(Dense(2, activation='softmax'))\n",
    "        \n",
    "        # Собираем модель\n",
    "        model.compile(\n",
    "            optimizer=Adam(\n",
    "                # Задаём свой оптимизатор\n",
    "                # с подбором шага обучения\n",
    "                learning_rate=trial.suggest_float('learning_rate', 1e-5, 1e-2, log=True)\n",
    "            ),\n",
    "            # Поскольку используем softmax на выходном слое\n",
    "            # то в качестве функции потерь используем категориальную крос энтропию\n",
    "            loss='categorical_crossentropy',\n",
    "            # Указываем multilabel\n",
    "            metrics=[tf.keras.metrics.AUC(name='auc', multi_label=True), 'accuracy']\n",
    "        )\n",
    "        # Установим правило остановки обучения с передачей лучших весов в случае остановки\n",
    "        early_stop = EarlyStopping(monitor='val_auc', mode='max', patience=8, restore_best_weights=True)\n",
    "    \n",
    "        # Обновляем коэффициенты модели\n",
    "        model.fit(\n",
    "            X_tr, y_tr,\n",
    "            validation_data=(X_val, y_val),\n",
    "            epochs=64,\n",
    "            # Устанавливаем размер батчей не слишком маленький,\n",
    "            # чтобы обучение шло быстрее и не слишком большой, чтобы точно хватило памяти\n",
    "            batch_size=trial.suggest_categorical('batch_size', [16, 32]),\n",
    "            callbacks=[early_stop],\n",
    "            verbose=0,\n",
    "            class_weight=cw_dict\n",
    "        )\n",
    "        return model, trial"
   ]
  },
  {
   "cell_type": "markdown",
   "id": "937ac714",
   "metadata": {},
   "source": [
    "#### Построение функции оптимизации и обучение модели"
   ]
  },
  {
   "cell_type": "markdown",
   "id": "50e0b9d6",
   "metadata": {},
   "source": [
    "**Сохраним лучшие веса модели**"
   ]
  },
  {
   "cell_type": "code",
   "execution_count": null,
   "id": "a8a0f935",
   "metadata": {},
   "outputs": [],
   "source": [
    "best_auc_softmax = 0.0\n",
    "best_model_softmax = None"
   ]
  },
  {
   "cell_type": "markdown",
   "id": "4b1bdc1c",
   "metadata": {},
   "source": [
    "**Напишем логику поиска гиперпараметров и обучения модели**"
   ]
  },
  {
   "cell_type": "code",
   "execution_count": null,
   "id": "e3a12357",
   "metadata": {},
   "outputs": [],
   "source": [
    "def objective(trial):\n",
    "    # Зададим список для сохранения результатов расчёта целевой метрики\n",
    "    auc_scores = []\n",
    "    acc_scores = []\n",
    "    # Позволим глобальным переменным обновляться внутри функции\n",
    "    global best_auc_softmax, best_model_softmax\n",
    "    # Обучение будем проводить по стратифицорованным фолдам\n",
    "    for train_idx, val_idx in tqdm(cv_for_neurons.split(X_for_neurons, y_train), desc=\"Трай\"):\n",
    "        # Определяем индексы тренировочной и валидационно выборки по максам из объекта кросс-валидации\n",
    "        X_tr, X_val = X_for_neurons[train_idx], X_for_neurons[val_idx]\n",
    "        y_tr, y_val = y_train_ml.iloc[train_idx], y_train_ml.iloc[val_idx]\n",
    "        #Добавляем преобразование входные данных\n",
    "        y_tr_cat = to_categorical(y_tr, num_classes=2)\n",
    "        y_val_cat = to_categorical(y_val, num_classes=2)\n",
    "        \n",
    "        # Обучаем модель модель\n",
    "        model, trial = create_softmax_model(X_tr, y_tr_cat, X_val, y_val_cat, trial)\n",
    "        \n",
    "        # Рассчитываем auc\n",
    "        _, auc, acc = model.evaluate(X_val, y_val_cat, verbose=0)\n",
    "        auc_scores.append(auc)\n",
    "        acc_scores.append(acc)\n",
    "        # Сохраним веса и лучшую метрику\n",
    "        if auc > best_auc_softmax:\n",
    "            best_auc_softmax = auc\n",
    "            best_model_softmax = model\n",
    "    print(f'Точность модели: {np.mean(acc_scores)}')\n",
    "    return np.mean(auc_scores)"
   ]
  },
  {
   "cell_type": "code",
   "execution_count": null,
   "id": "fa1fd0fd",
   "metadata": {},
   "outputs": [],
   "source": [
    "study_softmax = optuna.create_study(direction='maximize')\n",
    "study_softmax.optimize(objective, n_trials=5)\n",
    "\n",
    "print(\"Лучшый ROC-AUC:\", study_softmax.best_value)\n",
    "print(\"Лучшие параметры слоёв:\", study_softmax.best_params)"
   ]
  },
  {
   "cell_type": "markdown",
   "id": "e21bf520",
   "metadata": {},
   "source": [
    "### Выводы"
   ]
  },
  {
   "cell_type": "markdown",
   "id": "6c04f970",
   "metadata": {},
   "source": [
    "**Объем проделанной работы:**\n",
    "- Построены следующие модели машинного обучения с подбором лучших гиперпараметров:\n",
    "    1. `Логистическая регрессия`\n",
    "    2. `SVC`\n",
    "    3. `Классификатор K-соседей`\n",
    "    4. `Классификатор на основе дерева решений`\n",
    "    5. `Классификатор на основе случайного леса`\n",
    "    6. `Классификатор на основе градиентного бустинга`\n",
    "    7. `Классификатор на основе CatBoost`\n",
    "        - Построена модель с предварительной обработкой признаков и подбором к-лучших признаков\n",
    "        - Построена модель без предварительной обработки признаков и выбора к-лучших признаков\n",
    "    8. `Классификатор на основе LGBM`\n",
    "        - Построена модель с предварительной обработкой признаков и подбором к-лучших признаков\n",
    "        - Построена модель без предварительной обработки признаков и выбора к-лучших признаков\n",
    "    9. `Классификатор на основе полносвязной нейронной сети с сигмоидной функцией активации`\n",
    "    10. `Классификатор на основе полносвязной нейронной сети сфункцией активации softmax`\n",
    "- Разработаны две архитекруры нейронных сетей с подбором параметров слоёв через Optuna\n",
    "    - Разработа логика кросс-валидации модели с параллельной оптимизацией парамеров слоёв нейронной сети\n",
    "---\n",
    "**Лучшая модель**\n",
    "- В качестве лучшей модели выбран `классификатор на основе градиентного бустинга`\n",
    "    - Классификатор показал как лучшую метрику `ROC-AUC`\n",
    "    - так и лучшую метрику `accuracy`"
   ]
  },
  {
   "cell_type": "markdown",
   "id": "1728fe41",
   "metadata": {},
   "source": [
    "## Проверка качества модели на тестовой выборке"
   ]
  },
  {
   "cell_type": "markdown",
   "id": "5f9fcac1",
   "metadata": {},
   "source": [
    "### Анализ результатов работы оптимизатора"
   ]
  },
  {
   "cell_type": "markdown",
   "id": "9b6cda1c",
   "metadata": {},
   "source": [
    "**Взглянем на структуру лучшего решения**"
   ]
  },
  {
   "cell_type": "code",
   "execution_count": null,
   "id": "5b33e1e9",
   "metadata": {},
   "outputs": [],
   "source": [
    "oscv_boosting.best_estimator_"
   ]
  },
  {
   "cell_type": "markdown",
   "id": "7c22e680",
   "metadata": {},
   "source": [
    "**Выводы:**\n",
    "- Не использовались никакие скейлры для числовых признаков\n",
    "- Выбран один единственный признак\n",
    "- Лучшая модель: `GradientBoostingClassifier`\n",
    "- Построено достаточно большое количество решающих деревьев с довольно большой глубиной"
   ]
  },
  {
   "cell_type": "markdown",
   "id": "2357341b",
   "metadata": {},
   "source": [
    "**Построим графики величины вклада признаков и истории подбора гиперпараметров**"
   ]
  },
  {
   "cell_type": "code",
   "execution_count": null,
   "id": "b547a301",
   "metadata": {},
   "outputs": [],
   "source": [
    "history_fig = vis.plot_optimization_history(oscv_boosting.study_)\n",
    "importances_fig = vis.plot_param_importances(oscv_boosting.study_)\n",
    "fig = make_subplots(\n",
    "    rows=1,\n",
    "    cols=2,\n",
    "    subplot_titles=(\"История оптимизации\", \"Вклад гиперпараметров\"),\n",
    "    horizontal_spacing=0.25\n",
    ")\n",
    "for trace in history_fig.data:\n",
    "    fig.add_trace(trace, row=1, col=1)\n",
    "for trace in importances_fig.data:\n",
    "    fig.add_trace(trace, row=1, col=2)\n",
    "\n",
    "# Обновляем макет\n",
    "fig.update_layout(\n",
    "    title=dict(\n",
    "            text='Обзор оптимизации',\n",
    "            x=0.5,\n",
    "            xanchor='center'\n",
    "        ),\n",
    "    showlegend=False\n",
    ")\n",
    "fig.show()\n"
   ]
  },
  {
   "cell_type": "markdown",
   "id": "021a6729",
   "metadata": {},
   "source": [
    "**Выводы:**\n",
    "- Можно наблюдать плато целевой метрики после 5-й итерации\n",
    "    - Оптимизатор достиг локального экстремума\n",
    "- Новые случайные точки не позволили выбраться в новый экстремум\n",
    "    - Подобраны оптимальные метрки на соответствующей области определения\n",
    "- Самым важным гиперпараметром явилось число факторов\n",
    "    - Именно подбор верного количества и качества преимущественно позволил найти максимум целевой функции\n",
    "- Среди гиперпараметров самой модели самым важным параметром явился минимальный прирост качества модели для следующего шага\n",
    "- Посмотрим как обучалась модель в разрезе этих признаков"
   ]
  },
  {
   "cell_type": "markdown",
   "id": "b8ccc9da",
   "metadata": {},
   "source": [
    "**Построение графика распределения значений целевого признака на оптимизации**"
   ]
  },
  {
   "cell_type": "code",
   "execution_count": null,
   "id": "2630ff75",
   "metadata": {},
   "outputs": [],
   "source": [
    "fig = vis.plot_contour(\n",
    "    oscv_boosting.study_,\n",
    "    params=['models__min_impurity_decrease', 'k_best__k']\n",
    ")\n",
    "fig.update_layout(\n",
    "    title=dict(\n",
    "            text='Целевой признак в разрезе количества признаков при обучении<br> и минимального числа объектов для разбиения',\n",
    "            x=0.5,\n",
    "            xanchor='center'\n",
    "        ),\n",
    "    showlegend=False\n",
    ")\n",
    "fig.show() "
   ]
  },
  {
   "cell_type": "markdown",
   "id": "27351b6d",
   "metadata": {},
   "source": [
    "**Вывводы:**\n",
    "- При увеличении количества передаваемых параметров качесто модели только падало\n",
    "- При различных вариациях `min_impurity_decrease` найдены различные локальные максимумы в промежутке от 0.004 до 0.005\n",
    "    - Слишком маленький шаг уменьшения неопределённости не приводил к лучшему результату"
   ]
  },
  {
   "cell_type": "markdown",
   "id": "041cef59",
   "metadata": {},
   "source": [
    "### Рассчёт метрик на лучшей модели"
   ]
  },
  {
   "cell_type": "markdown",
   "id": "bbd7f391",
   "metadata": {},
   "source": [
    "#### Рассчёт `ROC-AUC` и `accuracy`"
   ]
  },
  {
   "cell_type": "markdown",
   "id": "960e9b24",
   "metadata": {},
   "source": [
    "**Рассчитаем метрики качества на тестовой выборке**"
   ]
  },
  {
   "cell_type": "code",
   "execution_count": null,
   "id": "e638385c",
   "metadata": {},
   "outputs": [],
   "source": [
    "# Расчёт ROC_AUC\n",
    "y_pred_prob_test = oscv_boosting.best_estimator_.predict_proba(X_test_ml)[:, 1]\n",
    "roc_auc = roc_auc_score(y_test_ml, y_pred_prob_test)\n",
    "\n",
    "print(f\"ROC_AUC на тесте: \\033[1m{np.round(roc_auc, 2)}\\033[0m\")\n",
    "# Расчёт точности\n",
    "y_pred_test = oscv_boosting.best_estimator_.predict(X_test_ml)\n",
    "accuracy = accuracy_score(y_test_ml, y_pred_test)\n",
    "\n",
    "print(f\"Точность на тесте: \\033[1m{np.round(accuracy, 2)}\\033[0m\")"
   ]
  },
  {
   "cell_type": "markdown",
   "id": "b90607f2",
   "metadata": {},
   "source": [
    "**Вывод:**\n",
    "- Модель показала прирост целевых метрик на тестовой выборке\n",
    "    - Либо модель хорошо обучилась\n",
    "    - Либо данные очень похожи на те, на которых она обучалась\n",
    "- Посмотрим на результаты работы моделе подробнее"
   ]
  },
  {
   "cell_type": "markdown",
   "id": "2e208792",
   "metadata": {},
   "source": [
    "#### Построение графика `ROC-AUC`"
   ]
  },
  {
   "cell_type": "markdown",
   "id": "0bc104b9",
   "metadata": {},
   "source": [
    "**Построение графика ROC-AUC**"
   ]
  },
  {
   "cell_type": "code",
   "execution_count": null,
   "id": "5e140f69",
   "metadata": {},
   "outputs": [],
   "source": [
    "fpr, tpr, trashold = roc_curve(y_test_ml, y_pred_prob_test)\n",
    "get_roc_auc_graph(fpr, tpr, trashold, roc_auc)"
   ]
  },
  {
   "cell_type": "markdown",
   "id": "86b91940",
   "metadata": {},
   "source": [
    "**Выводы:**\n",
    "- `FPR`: Доля объектов, являющихся `stay`, но предсказанных как `leave`\n",
    "    - Начинает расти при пороге примерно равном 0.2, т.е. все вероятности выше этого порога определяются как класс `leave`\n",
    "    - Т.е. Это порог при котором модель начинает ошибочно присваивать положительные метки\n",
    "- `TPR`: Доля объектов, являющихся `leave`, и предсказанных как `leave`\n",
    "    - Закономерно растёт при уменьшении порога\n",
    "    - Уже на пороге 0.92 заканчивается быстрый рост метрики и среди всех `leave` половина предсказывается как `leave\n",
    "    - Приуменьшении порога до 0.2 уже 0.73 объектов `leave` предсказывается как `leave`"
   ]
  },
  {
   "cell_type": "markdown",
   "id": "214dbcad",
   "metadata": {},
   "source": [
    "####  Построение `Confusion matrix`"
   ]
  },
  {
   "cell_type": "markdown",
   "id": "243fc98c",
   "metadata": {},
   "source": [
    "**Рассчитаем и отобразим матрицу ошибок**"
   ]
  },
  {
   "cell_type": "code",
   "execution_count": null,
   "id": "53e94483",
   "metadata": {
    "scrolled": false
   },
   "outputs": [],
   "source": [
    "cm = confusion_matrix(y_test_ml, y_pred_test)\n",
    "get_conf_matrix_graph(cm)"
   ]
  },
  {
   "cell_type": "markdown",
   "id": "0787d37b",
   "metadata": {},
   "source": [
    "**Выводы:**\n",
    "- Модель верно предсказала 1486 оставшихся клиентов\n",
    "    - она ни разу не ошиблась при предсказании оставшихся клиентов\n",
    "- Модель верно предсказала 186 ушедших клиентов\n",
    "    - Но ошиблась 89 раз предсказав, что клиент останется, хотя он покинул компанию\n",
    "- Выходит, онвоную задачу модель выполняет\n",
    "    - Лишний раз рассылки и так оставшимся клиентам не будет\n",
    "- Но возникает проблема недооценки количества уходящих клиентов"
   ]
  },
  {
   "cell_type": "markdown",
   "id": "d59adeb7",
   "metadata": {},
   "source": [
    "### Оценка вклада признаков в предсказание модели"
   ]
  },
  {
   "cell_type": "markdown",
   "id": "797d223d",
   "metadata": {},
   "source": [
    "**Явно преобразуем данные**"
   ]
  },
  {
   "cell_type": "code",
   "execution_count": null,
   "id": "c1a5b282",
   "metadata": {},
   "outputs": [],
   "source": [
    "# Преобразуем данные\n",
    "X_test_scalled = oscv_boosting.best_estimator_.named_steps['preprocessor'].transform(X_test_ml)\n",
    "# Достаём название фичей\n",
    "preprocessor_names = oscv_boosting.best_estimator_.named_steps['preprocessor'].get_feature_names_out()\n",
    "# Создаём фрейм данных\n",
    "X_test_scalled = pd.DataFrame(data=X_test_scalled, columns=preprocessor_names)"
   ]
  },
  {
   "cell_type": "markdown",
   "id": "9a0771fc",
   "metadata": {},
   "source": [
    "**Получим из `KBest` названия призенакв**"
   ]
  },
  {
   "cell_type": "code",
   "execution_count": null,
   "id": "4d158948",
   "metadata": {},
   "outputs": [],
   "source": [
    "# Создаём маску с нужными параметрами\n",
    "k_best_mask = oscv_boosting.best_estimator_.named_steps['k_best'].get_support(indices=False)\n",
    "# Оставляем только те, которые остались после SekectKBest\n",
    "X_test_scalled = X_test_scalled.loc[:, k_best_mask]"
   ]
  },
  {
   "cell_type": "markdown",
   "id": "596957aa",
   "metadata": {},
   "source": [
    "**Построим визуализацию вклада признаков в предсказание модели**"
   ]
  },
  {
   "cell_type": "code",
   "execution_count": null,
   "id": "8fda2113",
   "metadata": {},
   "outputs": [],
   "source": [
    "explainer = shap.TreeExplainer(oscv_boosting.best_estimator_.named_steps['models'])\n",
    "shap_values = explainer.shap_values(X_test_scalled)\n",
    "shap.summary_plot(\n",
    "    shap_values,\n",
    "    X_test_scalled,\n",
    "    cmap=\"coolwarm\",\n",
    "    plot_size=(12, 6),\n",
    "    plot_type='dot',\n",
    "    show=False\n",
    ")\n",
    "\n",
    "# Достанем текущие объекты осей и самой фигуры\n",
    "fig, ax = plt.gcf(), plt.gca()\n",
    "\n",
    "# Добавим подписи на график\n",
    "ax.tick_params(labelsize=14)\n",
    "ax.set_xlabel(\"Значения Шепли\", fontsize=14)\n",
    "ax.set_ylabel(\"Используемые признаки\", fontsize=14)\n",
    "ax.set_title('Оценка вклада признаков в результаты рассчёта\\n классификатора градиентного бустинга', fontsize=16)\n",
    "\n",
    "# Настройка объекта цветовой оси\n",
    "cb_ax = fig.axes[1] \n",
    "\n",
    "# Настройка значений цветовой оси\n",
    "cb_ax.tick_params(labelsize=14)\n",
    "cb_ax.set_ylabel(\"Значения признаков\", fontsize=14)\n",
    "\n",
    "plt.show()"
   ]
  },
  {
   "cell_type": "markdown",
   "id": "f7a6ed59",
   "metadata": {},
   "source": [
    "**Выводы:**\n",
    "- Уровень вклада продолжительности использования услуг при обучении модели подтвердил ранее выдвинутые предположения касательно распределения данного признака\n",
    "- Большинство пользователей, которые продолжительное время пользуются услгами остаются в компании\n",
    "- Также большое количество пользователей, которые только начали пользоваться услугами компании вероятнее всего и продолжат ими пользоваться\n",
    "- Промежуточные значения признака - ближе к среднему времени пользования услугами компании по всем клиентам обуславливают высокую вероятность отказа от услуг"
   ]
  },
  {
   "cell_type": "markdown",
   "id": "aea2fc01",
   "metadata": {},
   "source": [
    "### Выводы"
   ]
  },
  {
   "cell_type": "markdown",
   "id": "2fa0e6a0",
   "metadata": {},
   "source": [
    "**Описание проделанной работы**\n",
    "- Проведен анализ работы оптимизатора гиперпараметров модели\n",
    "    - Описаны параметры, которые оказали на процесс подбора наилучшего решения модели наибольшее влияние\n",
    "    - Описан процесс обучения модели\n",
    "    - Описаны результаты подбора гиперпараметров модели и пайплайна предобработки\n",
    "- Выбрана наилучшая модель\n",
    "    - Рассчитаны метрки качества построенной модели\n",
    "    - Проведена интерпретация полученных результатов с построением графика распределениия `TPR` и `FPR` относительно различных порогов классификации\n",
    "    - Описаны пороги достижения наилучшего результата для каждой из этих метрих\n",
    "    - Построена матрица ошибок\n",
    "        - Описаны результаты предсказания обоих классов\n",
    "- Проведён анализ клада самого значимого признака в предсказание модели"
   ]
  },
  {
   "cell_type": "markdown",
   "id": "03fc557d",
   "metadata": {},
   "source": [
    "## Итоговый вывод"
   ]
  },
  {
   "cell_type": "markdown",
   "id": "fd3389d9",
   "metadata": {},
   "source": [
    "**Объем проделанной работы**\n",
    "- Работа состоит из 9 глав, содержащих реализацию поставленных в проекте задач\n",
    "    - Глава 1 представляет тип работы, автора и ментора проекта\n",
    "    - Глава 2 с подразделами приводит описание целей и задачей проекта, а также описывает имеющиеся данные\n",
    "    - Глава 3 содержит подготовливает рабочую среду:\n",
    "        - Загружает и обновляет библиотки\n",
    "        - Добавляет в рабочую среду все необходимые методы и классы, библиотеки\n",
    "        - А также содержит большинство функций, которые многократно используются в работе\n",
    "    - Глава 4 приводит описание текущих форматов данных\n",
    "        - Описывает возможные проблемы в данных и предлагает дальнейшие пути работы\n",
    "    - Глава 5 содержин анализ рапределения всех имеющихся и сгенерированных признаков как индивидуально, так и в разрезе с целевой переменной\n",
    "        - Представляет корреляционный анализ взаимосвязи всех факторов друг с другом\n",
    "        - Описываем малозначимые и мультиколлинеарные факторы\n",
    "        - Проводит работу с пропусками и дубликатами\n",
    "    - Глава 6 разбивает данные на тренировочную и тестовую выборки\n",
    "        - В этой главе создются конвееры обучения различных моделей машинного обучения и нейронных сетей\n",
    "        - Описывается логика работы различных кодировщиков и скейлеров данных\n",
    "        - Для каждой модели индивидуально строятся сетки обучения гиперпараметров как самих моделей, так и параметров конвеера подготовки данных\n",
    "    - Глава 7 включает процесс обучения 8 различных моделей машинного обучения, 2 дополнительных конфигураций уже использующихся моделей и 2 нейронных сетей с различной архитектурой\n",
    "        - По результатам работы в разделе 7 выбрана модель, которая показала наилучшую метрику на тренировочных данных\n",
    "    - Глава 8 представляет собой проврку качетсва обученной модели\n",
    "        - Проводит анализ процесса обучения и подбора гиперпараметров\n",
    "        - Описывает результаты обучения\n",
    "        - В этой главе описываются результаты предсказания на тестовой выборке объектов с визуализацией сопутствующих метрик качества модели\n",
    "        - Проводится оценка вклада признаков в предсказание модели\n",
    "    - Глава 9 содержит итоговый вывод по проделанной работе\n",
    "---\n",
    "**Технические результаты**\n",
    "- Наилучшая модель: `GradientBoostingClassifier`\n",
    "    - `max_depth`=16\n",
    "    - `min_impurity_decrease`=0.0038\n",
    "    - `min_samples_leaf`=9\n",
    "    - `min_samples_split`=11\n",
    "    - `n_estimators`=842\n",
    "- Лучшие скейлеры:\n",
    "    - `passthrough`\n",
    "- Лучшие параметры:\n",
    "    - `duration_by_days`\n",
    "- Метрики тренировочной выборки:\n",
    "    - `ROC-AUC` = 0.90, `accuracy` = 0.94\n",
    "- Метрики на тестовой выборке:\n",
    "    - `ROC-AUC` = 0.93, `accuracy` = 0.95\n",
    "    - Нет ни одной ошибки при классификации клиента как того, кто продолжит пользоваться услугами\n",
    "    - Модель ошиблась 89 раз предсказал, что клиент останется в компании, хотя на самом деле её покинул\n",
    "    - Модель 1486 раза верно предсказала клиента, который останется в компании и ни разу не ошиблась с этим предсказанием\n",
    "---\n",
    "**Рекомендации заказчику**\n",
    "- Несмотря на то, что лучшая модель была построена на одном единственном параметре не стоит забывать и об остальных, поскольку другие модели были не многим хуже лучше, но использовали при обучении несколько параметров.\n",
    "- Обратить внимание на процессы электронной оплаты услуг\n",
    "    - Среди ушедших клиентов больше всего представителей именно этой группы\n",
    "    - При этом среди тех кто платит по почте соотношение ушедших клиентов к оставшимся самое благоприятное\n",
    "- Среди ушедших клиентов преобладает категория семейных пар, наличие детей не играет роли\n",
    "- Обратить внимание на ценовую политику. В среднем в месяц ушедшие клиенты платят больше, чем те, кто остался пользоваться услугами\n",
    "- Общие траты клиентов за всё время пользования услугами близки в обеих группах, однако\n",
    "    - В группе оставшихся клиентов больше тех кто платит существенно меньше среднего\n",
    "        - Но присутствуют и те, редкие случаи, кто платит гораздо больше среднего\n",
    "    - В группе ушедших клиентов общие траты распределены вокруг среднего значения по группе\n",
    "        - Они не тратят очень много, но и не жадничают\n",
    "- Стоит обратить внимание на следующие услуги:\n",
    "    - Облачное хранилище\n",
    "    - Встроенный антивирус\n",
    "    - Стримингового ТВ\n",
    "    - Каталога кино\n",
    "    - Подключение по нескольким линиям\n",
    "        - Среди оставшихся клиентов больше тех, кто этими услугами не пользовался\n",
    "        - А среди ушедших больше тех, кто их использовал\n",
    "- Общая картина по продолжительности использования услуг компании похожа на ситуацию с суммарными платежами клиентов\n",
    "- Средние продолжительности в обеих группах близки, однако распределение признака отличается\n",
    "    - Если в группе оставшихся клиентов всеъ по-немногу с преобладанием только что подключившихся сотрудников\n",
    "    - То среди ушедших большая часть сосредоточена вокруг среднего значения (3 года)\n",
    "        - Возможно за это у клиентов накопилось неудовлетворённость услугами и их ценой\n",
    "- Возможно, стоит уточнить бизнес-требование и изметить целевую метрику с целью более точного подбора порога классификации, если целью будет являться сохранение клиентов\n",
    "- В текущем варианты задача предотвращения рассылки предложений клиентам, которые и так планируют остаться работает неточно\n",
    "    - из 275 ушедших клиентов 85 определили к оставшимся, а всех и так оставшихся определили верно\n",
    "    - т.е. лишнего не отправим, но и клиента сохранить не сможем\n",
    "    - вохможно стоит обратить внимание напорог классификации и использовать другую целевую метрику классификации\n",
    "    - Текущая точность модели по отпределению класса клиента составляет 95%, но она обусловлена дисбалансом классов, что также говорит о необходимости пересмотра целевой метрики при уточнее бизнес-задачи\n",
    "---\n",
    "**Итог**\n",
    "- Вероятно, клиенты недовольны услугами:\n",
    "    - Облачное хранилище\n",
    "    - Встроенный антивирус\n",
    "    - Стримингового ТВ\n",
    "    - Каталога кино\n",
    "    - Подключение по нескольким линиям\n",
    "- Ушедшие клиенты тратят суммарно и в среднем за месяц больше, чем оставшиеся\n",
    "- Определять вероятность ухода клиента с достаточной точностью можно на основании лишь продолжительности использования ими услуг компании\n",
    "- Задачу можно развивать с точки зрения уточнения бизнес требований и подбора оптимального порога классификации\n",
    "            \n",
    "    \n",
    "\n",
    "    "
   ]
  }
 ],
 "metadata": {
  "ExecuteTimeLog": [
   {
    "duration": 418,
    "start_time": "2025-07-30T11:59:41.704Z"
   },
   {
    "duration": 53,
    "start_time": "2025-07-30T12:00:27.211Z"
   },
   {
    "duration": 88,
    "start_time": "2025-07-30T12:01:39.650Z"
   },
   {
    "duration": 15,
    "start_time": "2025-07-30T12:01:47.769Z"
   },
   {
    "duration": 68,
    "start_time": "2025-07-30T12:02:35.313Z"
   },
   {
    "duration": 23,
    "start_time": "2025-07-30T12:02:41.920Z"
   },
   {
    "duration": 22,
    "start_time": "2025-07-30T12:08:44.389Z"
   },
   {
    "duration": 509,
    "start_time": "2025-07-30T12:08:52.762Z"
   },
   {
    "duration": 8,
    "start_time": "2025-07-30T12:09:25.633Z"
   },
   {
    "duration": 3865,
    "start_time": "2025-07-30T12:09:41.560Z"
   },
   {
    "duration": 14,
    "start_time": "2025-07-30T12:11:32.513Z"
   },
   {
    "duration": 15,
    "start_time": "2025-07-30T12:11:38.666Z"
   },
   {
    "duration": 22,
    "start_time": "2025-07-30T12:18:38.059Z"
   },
   {
    "duration": 22,
    "start_time": "2025-07-30T12:21:14.129Z"
   },
   {
    "duration": 20,
    "start_time": "2025-07-30T12:22:59.769Z"
   },
   {
    "duration": 6,
    "start_time": "2025-07-30T12:47:10.602Z"
   },
   {
    "duration": 8,
    "start_time": "2025-07-30T12:47:19.857Z"
   },
   {
    "duration": 9,
    "start_time": "2025-07-30T12:47:25.754Z"
   },
   {
    "duration": 17,
    "start_time": "2025-07-30T12:48:00.811Z"
   },
   {
    "duration": 7,
    "start_time": "2025-07-30T12:49:24.002Z"
   },
   {
    "duration": 8,
    "start_time": "2025-07-30T12:49:38.073Z"
   },
   {
    "duration": 8,
    "start_time": "2025-07-30T12:49:48.466Z"
   },
   {
    "duration": 16,
    "start_time": "2025-07-30T12:50:05.793Z"
   },
   {
    "duration": 16,
    "start_time": "2025-07-30T12:50:12.306Z"
   },
   {
    "duration": 16,
    "start_time": "2025-07-30T12:50:17.117Z"
   },
   {
    "duration": 8,
    "start_time": "2025-07-30T12:52:31.563Z"
   },
   {
    "duration": 16,
    "start_time": "2025-07-30T12:53:30.722Z"
   },
   {
    "duration": 19,
    "start_time": "2025-07-30T12:56:56.658Z"
   },
   {
    "duration": 28,
    "start_time": "2025-07-30T12:57:15.666Z"
   },
   {
    "duration": 16,
    "start_time": "2025-07-30T12:57:27.017Z"
   },
   {
    "duration": 3,
    "start_time": "2025-07-30T12:57:44.388Z"
   },
   {
    "duration": 54,
    "start_time": "2025-07-30T17:34:50.304Z"
   },
   {
    "duration": 406,
    "start_time": "2025-07-30T17:35:04.552Z"
   },
   {
    "duration": 103,
    "start_time": "2025-07-30T17:35:04.961Z"
   },
   {
    "duration": 31,
    "start_time": "2025-07-30T17:35:05.066Z"
   },
   {
    "duration": 21,
    "start_time": "2025-07-30T17:35:05.098Z"
   },
   {
    "duration": 60,
    "start_time": "2025-07-30T17:35:05.121Z"
   },
   {
    "duration": 31,
    "start_time": "2025-07-30T17:35:05.182Z"
   },
   {
    "duration": 33,
    "start_time": "2025-07-30T17:35:05.214Z"
   },
   {
    "duration": 54,
    "start_time": "2025-07-30T17:35:05.249Z"
   },
   {
    "duration": 120,
    "start_time": "2025-07-30T17:35:05.305Z"
   },
   {
    "duration": 51,
    "start_time": "2025-07-30T17:35:05.427Z"
   },
   {
    "duration": 16,
    "start_time": "2025-07-30T17:35:17.882Z"
   },
   {
    "duration": 12,
    "start_time": "2025-07-30T17:35:24.982Z"
   },
   {
    "duration": 21,
    "start_time": "2025-07-30T17:35:41.220Z"
   },
   {
    "duration": 38,
    "start_time": "2025-07-30T17:36:34.959Z"
   },
   {
    "duration": 40,
    "start_time": "2025-07-30T17:38:01.098Z"
   },
   {
    "duration": 34,
    "start_time": "2025-07-30T17:38:53.469Z"
   },
   {
    "duration": 25,
    "start_time": "2025-07-30T17:48:48.283Z"
   },
   {
    "duration": 5,
    "start_time": "2025-07-30T17:49:00.072Z"
   },
   {
    "duration": 73,
    "start_time": "2025-07-30T17:55:25.619Z"
   },
   {
    "duration": 28,
    "start_time": "2025-07-30T17:55:47.000Z"
   },
   {
    "duration": 3,
    "start_time": "2025-07-30T17:56:34.429Z"
   },
   {
    "duration": 5,
    "start_time": "2025-07-30T18:02:31.397Z"
   },
   {
    "duration": 27,
    "start_time": "2025-07-30T18:03:03.966Z"
   },
   {
    "duration": 20,
    "start_time": "2025-07-30T18:03:12.166Z"
   },
   {
    "duration": 32,
    "start_time": "2025-07-30T18:03:27.506Z"
   },
   {
    "duration": 102,
    "start_time": "2025-07-30T18:03:45.733Z"
   },
   {
    "duration": 6,
    "start_time": "2025-07-30T18:03:51.189Z"
   },
   {
    "duration": 9,
    "start_time": "2025-07-30T18:06:38.868Z"
   },
   {
    "duration": 6,
    "start_time": "2025-07-30T18:06:47.165Z"
   },
   {
    "duration": 34,
    "start_time": "2025-07-30T18:06:49.931Z"
   },
   {
    "duration": 6,
    "start_time": "2025-07-30T18:07:07.900Z"
   },
   {
    "duration": 26,
    "start_time": "2025-07-30T18:07:13.938Z"
   },
   {
    "duration": 5,
    "start_time": "2025-07-30T18:07:49.062Z"
   },
   {
    "duration": 6,
    "start_time": "2025-07-30T18:09:17.284Z"
   },
   {
    "duration": 5,
    "start_time": "2025-07-30T18:09:40.481Z"
   },
   {
    "duration": 3,
    "start_time": "2025-07-30T18:11:26.282Z"
   },
   {
    "duration": 7,
    "start_time": "2025-07-30T18:12:45.793Z"
   },
   {
    "duration": 6,
    "start_time": "2025-07-30T18:13:03.381Z"
   },
   {
    "duration": 7,
    "start_time": "2025-07-30T18:13:08.440Z"
   },
   {
    "duration": 5,
    "start_time": "2025-07-30T18:13:13.858Z"
   },
   {
    "duration": 5,
    "start_time": "2025-07-30T18:13:16.062Z"
   },
   {
    "duration": 5,
    "start_time": "2025-07-30T18:13:19.887Z"
   },
   {
    "duration": 5,
    "start_time": "2025-07-30T18:13:20.831Z"
   },
   {
    "duration": 16,
    "start_time": "2025-07-30T18:14:58.513Z"
   },
   {
    "duration": 34,
    "start_time": "2025-07-30T18:15:05.478Z"
   },
   {
    "duration": 461,
    "start_time": "2025-07-31T05:21:54.165Z"
   },
   {
    "duration": 336,
    "start_time": "2025-07-31T05:21:54.629Z"
   },
   {
    "duration": 32,
    "start_time": "2025-07-31T05:21:54.967Z"
   },
   {
    "duration": 137,
    "start_time": "2025-07-31T05:21:55.002Z"
   },
   {
    "duration": 151,
    "start_time": "2025-07-31T05:21:55.141Z"
   },
   {
    "duration": 96,
    "start_time": "2025-07-31T05:21:55.294Z"
   },
   {
    "duration": 3,
    "start_time": "2025-07-31T05:21:55.391Z"
   },
   {
    "duration": 124,
    "start_time": "2025-07-31T05:21:55.395Z"
   },
   {
    "duration": 17,
    "start_time": "2025-07-31T05:21:55.521Z"
   },
   {
    "duration": 121,
    "start_time": "2025-07-31T05:21:55.540Z"
   },
   {
    "duration": 5,
    "start_time": "2025-07-31T05:21:55.662Z"
   },
   {
    "duration": 13,
    "start_time": "2025-07-31T05:21:55.668Z"
   },
   {
    "duration": 77,
    "start_time": "2025-07-31T05:21:55.683Z"
   },
   {
    "duration": 77,
    "start_time": "2025-07-31T05:21:55.762Z"
   },
   {
    "duration": 410,
    "start_time": "2025-07-31T05:23:13.307Z"
   },
   {
    "duration": 95,
    "start_time": "2025-07-31T05:23:13.719Z"
   },
   {
    "duration": 31,
    "start_time": "2025-07-31T05:23:13.815Z"
   },
   {
    "duration": 25,
    "start_time": "2025-07-31T05:23:13.848Z"
   },
   {
    "duration": 29,
    "start_time": "2025-07-31T05:23:13.875Z"
   },
   {
    "duration": 18,
    "start_time": "2025-07-31T05:23:13.906Z"
   },
   {
    "duration": 16,
    "start_time": "2025-07-31T05:23:13.925Z"
   },
   {
    "duration": 29,
    "start_time": "2025-07-31T05:23:13.943Z"
   },
   {
    "duration": 48,
    "start_time": "2025-07-31T05:23:13.974Z"
   },
   {
    "duration": 36,
    "start_time": "2025-07-31T05:23:14.024Z"
   },
   {
    "duration": 4,
    "start_time": "2025-07-31T05:23:14.062Z"
   },
   {
    "duration": 94,
    "start_time": "2025-07-31T05:23:14.067Z"
   },
   {
    "duration": 0,
    "start_time": "2025-07-31T05:23:14.163Z"
   },
   {
    "duration": 0,
    "start_time": "2025-07-31T05:23:14.164Z"
   },
   {
    "duration": 0,
    "start_time": "2025-07-31T05:23:14.165Z"
   },
   {
    "duration": 6,
    "start_time": "2025-07-31T05:23:29.448Z"
   },
   {
    "duration": 5,
    "start_time": "2025-07-31T05:26:59.909Z"
   },
   {
    "duration": 8,
    "start_time": "2025-07-31T05:27:29.665Z"
   },
   {
    "duration": 10,
    "start_time": "2025-07-31T05:28:27.360Z"
   },
   {
    "duration": 41,
    "start_time": "2025-07-31T05:28:29.993Z"
   },
   {
    "duration": 6,
    "start_time": "2025-07-31T05:31:24.860Z"
   },
   {
    "duration": 9,
    "start_time": "2025-07-31T05:31:38.318Z"
   },
   {
    "duration": 2973,
    "start_time": "2025-07-31T05:40:15.111Z"
   },
   {
    "duration": 6,
    "start_time": "2025-07-31T05:40:23.495Z"
   },
   {
    "duration": 84,
    "start_time": "2025-07-31T05:42:34.909Z"
   },
   {
    "duration": 6,
    "start_time": "2025-07-31T05:42:40.928Z"
   },
   {
    "duration": 8,
    "start_time": "2025-07-31T05:42:52.307Z"
   },
   {
    "duration": 6,
    "start_time": "2025-07-31T05:46:05.041Z"
   },
   {
    "duration": 10,
    "start_time": "2025-07-31T05:46:15.703Z"
   },
   {
    "duration": 37,
    "start_time": "2025-07-31T05:46:19.831Z"
   },
   {
    "duration": 16,
    "start_time": "2025-07-31T05:46:54.542Z"
   },
   {
    "duration": 12,
    "start_time": "2025-07-31T05:47:04.978Z"
   },
   {
    "duration": 17,
    "start_time": "2025-07-31T05:51:43.032Z"
   },
   {
    "duration": 14,
    "start_time": "2025-07-31T05:53:03.092Z"
   },
   {
    "duration": 26,
    "start_time": "2025-07-31T05:53:07.622Z"
   },
   {
    "duration": 10,
    "start_time": "2025-07-31T05:53:15.414Z"
   },
   {
    "duration": 10,
    "start_time": "2025-07-31T05:53:36.388Z"
   },
   {
    "duration": 39,
    "start_time": "2025-07-31T05:53:44.230Z"
   },
   {
    "duration": 9,
    "start_time": "2025-07-31T06:52:19.979Z"
   },
   {
    "duration": 11,
    "start_time": "2025-07-31T06:52:33.836Z"
   },
   {
    "duration": 12,
    "start_time": "2025-07-31T06:53:49.156Z"
   },
   {
    "duration": 11,
    "start_time": "2025-07-31T06:53:54.829Z"
   },
   {
    "duration": 29,
    "start_time": "2025-07-31T06:54:08.767Z"
   },
   {
    "duration": 85,
    "start_time": "2025-07-31T06:55:51.589Z"
   },
   {
    "duration": 93,
    "start_time": "2025-07-31T06:56:18.236Z"
   },
   {
    "duration": 6,
    "start_time": "2025-07-31T06:56:30.745Z"
   },
   {
    "duration": 107,
    "start_time": "2025-07-31T06:56:48.634Z"
   },
   {
    "duration": 111,
    "start_time": "2025-07-31T06:58:33.612Z"
   },
   {
    "duration": 84,
    "start_time": "2025-07-31T06:58:38.669Z"
   },
   {
    "duration": 6,
    "start_time": "2025-07-31T06:58:44.321Z"
   },
   {
    "duration": 9,
    "start_time": "2025-07-31T06:59:14.301Z"
   },
   {
    "duration": 12,
    "start_time": "2025-07-31T06:59:27.797Z"
   },
   {
    "duration": 4,
    "start_time": "2025-07-31T06:59:44.922Z"
   },
   {
    "duration": 6,
    "start_time": "2025-07-31T06:59:53.079Z"
   },
   {
    "duration": 4,
    "start_time": "2025-07-31T07:00:09.697Z"
   },
   {
    "duration": 6,
    "start_time": "2025-07-31T07:00:18.961Z"
   },
   {
    "duration": 115,
    "start_time": "2025-07-31T07:07:56.412Z"
   },
   {
    "duration": 4,
    "start_time": "2025-07-31T07:08:06.052Z"
   },
   {
    "duration": 25,
    "start_time": "2025-07-31T07:08:14.626Z"
   },
   {
    "duration": 12,
    "start_time": "2025-07-31T07:10:15.075Z"
   },
   {
    "duration": 113,
    "start_time": "2025-07-31T07:10:46.660Z"
   },
   {
    "duration": 82,
    "start_time": "2025-07-31T07:11:01.037Z"
   },
   {
    "duration": 6,
    "start_time": "2025-07-31T07:12:27.597Z"
   },
   {
    "duration": 114,
    "start_time": "2025-07-31T07:12:39.264Z"
   },
   {
    "duration": 6,
    "start_time": "2025-07-31T07:12:56.454Z"
   },
   {
    "duration": 7,
    "start_time": "2025-07-31T07:13:06.053Z"
   },
   {
    "duration": 8,
    "start_time": "2025-07-31T07:40:12.210Z"
   },
   {
    "duration": 6,
    "start_time": "2025-07-31T07:40:27.178Z"
   },
   {
    "duration": 26,
    "start_time": "2025-07-31T07:40:35.423Z"
   },
   {
    "duration": 13,
    "start_time": "2025-07-31T07:40:44.729Z"
   },
   {
    "duration": 9,
    "start_time": "2025-07-31T07:40:54.499Z"
   },
   {
    "duration": 5,
    "start_time": "2025-07-31T07:40:57.290Z"
   },
   {
    "duration": 6,
    "start_time": "2025-07-31T07:41:14.063Z"
   },
   {
    "duration": 6,
    "start_time": "2025-07-31T07:41:18.988Z"
   },
   {
    "duration": 8,
    "start_time": "2025-07-31T07:41:58.705Z"
   },
   {
    "duration": 386,
    "start_time": "2025-07-31T07:43:55.146Z"
   },
   {
    "duration": 95,
    "start_time": "2025-07-31T07:43:55.535Z"
   },
   {
    "duration": 30,
    "start_time": "2025-07-31T07:43:55.632Z"
   },
   {
    "duration": 47,
    "start_time": "2025-07-31T07:43:55.664Z"
   },
   {
    "duration": 38,
    "start_time": "2025-07-31T07:43:55.714Z"
   },
   {
    "duration": 16,
    "start_time": "2025-07-31T07:43:55.754Z"
   },
   {
    "duration": 121,
    "start_time": "2025-07-31T07:43:55.771Z"
   },
   {
    "duration": 35,
    "start_time": "2025-07-31T07:43:55.894Z"
   },
   {
    "duration": 18,
    "start_time": "2025-07-31T07:43:55.931Z"
   },
   {
    "duration": 76,
    "start_time": "2025-07-31T07:43:55.952Z"
   },
   {
    "duration": 4,
    "start_time": "2025-07-31T07:43:56.030Z"
   },
   {
    "duration": 75,
    "start_time": "2025-07-31T07:43:56.037Z"
   },
   {
    "duration": 8,
    "start_time": "2025-07-31T07:43:56.115Z"
   },
   {
    "duration": 15,
    "start_time": "2025-07-31T07:43:56.126Z"
   },
   {
    "duration": 10,
    "start_time": "2025-07-31T07:43:56.143Z"
   },
   {
    "duration": 75,
    "start_time": "2025-07-31T07:43:56.155Z"
   },
   {
    "duration": 0,
    "start_time": "2025-07-31T07:43:56.232Z"
   },
   {
    "duration": 0,
    "start_time": "2025-07-31T07:43:56.233Z"
   },
   {
    "duration": 0,
    "start_time": "2025-07-31T07:43:56.234Z"
   },
   {
    "duration": 0,
    "start_time": "2025-07-31T07:43:56.235Z"
   },
   {
    "duration": 0,
    "start_time": "2025-07-31T07:43:56.236Z"
   },
   {
    "duration": 0,
    "start_time": "2025-07-31T07:43:56.237Z"
   },
   {
    "duration": 7,
    "start_time": "2025-07-31T07:44:05.174Z"
   },
   {
    "duration": 5,
    "start_time": "2025-07-31T07:44:07.773Z"
   },
   {
    "duration": 10,
    "start_time": "2025-07-31T07:44:36.175Z"
   },
   {
    "duration": 15,
    "start_time": "2025-07-31T07:44:37.903Z"
   },
   {
    "duration": 5,
    "start_time": "2025-07-31T07:44:41.752Z"
   },
   {
    "duration": 6,
    "start_time": "2025-07-31T07:45:02.021Z"
   },
   {
    "duration": 6,
    "start_time": "2025-07-31T07:45:25.324Z"
   },
   {
    "duration": 7,
    "start_time": "2025-07-31T07:45:44.626Z"
   },
   {
    "duration": 8,
    "start_time": "2025-07-31T07:46:19.760Z"
   },
   {
    "duration": 8,
    "start_time": "2025-07-31T07:46:24.234Z"
   },
   {
    "duration": 11,
    "start_time": "2025-07-31T07:46:42.617Z"
   },
   {
    "duration": 10,
    "start_time": "2025-07-31T07:47:44.183Z"
   },
   {
    "duration": 12,
    "start_time": "2025-07-31T07:47:58.338Z"
   },
   {
    "duration": 11,
    "start_time": "2025-07-31T07:48:09.510Z"
   },
   {
    "duration": 13,
    "start_time": "2025-07-31T07:48:19.267Z"
   },
   {
    "duration": 11,
    "start_time": "2025-07-31T07:48:23.178Z"
   },
   {
    "duration": 11,
    "start_time": "2025-07-31T07:48:26.540Z"
   },
   {
    "duration": 15,
    "start_time": "2025-07-31T07:48:33.014Z"
   },
   {
    "duration": 13,
    "start_time": "2025-07-31T07:49:10.312Z"
   },
   {
    "duration": 9,
    "start_time": "2025-07-31T07:49:13.079Z"
   },
   {
    "duration": 9,
    "start_time": "2025-07-31T07:49:17.859Z"
   },
   {
    "duration": 7,
    "start_time": "2025-07-31T07:49:22.379Z"
   },
   {
    "duration": 10,
    "start_time": "2025-07-31T07:49:29.949Z"
   },
   {
    "duration": 8,
    "start_time": "2025-07-31T07:49:36.499Z"
   },
   {
    "duration": 11,
    "start_time": "2025-07-31T07:49:43.045Z"
   },
   {
    "duration": 6,
    "start_time": "2025-07-31T07:49:45.979Z"
   },
   {
    "duration": 397,
    "start_time": "2025-07-31T07:51:28.549Z"
   },
   {
    "duration": 95,
    "start_time": "2025-07-31T07:51:28.948Z"
   },
   {
    "duration": 30,
    "start_time": "2025-07-31T07:51:29.045Z"
   },
   {
    "duration": 50,
    "start_time": "2025-07-31T07:51:29.077Z"
   },
   {
    "duration": 20,
    "start_time": "2025-07-31T07:51:29.129Z"
   },
   {
    "duration": 15,
    "start_time": "2025-07-31T07:51:29.151Z"
   },
   {
    "duration": 2,
    "start_time": "2025-07-31T07:51:29.168Z"
   },
   {
    "duration": 53,
    "start_time": "2025-07-31T07:51:29.172Z"
   },
   {
    "duration": 14,
    "start_time": "2025-07-31T07:51:29.227Z"
   },
   {
    "duration": 59,
    "start_time": "2025-07-31T07:51:29.243Z"
   },
   {
    "duration": 5,
    "start_time": "2025-07-31T07:51:29.304Z"
   },
   {
    "duration": 16,
    "start_time": "2025-07-31T07:51:29.312Z"
   },
   {
    "duration": 78,
    "start_time": "2025-07-31T07:51:29.330Z"
   },
   {
    "duration": 0,
    "start_time": "2025-07-31T07:51:29.411Z"
   },
   {
    "duration": 0,
    "start_time": "2025-07-31T07:51:29.412Z"
   },
   {
    "duration": 0,
    "start_time": "2025-07-31T07:51:29.415Z"
   },
   {
    "duration": 0,
    "start_time": "2025-07-31T07:51:29.416Z"
   },
   {
    "duration": 0,
    "start_time": "2025-07-31T07:51:29.419Z"
   },
   {
    "duration": 0,
    "start_time": "2025-07-31T07:51:29.420Z"
   },
   {
    "duration": 0,
    "start_time": "2025-07-31T07:51:29.422Z"
   },
   {
    "duration": 10,
    "start_time": "2025-07-31T07:51:50.217Z"
   },
   {
    "duration": 4,
    "start_time": "2025-07-31T07:52:05.489Z"
   },
   {
    "duration": 7,
    "start_time": "2025-07-31T07:52:07.994Z"
   },
   {
    "duration": 14,
    "start_time": "2025-07-31T07:52:17.110Z"
   },
   {
    "duration": 10,
    "start_time": "2025-07-31T07:52:19.603Z"
   },
   {
    "duration": 12,
    "start_time": "2025-07-31T07:52:32.420Z"
   },
   {
    "duration": 5,
    "start_time": "2025-07-31T07:52:37.559Z"
   },
   {
    "duration": 11,
    "start_time": "2025-07-31T07:52:58.630Z"
   },
   {
    "duration": 6,
    "start_time": "2025-07-31T07:53:22.153Z"
   },
   {
    "duration": 5,
    "start_time": "2025-07-31T07:53:29.789Z"
   },
   {
    "duration": 9,
    "start_time": "2025-07-31T07:53:55.510Z"
   },
   {
    "duration": 9,
    "start_time": "2025-07-31T07:54:00.738Z"
   },
   {
    "duration": 7,
    "start_time": "2025-07-31T07:54:04.954Z"
   },
   {
    "duration": 7,
    "start_time": "2025-07-31T07:54:10.509Z"
   },
   {
    "duration": 12,
    "start_time": "2025-07-31T07:54:21.382Z"
   },
   {
    "duration": 10,
    "start_time": "2025-07-31T07:54:25.241Z"
   },
   {
    "duration": 7,
    "start_time": "2025-07-31T07:54:27.726Z"
   },
   {
    "duration": 10,
    "start_time": "2025-07-31T07:54:42.144Z"
   },
   {
    "duration": 6,
    "start_time": "2025-07-31T07:54:44.156Z"
   },
   {
    "duration": 10,
    "start_time": "2025-07-31T07:54:50.971Z"
   },
   {
    "duration": 7,
    "start_time": "2025-07-31T07:54:54.441Z"
   },
   {
    "duration": 6,
    "start_time": "2025-07-31T07:57:40.603Z"
   },
   {
    "duration": 11,
    "start_time": "2025-07-31T07:59:05.970Z"
   },
   {
    "duration": 12,
    "start_time": "2025-07-31T07:59:17.462Z"
   },
   {
    "duration": 11,
    "start_time": "2025-07-31T07:59:24.285Z"
   },
   {
    "duration": 9,
    "start_time": "2025-07-31T07:59:27.278Z"
   },
   {
    "duration": 6,
    "start_time": "2025-07-31T08:28:19.382Z"
   },
   {
    "duration": 5,
    "start_time": "2025-07-31T08:28:30.384Z"
   },
   {
    "duration": 5,
    "start_time": "2025-07-31T08:28:40.993Z"
   },
   {
    "duration": 6,
    "start_time": "2025-07-31T08:28:57.607Z"
   },
   {
    "duration": 7,
    "start_time": "2025-07-31T08:28:59.676Z"
   },
   {
    "duration": 6,
    "start_time": "2025-07-31T08:29:11.050Z"
   },
   {
    "duration": 421,
    "start_time": "2025-07-31T17:38:51.620Z"
   },
   {
    "duration": 351,
    "start_time": "2025-07-31T17:38:52.043Z"
   },
   {
    "duration": 33,
    "start_time": "2025-07-31T17:38:52.396Z"
   },
   {
    "duration": 18,
    "start_time": "2025-07-31T17:38:52.431Z"
   },
   {
    "duration": 21,
    "start_time": "2025-07-31T17:38:52.451Z"
   },
   {
    "duration": 22,
    "start_time": "2025-07-31T17:38:52.502Z"
   },
   {
    "duration": 10,
    "start_time": "2025-07-31T17:38:52.526Z"
   },
   {
    "duration": 23,
    "start_time": "2025-07-31T17:38:52.537Z"
   },
   {
    "duration": 15,
    "start_time": "2025-07-31T17:38:52.562Z"
   },
   {
    "duration": 42,
    "start_time": "2025-07-31T17:38:52.599Z"
   },
   {
    "duration": 4,
    "start_time": "2025-07-31T17:38:52.643Z"
   },
   {
    "duration": 130,
    "start_time": "2025-07-31T17:38:52.648Z"
   },
   {
    "duration": 31,
    "start_time": "2025-07-31T17:38:52.780Z"
   },
   {
    "duration": 9,
    "start_time": "2025-07-31T17:38:52.813Z"
   },
   {
    "duration": 7,
    "start_time": "2025-07-31T17:38:52.824Z"
   },
   {
    "duration": 9,
    "start_time": "2025-07-31T17:38:52.832Z"
   },
   {
    "duration": 28,
    "start_time": "2025-07-31T17:38:52.843Z"
   },
   {
    "duration": 38,
    "start_time": "2025-07-31T17:38:52.873Z"
   },
   {
    "duration": 78,
    "start_time": "2025-07-31T17:38:52.913Z"
   },
   {
    "duration": 433,
    "start_time": "2025-07-31T19:51:25.339Z"
   },
   {
    "duration": 133,
    "start_time": "2025-07-31T19:51:25.774Z"
   },
   {
    "duration": 39,
    "start_time": "2025-07-31T19:51:25.908Z"
   },
   {
    "duration": 48,
    "start_time": "2025-07-31T19:51:25.950Z"
   },
   {
    "duration": 22,
    "start_time": "2025-07-31T19:51:26.001Z"
   },
   {
    "duration": 59,
    "start_time": "2025-07-31T19:51:26.025Z"
   },
   {
    "duration": 10,
    "start_time": "2025-07-31T19:51:26.086Z"
   },
   {
    "duration": 48,
    "start_time": "2025-07-31T19:51:26.097Z"
   },
   {
    "duration": 25,
    "start_time": "2025-07-31T19:51:26.147Z"
   },
   {
    "duration": 56,
    "start_time": "2025-07-31T19:51:26.174Z"
   },
   {
    "duration": 6,
    "start_time": "2025-07-31T19:51:26.233Z"
   },
   {
    "duration": 37,
    "start_time": "2025-07-31T19:51:26.242Z"
   },
   {
    "duration": 12,
    "start_time": "2025-07-31T19:51:26.282Z"
   },
   {
    "duration": 30,
    "start_time": "2025-07-31T19:51:26.296Z"
   },
   {
    "duration": 26,
    "start_time": "2025-07-31T19:51:26.329Z"
   },
   {
    "duration": 95,
    "start_time": "2025-07-31T19:51:26.357Z"
   },
   {
    "duration": 59,
    "start_time": "2025-07-31T19:51:26.455Z"
   },
   {
    "duration": 20,
    "start_time": "2025-07-31T19:51:26.516Z"
   },
   {
    "duration": 108,
    "start_time": "2025-07-31T19:51:26.538Z"
   },
   {
    "duration": 34,
    "start_time": "2025-07-31T20:02:18.471Z"
   },
   {
    "duration": 19,
    "start_time": "2025-07-31T20:02:24.079Z"
   },
   {
    "duration": 22,
    "start_time": "2025-07-31T20:02:29.285Z"
   },
   {
    "duration": 71,
    "start_time": "2025-07-31T20:03:57.385Z"
   },
   {
    "duration": 6,
    "start_time": "2025-07-31T20:04:01.241Z"
   },
   {
    "duration": 17505,
    "start_time": "2025-07-31T20:07:59.959Z"
   },
   {
    "duration": 17062,
    "start_time": "2025-07-31T20:08:28.140Z"
   },
   {
    "duration": 802,
    "start_time": "2025-07-31T20:08:45.205Z"
   },
   {
    "duration": 12,
    "start_time": "2025-07-31T20:09:09.522Z"
   },
   {
    "duration": 222,
    "start_time": "2025-07-31T20:09:26.222Z"
   },
   {
    "duration": 23,
    "start_time": "2025-07-31T20:10:17.964Z"
   },
   {
    "duration": 13,
    "start_time": "2025-07-31T20:13:15.788Z"
   },
   {
    "duration": 24,
    "start_time": "2025-07-31T20:13:17.445Z"
   },
   {
    "duration": 11,
    "start_time": "2025-07-31T20:13:33.718Z"
   },
   {
    "duration": 24,
    "start_time": "2025-07-31T20:13:35.256Z"
   },
   {
    "duration": 11,
    "start_time": "2025-07-31T20:16:45.261Z"
   },
   {
    "duration": 28,
    "start_time": "2025-07-31T20:16:46.588Z"
   },
   {
    "duration": 10,
    "start_time": "2025-07-31T20:17:19.479Z"
   },
   {
    "duration": 71,
    "start_time": "2025-07-31T20:17:20.739Z"
   },
   {
    "duration": 11,
    "start_time": "2025-07-31T20:18:27.419Z"
   },
   {
    "duration": 23,
    "start_time": "2025-07-31T20:18:29.582Z"
   },
   {
    "duration": 11,
    "start_time": "2025-07-31T20:19:38.647Z"
   },
   {
    "duration": 24,
    "start_time": "2025-07-31T20:19:41.342Z"
   },
   {
    "duration": 10,
    "start_time": "2025-07-31T20:20:38.113Z"
   },
   {
    "duration": 25,
    "start_time": "2025-07-31T20:20:39.856Z"
   },
   {
    "duration": 11,
    "start_time": "2025-07-31T20:22:11.793Z"
   },
   {
    "duration": 24,
    "start_time": "2025-07-31T20:22:14.048Z"
   },
   {
    "duration": 10,
    "start_time": "2025-07-31T20:22:20.774Z"
   },
   {
    "duration": 22,
    "start_time": "2025-07-31T20:22:22.034Z"
   },
   {
    "duration": 10,
    "start_time": "2025-07-31T20:23:01.916Z"
   },
   {
    "duration": 24,
    "start_time": "2025-07-31T20:23:03.928Z"
   },
   {
    "duration": 11,
    "start_time": "2025-07-31T20:23:19.368Z"
   },
   {
    "duration": 24,
    "start_time": "2025-07-31T20:23:21.743Z"
   },
   {
    "duration": 10,
    "start_time": "2025-07-31T20:25:19.880Z"
   },
   {
    "duration": 23,
    "start_time": "2025-07-31T20:25:21.190Z"
   },
   {
    "duration": 10,
    "start_time": "2025-07-31T20:26:03.755Z"
   },
   {
    "duration": 22,
    "start_time": "2025-07-31T20:26:06.152Z"
   },
   {
    "duration": 10,
    "start_time": "2025-07-31T20:28:03.822Z"
   },
   {
    "duration": 26,
    "start_time": "2025-07-31T20:28:05.851Z"
   },
   {
    "duration": 9,
    "start_time": "2025-07-31T20:28:35.128Z"
   },
   {
    "duration": 25,
    "start_time": "2025-07-31T20:28:37.633Z"
   },
   {
    "duration": 9,
    "start_time": "2025-07-31T20:30:01.731Z"
   },
   {
    "duration": 25,
    "start_time": "2025-07-31T20:30:06.013Z"
   },
   {
    "duration": 10,
    "start_time": "2025-07-31T20:30:13.358Z"
   },
   {
    "duration": 27,
    "start_time": "2025-07-31T20:30:14.615Z"
   },
   {
    "duration": 10,
    "start_time": "2025-07-31T20:30:26.391Z"
   },
   {
    "duration": 28,
    "start_time": "2025-07-31T20:30:27.795Z"
   },
   {
    "duration": 11,
    "start_time": "2025-07-31T20:30:51.765Z"
   },
   {
    "duration": 22,
    "start_time": "2025-07-31T20:30:53.042Z"
   },
   {
    "duration": 10,
    "start_time": "2025-07-31T20:30:58.274Z"
   },
   {
    "duration": 23,
    "start_time": "2025-07-31T20:30:59.549Z"
   },
   {
    "duration": 9,
    "start_time": "2025-07-31T20:31:31.041Z"
   },
   {
    "duration": 24,
    "start_time": "2025-07-31T20:31:35.564Z"
   },
   {
    "duration": 21,
    "start_time": "2025-07-31T20:33:50.618Z"
   },
   {
    "duration": 23,
    "start_time": "2025-07-31T20:34:11.074Z"
   },
   {
    "duration": 23,
    "start_time": "2025-07-31T20:34:17.873Z"
   },
   {
    "duration": 21,
    "start_time": "2025-07-31T20:34:26.784Z"
   },
   {
    "duration": 23,
    "start_time": "2025-07-31T20:34:34.152Z"
   },
   {
    "duration": 21,
    "start_time": "2025-07-31T20:34:41.447Z"
   },
   {
    "duration": 23,
    "start_time": "2025-07-31T20:35:00.442Z"
   },
   {
    "duration": 22,
    "start_time": "2025-07-31T20:35:06.085Z"
   },
   {
    "duration": 25,
    "start_time": "2025-07-31T20:35:12.812Z"
   },
   {
    "duration": 22,
    "start_time": "2025-07-31T20:35:19.732Z"
   },
   {
    "duration": 25,
    "start_time": "2025-07-31T20:35:47.373Z"
   },
   {
    "duration": 24,
    "start_time": "2025-07-31T20:35:55.155Z"
   },
   {
    "duration": 24,
    "start_time": "2025-07-31T20:36:01.956Z"
   },
   {
    "duration": 24,
    "start_time": "2025-07-31T20:36:08.268Z"
   },
   {
    "duration": 24,
    "start_time": "2025-07-31T20:36:15.420Z"
   },
   {
    "duration": 23,
    "start_time": "2025-07-31T20:36:24.800Z"
   },
   {
    "duration": 23,
    "start_time": "2025-07-31T20:36:34.776Z"
   },
   {
    "duration": 10,
    "start_time": "2025-07-31T20:36:47.310Z"
   },
   {
    "duration": 23,
    "start_time": "2025-07-31T20:36:54.466Z"
   },
   {
    "duration": 23,
    "start_time": "2025-07-31T20:39:35.517Z"
   },
   {
    "duration": 23,
    "start_time": "2025-07-31T20:39:53.421Z"
   },
   {
    "duration": 24,
    "start_time": "2025-07-31T20:40:16.768Z"
   },
   {
    "duration": 23,
    "start_time": "2025-07-31T20:40:24.120Z"
   },
   {
    "duration": 23,
    "start_time": "2025-07-31T20:40:38.304Z"
   },
   {
    "duration": 19,
    "start_time": "2025-07-31T20:41:21.922Z"
   },
   {
    "duration": 20,
    "start_time": "2025-07-31T20:41:24.118Z"
   },
   {
    "duration": 16,
    "start_time": "2025-07-31T20:42:23.508Z"
   },
   {
    "duration": 18,
    "start_time": "2025-07-31T20:42:30.789Z"
   },
   {
    "duration": 18,
    "start_time": "2025-07-31T20:42:44.015Z"
   },
   {
    "duration": 25,
    "start_time": "2025-07-31T20:43:00.264Z"
   },
   {
    "duration": 22,
    "start_time": "2025-07-31T20:43:07.797Z"
   },
   {
    "duration": 24,
    "start_time": "2025-07-31T20:43:12.981Z"
   },
   {
    "duration": 24,
    "start_time": "2025-07-31T20:43:31.007Z"
   },
   {
    "duration": 18,
    "start_time": "2025-07-31T20:45:11.407Z"
   },
   {
    "duration": 17,
    "start_time": "2025-07-31T20:45:21.916Z"
   },
   {
    "duration": 25,
    "start_time": "2025-07-31T20:45:32.093Z"
   },
   {
    "duration": 18,
    "start_time": "2025-07-31T20:45:40.385Z"
   },
   {
    "duration": 17,
    "start_time": "2025-07-31T20:45:50.918Z"
   },
   {
    "duration": 18,
    "start_time": "2025-07-31T20:46:06.894Z"
   },
   {
    "duration": 24,
    "start_time": "2025-07-31T20:46:42.264Z"
   },
   {
    "duration": 23,
    "start_time": "2025-07-31T20:47:04.588Z"
   },
   {
    "duration": 19,
    "start_time": "2025-07-31T20:47:20.733Z"
   },
   {
    "duration": 17,
    "start_time": "2025-07-31T20:47:34.955Z"
   },
   {
    "duration": 18,
    "start_time": "2025-07-31T20:47:48.799Z"
   },
   {
    "duration": 17,
    "start_time": "2025-07-31T20:47:59.819Z"
   },
   {
    "duration": 25,
    "start_time": "2025-07-31T20:48:12.056Z"
   },
   {
    "duration": 8,
    "start_time": "2025-07-31T20:50:39.488Z"
   },
   {
    "duration": 43,
    "start_time": "2025-07-31T20:51:25.257Z"
   },
   {
    "duration": 5,
    "start_time": "2025-07-31T21:01:40.848Z"
   },
   {
    "duration": 23,
    "start_time": "2025-07-31T21:03:48.646Z"
   },
   {
    "duration": 22,
    "start_time": "2025-07-31T21:03:56.652Z"
   },
   {
    "duration": 23,
    "start_time": "2025-07-31T21:04:06.612Z"
   },
   {
    "duration": 54,
    "start_time": "2025-07-31T21:05:38.205Z"
   },
   {
    "duration": 51,
    "start_time": "2025-07-31T21:08:08.340Z"
   },
   {
    "duration": 54,
    "start_time": "2025-07-31T21:08:15.094Z"
   },
   {
    "duration": 54,
    "start_time": "2025-07-31T21:08:19.816Z"
   },
   {
    "duration": 64,
    "start_time": "2025-07-31T21:09:01.650Z"
   },
   {
    "duration": 10,
    "start_time": "2025-07-31T21:10:01.600Z"
   },
   {
    "duration": 50,
    "start_time": "2025-07-31T21:10:06.725Z"
   },
   {
    "duration": 55,
    "start_time": "2025-07-31T21:10:43.768Z"
   },
   {
    "duration": 51,
    "start_time": "2025-07-31T21:10:55.794Z"
   },
   {
    "duration": 50,
    "start_time": "2025-07-31T21:13:53.395Z"
   },
   {
    "duration": 50,
    "start_time": "2025-07-31T21:14:08.957Z"
   },
   {
    "duration": 8,
    "start_time": "2025-07-31T21:14:30.660Z"
   },
   {
    "duration": 52,
    "start_time": "2025-07-31T21:15:33.597Z"
   },
   {
    "duration": 55,
    "start_time": "2025-07-31T21:15:59.531Z"
   },
   {
    "duration": 56,
    "start_time": "2025-07-31T21:18:25.000Z"
   },
   {
    "duration": 57,
    "start_time": "2025-07-31T21:18:56.945Z"
   },
   {
    "duration": 32,
    "start_time": "2025-07-31T21:22:28.628Z"
   },
   {
    "duration": 6,
    "start_time": "2025-07-31T21:22:38.856Z"
   },
   {
    "duration": 4,
    "start_time": "2025-07-31T21:22:58.322Z"
   },
   {
    "duration": 46,
    "start_time": "2025-07-31T21:23:20.051Z"
   },
   {
    "duration": 12,
    "start_time": "2025-07-31T21:29:33.453Z"
   },
   {
    "duration": 128,
    "start_time": "2025-07-31T21:30:20.397Z"
   },
   {
    "duration": 18551,
    "start_time": "2025-07-31T21:30:42.238Z"
   },
   {
    "duration": 1207,
    "start_time": "2025-07-31T21:31:00.792Z"
   },
   {
    "duration": 11,
    "start_time": "2025-07-31T21:31:02.001Z"
   },
   {
    "duration": 26,
    "start_time": "2025-07-31T21:31:02.014Z"
   },
   {
    "duration": 15,
    "start_time": "2025-07-31T21:31:02.042Z"
   },
   {
    "duration": 75,
    "start_time": "2025-07-31T21:31:02.060Z"
   },
   {
    "duration": 55,
    "start_time": "2025-07-31T21:31:02.137Z"
   },
   {
    "duration": 271,
    "start_time": "2025-07-31T21:31:02.194Z"
   },
   {
    "duration": 31,
    "start_time": "2025-07-31T21:31:02.466Z"
   },
   {
    "duration": 26,
    "start_time": "2025-07-31T21:31:02.498Z"
   },
   {
    "duration": 68,
    "start_time": "2025-07-31T21:31:02.525Z"
   },
   {
    "duration": 24,
    "start_time": "2025-07-31T21:31:02.595Z"
   },
   {
    "duration": 28,
    "start_time": "2025-07-31T21:31:02.620Z"
   },
   {
    "duration": 46,
    "start_time": "2025-07-31T21:31:02.651Z"
   },
   {
    "duration": 42,
    "start_time": "2025-07-31T21:31:02.698Z"
   },
   {
    "duration": 68,
    "start_time": "2025-07-31T21:31:02.742Z"
   },
   {
    "duration": 4,
    "start_time": "2025-07-31T21:31:02.812Z"
   },
   {
    "duration": 91,
    "start_time": "2025-07-31T21:31:02.818Z"
   },
   {
    "duration": 78,
    "start_time": "2025-07-31T21:31:02.911Z"
   },
   {
    "duration": 83,
    "start_time": "2025-07-31T21:31:02.990Z"
   },
   {
    "duration": 61,
    "start_time": "2025-07-31T21:31:03.075Z"
   },
   {
    "duration": 27,
    "start_time": "2025-07-31T21:31:03.138Z"
   },
   {
    "duration": 36,
    "start_time": "2025-07-31T21:31:03.167Z"
   },
   {
    "duration": 31,
    "start_time": "2025-07-31T21:31:03.205Z"
   },
   {
    "duration": 18,
    "start_time": "2025-07-31T21:31:03.238Z"
   },
   {
    "duration": 243,
    "start_time": "2025-07-31T21:31:03.258Z"
   },
   {
    "duration": 5,
    "start_time": "2025-07-31T21:31:03.503Z"
   },
   {
    "duration": 87,
    "start_time": "2025-07-31T21:31:03.509Z"
   },
   {
    "duration": 122,
    "start_time": "2025-07-31T21:31:03.598Z"
   },
   {
    "duration": 0,
    "start_time": "2025-07-31T21:31:03.722Z"
   },
   {
    "duration": 54,
    "start_time": "2025-07-31T21:32:14.434Z"
   },
   {
    "duration": 54,
    "start_time": "2025-07-31T21:32:22.981Z"
   },
   {
    "duration": 55,
    "start_time": "2025-07-31T21:32:35.398Z"
   },
   {
    "duration": 47,
    "start_time": "2025-07-31T21:33:14.079Z"
   },
   {
    "duration": 36,
    "start_time": "2025-07-31T21:33:42.379Z"
   },
   {
    "duration": 5,
    "start_time": "2025-07-31T21:33:55.172Z"
   },
   {
    "duration": 65,
    "start_time": "2025-07-31T21:34:41.394Z"
   },
   {
    "duration": 32,
    "start_time": "2025-07-31T21:35:20.480Z"
   },
   {
    "duration": 5,
    "start_time": "2025-07-31T21:35:32.231Z"
   },
   {
    "duration": 4,
    "start_time": "2025-07-31T21:35:37.856Z"
   },
   {
    "duration": 44,
    "start_time": "2025-07-31T21:36:12.210Z"
   },
   {
    "duration": 36,
    "start_time": "2025-07-31T21:36:32.072Z"
   },
   {
    "duration": 4,
    "start_time": "2025-07-31T21:36:45.803Z"
   },
   {
    "duration": 5,
    "start_time": "2025-07-31T21:37:02.567Z"
   },
   {
    "duration": 44,
    "start_time": "2025-07-31T21:37:33.917Z"
   },
   {
    "duration": 5,
    "start_time": "2025-07-31T21:37:51.176Z"
   },
   {
    "duration": 5,
    "start_time": "2025-07-31T21:38:04.148Z"
   },
   {
    "duration": 4,
    "start_time": "2025-07-31T21:38:09.352Z"
   },
   {
    "duration": 47,
    "start_time": "2025-07-31T21:38:44.244Z"
   },
   {
    "duration": 5,
    "start_time": "2025-07-31T21:39:17.278Z"
   },
   {
    "duration": 5,
    "start_time": "2025-07-31T21:39:36.283Z"
   },
   {
    "duration": 48,
    "start_time": "2025-07-31T21:40:04.312Z"
   },
   {
    "duration": 34,
    "start_time": "2025-07-31T21:40:21.917Z"
   },
   {
    "duration": 5,
    "start_time": "2025-07-31T21:40:28.662Z"
   },
   {
    "duration": 5,
    "start_time": "2025-07-31T21:40:49.509Z"
   },
   {
    "duration": 50,
    "start_time": "2025-07-31T21:41:29.635Z"
   },
   {
    "duration": 4,
    "start_time": "2025-07-31T21:42:23.410Z"
   },
   {
    "duration": 5,
    "start_time": "2025-07-31T21:43:14.183Z"
   },
   {
    "duration": 46,
    "start_time": "2025-07-31T21:43:47.545Z"
   },
   {
    "duration": 107,
    "start_time": "2025-07-31T21:44:45.527Z"
   },
   {
    "duration": 120,
    "start_time": "2025-07-31T21:44:54.309Z"
   },
   {
    "duration": 244,
    "start_time": "2025-07-31T21:46:55.684Z"
   },
   {
    "duration": 45457,
    "start_time": "2025-08-01T17:33:51.742Z"
   },
   {
    "duration": 1369,
    "start_time": "2025-08-01T17:34:37.202Z"
   },
   {
    "duration": 13,
    "start_time": "2025-08-01T17:34:38.573Z"
   },
   {
    "duration": 12,
    "start_time": "2025-08-01T17:34:38.589Z"
   },
   {
    "duration": 30,
    "start_time": "2025-08-01T17:34:38.603Z"
   },
   {
    "duration": 12,
    "start_time": "2025-08-01T17:34:38.635Z"
   },
   {
    "duration": 17,
    "start_time": "2025-08-01T17:34:38.648Z"
   },
   {
    "duration": 217,
    "start_time": "2025-08-01T17:34:38.667Z"
   },
   {
    "duration": 31,
    "start_time": "2025-08-01T17:34:38.886Z"
   },
   {
    "duration": 42,
    "start_time": "2025-08-01T17:34:38.920Z"
   },
   {
    "duration": 33,
    "start_time": "2025-08-01T17:34:38.965Z"
   },
   {
    "duration": 21,
    "start_time": "2025-08-01T17:34:39.000Z"
   },
   {
    "duration": 11,
    "start_time": "2025-08-01T17:34:39.023Z"
   },
   {
    "duration": 123,
    "start_time": "2025-08-01T17:34:39.061Z"
   },
   {
    "duration": 18,
    "start_time": "2025-08-01T17:34:39.186Z"
   },
   {
    "duration": 53,
    "start_time": "2025-08-01T17:34:39.207Z"
   },
   {
    "duration": 6,
    "start_time": "2025-08-01T17:34:39.262Z"
   },
   {
    "duration": 9,
    "start_time": "2025-08-01T17:34:39.270Z"
   },
   {
    "duration": 7,
    "start_time": "2025-08-01T17:34:39.282Z"
   },
   {
    "duration": 26,
    "start_time": "2025-08-01T17:34:39.291Z"
   },
   {
    "duration": 123,
    "start_time": "2025-08-01T17:34:39.319Z"
   },
   {
    "duration": 10,
    "start_time": "2025-08-01T17:34:39.444Z"
   },
   {
    "duration": 12,
    "start_time": "2025-08-01T17:34:39.456Z"
   },
   {
    "duration": 10,
    "start_time": "2025-08-01T17:34:39.470Z"
   },
   {
    "duration": 10,
    "start_time": "2025-08-01T17:34:39.482Z"
   },
   {
    "duration": 293,
    "start_time": "2025-08-01T17:34:39.493Z"
   },
   {
    "duration": 6,
    "start_time": "2025-08-01T17:34:39.788Z"
   },
   {
    "duration": 99,
    "start_time": "2025-08-01T17:34:39.798Z"
   },
   {
    "duration": 6,
    "start_time": "2025-08-01T17:34:39.899Z"
   },
   {
    "duration": 65,
    "start_time": "2025-08-01T17:34:39.961Z"
   },
   {
    "duration": 5,
    "start_time": "2025-08-01T17:34:40.028Z"
   },
   {
    "duration": 76,
    "start_time": "2025-08-01T17:34:40.035Z"
   },
   {
    "duration": 5,
    "start_time": "2025-08-01T17:34:40.113Z"
   },
   {
    "duration": 78,
    "start_time": "2025-08-01T17:34:40.119Z"
   },
   {
    "duration": 6,
    "start_time": "2025-08-01T17:34:40.198Z"
   },
   {
    "duration": 73,
    "start_time": "2025-08-01T17:34:40.205Z"
   },
   {
    "duration": 5,
    "start_time": "2025-08-01T17:34:40.281Z"
   },
   {
    "duration": 75,
    "start_time": "2025-08-01T17:34:40.288Z"
   },
   {
    "duration": 43,
    "start_time": "2025-08-01T17:34:40.365Z"
   },
   {
    "duration": 153,
    "start_time": "2025-08-01T17:34:40.409Z"
   },
   {
    "duration": 5,
    "start_time": "2025-08-01T17:34:40.564Z"
   },
   {
    "duration": 57,
    "start_time": "2025-08-01T17:34:40.571Z"
   },
   {
    "duration": 4,
    "start_time": "2025-08-01T17:34:40.630Z"
   },
   {
    "duration": 290,
    "start_time": "2025-08-01T17:34:40.636Z"
   },
   {
    "duration": 104,
    "start_time": "2025-08-01T17:34:40.927Z"
   },
   {
    "duration": 80,
    "start_time": "2025-08-01T17:35:48.016Z"
   },
   {
    "duration": 1677,
    "start_time": "2025-08-01T17:36:07.125Z"
   },
   {
    "duration": 41,
    "start_time": "2025-08-01T17:37:48.382Z"
   },
   {
    "duration": 4,
    "start_time": "2025-08-01T17:38:00.036Z"
   },
   {
    "duration": 3014,
    "start_time": "2025-08-01T17:38:25.630Z"
   },
   {
    "duration": 120,
    "start_time": "2025-08-01T17:38:50.343Z"
   },
   {
    "duration": 61,
    "start_time": "2025-08-01T17:43:03.023Z"
   },
   {
    "duration": 1564,
    "start_time": "2025-08-01T17:46:20.873Z"
   },
   {
    "duration": 36,
    "start_time": "2025-08-01T17:46:49.936Z"
   },
   {
    "duration": 22,
    "start_time": "2025-08-01T17:50:17.980Z"
   },
   {
    "duration": 59,
    "start_time": "2025-08-01T17:58:43.866Z"
   },
   {
    "duration": 82,
    "start_time": "2025-08-01T18:05:02.836Z"
   },
   {
    "duration": 58,
    "start_time": "2025-08-01T18:23:59.115Z"
   },
   {
    "duration": 57,
    "start_time": "2025-08-01T18:27:20.358Z"
   },
   {
    "duration": 51,
    "start_time": "2025-08-01T18:32:18.834Z"
   },
   {
    "duration": 48,
    "start_time": "2025-08-01T18:35:43.973Z"
   },
   {
    "duration": 48,
    "start_time": "2025-08-01T18:52:24.467Z"
   },
   {
    "duration": 11,
    "start_time": "2025-08-01T18:58:04.945Z"
   },
   {
    "duration": 101,
    "start_time": "2025-08-01T18:58:44.435Z"
   },
   {
    "duration": 96,
    "start_time": "2025-08-01T18:58:59.038Z"
   },
   {
    "duration": 10,
    "start_time": "2025-08-01T18:59:17.258Z"
   },
   {
    "duration": 7,
    "start_time": "2025-08-01T18:59:23.082Z"
   },
   {
    "duration": 7,
    "start_time": "2025-08-01T18:59:27.446Z"
   },
   {
    "duration": 8,
    "start_time": "2025-08-01T18:59:39.228Z"
   },
   {
    "duration": 12,
    "start_time": "2025-08-01T18:59:42.857Z"
   },
   {
    "duration": 6,
    "start_time": "2025-08-01T19:00:03.699Z"
   },
   {
    "duration": 9,
    "start_time": "2025-08-01T19:00:08.977Z"
   },
   {
    "duration": 8,
    "start_time": "2025-08-01T19:00:16.636Z"
   },
   {
    "duration": 7,
    "start_time": "2025-08-01T19:00:19.556Z"
   },
   {
    "duration": 5,
    "start_time": "2025-08-01T19:00:25.876Z"
   },
   {
    "duration": 6,
    "start_time": "2025-08-01T19:00:27.977Z"
   },
   {
    "duration": 54,
    "start_time": "2025-08-01T19:00:40.714Z"
   },
   {
    "duration": 52,
    "start_time": "2025-08-01T19:01:38.539Z"
   },
   {
    "duration": 139,
    "start_time": "2025-08-01T19:05:10.648Z"
   },
   {
    "duration": 49,
    "start_time": "2025-08-01T19:05:43.475Z"
   },
   {
    "duration": 49,
    "start_time": "2025-08-01T19:06:18.387Z"
   },
   {
    "duration": 7,
    "start_time": "2025-08-01T19:11:01.173Z"
   },
   {
    "duration": 4,
    "start_time": "2025-08-01T19:11:23.076Z"
   },
   {
    "duration": 6,
    "start_time": "2025-08-01T19:11:26.005Z"
   },
   {
    "duration": 54,
    "start_time": "2025-08-01T19:11:51.029Z"
   },
   {
    "duration": 7,
    "start_time": "2025-08-01T19:14:19.529Z"
   },
   {
    "duration": 6,
    "start_time": "2025-08-01T19:14:39.388Z"
   },
   {
    "duration": 5,
    "start_time": "2025-08-01T19:14:53.144Z"
   },
   {
    "duration": 7,
    "start_time": "2025-08-01T19:17:00.752Z"
   },
   {
    "duration": 8,
    "start_time": "2025-08-01T19:17:31.641Z"
   },
   {
    "duration": 7,
    "start_time": "2025-08-01T19:17:39.782Z"
   },
   {
    "duration": 8,
    "start_time": "2025-08-01T19:18:34.930Z"
   },
   {
    "duration": 8,
    "start_time": "2025-08-01T19:19:47.350Z"
   },
   {
    "duration": 275,
    "start_time": "2025-08-01T19:26:14.132Z"
   },
   {
    "duration": 377,
    "start_time": "2025-08-01T19:29:07.045Z"
   },
   {
    "duration": 425,
    "start_time": "2025-08-01T19:37:08.301Z"
   },
   {
    "duration": 301,
    "start_time": "2025-08-01T19:37:14.500Z"
   },
   {
    "duration": 11,
    "start_time": "2025-08-01T19:46:40.046Z"
   },
   {
    "duration": 99,
    "start_time": "2025-08-01T19:46:49.831Z"
   },
   {
    "duration": 9,
    "start_time": "2025-08-01T19:48:06.416Z"
   },
   {
    "duration": 37,
    "start_time": "2025-08-01T19:48:26.866Z"
   },
   {
    "duration": 8,
    "start_time": "2025-08-01T19:49:37.895Z"
   },
   {
    "duration": 4,
    "start_time": "2025-08-01T19:52:31.832Z"
   },
   {
    "duration": 5,
    "start_time": "2025-08-01T20:54:03.262Z"
   },
   {
    "duration": 46,
    "start_time": "2025-08-01T20:55:56.863Z"
   },
   {
    "duration": 6,
    "start_time": "2025-08-01T20:59:59.491Z"
   },
   {
    "duration": 6,
    "start_time": "2025-08-01T21:00:29.675Z"
   },
   {
    "duration": 46,
    "start_time": "2025-08-01T21:00:56.859Z"
   },
   {
    "duration": 5,
    "start_time": "2025-08-01T21:03:46.831Z"
   },
   {
    "duration": 48,
    "start_time": "2025-08-01T21:04:50.135Z"
   },
   {
    "duration": 6,
    "start_time": "2025-08-01T21:08:58.382Z"
   },
   {
    "duration": 46,
    "start_time": "2025-08-01T21:10:12.479Z"
   },
   {
    "duration": 5,
    "start_time": "2025-08-01T21:10:37.850Z"
   },
   {
    "duration": 4,
    "start_time": "2025-08-01T21:10:42.825Z"
   },
   {
    "duration": 5,
    "start_time": "2025-08-01T21:10:58.457Z"
   },
   {
    "duration": 50,
    "start_time": "2025-08-01T21:11:01.515Z"
   },
   {
    "duration": 30,
    "start_time": "2025-08-01T21:12:26.694Z"
   },
   {
    "duration": 30,
    "start_time": "2025-08-01T21:12:45.277Z"
   },
   {
    "duration": 29,
    "start_time": "2025-08-01T21:13:04.586Z"
   },
   {
    "duration": 28,
    "start_time": "2025-08-01T21:13:27.516Z"
   },
   {
    "duration": 5,
    "start_time": "2025-08-01T21:15:25.796Z"
   },
   {
    "duration": 45,
    "start_time": "2025-08-01T21:17:59.544Z"
   },
   {
    "duration": 5,
    "start_time": "2025-08-01T21:24:08.806Z"
   },
   {
    "duration": 6,
    "start_time": "2025-08-01T21:24:32.612Z"
   },
   {
    "duration": 44,
    "start_time": "2025-08-01T21:27:07.506Z"
   },
   {
    "duration": 43,
    "start_time": "2025-08-01T21:27:19.830Z"
   },
   {
    "duration": 30,
    "start_time": "2025-08-01T21:28:01.613Z"
   },
   {
    "duration": 16708,
    "start_time": "2025-08-01T21:30:22.849Z"
   },
   {
    "duration": 1177,
    "start_time": "2025-08-01T21:30:39.560Z"
   },
   {
    "duration": 23,
    "start_time": "2025-08-01T21:30:40.739Z"
   },
   {
    "duration": 7,
    "start_time": "2025-08-01T21:30:40.764Z"
   },
   {
    "duration": 8,
    "start_time": "2025-08-01T21:30:40.773Z"
   },
   {
    "duration": 9,
    "start_time": "2025-08-01T21:30:40.783Z"
   },
   {
    "duration": 12,
    "start_time": "2025-08-01T21:30:40.794Z"
   },
   {
    "duration": 97,
    "start_time": "2025-08-01T21:30:40.807Z"
   },
   {
    "duration": 27,
    "start_time": "2025-08-01T21:30:40.906Z"
   },
   {
    "duration": 18,
    "start_time": "2025-08-01T21:30:40.936Z"
   },
   {
    "duration": 35,
    "start_time": "2025-08-01T21:30:40.955Z"
   },
   {
    "duration": 16,
    "start_time": "2025-08-01T21:30:40.991Z"
   },
   {
    "duration": 4,
    "start_time": "2025-08-01T21:30:41.008Z"
   },
   {
    "duration": 20,
    "start_time": "2025-08-01T21:30:41.014Z"
   },
   {
    "duration": 28,
    "start_time": "2025-08-01T21:30:41.035Z"
   },
   {
    "duration": 36,
    "start_time": "2025-08-01T21:30:41.065Z"
   },
   {
    "duration": 3,
    "start_time": "2025-08-01T21:30:41.103Z"
   },
   {
    "duration": 39,
    "start_time": "2025-08-01T21:30:41.108Z"
   },
   {
    "duration": 17,
    "start_time": "2025-08-01T21:30:41.149Z"
   },
   {
    "duration": 25,
    "start_time": "2025-08-01T21:30:41.168Z"
   },
   {
    "duration": 10,
    "start_time": "2025-08-01T21:30:41.194Z"
   },
   {
    "duration": 9,
    "start_time": "2025-08-01T21:30:41.206Z"
   },
   {
    "duration": 18,
    "start_time": "2025-08-01T21:30:41.216Z"
   },
   {
    "duration": 23,
    "start_time": "2025-08-01T21:30:41.235Z"
   },
   {
    "duration": 220,
    "start_time": "2025-08-01T21:30:41.260Z"
   },
   {
    "duration": 4,
    "start_time": "2025-08-01T21:30:41.482Z"
   },
   {
    "duration": 165,
    "start_time": "2025-08-01T21:30:41.488Z"
   },
   {
    "duration": 5,
    "start_time": "2025-08-01T21:30:41.657Z"
   },
   {
    "duration": 59,
    "start_time": "2025-08-01T21:30:41.664Z"
   },
   {
    "duration": 5,
    "start_time": "2025-08-01T21:30:41.724Z"
   },
   {
    "duration": 87,
    "start_time": "2025-08-01T21:30:41.731Z"
   },
   {
    "duration": 10,
    "start_time": "2025-08-01T21:30:41.820Z"
   },
   {
    "duration": 7,
    "start_time": "2025-08-01T21:30:41.832Z"
   },
   {
    "duration": 5,
    "start_time": "2025-08-01T21:30:41.861Z"
   },
   {
    "duration": 43,
    "start_time": "2025-08-01T21:30:41.868Z"
   },
   {
    "duration": 4,
    "start_time": "2025-08-01T21:30:41.913Z"
   },
   {
    "duration": 75,
    "start_time": "2025-08-01T21:30:41.918Z"
   },
   {
    "duration": 4,
    "start_time": "2025-08-01T21:30:41.995Z"
   },
   {
    "duration": 64,
    "start_time": "2025-08-01T21:30:42.000Z"
   },
   {
    "duration": 4,
    "start_time": "2025-08-01T21:30:42.066Z"
   },
   {
    "duration": 44,
    "start_time": "2025-08-01T21:30:42.072Z"
   },
   {
    "duration": 5,
    "start_time": "2025-08-01T21:30:42.117Z"
   },
   {
    "duration": 132,
    "start_time": "2025-08-01T21:30:42.124Z"
   },
   {
    "duration": 5,
    "start_time": "2025-08-01T21:30:42.257Z"
   },
   {
    "duration": 28,
    "start_time": "2025-08-01T21:30:42.264Z"
   },
   {
    "duration": 5,
    "start_time": "2025-08-01T21:30:42.293Z"
   },
   {
    "duration": 68,
    "start_time": "2025-08-01T21:30:42.299Z"
   },
   {
    "duration": 5,
    "start_time": "2025-08-01T21:30:42.369Z"
   },
   {
    "duration": 35,
    "start_time": "2025-08-01T21:30:42.376Z"
   },
   {
    "duration": 266,
    "start_time": "2025-08-01T21:30:42.413Z"
   },
   {
    "duration": 8,
    "start_time": "2025-08-01T21:30:42.681Z"
   },
   {
    "duration": 378,
    "start_time": "2025-08-01T21:30:42.690Z"
   },
   {
    "duration": 5,
    "start_time": "2025-08-01T21:30:43.070Z"
   },
   {
    "duration": 93,
    "start_time": "2025-08-01T21:30:43.076Z"
   },
   {
    "duration": 6,
    "start_time": "2025-08-01T21:30:43.171Z"
   },
   {
    "duration": 30,
    "start_time": "2025-08-01T21:30:43.179Z"
   },
   {
    "duration": 4,
    "start_time": "2025-08-01T21:30:43.211Z"
   },
   {
    "duration": 82,
    "start_time": "2025-08-01T21:30:43.216Z"
   },
   {
    "duration": 5,
    "start_time": "2025-08-01T21:30:43.300Z"
   },
   {
    "duration": 135,
    "start_time": "2025-08-01T21:30:43.306Z"
   },
   {
    "duration": 5,
    "start_time": "2025-08-01T21:30:43.442Z"
   },
   {
    "duration": 141,
    "start_time": "2025-08-01T21:30:43.448Z"
   },
   {
    "duration": 4,
    "start_time": "2025-08-01T21:30:43.590Z"
   },
   {
    "duration": 0,
    "start_time": "2025-08-01T21:30:43.595Z"
   },
   {
    "duration": 0,
    "start_time": "2025-08-01T21:30:43.597Z"
   },
   {
    "duration": 0,
    "start_time": "2025-08-01T21:30:43.598Z"
   },
   {
    "duration": 6,
    "start_time": "2025-08-01T21:32:24.840Z"
   },
   {
    "duration": 32,
    "start_time": "2025-08-01T21:32:26.953Z"
   },
   {
    "duration": 4,
    "start_time": "2025-08-01T21:35:37.869Z"
   },
   {
    "duration": 4,
    "start_time": "2025-08-01T21:37:41.080Z"
   },
   {
    "duration": 45,
    "start_time": "2025-08-01T21:39:59.091Z"
   },
   {
    "duration": 6,
    "start_time": "2025-08-01T21:45:29.215Z"
   },
   {
    "duration": 6,
    "start_time": "2025-08-01T21:45:43.178Z"
   },
   {
    "duration": 28,
    "start_time": "2025-08-01T21:45:57.550Z"
   },
   {
    "duration": 14,
    "start_time": "2025-08-01T21:49:02.287Z"
   },
   {
    "duration": 5,
    "start_time": "2025-08-01T21:49:52.895Z"
   },
   {
    "duration": 47,
    "start_time": "2025-08-01T21:51:07.880Z"
   },
   {
    "duration": 43,
    "start_time": "2025-08-01T21:52:12.436Z"
   },
   {
    "duration": 47,
    "start_time": "2025-08-01T21:56:50.355Z"
   },
   {
    "duration": 5,
    "start_time": "2025-08-01T21:57:00.860Z"
   },
   {
    "duration": 28,
    "start_time": "2025-08-01T21:57:11.997Z"
   },
   {
    "duration": 5,
    "start_time": "2025-08-01T22:00:43.702Z"
   },
   {
    "duration": 49,
    "start_time": "2025-08-01T22:02:11.491Z"
   },
   {
    "duration": 49,
    "start_time": "2025-08-01T22:02:23.116Z"
   },
   {
    "duration": 6,
    "start_time": "2025-08-01T22:06:34.995Z"
   },
   {
    "duration": 30,
    "start_time": "2025-08-01T22:06:55.972Z"
   },
   {
    "duration": 7,
    "start_time": "2025-08-01T22:08:53.031Z"
   },
   {
    "duration": 6,
    "start_time": "2025-08-01T22:10:04.553Z"
   },
   {
    "duration": 154,
    "start_time": "2025-08-01T22:10:16.941Z"
   },
   {
    "duration": 112,
    "start_time": "2025-08-01T22:10:23.965Z"
   },
   {
    "duration": 11,
    "start_time": "2025-08-01T22:10:29.738Z"
   },
   {
    "duration": 218,
    "start_time": "2025-08-01T22:11:27.904Z"
   },
   {
    "duration": 9,
    "start_time": "2025-08-01T22:11:46.026Z"
   },
   {
    "duration": 9,
    "start_time": "2025-08-01T22:12:11.275Z"
   },
   {
    "duration": 6,
    "start_time": "2025-08-01T22:12:30.468Z"
   },
   {
    "duration": 12,
    "start_time": "2025-08-01T22:12:36.459Z"
   },
   {
    "duration": 6,
    "start_time": "2025-08-01T22:12:48.591Z"
   },
   {
    "duration": 162,
    "start_time": "2025-08-01T22:12:58.942Z"
   },
   {
    "duration": 131,
    "start_time": "2025-08-01T22:13:10.970Z"
   },
   {
    "duration": 10,
    "start_time": "2025-08-01T22:13:30.720Z"
   },
   {
    "duration": 133,
    "start_time": "2025-08-01T22:13:33.581Z"
   },
   {
    "duration": 82,
    "start_time": "2025-08-01T22:13:52.488Z"
   },
   {
    "duration": 129,
    "start_time": "2025-08-01T22:13:57.103Z"
   },
   {
    "duration": 141,
    "start_time": "2025-08-01T22:14:36.261Z"
   },
   {
    "duration": 132,
    "start_time": "2025-08-01T22:14:50.698Z"
   },
   {
    "duration": 146,
    "start_time": "2025-08-01T22:15:08.986Z"
   },
   {
    "duration": 153,
    "start_time": "2025-08-01T22:15:17.481Z"
   },
   {
    "duration": 12,
    "start_time": "2025-08-01T22:20:27.617Z"
   },
   {
    "duration": 32,
    "start_time": "2025-08-01T22:21:26.458Z"
   },
   {
    "duration": 16943,
    "start_time": "2025-08-01T22:24:18.491Z"
   },
   {
    "duration": 1204,
    "start_time": "2025-08-01T22:24:35.437Z"
   },
   {
    "duration": 16,
    "start_time": "2025-08-01T22:24:36.644Z"
   },
   {
    "duration": 9,
    "start_time": "2025-08-01T22:24:36.662Z"
   },
   {
    "duration": 9,
    "start_time": "2025-08-01T22:24:36.673Z"
   },
   {
    "duration": 9,
    "start_time": "2025-08-01T22:24:36.684Z"
   },
   {
    "duration": 10,
    "start_time": "2025-08-01T22:24:36.695Z"
   },
   {
    "duration": 96,
    "start_time": "2025-08-01T22:24:36.706Z"
   },
   {
    "duration": 27,
    "start_time": "2025-08-01T22:24:36.803Z"
   },
   {
    "duration": 79,
    "start_time": "2025-08-01T22:24:36.832Z"
   },
   {
    "duration": 19,
    "start_time": "2025-08-01T22:24:36.913Z"
   },
   {
    "duration": 16,
    "start_time": "2025-08-01T22:24:36.935Z"
   },
   {
    "duration": 2,
    "start_time": "2025-08-01T22:24:36.953Z"
   },
   {
    "duration": 20,
    "start_time": "2025-08-01T22:24:36.960Z"
   },
   {
    "duration": 20,
    "start_time": "2025-08-01T22:24:36.983Z"
   },
   {
    "duration": 4,
    "start_time": "2025-08-01T22:24:37.004Z"
   },
   {
    "duration": 0,
    "start_time": "2025-08-01T22:24:37.011Z"
   },
   {
    "duration": 0,
    "start_time": "2025-08-01T22:24:37.014Z"
   },
   {
    "duration": 0,
    "start_time": "2025-08-01T22:24:37.015Z"
   },
   {
    "duration": 0,
    "start_time": "2025-08-01T22:24:37.016Z"
   },
   {
    "duration": 0,
    "start_time": "2025-08-01T22:24:37.017Z"
   },
   {
    "duration": 0,
    "start_time": "2025-08-01T22:24:37.018Z"
   },
   {
    "duration": 1,
    "start_time": "2025-08-01T22:24:37.019Z"
   },
   {
    "duration": 0,
    "start_time": "2025-08-01T22:24:37.021Z"
   },
   {
    "duration": 0,
    "start_time": "2025-08-01T22:24:37.022Z"
   },
   {
    "duration": 0,
    "start_time": "2025-08-01T22:24:37.024Z"
   },
   {
    "duration": 0,
    "start_time": "2025-08-01T22:24:37.025Z"
   },
   {
    "duration": 0,
    "start_time": "2025-08-01T22:24:37.026Z"
   },
   {
    "duration": 0,
    "start_time": "2025-08-01T22:24:37.061Z"
   },
   {
    "duration": 0,
    "start_time": "2025-08-01T22:24:37.062Z"
   },
   {
    "duration": 0,
    "start_time": "2025-08-01T22:24:37.063Z"
   },
   {
    "duration": 0,
    "start_time": "2025-08-01T22:24:37.064Z"
   },
   {
    "duration": 0,
    "start_time": "2025-08-01T22:24:37.065Z"
   },
   {
    "duration": 0,
    "start_time": "2025-08-01T22:24:37.066Z"
   },
   {
    "duration": 0,
    "start_time": "2025-08-01T22:24:37.067Z"
   },
   {
    "duration": 0,
    "start_time": "2025-08-01T22:24:37.068Z"
   },
   {
    "duration": 0,
    "start_time": "2025-08-01T22:24:37.070Z"
   },
   {
    "duration": 0,
    "start_time": "2025-08-01T22:24:37.071Z"
   },
   {
    "duration": 0,
    "start_time": "2025-08-01T22:24:37.072Z"
   },
   {
    "duration": 0,
    "start_time": "2025-08-01T22:24:37.073Z"
   },
   {
    "duration": 0,
    "start_time": "2025-08-01T22:24:37.074Z"
   },
   {
    "duration": 0,
    "start_time": "2025-08-01T22:24:37.075Z"
   },
   {
    "duration": 0,
    "start_time": "2025-08-01T22:24:37.076Z"
   },
   {
    "duration": 0,
    "start_time": "2025-08-01T22:24:37.077Z"
   },
   {
    "duration": 0,
    "start_time": "2025-08-01T22:24:37.078Z"
   },
   {
    "duration": 0,
    "start_time": "2025-08-01T22:24:37.079Z"
   },
   {
    "duration": 0,
    "start_time": "2025-08-01T22:24:37.080Z"
   },
   {
    "duration": 0,
    "start_time": "2025-08-01T22:24:37.081Z"
   },
   {
    "duration": 0,
    "start_time": "2025-08-01T22:24:37.082Z"
   },
   {
    "duration": 0,
    "start_time": "2025-08-01T22:24:37.084Z"
   },
   {
    "duration": 0,
    "start_time": "2025-08-01T22:24:37.085Z"
   },
   {
    "duration": 0,
    "start_time": "2025-08-01T22:24:37.086Z"
   },
   {
    "duration": 0,
    "start_time": "2025-08-01T22:24:37.087Z"
   },
   {
    "duration": 0,
    "start_time": "2025-08-01T22:24:37.088Z"
   },
   {
    "duration": 0,
    "start_time": "2025-08-01T22:24:37.089Z"
   },
   {
    "duration": 0,
    "start_time": "2025-08-01T22:24:37.090Z"
   },
   {
    "duration": 0,
    "start_time": "2025-08-01T22:24:37.091Z"
   },
   {
    "duration": 0,
    "start_time": "2025-08-01T22:24:37.092Z"
   },
   {
    "duration": 0,
    "start_time": "2025-08-01T22:24:37.094Z"
   },
   {
    "duration": 0,
    "start_time": "2025-08-01T22:24:37.095Z"
   },
   {
    "duration": 0,
    "start_time": "2025-08-01T22:24:37.160Z"
   },
   {
    "duration": 0,
    "start_time": "2025-08-01T22:24:37.162Z"
   },
   {
    "duration": 0,
    "start_time": "2025-08-01T22:24:37.163Z"
   },
   {
    "duration": 0,
    "start_time": "2025-08-01T22:24:37.164Z"
   },
   {
    "duration": 0,
    "start_time": "2025-08-01T22:24:37.165Z"
   },
   {
    "duration": 0,
    "start_time": "2025-08-01T22:24:37.166Z"
   },
   {
    "duration": 0,
    "start_time": "2025-08-01T22:24:37.168Z"
   },
   {
    "duration": 0,
    "start_time": "2025-08-01T22:24:37.169Z"
   },
   {
    "duration": 0,
    "start_time": "2025-08-01T22:24:37.170Z"
   },
   {
    "duration": 0,
    "start_time": "2025-08-01T22:24:37.171Z"
   },
   {
    "duration": 0,
    "start_time": "2025-08-01T22:24:37.172Z"
   },
   {
    "duration": 0,
    "start_time": "2025-08-01T22:24:37.173Z"
   },
   {
    "duration": 0,
    "start_time": "2025-08-01T22:24:37.174Z"
   },
   {
    "duration": 0,
    "start_time": "2025-08-01T22:24:37.175Z"
   },
   {
    "duration": 0,
    "start_time": "2025-08-01T22:24:37.177Z"
   },
   {
    "duration": 0,
    "start_time": "2025-08-01T22:24:37.178Z"
   },
   {
    "duration": 0,
    "start_time": "2025-08-01T22:24:37.179Z"
   },
   {
    "duration": 0,
    "start_time": "2025-08-01T22:24:37.180Z"
   },
   {
    "duration": 1,
    "start_time": "2025-08-01T22:24:37.181Z"
   },
   {
    "duration": 0,
    "start_time": "2025-08-01T22:24:37.183Z"
   },
   {
    "duration": 38,
    "start_time": "2025-08-01T22:24:59.503Z"
   },
   {
    "duration": 35,
    "start_time": "2025-08-01T22:25:03.376Z"
   },
   {
    "duration": 78407,
    "start_time": "2025-08-02T18:25:50.659Z"
   },
   {
    "duration": 1234,
    "start_time": "2025-08-02T18:27:09.069Z"
   },
   {
    "duration": 12,
    "start_time": "2025-08-02T18:27:10.305Z"
   },
   {
    "duration": 20,
    "start_time": "2025-08-02T18:27:10.319Z"
   },
   {
    "duration": 12,
    "start_time": "2025-08-02T18:27:10.343Z"
   },
   {
    "duration": 13,
    "start_time": "2025-08-02T18:27:10.358Z"
   },
   {
    "duration": 12,
    "start_time": "2025-08-02T18:27:10.373Z"
   },
   {
    "duration": 346,
    "start_time": "2025-08-02T18:27:10.386Z"
   },
   {
    "duration": 26,
    "start_time": "2025-08-02T18:27:10.733Z"
   },
   {
    "duration": 125,
    "start_time": "2025-08-02T18:27:10.761Z"
   },
   {
    "duration": 18,
    "start_time": "2025-08-02T18:27:10.887Z"
   },
   {
    "duration": 21,
    "start_time": "2025-08-02T18:27:10.907Z"
   },
   {
    "duration": 3,
    "start_time": "2025-08-02T18:27:10.930Z"
   },
   {
    "duration": 28,
    "start_time": "2025-08-02T18:27:10.936Z"
   },
   {
    "duration": 13,
    "start_time": "2025-08-02T18:27:10.966Z"
   },
   {
    "duration": 37,
    "start_time": "2025-08-02T18:27:10.981Z"
   },
   {
    "duration": 17,
    "start_time": "2025-08-02T18:27:11.020Z"
   },
   {
    "duration": 10,
    "start_time": "2025-08-02T18:27:11.039Z"
   },
   {
    "duration": 4,
    "start_time": "2025-08-02T18:27:11.050Z"
   },
   {
    "duration": 9,
    "start_time": "2025-08-02T18:27:11.055Z"
   },
   {
    "duration": 10,
    "start_time": "2025-08-02T18:27:11.065Z"
   },
   {
    "duration": 7,
    "start_time": "2025-08-02T18:27:11.078Z"
   },
   {
    "duration": 10,
    "start_time": "2025-08-02T18:27:11.086Z"
   },
   {
    "duration": 134,
    "start_time": "2025-08-02T18:27:11.097Z"
   },
   {
    "duration": 240,
    "start_time": "2025-08-02T18:27:11.233Z"
   },
   {
    "duration": 4,
    "start_time": "2025-08-02T18:27:11.475Z"
   },
   {
    "duration": 167,
    "start_time": "2025-08-02T18:27:11.481Z"
   },
   {
    "duration": 5,
    "start_time": "2025-08-02T18:27:11.649Z"
   },
   {
    "duration": 43,
    "start_time": "2025-08-02T18:27:11.656Z"
   },
   {
    "duration": 5,
    "start_time": "2025-08-02T18:27:11.700Z"
   },
   {
    "duration": 57,
    "start_time": "2025-08-02T18:27:11.735Z"
   },
   {
    "duration": 7,
    "start_time": "2025-08-02T18:27:11.794Z"
   },
   {
    "duration": 32,
    "start_time": "2025-08-02T18:27:11.802Z"
   },
   {
    "duration": 4,
    "start_time": "2025-08-02T18:27:11.836Z"
   },
   {
    "duration": 42,
    "start_time": "2025-08-02T18:27:11.842Z"
   },
   {
    "duration": 4,
    "start_time": "2025-08-02T18:27:11.885Z"
   },
   {
    "duration": 69,
    "start_time": "2025-08-02T18:27:11.890Z"
   },
   {
    "duration": 4,
    "start_time": "2025-08-02T18:27:11.960Z"
   },
   {
    "duration": 68,
    "start_time": "2025-08-02T18:27:11.966Z"
   },
   {
    "duration": 5,
    "start_time": "2025-08-02T18:27:12.036Z"
   },
   {
    "duration": 47,
    "start_time": "2025-08-02T18:27:12.045Z"
   },
   {
    "duration": 4,
    "start_time": "2025-08-02T18:27:12.094Z"
   },
   {
    "duration": 79,
    "start_time": "2025-08-02T18:27:12.099Z"
   },
   {
    "duration": 5,
    "start_time": "2025-08-02T18:27:12.180Z"
   },
   {
    "duration": 50,
    "start_time": "2025-08-02T18:27:12.187Z"
   },
   {
    "duration": 5,
    "start_time": "2025-08-02T18:27:12.238Z"
   },
   {
    "duration": 41,
    "start_time": "2025-08-02T18:27:12.244Z"
   },
   {
    "duration": 5,
    "start_time": "2025-08-02T18:27:12.286Z"
   },
   {
    "duration": 62,
    "start_time": "2025-08-02T18:27:12.293Z"
   },
   {
    "duration": 271,
    "start_time": "2025-08-02T18:27:12.357Z"
   },
   {
    "duration": 12,
    "start_time": "2025-08-02T18:27:12.630Z"
   },
   {
    "duration": 355,
    "start_time": "2025-08-02T18:27:12.643Z"
   },
   {
    "duration": 4,
    "start_time": "2025-08-02T18:27:13.000Z"
   },
   {
    "duration": 66,
    "start_time": "2025-08-02T18:27:13.006Z"
   },
   {
    "duration": 4,
    "start_time": "2025-08-02T18:27:13.073Z"
   },
   {
    "duration": 66,
    "start_time": "2025-08-02T18:27:13.079Z"
   },
   {
    "duration": 50,
    "start_time": "2025-08-02T18:27:13.147Z"
   },
   {
    "duration": 48,
    "start_time": "2025-08-02T18:27:13.198Z"
   },
   {
    "duration": 5,
    "start_time": "2025-08-02T18:27:13.248Z"
   },
   {
    "duration": 129,
    "start_time": "2025-08-02T18:27:13.255Z"
   },
   {
    "duration": 4,
    "start_time": "2025-08-02T18:27:13.386Z"
   },
   {
    "duration": 72,
    "start_time": "2025-08-02T18:27:13.392Z"
   },
   {
    "duration": 98,
    "start_time": "2025-08-02T18:27:13.465Z"
   },
   {
    "duration": 35,
    "start_time": "2025-08-02T18:27:13.564Z"
   },
   {
    "duration": 5,
    "start_time": "2025-08-02T18:27:13.601Z"
   },
   {
    "duration": 117,
    "start_time": "2025-08-02T18:27:13.607Z"
   },
   {
    "duration": 16,
    "start_time": "2025-08-02T18:27:13.726Z"
   },
   {
    "duration": 28,
    "start_time": "2025-08-02T18:27:13.743Z"
   },
   {
    "duration": 4,
    "start_time": "2025-08-02T18:27:13.773Z"
   },
   {
    "duration": 64,
    "start_time": "2025-08-02T18:27:13.778Z"
   },
   {
    "duration": 6,
    "start_time": "2025-08-02T18:27:13.844Z"
   },
   {
    "duration": 27,
    "start_time": "2025-08-02T18:27:13.851Z"
   },
   {
    "duration": 6,
    "start_time": "2025-08-02T18:27:13.880Z"
   },
   {
    "duration": 69,
    "start_time": "2025-08-02T18:27:13.887Z"
   },
   {
    "duration": 6,
    "start_time": "2025-08-02T18:27:13.958Z"
   },
   {
    "duration": 27,
    "start_time": "2025-08-02T18:27:13.965Z"
   },
   {
    "duration": 119,
    "start_time": "2025-08-02T18:27:13.994Z"
   },
   {
    "duration": 0,
    "start_time": "2025-08-02T18:27:14.115Z"
   },
   {
    "duration": 0,
    "start_time": "2025-08-02T18:27:14.116Z"
   },
   {
    "duration": 0,
    "start_time": "2025-08-02T18:27:14.117Z"
   },
   {
    "duration": 74,
    "start_time": "2025-08-02T18:39:42.113Z"
   },
   {
    "duration": 99,
    "start_time": "2025-08-02T18:39:51.192Z"
   },
   {
    "duration": 4,
    "start_time": "2025-08-02T18:39:59.366Z"
   },
   {
    "duration": 11,
    "start_time": "2025-08-02T18:40:02.397Z"
   },
   {
    "duration": 4,
    "start_time": "2025-08-02T18:40:22.142Z"
   },
   {
    "duration": 13,
    "start_time": "2025-08-02T18:41:05.082Z"
   },
   {
    "duration": 109,
    "start_time": "2025-08-02T18:42:55.557Z"
   },
   {
    "duration": 18,
    "start_time": "2025-08-02T18:43:02.465Z"
   },
   {
    "duration": 143,
    "start_time": "2025-08-02T18:43:20.139Z"
   },
   {
    "duration": 15,
    "start_time": "2025-08-02T18:43:39.870Z"
   },
   {
    "duration": 126,
    "start_time": "2025-08-02T18:46:01.379Z"
   },
   {
    "duration": 11,
    "start_time": "2025-08-02T18:46:26.098Z"
   },
   {
    "duration": 206,
    "start_time": "2025-08-02T18:46:55.854Z"
   },
   {
    "duration": 1947,
    "start_time": "2025-08-02T18:48:12.119Z"
   },
   {
    "duration": 7,
    "start_time": "2025-08-02T18:53:07.364Z"
   },
   {
    "duration": 2070,
    "start_time": "2025-08-02T18:53:33.025Z"
   },
   {
    "duration": 4,
    "start_time": "2025-08-02T18:59:56.202Z"
   },
   {
    "duration": 4,
    "start_time": "2025-08-02T19:00:31.929Z"
   },
   {
    "duration": 1693,
    "start_time": "2025-08-02T19:01:09.654Z"
   },
   {
    "duration": 5,
    "start_time": "2025-08-02T19:03:45.271Z"
   },
   {
    "duration": 9,
    "start_time": "2025-08-02T19:03:49.143Z"
   },
   {
    "duration": 12,
    "start_time": "2025-08-02T19:04:31.827Z"
   },
   {
    "duration": 7,
    "start_time": "2025-08-02T19:04:34.519Z"
   },
   {
    "duration": 6,
    "start_time": "2025-08-02T19:04:40.538Z"
   },
   {
    "duration": 6,
    "start_time": "2025-08-02T19:04:44.155Z"
   },
   {
    "duration": 1843,
    "start_time": "2025-08-02T19:04:52.407Z"
   },
   {
    "duration": 9,
    "start_time": "2025-08-02T19:05:31.404Z"
   },
   {
    "duration": 9,
    "start_time": "2025-08-02T19:05:55.808Z"
   },
   {
    "duration": 86,
    "start_time": "2025-08-02T19:06:12.388Z"
   },
   {
    "duration": 6,
    "start_time": "2025-08-02T19:06:40.156Z"
   },
   {
    "duration": 89,
    "start_time": "2025-08-02T19:06:47.694Z"
   },
   {
    "duration": 28,
    "start_time": "2025-08-02T19:23:36.695Z"
   },
   {
    "duration": 71,
    "start_time": "2025-08-02T19:24:03.069Z"
   },
   {
    "duration": 11,
    "start_time": "2025-08-02T19:31:23.398Z"
   },
   {
    "duration": 10,
    "start_time": "2025-08-02T19:31:33.470Z"
   },
   {
    "duration": 137,
    "start_time": "2025-08-02T19:39:26.634Z"
   },
   {
    "duration": 156,
    "start_time": "2025-08-02T19:39:39.936Z"
   },
   {
    "duration": 141,
    "start_time": "2025-08-02T19:39:58.003Z"
   },
   {
    "duration": 165,
    "start_time": "2025-08-02T19:40:07.556Z"
   },
   {
    "duration": 6,
    "start_time": "2025-08-02T19:41:24.550Z"
   },
   {
    "duration": 7,
    "start_time": "2025-08-02T19:42:08.606Z"
   },
   {
    "duration": 7,
    "start_time": "2025-08-02T19:42:18.872Z"
   },
   {
    "duration": 141,
    "start_time": "2025-08-02T19:42:41.668Z"
   },
   {
    "duration": 218,
    "start_time": "2025-08-02T19:42:48.734Z"
   },
   {
    "duration": 133,
    "start_time": "2025-08-02T19:46:55.586Z"
   },
   {
    "duration": 6,
    "start_time": "2025-08-02T19:49:05.431Z"
   },
   {
    "duration": 5,
    "start_time": "2025-08-02T19:49:52.220Z"
   },
   {
    "duration": 5,
    "start_time": "2025-08-02T19:50:21.422Z"
   },
   {
    "duration": 51,
    "start_time": "2025-08-02T19:53:34.199Z"
   },
   {
    "duration": 62,
    "start_time": "2025-08-02T20:13:10.837Z"
   },
   {
    "duration": 53,
    "start_time": "2025-08-02T20:17:55.906Z"
   },
   {
    "duration": 217,
    "start_time": "2025-08-02T20:21:45.828Z"
   },
   {
    "duration": 17,
    "start_time": "2025-08-02T20:26:44.613Z"
   },
   {
    "duration": 4,
    "start_time": "2025-08-02T20:27:04.067Z"
   },
   {
    "duration": 23,
    "start_time": "2025-08-02T20:27:10.367Z"
   },
   {
    "duration": 30,
    "start_time": "2025-08-02T20:27:29.716Z"
   },
   {
    "duration": 17,
    "start_time": "2025-08-02T20:27:58.242Z"
   },
   {
    "duration": 12,
    "start_time": "2025-08-02T20:28:25.887Z"
   },
   {
    "duration": 10,
    "start_time": "2025-08-02T20:28:31.626Z"
   },
   {
    "duration": 4,
    "start_time": "2025-08-02T20:29:37.821Z"
   },
   {
    "duration": 11,
    "start_time": "2025-08-02T20:30:08.470Z"
   },
   {
    "duration": 78,
    "start_time": "2025-08-02T20:30:52.632Z"
   },
   {
    "duration": 16412,
    "start_time": "2025-08-02T20:30:57.868Z"
   },
   {
    "duration": 16259,
    "start_time": "2025-08-02T20:31:21.864Z"
   },
   {
    "duration": 5,
    "start_time": "2025-08-02T20:34:42.891Z"
   },
   {
    "duration": 13,
    "start_time": "2025-08-02T20:35:02.909Z"
   },
   {
    "duration": 33,
    "start_time": "2025-08-02T20:35:12.141Z"
   },
   {
    "duration": 5,
    "start_time": "2025-08-02T20:35:25.636Z"
   },
   {
    "duration": 1245,
    "start_time": "2025-08-02T20:35:33.836Z"
   },
   {
    "duration": 1246,
    "start_time": "2025-08-02T20:36:29.658Z"
   },
   {
    "duration": 8,
    "start_time": "2025-08-02T20:38:24.926Z"
   },
   {
    "duration": 1262,
    "start_time": "2025-08-02T20:38:29.591Z"
   },
   {
    "duration": 27,
    "start_time": "2025-08-02T20:39:23.004Z"
   },
   {
    "duration": 76,
    "start_time": "2025-08-02T20:41:58.288Z"
   },
   {
    "duration": 3,
    "start_time": "2025-08-02T20:42:09.644Z"
   },
   {
    "duration": 29,
    "start_time": "2025-08-02T20:42:17.021Z"
   },
   {
    "duration": 5,
    "start_time": "2025-08-02T20:42:52.059Z"
   },
   {
    "duration": 1276,
    "start_time": "2025-08-02T20:42:58.195Z"
   },
   {
    "duration": 8,
    "start_time": "2025-08-02T20:51:49.949Z"
   },
   {
    "duration": 1341,
    "start_time": "2025-08-02T20:54:41.840Z"
   },
   {
    "duration": 1425,
    "start_time": "2025-08-02T20:54:49.029Z"
   },
   {
    "duration": 1278,
    "start_time": "2025-08-02T20:55:05.008Z"
   },
   {
    "duration": 9,
    "start_time": "2025-08-02T20:55:38.424Z"
   },
   {
    "duration": 1296,
    "start_time": "2025-08-02T20:56:11.897Z"
   },
   {
    "duration": 15,
    "start_time": "2025-08-02T20:56:45.183Z"
   },
   {
    "duration": 6,
    "start_time": "2025-08-02T20:59:47.713Z"
   },
   {
    "duration": 28,
    "start_time": "2025-08-02T21:00:34.870Z"
   },
   {
    "duration": 12,
    "start_time": "2025-08-02T21:00:42.939Z"
   },
   {
    "duration": 1413,
    "start_time": "2025-08-02T21:00:46.049Z"
   },
   {
    "duration": 1516,
    "start_time": "2025-08-02T21:01:00.951Z"
   },
   {
    "duration": 1327,
    "start_time": "2025-08-02T21:01:09.297Z"
   },
   {
    "duration": 1427,
    "start_time": "2025-08-02T21:01:21.193Z"
   },
   {
    "duration": 1358,
    "start_time": "2025-08-02T21:01:37.273Z"
   },
   {
    "duration": 2800,
    "start_time": "2025-08-02T21:01:51.566Z"
   },
   {
    "duration": 2909,
    "start_time": "2025-08-02T21:02:04.683Z"
   },
   {
    "duration": 1459,
    "start_time": "2025-08-02T21:02:12.201Z"
   },
   {
    "duration": 11,
    "start_time": "2025-08-02T21:03:15.918Z"
   },
   {
    "duration": 1449,
    "start_time": "2025-08-02T21:03:18.331Z"
   },
   {
    "duration": 60520,
    "start_time": "2025-08-03T09:21:26.457Z"
   },
   {
    "duration": 1258,
    "start_time": "2025-08-03T09:22:26.980Z"
   },
   {
    "duration": 10,
    "start_time": "2025-08-03T09:22:28.240Z"
   },
   {
    "duration": 56,
    "start_time": "2025-08-03T09:22:28.253Z"
   },
   {
    "duration": 9,
    "start_time": "2025-08-03T09:22:28.310Z"
   },
   {
    "duration": 10,
    "start_time": "2025-08-03T09:22:28.320Z"
   },
   {
    "duration": 25,
    "start_time": "2025-08-03T09:22:28.332Z"
   },
   {
    "duration": 12,
    "start_time": "2025-08-03T09:22:28.358Z"
   },
   {
    "duration": 110,
    "start_time": "2025-08-03T09:22:28.371Z"
   },
   {
    "duration": 27,
    "start_time": "2025-08-03T09:22:28.484Z"
   },
   {
    "duration": 18,
    "start_time": "2025-08-03T09:22:28.512Z"
   },
   {
    "duration": 173,
    "start_time": "2025-08-03T09:22:28.531Z"
   },
   {
    "duration": 17,
    "start_time": "2025-08-03T09:22:28.706Z"
   },
   {
    "duration": 4,
    "start_time": "2025-08-03T09:22:28.724Z"
   },
   {
    "duration": 19,
    "start_time": "2025-08-03T09:22:28.729Z"
   },
   {
    "duration": 15,
    "start_time": "2025-08-03T09:22:28.750Z"
   },
   {
    "duration": 34,
    "start_time": "2025-08-03T09:22:28.766Z"
   },
   {
    "duration": 4,
    "start_time": "2025-08-03T09:22:28.802Z"
   },
   {
    "duration": 11,
    "start_time": "2025-08-03T09:22:28.807Z"
   },
   {
    "duration": 4,
    "start_time": "2025-08-03T09:22:28.835Z"
   },
   {
    "duration": 11,
    "start_time": "2025-08-03T09:22:28.841Z"
   },
   {
    "duration": 9,
    "start_time": "2025-08-03T09:22:28.854Z"
   },
   {
    "duration": 17,
    "start_time": "2025-08-03T09:22:28.865Z"
   },
   {
    "duration": 13,
    "start_time": "2025-08-03T09:22:28.883Z"
   },
   {
    "duration": 14,
    "start_time": "2025-08-03T09:22:28.898Z"
   },
   {
    "duration": 196,
    "start_time": "2025-08-03T09:22:28.914Z"
   },
   {
    "duration": 4,
    "start_time": "2025-08-03T09:22:29.112Z"
   },
   {
    "duration": 135,
    "start_time": "2025-08-03T09:22:29.121Z"
   },
   {
    "duration": 4,
    "start_time": "2025-08-03T09:22:29.257Z"
   },
   {
    "duration": 101,
    "start_time": "2025-08-03T09:22:29.263Z"
   },
   {
    "duration": 4,
    "start_time": "2025-08-03T09:22:29.366Z"
   },
   {
    "duration": 75,
    "start_time": "2025-08-03T09:22:29.371Z"
   },
   {
    "duration": 77,
    "start_time": "2025-08-03T09:22:29.447Z"
   },
   {
    "duration": 27,
    "start_time": "2025-08-03T09:22:29.525Z"
   },
   {
    "duration": 4,
    "start_time": "2025-08-03T09:22:29.554Z"
   },
   {
    "duration": 45,
    "start_time": "2025-08-03T09:22:29.560Z"
   },
   {
    "duration": 219,
    "start_time": "2025-08-03T09:22:29.606Z"
   },
   {
    "duration": 42,
    "start_time": "2025-08-03T09:22:29.827Z"
   },
   {
    "duration": 4,
    "start_time": "2025-08-03T09:22:29.871Z"
   },
   {
    "duration": 61,
    "start_time": "2025-08-03T09:22:29.876Z"
   },
   {
    "duration": 4,
    "start_time": "2025-08-03T09:22:29.938Z"
   },
   {
    "duration": 45,
    "start_time": "2025-08-03T09:22:29.944Z"
   },
   {
    "duration": 4,
    "start_time": "2025-08-03T09:22:29.991Z"
   },
   {
    "duration": 64,
    "start_time": "2025-08-03T09:22:29.996Z"
   },
   {
    "duration": 17,
    "start_time": "2025-08-03T09:22:30.061Z"
   },
   {
    "duration": 86,
    "start_time": "2025-08-03T09:22:30.080Z"
   },
   {
    "duration": 12,
    "start_time": "2025-08-03T09:22:30.168Z"
   },
   {
    "duration": 57,
    "start_time": "2025-08-03T09:22:30.182Z"
   },
   {
    "duration": 66,
    "start_time": "2025-08-03T09:22:30.241Z"
   },
   {
    "duration": 76,
    "start_time": "2025-08-03T09:22:30.309Z"
   },
   {
    "duration": 294,
    "start_time": "2025-08-03T09:22:30.387Z"
   },
   {
    "duration": 8,
    "start_time": "2025-08-03T09:22:30.683Z"
   },
   {
    "duration": 376,
    "start_time": "2025-08-03T09:22:30.693Z"
   },
   {
    "duration": 5,
    "start_time": "2025-08-03T09:22:31.071Z"
   },
   {
    "duration": 84,
    "start_time": "2025-08-03T09:22:31.077Z"
   },
   {
    "duration": 5,
    "start_time": "2025-08-03T09:22:31.162Z"
   },
   {
    "duration": 38,
    "start_time": "2025-08-03T09:22:31.169Z"
   },
   {
    "duration": 4,
    "start_time": "2025-08-03T09:22:31.209Z"
   },
   {
    "duration": 58,
    "start_time": "2025-08-03T09:22:31.235Z"
   },
   {
    "duration": 5,
    "start_time": "2025-08-03T09:22:31.295Z"
   },
   {
    "duration": 56,
    "start_time": "2025-08-03T09:22:31.301Z"
   },
   {
    "duration": 9,
    "start_time": "2025-08-03T09:22:31.359Z"
   },
   {
    "duration": 69,
    "start_time": "2025-08-03T09:22:31.369Z"
   },
   {
    "duration": 127,
    "start_time": "2025-08-03T09:22:31.440Z"
   },
   {
    "duration": 100,
    "start_time": "2025-08-03T09:22:31.569Z"
   },
   {
    "duration": 182,
    "start_time": "2025-08-03T09:22:31.671Z"
   },
   {
    "duration": 75,
    "start_time": "2025-08-03T09:22:31.855Z"
   },
   {
    "duration": 21,
    "start_time": "2025-08-03T09:22:31.932Z"
   },
   {
    "duration": 40,
    "start_time": "2025-08-03T09:22:31.955Z"
   },
   {
    "duration": 8,
    "start_time": "2025-08-03T09:22:31.997Z"
   },
   {
    "duration": 70,
    "start_time": "2025-08-03T09:22:32.007Z"
   },
   {
    "duration": 5,
    "start_time": "2025-08-03T09:22:32.078Z"
   },
   {
    "duration": 66,
    "start_time": "2025-08-03T09:22:32.085Z"
   },
   {
    "duration": 5,
    "start_time": "2025-08-03T09:22:32.152Z"
   },
   {
    "duration": 53,
    "start_time": "2025-08-03T09:22:32.158Z"
   },
   {
    "duration": 5,
    "start_time": "2025-08-03T09:22:32.212Z"
   },
   {
    "duration": 53,
    "start_time": "2025-08-03T09:22:32.233Z"
   },
   {
    "duration": 11,
    "start_time": "2025-08-03T09:22:32.291Z"
   },
   {
    "duration": 5,
    "start_time": "2025-08-03T09:22:32.304Z"
   },
   {
    "duration": 83,
    "start_time": "2025-08-03T09:22:32.310Z"
   },
   {
    "duration": 47,
    "start_time": "2025-08-03T09:22:32.395Z"
   },
   {
    "duration": 64,
    "start_time": "2025-08-03T09:22:32.447Z"
   },
   {
    "duration": 244,
    "start_time": "2025-08-03T09:22:32.513Z"
   },
   {
    "duration": 5,
    "start_time": "2025-08-03T09:22:32.758Z"
   },
   {
    "duration": 29,
    "start_time": "2025-08-03T09:22:32.765Z"
   },
   {
    "duration": 1369,
    "start_time": "2025-08-03T09:22:32.796Z"
   },
   {
    "duration": 7,
    "start_time": "2025-08-03T09:22:34.167Z"
   },
   {
    "duration": 1325,
    "start_time": "2025-08-03T09:22:34.175Z"
   },
   {
    "duration": 15336,
    "start_time": "2025-08-03T09:26:52.632Z"
   },
   {
    "duration": 1096,
    "start_time": "2025-08-03T09:27:07.971Z"
   },
   {
    "duration": 10,
    "start_time": "2025-08-03T09:27:09.069Z"
   },
   {
    "duration": 7,
    "start_time": "2025-08-03T09:27:09.081Z"
   },
   {
    "duration": 13,
    "start_time": "2025-08-03T09:27:09.090Z"
   },
   {
    "duration": 15,
    "start_time": "2025-08-03T09:27:09.105Z"
   },
   {
    "duration": 21,
    "start_time": "2025-08-03T09:27:09.121Z"
   },
   {
    "duration": 11,
    "start_time": "2025-08-03T09:27:09.144Z"
   },
   {
    "duration": 89,
    "start_time": "2025-08-03T09:27:09.156Z"
   },
   {
    "duration": 25,
    "start_time": "2025-08-03T09:27:09.248Z"
   },
   {
    "duration": 18,
    "start_time": "2025-08-03T09:27:09.274Z"
   },
   {
    "duration": 19,
    "start_time": "2025-08-03T09:27:09.294Z"
   },
   {
    "duration": 31,
    "start_time": "2025-08-03T09:27:09.315Z"
   },
   {
    "duration": 2,
    "start_time": "2025-08-03T09:27:09.347Z"
   },
   {
    "duration": 16,
    "start_time": "2025-08-03T09:27:09.351Z"
   },
   {
    "duration": 13,
    "start_time": "2025-08-03T09:27:09.369Z"
   },
   {
    "duration": 66,
    "start_time": "2025-08-03T09:27:09.384Z"
   },
   {
    "duration": 4,
    "start_time": "2025-08-03T09:27:09.452Z"
   },
   {
    "duration": 97,
    "start_time": "2025-08-03T09:27:09.457Z"
   },
   {
    "duration": 19,
    "start_time": "2025-08-03T09:27:09.555Z"
   },
   {
    "duration": 16,
    "start_time": "2025-08-03T09:27:09.575Z"
   },
   {
    "duration": 8,
    "start_time": "2025-08-03T09:27:09.592Z"
   },
   {
    "duration": 8,
    "start_time": "2025-08-03T09:27:09.602Z"
   },
   {
    "duration": 15,
    "start_time": "2025-08-03T09:27:09.611Z"
   },
   {
    "duration": 119,
    "start_time": "2025-08-03T09:27:09.627Z"
   },
   {
    "duration": 293,
    "start_time": "2025-08-03T09:27:09.748Z"
   },
   {
    "duration": 6,
    "start_time": "2025-08-03T09:27:10.043Z"
   },
   {
    "duration": 90,
    "start_time": "2025-08-03T09:27:10.054Z"
   },
   {
    "duration": 4,
    "start_time": "2025-08-03T09:27:10.146Z"
   },
   {
    "duration": 98,
    "start_time": "2025-08-03T09:27:10.152Z"
   },
   {
    "duration": 4,
    "start_time": "2025-08-03T09:27:10.252Z"
   },
   {
    "duration": 84,
    "start_time": "2025-08-03T09:27:10.257Z"
   },
   {
    "duration": 7,
    "start_time": "2025-08-03T09:27:10.343Z"
   },
   {
    "duration": 6,
    "start_time": "2025-08-03T09:27:10.352Z"
   },
   {
    "duration": 5,
    "start_time": "2025-08-03T09:27:10.360Z"
   },
   {
    "duration": 74,
    "start_time": "2025-08-03T09:27:10.367Z"
   },
   {
    "duration": 5,
    "start_time": "2025-08-03T09:27:10.442Z"
   },
   {
    "duration": 52,
    "start_time": "2025-08-03T09:27:10.448Z"
   },
   {
    "duration": 5,
    "start_time": "2025-08-03T09:27:10.502Z"
   },
   {
    "duration": 66,
    "start_time": "2025-08-03T09:27:10.508Z"
   },
   {
    "duration": 6,
    "start_time": "2025-08-03T09:27:10.575Z"
   },
   {
    "duration": 169,
    "start_time": "2025-08-03T09:27:10.582Z"
   },
   {
    "duration": 4,
    "start_time": "2025-08-03T09:27:10.752Z"
   },
   {
    "duration": 41,
    "start_time": "2025-08-03T09:27:10.758Z"
   },
   {
    "duration": 5,
    "start_time": "2025-08-03T09:27:10.800Z"
   },
   {
    "duration": 50,
    "start_time": "2025-08-03T09:27:10.807Z"
   },
   {
    "duration": 4,
    "start_time": "2025-08-03T09:27:10.858Z"
   },
   {
    "duration": 41,
    "start_time": "2025-08-03T09:27:10.864Z"
   },
   {
    "duration": 28,
    "start_time": "2025-08-03T09:27:10.907Z"
   },
   {
    "duration": 28,
    "start_time": "2025-08-03T09:27:10.936Z"
   },
   {
    "duration": 232,
    "start_time": "2025-08-03T09:27:10.966Z"
   },
   {
    "duration": 9,
    "start_time": "2025-08-03T09:27:11.199Z"
   },
   {
    "duration": 339,
    "start_time": "2025-08-03T09:27:11.235Z"
   },
   {
    "duration": 5,
    "start_time": "2025-08-03T09:27:11.575Z"
   },
   {
    "duration": 73,
    "start_time": "2025-08-03T09:27:11.582Z"
   },
   {
    "duration": 68,
    "start_time": "2025-08-03T09:27:11.657Z"
   },
   {
    "duration": 141,
    "start_time": "2025-08-03T09:27:11.727Z"
   },
   {
    "duration": 5,
    "start_time": "2025-08-03T09:27:11.870Z"
   },
   {
    "duration": 43,
    "start_time": "2025-08-03T09:27:11.876Z"
   },
   {
    "duration": 21,
    "start_time": "2025-08-03T09:27:11.920Z"
   },
   {
    "duration": 27,
    "start_time": "2025-08-03T09:27:11.943Z"
   },
   {
    "duration": 4,
    "start_time": "2025-08-03T09:27:11.972Z"
   },
   {
    "duration": 63,
    "start_time": "2025-08-03T09:27:11.978Z"
   },
   {
    "duration": 15,
    "start_time": "2025-08-03T09:27:12.043Z"
   },
   {
    "duration": 30,
    "start_time": "2025-08-03T09:27:12.059Z"
   },
   {
    "duration": 4,
    "start_time": "2025-08-03T09:27:12.091Z"
   },
   {
    "duration": 70,
    "start_time": "2025-08-03T09:27:12.097Z"
   },
   {
    "duration": 5,
    "start_time": "2025-08-03T09:27:12.168Z"
   },
   {
    "duration": 39,
    "start_time": "2025-08-03T09:27:12.175Z"
   },
   {
    "duration": 4,
    "start_time": "2025-08-03T09:27:12.215Z"
   },
   {
    "duration": 57,
    "start_time": "2025-08-03T09:27:12.221Z"
   },
   {
    "duration": 6,
    "start_time": "2025-08-03T09:27:12.280Z"
   },
   {
    "duration": 51,
    "start_time": "2025-08-03T09:27:12.288Z"
   },
   {
    "duration": 4,
    "start_time": "2025-08-03T09:27:12.341Z"
   },
   {
    "duration": 43,
    "start_time": "2025-08-03T09:27:12.347Z"
   },
   {
    "duration": 4,
    "start_time": "2025-08-03T09:27:12.392Z"
   },
   {
    "duration": 56,
    "start_time": "2025-08-03T09:27:12.398Z"
   },
   {
    "duration": 10,
    "start_time": "2025-08-03T09:27:12.455Z"
   },
   {
    "duration": 68,
    "start_time": "2025-08-03T09:27:12.467Z"
   },
   {
    "duration": 64,
    "start_time": "2025-08-03T09:27:12.538Z"
   },
   {
    "duration": 145,
    "start_time": "2025-08-03T09:27:12.604Z"
   },
   {
    "duration": 51,
    "start_time": "2025-08-03T09:27:12.754Z"
   },
   {
    "duration": 231,
    "start_time": "2025-08-03T09:27:12.806Z"
   },
   {
    "duration": 5,
    "start_time": "2025-08-03T09:27:13.038Z"
   },
   {
    "duration": 7,
    "start_time": "2025-08-03T09:27:13.045Z"
   },
   {
    "duration": 1299,
    "start_time": "2025-08-03T09:27:13.054Z"
   },
   {
    "duration": 7,
    "start_time": "2025-08-03T09:27:14.355Z"
   },
   {
    "duration": 1262,
    "start_time": "2025-08-03T09:27:14.364Z"
   },
   {
    "duration": 1244,
    "start_time": "2025-08-03T09:43:25.124Z"
   },
   {
    "duration": 1263,
    "start_time": "2025-08-03T09:43:37.876Z"
   },
   {
    "duration": 1354,
    "start_time": "2025-08-03T09:46:00.381Z"
   },
   {
    "duration": 4,
    "start_time": "2025-08-03T09:52:00.457Z"
   },
   {
    "duration": 4,
    "start_time": "2025-08-03T09:52:04.949Z"
   },
   {
    "duration": 1345,
    "start_time": "2025-08-03T09:53:09.203Z"
   },
   {
    "duration": 1323,
    "start_time": "2025-08-03T10:16:47.030Z"
   },
   {
    "duration": 7,
    "start_time": "2025-08-03T10:22:05.725Z"
   },
   {
    "duration": 1276,
    "start_time": "2025-08-03T10:26:58.626Z"
   },
   {
    "duration": 36,
    "start_time": "2025-08-03T10:27:32.501Z"
   },
   {
    "duration": 20,
    "start_time": "2025-08-03T10:28:14.767Z"
   },
   {
    "duration": 15,
    "start_time": "2025-08-03T10:28:51.487Z"
   },
   {
    "duration": 111,
    "start_time": "2025-08-03T11:15:06.756Z"
   },
   {
    "duration": 11,
    "start_time": "2025-08-03T11:15:24.793Z"
   },
   {
    "duration": 5,
    "start_time": "2025-08-03T11:16:25.433Z"
   },
   {
    "duration": 18,
    "start_time": "2025-08-03T11:16:33.654Z"
   },
   {
    "duration": 5,
    "start_time": "2025-08-03T11:16:44.296Z"
   },
   {
    "duration": 12,
    "start_time": "2025-08-03T11:18:10.676Z"
   },
   {
    "duration": 18,
    "start_time": "2025-08-03T11:18:30.648Z"
   },
   {
    "duration": 16,
    "start_time": "2025-08-03T11:18:49.121Z"
   },
   {
    "duration": 20,
    "start_time": "2025-08-03T11:19:57.946Z"
   },
   {
    "duration": 12,
    "start_time": "2025-08-03T11:33:27.802Z"
   },
   {
    "duration": 10,
    "start_time": "2025-08-03T11:33:34.915Z"
   },
   {
    "duration": 133,
    "start_time": "2025-08-03T11:36:17.201Z"
   },
   {
    "duration": 31,
    "start_time": "2025-08-03T11:36:25.670Z"
   },
   {
    "duration": 20,
    "start_time": "2025-08-03T11:38:14.928Z"
   },
   {
    "duration": 140,
    "start_time": "2025-08-03T11:46:37.440Z"
   },
   {
    "duration": 26,
    "start_time": "2025-08-03T12:17:04.566Z"
   },
   {
    "duration": 3,
    "start_time": "2025-08-03T12:17:25.942Z"
   },
   {
    "duration": 10,
    "start_time": "2025-08-03T12:19:13.907Z"
   },
   {
    "duration": 5,
    "start_time": "2025-08-03T12:19:36.047Z"
   },
   {
    "duration": 7,
    "start_time": "2025-08-03T12:21:48.369Z"
   },
   {
    "duration": 6,
    "start_time": "2025-08-03T12:22:18.537Z"
   },
   {
    "duration": 6,
    "start_time": "2025-08-03T12:22:26.810Z"
   },
   {
    "duration": 7,
    "start_time": "2025-08-03T12:28:26.825Z"
   },
   {
    "duration": 5,
    "start_time": "2025-08-03T12:29:32.030Z"
   },
   {
    "duration": 11,
    "start_time": "2025-08-03T12:40:59.598Z"
   },
   {
    "duration": 4,
    "start_time": "2025-08-03T12:41:04.094Z"
   },
   {
    "duration": 16,
    "start_time": "2025-08-03T12:41:07.058Z"
   },
   {
    "duration": 34,
    "start_time": "2025-08-03T12:42:54.233Z"
   },
   {
    "duration": 3,
    "start_time": "2025-08-03T12:43:02.579Z"
   },
   {
    "duration": 15,
    "start_time": "2025-08-03T12:52:48.871Z"
   },
   {
    "duration": 5,
    "start_time": "2025-08-03T12:55:29.430Z"
   },
   {
    "duration": 4,
    "start_time": "2025-08-03T12:56:20.045Z"
   },
   {
    "duration": 7,
    "start_time": "2025-08-03T13:11:41.040Z"
   },
   {
    "duration": 14,
    "start_time": "2025-08-03T13:12:04.026Z"
   },
   {
    "duration": 22,
    "start_time": "2025-08-03T13:12:19.908Z"
   },
   {
    "duration": 39,
    "start_time": "2025-08-03T13:12:29.732Z"
   },
   {
    "duration": 5,
    "start_time": "2025-08-03T13:14:11.580Z"
   },
   {
    "duration": 3,
    "start_time": "2025-08-03T13:14:15.693Z"
   },
   {
    "duration": 3,
    "start_time": "2025-08-03T13:14:17.570Z"
   },
   {
    "duration": 28,
    "start_time": "2025-08-03T13:14:24.190Z"
   },
   {
    "duration": 4,
    "start_time": "2025-08-03T13:16:41.433Z"
   },
   {
    "duration": 3,
    "start_time": "2025-08-03T13:16:42.924Z"
   },
   {
    "duration": 3,
    "start_time": "2025-08-03T13:16:44.851Z"
   },
   {
    "duration": 31,
    "start_time": "2025-08-03T13:16:48.419Z"
   },
   {
    "duration": 5,
    "start_time": "2025-08-03T13:17:31.274Z"
   },
   {
    "duration": 3,
    "start_time": "2025-08-03T13:17:40.348Z"
   },
   {
    "duration": 6,
    "start_time": "2025-08-03T13:17:43.908Z"
   },
   {
    "duration": 29,
    "start_time": "2025-08-03T13:18:55.678Z"
   },
   {
    "duration": 28,
    "start_time": "2025-08-03T13:19:15.685Z"
   },
   {
    "duration": 6,
    "start_time": "2025-08-03T13:20:16.028Z"
   },
   {
    "duration": 1223,
    "start_time": "2025-08-03T13:20:24.564Z"
   },
   {
    "duration": 5,
    "start_time": "2025-08-03T13:21:06.182Z"
   },
   {
    "duration": 3,
    "start_time": "2025-08-03T13:21:08.027Z"
   },
   {
    "duration": 16319,
    "start_time": "2025-08-03T13:21:42.969Z"
   },
   {
    "duration": 1405,
    "start_time": "2025-08-03T13:21:59.291Z"
   },
   {
    "duration": 16,
    "start_time": "2025-08-03T13:22:00.698Z"
   },
   {
    "duration": 258,
    "start_time": "2025-08-03T13:22:00.716Z"
   },
   {
    "duration": 13,
    "start_time": "2025-08-03T13:22:00.978Z"
   },
   {
    "duration": 9,
    "start_time": "2025-08-03T13:22:00.993Z"
   },
   {
    "duration": 9,
    "start_time": "2025-08-03T13:22:01.004Z"
   },
   {
    "duration": 39,
    "start_time": "2025-08-03T13:22:01.015Z"
   },
   {
    "duration": 121,
    "start_time": "2025-08-03T13:22:01.055Z"
   },
   {
    "duration": 39,
    "start_time": "2025-08-03T13:22:01.178Z"
   },
   {
    "duration": 50,
    "start_time": "2025-08-03T13:22:01.219Z"
   },
   {
    "duration": 35,
    "start_time": "2025-08-03T13:22:01.271Z"
   },
   {
    "duration": 16,
    "start_time": "2025-08-03T13:22:01.308Z"
   },
   {
    "duration": 24,
    "start_time": "2025-08-03T13:22:01.333Z"
   },
   {
    "duration": 27,
    "start_time": "2025-08-03T13:22:01.359Z"
   },
   {
    "duration": 26,
    "start_time": "2025-08-03T13:22:01.388Z"
   },
   {
    "duration": 174,
    "start_time": "2025-08-03T13:22:01.416Z"
   },
   {
    "duration": 69,
    "start_time": "2025-08-03T13:22:01.592Z"
   },
   {
    "duration": 27,
    "start_time": "2025-08-03T13:22:01.663Z"
   },
   {
    "duration": 7,
    "start_time": "2025-08-03T13:22:01.692Z"
   },
   {
    "duration": 16,
    "start_time": "2025-08-03T13:22:01.701Z"
   },
   {
    "duration": 242,
    "start_time": "2025-08-03T13:22:01.719Z"
   },
   {
    "duration": 30,
    "start_time": "2025-08-03T13:22:01.963Z"
   },
   {
    "duration": 12,
    "start_time": "2025-08-03T13:22:01.994Z"
   },
   {
    "duration": 61,
    "start_time": "2025-08-03T13:22:02.008Z"
   },
   {
    "duration": 191,
    "start_time": "2025-08-03T13:22:02.071Z"
   },
   {
    "duration": 5,
    "start_time": "2025-08-03T13:22:02.263Z"
   },
   {
    "duration": 110,
    "start_time": "2025-08-03T13:22:02.269Z"
   },
   {
    "duration": 57,
    "start_time": "2025-08-03T13:22:02.381Z"
   },
   {
    "duration": 104,
    "start_time": "2025-08-03T13:22:02.440Z"
   },
   {
    "duration": 204,
    "start_time": "2025-08-03T13:22:02.546Z"
   },
   {
    "duration": 158,
    "start_time": "2025-08-03T13:22:02.752Z"
   },
   {
    "duration": 25,
    "start_time": "2025-08-03T13:22:02.912Z"
   },
   {
    "duration": 11,
    "start_time": "2025-08-03T13:22:02.939Z"
   },
   {
    "duration": 33,
    "start_time": "2025-08-03T13:22:02.952Z"
   },
   {
    "duration": 86,
    "start_time": "2025-08-03T13:22:02.986Z"
   },
   {
    "duration": 5,
    "start_time": "2025-08-03T13:22:03.073Z"
   },
   {
    "duration": 71,
    "start_time": "2025-08-03T13:22:03.080Z"
   },
   {
    "duration": 5,
    "start_time": "2025-08-03T13:22:03.152Z"
   },
   {
    "duration": 84,
    "start_time": "2025-08-03T13:22:03.158Z"
   },
   {
    "duration": 14,
    "start_time": "2025-08-03T13:22:03.247Z"
   },
   {
    "duration": 144,
    "start_time": "2025-08-03T13:22:03.262Z"
   },
   {
    "duration": 135,
    "start_time": "2025-08-03T13:22:03.407Z"
   },
   {
    "duration": 160,
    "start_time": "2025-08-03T13:22:03.544Z"
   },
   {
    "duration": 5,
    "start_time": "2025-08-03T13:22:03.705Z"
   },
   {
    "duration": 59,
    "start_time": "2025-08-03T13:22:03.711Z"
   },
   {
    "duration": 108,
    "start_time": "2025-08-03T13:22:03.771Z"
   },
   {
    "duration": 54,
    "start_time": "2025-08-03T13:22:03.881Z"
   },
   {
    "duration": 8,
    "start_time": "2025-08-03T13:22:03.937Z"
   },
   {
    "duration": 55,
    "start_time": "2025-08-03T13:22:03.947Z"
   },
   {
    "duration": 254,
    "start_time": "2025-08-03T13:22:04.004Z"
   },
   {
    "duration": 8,
    "start_time": "2025-08-03T13:22:04.260Z"
   },
   {
    "duration": 400,
    "start_time": "2025-08-03T13:22:04.269Z"
   },
   {
    "duration": 76,
    "start_time": "2025-08-03T13:22:04.671Z"
   },
   {
    "duration": 0,
    "start_time": "2025-08-03T13:22:04.748Z"
   },
   {
    "duration": 0,
    "start_time": "2025-08-03T13:22:04.749Z"
   },
   {
    "duration": 0,
    "start_time": "2025-08-03T13:22:04.750Z"
   },
   {
    "duration": 0,
    "start_time": "2025-08-03T13:22:04.751Z"
   },
   {
    "duration": 0,
    "start_time": "2025-08-03T13:22:04.752Z"
   },
   {
    "duration": 0,
    "start_time": "2025-08-03T13:22:04.753Z"
   },
   {
    "duration": 0,
    "start_time": "2025-08-03T13:22:04.754Z"
   },
   {
    "duration": 0,
    "start_time": "2025-08-03T13:22:04.755Z"
   },
   {
    "duration": 0,
    "start_time": "2025-08-03T13:22:04.756Z"
   },
   {
    "duration": 0,
    "start_time": "2025-08-03T13:22:04.757Z"
   },
   {
    "duration": 0,
    "start_time": "2025-08-03T13:22:04.758Z"
   },
   {
    "duration": 0,
    "start_time": "2025-08-03T13:22:04.759Z"
   },
   {
    "duration": 0,
    "start_time": "2025-08-03T13:22:04.761Z"
   },
   {
    "duration": 0,
    "start_time": "2025-08-03T13:22:04.762Z"
   },
   {
    "duration": 0,
    "start_time": "2025-08-03T13:22:04.763Z"
   },
   {
    "duration": 0,
    "start_time": "2025-08-03T13:22:04.765Z"
   },
   {
    "duration": 0,
    "start_time": "2025-08-03T13:22:04.766Z"
   },
   {
    "duration": 0,
    "start_time": "2025-08-03T13:22:04.768Z"
   },
   {
    "duration": 0,
    "start_time": "2025-08-03T13:22:04.769Z"
   },
   {
    "duration": 0,
    "start_time": "2025-08-03T13:22:04.770Z"
   },
   {
    "duration": 0,
    "start_time": "2025-08-03T13:22:04.772Z"
   },
   {
    "duration": 0,
    "start_time": "2025-08-03T13:22:04.774Z"
   },
   {
    "duration": 0,
    "start_time": "2025-08-03T13:22:04.775Z"
   },
   {
    "duration": 0,
    "start_time": "2025-08-03T13:22:04.779Z"
   },
   {
    "duration": 0,
    "start_time": "2025-08-03T13:22:04.780Z"
   },
   {
    "duration": 0,
    "start_time": "2025-08-03T13:22:04.781Z"
   },
   {
    "duration": 0,
    "start_time": "2025-08-03T13:22:04.783Z"
   },
   {
    "duration": 0,
    "start_time": "2025-08-03T13:22:04.784Z"
   },
   {
    "duration": 0,
    "start_time": "2025-08-03T13:22:04.833Z"
   },
   {
    "duration": 0,
    "start_time": "2025-08-03T13:22:04.835Z"
   },
   {
    "duration": 0,
    "start_time": "2025-08-03T13:22:04.837Z"
   },
   {
    "duration": 0,
    "start_time": "2025-08-03T13:22:04.839Z"
   },
   {
    "duration": 0,
    "start_time": "2025-08-03T13:22:04.841Z"
   },
   {
    "duration": 0,
    "start_time": "2025-08-03T13:22:04.842Z"
   },
   {
    "duration": 0,
    "start_time": "2025-08-03T13:22:04.843Z"
   },
   {
    "duration": 0,
    "start_time": "2025-08-03T13:22:04.845Z"
   },
   {
    "duration": 0,
    "start_time": "2025-08-03T13:22:04.846Z"
   },
   {
    "duration": 0,
    "start_time": "2025-08-03T13:22:04.847Z"
   },
   {
    "duration": 0,
    "start_time": "2025-08-03T13:22:04.848Z"
   },
   {
    "duration": 0,
    "start_time": "2025-08-03T13:22:04.849Z"
   },
   {
    "duration": 0,
    "start_time": "2025-08-03T13:22:04.850Z"
   },
   {
    "duration": 0,
    "start_time": "2025-08-03T13:22:04.851Z"
   },
   {
    "duration": 0,
    "start_time": "2025-08-03T13:22:04.852Z"
   },
   {
    "duration": 0,
    "start_time": "2025-08-03T13:22:04.853Z"
   },
   {
    "duration": 0,
    "start_time": "2025-08-03T13:22:04.854Z"
   },
   {
    "duration": 13,
    "start_time": "2025-08-03T13:22:26.776Z"
   },
   {
    "duration": 12,
    "start_time": "2025-08-03T13:25:23.376Z"
   },
   {
    "duration": 6,
    "start_time": "2025-08-03T13:25:40.637Z"
   },
   {
    "duration": 5,
    "start_time": "2025-08-03T13:25:48.676Z"
   },
   {
    "duration": 14,
    "start_time": "2025-08-03T13:26:39.319Z"
   },
   {
    "duration": 6,
    "start_time": "2025-08-03T13:26:50.680Z"
   },
   {
    "duration": 5,
    "start_time": "2025-08-03T13:27:00.129Z"
   },
   {
    "duration": 6,
    "start_time": "2025-08-03T13:27:03.130Z"
   },
   {
    "duration": 25,
    "start_time": "2025-08-03T13:27:10.807Z"
   },
   {
    "duration": 11,
    "start_time": "2025-08-03T13:27:45.184Z"
   },
   {
    "duration": 8,
    "start_time": "2025-08-03T13:29:47.652Z"
   },
   {
    "duration": 8,
    "start_time": "2025-08-03T13:29:51.713Z"
   },
   {
    "duration": 8,
    "start_time": "2025-08-03T13:30:20.954Z"
   },
   {
    "duration": 6,
    "start_time": "2025-08-03T13:30:26.521Z"
   },
   {
    "duration": 6,
    "start_time": "2025-08-03T13:30:31.002Z"
   },
   {
    "duration": 7,
    "start_time": "2025-08-03T13:30:36.550Z"
   },
   {
    "duration": 1607,
    "start_time": "2025-08-03T13:35:25.764Z"
   },
   {
    "duration": 1859,
    "start_time": "2025-08-03T13:35:44.258Z"
   },
   {
    "duration": 8,
    "start_time": "2025-08-03T13:35:54.159Z"
   },
   {
    "duration": 7,
    "start_time": "2025-08-03T13:36:01.908Z"
   },
   {
    "duration": 6,
    "start_time": "2025-08-03T13:36:19.480Z"
   },
   {
    "duration": 6,
    "start_time": "2025-08-03T13:36:35.018Z"
   },
   {
    "duration": 1358,
    "start_time": "2025-08-03T13:37:28.655Z"
   },
   {
    "duration": 7,
    "start_time": "2025-08-03T13:37:40.835Z"
   },
   {
    "duration": 6,
    "start_time": "2025-08-03T13:37:45.336Z"
   },
   {
    "duration": 6,
    "start_time": "2025-08-03T13:38:59.711Z"
   },
   {
    "duration": 7,
    "start_time": "2025-08-03T13:39:24.304Z"
   },
   {
    "duration": 1375,
    "start_time": "2025-08-03T13:39:52.422Z"
   },
   {
    "duration": 19,
    "start_time": "2025-08-03T13:40:15.990Z"
   },
   {
    "duration": 10,
    "start_time": "2025-08-03T13:40:30.171Z"
   },
   {
    "duration": 6,
    "start_time": "2025-08-03T13:40:46.226Z"
   },
   {
    "duration": 3,
    "start_time": "2025-08-03T13:44:01.236Z"
   },
   {
    "duration": 99,
    "start_time": "2025-08-03T13:44:03.579Z"
   },
   {
    "duration": 9,
    "start_time": "2025-08-03T13:44:25.548Z"
   },
   {
    "duration": 16213,
    "start_time": "2025-08-03T13:45:40.412Z"
   },
   {
    "duration": 1425,
    "start_time": "2025-08-03T13:45:56.629Z"
   },
   {
    "duration": 10,
    "start_time": "2025-08-03T13:45:58.056Z"
   },
   {
    "duration": 9,
    "start_time": "2025-08-03T13:45:58.068Z"
   },
   {
    "duration": 11,
    "start_time": "2025-08-03T13:45:58.078Z"
   },
   {
    "duration": 8,
    "start_time": "2025-08-03T13:45:58.090Z"
   },
   {
    "duration": 10,
    "start_time": "2025-08-03T13:45:58.100Z"
   },
   {
    "duration": 8,
    "start_time": "2025-08-03T13:45:58.134Z"
   },
   {
    "duration": 98,
    "start_time": "2025-08-03T13:45:58.143Z"
   },
   {
    "duration": 28,
    "start_time": "2025-08-03T13:45:58.245Z"
   },
   {
    "duration": 24,
    "start_time": "2025-08-03T13:45:58.275Z"
   },
   {
    "duration": 42,
    "start_time": "2025-08-03T13:45:58.301Z"
   },
   {
    "duration": 31,
    "start_time": "2025-08-03T13:45:58.345Z"
   },
   {
    "duration": 3,
    "start_time": "2025-08-03T13:45:58.378Z"
   },
   {
    "duration": 22,
    "start_time": "2025-08-03T13:45:58.383Z"
   },
   {
    "duration": 30,
    "start_time": "2025-08-03T13:45:58.408Z"
   },
   {
    "duration": 38,
    "start_time": "2025-08-03T13:45:58.440Z"
   },
   {
    "duration": 4,
    "start_time": "2025-08-03T13:45:58.480Z"
   },
   {
    "duration": 12,
    "start_time": "2025-08-03T13:45:58.485Z"
   },
   {
    "duration": 4,
    "start_time": "2025-08-03T13:45:58.499Z"
   },
   {
    "duration": 43,
    "start_time": "2025-08-03T13:45:58.504Z"
   },
   {
    "duration": 17,
    "start_time": "2025-08-03T13:45:58.549Z"
   },
   {
    "duration": 20,
    "start_time": "2025-08-03T13:45:58.568Z"
   },
   {
    "duration": 12,
    "start_time": "2025-08-03T13:45:58.590Z"
   },
   {
    "duration": 9,
    "start_time": "2025-08-03T13:45:58.604Z"
   },
   {
    "duration": 176,
    "start_time": "2025-08-03T13:45:58.614Z"
   },
   {
    "duration": 5,
    "start_time": "2025-08-03T13:45:58.792Z"
   },
   {
    "duration": 141,
    "start_time": "2025-08-03T13:45:58.802Z"
   },
   {
    "duration": 5,
    "start_time": "2025-08-03T13:45:58.945Z"
   },
   {
    "duration": 92,
    "start_time": "2025-08-03T13:45:58.951Z"
   },
   {
    "duration": 6,
    "start_time": "2025-08-03T13:45:59.044Z"
   },
   {
    "duration": 154,
    "start_time": "2025-08-03T13:45:59.051Z"
   },
   {
    "duration": 8,
    "start_time": "2025-08-03T13:45:59.207Z"
   },
   {
    "duration": 41,
    "start_time": "2025-08-03T13:45:59.216Z"
   },
   {
    "duration": 4,
    "start_time": "2025-08-03T13:45:59.259Z"
   },
   {
    "duration": 50,
    "start_time": "2025-08-03T13:45:59.265Z"
   },
   {
    "duration": 5,
    "start_time": "2025-08-03T13:45:59.316Z"
   },
   {
    "duration": 52,
    "start_time": "2025-08-03T13:45:59.322Z"
   },
   {
    "duration": 5,
    "start_time": "2025-08-03T13:45:59.376Z"
   },
   {
    "duration": 72,
    "start_time": "2025-08-03T13:45:59.383Z"
   },
   {
    "duration": 6,
    "start_time": "2025-08-03T13:45:59.457Z"
   },
   {
    "duration": 43,
    "start_time": "2025-08-03T13:45:59.465Z"
   },
   {
    "duration": 5,
    "start_time": "2025-08-03T13:45:59.534Z"
   },
   {
    "duration": 112,
    "start_time": "2025-08-03T13:45:59.540Z"
   },
   {
    "duration": 4,
    "start_time": "2025-08-03T13:45:59.654Z"
   },
   {
    "duration": 118,
    "start_time": "2025-08-03T13:45:59.660Z"
   },
   {
    "duration": 4,
    "start_time": "2025-08-03T13:45:59.780Z"
   },
   {
    "duration": 48,
    "start_time": "2025-08-03T13:45:59.786Z"
   },
   {
    "duration": 4,
    "start_time": "2025-08-03T13:45:59.836Z"
   },
   {
    "duration": 27,
    "start_time": "2025-08-03T13:45:59.842Z"
   },
   {
    "duration": 288,
    "start_time": "2025-08-03T13:45:59.871Z"
   },
   {
    "duration": 8,
    "start_time": "2025-08-03T13:46:00.161Z"
   },
   {
    "duration": 399,
    "start_time": "2025-08-03T13:46:00.170Z"
   },
   {
    "duration": 6,
    "start_time": "2025-08-03T13:46:00.571Z"
   },
   {
    "duration": 73,
    "start_time": "2025-08-03T13:46:00.580Z"
   },
   {
    "duration": 131,
    "start_time": "2025-08-03T13:46:00.655Z"
   },
   {
    "duration": 110,
    "start_time": "2025-08-03T13:46:00.787Z"
   },
   {
    "duration": 5,
    "start_time": "2025-08-03T13:46:00.899Z"
   },
   {
    "duration": 56,
    "start_time": "2025-08-03T13:46:00.905Z"
   },
   {
    "duration": 20,
    "start_time": "2025-08-03T13:46:00.963Z"
   },
   {
    "duration": 56,
    "start_time": "2025-08-03T13:46:00.985Z"
   },
   {
    "duration": 18,
    "start_time": "2025-08-03T13:46:01.043Z"
   },
   {
    "duration": 40,
    "start_time": "2025-08-03T13:46:01.063Z"
   },
   {
    "duration": 5,
    "start_time": "2025-08-03T13:46:01.105Z"
   },
   {
    "duration": 80,
    "start_time": "2025-08-03T13:46:01.112Z"
   },
   {
    "duration": 5,
    "start_time": "2025-08-03T13:46:01.194Z"
   },
   {
    "duration": 66,
    "start_time": "2025-08-03T13:46:01.200Z"
   },
   {
    "duration": 4,
    "start_time": "2025-08-03T13:46:01.268Z"
   },
   {
    "duration": 60,
    "start_time": "2025-08-03T13:46:01.273Z"
   },
   {
    "duration": 23,
    "start_time": "2025-08-03T13:46:01.335Z"
   },
   {
    "duration": 55,
    "start_time": "2025-08-03T13:46:01.360Z"
   },
   {
    "duration": 20,
    "start_time": "2025-08-03T13:46:01.417Z"
   },
   {
    "duration": 70,
    "start_time": "2025-08-03T13:46:01.439Z"
   },
   {
    "duration": 6,
    "start_time": "2025-08-03T13:46:01.511Z"
   },
   {
    "duration": 145,
    "start_time": "2025-08-03T13:46:01.519Z"
   },
   {
    "duration": 119,
    "start_time": "2025-08-03T13:46:01.666Z"
   },
   {
    "duration": 45,
    "start_time": "2025-08-03T13:46:01.787Z"
   },
   {
    "duration": 5,
    "start_time": "2025-08-03T13:46:01.834Z"
   },
   {
    "duration": 71,
    "start_time": "2025-08-03T13:46:01.840Z"
   },
   {
    "duration": 111,
    "start_time": "2025-08-03T13:46:01.912Z"
   },
   {
    "duration": 20,
    "start_time": "2025-08-03T13:46:02.025Z"
   },
   {
    "duration": 55,
    "start_time": "2025-08-03T13:46:02.052Z"
   },
   {
    "duration": 59,
    "start_time": "2025-08-03T13:46:02.110Z"
   },
   {
    "duration": 77,
    "start_time": "2025-08-03T13:46:02.171Z"
   },
   {
    "duration": 233,
    "start_time": "2025-08-03T13:46:02.250Z"
   },
   {
    "duration": 6,
    "start_time": "2025-08-03T13:46:02.486Z"
   },
   {
    "duration": 40,
    "start_time": "2025-08-03T13:46:02.495Z"
   },
   {
    "duration": 1382,
    "start_time": "2025-08-03T13:46:02.539Z"
   },
   {
    "duration": 1322,
    "start_time": "2025-08-03T13:46:03.923Z"
   },
   {
    "duration": 15,
    "start_time": "2025-08-03T13:46:05.246Z"
   },
   {
    "duration": 22,
    "start_time": "2025-08-03T13:46:05.263Z"
   },
   {
    "duration": 79,
    "start_time": "2025-08-03T13:46:05.286Z"
   },
   {
    "duration": 26,
    "start_time": "2025-08-03T13:46:05.367Z"
   },
   {
    "duration": 6,
    "start_time": "2025-08-03T13:46:05.394Z"
   },
   {
    "duration": 47,
    "start_time": "2025-08-03T13:46:05.401Z"
   },
   {
    "duration": 10,
    "start_time": "2025-08-03T13:46:05.450Z"
   },
   {
    "duration": 29,
    "start_time": "2025-08-03T13:46:05.462Z"
   },
   {
    "duration": 81,
    "start_time": "2025-08-03T13:46:05.493Z"
   },
   {
    "duration": 8533,
    "start_time": "2025-08-03T13:46:05.575Z"
   },
   {
    "duration": 151,
    "start_time": "2025-08-03T13:46:14.110Z"
   },
   {
    "duration": 5,
    "start_time": "2025-08-03T13:46:57.738Z"
   },
   {
    "duration": 8210,
    "start_time": "2025-08-03T13:47:01.451Z"
   },
   {
    "duration": 134,
    "start_time": "2025-08-03T14:37:44.248Z"
   },
   {
    "duration": 5,
    "start_time": "2025-08-03T14:38:27.048Z"
   },
   {
    "duration": 22989,
    "start_time": "2025-08-03T14:38:37.966Z"
   },
   {
    "duration": 3,
    "start_time": "2025-08-03T14:42:47.655Z"
   },
   {
    "duration": 3,
    "start_time": "2025-08-03T14:46:07.273Z"
   },
   {
    "duration": 3,
    "start_time": "2025-08-03T14:46:51.096Z"
   },
   {
    "duration": 7249,
    "start_time": "2025-08-03T14:46:54.510Z"
   },
   {
    "duration": 8020,
    "start_time": "2025-08-03T14:47:29.046Z"
   },
   {
    "duration": 2,
    "start_time": "2025-08-03T14:52:18.472Z"
   },
   {
    "duration": 16254,
    "start_time": "2025-08-03T15:28:43.296Z"
   },
   {
    "duration": 2123,
    "start_time": "2025-08-03T15:28:59.553Z"
   },
   {
    "duration": 10,
    "start_time": "2025-08-03T15:29:01.678Z"
   },
   {
    "duration": 14,
    "start_time": "2025-08-03T15:29:01.690Z"
   },
   {
    "duration": 73,
    "start_time": "2025-08-03T15:29:01.706Z"
   },
   {
    "duration": 25,
    "start_time": "2025-08-03T15:29:01.781Z"
   },
   {
    "duration": 48,
    "start_time": "2025-08-03T15:29:01.808Z"
   },
   {
    "duration": 96,
    "start_time": "2025-08-03T15:29:01.858Z"
   },
   {
    "duration": 126,
    "start_time": "2025-08-03T15:29:01.956Z"
   },
   {
    "duration": 35,
    "start_time": "2025-08-03T15:29:02.084Z"
   },
   {
    "duration": 70,
    "start_time": "2025-08-03T15:29:02.121Z"
   },
   {
    "duration": 73,
    "start_time": "2025-08-03T15:29:02.193Z"
   },
   {
    "duration": 21,
    "start_time": "2025-08-03T15:29:02.269Z"
   },
   {
    "duration": 9,
    "start_time": "2025-08-03T15:29:02.293Z"
   },
   {
    "duration": 63,
    "start_time": "2025-08-03T15:29:02.303Z"
   },
   {
    "duration": 15,
    "start_time": "2025-08-03T15:29:02.371Z"
   },
   {
    "duration": 92,
    "start_time": "2025-08-03T15:29:02.388Z"
   },
   {
    "duration": 41,
    "start_time": "2025-08-03T15:29:02.482Z"
   },
   {
    "duration": 146,
    "start_time": "2025-08-03T15:29:02.525Z"
   },
   {
    "duration": 7,
    "start_time": "2025-08-03T15:29:02.672Z"
   },
   {
    "duration": 10,
    "start_time": "2025-08-03T15:29:02.681Z"
   },
   {
    "duration": 6,
    "start_time": "2025-08-03T15:29:02.693Z"
   },
   {
    "duration": 8,
    "start_time": "2025-08-03T15:29:02.700Z"
   },
   {
    "duration": 54,
    "start_time": "2025-08-03T15:29:02.710Z"
   },
   {
    "duration": 11,
    "start_time": "2025-08-03T15:29:02.765Z"
   },
   {
    "duration": 517,
    "start_time": "2025-08-03T15:29:02.777Z"
   },
   {
    "duration": 5,
    "start_time": "2025-08-03T15:29:03.296Z"
   },
   {
    "duration": 284,
    "start_time": "2025-08-03T15:29:03.303Z"
   },
   {
    "duration": 5,
    "start_time": "2025-08-03T15:29:03.588Z"
   },
   {
    "duration": 60,
    "start_time": "2025-08-03T15:29:03.594Z"
   },
   {
    "duration": 5,
    "start_time": "2025-08-03T15:29:03.656Z"
   },
   {
    "duration": 76,
    "start_time": "2025-08-03T15:29:03.662Z"
   },
   {
    "duration": 12,
    "start_time": "2025-08-03T15:29:03.740Z"
   },
   {
    "duration": 14,
    "start_time": "2025-08-03T15:29:03.754Z"
   },
   {
    "duration": 29,
    "start_time": "2025-08-03T15:29:03.770Z"
   },
   {
    "duration": 92,
    "start_time": "2025-08-03T15:29:03.801Z"
   },
   {
    "duration": 4,
    "start_time": "2025-08-03T15:29:03.895Z"
   },
   {
    "duration": 114,
    "start_time": "2025-08-03T15:29:03.901Z"
   },
   {
    "duration": 4,
    "start_time": "2025-08-03T15:29:04.017Z"
   },
   {
    "duration": 53,
    "start_time": "2025-08-03T15:29:04.023Z"
   },
   {
    "duration": 4,
    "start_time": "2025-08-03T15:29:04.081Z"
   },
   {
    "duration": 124,
    "start_time": "2025-08-03T15:29:04.087Z"
   },
   {
    "duration": 4,
    "start_time": "2025-08-03T15:29:04.213Z"
   },
   {
    "duration": 54,
    "start_time": "2025-08-03T15:29:04.218Z"
   },
   {
    "duration": 5,
    "start_time": "2025-08-03T15:29:04.273Z"
   },
   {
    "duration": 29,
    "start_time": "2025-08-03T15:29:04.279Z"
   },
   {
    "duration": 5,
    "start_time": "2025-08-03T15:29:04.310Z"
   },
   {
    "duration": 43,
    "start_time": "2025-08-03T15:29:04.335Z"
   },
   {
    "duration": 5,
    "start_time": "2025-08-03T15:29:04.379Z"
   },
   {
    "duration": 52,
    "start_time": "2025-08-03T15:29:04.386Z"
   },
   {
    "duration": 251,
    "start_time": "2025-08-03T15:29:04.440Z"
   },
   {
    "duration": 8,
    "start_time": "2025-08-03T15:29:04.692Z"
   },
   {
    "duration": 364,
    "start_time": "2025-08-03T15:29:04.702Z"
   },
   {
    "duration": 7,
    "start_time": "2025-08-03T15:29:05.067Z"
   },
   {
    "duration": 85,
    "start_time": "2025-08-03T15:29:05.075Z"
   },
   {
    "duration": 9,
    "start_time": "2025-08-03T15:29:05.161Z"
   },
   {
    "duration": 91,
    "start_time": "2025-08-03T15:29:05.172Z"
   },
   {
    "duration": 6,
    "start_time": "2025-08-03T15:29:05.264Z"
   },
   {
    "duration": 168,
    "start_time": "2025-08-03T15:29:05.271Z"
   },
   {
    "duration": 27,
    "start_time": "2025-08-03T15:29:05.441Z"
   },
   {
    "duration": 46,
    "start_time": "2025-08-03T15:29:05.470Z"
   },
   {
    "duration": 11,
    "start_time": "2025-08-03T15:29:05.518Z"
   },
   {
    "duration": 52,
    "start_time": "2025-08-03T15:29:05.530Z"
   },
   {
    "duration": 4,
    "start_time": "2025-08-03T15:29:05.584Z"
   },
   {
    "duration": 82,
    "start_time": "2025-08-03T15:29:05.589Z"
   },
   {
    "duration": 4,
    "start_time": "2025-08-03T15:29:05.673Z"
   },
   {
    "duration": 34,
    "start_time": "2025-08-03T15:29:05.679Z"
   },
   {
    "duration": 5,
    "start_time": "2025-08-03T15:29:05.715Z"
   },
   {
    "duration": 82,
    "start_time": "2025-08-03T15:29:05.722Z"
   },
   {
    "duration": 14,
    "start_time": "2025-08-03T15:29:05.806Z"
   },
   {
    "duration": 58,
    "start_time": "2025-08-03T15:29:05.821Z"
   },
   {
    "duration": 43,
    "start_time": "2025-08-03T15:29:05.881Z"
   },
   {
    "duration": 123,
    "start_time": "2025-08-03T15:29:05.926Z"
   },
   {
    "duration": 10,
    "start_time": "2025-08-03T15:29:06.051Z"
   },
   {
    "duration": 117,
    "start_time": "2025-08-03T15:29:06.062Z"
   },
   {
    "duration": 10,
    "start_time": "2025-08-03T15:29:06.181Z"
   },
   {
    "duration": 45,
    "start_time": "2025-08-03T15:29:06.193Z"
   },
   {
    "duration": 41,
    "start_time": "2025-08-03T15:29:06.240Z"
   },
   {
    "duration": 44,
    "start_time": "2025-08-03T15:29:06.283Z"
   },
   {
    "duration": 26,
    "start_time": "2025-08-03T15:29:06.328Z"
   },
   {
    "duration": 7,
    "start_time": "2025-08-03T15:29:06.355Z"
   },
   {
    "duration": 55,
    "start_time": "2025-08-03T15:29:06.363Z"
   },
   {
    "duration": 48,
    "start_time": "2025-08-03T15:29:06.419Z"
   },
   {
    "duration": 317,
    "start_time": "2025-08-03T15:29:06.468Z"
   },
   {
    "duration": 213,
    "start_time": "2025-08-03T15:29:06.786Z"
   },
   {
    "duration": 5,
    "start_time": "2025-08-03T15:29:07.001Z"
   },
   {
    "duration": 177,
    "start_time": "2025-08-03T15:29:07.007Z"
   },
   {
    "duration": 1560,
    "start_time": "2025-08-03T15:29:07.185Z"
   },
   {
    "duration": 1309,
    "start_time": "2025-08-03T15:29:08.746Z"
   },
   {
    "duration": 14,
    "start_time": "2025-08-03T15:29:10.057Z"
   },
   {
    "duration": 82,
    "start_time": "2025-08-03T15:29:10.073Z"
   },
   {
    "duration": 17,
    "start_time": "2025-08-03T15:29:10.157Z"
   },
   {
    "duration": 28,
    "start_time": "2025-08-03T15:29:10.176Z"
   },
   {
    "duration": 7,
    "start_time": "2025-08-03T15:29:10.206Z"
   },
   {
    "duration": 7,
    "start_time": "2025-08-03T15:29:10.214Z"
   },
   {
    "duration": 13,
    "start_time": "2025-08-03T15:29:10.223Z"
   },
   {
    "duration": 3,
    "start_time": "2025-08-03T15:29:10.238Z"
   },
   {
    "duration": 10,
    "start_time": "2025-08-03T15:29:10.243Z"
   },
   {
    "duration": 10,
    "start_time": "2025-08-03T15:29:10.254Z"
   },
   {
    "duration": 12,
    "start_time": "2025-08-03T15:29:10.266Z"
   },
   {
    "duration": 11,
    "start_time": "2025-08-03T15:29:10.280Z"
   },
   {
    "duration": 15,
    "start_time": "2025-08-03T15:29:10.293Z"
   },
   {
    "duration": 8,
    "start_time": "2025-08-03T15:29:10.310Z"
   },
   {
    "duration": 8363,
    "start_time": "2025-08-03T15:29:10.334Z"
   },
   {
    "duration": 5,
    "start_time": "2025-08-03T15:40:47.887Z"
   },
   {
    "duration": 8708,
    "start_time": "2025-08-03T15:40:52.281Z"
   },
   {
    "duration": 3,
    "start_time": "2025-08-03T15:42:20.040Z"
   },
   {
    "duration": 8411,
    "start_time": "2025-08-03T15:42:24.932Z"
   },
   {
    "duration": 4,
    "start_time": "2025-08-03T15:48:31.768Z"
   },
   {
    "duration": 8870,
    "start_time": "2025-08-03T15:48:36.792Z"
   },
   {
    "duration": 5,
    "start_time": "2025-08-03T15:49:39.086Z"
   },
   {
    "duration": 8372,
    "start_time": "2025-08-03T15:49:42.571Z"
   },
   {
    "duration": 5,
    "start_time": "2025-08-03T15:50:43.657Z"
   },
   {
    "duration": 8522,
    "start_time": "2025-08-03T15:50:46.789Z"
   },
   {
    "duration": 4,
    "start_time": "2025-08-03T15:56:26.549Z"
   },
   {
    "duration": 5,
    "start_time": "2025-08-03T15:56:34.319Z"
   },
   {
    "duration": 106,
    "start_time": "2025-08-03T15:57:00.840Z"
   },
   {
    "duration": 8654,
    "start_time": "2025-08-03T15:57:05.454Z"
   },
   {
    "duration": 8,
    "start_time": "2025-08-03T15:59:36.163Z"
   },
   {
    "duration": 3,
    "start_time": "2025-08-03T16:06:23.976Z"
   },
   {
    "duration": 3,
    "start_time": "2025-08-03T16:07:12.228Z"
   },
   {
    "duration": 8436,
    "start_time": "2025-08-03T16:08:54.598Z"
   },
   {
    "duration": 59649,
    "start_time": "2025-08-03T16:10:46.500Z"
   },
   {
    "duration": 7261,
    "start_time": "2025-08-03T16:13:14.864Z"
   },
   {
    "duration": 20124,
    "start_time": "2025-08-03T16:13:45.961Z"
   },
   {
    "duration": 5,
    "start_time": "2025-08-03T16:14:23.117Z"
   },
   {
    "duration": 4,
    "start_time": "2025-08-03T16:14:33.720Z"
   },
   {
    "duration": 5,
    "start_time": "2025-08-03T16:14:43.065Z"
   },
   {
    "duration": 10041,
    "start_time": "2025-08-03T16:14:48.358Z"
   },
   {
    "duration": 5,
    "start_time": "2025-08-03T16:15:16.758Z"
   },
   {
    "duration": 28202,
    "start_time": "2025-08-03T16:15:23.270Z"
   },
   {
    "duration": 7,
    "start_time": "2025-08-03T16:16:29.123Z"
   },
   {
    "duration": 27118,
    "start_time": "2025-08-03T16:16:33.023Z"
   },
   {
    "duration": 7,
    "start_time": "2025-08-03T16:17:00.144Z"
   },
   {
    "duration": 64883,
    "start_time": "2025-08-03T16:17:10.494Z"
   },
   {
    "duration": 21312,
    "start_time": "2025-08-03T16:19:55.093Z"
   },
   {
    "duration": 93356,
    "start_time": "2025-08-03T16:22:15.638Z"
   },
   {
    "duration": 266559,
    "start_time": "2025-08-03T16:30:22.763Z"
   },
   {
    "duration": 48,
    "start_time": "2025-08-03T16:38:49.185Z"
   },
   {
    "duration": 16,
    "start_time": "2025-08-03T16:52:40.149Z"
   },
   {
    "duration": 3,
    "start_time": "2025-08-03T16:56:48.169Z"
   },
   {
    "duration": 17,
    "start_time": "2025-08-03T16:59:42.258Z"
   },
   {
    "duration": 7,
    "start_time": "2025-08-03T16:59:52.569Z"
   },
   {
    "duration": 3,
    "start_time": "2025-08-03T17:01:22.169Z"
   },
   {
    "duration": 818,
    "start_time": "2025-08-03T17:02:03.341Z"
   },
   {
    "duration": 5,
    "start_time": "2025-08-03T17:04:32.501Z"
   },
   {
    "duration": 4,
    "start_time": "2025-08-03T17:04:34.684Z"
   },
   {
    "duration": 5,
    "start_time": "2025-08-03T17:04:36.873Z"
   },
   {
    "duration": 791,
    "start_time": "2025-08-03T17:04:46.015Z"
   },
   {
    "duration": 14,
    "start_time": "2025-08-03T17:06:11.781Z"
   },
   {
    "duration": 790,
    "start_time": "2025-08-03T17:06:59.700Z"
   },
   {
    "duration": 5,
    "start_time": "2025-08-03T17:07:28.115Z"
   },
   {
    "duration": 834,
    "start_time": "2025-08-03T17:07:33.125Z"
   },
   {
    "duration": 30,
    "start_time": "2025-08-03T17:08:41.612Z"
   },
   {
    "duration": 4,
    "start_time": "2025-08-03T17:08:49.821Z"
   },
   {
    "duration": 19,
    "start_time": "2025-08-03T17:10:25.695Z"
   },
   {
    "duration": 3,
    "start_time": "2025-08-03T17:12:55.895Z"
   },
   {
    "duration": 3,
    "start_time": "2025-08-03T17:13:00.030Z"
   },
   {
    "duration": 33,
    "start_time": "2025-08-03T17:13:19.609Z"
   },
   {
    "duration": 2,
    "start_time": "2025-08-03T17:13:34.763Z"
   },
   {
    "duration": 1137187,
    "start_time": "2025-08-03T17:13:42.783Z"
   },
   {
    "duration": 0,
    "start_time": "2025-08-03T17:32:39.972Z"
   },
   {
    "duration": 4,
    "start_time": "2025-08-03T17:33:12.835Z"
   },
   {
    "duration": 14406,
    "start_time": "2025-08-03T17:33:25.225Z"
   },
   {
    "duration": 16078,
    "start_time": "2025-08-03T17:34:02.488Z"
   },
   {
    "duration": 1388,
    "start_time": "2025-08-03T17:34:18.570Z"
   },
   {
    "duration": 10,
    "start_time": "2025-08-03T17:34:19.959Z"
   },
   {
    "duration": 124,
    "start_time": "2025-08-03T17:34:19.972Z"
   },
   {
    "duration": 21,
    "start_time": "2025-08-03T17:34:20.098Z"
   },
   {
    "duration": 37,
    "start_time": "2025-08-03T17:34:20.121Z"
   },
   {
    "duration": 16,
    "start_time": "2025-08-03T17:34:20.159Z"
   },
   {
    "duration": 28,
    "start_time": "2025-08-03T17:34:20.178Z"
   },
   {
    "duration": 29,
    "start_time": "2025-08-03T17:34:20.208Z"
   },
   {
    "duration": 101,
    "start_time": "2025-08-03T17:34:20.240Z"
   },
   {
    "duration": 67,
    "start_time": "2025-08-03T17:34:20.343Z"
   },
   {
    "duration": 18,
    "start_time": "2025-08-03T17:34:20.412Z"
   },
   {
    "duration": 19,
    "start_time": "2025-08-03T17:34:20.431Z"
   },
   {
    "duration": 15,
    "start_time": "2025-08-03T17:34:20.451Z"
   },
   {
    "duration": 4,
    "start_time": "2025-08-03T17:34:20.468Z"
   },
   {
    "duration": 21,
    "start_time": "2025-08-03T17:34:20.473Z"
   },
   {
    "duration": 42,
    "start_time": "2025-08-03T17:34:20.495Z"
   },
   {
    "duration": 48,
    "start_time": "2025-08-03T17:34:20.539Z"
   },
   {
    "duration": 3,
    "start_time": "2025-08-03T17:34:20.589Z"
   },
   {
    "duration": 102,
    "start_time": "2025-08-03T17:34:20.594Z"
   },
   {
    "duration": 6,
    "start_time": "2025-08-03T17:34:20.697Z"
   },
   {
    "duration": 15,
    "start_time": "2025-08-03T17:34:20.704Z"
   },
   {
    "duration": 27,
    "start_time": "2025-08-03T17:34:20.720Z"
   },
   {
    "duration": 8,
    "start_time": "2025-08-03T17:34:20.748Z"
   },
   {
    "duration": 10,
    "start_time": "2025-08-03T17:34:20.758Z"
   },
   {
    "duration": 43,
    "start_time": "2025-08-03T17:34:20.769Z"
   },
   {
    "duration": 263,
    "start_time": "2025-08-03T17:34:20.814Z"
   },
   {
    "duration": 6,
    "start_time": "2025-08-03T17:34:21.085Z"
   },
   {
    "duration": 159,
    "start_time": "2025-08-03T17:34:21.093Z"
   },
   {
    "duration": 5,
    "start_time": "2025-08-03T17:34:21.254Z"
   },
   {
    "duration": 103,
    "start_time": "2025-08-03T17:34:21.261Z"
   },
   {
    "duration": 5,
    "start_time": "2025-08-03T17:34:21.365Z"
   },
   {
    "duration": 108,
    "start_time": "2025-08-03T17:34:21.371Z"
   },
   {
    "duration": 210,
    "start_time": "2025-08-03T17:34:21.481Z"
   },
   {
    "duration": 14,
    "start_time": "2025-08-03T17:34:21.692Z"
   },
   {
    "duration": 23,
    "start_time": "2025-08-03T17:34:21.708Z"
   },
   {
    "duration": 51,
    "start_time": "2025-08-03T17:34:21.732Z"
   },
   {
    "duration": 5,
    "start_time": "2025-08-03T17:34:21.784Z"
   },
   {
    "duration": 73,
    "start_time": "2025-08-03T17:34:21.791Z"
   },
   {
    "duration": 5,
    "start_time": "2025-08-03T17:34:21.866Z"
   },
   {
    "duration": 65,
    "start_time": "2025-08-03T17:34:21.872Z"
   },
   {
    "duration": 4,
    "start_time": "2025-08-03T17:34:21.939Z"
   },
   {
    "duration": 51,
    "start_time": "2025-08-03T17:34:21.945Z"
   },
   {
    "duration": 88,
    "start_time": "2025-08-03T17:34:21.998Z"
   },
   {
    "duration": 66,
    "start_time": "2025-08-03T17:34:22.089Z"
   },
   {
    "duration": 5,
    "start_time": "2025-08-03T17:34:22.157Z"
   },
   {
    "duration": 39,
    "start_time": "2025-08-03T17:34:22.163Z"
   },
   {
    "duration": 5,
    "start_time": "2025-08-03T17:34:22.204Z"
   },
   {
    "duration": 63,
    "start_time": "2025-08-03T17:34:22.210Z"
   },
   {
    "duration": 6,
    "start_time": "2025-08-03T17:34:22.274Z"
   },
   {
    "duration": 146,
    "start_time": "2025-08-03T17:34:22.282Z"
   },
   {
    "duration": 277,
    "start_time": "2025-08-03T17:34:22.430Z"
   },
   {
    "duration": 30,
    "start_time": "2025-08-03T17:34:22.709Z"
   },
   {
    "duration": 360,
    "start_time": "2025-08-03T17:34:22.741Z"
   },
   {
    "duration": 9,
    "start_time": "2025-08-03T17:34:23.103Z"
   },
   {
    "duration": 15,
    "start_time": "2025-08-03T17:34:23.133Z"
   },
   {
    "duration": 5,
    "start_time": "2025-08-03T17:34:23.150Z"
   },
   {
    "duration": 104,
    "start_time": "2025-08-03T17:34:23.157Z"
   },
   {
    "duration": 6,
    "start_time": "2025-08-03T17:34:23.263Z"
   },
   {
    "duration": 35,
    "start_time": "2025-08-03T17:34:23.271Z"
   },
   {
    "duration": 28,
    "start_time": "2025-08-03T17:34:23.308Z"
   },
   {
    "duration": 48,
    "start_time": "2025-08-03T17:34:23.338Z"
   },
   {
    "duration": 6,
    "start_time": "2025-08-03T17:34:23.388Z"
   },
   {
    "duration": 49,
    "start_time": "2025-08-03T17:34:23.396Z"
   },
   {
    "duration": 202,
    "start_time": "2025-08-03T17:34:23.447Z"
   },
   {
    "duration": 52,
    "start_time": "2025-08-03T17:34:23.651Z"
   },
   {
    "duration": 7,
    "start_time": "2025-08-03T17:34:23.704Z"
   },
   {
    "duration": 47,
    "start_time": "2025-08-03T17:34:23.714Z"
   },
   {
    "duration": 4,
    "start_time": "2025-08-03T17:34:23.764Z"
   },
   {
    "duration": 73,
    "start_time": "2025-08-03T17:34:23.770Z"
   },
   {
    "duration": 5,
    "start_time": "2025-08-03T17:34:23.845Z"
   },
   {
    "duration": 33,
    "start_time": "2025-08-03T17:34:23.852Z"
   },
   {
    "duration": 5,
    "start_time": "2025-08-03T17:34:23.887Z"
   },
   {
    "duration": 69,
    "start_time": "2025-08-03T17:34:23.894Z"
   },
   {
    "duration": 5,
    "start_time": "2025-08-03T17:34:23.964Z"
   },
   {
    "duration": 127,
    "start_time": "2025-08-03T17:34:23.971Z"
   },
   {
    "duration": 5,
    "start_time": "2025-08-03T17:34:24.099Z"
   },
   {
    "duration": 58,
    "start_time": "2025-08-03T17:34:24.106Z"
   },
   {
    "duration": 6,
    "start_time": "2025-08-03T17:34:24.166Z"
   },
   {
    "duration": 29,
    "start_time": "2025-08-03T17:34:24.174Z"
   },
   {
    "duration": 37,
    "start_time": "2025-08-03T17:34:24.204Z"
   },
   {
    "duration": 5,
    "start_time": "2025-08-03T17:34:24.247Z"
   },
   {
    "duration": 56,
    "start_time": "2025-08-03T17:34:24.254Z"
   },
   {
    "duration": 128,
    "start_time": "2025-08-03T17:34:24.312Z"
   },
   {
    "duration": 58,
    "start_time": "2025-08-03T17:34:24.442Z"
   },
   {
    "duration": 247,
    "start_time": "2025-08-03T17:34:24.502Z"
   },
   {
    "duration": 5,
    "start_time": "2025-08-03T17:34:24.751Z"
   },
   {
    "duration": 19,
    "start_time": "2025-08-03T17:34:24.757Z"
   },
   {
    "duration": 1391,
    "start_time": "2025-08-03T17:34:24.778Z"
   },
   {
    "duration": 1316,
    "start_time": "2025-08-03T17:34:26.171Z"
   },
   {
    "duration": 14,
    "start_time": "2025-08-03T17:34:27.488Z"
   },
   {
    "duration": 88,
    "start_time": "2025-08-03T17:34:27.503Z"
   },
   {
    "duration": 77,
    "start_time": "2025-08-03T17:34:27.593Z"
   },
   {
    "duration": 26,
    "start_time": "2025-08-03T17:34:27.672Z"
   },
   {
    "duration": 6,
    "start_time": "2025-08-03T17:34:27.700Z"
   },
   {
    "duration": 5,
    "start_time": "2025-08-03T17:34:27.707Z"
   },
   {
    "duration": 8,
    "start_time": "2025-08-03T17:34:27.714Z"
   },
   {
    "duration": 5,
    "start_time": "2025-08-03T17:34:27.724Z"
   },
   {
    "duration": 7,
    "start_time": "2025-08-03T17:34:27.730Z"
   },
   {
    "duration": 7,
    "start_time": "2025-08-03T17:34:27.738Z"
   },
   {
    "duration": 5,
    "start_time": "2025-08-03T17:34:27.747Z"
   },
   {
    "duration": 15,
    "start_time": "2025-08-03T17:34:27.754Z"
   },
   {
    "duration": 10,
    "start_time": "2025-08-03T17:34:27.771Z"
   },
   {
    "duration": 11,
    "start_time": "2025-08-03T17:34:27.783Z"
   },
   {
    "duration": 7,
    "start_time": "2025-08-03T17:34:27.795Z"
   },
   {
    "duration": 7,
    "start_time": "2025-08-03T17:34:27.804Z"
   },
   {
    "duration": 13,
    "start_time": "2025-08-03T17:34:27.834Z"
   },
   {
    "duration": 9,
    "start_time": "2025-08-03T17:34:27.849Z"
   },
   {
    "duration": 7,
    "start_time": "2025-08-03T17:34:27.860Z"
   },
   {
    "duration": 8251,
    "start_time": "2025-08-03T17:34:27.870Z"
   },
   {
    "duration": 58439,
    "start_time": "2025-08-03T17:34:36.123Z"
   },
   {
    "duration": 19954,
    "start_time": "2025-08-03T17:35:34.563Z"
   },
   {
    "duration": 19433,
    "start_time": "2025-08-03T17:35:54.519Z"
   },
   {
    "duration": 89236,
    "start_time": "2025-08-03T17:36:13.953Z"
   },
   {
    "duration": 256358,
    "start_time": "2025-08-03T17:37:43.191Z"
   },
   {
    "duration": 392837,
    "start_time": "2025-08-03T17:41:59.551Z"
   },
   {
    "duration": 0,
    "start_time": "2025-08-03T17:48:32.390Z"
   },
   {
    "duration": 0,
    "start_time": "2025-08-03T17:48:32.391Z"
   },
   {
    "duration": 3,
    "start_time": "2025-08-03T17:48:51.579Z"
   },
   {
    "duration": 3,
    "start_time": "2025-08-03T17:48:54.310Z"
   },
   {
    "duration": 83033,
    "start_time": "2025-08-03T17:49:04.271Z"
   },
   {
    "duration": 215840,
    "start_time": "2025-08-03T17:50:51.977Z"
   },
   {
    "duration": 16359,
    "start_time": "2025-08-03T17:59:09.465Z"
   },
   {
    "duration": 1457,
    "start_time": "2025-08-03T17:59:25.827Z"
   },
   {
    "duration": 10,
    "start_time": "2025-08-03T17:59:27.286Z"
   },
   {
    "duration": 9,
    "start_time": "2025-08-03T17:59:27.298Z"
   },
   {
    "duration": 25,
    "start_time": "2025-08-03T17:59:27.309Z"
   },
   {
    "duration": 8,
    "start_time": "2025-08-03T17:59:27.336Z"
   },
   {
    "duration": 21,
    "start_time": "2025-08-03T17:59:27.346Z"
   },
   {
    "duration": 9,
    "start_time": "2025-08-03T17:59:27.369Z"
   },
   {
    "duration": 6,
    "start_time": "2025-08-03T17:59:27.380Z"
   },
   {
    "duration": 88,
    "start_time": "2025-08-03T17:59:27.388Z"
   },
   {
    "duration": 27,
    "start_time": "2025-08-03T17:59:27.478Z"
   },
   {
    "duration": 101,
    "start_time": "2025-08-03T17:59:27.506Z"
   },
   {
    "duration": 25,
    "start_time": "2025-08-03T17:59:27.608Z"
   },
   {
    "duration": 15,
    "start_time": "2025-08-03T17:59:27.637Z"
   },
   {
    "duration": 114,
    "start_time": "2025-08-03T17:59:27.655Z"
   },
   {
    "duration": 20,
    "start_time": "2025-08-03T17:59:27.771Z"
   },
   {
    "duration": 22,
    "start_time": "2025-08-03T17:59:27.793Z"
   },
   {
    "duration": 53,
    "start_time": "2025-08-03T17:59:27.817Z"
   },
   {
    "duration": 4,
    "start_time": "2025-08-03T17:59:27.872Z"
   },
   {
    "duration": 10,
    "start_time": "2025-08-03T17:59:27.878Z"
   },
   {
    "duration": 5,
    "start_time": "2025-08-03T17:59:27.889Z"
   },
   {
    "duration": 22,
    "start_time": "2025-08-03T17:59:27.896Z"
   },
   {
    "duration": 16,
    "start_time": "2025-08-03T17:59:27.919Z"
   },
   {
    "duration": 11,
    "start_time": "2025-08-03T17:59:27.937Z"
   },
   {
    "duration": 15,
    "start_time": "2025-08-03T17:59:27.950Z"
   },
   {
    "duration": 19,
    "start_time": "2025-08-03T17:59:27.967Z"
   },
   {
    "duration": 282,
    "start_time": "2025-08-03T17:59:27.987Z"
   },
   {
    "duration": 5,
    "start_time": "2025-08-03T17:59:28.270Z"
   },
   {
    "duration": 85,
    "start_time": "2025-08-03T17:59:28.277Z"
   },
   {
    "duration": 5,
    "start_time": "2025-08-03T17:59:28.363Z"
   },
   {
    "duration": 139,
    "start_time": "2025-08-03T17:59:28.370Z"
   },
   {
    "duration": 4,
    "start_time": "2025-08-03T17:59:28.511Z"
   },
   {
    "duration": 66,
    "start_time": "2025-08-03T17:59:28.517Z"
   },
   {
    "duration": 8,
    "start_time": "2025-08-03T17:59:28.585Z"
   },
   {
    "duration": 35,
    "start_time": "2025-08-03T17:59:28.595Z"
   },
   {
    "duration": 10,
    "start_time": "2025-08-03T17:59:28.632Z"
   },
   {
    "duration": 49,
    "start_time": "2025-08-03T17:59:28.644Z"
   },
   {
    "duration": 6,
    "start_time": "2025-08-03T17:59:28.695Z"
   },
   {
    "duration": 136,
    "start_time": "2025-08-03T17:59:28.703Z"
   },
   {
    "duration": 5,
    "start_time": "2025-08-03T17:59:28.840Z"
   },
   {
    "duration": 53,
    "start_time": "2025-08-03T17:59:28.852Z"
   },
   {
    "duration": 29,
    "start_time": "2025-08-03T17:59:28.907Z"
   },
   {
    "duration": 46,
    "start_time": "2025-08-03T17:59:28.938Z"
   },
   {
    "duration": 5,
    "start_time": "2025-08-03T17:59:28.986Z"
   },
   {
    "duration": 71,
    "start_time": "2025-08-03T17:59:28.993Z"
   },
   {
    "duration": 6,
    "start_time": "2025-08-03T17:59:29.066Z"
   },
   {
    "duration": 43,
    "start_time": "2025-08-03T17:59:29.073Z"
   },
   {
    "duration": 17,
    "start_time": "2025-08-03T17:59:29.118Z"
   },
   {
    "duration": 44,
    "start_time": "2025-08-03T17:59:29.137Z"
   },
   {
    "duration": 6,
    "start_time": "2025-08-03T17:59:29.183Z"
   },
   {
    "duration": 58,
    "start_time": "2025-08-03T17:59:29.190Z"
   },
   {
    "duration": 304,
    "start_time": "2025-08-03T17:59:29.249Z"
   },
   {
    "duration": 11,
    "start_time": "2025-08-03T17:59:29.555Z"
   },
   {
    "duration": 379,
    "start_time": "2025-08-03T17:59:29.568Z"
   },
   {
    "duration": 7,
    "start_time": "2025-08-03T17:59:29.948Z"
   },
   {
    "duration": 11,
    "start_time": "2025-08-03T17:59:29.956Z"
   },
   {
    "duration": 9,
    "start_time": "2025-08-03T17:59:29.969Z"
   },
   {
    "duration": 96,
    "start_time": "2025-08-03T17:59:29.979Z"
   },
   {
    "duration": 18,
    "start_time": "2025-08-03T17:59:30.077Z"
   },
   {
    "duration": 214,
    "start_time": "2025-08-03T17:59:30.096Z"
   },
   {
    "duration": 44,
    "start_time": "2025-08-03T17:59:30.312Z"
   },
   {
    "duration": 143,
    "start_time": "2025-08-03T17:59:30.358Z"
   },
   {
    "duration": 6,
    "start_time": "2025-08-03T17:59:30.504Z"
   },
   {
    "duration": 57,
    "start_time": "2025-08-03T17:59:30.512Z"
   },
   {
    "duration": 7,
    "start_time": "2025-08-03T17:59:30.571Z"
   },
   {
    "duration": 58,
    "start_time": "2025-08-03T17:59:30.580Z"
   },
   {
    "duration": 44,
    "start_time": "2025-08-03T17:59:30.640Z"
   },
   {
    "duration": 148,
    "start_time": "2025-08-03T17:59:30.686Z"
   },
   {
    "duration": 19,
    "start_time": "2025-08-03T17:59:30.836Z"
   },
   {
    "duration": 64,
    "start_time": "2025-08-03T17:59:30.857Z"
   },
   {
    "duration": 7,
    "start_time": "2025-08-03T17:59:30.923Z"
   },
   {
    "duration": 46,
    "start_time": "2025-08-03T17:59:30.931Z"
   },
   {
    "duration": 5,
    "start_time": "2025-08-03T17:59:30.979Z"
   },
   {
    "duration": 55,
    "start_time": "2025-08-03T17:59:30.986Z"
   },
   {
    "duration": 6,
    "start_time": "2025-08-03T17:59:31.043Z"
   },
   {
    "duration": 40,
    "start_time": "2025-08-03T17:59:31.050Z"
   },
   {
    "duration": 4,
    "start_time": "2025-08-03T17:59:31.092Z"
   },
   {
    "duration": 97,
    "start_time": "2025-08-03T17:59:31.097Z"
   },
   {
    "duration": 5,
    "start_time": "2025-08-03T17:59:31.196Z"
   },
   {
    "duration": 32,
    "start_time": "2025-08-03T17:59:31.202Z"
   },
   {
    "duration": 23,
    "start_time": "2025-08-03T17:59:31.235Z"
   },
   {
    "duration": 13,
    "start_time": "2025-08-03T17:59:31.259Z"
   },
   {
    "duration": 60,
    "start_time": "2025-08-03T17:59:31.274Z"
   },
   {
    "duration": 45,
    "start_time": "2025-08-03T17:59:31.336Z"
   },
   {
    "duration": 80,
    "start_time": "2025-08-03T17:59:31.383Z"
   },
   {
    "duration": 241,
    "start_time": "2025-08-03T17:59:31.465Z"
   },
   {
    "duration": 6,
    "start_time": "2025-08-03T17:59:31.707Z"
   },
   {
    "duration": 95,
    "start_time": "2025-08-03T17:59:31.715Z"
   },
   {
    "duration": 1781,
    "start_time": "2025-08-03T17:59:31.812Z"
   },
   {
    "duration": 1322,
    "start_time": "2025-08-03T17:59:33.595Z"
   },
   {
    "duration": 25,
    "start_time": "2025-08-03T17:59:34.919Z"
   },
   {
    "duration": 30,
    "start_time": "2025-08-03T17:59:34.946Z"
   },
   {
    "duration": 29,
    "start_time": "2025-08-03T17:59:34.977Z"
   },
   {
    "duration": 64,
    "start_time": "2025-08-03T17:59:35.008Z"
   },
   {
    "duration": 2,
    "start_time": "2025-08-03T17:59:35.074Z"
   },
   {
    "duration": 9,
    "start_time": "2025-08-03T17:59:35.077Z"
   },
   {
    "duration": 7,
    "start_time": "2025-08-03T17:59:35.088Z"
   },
   {
    "duration": 28,
    "start_time": "2025-08-03T17:59:35.096Z"
   },
   {
    "duration": 20,
    "start_time": "2025-08-03T17:59:35.125Z"
   },
   {
    "duration": 29,
    "start_time": "2025-08-03T17:59:35.147Z"
   },
   {
    "duration": 13,
    "start_time": "2025-08-03T17:59:35.178Z"
   },
   {
    "duration": 6,
    "start_time": "2025-08-03T17:59:35.194Z"
   },
   {
    "duration": 53,
    "start_time": "2025-08-03T17:59:35.202Z"
   },
   {
    "duration": 20,
    "start_time": "2025-08-03T17:59:35.257Z"
   },
   {
    "duration": 8,
    "start_time": "2025-08-03T17:59:35.279Z"
   },
   {
    "duration": 9,
    "start_time": "2025-08-03T17:59:35.290Z"
   },
   {
    "duration": 63,
    "start_time": "2025-08-03T17:59:35.300Z"
   },
   {
    "duration": 29,
    "start_time": "2025-08-03T17:59:35.365Z"
   },
   {
    "duration": 17,
    "start_time": "2025-08-03T17:59:35.396Z"
   },
   {
    "duration": 69,
    "start_time": "2025-08-03T17:59:35.415Z"
   },
   {
    "duration": 238,
    "start_time": "2025-08-03T17:59:35.486Z"
   },
   {
    "duration": 0,
    "start_time": "2025-08-03T17:59:35.725Z"
   },
   {
    "duration": 0,
    "start_time": "2025-08-03T17:59:35.735Z"
   },
   {
    "duration": 0,
    "start_time": "2025-08-03T17:59:35.736Z"
   },
   {
    "duration": 0,
    "start_time": "2025-08-03T17:59:35.737Z"
   },
   {
    "duration": 0,
    "start_time": "2025-08-03T17:59:35.739Z"
   },
   {
    "duration": 0,
    "start_time": "2025-08-03T17:59:35.740Z"
   },
   {
    "duration": 0,
    "start_time": "2025-08-03T17:59:35.741Z"
   },
   {
    "duration": 0,
    "start_time": "2025-08-03T17:59:35.742Z"
   },
   {
    "duration": 785,
    "start_time": "2025-08-03T17:59:57.903Z"
   },
   {
    "duration": 1045,
    "start_time": "2025-08-03T18:00:55.654Z"
   },
   {
    "duration": 4,
    "start_time": "2025-08-03T18:03:42.907Z"
   },
   {
    "duration": 3,
    "start_time": "2025-08-03T18:03:49.663Z"
   },
   {
    "duration": 1498,
    "start_time": "2025-08-03T18:03:53.415Z"
   },
   {
    "duration": 4,
    "start_time": "2025-08-03T18:04:21.242Z"
   },
   {
    "duration": 3,
    "start_time": "2025-08-03T18:04:24.158Z"
   },
   {
    "duration": 3,
    "start_time": "2025-08-03T18:04:29.544Z"
   },
   {
    "duration": 4,
    "start_time": "2025-08-03T18:05:12.998Z"
   },
   {
    "duration": 37736,
    "start_time": "2025-08-03T18:05:31.488Z"
   },
   {
    "duration": 0,
    "start_time": "2025-08-03T18:06:09.226Z"
   },
   {
    "duration": 3,
    "start_time": "2025-08-03T18:06:16.055Z"
   },
   {
    "duration": 3,
    "start_time": "2025-08-03T18:06:25.807Z"
   },
   {
    "duration": 16608,
    "start_time": "2025-08-03T18:06:45.403Z"
   },
   {
    "duration": 1462,
    "start_time": "2025-08-03T18:07:02.014Z"
   },
   {
    "duration": 10,
    "start_time": "2025-08-03T18:07:03.478Z"
   },
   {
    "duration": 15,
    "start_time": "2025-08-03T18:07:03.490Z"
   },
   {
    "duration": 26,
    "start_time": "2025-08-03T18:07:03.506Z"
   },
   {
    "duration": 109,
    "start_time": "2025-08-03T18:07:03.534Z"
   },
   {
    "duration": 11,
    "start_time": "2025-08-03T18:07:03.644Z"
   },
   {
    "duration": 174,
    "start_time": "2025-08-03T18:07:03.658Z"
   },
   {
    "duration": 10,
    "start_time": "2025-08-03T18:07:03.833Z"
   },
   {
    "duration": 100,
    "start_time": "2025-08-03T18:07:03.846Z"
   },
   {
    "duration": 26,
    "start_time": "2025-08-03T18:07:03.947Z"
   },
   {
    "duration": 17,
    "start_time": "2025-08-03T18:07:03.974Z"
   },
   {
    "duration": 24,
    "start_time": "2025-08-03T18:07:03.992Z"
   },
   {
    "duration": 36,
    "start_time": "2025-08-03T18:07:04.017Z"
   },
   {
    "duration": 15,
    "start_time": "2025-08-03T18:07:04.054Z"
   },
   {
    "duration": 21,
    "start_time": "2025-08-03T18:07:04.070Z"
   },
   {
    "duration": 19,
    "start_time": "2025-08-03T18:07:04.092Z"
   },
   {
    "duration": 121,
    "start_time": "2025-08-03T18:07:04.113Z"
   },
   {
    "duration": 54,
    "start_time": "2025-08-03T18:07:04.236Z"
   },
   {
    "duration": 97,
    "start_time": "2025-08-03T18:07:04.292Z"
   },
   {
    "duration": 149,
    "start_time": "2025-08-03T18:07:04.391Z"
   },
   {
    "duration": 14,
    "start_time": "2025-08-03T18:07:04.541Z"
   },
   {
    "duration": 27,
    "start_time": "2025-08-03T18:07:04.556Z"
   },
   {
    "duration": 8,
    "start_time": "2025-08-03T18:07:04.585Z"
   },
   {
    "duration": 16,
    "start_time": "2025-08-03T18:07:04.595Z"
   },
   {
    "duration": 39,
    "start_time": "2025-08-03T18:07:04.613Z"
   },
   {
    "duration": 240,
    "start_time": "2025-08-03T18:07:04.654Z"
   },
   {
    "duration": 4,
    "start_time": "2025-08-03T18:07:04.900Z"
   },
   {
    "duration": 128,
    "start_time": "2025-08-03T18:07:04.906Z"
   },
   {
    "duration": 6,
    "start_time": "2025-08-03T18:07:05.036Z"
   },
   {
    "duration": 53,
    "start_time": "2025-08-03T18:07:05.043Z"
   },
   {
    "duration": 9,
    "start_time": "2025-08-03T18:07:05.098Z"
   },
   {
    "duration": 85,
    "start_time": "2025-08-03T18:07:05.135Z"
   },
   {
    "duration": 18,
    "start_time": "2025-08-03T18:07:05.222Z"
   },
   {
    "duration": 31,
    "start_time": "2025-08-03T18:07:05.241Z"
   },
   {
    "duration": 24,
    "start_time": "2025-08-03T18:07:05.273Z"
   },
   {
    "duration": 77,
    "start_time": "2025-08-03T18:07:05.299Z"
   },
   {
    "duration": 77,
    "start_time": "2025-08-03T18:07:05.378Z"
   },
   {
    "duration": 83,
    "start_time": "2025-08-03T18:07:05.456Z"
   },
   {
    "duration": 133,
    "start_time": "2025-08-03T18:07:05.540Z"
   },
   {
    "duration": 187,
    "start_time": "2025-08-03T18:07:05.675Z"
   },
   {
    "duration": 5,
    "start_time": "2025-08-03T18:07:05.864Z"
   },
   {
    "duration": 81,
    "start_time": "2025-08-03T18:07:05.870Z"
   },
   {
    "duration": 4,
    "start_time": "2025-08-03T18:07:05.953Z"
   },
   {
    "duration": 55,
    "start_time": "2025-08-03T18:07:05.959Z"
   },
   {
    "duration": 21,
    "start_time": "2025-08-03T18:07:06.016Z"
   },
   {
    "duration": 35,
    "start_time": "2025-08-03T18:07:06.039Z"
   },
   {
    "duration": 4,
    "start_time": "2025-08-03T18:07:06.075Z"
   },
   {
    "duration": 64,
    "start_time": "2025-08-03T18:07:06.081Z"
   },
   {
    "duration": 5,
    "start_time": "2025-08-03T18:07:06.146Z"
   },
   {
    "duration": 154,
    "start_time": "2025-08-03T18:07:06.153Z"
   },
   {
    "duration": 227,
    "start_time": "2025-08-03T18:07:06.309Z"
   },
   {
    "duration": 8,
    "start_time": "2025-08-03T18:07:06.538Z"
   },
   {
    "duration": 338,
    "start_time": "2025-08-03T18:07:06.548Z"
   },
   {
    "duration": 7,
    "start_time": "2025-08-03T18:07:06.888Z"
   },
   {
    "duration": 11,
    "start_time": "2025-08-03T18:07:06.897Z"
   },
   {
    "duration": 28,
    "start_time": "2025-08-03T18:07:06.909Z"
   },
   {
    "duration": 52,
    "start_time": "2025-08-03T18:07:06.939Z"
   },
   {
    "duration": 41,
    "start_time": "2025-08-03T18:07:06.993Z"
   },
   {
    "duration": 39,
    "start_time": "2025-08-03T18:07:07.036Z"
   },
   {
    "duration": 5,
    "start_time": "2025-08-03T18:07:07.076Z"
   },
   {
    "duration": 54,
    "start_time": "2025-08-03T18:07:07.082Z"
   },
   {
    "duration": 17,
    "start_time": "2025-08-03T18:07:07.138Z"
   },
   {
    "duration": 28,
    "start_time": "2025-08-03T18:07:07.157Z"
   },
   {
    "duration": 4,
    "start_time": "2025-08-03T18:07:07.187Z"
   },
   {
    "duration": 61,
    "start_time": "2025-08-03T18:07:07.193Z"
   },
   {
    "duration": 5,
    "start_time": "2025-08-03T18:07:07.255Z"
   },
   {
    "duration": 29,
    "start_time": "2025-08-03T18:07:07.261Z"
   },
   {
    "duration": 4,
    "start_time": "2025-08-03T18:07:07.292Z"
   },
   {
    "duration": 66,
    "start_time": "2025-08-03T18:07:07.298Z"
   },
   {
    "duration": 5,
    "start_time": "2025-08-03T18:07:07.366Z"
   },
   {
    "duration": 57,
    "start_time": "2025-08-03T18:07:07.372Z"
   },
   {
    "duration": 6,
    "start_time": "2025-08-03T18:07:07.431Z"
   },
   {
    "duration": 55,
    "start_time": "2025-08-03T18:07:07.438Z"
   },
   {
    "duration": 6,
    "start_time": "2025-08-03T18:07:07.495Z"
   },
   {
    "duration": 40,
    "start_time": "2025-08-03T18:07:07.503Z"
   },
   {
    "duration": 53,
    "start_time": "2025-08-03T18:07:07.545Z"
   },
   {
    "duration": 43,
    "start_time": "2025-08-03T18:07:07.600Z"
   },
   {
    "duration": 6,
    "start_time": "2025-08-03T18:07:07.645Z"
   },
   {
    "duration": 27,
    "start_time": "2025-08-03T18:07:07.652Z"
   },
   {
    "duration": 11,
    "start_time": "2025-08-03T18:07:07.680Z"
   },
   {
    "duration": 134,
    "start_time": "2025-08-03T18:07:07.697Z"
   },
   {
    "duration": 53,
    "start_time": "2025-08-03T18:07:07.833Z"
   },
   {
    "duration": 53,
    "start_time": "2025-08-03T18:07:07.888Z"
   },
   {
    "duration": 48,
    "start_time": "2025-08-03T18:07:07.943Z"
   },
   {
    "duration": 209,
    "start_time": "2025-08-03T18:07:07.993Z"
   },
   {
    "duration": 5,
    "start_time": "2025-08-03T18:07:08.204Z"
   },
   {
    "duration": 47,
    "start_time": "2025-08-03T18:07:08.234Z"
   },
   {
    "duration": 1305,
    "start_time": "2025-08-03T18:07:08.283Z"
   },
   {
    "duration": 1278,
    "start_time": "2025-08-03T18:07:09.590Z"
   },
   {
    "duration": 16,
    "start_time": "2025-08-03T18:07:10.870Z"
   },
   {
    "duration": 5,
    "start_time": "2025-08-03T18:07:10.888Z"
   },
   {
    "duration": 24,
    "start_time": "2025-08-03T18:07:10.894Z"
   },
   {
    "duration": 28,
    "start_time": "2025-08-03T18:07:10.935Z"
   },
   {
    "duration": 3,
    "start_time": "2025-08-03T18:07:10.964Z"
   },
   {
    "duration": 15,
    "start_time": "2025-08-03T18:07:10.968Z"
   },
   {
    "duration": 3,
    "start_time": "2025-08-03T18:07:10.985Z"
   },
   {
    "duration": 22,
    "start_time": "2025-08-03T18:07:10.990Z"
   },
   {
    "duration": 10,
    "start_time": "2025-08-03T18:07:11.014Z"
   },
   {
    "duration": 7,
    "start_time": "2025-08-03T18:07:11.025Z"
   },
   {
    "duration": 6,
    "start_time": "2025-08-03T18:07:11.034Z"
   },
   {
    "duration": 5,
    "start_time": "2025-08-03T18:07:11.042Z"
   },
   {
    "duration": 10,
    "start_time": "2025-08-03T18:07:11.049Z"
   },
   {
    "duration": 6,
    "start_time": "2025-08-03T18:07:11.061Z"
   },
   {
    "duration": 23,
    "start_time": "2025-08-03T18:07:11.069Z"
   },
   {
    "duration": 28,
    "start_time": "2025-08-03T18:07:11.093Z"
   },
   {
    "duration": 12,
    "start_time": "2025-08-03T18:07:11.123Z"
   },
   {
    "duration": 8,
    "start_time": "2025-08-03T18:07:11.136Z"
   },
   {
    "duration": 7,
    "start_time": "2025-08-03T18:07:11.145Z"
   },
   {
    "duration": 8,
    "start_time": "2025-08-03T18:07:11.154Z"
   },
   {
    "duration": 137,
    "start_time": "2025-08-03T18:07:11.164Z"
   },
   {
    "duration": 0,
    "start_time": "2025-08-03T18:07:11.303Z"
   },
   {
    "duration": 0,
    "start_time": "2025-08-03T18:07:11.304Z"
   },
   {
    "duration": 0,
    "start_time": "2025-08-03T18:07:11.305Z"
   },
   {
    "duration": 0,
    "start_time": "2025-08-03T18:07:11.306Z"
   },
   {
    "duration": 0,
    "start_time": "2025-08-03T18:07:11.307Z"
   },
   {
    "duration": 0,
    "start_time": "2025-08-03T18:07:11.308Z"
   },
   {
    "duration": 0,
    "start_time": "2025-08-03T18:07:11.309Z"
   },
   {
    "duration": 0,
    "start_time": "2025-08-03T18:07:11.310Z"
   },
   {
    "duration": 56912,
    "start_time": "2025-08-03T18:08:18.468Z"
   },
   {
    "duration": 158608,
    "start_time": "2025-08-03T18:09:20.900Z"
   },
   {
    "duration": 16421,
    "start_time": "2025-08-03T18:12:10.111Z"
   },
   {
    "duration": 1502,
    "start_time": "2025-08-03T18:12:26.535Z"
   },
   {
    "duration": 11,
    "start_time": "2025-08-03T18:12:28.039Z"
   },
   {
    "duration": 7,
    "start_time": "2025-08-03T18:12:28.053Z"
   },
   {
    "duration": 10,
    "start_time": "2025-08-03T18:12:28.062Z"
   },
   {
    "duration": 10,
    "start_time": "2025-08-03T18:12:28.073Z"
   },
   {
    "duration": 9,
    "start_time": "2025-08-03T18:12:28.084Z"
   },
   {
    "duration": 44,
    "start_time": "2025-08-03T18:12:28.095Z"
   },
   {
    "duration": 8,
    "start_time": "2025-08-03T18:12:28.141Z"
   },
   {
    "duration": 106,
    "start_time": "2025-08-03T18:12:28.151Z"
   },
   {
    "duration": 33,
    "start_time": "2025-08-03T18:12:28.259Z"
   },
   {
    "duration": 18,
    "start_time": "2025-08-03T18:12:28.294Z"
   },
   {
    "duration": 32,
    "start_time": "2025-08-03T18:12:28.314Z"
   },
   {
    "duration": 16,
    "start_time": "2025-08-03T18:12:28.348Z"
   },
   {
    "duration": 9,
    "start_time": "2025-08-03T18:12:28.366Z"
   },
   {
    "duration": 21,
    "start_time": "2025-08-03T18:12:28.376Z"
   },
   {
    "duration": 46,
    "start_time": "2025-08-03T18:12:28.399Z"
   },
   {
    "duration": 128,
    "start_time": "2025-08-03T18:12:28.447Z"
   },
   {
    "duration": 4,
    "start_time": "2025-08-03T18:12:28.577Z"
   },
   {
    "duration": 17,
    "start_time": "2025-08-03T18:12:28.583Z"
   },
   {
    "duration": 12,
    "start_time": "2025-08-03T18:12:28.601Z"
   },
   {
    "duration": 22,
    "start_time": "2025-08-03T18:12:28.615Z"
   },
   {
    "duration": 15,
    "start_time": "2025-08-03T18:12:28.639Z"
   },
   {
    "duration": 14,
    "start_time": "2025-08-03T18:12:28.656Z"
   },
   {
    "duration": 12,
    "start_time": "2025-08-03T18:12:28.672Z"
   },
   {
    "duration": 10,
    "start_time": "2025-08-03T18:12:28.686Z"
   },
   {
    "duration": 296,
    "start_time": "2025-08-03T18:12:28.698Z"
   },
   {
    "duration": 5,
    "start_time": "2025-08-03T18:12:29.001Z"
   },
   {
    "duration": 70,
    "start_time": "2025-08-03T18:12:29.008Z"
   },
   {
    "duration": 60,
    "start_time": "2025-08-03T18:12:29.080Z"
   },
   {
    "duration": 116,
    "start_time": "2025-08-03T18:12:29.142Z"
   },
   {
    "duration": 5,
    "start_time": "2025-08-03T18:12:29.260Z"
   },
   {
    "duration": 93,
    "start_time": "2025-08-03T18:12:29.267Z"
   },
   {
    "duration": 8,
    "start_time": "2025-08-03T18:12:29.362Z"
   },
   {
    "duration": 7,
    "start_time": "2025-08-03T18:12:29.372Z"
   },
   {
    "duration": 9,
    "start_time": "2025-08-03T18:12:29.381Z"
   },
   {
    "duration": 83,
    "start_time": "2025-08-03T18:12:29.392Z"
   },
   {
    "duration": 5,
    "start_time": "2025-08-03T18:12:29.477Z"
   },
   {
    "duration": 80,
    "start_time": "2025-08-03T18:12:29.484Z"
   },
   {
    "duration": 4,
    "start_time": "2025-08-03T18:12:29.566Z"
   },
   {
    "duration": 109,
    "start_time": "2025-08-03T18:12:29.572Z"
   },
   {
    "duration": 10,
    "start_time": "2025-08-03T18:12:29.682Z"
   },
   {
    "duration": 190,
    "start_time": "2025-08-03T18:12:29.693Z"
   },
   {
    "duration": 5,
    "start_time": "2025-08-03T18:12:29.885Z"
   },
   {
    "duration": 70,
    "start_time": "2025-08-03T18:12:29.892Z"
   },
   {
    "duration": 6,
    "start_time": "2025-08-03T18:12:29.964Z"
   },
   {
    "duration": 35,
    "start_time": "2025-08-03T18:12:29.972Z"
   },
   {
    "duration": 25,
    "start_time": "2025-08-03T18:12:30.009Z"
   },
   {
    "duration": 85,
    "start_time": "2025-08-03T18:12:30.036Z"
   },
   {
    "duration": 37,
    "start_time": "2025-08-03T18:12:30.123Z"
   },
   {
    "duration": 147,
    "start_time": "2025-08-03T18:12:30.161Z"
   },
   {
    "duration": 296,
    "start_time": "2025-08-03T18:12:30.311Z"
   },
   {
    "duration": 31,
    "start_time": "2025-08-03T18:12:30.609Z"
   },
   {
    "duration": 406,
    "start_time": "2025-08-03T18:12:30.642Z"
   },
   {
    "duration": 7,
    "start_time": "2025-08-03T18:12:31.050Z"
   },
   {
    "duration": 33,
    "start_time": "2025-08-03T18:12:31.059Z"
   },
   {
    "duration": 41,
    "start_time": "2025-08-03T18:12:31.094Z"
   },
   {
    "duration": 56,
    "start_time": "2025-08-03T18:12:31.137Z"
   },
   {
    "duration": 7,
    "start_time": "2025-08-03T18:12:31.195Z"
   },
   {
    "duration": 82,
    "start_time": "2025-08-03T18:12:31.204Z"
   },
   {
    "duration": 6,
    "start_time": "2025-08-03T18:12:31.288Z"
   },
   {
    "duration": 90,
    "start_time": "2025-08-03T18:12:31.296Z"
   },
   {
    "duration": 7,
    "start_time": "2025-08-03T18:12:31.387Z"
   },
   {
    "duration": 44,
    "start_time": "2025-08-03T18:12:31.396Z"
   },
   {
    "duration": 18,
    "start_time": "2025-08-03T18:12:31.442Z"
   },
   {
    "duration": 73,
    "start_time": "2025-08-03T18:12:31.462Z"
   },
   {
    "duration": 76,
    "start_time": "2025-08-03T18:12:31.537Z"
   },
   {
    "duration": 111,
    "start_time": "2025-08-03T18:12:31.615Z"
   },
   {
    "duration": 152,
    "start_time": "2025-08-03T18:12:31.728Z"
   },
   {
    "duration": 45,
    "start_time": "2025-08-03T18:12:31.882Z"
   },
   {
    "duration": 15,
    "start_time": "2025-08-03T18:12:31.928Z"
   },
   {
    "duration": 36,
    "start_time": "2025-08-03T18:12:31.945Z"
   },
   {
    "duration": 5,
    "start_time": "2025-08-03T18:12:31.983Z"
   },
   {
    "duration": 58,
    "start_time": "2025-08-03T18:12:31.990Z"
   },
   {
    "duration": 6,
    "start_time": "2025-08-03T18:12:32.050Z"
   },
   {
    "duration": 55,
    "start_time": "2025-08-03T18:12:32.057Z"
   },
   {
    "duration": 5,
    "start_time": "2025-08-03T18:12:32.114Z"
   },
   {
    "duration": 93,
    "start_time": "2025-08-03T18:12:32.121Z"
   },
   {
    "duration": 90,
    "start_time": "2025-08-03T18:12:32.216Z"
   },
   {
    "duration": 65,
    "start_time": "2025-08-03T18:12:32.308Z"
   },
   {
    "duration": 12,
    "start_time": "2025-08-03T18:12:32.375Z"
   },
   {
    "duration": 6,
    "start_time": "2025-08-03T18:12:32.392Z"
   },
   {
    "duration": 69,
    "start_time": "2025-08-03T18:12:32.399Z"
   },
   {
    "duration": 130,
    "start_time": "2025-08-03T18:12:32.470Z"
   },
   {
    "duration": 53,
    "start_time": "2025-08-03T18:12:32.602Z"
   },
   {
    "duration": 238,
    "start_time": "2025-08-03T18:12:32.657Z"
   },
   {
    "duration": 6,
    "start_time": "2025-08-03T18:12:32.897Z"
   },
   {
    "duration": 33,
    "start_time": "2025-08-03T18:12:32.904Z"
   },
   {
    "duration": 1395,
    "start_time": "2025-08-03T18:12:32.939Z"
   },
   {
    "duration": 1362,
    "start_time": "2025-08-03T18:12:34.336Z"
   },
   {
    "duration": 15,
    "start_time": "2025-08-03T18:12:35.700Z"
   },
   {
    "duration": 183,
    "start_time": "2025-08-03T18:12:35.717Z"
   },
   {
    "duration": 28,
    "start_time": "2025-08-03T18:12:35.902Z"
   },
   {
    "duration": 41,
    "start_time": "2025-08-03T18:12:35.932Z"
   },
   {
    "duration": 14,
    "start_time": "2025-08-03T18:12:35.975Z"
   },
   {
    "duration": 15,
    "start_time": "2025-08-03T18:12:35.991Z"
   },
   {
    "duration": 27,
    "start_time": "2025-08-03T18:12:36.007Z"
   },
   {
    "duration": 8,
    "start_time": "2025-08-03T18:12:36.036Z"
   },
   {
    "duration": 7,
    "start_time": "2025-08-03T18:12:36.046Z"
   },
   {
    "duration": 7,
    "start_time": "2025-08-03T18:12:36.054Z"
   },
   {
    "duration": 14,
    "start_time": "2025-08-03T18:12:36.063Z"
   },
   {
    "duration": 6,
    "start_time": "2025-08-03T18:12:36.079Z"
   },
   {
    "duration": 10,
    "start_time": "2025-08-03T18:12:36.087Z"
   },
   {
    "duration": 6,
    "start_time": "2025-08-03T18:12:36.099Z"
   },
   {
    "duration": 17,
    "start_time": "2025-08-03T18:12:36.107Z"
   },
   {
    "duration": 10,
    "start_time": "2025-08-03T18:12:36.134Z"
   },
   {
    "duration": 6,
    "start_time": "2025-08-03T18:12:36.145Z"
   },
   {
    "duration": 11,
    "start_time": "2025-08-03T18:12:36.153Z"
   },
   {
    "duration": 241,
    "start_time": "2025-08-03T18:12:36.166Z"
   },
   {
    "duration": 0,
    "start_time": "2025-08-03T18:12:36.408Z"
   },
   {
    "duration": 0,
    "start_time": "2025-08-03T18:12:36.410Z"
   },
   {
    "duration": 0,
    "start_time": "2025-08-03T18:12:36.412Z"
   },
   {
    "duration": 0,
    "start_time": "2025-08-03T18:12:36.413Z"
   },
   {
    "duration": 0,
    "start_time": "2025-08-03T18:12:36.415Z"
   },
   {
    "duration": 0,
    "start_time": "2025-08-03T18:12:36.416Z"
   },
   {
    "duration": 0,
    "start_time": "2025-08-03T18:12:36.417Z"
   },
   {
    "duration": 0,
    "start_time": "2025-08-03T18:12:36.434Z"
   },
   {
    "duration": 236613,
    "start_time": "2025-08-03T18:13:04.683Z"
   },
   {
    "duration": 3,
    "start_time": "2025-08-03T18:19:16.313Z"
   },
   {
    "duration": 5,
    "start_time": "2025-08-03T18:20:01.855Z"
   },
   {
    "duration": 188188,
    "start_time": "2025-08-03T18:20:22.872Z"
   },
   {
    "duration": 17928,
    "start_time": "2025-08-03T18:25:08.760Z"
   },
   {
    "duration": 1392,
    "start_time": "2025-08-03T18:25:26.691Z"
   },
   {
    "duration": 10,
    "start_time": "2025-08-03T18:25:28.086Z"
   },
   {
    "duration": 7,
    "start_time": "2025-08-03T18:25:28.098Z"
   },
   {
    "duration": 27,
    "start_time": "2025-08-03T18:25:28.108Z"
   },
   {
    "duration": 18,
    "start_time": "2025-08-03T18:25:28.136Z"
   },
   {
    "duration": 16,
    "start_time": "2025-08-03T18:25:28.156Z"
   },
   {
    "duration": 7,
    "start_time": "2025-08-03T18:25:28.174Z"
   },
   {
    "duration": 19,
    "start_time": "2025-08-03T18:25:28.183Z"
   },
   {
    "duration": 90,
    "start_time": "2025-08-03T18:25:28.204Z"
   },
   {
    "duration": 26,
    "start_time": "2025-08-03T18:25:28.295Z"
   },
   {
    "duration": 18,
    "start_time": "2025-08-03T18:25:28.323Z"
   },
   {
    "duration": 21,
    "start_time": "2025-08-03T18:25:28.343Z"
   },
   {
    "duration": 18,
    "start_time": "2025-08-03T18:25:28.367Z"
   },
   {
    "duration": 3,
    "start_time": "2025-08-03T18:25:28.387Z"
   },
   {
    "duration": 53,
    "start_time": "2025-08-03T18:25:28.392Z"
   },
   {
    "duration": 14,
    "start_time": "2025-08-03T18:25:28.446Z"
   },
   {
    "duration": 44,
    "start_time": "2025-08-03T18:25:28.461Z"
   },
   {
    "duration": 5,
    "start_time": "2025-08-03T18:25:28.506Z"
   },
   {
    "duration": 31,
    "start_time": "2025-08-03T18:25:28.512Z"
   },
   {
    "duration": 5,
    "start_time": "2025-08-03T18:25:28.544Z"
   },
   {
    "duration": 12,
    "start_time": "2025-08-03T18:25:28.550Z"
   },
   {
    "duration": 6,
    "start_time": "2025-08-03T18:25:28.564Z"
   },
   {
    "duration": 10,
    "start_time": "2025-08-03T18:25:28.572Z"
   },
   {
    "duration": 13,
    "start_time": "2025-08-03T18:25:28.584Z"
   },
   {
    "duration": 41,
    "start_time": "2025-08-03T18:25:28.599Z"
   },
   {
    "duration": 265,
    "start_time": "2025-08-03T18:25:28.643Z"
   },
   {
    "duration": 4,
    "start_time": "2025-08-03T18:25:28.909Z"
   },
   {
    "duration": 66,
    "start_time": "2025-08-03T18:25:28.915Z"
   },
   {
    "duration": 52,
    "start_time": "2025-08-03T18:25:28.983Z"
   },
   {
    "duration": 46,
    "start_time": "2025-08-03T18:25:29.036Z"
   },
   {
    "duration": 54,
    "start_time": "2025-08-03T18:25:29.083Z"
   },
   {
    "duration": 65,
    "start_time": "2025-08-03T18:25:29.138Z"
   },
   {
    "duration": 32,
    "start_time": "2025-08-03T18:25:29.204Z"
   },
   {
    "duration": 7,
    "start_time": "2025-08-03T18:25:29.237Z"
   },
   {
    "duration": 9,
    "start_time": "2025-08-03T18:25:29.246Z"
   },
   {
    "duration": 44,
    "start_time": "2025-08-03T18:25:29.257Z"
   },
   {
    "duration": 4,
    "start_time": "2025-08-03T18:25:29.303Z"
   },
   {
    "duration": 66,
    "start_time": "2025-08-03T18:25:29.309Z"
   },
   {
    "duration": 5,
    "start_time": "2025-08-03T18:25:29.377Z"
   },
   {
    "duration": 69,
    "start_time": "2025-08-03T18:25:29.387Z"
   },
   {
    "duration": 4,
    "start_time": "2025-08-03T18:25:29.458Z"
   },
   {
    "duration": 57,
    "start_time": "2025-08-03T18:25:29.464Z"
   },
   {
    "duration": 13,
    "start_time": "2025-08-03T18:25:29.523Z"
   },
   {
    "duration": 45,
    "start_time": "2025-08-03T18:25:29.537Z"
   },
   {
    "duration": 5,
    "start_time": "2025-08-03T18:25:29.584Z"
   },
   {
    "duration": 70,
    "start_time": "2025-08-03T18:25:29.591Z"
   },
   {
    "duration": 29,
    "start_time": "2025-08-03T18:25:29.663Z"
   },
   {
    "duration": 44,
    "start_time": "2025-08-03T18:25:29.693Z"
   },
   {
    "duration": 5,
    "start_time": "2025-08-03T18:25:29.739Z"
   },
   {
    "duration": 31,
    "start_time": "2025-08-03T18:25:29.746Z"
   },
   {
    "duration": 381,
    "start_time": "2025-08-03T18:25:29.778Z"
   },
   {
    "duration": 8,
    "start_time": "2025-08-03T18:25:30.161Z"
   },
   {
    "duration": 382,
    "start_time": "2025-08-03T18:25:30.171Z"
   },
   {
    "duration": 7,
    "start_time": "2025-08-03T18:25:30.555Z"
   },
   {
    "duration": 103,
    "start_time": "2025-08-03T18:25:30.564Z"
   },
   {
    "duration": 26,
    "start_time": "2025-08-03T18:25:30.669Z"
   },
   {
    "duration": 47,
    "start_time": "2025-08-03T18:25:30.696Z"
   },
   {
    "duration": 5,
    "start_time": "2025-08-03T18:25:30.745Z"
   },
   {
    "duration": 52,
    "start_time": "2025-08-03T18:25:30.752Z"
   },
   {
    "duration": 125,
    "start_time": "2025-08-03T18:25:30.806Z"
   },
   {
    "duration": 61,
    "start_time": "2025-08-03T18:25:30.933Z"
   },
   {
    "duration": 5,
    "start_time": "2025-08-03T18:25:30.996Z"
   },
   {
    "duration": 64,
    "start_time": "2025-08-03T18:25:31.003Z"
   },
   {
    "duration": 5,
    "start_time": "2025-08-03T18:25:31.069Z"
   },
   {
    "duration": 61,
    "start_time": "2025-08-03T18:25:31.076Z"
   },
   {
    "duration": 11,
    "start_time": "2025-08-03T18:25:31.140Z"
   },
   {
    "duration": 32,
    "start_time": "2025-08-03T18:25:31.153Z"
   },
   {
    "duration": 5,
    "start_time": "2025-08-03T18:25:31.188Z"
   },
   {
    "duration": 78,
    "start_time": "2025-08-03T18:25:31.196Z"
   },
   {
    "duration": 5,
    "start_time": "2025-08-03T18:25:31.276Z"
   },
   {
    "duration": 42,
    "start_time": "2025-08-03T18:25:31.283Z"
   },
   {
    "duration": 10,
    "start_time": "2025-08-03T18:25:31.335Z"
   },
   {
    "duration": 64,
    "start_time": "2025-08-03T18:25:31.347Z"
   },
   {
    "duration": 6,
    "start_time": "2025-08-03T18:25:31.413Z"
   },
   {
    "duration": 53,
    "start_time": "2025-08-03T18:25:31.421Z"
   },
   {
    "duration": 23,
    "start_time": "2025-08-03T18:25:31.476Z"
   },
   {
    "duration": 102,
    "start_time": "2025-08-03T18:25:31.501Z"
   },
   {
    "duration": 6,
    "start_time": "2025-08-03T18:25:31.604Z"
   },
   {
    "duration": 186,
    "start_time": "2025-08-03T18:25:31.612Z"
   },
   {
    "duration": 200,
    "start_time": "2025-08-03T18:25:31.800Z"
   },
   {
    "duration": 6,
    "start_time": "2025-08-03T18:25:32.002Z"
   },
   {
    "duration": 85,
    "start_time": "2025-08-03T18:25:32.010Z"
   },
   {
    "duration": 64,
    "start_time": "2025-08-03T18:25:32.097Z"
   },
   {
    "duration": 91,
    "start_time": "2025-08-03T18:25:32.163Z"
   },
   {
    "duration": 237,
    "start_time": "2025-08-03T18:25:32.256Z"
   },
   {
    "duration": 9,
    "start_time": "2025-08-03T18:25:32.496Z"
   },
   {
    "duration": 140,
    "start_time": "2025-08-03T18:25:32.506Z"
   },
   {
    "duration": 1450,
    "start_time": "2025-08-03T18:25:32.648Z"
   },
   {
    "duration": 1438,
    "start_time": "2025-08-03T18:25:34.100Z"
   },
   {
    "duration": 15,
    "start_time": "2025-08-03T18:25:35.540Z"
   },
   {
    "duration": 5,
    "start_time": "2025-08-03T18:25:35.556Z"
   },
   {
    "duration": 35,
    "start_time": "2025-08-03T18:25:35.563Z"
   },
   {
    "duration": 130,
    "start_time": "2025-08-03T18:25:35.600Z"
   },
   {
    "duration": 23,
    "start_time": "2025-08-03T18:25:35.732Z"
   },
   {
    "duration": 240,
    "start_time": "2025-08-03T18:25:35.757Z"
   },
   {
    "duration": 41,
    "start_time": "2025-08-03T18:25:35.999Z"
   },
   {
    "duration": 37,
    "start_time": "2025-08-03T18:25:36.042Z"
   },
   {
    "duration": 26,
    "start_time": "2025-08-03T18:25:36.080Z"
   },
   {
    "duration": 29,
    "start_time": "2025-08-03T18:25:36.108Z"
   },
   {
    "duration": 57,
    "start_time": "2025-08-03T18:25:36.138Z"
   },
   {
    "duration": 26,
    "start_time": "2025-08-03T18:25:36.197Z"
   },
   {
    "duration": 151,
    "start_time": "2025-08-03T18:25:36.224Z"
   },
   {
    "duration": 12,
    "start_time": "2025-08-03T18:25:36.377Z"
   },
   {
    "duration": 24,
    "start_time": "2025-08-03T18:25:36.391Z"
   },
   {
    "duration": 13,
    "start_time": "2025-08-03T18:25:36.417Z"
   },
   {
    "duration": 27,
    "start_time": "2025-08-03T18:25:36.432Z"
   },
   {
    "duration": 11,
    "start_time": "2025-08-03T18:25:36.461Z"
   },
   {
    "duration": 138,
    "start_time": "2025-08-03T18:25:36.473Z"
   },
   {
    "duration": 0,
    "start_time": "2025-08-03T18:25:36.613Z"
   },
   {
    "duration": 0,
    "start_time": "2025-08-03T18:25:36.614Z"
   },
   {
    "duration": 0,
    "start_time": "2025-08-03T18:25:36.615Z"
   },
   {
    "duration": 0,
    "start_time": "2025-08-03T18:25:36.616Z"
   },
   {
    "duration": 1,
    "start_time": "2025-08-03T18:25:36.617Z"
   },
   {
    "duration": 0,
    "start_time": "2025-08-03T18:25:36.619Z"
   },
   {
    "duration": 0,
    "start_time": "2025-08-03T18:25:36.620Z"
   },
   {
    "duration": 0,
    "start_time": "2025-08-03T18:25:36.621Z"
   },
   {
    "duration": 0,
    "start_time": "2025-08-03T18:25:36.634Z"
   },
   {
    "duration": 144104,
    "start_time": "2025-08-03T18:25:58.710Z"
   },
   {
    "duration": 5,
    "start_time": "2025-08-03T18:29:39.699Z"
   },
   {
    "duration": 302210,
    "start_time": "2025-08-03T18:29:46.726Z"
   },
   {
    "duration": 5574,
    "start_time": "2025-08-03T18:35:01.815Z"
   },
   {
    "duration": 6,
    "start_time": "2025-08-03T18:35:19.190Z"
   },
   {
    "duration": 7086,
    "start_time": "2025-08-03T18:35:26.177Z"
   },
   {
    "duration": 16817,
    "start_time": "2025-08-03T18:35:46.781Z"
   },
   {
    "duration": 1484,
    "start_time": "2025-08-03T18:36:03.601Z"
   },
   {
    "duration": 11,
    "start_time": "2025-08-03T18:36:05.087Z"
   },
   {
    "duration": 40,
    "start_time": "2025-08-03T18:36:05.101Z"
   },
   {
    "duration": 18,
    "start_time": "2025-08-03T18:36:05.143Z"
   },
   {
    "duration": 30,
    "start_time": "2025-08-03T18:36:05.163Z"
   },
   {
    "duration": 15,
    "start_time": "2025-08-03T18:36:05.195Z"
   },
   {
    "duration": 51,
    "start_time": "2025-08-03T18:36:05.212Z"
   },
   {
    "duration": 26,
    "start_time": "2025-08-03T18:36:05.265Z"
   },
   {
    "duration": 104,
    "start_time": "2025-08-03T18:36:05.294Z"
   },
   {
    "duration": 27,
    "start_time": "2025-08-03T18:36:05.400Z"
   },
   {
    "duration": 33,
    "start_time": "2025-08-03T18:36:05.428Z"
   },
   {
    "duration": 126,
    "start_time": "2025-08-03T18:36:05.462Z"
   },
   {
    "duration": 71,
    "start_time": "2025-08-03T18:36:05.590Z"
   },
   {
    "duration": 28,
    "start_time": "2025-08-03T18:36:05.662Z"
   },
   {
    "duration": 45,
    "start_time": "2025-08-03T18:36:05.692Z"
   },
   {
    "duration": 53,
    "start_time": "2025-08-03T18:36:05.739Z"
   },
   {
    "duration": 165,
    "start_time": "2025-08-03T18:36:05.794Z"
   },
   {
    "duration": 91,
    "start_time": "2025-08-03T18:36:05.960Z"
   },
   {
    "duration": 22,
    "start_time": "2025-08-03T18:36:06.053Z"
   },
   {
    "duration": 10,
    "start_time": "2025-08-03T18:36:06.077Z"
   },
   {
    "duration": 8,
    "start_time": "2025-08-03T18:36:06.089Z"
   },
   {
    "duration": 10,
    "start_time": "2025-08-03T18:36:06.099Z"
   },
   {
    "duration": 49,
    "start_time": "2025-08-03T18:36:06.110Z"
   },
   {
    "duration": 20,
    "start_time": "2025-08-03T18:36:06.161Z"
   },
   {
    "duration": 17,
    "start_time": "2025-08-03T18:36:06.183Z"
   },
   {
    "duration": 231,
    "start_time": "2025-08-03T18:36:06.202Z"
   },
   {
    "duration": 5,
    "start_time": "2025-08-03T18:36:06.437Z"
   },
   {
    "duration": 95,
    "start_time": "2025-08-03T18:36:06.444Z"
   },
   {
    "duration": 5,
    "start_time": "2025-08-03T18:36:06.540Z"
   },
   {
    "duration": 152,
    "start_time": "2025-08-03T18:36:06.547Z"
   },
   {
    "duration": 4,
    "start_time": "2025-08-03T18:36:06.701Z"
   },
   {
    "duration": 88,
    "start_time": "2025-08-03T18:36:06.707Z"
   },
   {
    "duration": 8,
    "start_time": "2025-08-03T18:36:06.797Z"
   },
   {
    "duration": 125,
    "start_time": "2025-08-03T18:36:06.806Z"
   },
   {
    "duration": 29,
    "start_time": "2025-08-03T18:36:06.932Z"
   },
   {
    "duration": 52,
    "start_time": "2025-08-03T18:36:06.963Z"
   },
   {
    "duration": 5,
    "start_time": "2025-08-03T18:36:07.017Z"
   },
   {
    "duration": 57,
    "start_time": "2025-08-03T18:36:07.023Z"
   },
   {
    "duration": 4,
    "start_time": "2025-08-03T18:36:07.082Z"
   },
   {
    "duration": 61,
    "start_time": "2025-08-03T18:36:07.088Z"
   },
   {
    "duration": 4,
    "start_time": "2025-08-03T18:36:07.151Z"
   },
   {
    "duration": 48,
    "start_time": "2025-08-03T18:36:07.157Z"
   },
   {
    "duration": 5,
    "start_time": "2025-08-03T18:36:07.207Z"
   },
   {
    "duration": 64,
    "start_time": "2025-08-03T18:36:07.213Z"
   },
   {
    "duration": 5,
    "start_time": "2025-08-03T18:36:07.279Z"
   },
   {
    "duration": 54,
    "start_time": "2025-08-03T18:36:07.286Z"
   },
   {
    "duration": 5,
    "start_time": "2025-08-03T18:36:07.341Z"
   },
   {
    "duration": 45,
    "start_time": "2025-08-03T18:36:07.348Z"
   },
   {
    "duration": 5,
    "start_time": "2025-08-03T18:36:07.395Z"
   },
   {
    "duration": 81,
    "start_time": "2025-08-03T18:36:07.401Z"
   },
   {
    "duration": 213,
    "start_time": "2025-08-03T18:36:07.484Z"
   },
   {
    "duration": 41,
    "start_time": "2025-08-03T18:36:07.699Z"
   },
   {
    "duration": 357,
    "start_time": "2025-08-03T18:36:07.742Z"
   },
   {
    "duration": 6,
    "start_time": "2025-08-03T18:36:08.101Z"
   },
   {
    "duration": 32,
    "start_time": "2025-08-03T18:36:08.109Z"
   },
   {
    "duration": 7,
    "start_time": "2025-08-03T18:36:08.143Z"
   },
   {
    "duration": 104,
    "start_time": "2025-08-03T18:36:08.152Z"
   },
   {
    "duration": 7,
    "start_time": "2025-08-03T18:36:08.258Z"
   },
   {
    "duration": 33,
    "start_time": "2025-08-03T18:36:08.267Z"
   },
   {
    "duration": 32,
    "start_time": "2025-08-03T18:36:08.302Z"
   },
   {
    "duration": 115,
    "start_time": "2025-08-03T18:36:08.336Z"
   },
   {
    "duration": 6,
    "start_time": "2025-08-03T18:36:08.453Z"
   },
   {
    "duration": 38,
    "start_time": "2025-08-03T18:36:08.460Z"
   },
   {
    "duration": 5,
    "start_time": "2025-08-03T18:36:08.499Z"
   },
   {
    "duration": 57,
    "start_time": "2025-08-03T18:36:08.505Z"
   },
   {
    "duration": 71,
    "start_time": "2025-08-03T18:36:08.563Z"
   },
   {
    "duration": 30,
    "start_time": "2025-08-03T18:36:08.635Z"
   },
   {
    "duration": 4,
    "start_time": "2025-08-03T18:36:08.666Z"
   },
   {
    "duration": 63,
    "start_time": "2025-08-03T18:36:08.671Z"
   },
   {
    "duration": 5,
    "start_time": "2025-08-03T18:36:08.736Z"
   },
   {
    "duration": 86,
    "start_time": "2025-08-03T18:36:08.743Z"
   },
   {
    "duration": 92,
    "start_time": "2025-08-03T18:36:08.831Z"
   },
   {
    "duration": 50,
    "start_time": "2025-08-03T18:36:08.925Z"
   },
   {
    "duration": 5,
    "start_time": "2025-08-03T18:36:08.976Z"
   },
   {
    "duration": 49,
    "start_time": "2025-08-03T18:36:08.982Z"
   },
   {
    "duration": 4,
    "start_time": "2025-08-03T18:36:09.032Z"
   },
   {
    "duration": 48,
    "start_time": "2025-08-03T18:36:09.038Z"
   },
   {
    "duration": 7,
    "start_time": "2025-08-03T18:36:09.088Z"
   },
   {
    "duration": 57,
    "start_time": "2025-08-03T18:36:09.096Z"
   },
   {
    "duration": 12,
    "start_time": "2025-08-03T18:36:09.155Z"
   },
   {
    "duration": 5,
    "start_time": "2025-08-03T18:36:09.174Z"
   },
   {
    "duration": 76,
    "start_time": "2025-08-03T18:36:09.181Z"
   },
   {
    "duration": 47,
    "start_time": "2025-08-03T18:36:09.259Z"
   },
   {
    "duration": 81,
    "start_time": "2025-08-03T18:36:09.308Z"
   },
   {
    "duration": 290,
    "start_time": "2025-08-03T18:36:09.391Z"
   },
   {
    "duration": 6,
    "start_time": "2025-08-03T18:36:09.683Z"
   },
   {
    "duration": 55,
    "start_time": "2025-08-03T18:36:09.691Z"
   },
   {
    "duration": 1458,
    "start_time": "2025-08-03T18:36:09.748Z"
   },
   {
    "duration": 1381,
    "start_time": "2025-08-03T18:36:11.208Z"
   },
   {
    "duration": 22,
    "start_time": "2025-08-03T18:36:12.591Z"
   },
   {
    "duration": 26,
    "start_time": "2025-08-03T18:36:12.615Z"
   },
   {
    "duration": 20,
    "start_time": "2025-08-03T18:36:12.643Z"
   },
   {
    "duration": 28,
    "start_time": "2025-08-03T18:36:12.665Z"
   },
   {
    "duration": 7,
    "start_time": "2025-08-03T18:36:12.695Z"
   },
   {
    "duration": 5,
    "start_time": "2025-08-03T18:36:12.704Z"
   },
   {
    "duration": 31,
    "start_time": "2025-08-03T18:36:12.711Z"
   },
   {
    "duration": 5,
    "start_time": "2025-08-03T18:36:12.743Z"
   },
   {
    "duration": 10,
    "start_time": "2025-08-03T18:36:12.749Z"
   },
   {
    "duration": 7,
    "start_time": "2025-08-03T18:36:12.761Z"
   },
   {
    "duration": 12,
    "start_time": "2025-08-03T18:36:12.770Z"
   },
   {
    "duration": 9,
    "start_time": "2025-08-03T18:36:12.784Z"
   },
   {
    "duration": 126,
    "start_time": "2025-08-03T18:36:12.794Z"
   },
   {
    "duration": 15,
    "start_time": "2025-08-03T18:36:12.921Z"
   },
   {
    "duration": 68,
    "start_time": "2025-08-03T18:36:12.937Z"
   },
   {
    "duration": 17,
    "start_time": "2025-08-03T18:36:13.007Z"
   },
   {
    "duration": 12,
    "start_time": "2025-08-03T18:36:13.025Z"
   },
   {
    "duration": 4,
    "start_time": "2025-08-03T18:36:13.039Z"
   },
   {
    "duration": 139,
    "start_time": "2025-08-03T18:36:13.045Z"
   },
   {
    "duration": 0,
    "start_time": "2025-08-03T18:36:13.186Z"
   },
   {
    "duration": 0,
    "start_time": "2025-08-03T18:36:13.187Z"
   },
   {
    "duration": 0,
    "start_time": "2025-08-03T18:36:13.188Z"
   },
   {
    "duration": 0,
    "start_time": "2025-08-03T18:36:13.190Z"
   },
   {
    "duration": 0,
    "start_time": "2025-08-03T18:36:13.191Z"
   },
   {
    "duration": 0,
    "start_time": "2025-08-03T18:36:13.192Z"
   },
   {
    "duration": 0,
    "start_time": "2025-08-03T18:36:13.193Z"
   },
   {
    "duration": 0,
    "start_time": "2025-08-03T18:36:13.195Z"
   },
   {
    "duration": 0,
    "start_time": "2025-08-03T18:36:13.196Z"
   },
   {
    "duration": 0,
    "start_time": "2025-08-03T18:36:13.197Z"
   },
   {
    "duration": 33032,
    "start_time": "2025-08-03T18:36:51.651Z"
   },
   {
    "duration": 5,
    "start_time": "2025-08-03T18:42:46.508Z"
   },
   {
    "duration": 5,
    "start_time": "2025-08-03T18:43:12.419Z"
   },
   {
    "duration": 6,
    "start_time": "2025-08-03T18:43:40.214Z"
   },
   {
    "duration": 4,
    "start_time": "2025-08-03T18:48:32.231Z"
   },
   {
    "duration": 238971,
    "start_time": "2025-08-03T18:48:58.246Z"
   },
   {
    "duration": 4,
    "start_time": "2025-08-03T18:52:57.219Z"
   },
   {
    "duration": 19361,
    "start_time": "2025-08-03T18:59:29.192Z"
   },
   {
    "duration": 1522,
    "start_time": "2025-08-03T18:59:48.556Z"
   },
   {
    "duration": 10,
    "start_time": "2025-08-03T18:59:50.080Z"
   },
   {
    "duration": 8,
    "start_time": "2025-08-03T18:59:50.092Z"
   },
   {
    "duration": 9,
    "start_time": "2025-08-03T18:59:50.102Z"
   },
   {
    "duration": 22,
    "start_time": "2025-08-03T18:59:50.112Z"
   },
   {
    "duration": 15,
    "start_time": "2025-08-03T18:59:50.136Z"
   },
   {
    "duration": 14,
    "start_time": "2025-08-03T18:59:50.153Z"
   },
   {
    "duration": 12,
    "start_time": "2025-08-03T18:59:50.168Z"
   },
   {
    "duration": 3,
    "start_time": "2025-08-03T18:59:50.183Z"
   },
   {
    "duration": 108,
    "start_time": "2025-08-03T18:59:50.188Z"
   },
   {
    "duration": 37,
    "start_time": "2025-08-03T18:59:50.298Z"
   },
   {
    "duration": 20,
    "start_time": "2025-08-03T18:59:50.337Z"
   },
   {
    "duration": 117,
    "start_time": "2025-08-03T18:59:50.358Z"
   },
   {
    "duration": 49,
    "start_time": "2025-08-03T18:59:50.476Z"
   },
   {
    "duration": 14,
    "start_time": "2025-08-03T18:59:50.526Z"
   },
   {
    "duration": 20,
    "start_time": "2025-08-03T18:59:50.541Z"
   },
   {
    "duration": 23,
    "start_time": "2025-08-03T18:59:50.563Z"
   },
   {
    "duration": 48,
    "start_time": "2025-08-03T18:59:50.588Z"
   },
   {
    "duration": 4,
    "start_time": "2025-08-03T18:59:50.638Z"
   },
   {
    "duration": 79,
    "start_time": "2025-08-03T18:59:50.643Z"
   },
   {
    "duration": 5,
    "start_time": "2025-08-03T18:59:50.723Z"
   },
   {
    "duration": 30,
    "start_time": "2025-08-03T18:59:50.730Z"
   },
   {
    "duration": 19,
    "start_time": "2025-08-03T18:59:50.762Z"
   },
   {
    "duration": 23,
    "start_time": "2025-08-03T18:59:50.783Z"
   },
   {
    "duration": 10,
    "start_time": "2025-08-03T18:59:50.808Z"
   },
   {
    "duration": 25,
    "start_time": "2025-08-03T18:59:50.820Z"
   },
   {
    "duration": 206,
    "start_time": "2025-08-03T18:59:50.849Z"
   },
   {
    "duration": 4,
    "start_time": "2025-08-03T18:59:51.057Z"
   },
   {
    "duration": 105,
    "start_time": "2025-08-03T18:59:51.063Z"
   },
   {
    "duration": 6,
    "start_time": "2025-08-03T18:59:51.170Z"
   },
   {
    "duration": 95,
    "start_time": "2025-08-03T18:59:51.177Z"
   },
   {
    "duration": 4,
    "start_time": "2025-08-03T18:59:51.274Z"
   },
   {
    "duration": 90,
    "start_time": "2025-08-03T18:59:51.280Z"
   },
   {
    "duration": 8,
    "start_time": "2025-08-03T18:59:51.371Z"
   },
   {
    "duration": 12,
    "start_time": "2025-08-03T18:59:51.380Z"
   },
   {
    "duration": 22,
    "start_time": "2025-08-03T18:59:51.394Z"
   },
   {
    "duration": 86,
    "start_time": "2025-08-03T18:59:51.418Z"
   },
   {
    "duration": 4,
    "start_time": "2025-08-03T18:59:51.506Z"
   },
   {
    "duration": 46,
    "start_time": "2025-08-03T18:59:51.512Z"
   },
   {
    "duration": 4,
    "start_time": "2025-08-03T18:59:51.560Z"
   },
   {
    "duration": 53,
    "start_time": "2025-08-03T18:59:51.566Z"
   },
   {
    "duration": 14,
    "start_time": "2025-08-03T18:59:51.620Z"
   },
   {
    "duration": 53,
    "start_time": "2025-08-03T18:59:51.636Z"
   },
   {
    "duration": 4,
    "start_time": "2025-08-03T18:59:51.690Z"
   },
   {
    "duration": 164,
    "start_time": "2025-08-03T18:59:51.695Z"
   },
   {
    "duration": 113,
    "start_time": "2025-08-03T18:59:51.860Z"
   },
   {
    "duration": 53,
    "start_time": "2025-08-03T18:59:51.974Z"
   },
   {
    "duration": 29,
    "start_time": "2025-08-03T18:59:52.028Z"
   },
   {
    "duration": 208,
    "start_time": "2025-08-03T18:59:52.058Z"
   },
   {
    "duration": 31,
    "start_time": "2025-08-03T18:59:52.267Z"
   },
   {
    "duration": 56,
    "start_time": "2025-08-03T18:59:52.300Z"
   },
   {
    "duration": 280,
    "start_time": "2025-08-03T18:59:52.357Z"
   },
   {
    "duration": 11,
    "start_time": "2025-08-03T18:59:52.639Z"
   },
   {
    "duration": 389,
    "start_time": "2025-08-03T18:59:52.651Z"
   },
   {
    "duration": 7,
    "start_time": "2025-08-03T18:59:53.042Z"
   },
   {
    "duration": 29,
    "start_time": "2025-08-03T18:59:53.051Z"
   },
   {
    "duration": 24,
    "start_time": "2025-08-03T18:59:53.082Z"
   },
   {
    "duration": 65,
    "start_time": "2025-08-03T18:59:53.107Z"
   },
   {
    "duration": 4,
    "start_time": "2025-08-03T18:59:53.174Z"
   },
   {
    "duration": 53,
    "start_time": "2025-08-03T18:59:53.180Z"
   },
   {
    "duration": 5,
    "start_time": "2025-08-03T18:59:53.235Z"
   },
   {
    "duration": 44,
    "start_time": "2025-08-03T18:59:53.241Z"
   },
   {
    "duration": 5,
    "start_time": "2025-08-03T18:59:53.287Z"
   },
   {
    "duration": 54,
    "start_time": "2025-08-03T18:59:53.294Z"
   },
   {
    "duration": 6,
    "start_time": "2025-08-03T18:59:53.350Z"
   },
   {
    "duration": 44,
    "start_time": "2025-08-03T18:59:53.357Z"
   },
   {
    "duration": 5,
    "start_time": "2025-08-03T18:59:53.403Z"
   },
   {
    "duration": 29,
    "start_time": "2025-08-03T18:59:53.434Z"
   },
   {
    "duration": 4,
    "start_time": "2025-08-03T18:59:53.465Z"
   },
   {
    "duration": 73,
    "start_time": "2025-08-03T18:59:53.470Z"
   },
   {
    "duration": 5,
    "start_time": "2025-08-03T18:59:53.545Z"
   },
   {
    "duration": 67,
    "start_time": "2025-08-03T18:59:53.551Z"
   },
   {
    "duration": 25,
    "start_time": "2025-08-03T18:59:53.619Z"
   },
   {
    "duration": 44,
    "start_time": "2025-08-03T18:59:53.645Z"
   },
   {
    "duration": 5,
    "start_time": "2025-08-03T18:59:53.691Z"
   },
   {
    "duration": 129,
    "start_time": "2025-08-03T18:59:53.697Z"
   },
   {
    "duration": 4,
    "start_time": "2025-08-03T18:59:53.828Z"
   },
   {
    "duration": 47,
    "start_time": "2025-08-03T18:59:53.834Z"
   },
   {
    "duration": 64,
    "start_time": "2025-08-03T18:59:53.883Z"
   },
   {
    "duration": 47,
    "start_time": "2025-08-03T18:59:53.949Z"
   },
   {
    "duration": 11,
    "start_time": "2025-08-03T18:59:54.002Z"
   },
   {
    "duration": 4,
    "start_time": "2025-08-03T18:59:54.015Z"
   },
   {
    "duration": 59,
    "start_time": "2025-08-03T18:59:54.021Z"
   },
   {
    "duration": 56,
    "start_time": "2025-08-03T18:59:54.081Z"
   },
   {
    "duration": 131,
    "start_time": "2025-08-03T18:59:54.139Z"
   },
   {
    "duration": 221,
    "start_time": "2025-08-03T18:59:54.272Z"
   },
   {
    "duration": 5,
    "start_time": "2025-08-03T18:59:54.495Z"
   },
   {
    "duration": 36,
    "start_time": "2025-08-03T18:59:54.501Z"
   },
   {
    "duration": 1387,
    "start_time": "2025-08-03T18:59:54.538Z"
   },
   {
    "duration": 1456,
    "start_time": "2025-08-03T18:59:55.933Z"
   },
   {
    "duration": 15,
    "start_time": "2025-08-03T18:59:57.390Z"
   },
   {
    "duration": 25,
    "start_time": "2025-08-03T18:59:57.406Z"
   },
   {
    "duration": 39,
    "start_time": "2025-08-03T18:59:57.433Z"
   },
   {
    "duration": 33,
    "start_time": "2025-08-03T18:59:57.474Z"
   },
   {
    "duration": 7,
    "start_time": "2025-08-03T18:59:57.509Z"
   },
   {
    "duration": 30,
    "start_time": "2025-08-03T18:59:57.518Z"
   },
   {
    "duration": 25,
    "start_time": "2025-08-03T18:59:57.550Z"
   },
   {
    "duration": 4,
    "start_time": "2025-08-03T18:59:57.576Z"
   },
   {
    "duration": 11,
    "start_time": "2025-08-03T18:59:57.582Z"
   },
   {
    "duration": 14,
    "start_time": "2025-08-03T18:59:57.595Z"
   },
   {
    "duration": 29,
    "start_time": "2025-08-03T18:59:57.611Z"
   },
   {
    "duration": 16,
    "start_time": "2025-08-03T18:59:57.642Z"
   },
   {
    "duration": 22,
    "start_time": "2025-08-03T18:59:57.660Z"
   },
   {
    "duration": 10,
    "start_time": "2025-08-03T18:59:57.684Z"
   },
   {
    "duration": 8,
    "start_time": "2025-08-03T18:59:57.695Z"
   },
   {
    "duration": 94,
    "start_time": "2025-08-03T18:59:57.705Z"
   },
   {
    "duration": 30,
    "start_time": "2025-08-03T18:59:57.800Z"
   },
   {
    "duration": 21,
    "start_time": "2025-08-03T18:59:57.832Z"
   },
   {
    "duration": 23314,
    "start_time": "2025-08-03T18:59:57.855Z"
   },
   {
    "duration": 141691,
    "start_time": "2025-08-03T19:00:21.171Z"
   },
   {
    "duration": 19824,
    "start_time": "2025-08-03T19:02:42.863Z"
   },
   {
    "duration": 19321,
    "start_time": "2025-08-03T19:03:02.689Z"
   },
   {
    "duration": 90512,
    "start_time": "2025-08-03T19:03:22.013Z"
   },
   {
    "duration": 258943,
    "start_time": "2025-08-03T19:04:52.535Z"
   },
   {
    "duration": 146124,
    "start_time": "2025-08-03T19:09:11.480Z"
   },
   {
    "duration": 236868,
    "start_time": "2025-08-03T19:11:37.606Z"
   },
   {
    "duration": 32440,
    "start_time": "2025-08-03T19:15:34.476Z"
   },
   {
    "duration": 22215,
    "start_time": "2025-08-03T19:16:06.918Z"
   },
   {
    "duration": 106,
    "start_time": "2025-08-03T19:16:29.135Z"
   },
   {
    "duration": 26142,
    "start_time": "2025-08-03T19:18:24.635Z"
   },
   {
    "duration": 4,
    "start_time": "2025-08-03T19:24:44.967Z"
   },
   {
    "duration": 4,
    "start_time": "2025-08-03T19:24:53.619Z"
   },
   {
    "duration": 24299,
    "start_time": "2025-08-03T19:25:01.910Z"
   },
   {
    "duration": 4,
    "start_time": "2025-08-03T19:26:40.345Z"
   },
   {
    "duration": 4,
    "start_time": "2025-08-03T19:26:59.680Z"
   },
   {
    "duration": 22347,
    "start_time": "2025-08-03T19:27:05.733Z"
   },
   {
    "duration": 3,
    "start_time": "2025-08-03T19:27:48.789Z"
   },
   {
    "duration": 3,
    "start_time": "2025-08-03T19:27:53.741Z"
   },
   {
    "duration": 22501,
    "start_time": "2025-08-03T19:28:56.964Z"
   },
   {
    "duration": 6,
    "start_time": "2025-08-03T19:30:58.888Z"
   },
   {
    "duration": 21600,
    "start_time": "2025-08-03T19:31:03.498Z"
   },
   {
    "duration": 3,
    "start_time": "2025-08-03T19:36:13.142Z"
   },
   {
    "duration": 4,
    "start_time": "2025-08-03T19:36:15.406Z"
   },
   {
    "duration": 6,
    "start_time": "2025-08-03T19:36:31.902Z"
   },
   {
    "duration": 4,
    "start_time": "2025-08-03T19:36:55.670Z"
   },
   {
    "duration": 4,
    "start_time": "2025-08-03T19:37:18.721Z"
   },
   {
    "duration": 25453,
    "start_time": "2025-08-03T19:37:27.401Z"
   },
   {
    "duration": 168313,
    "start_time": "2025-08-03T19:39:05.759Z"
   },
   {
    "duration": 19468,
    "start_time": "2025-08-03T19:42:10.194Z"
   },
   {
    "duration": 1553,
    "start_time": "2025-08-03T19:42:29.664Z"
   },
   {
    "duration": 10,
    "start_time": "2025-08-03T19:42:31.218Z"
   },
   {
    "duration": 60,
    "start_time": "2025-08-03T19:42:31.236Z"
   },
   {
    "duration": 44,
    "start_time": "2025-08-03T19:42:31.298Z"
   },
   {
    "duration": 14,
    "start_time": "2025-08-03T19:42:31.345Z"
   },
   {
    "duration": 41,
    "start_time": "2025-08-03T19:42:31.361Z"
   },
   {
    "duration": 29,
    "start_time": "2025-08-03T19:42:31.404Z"
   },
   {
    "duration": 28,
    "start_time": "2025-08-03T19:42:31.435Z"
   },
   {
    "duration": 100,
    "start_time": "2025-08-03T19:42:31.465Z"
   },
   {
    "duration": 28,
    "start_time": "2025-08-03T19:42:31.567Z"
   },
   {
    "duration": 17,
    "start_time": "2025-08-03T19:42:31.596Z"
   },
   {
    "duration": 146,
    "start_time": "2025-08-03T19:42:31.615Z"
   },
   {
    "duration": 16,
    "start_time": "2025-08-03T19:42:31.762Z"
   },
   {
    "duration": 18,
    "start_time": "2025-08-03T19:42:31.779Z"
   },
   {
    "duration": 45,
    "start_time": "2025-08-03T19:42:31.799Z"
   },
   {
    "duration": 16,
    "start_time": "2025-08-03T19:42:31.846Z"
   },
   {
    "duration": 120,
    "start_time": "2025-08-03T19:42:31.864Z"
   },
   {
    "duration": 4,
    "start_time": "2025-08-03T19:42:31.985Z"
   },
   {
    "duration": 111,
    "start_time": "2025-08-03T19:42:31.990Z"
   },
   {
    "duration": 5,
    "start_time": "2025-08-03T19:42:32.103Z"
   },
   {
    "duration": 50,
    "start_time": "2025-08-03T19:42:32.109Z"
   },
   {
    "duration": 25,
    "start_time": "2025-08-03T19:42:32.161Z"
   },
   {
    "duration": 9,
    "start_time": "2025-08-03T19:42:32.188Z"
   },
   {
    "duration": 10,
    "start_time": "2025-08-03T19:42:32.198Z"
   },
   {
    "duration": 13,
    "start_time": "2025-08-03T19:42:32.209Z"
   },
   {
    "duration": 175,
    "start_time": "2025-08-03T19:42:32.224Z"
   },
   {
    "duration": 5,
    "start_time": "2025-08-03T19:42:32.403Z"
   },
   {
    "duration": 153,
    "start_time": "2025-08-03T19:42:32.410Z"
   },
   {
    "duration": 22,
    "start_time": "2025-08-03T19:42:32.565Z"
   },
   {
    "duration": 86,
    "start_time": "2025-08-03T19:42:32.589Z"
   },
   {
    "duration": 188,
    "start_time": "2025-08-03T19:42:32.677Z"
   },
   {
    "duration": 57,
    "start_time": "2025-08-03T19:42:32.867Z"
   },
   {
    "duration": 8,
    "start_time": "2025-08-03T19:42:32.926Z"
   },
   {
    "duration": 17,
    "start_time": "2025-08-03T19:42:32.935Z"
   },
   {
    "duration": 7,
    "start_time": "2025-08-03T19:42:32.953Z"
   },
   {
    "duration": 45,
    "start_time": "2025-08-03T19:42:32.961Z"
   },
   {
    "duration": 5,
    "start_time": "2025-08-03T19:42:33.007Z"
   },
   {
    "duration": 80,
    "start_time": "2025-08-03T19:42:33.013Z"
   },
   {
    "duration": 4,
    "start_time": "2025-08-03T19:42:33.095Z"
   },
   {
    "duration": 68,
    "start_time": "2025-08-03T19:42:33.100Z"
   },
   {
    "duration": 83,
    "start_time": "2025-08-03T19:42:33.170Z"
   },
   {
    "duration": 56,
    "start_time": "2025-08-03T19:42:33.255Z"
   },
   {
    "duration": 4,
    "start_time": "2025-08-03T19:42:33.313Z"
   },
   {
    "duration": 61,
    "start_time": "2025-08-03T19:42:33.319Z"
   },
   {
    "duration": 6,
    "start_time": "2025-08-03T19:42:33.382Z"
   },
   {
    "duration": 67,
    "start_time": "2025-08-03T19:42:33.390Z"
   },
   {
    "duration": 29,
    "start_time": "2025-08-03T19:42:33.459Z"
   },
   {
    "duration": 45,
    "start_time": "2025-08-03T19:42:33.490Z"
   },
   {
    "duration": 23,
    "start_time": "2025-08-03T19:42:33.538Z"
   },
   {
    "duration": 50,
    "start_time": "2025-08-03T19:42:33.563Z"
   },
   {
    "duration": 280,
    "start_time": "2025-08-03T19:42:33.614Z"
   },
   {
    "duration": 8,
    "start_time": "2025-08-03T19:42:33.896Z"
   },
   {
    "duration": 398,
    "start_time": "2025-08-03T19:42:33.906Z"
   },
   {
    "duration": 6,
    "start_time": "2025-08-03T19:42:34.306Z"
   },
   {
    "duration": 36,
    "start_time": "2025-08-03T19:42:34.314Z"
   },
   {
    "duration": 7,
    "start_time": "2025-08-03T19:42:34.353Z"
   },
   {
    "duration": 100,
    "start_time": "2025-08-03T19:42:34.363Z"
   },
   {
    "duration": 5,
    "start_time": "2025-08-03T19:42:34.465Z"
   },
   {
    "duration": 377,
    "start_time": "2025-08-03T19:42:34.472Z"
   },
   {
    "duration": 30,
    "start_time": "2025-08-03T19:42:34.851Z"
   },
   {
    "duration": 54,
    "start_time": "2025-08-03T19:42:34.883Z"
   },
   {
    "duration": 8,
    "start_time": "2025-08-03T19:42:34.939Z"
   },
   {
    "duration": 30,
    "start_time": "2025-08-03T19:42:34.949Z"
   },
   {
    "duration": 5,
    "start_time": "2025-08-03T19:42:34.980Z"
   },
   {
    "duration": 66,
    "start_time": "2025-08-03T19:42:34.986Z"
   },
   {
    "duration": 7,
    "start_time": "2025-08-03T19:42:35.054Z"
   },
   {
    "duration": 38,
    "start_time": "2025-08-03T19:42:35.063Z"
   },
   {
    "duration": 5,
    "start_time": "2025-08-03T19:42:35.103Z"
   },
   {
    "duration": 184,
    "start_time": "2025-08-03T19:42:35.109Z"
   },
   {
    "duration": 5,
    "start_time": "2025-08-03T19:42:35.294Z"
   },
   {
    "duration": 32,
    "start_time": "2025-08-03T19:42:35.300Z"
   },
   {
    "duration": 13,
    "start_time": "2025-08-03T19:42:35.334Z"
   },
   {
    "duration": 80,
    "start_time": "2025-08-03T19:42:35.349Z"
   },
   {
    "duration": 43,
    "start_time": "2025-08-03T19:42:35.431Z"
   },
   {
    "duration": 36,
    "start_time": "2025-08-03T19:42:35.476Z"
   },
   {
    "duration": 5,
    "start_time": "2025-08-03T19:42:35.513Z"
   },
   {
    "duration": 68,
    "start_time": "2025-08-03T19:42:35.519Z"
   },
   {
    "duration": 5,
    "start_time": "2025-08-03T19:42:35.588Z"
   },
   {
    "duration": 69,
    "start_time": "2025-08-03T19:42:35.595Z"
   },
   {
    "duration": 22,
    "start_time": "2025-08-03T19:42:35.666Z"
   },
   {
    "duration": 3,
    "start_time": "2025-08-03T19:42:35.694Z"
   },
   {
    "duration": 92,
    "start_time": "2025-08-03T19:42:35.699Z"
   },
   {
    "duration": 54,
    "start_time": "2025-08-03T19:42:35.793Z"
   },
   {
    "duration": 171,
    "start_time": "2025-08-03T19:42:35.848Z"
   },
   {
    "duration": 275,
    "start_time": "2025-08-03T19:42:36.020Z"
   },
   {
    "duration": 5,
    "start_time": "2025-08-03T19:42:36.297Z"
   },
   {
    "duration": 10,
    "start_time": "2025-08-03T19:42:36.303Z"
   },
   {
    "duration": 1371,
    "start_time": "2025-08-03T19:42:36.334Z"
   },
   {
    "duration": 1272,
    "start_time": "2025-08-03T19:42:37.706Z"
   },
   {
    "duration": 14,
    "start_time": "2025-08-03T19:42:38.980Z"
   },
   {
    "duration": 5,
    "start_time": "2025-08-03T19:42:38.996Z"
   },
   {
    "duration": 41,
    "start_time": "2025-08-03T19:42:39.002Z"
   },
   {
    "duration": 31,
    "start_time": "2025-08-03T19:42:39.044Z"
   },
   {
    "duration": 6,
    "start_time": "2025-08-03T19:42:39.076Z"
   },
   {
    "duration": 8,
    "start_time": "2025-08-03T19:42:39.084Z"
   },
   {
    "duration": 14,
    "start_time": "2025-08-03T19:42:39.094Z"
   },
   {
    "duration": 6,
    "start_time": "2025-08-03T19:42:39.109Z"
   },
   {
    "duration": 25,
    "start_time": "2025-08-03T19:42:39.116Z"
   },
   {
    "duration": 151,
    "start_time": "2025-08-03T19:42:39.143Z"
   },
   {
    "duration": 30,
    "start_time": "2025-08-03T19:42:39.296Z"
   },
   {
    "duration": 6,
    "start_time": "2025-08-03T19:42:39.327Z"
   },
   {
    "duration": 18,
    "start_time": "2025-08-03T19:42:39.334Z"
   },
   {
    "duration": 10,
    "start_time": "2025-08-03T19:42:39.354Z"
   },
   {
    "duration": 23,
    "start_time": "2025-08-03T19:42:39.367Z"
   },
   {
    "duration": 21,
    "start_time": "2025-08-03T19:42:39.391Z"
   },
   {
    "duration": 27,
    "start_time": "2025-08-03T19:42:39.414Z"
   },
   {
    "duration": 25146,
    "start_time": "2025-08-03T19:42:39.443Z"
   },
   {
    "duration": 117317,
    "start_time": "2025-08-03T19:43:04.591Z"
   },
   {
    "duration": 23166,
    "start_time": "2025-08-03T19:45:01.910Z"
   },
   {
    "duration": 21016,
    "start_time": "2025-08-03T19:45:25.078Z"
   },
   {
    "duration": 94512,
    "start_time": "2025-08-03T19:45:46.096Z"
   },
   {
    "duration": 259012,
    "start_time": "2025-08-03T19:47:20.610Z"
   },
   {
    "duration": 143612,
    "start_time": "2025-08-03T19:51:39.623Z"
   },
   {
    "duration": 248497,
    "start_time": "2025-08-03T19:54:03.236Z"
   },
   {
    "duration": 35025,
    "start_time": "2025-08-03T19:58:11.735Z"
   },
   {
    "duration": 23461,
    "start_time": "2025-08-03T19:58:46.762Z"
   },
   {
    "duration": 107,
    "start_time": "2025-08-03T19:59:10.226Z"
   },
   {
    "duration": 2200,
    "start_time": "2025-08-03T20:00:12.051Z"
   },
   {
    "duration": 3,
    "start_time": "2025-08-03T20:01:21.468Z"
   },
   {
    "duration": 104,
    "start_time": "2025-08-03T20:01:37.372Z"
   },
   {
    "duration": 322,
    "start_time": "2025-08-03T20:02:03.472Z"
   },
   {
    "duration": 42,
    "start_time": "2025-08-03T20:02:15.091Z"
   },
   {
    "duration": 43,
    "start_time": "2025-08-03T20:02:17.718Z"
   },
   {
    "duration": 42,
    "start_time": "2025-08-03T20:02:23.756Z"
   },
   {
    "duration": 4,
    "start_time": "2025-08-03T20:02:51.470Z"
   },
   {
    "duration": 5,
    "start_time": "2025-08-03T20:02:58.972Z"
   },
   {
    "duration": 6,
    "start_time": "2025-08-03T20:03:19.733Z"
   },
   {
    "duration": 7,
    "start_time": "2025-08-03T20:04:07.972Z"
   },
   {
    "duration": 503078,
    "start_time": "2025-08-03T20:04:25.219Z"
   },
   {
    "duration": 3,
    "start_time": "2025-08-03T20:12:56.946Z"
   },
   {
    "duration": 8,
    "start_time": "2025-08-03T20:13:03.232Z"
   },
   {
    "duration": 9451,
    "start_time": "2025-08-03T20:13:06.527Z"
   },
   {
    "duration": 157,
    "start_time": "2025-08-03T20:14:24.500Z"
   },
   {
    "duration": 3,
    "start_time": "2025-08-03T20:14:38.748Z"
   },
   {
    "duration": 18,
    "start_time": "2025-08-03T20:14:47.143Z"
   },
   {
    "duration": 4,
    "start_time": "2025-08-03T20:16:11.930Z"
   },
   {
    "duration": 430,
    "start_time": "2025-08-03T20:16:23.008Z"
   },
   {
    "duration": 1176629,
    "start_time": "2025-08-03T20:17:24.514Z"
   },
   {
    "duration": 5,
    "start_time": "2025-08-03T20:37:12.743Z"
   },
   {
    "duration": 3,
    "start_time": "2025-08-03T20:38:38.069Z"
   },
   {
    "duration": 8,
    "start_time": "2025-08-03T20:39:30.175Z"
   },
   {
    "duration": 102,
    "start_time": "2025-08-03T20:39:32.910Z"
   },
   {
    "duration": 7,
    "start_time": "2025-08-03T20:39:59.827Z"
   },
   {
    "duration": 770,
    "start_time": "2025-08-03T20:40:02.197Z"
   },
   {
    "duration": 7,
    "start_time": "2025-08-03T20:41:05.838Z"
   },
   {
    "duration": 739,
    "start_time": "2025-08-03T20:41:09.581Z"
   },
   {
    "duration": 7,
    "start_time": "2025-08-03T20:41:20.564Z"
   },
   {
    "duration": 7506,
    "start_time": "2025-08-03T20:41:24.275Z"
   },
   {
    "duration": 72,
    "start_time": "2025-08-03T20:44:15.270Z"
   },
   {
    "duration": 18,
    "start_time": "2025-08-03T20:44:30.708Z"
   },
   {
    "duration": 28,
    "start_time": "2025-08-03T20:45:08.994Z"
   },
   {
    "duration": 49,
    "start_time": "2025-08-03T20:45:33.862Z"
   },
   {
    "duration": 8,
    "start_time": "2025-08-03T20:49:21.280Z"
   },
   {
    "duration": 233,
    "start_time": "2025-08-03T20:49:23.556Z"
   },
   {
    "duration": 8,
    "start_time": "2025-08-03T20:49:59.889Z"
   },
   {
    "duration": 283144,
    "start_time": "2025-08-03T20:50:03.630Z"
   },
   {
    "duration": 0,
    "start_time": "2025-08-03T20:54:46.776Z"
   },
   {
    "duration": 8,
    "start_time": "2025-08-03T20:55:01.681Z"
   },
   {
    "duration": 47234,
    "start_time": "2025-08-04T09:54:42.137Z"
   },
   {
    "duration": 1875,
    "start_time": "2025-08-04T09:55:29.374Z"
   },
   {
    "duration": 11,
    "start_time": "2025-08-04T09:55:31.251Z"
   },
   {
    "duration": 171,
    "start_time": "2025-08-04T09:55:31.264Z"
   },
   {
    "duration": 79,
    "start_time": "2025-08-04T09:55:31.437Z"
   },
   {
    "duration": 37,
    "start_time": "2025-08-04T09:55:31.518Z"
   },
   {
    "duration": 44,
    "start_time": "2025-08-04T09:55:31.557Z"
   },
   {
    "duration": 51,
    "start_time": "2025-08-04T09:55:31.602Z"
   },
   {
    "duration": 32,
    "start_time": "2025-08-04T09:55:31.655Z"
   },
   {
    "duration": 127,
    "start_time": "2025-08-04T09:55:31.689Z"
   },
   {
    "duration": 28,
    "start_time": "2025-08-04T09:55:31.818Z"
   },
   {
    "duration": 19,
    "start_time": "2025-08-04T09:55:31.848Z"
   },
   {
    "duration": 145,
    "start_time": "2025-08-04T09:55:31.868Z"
   },
   {
    "duration": 70,
    "start_time": "2025-08-04T09:55:32.014Z"
   },
   {
    "duration": 45,
    "start_time": "2025-08-04T09:55:32.086Z"
   },
   {
    "duration": 28,
    "start_time": "2025-08-04T09:55:32.133Z"
   },
   {
    "duration": 15,
    "start_time": "2025-08-04T09:55:32.163Z"
   },
   {
    "duration": 57,
    "start_time": "2025-08-04T09:55:32.179Z"
   },
   {
    "duration": 33,
    "start_time": "2025-08-04T09:55:32.238Z"
   },
   {
    "duration": 84,
    "start_time": "2025-08-04T09:55:32.273Z"
   },
   {
    "duration": 30,
    "start_time": "2025-08-04T09:55:32.359Z"
   },
   {
    "duration": 49,
    "start_time": "2025-08-04T09:55:32.391Z"
   },
   {
    "duration": 93,
    "start_time": "2025-08-04T09:55:32.441Z"
   },
   {
    "duration": 76,
    "start_time": "2025-08-04T09:55:32.535Z"
   },
   {
    "duration": 37,
    "start_time": "2025-08-04T09:55:32.612Z"
   },
   {
    "duration": 60,
    "start_time": "2025-08-04T09:55:32.651Z"
   },
   {
    "duration": 258,
    "start_time": "2025-08-04T09:55:32.713Z"
   },
   {
    "duration": 6,
    "start_time": "2025-08-04T09:55:32.977Z"
   },
   {
    "duration": 149,
    "start_time": "2025-08-04T09:55:32.985Z"
   },
   {
    "duration": 11,
    "start_time": "2025-08-04T09:55:33.136Z"
   },
   {
    "duration": 86,
    "start_time": "2025-08-04T09:55:33.149Z"
   },
   {
    "duration": 32,
    "start_time": "2025-08-04T09:55:33.236Z"
   },
   {
    "duration": 81,
    "start_time": "2025-08-04T09:55:33.270Z"
   },
   {
    "duration": 11,
    "start_time": "2025-08-04T09:55:33.353Z"
   },
   {
    "duration": 33,
    "start_time": "2025-08-04T09:55:33.365Z"
   },
   {
    "duration": 29,
    "start_time": "2025-08-04T09:55:33.399Z"
   },
   {
    "duration": 62,
    "start_time": "2025-08-04T09:55:33.430Z"
   },
   {
    "duration": 29,
    "start_time": "2025-08-04T09:55:33.494Z"
   },
   {
    "duration": 104,
    "start_time": "2025-08-04T09:55:33.525Z"
   },
   {
    "duration": 5,
    "start_time": "2025-08-04T09:55:33.631Z"
   },
   {
    "duration": 64,
    "start_time": "2025-08-04T09:55:33.637Z"
   },
   {
    "duration": 12,
    "start_time": "2025-08-04T09:55:33.703Z"
   },
   {
    "duration": 68,
    "start_time": "2025-08-04T09:55:33.716Z"
   },
   {
    "duration": 5,
    "start_time": "2025-08-04T09:55:33.786Z"
   },
   {
    "duration": 70,
    "start_time": "2025-08-04T09:55:33.792Z"
   },
   {
    "duration": 5,
    "start_time": "2025-08-04T09:55:33.864Z"
   },
   {
    "duration": 42,
    "start_time": "2025-08-04T09:55:33.871Z"
   },
   {
    "duration": 4,
    "start_time": "2025-08-04T09:55:33.915Z"
   },
   {
    "duration": 152,
    "start_time": "2025-08-04T09:55:33.920Z"
   },
   {
    "duration": 5,
    "start_time": "2025-08-04T09:55:34.074Z"
   },
   {
    "duration": 65,
    "start_time": "2025-08-04T09:55:34.081Z"
   },
   {
    "duration": 246,
    "start_time": "2025-08-04T09:55:34.148Z"
   },
   {
    "duration": 9,
    "start_time": "2025-08-04T09:55:34.395Z"
   },
   {
    "duration": 358,
    "start_time": "2025-08-04T09:55:34.406Z"
   },
   {
    "duration": 8,
    "start_time": "2025-08-04T09:55:34.766Z"
   },
   {
    "duration": 27,
    "start_time": "2025-08-04T09:55:34.775Z"
   },
   {
    "duration": 36,
    "start_time": "2025-08-04T09:55:34.804Z"
   },
   {
    "duration": 166,
    "start_time": "2025-08-04T09:55:34.842Z"
   },
   {
    "duration": 5,
    "start_time": "2025-08-04T09:55:35.009Z"
   },
   {
    "duration": 42,
    "start_time": "2025-08-04T09:55:35.016Z"
   },
   {
    "duration": 4,
    "start_time": "2025-08-04T09:55:35.060Z"
   },
   {
    "duration": 74,
    "start_time": "2025-08-04T09:55:35.066Z"
   },
   {
    "duration": 5,
    "start_time": "2025-08-04T09:55:35.142Z"
   },
   {
    "duration": 68,
    "start_time": "2025-08-04T09:55:35.149Z"
   },
   {
    "duration": 18,
    "start_time": "2025-08-04T09:55:35.219Z"
   },
   {
    "duration": 47,
    "start_time": "2025-08-04T09:55:35.238Z"
   },
   {
    "duration": 5,
    "start_time": "2025-08-04T09:55:35.287Z"
   },
   {
    "duration": 61,
    "start_time": "2025-08-04T09:55:35.294Z"
   },
   {
    "duration": 32,
    "start_time": "2025-08-04T09:55:35.357Z"
   },
   {
    "duration": 77,
    "start_time": "2025-08-04T09:55:35.391Z"
   },
   {
    "duration": 6,
    "start_time": "2025-08-04T09:55:35.470Z"
   },
   {
    "duration": 52,
    "start_time": "2025-08-04T09:55:35.478Z"
   },
   {
    "duration": 5,
    "start_time": "2025-08-04T09:55:35.532Z"
   },
   {
    "duration": 50,
    "start_time": "2025-08-04T09:55:35.539Z"
   },
   {
    "duration": 5,
    "start_time": "2025-08-04T09:55:35.591Z"
   },
   {
    "duration": 65,
    "start_time": "2025-08-04T09:55:35.598Z"
   },
   {
    "duration": 39,
    "start_time": "2025-08-04T09:55:35.665Z"
   },
   {
    "duration": 67,
    "start_time": "2025-08-04T09:55:35.705Z"
   },
   {
    "duration": 5,
    "start_time": "2025-08-04T09:55:35.774Z"
   },
   {
    "duration": 56,
    "start_time": "2025-08-04T09:55:35.781Z"
   },
   {
    "duration": 11,
    "start_time": "2025-08-04T09:55:35.839Z"
   },
   {
    "duration": 14,
    "start_time": "2025-08-04T09:55:35.857Z"
   },
   {
    "duration": 104,
    "start_time": "2025-08-04T09:55:35.873Z"
   },
   {
    "duration": 174,
    "start_time": "2025-08-04T09:55:35.979Z"
   },
   {
    "duration": 56,
    "start_time": "2025-08-04T09:55:36.155Z"
   },
   {
    "duration": 256,
    "start_time": "2025-08-04T09:55:36.213Z"
   },
   {
    "duration": 42,
    "start_time": "2025-08-04T09:55:36.471Z"
   },
   {
    "duration": 19,
    "start_time": "2025-08-04T09:55:36.514Z"
   },
   {
    "duration": 1443,
    "start_time": "2025-08-04T09:55:36.535Z"
   },
   {
    "duration": 1369,
    "start_time": "2025-08-04T09:55:37.979Z"
   },
   {
    "duration": 16,
    "start_time": "2025-08-04T09:55:39.349Z"
   },
   {
    "duration": 10,
    "start_time": "2025-08-04T09:55:39.367Z"
   },
   {
    "duration": 44,
    "start_time": "2025-08-04T09:55:39.379Z"
   },
   {
    "duration": 26,
    "start_time": "2025-08-04T09:55:39.424Z"
   },
   {
    "duration": 7,
    "start_time": "2025-08-04T09:55:39.452Z"
   },
   {
    "duration": 20,
    "start_time": "2025-08-04T09:55:39.461Z"
   },
   {
    "duration": 6,
    "start_time": "2025-08-04T09:55:39.483Z"
   },
   {
    "duration": 20,
    "start_time": "2025-08-04T09:55:39.491Z"
   },
   {
    "duration": 11,
    "start_time": "2025-08-04T09:55:39.513Z"
   },
   {
    "duration": 15,
    "start_time": "2025-08-04T09:55:39.525Z"
   },
   {
    "duration": 24,
    "start_time": "2025-08-04T09:55:39.542Z"
   },
   {
    "duration": 21,
    "start_time": "2025-08-04T09:55:39.567Z"
   },
   {
    "duration": 22,
    "start_time": "2025-08-04T09:55:39.590Z"
   },
   {
    "duration": 7,
    "start_time": "2025-08-04T09:55:39.614Z"
   },
   {
    "duration": 16,
    "start_time": "2025-08-04T09:55:39.623Z"
   },
   {
    "duration": 12,
    "start_time": "2025-08-04T09:55:39.641Z"
   },
   {
    "duration": 23,
    "start_time": "2025-08-04T09:55:39.654Z"
   },
   {
    "duration": 24743,
    "start_time": "2025-08-04T09:55:39.679Z"
   },
   {
    "duration": 162970,
    "start_time": "2025-08-04T09:56:04.424Z"
   },
   {
    "duration": 22633,
    "start_time": "2025-08-04T09:58:47.396Z"
   },
   {
    "duration": 24168,
    "start_time": "2025-08-04T09:59:10.031Z"
   },
   {
    "duration": 106462,
    "start_time": "2025-08-04T09:59:34.201Z"
   },
   {
    "duration": 283620,
    "start_time": "2025-08-04T10:01:20.665Z"
   },
   {
    "duration": 332,
    "start_time": "2025-08-04T10:06:04.287Z"
   },
   {
    "duration": 149432,
    "start_time": "2025-08-04T10:06:04.621Z"
   },
   {
    "duration": 275941,
    "start_time": "2025-08-04T10:08:34.055Z"
   },
   {
    "duration": 36763,
    "start_time": "2025-08-04T10:13:09.997Z"
   },
   {
    "duration": 25246,
    "start_time": "2025-08-04T10:13:46.762Z"
   },
   {
    "duration": 1590,
    "start_time": "2025-08-04T10:14:12.010Z"
   },
   {
    "duration": 58,
    "start_time": "2025-08-04T10:14:13.602Z"
   },
   {
    "duration": 8,
    "start_time": "2025-08-04T10:14:13.662Z"
   },
   {
    "duration": 1824613,
    "start_time": "2025-08-04T10:14:13.672Z"
   },
   {
    "duration": 227,
    "start_time": "2025-08-04T10:44:38.339Z"
   },
   {
    "duration": 0,
    "start_time": "2025-08-04T10:44:38.567Z"
   },
   {
    "duration": 9,
    "start_time": "2025-08-04T12:33:50.263Z"
   },
   {
    "duration": 48,
    "start_time": "2025-08-04T12:39:09.137Z"
   },
   {
    "duration": 317,
    "start_time": "2025-08-04T12:41:35.906Z"
   },
   {
    "duration": 18,
    "start_time": "2025-08-04T12:41:41.418Z"
   },
   {
    "duration": 3,
    "start_time": "2025-08-04T12:41:46.130Z"
   },
   {
    "duration": 5,
    "start_time": "2025-08-04T12:41:57.250Z"
   },
   {
    "duration": 8,
    "start_time": "2025-08-04T12:42:15.328Z"
   },
   {
    "duration": 8,
    "start_time": "2025-08-04T12:46:26.813Z"
   },
   {
    "duration": 6,
    "start_time": "2025-08-04T13:20:27.777Z"
   },
   {
    "duration": 90,
    "start_time": "2025-08-04T13:20:43.597Z"
   },
   {
    "duration": 11,
    "start_time": "2025-08-04T13:20:50.763Z"
   },
   {
    "duration": 18,
    "start_time": "2025-08-04T13:22:43.821Z"
   },
   {
    "duration": 2,
    "start_time": "2025-08-04T13:23:10.011Z"
   },
   {
    "duration": 8,
    "start_time": "2025-08-04T13:24:10.394Z"
   },
   {
    "duration": 3,
    "start_time": "2025-08-04T13:24:11.625Z"
   },
   {
    "duration": 5,
    "start_time": "2025-08-04T13:24:13.297Z"
   },
   {
    "duration": 53,
    "start_time": "2025-08-04T13:24:26.279Z"
   },
   {
    "duration": 7,
    "start_time": "2025-08-04T13:24:42.879Z"
   },
   {
    "duration": 8,
    "start_time": "2025-08-04T13:24:53.148Z"
   },
   {
    "duration": 3,
    "start_time": "2025-08-04T13:24:55.175Z"
   },
   {
    "duration": 5,
    "start_time": "2025-08-04T13:24:56.000Z"
   },
   {
    "duration": 60,
    "start_time": "2025-08-04T13:24:57.990Z"
   },
   {
    "duration": 8,
    "start_time": "2025-08-04T13:25:39.766Z"
   },
   {
    "duration": 4,
    "start_time": "2025-08-04T13:25:49.688Z"
   },
   {
    "duration": 400,
    "start_time": "2025-08-04T13:25:52.826Z"
   },
   {
    "duration": 11,
    "start_time": "2025-08-04T13:26:20.800Z"
   },
   {
    "duration": 5,
    "start_time": "2025-08-04T13:26:29.366Z"
   },
   {
    "duration": 755,
    "start_time": "2025-08-04T13:26:30.826Z"
   },
   {
    "duration": 15,
    "start_time": "2025-08-04T13:28:00.506Z"
   },
   {
    "duration": 3,
    "start_time": "2025-08-04T13:28:01.945Z"
   },
   {
    "duration": 6,
    "start_time": "2025-08-04T13:28:02.801Z"
   },
   {
    "duration": 400,
    "start_time": "2025-08-04T13:28:04.179Z"
   },
   {
    "duration": 4,
    "start_time": "2025-08-04T13:30:23.042Z"
   },
   {
    "duration": 390,
    "start_time": "2025-08-04T13:30:24.564Z"
   },
   {
    "duration": 7,
    "start_time": "2025-08-04T13:30:55.453Z"
   },
   {
    "duration": 6,
    "start_time": "2025-08-04T13:30:58.038Z"
   },
   {
    "duration": 383,
    "start_time": "2025-08-04T13:31:00.118Z"
   },
   {
    "duration": 8,
    "start_time": "2025-08-04T13:32:30.534Z"
   },
   {
    "duration": 5,
    "start_time": "2025-08-04T13:32:33.278Z"
   },
   {
    "duration": 104,
    "start_time": "2025-08-04T13:32:34.409Z"
   },
   {
    "duration": 8,
    "start_time": "2025-08-04T13:34:47.001Z"
   },
   {
    "duration": 6,
    "start_time": "2025-08-04T13:34:49.801Z"
   },
   {
    "duration": 1092087,
    "start_time": "2025-08-04T13:34:51.168Z"
   },
   {
    "duration": 4,
    "start_time": "2025-08-04T13:58:02.460Z"
   },
   {
    "duration": 3,
    "start_time": "2025-08-04T14:00:00.676Z"
   },
   {
    "duration": 91,
    "start_time": "2025-08-04T14:01:56.651Z"
   },
   {
    "duration": 8,
    "start_time": "2025-08-04T14:02:08.583Z"
   },
   {
    "duration": 6,
    "start_time": "2025-08-04T14:02:25.529Z"
   },
   {
    "duration": 14674,
    "start_time": "2025-08-04T14:02:51.672Z"
   },
   {
    "duration": 5,
    "start_time": "2025-08-04T14:06:13.337Z"
   },
   {
    "duration": 1286344,
    "start_time": "2025-08-04T14:06:14.836Z"
   },
   {
    "duration": 7,
    "start_time": "2025-08-04T14:28:44.689Z"
   },
   {
    "duration": 9,
    "start_time": "2025-08-04T14:31:30.194Z"
   },
   {
    "duration": 6,
    "start_time": "2025-08-04T14:31:34.167Z"
   },
   {
    "duration": 8,
    "start_time": "2025-08-04T14:41:19.968Z"
   },
   {
    "duration": 232212,
    "start_time": "2025-08-04T14:41:19.978Z"
   },
   {
    "duration": 4,
    "start_time": "2025-08-04T14:45:25.964Z"
   },
   {
    "duration": 6,
    "start_time": "2025-08-04T14:46:18.083Z"
   },
   {
    "duration": 375879,
    "start_time": "2025-08-04T14:46:20.081Z"
   },
   {
    "duration": 9,
    "start_time": "2025-08-04T14:56:16.146Z"
   },
   {
    "duration": 5,
    "start_time": "2025-08-04T14:56:21.097Z"
   },
   {
    "duration": 6,
    "start_time": "2025-08-04T14:56:25.200Z"
   },
   {
    "duration": 481094,
    "start_time": "2025-08-04T14:56:28.802Z"
   },
   {
    "duration": 8,
    "start_time": "2025-08-04T15:05:17.857Z"
   },
   {
    "duration": 243460,
    "start_time": "2025-08-04T15:05:23.136Z"
   },
   {
    "duration": 3,
    "start_time": "2025-08-04T15:10:50.496Z"
   },
   {
    "duration": 6,
    "start_time": "2025-08-04T15:12:17.232Z"
   },
   {
    "duration": 5,
    "start_time": "2025-08-04T15:15:21.287Z"
   },
   {
    "duration": 17265,
    "start_time": "2025-08-04T15:15:25.633Z"
   },
   {
    "duration": 19366,
    "start_time": "2025-08-04T15:41:48.238Z"
   },
   {
    "duration": 3257,
    "start_time": "2025-08-04T15:42:07.607Z"
   },
   {
    "duration": 10,
    "start_time": "2025-08-04T15:42:10.866Z"
   },
   {
    "duration": 128,
    "start_time": "2025-08-04T15:42:10.878Z"
   },
   {
    "duration": 22,
    "start_time": "2025-08-04T15:42:11.008Z"
   },
   {
    "duration": 16,
    "start_time": "2025-08-04T15:42:11.032Z"
   },
   {
    "duration": 19,
    "start_time": "2025-08-04T15:42:11.050Z"
   },
   {
    "duration": 15,
    "start_time": "2025-08-04T15:42:11.070Z"
   },
   {
    "duration": 20,
    "start_time": "2025-08-04T15:42:11.087Z"
   },
   {
    "duration": 107,
    "start_time": "2025-08-04T15:42:11.111Z"
   },
   {
    "duration": 27,
    "start_time": "2025-08-04T15:42:11.220Z"
   },
   {
    "duration": 25,
    "start_time": "2025-08-04T15:42:11.249Z"
   },
   {
    "duration": 20,
    "start_time": "2025-08-04T15:42:11.276Z"
   },
   {
    "duration": 41,
    "start_time": "2025-08-04T15:42:11.298Z"
   },
   {
    "duration": 2,
    "start_time": "2025-08-04T15:42:11.341Z"
   },
   {
    "duration": 42,
    "start_time": "2025-08-04T15:42:11.345Z"
   },
   {
    "duration": 15,
    "start_time": "2025-08-04T15:42:11.389Z"
   },
   {
    "duration": 41,
    "start_time": "2025-08-04T15:42:11.406Z"
   },
   {
    "duration": 5,
    "start_time": "2025-08-04T15:42:11.448Z"
   },
   {
    "duration": 14,
    "start_time": "2025-08-04T15:42:11.455Z"
   },
   {
    "duration": 75,
    "start_time": "2025-08-04T15:42:11.472Z"
   },
   {
    "duration": 16,
    "start_time": "2025-08-04T15:42:11.550Z"
   },
   {
    "duration": 29,
    "start_time": "2025-08-04T15:42:11.568Z"
   },
   {
    "duration": 34,
    "start_time": "2025-08-04T15:42:11.599Z"
   },
   {
    "duration": 12,
    "start_time": "2025-08-04T15:42:11.636Z"
   },
   {
    "duration": 14,
    "start_time": "2025-08-04T15:42:11.650Z"
   },
   {
    "duration": 273,
    "start_time": "2025-08-04T15:42:11.666Z"
   },
   {
    "duration": 5,
    "start_time": "2025-08-04T15:42:11.944Z"
   },
   {
    "duration": 124,
    "start_time": "2025-08-04T15:42:11.950Z"
   },
   {
    "duration": 5,
    "start_time": "2025-08-04T15:42:12.076Z"
   },
   {
    "duration": 93,
    "start_time": "2025-08-04T15:42:12.083Z"
   },
   {
    "duration": 6,
    "start_time": "2025-08-04T15:42:12.178Z"
   },
   {
    "duration": 82,
    "start_time": "2025-08-04T15:42:12.187Z"
   },
   {
    "duration": 9,
    "start_time": "2025-08-04T15:42:12.272Z"
   },
   {
    "duration": 16,
    "start_time": "2025-08-04T15:42:12.283Z"
   },
   {
    "duration": 18,
    "start_time": "2025-08-04T15:42:12.301Z"
   },
   {
    "duration": 58,
    "start_time": "2025-08-04T15:42:12.321Z"
   },
   {
    "duration": 6,
    "start_time": "2025-08-04T15:42:12.381Z"
   },
   {
    "duration": 75,
    "start_time": "2025-08-04T15:42:12.389Z"
   },
   {
    "duration": 5,
    "start_time": "2025-08-04T15:42:12.466Z"
   },
   {
    "duration": 72,
    "start_time": "2025-08-04T15:42:12.473Z"
   },
   {
    "duration": 5,
    "start_time": "2025-08-04T15:42:12.547Z"
   },
   {
    "duration": 58,
    "start_time": "2025-08-04T15:42:12.554Z"
   },
   {
    "duration": 53,
    "start_time": "2025-08-04T15:42:12.614Z"
   },
   {
    "duration": 81,
    "start_time": "2025-08-04T15:42:12.669Z"
   },
   {
    "duration": 5,
    "start_time": "2025-08-04T15:42:12.752Z"
   },
   {
    "duration": 259,
    "start_time": "2025-08-04T15:42:12.759Z"
   },
   {
    "duration": 4,
    "start_time": "2025-08-04T15:42:13.020Z"
   },
   {
    "duration": 48,
    "start_time": "2025-08-04T15:42:13.026Z"
   },
   {
    "duration": 5,
    "start_time": "2025-08-04T15:42:13.076Z"
   },
   {
    "duration": 35,
    "start_time": "2025-08-04T15:42:13.083Z"
   },
   {
    "duration": 331,
    "start_time": "2025-08-04T15:42:13.120Z"
   },
   {
    "duration": 10,
    "start_time": "2025-08-04T15:42:13.453Z"
   },
   {
    "duration": 480,
    "start_time": "2025-08-04T15:42:13.465Z"
   },
   {
    "duration": 8,
    "start_time": "2025-08-04T15:42:13.947Z"
   },
   {
    "duration": 189,
    "start_time": "2025-08-04T15:42:13.957Z"
   },
   {
    "duration": 14,
    "start_time": "2025-08-04T15:42:14.148Z"
   },
   {
    "duration": 85,
    "start_time": "2025-08-04T15:42:14.164Z"
   },
   {
    "duration": 7,
    "start_time": "2025-08-04T15:42:14.251Z"
   },
   {
    "duration": 31,
    "start_time": "2025-08-04T15:42:14.259Z"
   },
   {
    "duration": 6,
    "start_time": "2025-08-04T15:42:14.292Z"
   },
   {
    "duration": 79,
    "start_time": "2025-08-04T15:42:14.300Z"
   },
   {
    "duration": 7,
    "start_time": "2025-08-04T15:42:14.381Z"
   },
   {
    "duration": 65,
    "start_time": "2025-08-04T15:42:14.390Z"
   },
   {
    "duration": 6,
    "start_time": "2025-08-04T15:42:14.457Z"
   },
   {
    "duration": 77,
    "start_time": "2025-08-04T15:42:14.465Z"
   },
   {
    "duration": 5,
    "start_time": "2025-08-04T15:42:14.544Z"
   },
   {
    "duration": 37,
    "start_time": "2025-08-04T15:42:14.551Z"
   },
   {
    "duration": 6,
    "start_time": "2025-08-04T15:42:14.590Z"
   },
   {
    "duration": 185,
    "start_time": "2025-08-04T15:42:14.598Z"
   },
   {
    "duration": 144,
    "start_time": "2025-08-04T15:42:14.785Z"
   },
   {
    "duration": 65,
    "start_time": "2025-08-04T15:42:14.931Z"
   },
   {
    "duration": 6,
    "start_time": "2025-08-04T15:42:14.998Z"
   },
   {
    "duration": 124,
    "start_time": "2025-08-04T15:42:15.006Z"
   },
   {
    "duration": 24,
    "start_time": "2025-08-04T15:42:15.132Z"
   },
   {
    "duration": 121,
    "start_time": "2025-08-04T15:42:15.158Z"
   },
   {
    "duration": 53,
    "start_time": "2025-08-04T15:42:15.280Z"
   },
   {
    "duration": 96,
    "start_time": "2025-08-04T15:42:15.335Z"
   },
   {
    "duration": 7,
    "start_time": "2025-08-04T15:42:15.434Z"
   },
   {
    "duration": 68,
    "start_time": "2025-08-04T15:42:15.443Z"
   },
   {
    "duration": 26,
    "start_time": "2025-08-04T15:42:15.513Z"
   },
   {
    "duration": 24,
    "start_time": "2025-08-04T15:42:15.546Z"
   },
   {
    "duration": 63,
    "start_time": "2025-08-04T15:42:15.572Z"
   },
   {
    "duration": 48,
    "start_time": "2025-08-04T15:42:15.637Z"
   },
   {
    "duration": 76,
    "start_time": "2025-08-04T15:42:15.687Z"
   },
   {
    "duration": 276,
    "start_time": "2025-08-04T15:42:15.765Z"
   },
   {
    "duration": 5,
    "start_time": "2025-08-04T15:42:16.043Z"
   },
   {
    "duration": 28,
    "start_time": "2025-08-04T15:42:16.049Z"
   },
   {
    "duration": 1522,
    "start_time": "2025-08-04T15:42:16.079Z"
   },
   {
    "duration": 1439,
    "start_time": "2025-08-04T15:42:17.603Z"
   },
   {
    "duration": 18,
    "start_time": "2025-08-04T15:42:19.044Z"
   },
   {
    "duration": 5,
    "start_time": "2025-08-04T15:42:19.064Z"
   },
   {
    "duration": 19,
    "start_time": "2025-08-04T15:42:19.071Z"
   },
   {
    "duration": 58,
    "start_time": "2025-08-04T15:42:19.092Z"
   },
   {
    "duration": 8,
    "start_time": "2025-08-04T15:42:19.153Z"
   },
   {
    "duration": 23,
    "start_time": "2025-08-04T15:42:19.163Z"
   },
   {
    "duration": 34,
    "start_time": "2025-08-04T15:42:19.188Z"
   },
   {
    "duration": 6,
    "start_time": "2025-08-04T15:42:19.224Z"
   },
   {
    "duration": 36,
    "start_time": "2025-08-04T15:42:19.232Z"
   },
   {
    "duration": 17,
    "start_time": "2025-08-04T15:42:19.270Z"
   },
   {
    "duration": 26,
    "start_time": "2025-08-04T15:42:19.289Z"
   },
   {
    "duration": 8,
    "start_time": "2025-08-04T15:42:19.317Z"
   },
   {
    "duration": 7,
    "start_time": "2025-08-04T15:42:19.327Z"
   },
   {
    "duration": 10,
    "start_time": "2025-08-04T15:42:19.336Z"
   },
   {
    "duration": 8,
    "start_time": "2025-08-04T15:42:19.348Z"
   },
   {
    "duration": 5,
    "start_time": "2025-08-04T15:42:19.358Z"
   },
   {
    "duration": 10,
    "start_time": "2025-08-04T15:42:19.364Z"
   },
   {
    "duration": 55,
    "start_time": "2025-08-04T15:42:19.376Z"
   },
   {
    "duration": 7,
    "start_time": "2025-08-04T15:42:19.433Z"
   },
   {
    "duration": 34,
    "start_time": "2025-08-04T15:42:19.441Z"
   },
   {
    "duration": 26266,
    "start_time": "2025-08-04T15:42:19.477Z"
   },
   {
    "duration": 123229,
    "start_time": "2025-08-04T15:42:45.745Z"
   },
   {
    "duration": 22256,
    "start_time": "2025-08-04T15:44:48.975Z"
   },
   {
    "duration": 23186,
    "start_time": "2025-08-04T15:45:11.232Z"
   },
   {
    "duration": 104479,
    "start_time": "2025-08-04T15:45:34.420Z"
   },
   {
    "duration": 279530,
    "start_time": "2025-08-04T15:47:18.901Z"
   },
   {
    "duration": 362,
    "start_time": "2025-08-04T15:51:58.433Z"
   },
   {
    "duration": 154256,
    "start_time": "2025-08-04T15:51:58.797Z"
   },
   {
    "duration": 265132,
    "start_time": "2025-08-04T15:54:33.055Z"
   },
   {
    "duration": 37736,
    "start_time": "2025-08-04T15:58:58.189Z"
   },
   {
    "duration": 25460,
    "start_time": "2025-08-04T15:59:35.927Z"
   },
   {
    "duration": 8,
    "start_time": "2025-08-04T16:00:01.389Z"
   },
   {
    "duration": 53,
    "start_time": "2025-08-04T16:00:01.399Z"
   },
   {
    "duration": 49,
    "start_time": "2025-08-04T16:00:01.454Z"
   },
   {
    "duration": 1394774,
    "start_time": "2025-08-04T16:00:01.505Z"
   },
   {
    "duration": 9,
    "start_time": "2025-08-04T16:23:16.281Z"
   },
   {
    "duration": 6,
    "start_time": "2025-08-04T16:23:16.338Z"
   },
   {
    "duration": 20,
    "start_time": "2025-08-04T16:23:16.346Z"
   },
   {
    "duration": 25294,
    "start_time": "2025-08-04T16:23:16.368Z"
   },
   {
    "duration": 0,
    "start_time": "2025-08-04T16:23:41.664Z"
   },
   {
    "duration": 8,
    "start_time": "2025-08-04T16:24:37.116Z"
   },
   {
    "duration": 3,
    "start_time": "2025-08-04T16:24:39.400Z"
   },
   {
    "duration": 6,
    "start_time": "2025-08-04T16:24:41.589Z"
   },
   {
    "duration": 103467,
    "start_time": "2025-08-04T16:24:42.921Z"
   },
   {
    "duration": 6,
    "start_time": "2025-08-04T16:26:35.847Z"
   },
   {
    "duration": 746539,
    "start_time": "2025-08-04T16:26:37.121Z"
   },
   {
    "duration": 45534,
    "start_time": "2025-08-04T18:34:18.466Z"
   },
   {
    "duration": 3413,
    "start_time": "2025-08-04T18:35:04.003Z"
   },
   {
    "duration": 12,
    "start_time": "2025-08-04T18:35:07.418Z"
   },
   {
    "duration": 186,
    "start_time": "2025-08-04T18:35:07.440Z"
   },
   {
    "duration": 28,
    "start_time": "2025-08-04T18:35:07.629Z"
   },
   {
    "duration": 10,
    "start_time": "2025-08-04T18:35:07.659Z"
   },
   {
    "duration": 10,
    "start_time": "2025-08-04T18:35:07.671Z"
   },
   {
    "duration": 13,
    "start_time": "2025-08-04T18:35:07.683Z"
   },
   {
    "duration": 37,
    "start_time": "2025-08-04T18:35:07.698Z"
   },
   {
    "duration": 112,
    "start_time": "2025-08-04T18:35:07.737Z"
   },
   {
    "duration": 27,
    "start_time": "2025-08-04T18:35:07.851Z"
   },
   {
    "duration": 52,
    "start_time": "2025-08-04T18:35:07.879Z"
   },
   {
    "duration": 28,
    "start_time": "2025-08-04T18:35:07.932Z"
   },
   {
    "duration": 29,
    "start_time": "2025-08-04T18:35:07.962Z"
   },
   {
    "duration": 19,
    "start_time": "2025-08-04T18:35:07.993Z"
   },
   {
    "duration": 31,
    "start_time": "2025-08-04T18:35:08.013Z"
   },
   {
    "duration": 15,
    "start_time": "2025-08-04T18:35:08.045Z"
   },
   {
    "duration": 43,
    "start_time": "2025-08-04T18:35:08.061Z"
   },
   {
    "duration": 4,
    "start_time": "2025-08-04T18:35:08.105Z"
   },
   {
    "duration": 29,
    "start_time": "2025-08-04T18:35:08.111Z"
   },
   {
    "duration": 16,
    "start_time": "2025-08-04T18:35:08.141Z"
   },
   {
    "duration": 15,
    "start_time": "2025-08-04T18:35:08.158Z"
   },
   {
    "duration": 10,
    "start_time": "2025-08-04T18:35:08.174Z"
   },
   {
    "duration": 14,
    "start_time": "2025-08-04T18:35:08.186Z"
   },
   {
    "duration": 26,
    "start_time": "2025-08-04T18:35:08.201Z"
   },
   {
    "duration": 10,
    "start_time": "2025-08-04T18:35:08.228Z"
   },
   {
    "duration": 205,
    "start_time": "2025-08-04T18:35:08.239Z"
   },
   {
    "duration": 4,
    "start_time": "2025-08-04T18:35:08.448Z"
   },
   {
    "duration": 117,
    "start_time": "2025-08-04T18:35:08.454Z"
   },
   {
    "duration": 6,
    "start_time": "2025-08-04T18:35:08.572Z"
   },
   {
    "duration": 96,
    "start_time": "2025-08-04T18:35:08.580Z"
   },
   {
    "duration": 5,
    "start_time": "2025-08-04T18:35:08.677Z"
   },
   {
    "duration": 84,
    "start_time": "2025-08-04T18:35:08.684Z"
   },
   {
    "duration": 8,
    "start_time": "2025-08-04T18:35:08.770Z"
   },
   {
    "duration": 12,
    "start_time": "2025-08-04T18:35:08.779Z"
   },
   {
    "duration": 5,
    "start_time": "2025-08-04T18:35:08.792Z"
   },
   {
    "duration": 70,
    "start_time": "2025-08-04T18:35:08.799Z"
   },
   {
    "duration": 5,
    "start_time": "2025-08-04T18:35:08.871Z"
   },
   {
    "duration": 65,
    "start_time": "2025-08-04T18:35:08.877Z"
   },
   {
    "duration": 5,
    "start_time": "2025-08-04T18:35:08.943Z"
   },
   {
    "duration": 131,
    "start_time": "2025-08-04T18:35:08.950Z"
   },
   {
    "duration": 6,
    "start_time": "2025-08-04T18:35:09.083Z"
   },
   {
    "duration": 65,
    "start_time": "2025-08-04T18:35:09.091Z"
   },
   {
    "duration": 6,
    "start_time": "2025-08-04T18:35:09.158Z"
   },
   {
    "duration": 73,
    "start_time": "2025-08-04T18:35:09.166Z"
   },
   {
    "duration": 8,
    "start_time": "2025-08-04T18:35:09.241Z"
   },
   {
    "duration": 40,
    "start_time": "2025-08-04T18:35:09.250Z"
   },
   {
    "duration": 4,
    "start_time": "2025-08-04T18:35:09.292Z"
   },
   {
    "duration": 62,
    "start_time": "2025-08-04T18:35:09.297Z"
   },
   {
    "duration": 5,
    "start_time": "2025-08-04T18:35:09.361Z"
   },
   {
    "duration": 29,
    "start_time": "2025-08-04T18:35:09.367Z"
   },
   {
    "duration": 252,
    "start_time": "2025-08-04T18:35:09.399Z"
   },
   {
    "duration": 8,
    "start_time": "2025-08-04T18:35:09.652Z"
   },
   {
    "duration": 357,
    "start_time": "2025-08-04T18:35:09.662Z"
   },
   {
    "duration": 19,
    "start_time": "2025-08-04T18:35:10.020Z"
   },
   {
    "duration": 11,
    "start_time": "2025-08-04T18:35:10.041Z"
   },
   {
    "duration": 13,
    "start_time": "2025-08-04T18:35:10.054Z"
   },
   {
    "duration": 94,
    "start_time": "2025-08-04T18:35:10.069Z"
   },
   {
    "duration": 5,
    "start_time": "2025-08-04T18:35:10.165Z"
   },
   {
    "duration": 29,
    "start_time": "2025-08-04T18:35:10.172Z"
   },
   {
    "duration": 5,
    "start_time": "2025-08-04T18:35:10.203Z"
   },
   {
    "duration": 74,
    "start_time": "2025-08-04T18:35:10.209Z"
   },
   {
    "duration": 5,
    "start_time": "2025-08-04T18:35:10.285Z"
   },
   {
    "duration": 48,
    "start_time": "2025-08-04T18:35:10.292Z"
   },
   {
    "duration": 9,
    "start_time": "2025-08-04T18:35:10.342Z"
   },
   {
    "duration": 48,
    "start_time": "2025-08-04T18:35:10.352Z"
   },
   {
    "duration": 5,
    "start_time": "2025-08-04T18:35:10.401Z"
   },
   {
    "duration": 46,
    "start_time": "2025-08-04T18:35:10.408Z"
   },
   {
    "duration": 4,
    "start_time": "2025-08-04T18:35:10.455Z"
   },
   {
    "duration": 92,
    "start_time": "2025-08-04T18:35:10.461Z"
   },
   {
    "duration": 5,
    "start_time": "2025-08-04T18:35:10.555Z"
   },
   {
    "duration": 35,
    "start_time": "2025-08-04T18:35:10.562Z"
   },
   {
    "duration": 5,
    "start_time": "2025-08-04T18:35:10.598Z"
   },
   {
    "duration": 60,
    "start_time": "2025-08-04T18:35:10.604Z"
   },
   {
    "duration": 5,
    "start_time": "2025-08-04T18:35:10.666Z"
   },
   {
    "duration": 44,
    "start_time": "2025-08-04T18:35:10.672Z"
   },
   {
    "duration": 15,
    "start_time": "2025-08-04T18:35:10.718Z"
   },
   {
    "duration": 70,
    "start_time": "2025-08-04T18:35:10.735Z"
   },
   {
    "duration": 5,
    "start_time": "2025-08-04T18:35:10.807Z"
   },
   {
    "duration": 31,
    "start_time": "2025-08-04T18:35:10.814Z"
   },
   {
    "duration": 13,
    "start_time": "2025-08-04T18:35:10.847Z"
   },
   {
    "duration": 5,
    "start_time": "2025-08-04T18:35:10.867Z"
   },
   {
    "duration": 85,
    "start_time": "2025-08-04T18:35:10.874Z"
   },
   {
    "duration": 56,
    "start_time": "2025-08-04T18:35:10.961Z"
   },
   {
    "duration": 71,
    "start_time": "2025-08-04T18:35:11.039Z"
   },
   {
    "duration": 242,
    "start_time": "2025-08-04T18:35:11.112Z"
   },
   {
    "duration": 5,
    "start_time": "2025-08-04T18:35:11.356Z"
   },
   {
    "duration": 9,
    "start_time": "2025-08-04T18:35:11.363Z"
   },
   {
    "duration": 1421,
    "start_time": "2025-08-04T18:35:11.374Z"
   },
   {
    "duration": 1429,
    "start_time": "2025-08-04T18:35:12.797Z"
   },
   {
    "duration": 24,
    "start_time": "2025-08-04T18:35:14.228Z"
   },
   {
    "duration": 56,
    "start_time": "2025-08-04T18:35:14.254Z"
   },
   {
    "duration": 18,
    "start_time": "2025-08-04T18:35:14.312Z"
   },
   {
    "duration": 26,
    "start_time": "2025-08-04T18:35:14.332Z"
   },
   {
    "duration": 6,
    "start_time": "2025-08-04T18:35:14.360Z"
   },
   {
    "duration": 5,
    "start_time": "2025-08-04T18:35:14.368Z"
   },
   {
    "duration": 8,
    "start_time": "2025-08-04T18:35:14.375Z"
   },
   {
    "duration": 11,
    "start_time": "2025-08-04T18:35:14.385Z"
   },
   {
    "duration": 14,
    "start_time": "2025-08-04T18:35:14.398Z"
   },
   {
    "duration": 5,
    "start_time": "2025-08-04T18:35:14.413Z"
   },
   {
    "duration": 19,
    "start_time": "2025-08-04T18:35:14.420Z"
   },
   {
    "duration": 5,
    "start_time": "2025-08-04T18:35:14.441Z"
   },
   {
    "duration": 9,
    "start_time": "2025-08-04T18:35:14.447Z"
   },
   {
    "duration": 32,
    "start_time": "2025-08-04T18:35:14.458Z"
   },
   {
    "duration": 14,
    "start_time": "2025-08-04T18:35:14.491Z"
   },
   {
    "duration": 6,
    "start_time": "2025-08-04T18:35:14.506Z"
   },
   {
    "duration": 12,
    "start_time": "2025-08-04T18:35:14.514Z"
   },
   {
    "duration": 44,
    "start_time": "2025-08-04T18:35:14.528Z"
   },
   {
    "duration": 3,
    "start_time": "2025-08-04T18:35:14.574Z"
   },
   {
    "duration": 18,
    "start_time": "2025-08-04T18:35:14.578Z"
   },
   {
    "duration": 24782,
    "start_time": "2025-08-04T18:35:14.597Z"
   },
   {
    "duration": 154925,
    "start_time": "2025-08-04T18:35:39.381Z"
   },
   {
    "duration": 21609,
    "start_time": "2025-08-04T18:38:14.308Z"
   },
   {
    "duration": 20808,
    "start_time": "2025-08-04T18:38:35.918Z"
   },
   {
    "duration": 100211,
    "start_time": "2025-08-04T18:38:56.728Z"
   },
   {
    "duration": 272879,
    "start_time": "2025-08-04T18:40:36.941Z"
   },
   {
    "duration": 347,
    "start_time": "2025-08-04T18:45:09.822Z"
   },
   {
    "duration": 156666,
    "start_time": "2025-08-04T18:45:10.171Z"
   },
   {
    "duration": 260513,
    "start_time": "2025-08-04T18:47:46.839Z"
   },
   {
    "duration": 36122,
    "start_time": "2025-08-04T18:52:07.353Z"
   },
   {
    "duration": 24535,
    "start_time": "2025-08-04T18:52:43.477Z"
   },
   {
    "duration": 7,
    "start_time": "2025-08-04T18:53:08.014Z"
   },
   {
    "duration": 37,
    "start_time": "2025-08-04T18:53:08.023Z"
   },
   {
    "duration": 21,
    "start_time": "2025-08-04T18:53:08.062Z"
   },
   {
    "duration": 961408,
    "start_time": "2025-08-04T18:53:08.084Z"
   },
   {
    "duration": 52,
    "start_time": "2025-08-04T19:09:09.494Z"
   },
   {
    "duration": 45,
    "start_time": "2025-08-04T19:09:09.548Z"
   },
   {
    "duration": 49,
    "start_time": "2025-08-04T19:09:09.595Z"
   },
   {
    "duration": 560633,
    "start_time": "2025-08-04T19:09:09.646Z"
   },
   {
    "duration": 124,
    "start_time": "2025-08-04T19:18:30.281Z"
   },
   {
    "duration": 8,
    "start_time": "2025-08-04T19:36:20.432Z"
   },
   {
    "duration": 24,
    "start_time": "2025-08-04T19:38:30.710Z"
   },
   {
    "duration": 5,
    "start_time": "2025-08-04T19:38:59.659Z"
   },
   {
    "duration": 5633,
    "start_time": "2025-08-04T19:40:06.552Z"
   },
   {
    "duration": 418,
    "start_time": "2025-08-04T19:40:20.241Z"
   },
   {
    "duration": 337,
    "start_time": "2025-08-04T19:41:17.711Z"
   },
   {
    "duration": 1042,
    "start_time": "2025-08-04T19:41:36.429Z"
   },
   {
    "duration": 21,
    "start_time": "2025-08-04T19:43:42.682Z"
   },
   {
    "duration": 3,
    "start_time": "2025-08-04T19:43:48.236Z"
   },
   {
    "duration": 28,
    "start_time": "2025-08-04T19:43:52.662Z"
   },
   {
    "duration": 46761,
    "start_time": "2025-08-05T07:55:16.493Z"
   },
   {
    "duration": 3874,
    "start_time": "2025-08-05T08:06:06.625Z"
   },
   {
    "duration": 17,
    "start_time": "2025-08-05T08:06:12.368Z"
   },
   {
    "duration": 8,
    "start_time": "2025-08-05T08:06:15.704Z"
   },
   {
    "duration": 10,
    "start_time": "2025-08-05T08:06:17.882Z"
   },
   {
    "duration": 9,
    "start_time": "2025-08-05T08:06:21.696Z"
   },
   {
    "duration": 9,
    "start_time": "2025-08-05T08:06:24.857Z"
   },
   {
    "duration": 9,
    "start_time": "2025-08-05T08:06:28.728Z"
   },
   {
    "duration": 5,
    "start_time": "2025-08-05T08:06:45.517Z"
   },
   {
    "duration": 97,
    "start_time": "2025-08-05T08:06:52.383Z"
   },
   {
    "duration": 31,
    "start_time": "2025-08-05T08:06:55.718Z"
   },
   {
    "duration": 27,
    "start_time": "2025-08-05T08:10:04.512Z"
   },
   {
    "duration": 18,
    "start_time": "2025-08-05T08:10:21.847Z"
   },
   {
    "duration": 20,
    "start_time": "2025-08-05T08:10:32.912Z"
   },
   {
    "duration": 14,
    "start_time": "2025-08-05T08:10:44.631Z"
   },
   {
    "duration": 3,
    "start_time": "2025-08-05T08:12:13.737Z"
   },
   {
    "duration": 326,
    "start_time": "2025-08-05T08:15:14.686Z"
   },
   {
    "duration": 37,
    "start_time": "2025-08-05T08:15:21.399Z"
   },
   {
    "duration": 3,
    "start_time": "2025-08-05T08:15:24.193Z"
   },
   {
    "duration": 7,
    "start_time": "2025-08-05T08:15:35.793Z"
   },
   {
    "duration": 20,
    "start_time": "2025-08-05T08:20:49.468Z"
   },
   {
    "duration": 5,
    "start_time": "2025-08-05T08:21:15.231Z"
   },
   {
    "duration": 10,
    "start_time": "2025-08-05T08:21:16.335Z"
   },
   {
    "duration": 9,
    "start_time": "2025-08-05T08:21:17.384Z"
   },
   {
    "duration": 9,
    "start_time": "2025-08-05T08:21:19.191Z"
   },
   {
    "duration": 10,
    "start_time": "2025-08-05T08:21:20.483Z"
   },
   {
    "duration": 10,
    "start_time": "2025-08-05T08:21:21.824Z"
   },
   {
    "duration": 253,
    "start_time": "2025-08-05T08:21:42.759Z"
   },
   {
    "duration": 65,
    "start_time": "2025-08-05T08:24:11.049Z"
   },
   {
    "duration": 54,
    "start_time": "2025-08-05T08:28:46.666Z"
   },
   {
    "duration": 4,
    "start_time": "2025-08-05T08:28:49.744Z"
   },
   {
    "duration": 70,
    "start_time": "2025-08-05T08:28:50.839Z"
   },
   {
    "duration": 8,
    "start_time": "2025-08-05T08:28:54.031Z"
   },
   {
    "duration": 5,
    "start_time": "2025-08-05T08:29:47.726Z"
   },
   {
    "duration": 53,
    "start_time": "2025-08-05T08:29:49.231Z"
   },
   {
    "duration": 6,
    "start_time": "2025-08-05T08:29:52.758Z"
   },
   {
    "duration": 43,
    "start_time": "2025-08-05T08:29:54.008Z"
   },
   {
    "duration": 5,
    "start_time": "2025-08-05T08:29:57.785Z"
   },
   {
    "duration": 53,
    "start_time": "2025-08-05T08:29:59.151Z"
   },
   {
    "duration": 5,
    "start_time": "2025-08-05T08:30:02.015Z"
   },
   {
    "duration": 56,
    "start_time": "2025-08-05T08:30:03.128Z"
   },
   {
    "duration": 5,
    "start_time": "2025-08-05T08:30:06.103Z"
   },
   {
    "duration": 52,
    "start_time": "2025-08-05T08:30:07.360Z"
   },
   {
    "duration": 6,
    "start_time": "2025-08-05T08:30:16.534Z"
   },
   {
    "duration": 36,
    "start_time": "2025-08-05T08:31:31.571Z"
   },
   {
    "duration": 5,
    "start_time": "2025-08-05T08:31:41.558Z"
   },
   {
    "duration": 50,
    "start_time": "2025-08-05T08:31:42.928Z"
   },
   {
    "duration": 12,
    "start_time": "2025-08-05T08:32:18.881Z"
   },
   {
    "duration": 27,
    "start_time": "2025-08-05T08:32:20.623Z"
   },
   {
    "duration": 28,
    "start_time": "2025-08-05T08:32:38.112Z"
   },
   {
    "duration": 39,
    "start_time": "2025-08-05T08:33:01.248Z"
   },
   {
    "duration": 266,
    "start_time": "2025-08-05T08:33:06.864Z"
   },
   {
    "duration": 7,
    "start_time": "2025-08-05T08:33:40.906Z"
   },
   {
    "duration": 355,
    "start_time": "2025-08-05T08:33:46.288Z"
   },
   {
    "duration": 82,
    "start_time": "2025-08-05T08:34:45.519Z"
   },
   {
    "duration": 34,
    "start_time": "2025-08-05T08:35:13.047Z"
   },
   {
    "duration": 33,
    "start_time": "2025-08-05T09:36:22.483Z"
   },
   {
    "duration": 11,
    "start_time": "2025-08-05T09:37:06.055Z"
   },
   {
    "duration": 12,
    "start_time": "2025-08-05T09:38:24.327Z"
   },
   {
    "duration": 6,
    "start_time": "2025-08-05T09:39:47.147Z"
   },
   {
    "duration": 25,
    "start_time": "2025-08-05T09:39:54.618Z"
   },
   {
    "duration": 4,
    "start_time": "2025-08-05T09:41:22.482Z"
   },
   {
    "duration": 803,
    "start_time": "2025-08-05T09:41:39.721Z"
   },
   {
    "duration": 5,
    "start_time": "2025-08-05T09:41:47.588Z"
   },
   {
    "duration": 24,
    "start_time": "2025-08-05T09:43:01.537Z"
   },
   {
    "duration": 27,
    "start_time": "2025-08-05T09:43:32.784Z"
   },
   {
    "duration": 23,
    "start_time": "2025-08-05T09:43:43.594Z"
   },
   {
    "duration": 35,
    "start_time": "2025-08-05T09:44:04.977Z"
   },
   {
    "duration": 27,
    "start_time": "2025-08-05T09:45:42.410Z"
   },
   {
    "duration": 12,
    "start_time": "2025-08-05T09:46:04.250Z"
   },
   {
    "duration": 10,
    "start_time": "2025-08-05T09:49:59.058Z"
   },
   {
    "duration": 11,
    "start_time": "2025-08-05T09:50:07.627Z"
   },
   {
    "duration": 10,
    "start_time": "2025-08-05T09:50:12.252Z"
   },
   {
    "duration": 16,
    "start_time": "2025-08-05T09:52:46.374Z"
   },
   {
    "duration": 13,
    "start_time": "2025-08-05T09:52:56.282Z"
   },
   {
    "duration": 28,
    "start_time": "2025-08-05T09:53:40.066Z"
   },
   {
    "duration": 26,
    "start_time": "2025-08-05T09:53:52.338Z"
   },
   {
    "duration": 11,
    "start_time": "2025-08-05T09:54:02.907Z"
   },
   {
    "duration": 4,
    "start_time": "2025-08-05T09:54:04.695Z"
   },
   {
    "duration": 8,
    "start_time": "2025-08-05T09:54:09.466Z"
   },
   {
    "duration": 5,
    "start_time": "2025-08-05T09:54:30.409Z"
   },
   {
    "duration": 4,
    "start_time": "2025-08-05T09:54:34.446Z"
   },
   {
    "duration": 14,
    "start_time": "2025-08-05T09:54:43.459Z"
   },
   {
    "duration": 4,
    "start_time": "2025-08-05T09:54:51.393Z"
   },
   {
    "duration": 5,
    "start_time": "2025-08-05T09:55:10.490Z"
   },
   {
    "duration": 11,
    "start_time": "2025-08-05T09:55:51.738Z"
   },
   {
    "duration": 7,
    "start_time": "2025-08-05T09:56:20.875Z"
   },
   {
    "duration": 41,
    "start_time": "2025-08-05T09:56:22.402Z"
   },
   {
    "duration": 56,
    "start_time": "2025-08-05T09:56:33.924Z"
   },
   {
    "duration": 6,
    "start_time": "2025-08-05T09:57:38.728Z"
   },
   {
    "duration": 28,
    "start_time": "2025-08-05T09:57:40.393Z"
   },
   {
    "duration": 48,
    "start_time": "2025-08-05T09:57:47.037Z"
   },
   {
    "duration": 6,
    "start_time": "2025-08-05T09:57:50.587Z"
   },
   {
    "duration": 45,
    "start_time": "2025-08-05T09:57:52.090Z"
   },
   {
    "duration": 71,
    "start_time": "2025-08-05T09:57:59.172Z"
   },
   {
    "duration": 7,
    "start_time": "2025-08-05T09:58:25.929Z"
   },
   {
    "duration": 32,
    "start_time": "2025-08-05T09:58:27.307Z"
   },
   {
    "duration": 32,
    "start_time": "2025-08-05T09:58:31.879Z"
   },
   {
    "duration": 6,
    "start_time": "2025-08-05T09:58:35.809Z"
   },
   {
    "duration": 55,
    "start_time": "2025-08-05T09:58:37.346Z"
   },
   {
    "duration": 55,
    "start_time": "2025-08-05T09:58:48.236Z"
   },
   {
    "duration": 6,
    "start_time": "2025-08-05T09:59:16.784Z"
   },
   {
    "duration": 38,
    "start_time": "2025-08-05T09:59:19.945Z"
   },
   {
    "duration": 5,
    "start_time": "2025-08-05T09:59:22.808Z"
   },
   {
    "duration": 57,
    "start_time": "2025-08-05T09:59:24.249Z"
   },
   {
    "duration": 45,
    "start_time": "2025-08-05T09:59:33.524Z"
   },
   {
    "duration": 47,
    "start_time": "2025-08-05T09:59:36.994Z"
   },
   {
    "duration": 6,
    "start_time": "2025-08-05T10:00:05.051Z"
   },
   {
    "duration": 32,
    "start_time": "2025-08-05T10:00:06.691Z"
   },
   {
    "duration": 44,
    "start_time": "2025-08-05T10:00:10.962Z"
   },
   {
    "duration": 5,
    "start_time": "2025-08-05T10:00:14.925Z"
   },
   {
    "duration": 59,
    "start_time": "2025-08-05T10:00:16.394Z"
   },
   {
    "duration": 49,
    "start_time": "2025-08-05T10:00:23.407Z"
   },
   {
    "duration": 5,
    "start_time": "2025-08-05T10:00:40.528Z"
   },
   {
    "duration": 30,
    "start_time": "2025-08-05T10:00:43.427Z"
   },
   {
    "duration": 35,
    "start_time": "2025-08-05T10:00:48.574Z"
   },
   {
    "duration": 5,
    "start_time": "2025-08-05T10:00:51.426Z"
   },
   {
    "duration": 47,
    "start_time": "2025-08-05T10:00:53.609Z"
   },
   {
    "duration": 57,
    "start_time": "2025-08-05T10:01:00.252Z"
   },
   {
    "duration": 6,
    "start_time": "2025-08-05T10:01:17.584Z"
   },
   {
    "duration": 34,
    "start_time": "2025-08-05T10:01:18.594Z"
   },
   {
    "duration": 13,
    "start_time": "2025-08-05T10:01:25.137Z"
   },
   {
    "duration": 5,
    "start_time": "2025-08-05T10:01:58.129Z"
   },
   {
    "duration": 64,
    "start_time": "2025-08-05T10:02:21.524Z"
   },
   {
    "duration": 58,
    "start_time": "2025-08-05T10:02:27.683Z"
   },
   {
    "duration": 1557,
    "start_time": "2025-08-05T10:02:35.129Z"
   },
   {
    "duration": 9,
    "start_time": "2025-08-05T10:03:01.059Z"
   },
   {
    "duration": 45,
    "start_time": "2025-08-05T10:03:07.803Z"
   },
   {
    "duration": 57,
    "start_time": "2025-08-05T10:03:13.685Z"
   },
   {
    "duration": 241,
    "start_time": "2025-08-05T10:03:16.706Z"
   },
   {
    "duration": 5,
    "start_time": "2025-08-05T10:03:27.426Z"
   },
   {
    "duration": 6,
    "start_time": "2025-08-05T10:03:31.907Z"
   },
   {
    "duration": 1644,
    "start_time": "2025-08-05T10:03:41.712Z"
   },
   {
    "duration": 1587,
    "start_time": "2025-08-05T10:04:41.128Z"
   },
   {
    "duration": 16,
    "start_time": "2025-08-05T10:04:51.856Z"
   },
   {
    "duration": 10,
    "start_time": "2025-08-05T10:05:04.568Z"
   },
   {
    "duration": 17,
    "start_time": "2025-08-05T10:05:06.307Z"
   },
   {
    "duration": 27,
    "start_time": "2025-08-05T10:05:11.140Z"
   },
   {
    "duration": 22,
    "start_time": "2025-08-05T10:05:24.237Z"
   },
   {
    "duration": 7,
    "start_time": "2025-08-05T10:07:58.220Z"
   },
   {
    "duration": 6,
    "start_time": "2025-08-05T10:08:09.425Z"
   },
   {
    "duration": 4,
    "start_time": "2025-08-05T10:10:14.800Z"
   },
   {
    "duration": 7,
    "start_time": "2025-08-05T10:10:19.169Z"
   },
   {
    "duration": 3,
    "start_time": "2025-08-05T10:10:24.345Z"
   },
   {
    "duration": 6,
    "start_time": "2025-08-05T10:10:30.707Z"
   },
   {
    "duration": 5,
    "start_time": "2025-08-05T10:10:32.792Z"
   },
   {
    "duration": 5,
    "start_time": "2025-08-05T10:10:34.161Z"
   },
   {
    "duration": 5,
    "start_time": "2025-08-05T10:10:35.449Z"
   },
   {
    "duration": 5,
    "start_time": "2025-08-05T10:10:36.793Z"
   },
   {
    "duration": 6,
    "start_time": "2025-08-05T10:10:38.249Z"
   },
   {
    "duration": 5,
    "start_time": "2025-08-05T10:10:59.315Z"
   },
   {
    "duration": 3,
    "start_time": "2025-08-05T10:11:02.087Z"
   },
   {
    "duration": 7,
    "start_time": "2025-08-05T10:11:05.297Z"
   },
   {
    "duration": 49,
    "start_time": "2025-08-05T10:11:32.481Z"
   },
   {
    "duration": 3,
    "start_time": "2025-08-05T10:11:35.025Z"
   },
   {
    "duration": 7,
    "start_time": "2025-08-05T10:11:36.747Z"
   },
   {
    "duration": 28609,
    "start_time": "2025-08-05T10:11:40.769Z"
   },
   {
    "duration": 305230,
    "start_time": "2025-08-05T10:12:11.696Z"
   },
   {
    "duration": 8,
    "start_time": "2025-08-05T10:18:53.368Z"
   },
   {
    "duration": 248280,
    "start_time": "2025-08-05T10:19:08.170Z"
   },
   {
    "duration": 8,
    "start_time": "2025-08-05T10:23:51.025Z"
   },
   {
    "duration": 820341,
    "start_time": "2025-08-05T10:23:54.145Z"
   },
   {
    "duration": 6,
    "start_time": "2025-08-05T10:38:11.112Z"
   },
   {
    "duration": 297704,
    "start_time": "2025-08-05T10:38:18.106Z"
   },
   {
    "duration": 384,
    "start_time": "2025-08-05T10:50:04.179Z"
   },
   {
    "duration": 111,
    "start_time": "2025-08-05T10:54:04.443Z"
   },
   {
    "duration": 348,
    "start_time": "2025-08-05T10:54:07.992Z"
   },
   {
    "duration": 384,
    "start_time": "2025-08-05T10:54:20.812Z"
   },
   {
    "duration": 344,
    "start_time": "2025-08-05T10:55:10.515Z"
   },
   {
    "duration": 415,
    "start_time": "2025-08-05T10:55:18.795Z"
   },
   {
    "duration": 14,
    "start_time": "2025-08-05T11:01:44.806Z"
   },
   {
    "duration": 13,
    "start_time": "2025-08-05T11:01:52.442Z"
   },
   {
    "duration": 14,
    "start_time": "2025-08-05T11:01:59.510Z"
   },
   {
    "duration": 38,
    "start_time": "2025-08-05T11:02:42.484Z"
   },
   {
    "duration": 24,
    "start_time": "2025-08-05T11:02:46.009Z"
   },
   {
    "duration": 13,
    "start_time": "2025-08-05T11:02:49.002Z"
   },
   {
    "duration": 15,
    "start_time": "2025-08-05T11:02:58.946Z"
   },
   {
    "duration": 12,
    "start_time": "2025-08-05T11:03:08.829Z"
   },
   {
    "duration": 11,
    "start_time": "2025-08-05T11:03:12.892Z"
   },
   {
    "duration": 34,
    "start_time": "2025-08-05T11:03:34.084Z"
   },
   {
    "duration": 26,
    "start_time": "2025-08-05T11:03:58.942Z"
   },
   {
    "duration": 32,
    "start_time": "2025-08-05T11:04:04.977Z"
   },
   {
    "duration": 46,
    "start_time": "2025-08-05T11:04:09.484Z"
   },
   {
    "duration": 22,
    "start_time": "2025-08-05T11:04:39.099Z"
   },
   {
    "duration": 34,
    "start_time": "2025-08-05T11:05:07.089Z"
   },
   {
    "duration": 5,
    "start_time": "2025-08-05T11:05:09.139Z"
   },
   {
    "duration": 4923,
    "start_time": "2025-08-05T11:05:11.227Z"
   },
   {
    "duration": 629,
    "start_time": "2025-08-05T11:05:24.994Z"
   },
   {
    "duration": 15,
    "start_time": "2025-08-05T11:05:48.433Z"
   },
   {
    "duration": 51,
    "start_time": "2025-08-05T11:06:14.915Z"
   },
   {
    "duration": 37,
    "start_time": "2025-08-05T11:06:36.210Z"
   },
   {
    "duration": 60,
    "start_time": "2025-08-05T11:06:55.233Z"
   },
   {
    "duration": 71,
    "start_time": "2025-08-05T11:07:34.468Z"
   },
   {
    "duration": 5,
    "start_time": "2025-08-05T11:08:19.657Z"
   },
   {
    "duration": 40,
    "start_time": "2025-08-05T11:09:07.991Z"
   },
   {
    "duration": 41,
    "start_time": "2025-08-05T11:09:47.299Z"
   },
   {
    "duration": 5,
    "start_time": "2025-08-05T11:24:30.699Z"
   },
   {
    "duration": 5,
    "start_time": "2025-08-05T11:24:37.083Z"
   },
   {
    "duration": 33957,
    "start_time": "2025-08-05T11:25:03.339Z"
   },
   {
    "duration": 4,
    "start_time": "2025-08-05T11:29:31.892Z"
   },
   {
    "duration": 5,
    "start_time": "2025-08-05T11:29:33.484Z"
   },
   {
    "duration": 14,
    "start_time": "2025-08-05T11:29:38.818Z"
   },
   {
    "duration": 33624,
    "start_time": "2025-08-05T11:29:45.413Z"
   },
   {
    "duration": 4,
    "start_time": "2025-08-05T11:30:44.069Z"
   },
   {
    "duration": 5,
    "start_time": "2025-08-05T11:30:46.484Z"
   },
   {
    "duration": 5,
    "start_time": "2025-08-05T11:30:48.093Z"
   },
   {
    "duration": 33912,
    "start_time": "2025-08-05T11:30:53.317Z"
   },
   {
    "duration": 4,
    "start_time": "2025-08-05T11:31:55.636Z"
   },
   {
    "duration": 5,
    "start_time": "2025-08-05T11:31:58.396Z"
   },
   {
    "duration": 19498,
    "start_time": "2025-08-05T11:32:38.184Z"
   },
   {
    "duration": 3747,
    "start_time": "2025-08-05T11:32:57.685Z"
   },
   {
    "duration": 12,
    "start_time": "2025-08-05T11:33:01.434Z"
   },
   {
    "duration": 193,
    "start_time": "2025-08-05T11:33:01.447Z"
   },
   {
    "duration": 72,
    "start_time": "2025-08-05T11:33:01.643Z"
   },
   {
    "duration": 84,
    "start_time": "2025-08-05T11:33:01.717Z"
   },
   {
    "duration": 98,
    "start_time": "2025-08-05T11:33:01.803Z"
   },
   {
    "duration": 37,
    "start_time": "2025-08-05T11:33:01.903Z"
   },
   {
    "duration": 74,
    "start_time": "2025-08-05T11:33:01.942Z"
   },
   {
    "duration": 43,
    "start_time": "2025-08-05T11:33:02.018Z"
   },
   {
    "duration": 266,
    "start_time": "2025-08-05T11:33:02.063Z"
   },
   {
    "duration": 28,
    "start_time": "2025-08-05T11:33:02.331Z"
   },
   {
    "duration": 41,
    "start_time": "2025-08-05T11:33:02.361Z"
   },
   {
    "duration": 24,
    "start_time": "2025-08-05T11:33:02.405Z"
   },
   {
    "duration": 27,
    "start_time": "2025-08-05T11:33:02.431Z"
   },
   {
    "duration": 71,
    "start_time": "2025-08-05T11:33:02.473Z"
   },
   {
    "duration": 57,
    "start_time": "2025-08-05T11:33:02.546Z"
   },
   {
    "duration": 26,
    "start_time": "2025-08-05T11:33:02.605Z"
   },
   {
    "duration": 77,
    "start_time": "2025-08-05T11:33:02.634Z"
   },
   {
    "duration": 6,
    "start_time": "2025-08-05T11:33:02.713Z"
   },
   {
    "duration": 72,
    "start_time": "2025-08-05T11:33:02.721Z"
   },
   {
    "duration": 27,
    "start_time": "2025-08-05T11:33:02.795Z"
   },
   {
    "duration": 110,
    "start_time": "2025-08-05T11:33:02.825Z"
   },
   {
    "duration": 62,
    "start_time": "2025-08-05T11:33:02.937Z"
   },
   {
    "duration": 58,
    "start_time": "2025-08-05T11:33:03.001Z"
   },
   {
    "duration": 37,
    "start_time": "2025-08-05T11:33:03.061Z"
   },
   {
    "duration": 17,
    "start_time": "2025-08-05T11:33:03.101Z"
   },
   {
    "duration": 267,
    "start_time": "2025-08-05T11:33:03.120Z"
   },
   {
    "duration": 54,
    "start_time": "2025-08-05T11:33:03.389Z"
   },
   {
    "duration": 99,
    "start_time": "2025-08-05T11:33:03.445Z"
   },
   {
    "duration": 91,
    "start_time": "2025-08-05T11:33:03.546Z"
   },
   {
    "duration": 81,
    "start_time": "2025-08-05T11:33:03.639Z"
   },
   {
    "duration": 6,
    "start_time": "2025-08-05T11:33:03.722Z"
   },
   {
    "duration": 122,
    "start_time": "2025-08-05T11:33:03.730Z"
   },
   {
    "duration": 33,
    "start_time": "2025-08-05T11:33:03.854Z"
   },
   {
    "duration": 9,
    "start_time": "2025-08-05T11:33:03.892Z"
   },
   {
    "duration": 37,
    "start_time": "2025-08-05T11:33:03.902Z"
   },
   {
    "duration": 99,
    "start_time": "2025-08-05T11:33:03.942Z"
   },
   {
    "duration": 14,
    "start_time": "2025-08-05T11:33:04.043Z"
   },
   {
    "duration": 166,
    "start_time": "2025-08-05T11:33:04.059Z"
   },
   {
    "duration": 5,
    "start_time": "2025-08-05T11:33:04.231Z"
   },
   {
    "duration": 87,
    "start_time": "2025-08-05T11:33:04.238Z"
   },
   {
    "duration": 5,
    "start_time": "2025-08-05T11:33:04.327Z"
   },
   {
    "duration": 122,
    "start_time": "2025-08-05T11:33:04.334Z"
   },
   {
    "duration": 5,
    "start_time": "2025-08-05T11:33:04.457Z"
   },
   {
    "duration": 69,
    "start_time": "2025-08-05T11:33:04.464Z"
   },
   {
    "duration": 6,
    "start_time": "2025-08-05T11:33:04.535Z"
   },
   {
    "duration": 122,
    "start_time": "2025-08-05T11:33:04.544Z"
   },
   {
    "duration": 19,
    "start_time": "2025-08-05T11:33:04.668Z"
   },
   {
    "duration": 93,
    "start_time": "2025-08-05T11:33:04.690Z"
   },
   {
    "duration": 8,
    "start_time": "2025-08-05T11:33:04.785Z"
   },
   {
    "duration": 56,
    "start_time": "2025-08-05T11:33:04.795Z"
   },
   {
    "duration": 482,
    "start_time": "2025-08-05T11:33:04.854Z"
   },
   {
    "duration": 10,
    "start_time": "2025-08-05T11:33:05.338Z"
   },
   {
    "duration": 494,
    "start_time": "2025-08-05T11:33:05.350Z"
   },
   {
    "duration": 44,
    "start_time": "2025-08-05T11:33:05.846Z"
   },
   {
    "duration": 99,
    "start_time": "2025-08-05T11:33:05.893Z"
   },
   {
    "duration": 26,
    "start_time": "2025-08-05T11:33:05.994Z"
   },
   {
    "duration": 138,
    "start_time": "2025-08-05T11:33:06.022Z"
   },
   {
    "duration": 130,
    "start_time": "2025-08-05T11:33:06.162Z"
   },
   {
    "duration": 64,
    "start_time": "2025-08-05T11:33:06.295Z"
   },
   {
    "duration": 9,
    "start_time": "2025-08-05T11:33:06.361Z"
   },
   {
    "duration": 39,
    "start_time": "2025-08-05T11:33:06.388Z"
   },
   {
    "duration": 6,
    "start_time": "2025-08-05T11:33:06.429Z"
   },
   {
    "duration": 109,
    "start_time": "2025-08-05T11:33:06.437Z"
   },
   {
    "duration": 8,
    "start_time": "2025-08-05T11:33:06.548Z"
   },
   {
    "duration": 78,
    "start_time": "2025-08-05T11:33:06.558Z"
   },
   {
    "duration": 6,
    "start_time": "2025-08-05T11:33:06.638Z"
   },
   {
    "duration": 79,
    "start_time": "2025-08-05T11:33:06.646Z"
   },
   {
    "duration": 6,
    "start_time": "2025-08-05T11:33:06.727Z"
   },
   {
    "duration": 68,
    "start_time": "2025-08-05T11:33:06.735Z"
   },
   {
    "duration": 7,
    "start_time": "2025-08-05T11:33:06.805Z"
   },
   {
    "duration": 78,
    "start_time": "2025-08-05T11:33:06.814Z"
   },
   {
    "duration": 39,
    "start_time": "2025-08-05T11:33:06.894Z"
   },
   {
    "duration": 53,
    "start_time": "2025-08-05T11:33:06.935Z"
   },
   {
    "duration": 6,
    "start_time": "2025-08-05T11:33:06.991Z"
   },
   {
    "duration": 55,
    "start_time": "2025-08-05T11:33:06.999Z"
   },
   {
    "duration": 8,
    "start_time": "2025-08-05T11:33:07.083Z"
   },
   {
    "duration": 40,
    "start_time": "2025-08-05T11:33:07.093Z"
   },
   {
    "duration": 26,
    "start_time": "2025-08-05T11:33:07.136Z"
   },
   {
    "duration": 226,
    "start_time": "2025-08-05T11:33:07.164Z"
   },
   {
    "duration": 53,
    "start_time": "2025-08-05T11:33:07.392Z"
   },
   {
    "duration": 57,
    "start_time": "2025-08-05T11:33:07.448Z"
   },
   {
    "duration": 13,
    "start_time": "2025-08-05T11:33:07.507Z"
   },
   {
    "duration": 74,
    "start_time": "2025-08-05T11:33:07.522Z"
   },
   {
    "duration": 58,
    "start_time": "2025-08-05T11:33:07.598Z"
   },
   {
    "duration": 71,
    "start_time": "2025-08-05T11:33:07.658Z"
   },
   {
    "duration": 80,
    "start_time": "2025-08-05T11:33:07.731Z"
   },
   {
    "duration": 327,
    "start_time": "2025-08-05T11:33:07.813Z"
   },
   {
    "duration": 7,
    "start_time": "2025-08-05T11:33:08.142Z"
   },
   {
    "duration": 58,
    "start_time": "2025-08-05T11:33:08.151Z"
   },
   {
    "duration": 1790,
    "start_time": "2025-08-05T11:33:08.212Z"
   },
   {
    "duration": 1813,
    "start_time": "2025-08-05T11:33:10.004Z"
   },
   {
    "duration": 28,
    "start_time": "2025-08-05T11:33:11.820Z"
   },
   {
    "duration": 20,
    "start_time": "2025-08-05T11:33:11.851Z"
   },
   {
    "duration": 27,
    "start_time": "2025-08-05T11:33:11.874Z"
   },
   {
    "duration": 27,
    "start_time": "2025-08-05T11:33:11.902Z"
   },
   {
    "duration": 7,
    "start_time": "2025-08-05T11:33:11.931Z"
   },
   {
    "duration": 14,
    "start_time": "2025-08-05T11:33:11.971Z"
   },
   {
    "duration": 9,
    "start_time": "2025-08-05T11:33:11.988Z"
   },
   {
    "duration": 11,
    "start_time": "2025-08-05T11:33:11.999Z"
   },
   {
    "duration": 12,
    "start_time": "2025-08-05T11:33:12.012Z"
   },
   {
    "duration": 20,
    "start_time": "2025-08-05T11:33:12.026Z"
   },
   {
    "duration": 17,
    "start_time": "2025-08-05T11:33:12.048Z"
   },
   {
    "duration": 11,
    "start_time": "2025-08-05T11:33:12.068Z"
   },
   {
    "duration": 99,
    "start_time": "2025-08-05T11:33:12.081Z"
   },
   {
    "duration": 9,
    "start_time": "2025-08-05T11:33:12.189Z"
   },
   {
    "duration": 18,
    "start_time": "2025-08-05T11:33:12.200Z"
   },
   {
    "duration": 6,
    "start_time": "2025-08-05T11:33:12.222Z"
   },
   {
    "duration": 10,
    "start_time": "2025-08-05T11:33:12.231Z"
   },
   {
    "duration": 92,
    "start_time": "2025-08-05T11:33:12.243Z"
   },
   {
    "duration": 3,
    "start_time": "2025-08-05T11:33:12.337Z"
   },
   {
    "duration": 24,
    "start_time": "2025-08-05T11:33:12.341Z"
   },
   {
    "duration": 383,
    "start_time": "2025-08-05T11:33:12.367Z"
   },
   {
    "duration": 0,
    "start_time": "2025-08-05T11:33:12.753Z"
   },
   {
    "duration": 0,
    "start_time": "2025-08-05T11:33:12.754Z"
   },
   {
    "duration": 0,
    "start_time": "2025-08-05T11:33:12.756Z"
   },
   {
    "duration": 0,
    "start_time": "2025-08-05T11:33:12.757Z"
   },
   {
    "duration": 0,
    "start_time": "2025-08-05T11:33:12.759Z"
   },
   {
    "duration": 0,
    "start_time": "2025-08-05T11:33:12.772Z"
   },
   {
    "duration": 0,
    "start_time": "2025-08-05T11:33:12.774Z"
   },
   {
    "duration": 0,
    "start_time": "2025-08-05T11:33:12.776Z"
   },
   {
    "duration": 0,
    "start_time": "2025-08-05T11:33:12.777Z"
   },
   {
    "duration": 0,
    "start_time": "2025-08-05T11:33:12.779Z"
   },
   {
    "duration": 0,
    "start_time": "2025-08-05T11:33:12.781Z"
   },
   {
    "duration": 0,
    "start_time": "2025-08-05T11:33:12.783Z"
   },
   {
    "duration": 0,
    "start_time": "2025-08-05T11:33:12.784Z"
   },
   {
    "duration": 0,
    "start_time": "2025-08-05T11:33:12.786Z"
   },
   {
    "duration": 0,
    "start_time": "2025-08-05T11:33:12.788Z"
   },
   {
    "duration": 0,
    "start_time": "2025-08-05T11:33:12.789Z"
   },
   {
    "duration": 0,
    "start_time": "2025-08-05T11:33:12.791Z"
   },
   {
    "duration": 0,
    "start_time": "2025-08-05T11:33:12.792Z"
   },
   {
    "duration": 0,
    "start_time": "2025-08-05T11:33:12.794Z"
   },
   {
    "duration": 0,
    "start_time": "2025-08-05T11:33:12.796Z"
   },
   {
    "duration": 0,
    "start_time": "2025-08-05T11:33:12.797Z"
   },
   {
    "duration": 0,
    "start_time": "2025-08-05T11:33:12.799Z"
   },
   {
    "duration": 0,
    "start_time": "2025-08-05T11:33:12.800Z"
   },
   {
    "duration": 0,
    "start_time": "2025-08-05T11:33:12.802Z"
   },
   {
    "duration": 0,
    "start_time": "2025-08-05T11:33:12.803Z"
   },
   {
    "duration": 0,
    "start_time": "2025-08-05T11:33:12.805Z"
   },
   {
    "duration": 0,
    "start_time": "2025-08-05T11:33:12.806Z"
   },
   {
    "duration": 0,
    "start_time": "2025-08-05T11:33:12.807Z"
   },
   {
    "duration": 0,
    "start_time": "2025-08-05T11:33:12.808Z"
   },
   {
    "duration": 0,
    "start_time": "2025-08-05T11:33:12.809Z"
   },
   {
    "duration": 32616,
    "start_time": "2025-08-05T11:37:39.717Z"
   },
   {
    "duration": 4,
    "start_time": "2025-08-05T11:39:21.399Z"
   },
   {
    "duration": 29818,
    "start_time": "2025-08-05T11:39:30.191Z"
   },
   {
    "duration": 139371,
    "start_time": "2025-08-05T11:40:08.512Z"
   },
   {
    "duration": 26121,
    "start_time": "2025-08-05T11:42:27.887Z"
   },
   {
    "duration": 25564,
    "start_time": "2025-08-05T11:42:54.010Z"
   },
   {
    "duration": 111889,
    "start_time": "2025-08-05T11:43:19.578Z"
   },
   {
    "duration": 328072,
    "start_time": "2025-08-05T11:45:11.469Z"
   },
   {
    "duration": 1,
    "start_time": "2025-08-05T11:50:39.543Z"
   },
   {
    "duration": 0,
    "start_time": "2025-08-05T11:50:39.544Z"
   },
   {
    "duration": 0,
    "start_time": "2025-08-05T11:50:39.546Z"
   },
   {
    "duration": 0,
    "start_time": "2025-08-05T11:50:39.547Z"
   },
   {
    "duration": 0,
    "start_time": "2025-08-05T11:50:39.549Z"
   },
   {
    "duration": 0,
    "start_time": "2025-08-05T11:50:39.550Z"
   },
   {
    "duration": 0,
    "start_time": "2025-08-05T11:50:39.551Z"
   },
   {
    "duration": 0,
    "start_time": "2025-08-05T11:50:39.575Z"
   },
   {
    "duration": 5,
    "start_time": "2025-08-05T11:50:55.299Z"
   },
   {
    "duration": 5,
    "start_time": "2025-08-05T11:51:08.537Z"
   },
   {
    "duration": 5,
    "start_time": "2025-08-05T11:51:24.809Z"
   },
   {
    "duration": 5,
    "start_time": "2025-08-05T11:51:29.690Z"
   },
   {
    "duration": 3,
    "start_time": "2025-08-05T11:51:48.897Z"
   },
   {
    "duration": 32722,
    "start_time": "2025-08-05T11:51:59.218Z"
   },
   {
    "duration": 220838,
    "start_time": "2025-08-05T11:52:40.026Z"
   },
   {
    "duration": 25963,
    "start_time": "2025-08-05T11:56:20.870Z"
   },
   {
    "duration": 127487,
    "start_time": "2025-08-05T11:56:46.836Z"
   },
   {
    "duration": 304611,
    "start_time": "2025-08-05T11:58:54.325Z"
   },
   {
    "duration": 5,
    "start_time": "2025-08-05T12:04:53.042Z"
   },
   {
    "duration": 10,
    "start_time": "2025-08-05T12:05:01.588Z"
   },
   {
    "duration": 42,
    "start_time": "2025-08-05T12:05:04.011Z"
   },
   {
    "duration": 29,
    "start_time": "2025-08-05T12:05:05.962Z"
   },
   {
    "duration": 6328,
    "start_time": "2025-08-05T12:05:24.587Z"
   },
   {
    "duration": 6,
    "start_time": "2025-08-05T12:05:45.329Z"
   },
   {
    "duration": 36675,
    "start_time": "2025-08-05T12:05:50.858Z"
   },
   {
    "duration": 8,
    "start_time": "2025-08-05T12:09:10.733Z"
   },
   {
    "duration": 7,
    "start_time": "2025-08-05T12:09:21.388Z"
   },
   {
    "duration": 7,
    "start_time": "2025-08-05T12:09:29.362Z"
   },
   {
    "duration": 27,
    "start_time": "2025-08-05T12:09:30.192Z"
   },
   {
    "duration": 37,
    "start_time": "2025-08-05T12:09:31.680Z"
   },
   {
    "duration": 9,
    "start_time": "2025-08-05T12:09:33.250Z"
   },
   {
    "duration": 329738,
    "start_time": "2025-08-05T12:09:43.036Z"
   },
   {
    "duration": 170,
    "start_time": "2025-08-05T12:24:08.528Z"
   },
   {
    "duration": 377,
    "start_time": "2025-08-05T12:25:39.230Z"
   },
   {
    "duration": 399,
    "start_time": "2025-08-05T12:26:00.895Z"
   },
   {
    "duration": 369,
    "start_time": "2025-08-05T12:26:09.839Z"
   },
   {
    "duration": 362,
    "start_time": "2025-08-05T12:26:17.519Z"
   },
   {
    "duration": 412,
    "start_time": "2025-08-05T12:26:32.184Z"
   },
   {
    "duration": 384,
    "start_time": "2025-08-05T12:26:35.841Z"
   },
   {
    "duration": 356,
    "start_time": "2025-08-05T12:27:24.005Z"
   },
   {
    "duration": 363,
    "start_time": "2025-08-05T12:27:33.358Z"
   },
   {
    "duration": 364,
    "start_time": "2025-08-05T12:38:46.098Z"
   },
   {
    "duration": 558,
    "start_time": "2025-08-05T12:39:37.667Z"
   },
   {
    "duration": 339,
    "start_time": "2025-08-05T12:44:01.022Z"
   },
   {
    "duration": 40,
    "start_time": "2025-08-05T12:52:54.012Z"
   },
   {
    "duration": 78,
    "start_time": "2025-08-05T12:53:44.637Z"
   },
   {
    "duration": 461,
    "start_time": "2025-08-05T13:31:10.221Z"
   },
   {
    "duration": 14,
    "start_time": "2025-08-05T13:40:50.585Z"
   },
   {
    "duration": 43,
    "start_time": "2025-08-05T13:42:01.891Z"
   },
   {
    "duration": 30,
    "start_time": "2025-08-05T13:46:03.796Z"
   },
   {
    "duration": 26,
    "start_time": "2025-08-05T13:46:24.221Z"
   },
   {
    "duration": 52,
    "start_time": "2025-08-05T13:46:29.749Z"
   },
   {
    "duration": 39,
    "start_time": "2025-08-05T13:48:27.288Z"
   },
   {
    "duration": 114,
    "start_time": "2025-08-05T13:53:03.321Z"
   },
   {
    "duration": 119,
    "start_time": "2025-08-05T13:53:45.623Z"
   },
   {
    "duration": 105,
    "start_time": "2025-08-05T13:57:01.179Z"
   },
   {
    "duration": 111,
    "start_time": "2025-08-05T13:57:52.764Z"
   },
   {
    "duration": 118,
    "start_time": "2025-08-05T13:57:56.377Z"
   },
   {
    "duration": 134,
    "start_time": "2025-08-05T13:57:59.180Z"
   },
   {
    "duration": 92,
    "start_time": "2025-08-05T13:58:04.510Z"
   },
   {
    "duration": 107,
    "start_time": "2025-08-05T13:58:07.836Z"
   },
   {
    "duration": 122,
    "start_time": "2025-08-05T13:58:10.936Z"
   },
   {
    "duration": 143,
    "start_time": "2025-08-05T13:58:17.259Z"
   },
   {
    "duration": 119,
    "start_time": "2025-08-05T13:58:22.956Z"
   },
   {
    "duration": 135,
    "start_time": "2025-08-05T13:58:32.554Z"
   },
   {
    "duration": 123,
    "start_time": "2025-08-05T13:58:59.918Z"
   },
   {
    "duration": 90,
    "start_time": "2025-08-05T13:59:12.916Z"
   },
   {
    "duration": 96,
    "start_time": "2025-08-05T14:03:43.852Z"
   },
   {
    "duration": 103,
    "start_time": "2025-08-05T14:06:06.103Z"
   },
   {
    "duration": 223,
    "start_time": "2025-08-05T14:06:22.236Z"
   },
   {
    "duration": 95,
    "start_time": "2025-08-05T14:07:54.060Z"
   },
   {
    "duration": 191,
    "start_time": "2025-08-05T14:10:56.602Z"
   },
   {
    "duration": 206,
    "start_time": "2025-08-05T14:11:09.123Z"
   },
   {
    "duration": 201,
    "start_time": "2025-08-05T14:18:15.850Z"
   },
   {
    "duration": 233,
    "start_time": "2025-08-05T14:18:31.422Z"
   },
   {
    "duration": 206,
    "start_time": "2025-08-05T14:18:39.133Z"
   },
   {
    "duration": 213,
    "start_time": "2025-08-05T14:19:33.111Z"
   },
   {
    "duration": 84,
    "start_time": "2025-08-05T14:21:05.224Z"
   },
   {
    "duration": 11,
    "start_time": "2025-08-05T14:21:32.909Z"
   },
   {
    "duration": 11,
    "start_time": "2025-08-05T14:21:37.516Z"
   },
   {
    "duration": 33,
    "start_time": "2025-08-05T14:21:41.998Z"
   },
   {
    "duration": 293,
    "start_time": "2025-08-05T14:22:38.327Z"
   },
   {
    "duration": 20,
    "start_time": "2025-08-05T14:23:19.144Z"
   },
   {
    "duration": 5,
    "start_time": "2025-08-05T14:23:20.952Z"
   },
   {
    "duration": 21,
    "start_time": "2025-08-05T14:23:21.845Z"
   },
   {
    "duration": 519,
    "start_time": "2025-08-05T14:23:28.814Z"
   },
   {
    "duration": 1368,
    "start_time": "2025-08-05T14:23:32.844Z"
   },
   {
    "duration": 15,
    "start_time": "2025-08-05T14:24:07.114Z"
   },
   {
    "duration": 23,
    "start_time": "2025-08-05T14:24:45.552Z"
   },
   {
    "duration": 2375,
    "start_time": "2025-08-05T14:25:49.407Z"
   },
   {
    "duration": 49,
    "start_time": "2025-08-05T14:26:00.975Z"
   },
   {
    "duration": 10,
    "start_time": "2025-08-05T14:26:01.980Z"
   },
   {
    "duration": 1341,
    "start_time": "2025-08-05T14:26:03.406Z"
   },
   {
    "duration": 1330,
    "start_time": "2025-08-05T14:26:17.983Z"
   },
   {
    "duration": 284,
    "start_time": "2025-08-05T14:26:30.714Z"
   },
   {
    "duration": 1486,
    "start_time": "2025-08-05T14:28:23.671Z"
   },
   {
    "duration": 1486,
    "start_time": "2025-08-05T14:28:31.031Z"
   },
   {
    "duration": 86,
    "start_time": "2025-08-05T14:29:24.423Z"
   },
   {
    "duration": 49687,
    "start_time": "2025-08-05T16:11:17.594Z"
   },
   {
    "duration": 3996,
    "start_time": "2025-08-05T16:12:07.284Z"
   },
   {
    "duration": 15,
    "start_time": "2025-08-05T16:12:11.283Z"
   },
   {
    "duration": 42,
    "start_time": "2025-08-05T16:12:11.300Z"
   },
   {
    "duration": 18,
    "start_time": "2025-08-05T16:12:11.344Z"
   },
   {
    "duration": 26,
    "start_time": "2025-08-05T16:12:11.363Z"
   },
   {
    "duration": 24,
    "start_time": "2025-08-05T16:12:11.390Z"
   },
   {
    "duration": 23,
    "start_time": "2025-08-05T16:12:11.416Z"
   },
   {
    "duration": 98,
    "start_time": "2025-08-05T16:12:11.441Z"
   },
   {
    "duration": 315,
    "start_time": "2025-08-05T16:12:11.542Z"
   },
   {
    "duration": 28,
    "start_time": "2025-08-05T16:12:11.859Z"
   },
   {
    "duration": 33,
    "start_time": "2025-08-05T16:12:11.889Z"
   },
   {
    "duration": 38,
    "start_time": "2025-08-05T16:12:11.924Z"
   },
   {
    "duration": 41,
    "start_time": "2025-08-05T16:12:11.964Z"
   },
   {
    "duration": 31,
    "start_time": "2025-08-05T16:12:12.007Z"
   },
   {
    "duration": 36,
    "start_time": "2025-08-05T16:12:12.040Z"
   },
   {
    "duration": 30,
    "start_time": "2025-08-05T16:12:12.078Z"
   },
   {
    "duration": 38,
    "start_time": "2025-08-05T16:12:12.110Z"
   },
   {
    "duration": 4,
    "start_time": "2025-08-05T16:12:12.151Z"
   },
   {
    "duration": 38,
    "start_time": "2025-08-05T16:12:12.157Z"
   },
   {
    "duration": 44,
    "start_time": "2025-08-05T16:12:12.198Z"
   },
   {
    "duration": 74,
    "start_time": "2025-08-05T16:12:12.244Z"
   },
   {
    "duration": 14,
    "start_time": "2025-08-05T16:12:12.319Z"
   },
   {
    "duration": 18,
    "start_time": "2025-08-05T16:12:12.334Z"
   },
   {
    "duration": 73,
    "start_time": "2025-08-05T16:12:12.354Z"
   },
   {
    "duration": 64,
    "start_time": "2025-08-05T16:12:12.429Z"
   },
   {
    "duration": 199,
    "start_time": "2025-08-05T16:12:12.494Z"
   },
   {
    "duration": 5,
    "start_time": "2025-08-05T16:12:12.697Z"
   },
   {
    "duration": 224,
    "start_time": "2025-08-05T16:12:12.704Z"
   },
   {
    "duration": 33,
    "start_time": "2025-08-05T16:12:12.930Z"
   },
   {
    "duration": 399,
    "start_time": "2025-08-05T16:12:12.965Z"
   },
   {
    "duration": 232,
    "start_time": "2025-08-05T16:12:13.366Z"
   },
   {
    "duration": 69,
    "start_time": "2025-08-05T16:12:13.600Z"
   },
   {
    "duration": 18,
    "start_time": "2025-08-05T16:12:13.671Z"
   },
   {
    "duration": 8,
    "start_time": "2025-08-05T16:12:13.699Z"
   },
   {
    "duration": 6,
    "start_time": "2025-08-05T16:12:13.709Z"
   },
   {
    "duration": 49,
    "start_time": "2025-08-05T16:12:13.717Z"
   },
   {
    "duration": 33,
    "start_time": "2025-08-05T16:12:13.768Z"
   },
   {
    "duration": 56,
    "start_time": "2025-08-05T16:12:13.803Z"
   },
   {
    "duration": 5,
    "start_time": "2025-08-05T16:12:13.861Z"
   },
   {
    "duration": 64,
    "start_time": "2025-08-05T16:12:13.868Z"
   },
   {
    "duration": 5,
    "start_time": "2025-08-05T16:12:13.933Z"
   },
   {
    "duration": 68,
    "start_time": "2025-08-05T16:12:13.940Z"
   },
   {
    "duration": 5,
    "start_time": "2025-08-05T16:12:14.010Z"
   },
   {
    "duration": 67,
    "start_time": "2025-08-05T16:12:14.016Z"
   },
   {
    "duration": 6,
    "start_time": "2025-08-05T16:12:14.085Z"
   },
   {
    "duration": 49,
    "start_time": "2025-08-05T16:12:14.093Z"
   },
   {
    "duration": 4,
    "start_time": "2025-08-05T16:12:14.144Z"
   },
   {
    "duration": 70,
    "start_time": "2025-08-05T16:12:14.150Z"
   },
   {
    "duration": 6,
    "start_time": "2025-08-05T16:12:14.222Z"
   },
   {
    "duration": 43,
    "start_time": "2025-08-05T16:12:14.230Z"
   },
   {
    "duration": 263,
    "start_time": "2025-08-05T16:12:14.275Z"
   },
   {
    "duration": 9,
    "start_time": "2025-08-05T16:12:14.540Z"
   },
   {
    "duration": 440,
    "start_time": "2025-08-05T16:12:14.551Z"
   },
   {
    "duration": 30,
    "start_time": "2025-08-05T16:12:14.992Z"
   },
   {
    "duration": 86,
    "start_time": "2025-08-05T16:12:15.024Z"
   },
   {
    "duration": 241,
    "start_time": "2025-08-05T16:12:15.111Z"
   },
   {
    "duration": 77,
    "start_time": "2025-08-05T16:12:15.353Z"
   },
   {
    "duration": 196,
    "start_time": "2025-08-05T16:12:15.432Z"
   },
   {
    "duration": 144,
    "start_time": "2025-08-05T16:12:15.630Z"
   },
   {
    "duration": 15,
    "start_time": "2025-08-05T16:12:15.775Z"
   },
   {
    "duration": 41,
    "start_time": "2025-08-05T16:12:15.792Z"
   },
   {
    "duration": 5,
    "start_time": "2025-08-05T16:12:15.834Z"
   },
   {
    "duration": 60,
    "start_time": "2025-08-05T16:12:15.841Z"
   },
   {
    "duration": 6,
    "start_time": "2025-08-05T16:12:15.902Z"
   },
   {
    "duration": 76,
    "start_time": "2025-08-05T16:12:15.910Z"
   },
   {
    "duration": 5,
    "start_time": "2025-08-05T16:12:15.988Z"
   },
   {
    "duration": 73,
    "start_time": "2025-08-05T16:12:15.994Z"
   },
   {
    "duration": 6,
    "start_time": "2025-08-05T16:12:16.070Z"
   },
   {
    "duration": 66,
    "start_time": "2025-08-05T16:12:16.078Z"
   },
   {
    "duration": 6,
    "start_time": "2025-08-05T16:12:16.146Z"
   },
   {
    "duration": 71,
    "start_time": "2025-08-05T16:12:16.154Z"
   },
   {
    "duration": 6,
    "start_time": "2025-08-05T16:12:16.226Z"
   },
   {
    "duration": 35,
    "start_time": "2025-08-05T16:12:16.233Z"
   },
   {
    "duration": 4,
    "start_time": "2025-08-05T16:12:16.269Z"
   },
   {
    "duration": 46,
    "start_time": "2025-08-05T16:12:16.299Z"
   },
   {
    "duration": 5,
    "start_time": "2025-08-05T16:12:16.346Z"
   },
   {
    "duration": 48,
    "start_time": "2025-08-05T16:12:16.353Z"
   },
   {
    "duration": 120,
    "start_time": "2025-08-05T16:12:16.403Z"
   },
   {
    "duration": 69,
    "start_time": "2025-08-05T16:12:16.525Z"
   },
   {
    "duration": 4,
    "start_time": "2025-08-05T16:12:16.596Z"
   },
   {
    "duration": 44,
    "start_time": "2025-08-05T16:12:16.607Z"
   },
   {
    "duration": 19,
    "start_time": "2025-08-05T16:12:16.652Z"
   },
   {
    "duration": 5,
    "start_time": "2025-08-05T16:12:16.673Z"
   },
   {
    "duration": 180,
    "start_time": "2025-08-05T16:12:16.680Z"
   },
   {
    "duration": 73,
    "start_time": "2025-08-05T16:12:16.862Z"
   },
   {
    "duration": 81,
    "start_time": "2025-08-05T16:12:16.937Z"
   },
   {
    "duration": 296,
    "start_time": "2025-08-05T16:12:17.020Z"
   },
   {
    "duration": 6,
    "start_time": "2025-08-05T16:12:17.318Z"
   },
   {
    "duration": 38,
    "start_time": "2025-08-05T16:12:17.325Z"
   },
   {
    "duration": 1511,
    "start_time": "2025-08-05T16:12:17.364Z"
   },
   {
    "duration": 1414,
    "start_time": "2025-08-05T16:12:18.877Z"
   },
   {
    "duration": 16,
    "start_time": "2025-08-05T16:12:20.298Z"
   },
   {
    "duration": 10,
    "start_time": "2025-08-05T16:12:20.316Z"
   },
   {
    "duration": 19,
    "start_time": "2025-08-05T16:12:20.328Z"
   },
   {
    "duration": 59,
    "start_time": "2025-08-05T16:12:20.349Z"
   },
   {
    "duration": 86,
    "start_time": "2025-08-05T16:12:20.410Z"
   },
   {
    "duration": 78,
    "start_time": "2025-08-05T16:12:20.498Z"
   },
   {
    "duration": 0,
    "start_time": "2025-08-05T16:12:20.578Z"
   },
   {
    "duration": 0,
    "start_time": "2025-08-05T16:12:20.580Z"
   },
   {
    "duration": 0,
    "start_time": "2025-08-05T16:12:20.582Z"
   },
   {
    "duration": 0,
    "start_time": "2025-08-05T16:12:20.583Z"
   },
   {
    "duration": 0,
    "start_time": "2025-08-05T16:12:20.585Z"
   },
   {
    "duration": 0,
    "start_time": "2025-08-05T16:12:20.587Z"
   },
   {
    "duration": 0,
    "start_time": "2025-08-05T16:12:20.588Z"
   },
   {
    "duration": 0,
    "start_time": "2025-08-05T16:12:20.590Z"
   },
   {
    "duration": 0,
    "start_time": "2025-08-05T16:12:20.592Z"
   },
   {
    "duration": 0,
    "start_time": "2025-08-05T16:12:20.593Z"
   },
   {
    "duration": 0,
    "start_time": "2025-08-05T16:12:20.595Z"
   },
   {
    "duration": 0,
    "start_time": "2025-08-05T16:12:20.596Z"
   },
   {
    "duration": 0,
    "start_time": "2025-08-05T16:12:20.598Z"
   },
   {
    "duration": 0,
    "start_time": "2025-08-05T16:12:20.599Z"
   },
   {
    "duration": 0,
    "start_time": "2025-08-05T16:12:20.601Z"
   },
   {
    "duration": 0,
    "start_time": "2025-08-05T16:12:20.602Z"
   },
   {
    "duration": 0,
    "start_time": "2025-08-05T16:12:20.604Z"
   },
   {
    "duration": 0,
    "start_time": "2025-08-05T16:12:20.605Z"
   },
   {
    "duration": 0,
    "start_time": "2025-08-05T16:12:20.607Z"
   },
   {
    "duration": 0,
    "start_time": "2025-08-05T16:12:20.608Z"
   },
   {
    "duration": 0,
    "start_time": "2025-08-05T16:12:20.609Z"
   },
   {
    "duration": 0,
    "start_time": "2025-08-05T16:12:20.611Z"
   },
   {
    "duration": 0,
    "start_time": "2025-08-05T16:12:20.612Z"
   },
   {
    "duration": 0,
    "start_time": "2025-08-05T16:12:20.614Z"
   },
   {
    "duration": 0,
    "start_time": "2025-08-05T16:12:20.616Z"
   },
   {
    "duration": 0,
    "start_time": "2025-08-05T16:12:20.617Z"
   },
   {
    "duration": 0,
    "start_time": "2025-08-05T16:12:20.618Z"
   },
   {
    "duration": 0,
    "start_time": "2025-08-05T16:12:20.619Z"
   },
   {
    "duration": 0,
    "start_time": "2025-08-05T16:12:20.620Z"
   },
   {
    "duration": 0,
    "start_time": "2025-08-05T16:12:20.621Z"
   },
   {
    "duration": 0,
    "start_time": "2025-08-05T16:12:20.623Z"
   },
   {
    "duration": 0,
    "start_time": "2025-08-05T16:12:20.624Z"
   },
   {
    "duration": 0,
    "start_time": "2025-08-05T16:12:20.625Z"
   },
   {
    "duration": 0,
    "start_time": "2025-08-05T16:12:20.626Z"
   },
   {
    "duration": 0,
    "start_time": "2025-08-05T16:12:20.627Z"
   },
   {
    "duration": 0,
    "start_time": "2025-08-05T16:12:20.628Z"
   },
   {
    "duration": 0,
    "start_time": "2025-08-05T16:12:20.630Z"
   },
   {
    "duration": 0,
    "start_time": "2025-08-05T16:12:20.631Z"
   },
   {
    "duration": 0,
    "start_time": "2025-08-05T16:12:20.632Z"
   },
   {
    "duration": 0,
    "start_time": "2025-08-05T16:12:20.633Z"
   },
   {
    "duration": 0,
    "start_time": "2025-08-05T16:12:20.634Z"
   },
   {
    "duration": 0,
    "start_time": "2025-08-05T16:12:20.635Z"
   },
   {
    "duration": 4,
    "start_time": "2025-08-05T16:18:18.968Z"
   },
   {
    "duration": 4,
    "start_time": "2025-08-05T16:18:27.455Z"
   },
   {
    "duration": 6,
    "start_time": "2025-08-05T16:18:32.479Z"
   },
   {
    "duration": 4,
    "start_time": "2025-08-05T16:21:48.232Z"
   },
   {
    "duration": 16,
    "start_time": "2025-08-05T16:21:51.238Z"
   },
   {
    "duration": 28,
    "start_time": "2025-08-05T16:21:54.309Z"
   },
   {
    "duration": 5,
    "start_time": "2025-08-05T16:22:09.623Z"
   },
   {
    "duration": 6,
    "start_time": "2025-08-05T16:23:00.989Z"
   },
   {
    "duration": 6,
    "start_time": "2025-08-05T16:23:30.233Z"
   },
   {
    "duration": 4,
    "start_time": "2025-08-05T16:23:38.482Z"
   },
   {
    "duration": 1902,
    "start_time": "2025-08-05T16:23:44.792Z"
   },
   {
    "duration": 6,
    "start_time": "2025-08-05T16:23:53.201Z"
   },
   {
    "duration": 5,
    "start_time": "2025-08-05T16:24:07.130Z"
   },
   {
    "duration": 6,
    "start_time": "2025-08-05T16:24:12.989Z"
   },
   {
    "duration": 100,
    "start_time": "2025-08-05T16:25:35.195Z"
   },
   {
    "duration": 4,
    "start_time": "2025-08-05T16:25:41.812Z"
   },
   {
    "duration": 7,
    "start_time": "2025-08-05T16:25:56.650Z"
   },
   {
    "duration": 6,
    "start_time": "2025-08-05T16:26:07.452Z"
   },
   {
    "duration": 80,
    "start_time": "2025-08-05T16:26:18.714Z"
   },
   {
    "duration": 75,
    "start_time": "2025-08-05T16:26:27.265Z"
   },
   {
    "duration": 5,
    "start_time": "2025-08-05T16:26:33.672Z"
   },
   {
    "duration": 31,
    "start_time": "2025-08-05T16:26:50.759Z"
   },
   {
    "duration": 20,
    "start_time": "2025-08-05T16:26:57.604Z"
   },
   {
    "duration": 22,
    "start_time": "2025-08-05T16:28:05.615Z"
   },
   {
    "duration": 7,
    "start_time": "2025-08-05T16:28:24.281Z"
   },
   {
    "duration": 5,
    "start_time": "2025-08-05T16:28:33.754Z"
   },
   {
    "duration": 5,
    "start_time": "2025-08-05T16:28:45.999Z"
   },
   {
    "duration": 6,
    "start_time": "2025-08-05T16:30:04.968Z"
   },
   {
    "duration": 22,
    "start_time": "2025-08-05T16:30:07.367Z"
   },
   {
    "duration": 21,
    "start_time": "2025-08-05T16:30:33.547Z"
   },
   {
    "duration": 4,
    "start_time": "2025-08-05T16:30:44.265Z"
   },
   {
    "duration": 5,
    "start_time": "2025-08-05T16:30:55.009Z"
   },
   {
    "duration": 6,
    "start_time": "2025-08-05T16:31:11.639Z"
   },
   {
    "duration": 5,
    "start_time": "2025-08-05T16:31:35.660Z"
   },
   {
    "duration": 18,
    "start_time": "2025-08-05T16:31:38.540Z"
   },
   {
    "duration": 29,
    "start_time": "2025-08-05T16:31:42.259Z"
   },
   {
    "duration": 6,
    "start_time": "2025-08-05T16:31:59.537Z"
   },
   {
    "duration": 6,
    "start_time": "2025-08-05T16:32:03.250Z"
   },
   {
    "duration": 20217,
    "start_time": "2025-08-05T16:34:55.681Z"
   },
   {
    "duration": 3712,
    "start_time": "2025-08-05T16:35:15.900Z"
   },
   {
    "duration": 12,
    "start_time": "2025-08-05T16:35:19.614Z"
   },
   {
    "duration": 415,
    "start_time": "2025-08-05T16:35:19.629Z"
   },
   {
    "duration": 15,
    "start_time": "2025-08-05T16:35:20.047Z"
   },
   {
    "duration": 17,
    "start_time": "2025-08-05T16:35:20.064Z"
   },
   {
    "duration": 19,
    "start_time": "2025-08-05T16:35:20.083Z"
   },
   {
    "duration": 29,
    "start_time": "2025-08-05T16:35:20.104Z"
   },
   {
    "duration": 20,
    "start_time": "2025-08-05T16:35:20.135Z"
   },
   {
    "duration": 107,
    "start_time": "2025-08-05T16:35:20.156Z"
   },
   {
    "duration": 28,
    "start_time": "2025-08-05T16:35:20.265Z"
   },
   {
    "duration": 65,
    "start_time": "2025-08-05T16:35:20.295Z"
   },
   {
    "duration": 22,
    "start_time": "2025-08-05T16:35:20.362Z"
   },
   {
    "duration": 14,
    "start_time": "2025-08-05T16:35:20.387Z"
   },
   {
    "duration": 15,
    "start_time": "2025-08-05T16:35:20.403Z"
   },
   {
    "duration": 24,
    "start_time": "2025-08-05T16:35:20.420Z"
   },
   {
    "duration": 16,
    "start_time": "2025-08-05T16:35:20.446Z"
   },
   {
    "duration": 47,
    "start_time": "2025-08-05T16:35:20.464Z"
   },
   {
    "duration": 126,
    "start_time": "2025-08-05T16:35:20.512Z"
   },
   {
    "duration": 21,
    "start_time": "2025-08-05T16:35:20.640Z"
   },
   {
    "duration": 5,
    "start_time": "2025-08-05T16:35:20.663Z"
   },
   {
    "duration": 41,
    "start_time": "2025-08-05T16:35:20.669Z"
   },
   {
    "duration": 15,
    "start_time": "2025-08-05T16:35:20.712Z"
   },
   {
    "duration": 17,
    "start_time": "2025-08-05T16:35:20.728Z"
   },
   {
    "duration": 9,
    "start_time": "2025-08-05T16:35:20.747Z"
   },
   {
    "duration": 29,
    "start_time": "2025-08-05T16:35:20.758Z"
   },
   {
    "duration": 385,
    "start_time": "2025-08-05T16:35:20.789Z"
   },
   {
    "duration": 5,
    "start_time": "2025-08-05T16:35:21.176Z"
   },
   {
    "duration": 122,
    "start_time": "2025-08-05T16:35:21.183Z"
   },
   {
    "duration": 6,
    "start_time": "2025-08-05T16:35:21.307Z"
   },
   {
    "duration": 84,
    "start_time": "2025-08-05T16:35:21.315Z"
   },
   {
    "duration": 93,
    "start_time": "2025-08-05T16:35:21.401Z"
   },
   {
    "duration": 70,
    "start_time": "2025-08-05T16:35:21.496Z"
   },
   {
    "duration": 114,
    "start_time": "2025-08-05T16:35:21.568Z"
   },
   {
    "duration": 149,
    "start_time": "2025-08-05T16:35:21.683Z"
   },
   {
    "duration": 48,
    "start_time": "2025-08-05T16:35:21.834Z"
   },
   {
    "duration": 64,
    "start_time": "2025-08-05T16:35:21.884Z"
   },
   {
    "duration": 5,
    "start_time": "2025-08-05T16:35:21.949Z"
   },
   {
    "duration": 60,
    "start_time": "2025-08-05T16:35:21.956Z"
   },
   {
    "duration": 4,
    "start_time": "2025-08-05T16:35:22.018Z"
   },
   {
    "duration": 70,
    "start_time": "2025-08-05T16:35:22.028Z"
   },
   {
    "duration": 5,
    "start_time": "2025-08-05T16:35:22.100Z"
   },
   {
    "duration": 46,
    "start_time": "2025-08-05T16:35:22.107Z"
   },
   {
    "duration": 5,
    "start_time": "2025-08-05T16:35:22.155Z"
   },
   {
    "duration": 75,
    "start_time": "2025-08-05T16:35:22.162Z"
   },
   {
    "duration": 5,
    "start_time": "2025-08-05T16:35:22.239Z"
   },
   {
    "duration": 31,
    "start_time": "2025-08-05T16:35:22.246Z"
   },
   {
    "duration": 22,
    "start_time": "2025-08-05T16:35:22.279Z"
   },
   {
    "duration": 50,
    "start_time": "2025-08-05T16:35:22.303Z"
   },
   {
    "duration": 6,
    "start_time": "2025-08-05T16:35:22.355Z"
   },
   {
    "duration": 60,
    "start_time": "2025-08-05T16:35:22.362Z"
   },
   {
    "duration": 254,
    "start_time": "2025-08-05T16:35:22.424Z"
   },
   {
    "duration": 24,
    "start_time": "2025-08-05T16:35:22.680Z"
   },
   {
    "duration": 369,
    "start_time": "2025-08-05T16:35:22.706Z"
   },
   {
    "duration": 36,
    "start_time": "2025-08-05T16:35:23.077Z"
   },
   {
    "duration": 24,
    "start_time": "2025-08-05T16:35:23.115Z"
   },
   {
    "duration": 61,
    "start_time": "2025-08-05T16:35:23.141Z"
   },
   {
    "duration": 19,
    "start_time": "2025-08-05T16:35:23.204Z"
   },
   {
    "duration": 11,
    "start_time": "2025-08-05T16:35:23.224Z"
   },
   {
    "duration": 45,
    "start_time": "2025-08-05T16:35:23.237Z"
   },
   {
    "duration": 6,
    "start_time": "2025-08-05T16:35:23.298Z"
   },
   {
    "duration": 33,
    "start_time": "2025-08-05T16:35:23.306Z"
   },
   {
    "duration": 6,
    "start_time": "2025-08-05T16:35:23.342Z"
   },
   {
    "duration": 184,
    "start_time": "2025-08-05T16:35:23.350Z"
   },
   {
    "duration": 5,
    "start_time": "2025-08-05T16:35:23.536Z"
   },
   {
    "duration": 30,
    "start_time": "2025-08-05T16:35:23.542Z"
   },
   {
    "duration": 88,
    "start_time": "2025-08-05T16:35:23.574Z"
   },
   {
    "duration": 48,
    "start_time": "2025-08-05T16:35:23.664Z"
   },
   {
    "duration": 112,
    "start_time": "2025-08-05T16:35:23.714Z"
   },
   {
    "duration": 56,
    "start_time": "2025-08-05T16:35:23.827Z"
   },
   {
    "duration": 6,
    "start_time": "2025-08-05T16:35:23.885Z"
   },
   {
    "duration": 69,
    "start_time": "2025-08-05T16:35:23.892Z"
   },
   {
    "duration": 5,
    "start_time": "2025-08-05T16:35:23.962Z"
   },
   {
    "duration": 32,
    "start_time": "2025-08-05T16:35:23.969Z"
   },
   {
    "duration": 4,
    "start_time": "2025-08-05T16:35:24.003Z"
   },
   {
    "duration": 52,
    "start_time": "2025-08-05T16:35:24.009Z"
   },
   {
    "duration": 5,
    "start_time": "2025-08-05T16:35:24.063Z"
   },
   {
    "duration": 50,
    "start_time": "2025-08-05T16:35:24.070Z"
   },
   {
    "duration": 5,
    "start_time": "2025-08-05T16:35:24.122Z"
   },
   {
    "duration": 49,
    "start_time": "2025-08-05T16:35:24.129Z"
   },
   {
    "duration": 21,
    "start_time": "2025-08-05T16:35:24.180Z"
   },
   {
    "duration": 36,
    "start_time": "2025-08-05T16:35:24.203Z"
   },
   {
    "duration": 11,
    "start_time": "2025-08-05T16:35:24.241Z"
   },
   {
    "duration": 4,
    "start_time": "2025-08-05T16:35:24.254Z"
   },
   {
    "duration": 78,
    "start_time": "2025-08-05T16:35:24.260Z"
   },
   {
    "duration": 69,
    "start_time": "2025-08-05T16:35:24.340Z"
   },
   {
    "duration": 67,
    "start_time": "2025-08-05T16:35:24.411Z"
   },
   {
    "duration": 317,
    "start_time": "2025-08-05T16:35:24.498Z"
   },
   {
    "duration": 6,
    "start_time": "2025-08-05T16:35:24.817Z"
   },
   {
    "duration": 28,
    "start_time": "2025-08-05T16:35:24.826Z"
   },
   {
    "duration": 1609,
    "start_time": "2025-08-05T16:35:24.856Z"
   },
   {
    "duration": 1465,
    "start_time": "2025-08-05T16:35:26.467Z"
   },
   {
    "duration": 16,
    "start_time": "2025-08-05T16:35:27.934Z"
   },
   {
    "duration": 117,
    "start_time": "2025-08-05T16:35:27.952Z"
   },
   {
    "duration": 25,
    "start_time": "2025-08-05T16:35:28.071Z"
   },
   {
    "duration": 28,
    "start_time": "2025-08-05T16:35:28.098Z"
   },
   {
    "duration": 6,
    "start_time": "2025-08-05T16:35:28.127Z"
   },
   {
    "duration": 19,
    "start_time": "2025-08-05T16:35:28.135Z"
   },
   {
    "duration": 11,
    "start_time": "2025-08-05T16:35:28.156Z"
   },
   {
    "duration": 8,
    "start_time": "2025-08-05T16:35:28.168Z"
   },
   {
    "duration": 12,
    "start_time": "2025-08-05T16:35:28.177Z"
   },
   {
    "duration": 8,
    "start_time": "2025-08-05T16:35:28.191Z"
   },
   {
    "duration": 17,
    "start_time": "2025-08-05T16:35:28.201Z"
   },
   {
    "duration": 8,
    "start_time": "2025-08-05T16:35:28.220Z"
   },
   {
    "duration": 22,
    "start_time": "2025-08-05T16:35:28.230Z"
   },
   {
    "duration": 18,
    "start_time": "2025-08-05T16:35:28.255Z"
   },
   {
    "duration": 6,
    "start_time": "2025-08-05T16:35:28.275Z"
   },
   {
    "duration": 5,
    "start_time": "2025-08-05T16:35:28.283Z"
   },
   {
    "duration": 9,
    "start_time": "2025-08-05T16:35:28.299Z"
   },
   {
    "duration": 60,
    "start_time": "2025-08-05T16:35:28.310Z"
   },
   {
    "duration": 3,
    "start_time": "2025-08-05T16:35:28.372Z"
   },
   {
    "duration": 22,
    "start_time": "2025-08-05T16:35:28.377Z"
   },
   {
    "duration": 367,
    "start_time": "2025-08-05T16:35:28.401Z"
   },
   {
    "duration": 0,
    "start_time": "2025-08-05T16:35:28.771Z"
   },
   {
    "duration": 0,
    "start_time": "2025-08-05T16:35:28.773Z"
   },
   {
    "duration": 0,
    "start_time": "2025-08-05T16:35:28.775Z"
   },
   {
    "duration": 0,
    "start_time": "2025-08-05T16:35:28.777Z"
   },
   {
    "duration": 0,
    "start_time": "2025-08-05T16:35:28.778Z"
   },
   {
    "duration": 0,
    "start_time": "2025-08-05T16:35:28.780Z"
   },
   {
    "duration": 0,
    "start_time": "2025-08-05T16:35:28.799Z"
   },
   {
    "duration": 0,
    "start_time": "2025-08-05T16:35:28.800Z"
   },
   {
    "duration": 0,
    "start_time": "2025-08-05T16:35:28.802Z"
   },
   {
    "duration": 1,
    "start_time": "2025-08-05T16:35:28.803Z"
   },
   {
    "duration": 0,
    "start_time": "2025-08-05T16:35:28.806Z"
   },
   {
    "duration": 0,
    "start_time": "2025-08-05T16:35:28.807Z"
   },
   {
    "duration": 0,
    "start_time": "2025-08-05T16:35:28.808Z"
   },
   {
    "duration": 0,
    "start_time": "2025-08-05T16:35:28.811Z"
   },
   {
    "duration": 0,
    "start_time": "2025-08-05T16:35:28.813Z"
   },
   {
    "duration": 0,
    "start_time": "2025-08-05T16:35:28.814Z"
   },
   {
    "duration": 0,
    "start_time": "2025-08-05T16:35:28.816Z"
   },
   {
    "duration": 0,
    "start_time": "2025-08-05T16:35:28.818Z"
   },
   {
    "duration": 0,
    "start_time": "2025-08-05T16:35:28.819Z"
   },
   {
    "duration": 0,
    "start_time": "2025-08-05T16:35:28.821Z"
   },
   {
    "duration": 0,
    "start_time": "2025-08-05T16:35:28.823Z"
   },
   {
    "duration": 0,
    "start_time": "2025-08-05T16:35:28.824Z"
   },
   {
    "duration": 0,
    "start_time": "2025-08-05T16:35:28.826Z"
   },
   {
    "duration": 0,
    "start_time": "2025-08-05T16:35:28.827Z"
   },
   {
    "duration": 0,
    "start_time": "2025-08-05T16:35:28.829Z"
   },
   {
    "duration": 0,
    "start_time": "2025-08-05T16:35:28.830Z"
   },
   {
    "duration": 0,
    "start_time": "2025-08-05T16:35:28.831Z"
   },
   {
    "duration": 291821,
    "start_time": "2025-08-05T16:36:31.439Z"
   },
   {
    "duration": 5,
    "start_time": "2025-08-05T16:41:23.262Z"
   },
   {
    "duration": 80,
    "start_time": "2025-08-05T16:42:08.674Z"
   },
   {
    "duration": 19,
    "start_time": "2025-08-05T16:47:39.794Z"
   },
   {
    "duration": 18,
    "start_time": "2025-08-05T16:48:03.748Z"
   },
   {
    "duration": 91,
    "start_time": "2025-08-05T16:48:23.061Z"
   },
   {
    "duration": 9386,
    "start_time": "2025-08-05T16:50:32.735Z"
   },
   {
    "duration": 74984,
    "start_time": "2025-08-05T16:50:50.549Z"
   },
   {
    "duration": 75817,
    "start_time": "2025-08-05T16:55:09.758Z"
   },
   {
    "duration": 503,
    "start_time": "2025-08-05T16:56:30.730Z"
   },
   {
    "duration": 46360,
    "start_time": "2025-08-05T16:59:12.322Z"
   },
   {
    "duration": 74336,
    "start_time": "2025-08-05T17:00:08.576Z"
   },
   {
    "duration": 522,
    "start_time": "2025-08-05T17:01:27.418Z"
   },
   {
    "duration": 8245,
    "start_time": "2025-08-05T17:06:05.598Z"
   },
   {
    "duration": 44096,
    "start_time": "2025-08-05T17:06:25.239Z"
   },
   {
    "duration": 173,
    "start_time": "2025-08-05T17:07:37.996Z"
   },
   {
    "duration": 106,
    "start_time": "2025-08-05T17:13:24.528Z"
   },
   {
    "duration": 34,
    "start_time": "2025-08-05T17:13:30.359Z"
   },
   {
    "duration": 46,
    "start_time": "2025-08-05T17:15:35.680Z"
   },
   {
    "duration": 19,
    "start_time": "2025-08-05T17:16:03.062Z"
   },
   {
    "duration": 25,
    "start_time": "2025-08-05T17:17:55.910Z"
   },
   {
    "duration": 17,
    "start_time": "2025-08-05T17:18:29.944Z"
   },
   {
    "duration": 18,
    "start_time": "2025-08-05T17:18:55.135Z"
   },
   {
    "duration": 24,
    "start_time": "2025-08-05T17:19:21.392Z"
   },
   {
    "duration": 81,
    "start_time": "2025-08-05T17:20:16.134Z"
   },
   {
    "duration": 254,
    "start_time": "2025-08-05T17:20:30.598Z"
   },
   {
    "duration": 34,
    "start_time": "2025-08-05T17:21:33.433Z"
   },
   {
    "duration": 22,
    "start_time": "2025-08-05T17:21:37.615Z"
   },
   {
    "duration": 39,
    "start_time": "2025-08-05T17:22:01.218Z"
   },
   {
    "duration": 28,
    "start_time": "2025-08-05T17:22:32.090Z"
   },
   {
    "duration": 26,
    "start_time": "2025-08-05T17:22:38.717Z"
   },
   {
    "duration": 23,
    "start_time": "2025-08-05T17:23:09.551Z"
   },
   {
    "duration": 41,
    "start_time": "2025-08-05T17:24:31.997Z"
   },
   {
    "duration": 21,
    "start_time": "2025-08-05T17:24:52.520Z"
   },
   {
    "duration": 35,
    "start_time": "2025-08-05T17:25:02.881Z"
   },
   {
    "duration": 116,
    "start_time": "2025-08-05T17:27:44.655Z"
   },
   {
    "duration": 22,
    "start_time": "2025-08-05T17:28:06.068Z"
   },
   {
    "duration": 20,
    "start_time": "2025-08-05T17:28:17.059Z"
   },
   {
    "duration": 21,
    "start_time": "2025-08-05T17:28:23.872Z"
   },
   {
    "duration": 90,
    "start_time": "2025-08-05T17:29:06.577Z"
   },
   {
    "duration": 22,
    "start_time": "2025-08-05T17:29:19.911Z"
   },
   {
    "duration": 25,
    "start_time": "2025-08-05T17:29:30.783Z"
   },
   {
    "duration": 20,
    "start_time": "2025-08-05T17:29:40.914Z"
   },
   {
    "duration": 78,
    "start_time": "2025-08-05T17:30:05.167Z"
   },
   {
    "duration": 26,
    "start_time": "2025-08-05T17:30:15.587Z"
   },
   {
    "duration": 22,
    "start_time": "2025-08-05T17:30:35.335Z"
   },
   {
    "duration": 6,
    "start_time": "2025-08-05T17:31:21.888Z"
   },
   {
    "duration": 18,
    "start_time": "2025-08-05T17:31:28.998Z"
   },
   {
    "duration": 9,
    "start_time": "2025-08-05T17:31:46.435Z"
   },
   {
    "duration": 22,
    "start_time": "2025-08-05T17:39:13.930Z"
   },
   {
    "duration": 7,
    "start_time": "2025-08-05T17:42:24.984Z"
   },
   {
    "duration": 22,
    "start_time": "2025-08-05T17:42:32.685Z"
   },
   {
    "duration": 6,
    "start_time": "2025-08-05T17:42:45.477Z"
   },
   {
    "duration": 24,
    "start_time": "2025-08-05T17:42:48.603Z"
   },
   {
    "duration": 6,
    "start_time": "2025-08-05T17:43:16.543Z"
   },
   {
    "duration": 24,
    "start_time": "2025-08-05T17:43:19.975Z"
   },
   {
    "duration": 7,
    "start_time": "2025-08-05T17:43:46.944Z"
   },
   {
    "duration": 31,
    "start_time": "2025-08-05T17:43:49.982Z"
   },
   {
    "duration": 7,
    "start_time": "2025-08-05T17:44:08.179Z"
   },
   {
    "duration": 23,
    "start_time": "2025-08-05T17:44:10.969Z"
   },
   {
    "duration": 6,
    "start_time": "2025-08-05T17:45:03.456Z"
   },
   {
    "duration": 24,
    "start_time": "2025-08-05T17:45:06.347Z"
   },
   {
    "duration": 7,
    "start_time": "2025-08-05T17:45:29.691Z"
   },
   {
    "duration": 22,
    "start_time": "2025-08-05T17:45:34.951Z"
   },
   {
    "duration": 7,
    "start_time": "2025-08-05T17:46:28.194Z"
   },
   {
    "duration": 26,
    "start_time": "2025-08-05T17:46:31.706Z"
   },
   {
    "duration": 7,
    "start_time": "2025-08-05T18:00:43.982Z"
   },
   {
    "duration": 6,
    "start_time": "2025-08-05T18:00:51.721Z"
   },
   {
    "duration": 23,
    "start_time": "2025-08-05T18:01:26.861Z"
   },
   {
    "duration": 8,
    "start_time": "2025-08-05T18:06:41.009Z"
   },
   {
    "duration": 25,
    "start_time": "2025-08-05T18:06:47.074Z"
   },
   {
    "duration": 8,
    "start_time": "2025-08-05T18:08:41.535Z"
   },
   {
    "duration": 43,
    "start_time": "2025-08-05T18:08:49.011Z"
   },
   {
    "duration": 13,
    "start_time": "2025-08-05T18:08:57.049Z"
   },
   {
    "duration": 27,
    "start_time": "2025-08-05T18:09:02.111Z"
   },
   {
    "duration": 7,
    "start_time": "2025-08-05T18:10:33.596Z"
   },
   {
    "duration": 25,
    "start_time": "2025-08-05T18:10:38.410Z"
   },
   {
    "duration": 313,
    "start_time": "2025-08-05T18:17:50.824Z"
   },
   {
    "duration": 485,
    "start_time": "2025-08-05T18:19:56.049Z"
   },
   {
    "duration": 22,
    "start_time": "2025-08-05T18:20:26.032Z"
   },
   {
    "duration": 501,
    "start_time": "2025-08-05T18:20:37.398Z"
   },
   {
    "duration": 7,
    "start_time": "2025-08-05T18:20:53.783Z"
   },
   {
    "duration": 21,
    "start_time": "2025-08-05T18:21:04.678Z"
   },
   {
    "duration": 9,
    "start_time": "2025-08-05T18:21:09.317Z"
   },
   {
    "duration": 7,
    "start_time": "2025-08-05T18:21:18.533Z"
   },
   {
    "duration": 23,
    "start_time": "2025-08-05T18:23:18.860Z"
   },
   {
    "duration": 6,
    "start_time": "2025-08-05T18:23:29.977Z"
   },
   {
    "duration": 8,
    "start_time": "2025-08-05T18:23:48.452Z"
   },
   {
    "duration": 13,
    "start_time": "2025-08-05T18:25:08.804Z"
   },
   {
    "duration": 22,
    "start_time": "2025-08-05T18:27:02.228Z"
   },
   {
    "duration": 7,
    "start_time": "2025-08-05T18:51:59.138Z"
   },
   {
    "duration": 6,
    "start_time": "2025-08-05T19:00:31.576Z"
   },
   {
    "duration": 12,
    "start_time": "2025-08-05T19:00:46.391Z"
   },
   {
    "duration": 98,
    "start_time": "2025-08-05T19:01:46.599Z"
   },
   {
    "duration": 93,
    "start_time": "2025-08-05T19:01:52.580Z"
   },
   {
    "duration": 15,
    "start_time": "2025-08-05T19:01:57.642Z"
   },
   {
    "duration": 7,
    "start_time": "2025-08-05T19:02:09.990Z"
   },
   {
    "duration": 15,
    "start_time": "2025-08-05T19:02:25.007Z"
   },
   {
    "duration": 14,
    "start_time": "2025-08-05T19:03:00.742Z"
   },
   {
    "duration": 13,
    "start_time": "2025-08-05T19:03:26.536Z"
   },
   {
    "duration": 14,
    "start_time": "2025-08-05T19:03:31.086Z"
   },
   {
    "duration": 23,
    "start_time": "2025-08-05T19:03:34.889Z"
   },
   {
    "duration": 21,
    "start_time": "2025-08-05T19:03:39.551Z"
   },
   {
    "duration": 14,
    "start_time": "2025-08-05T19:03:43.132Z"
   },
   {
    "duration": 5,
    "start_time": "2025-08-05T19:07:33.896Z"
   },
   {
    "duration": 16,
    "start_time": "2025-08-05T19:07:42.670Z"
   },
   {
    "duration": 6,
    "start_time": "2025-08-05T19:08:30.364Z"
   },
   {
    "duration": 14,
    "start_time": "2025-08-05T19:08:55.140Z"
   },
   {
    "duration": 7,
    "start_time": "2025-08-05T19:09:12.343Z"
   },
   {
    "duration": 14,
    "start_time": "2025-08-05T19:09:17.268Z"
   },
   {
    "duration": 22,
    "start_time": "2025-08-05T19:14:33.267Z"
   },
   {
    "duration": 4,
    "start_time": "2025-08-05T19:14:36.058Z"
   },
   {
    "duration": 1092,
    "start_time": "2025-08-05T19:14:38.001Z"
   },
   {
    "duration": 1151,
    "start_time": "2025-08-05T19:16:36.166Z"
   },
   {
    "duration": 1128,
    "start_time": "2025-08-05T19:16:43.198Z"
   },
   {
    "duration": 1100,
    "start_time": "2025-08-05T19:16:50.695Z"
   },
   {
    "duration": 21359,
    "start_time": "2025-08-05T19:42:24.548Z"
   },
   {
    "duration": 3780,
    "start_time": "2025-08-05T19:42:45.910Z"
   },
   {
    "duration": 11,
    "start_time": "2025-08-05T19:42:49.692Z"
   },
   {
    "duration": 26,
    "start_time": "2025-08-05T19:42:49.705Z"
   },
   {
    "duration": 20,
    "start_time": "2025-08-05T19:42:49.733Z"
   },
   {
    "duration": 22,
    "start_time": "2025-08-05T19:42:49.755Z"
   },
   {
    "duration": 23,
    "start_time": "2025-08-05T19:42:49.779Z"
   },
   {
    "duration": 32,
    "start_time": "2025-08-05T19:42:49.804Z"
   },
   {
    "duration": 14,
    "start_time": "2025-08-05T19:42:49.837Z"
   },
   {
    "duration": 88,
    "start_time": "2025-08-05T19:42:49.853Z"
   },
   {
    "duration": 30,
    "start_time": "2025-08-05T19:42:49.942Z"
   },
   {
    "duration": 159,
    "start_time": "2025-08-05T19:42:49.974Z"
   },
   {
    "duration": 28,
    "start_time": "2025-08-05T19:42:50.135Z"
   },
   {
    "duration": 51,
    "start_time": "2025-08-05T19:42:50.166Z"
   },
   {
    "duration": 18,
    "start_time": "2025-08-05T19:42:50.219Z"
   },
   {
    "duration": 123,
    "start_time": "2025-08-05T19:42:50.239Z"
   },
   {
    "duration": 10,
    "start_time": "2025-08-05T19:42:50.364Z"
   },
   {
    "duration": 29,
    "start_time": "2025-08-05T19:42:50.375Z"
   },
   {
    "duration": 15,
    "start_time": "2025-08-05T19:42:50.406Z"
   },
   {
    "duration": 146,
    "start_time": "2025-08-05T19:42:50.423Z"
   },
   {
    "duration": 7,
    "start_time": "2025-08-05T19:42:50.571Z"
   },
   {
    "duration": 22,
    "start_time": "2025-08-05T19:42:50.580Z"
   },
   {
    "duration": 4,
    "start_time": "2025-08-05T19:42:50.604Z"
   },
   {
    "duration": 44,
    "start_time": "2025-08-05T19:42:50.610Z"
   },
   {
    "duration": 41,
    "start_time": "2025-08-05T19:42:50.656Z"
   },
   {
    "duration": 16,
    "start_time": "2025-08-05T19:42:50.699Z"
   },
   {
    "duration": 27,
    "start_time": "2025-08-05T19:42:50.717Z"
   },
   {
    "duration": 14,
    "start_time": "2025-08-05T19:42:50.746Z"
   },
   {
    "duration": 390,
    "start_time": "2025-08-05T19:42:50.761Z"
   },
   {
    "duration": 5,
    "start_time": "2025-08-05T19:42:51.153Z"
   },
   {
    "duration": 158,
    "start_time": "2025-08-05T19:42:51.159Z"
   },
   {
    "duration": 5,
    "start_time": "2025-08-05T19:42:51.318Z"
   },
   {
    "duration": 67,
    "start_time": "2025-08-05T19:42:51.324Z"
   },
   {
    "duration": 62,
    "start_time": "2025-08-05T19:42:51.392Z"
   },
   {
    "duration": 83,
    "start_time": "2025-08-05T19:42:51.455Z"
   },
   {
    "duration": 146,
    "start_time": "2025-08-05T19:42:51.540Z"
   },
   {
    "duration": 49,
    "start_time": "2025-08-05T19:42:51.688Z"
   },
   {
    "duration": 15,
    "start_time": "2025-08-05T19:42:51.738Z"
   },
   {
    "duration": 98,
    "start_time": "2025-08-05T19:42:51.755Z"
   },
   {
    "duration": 14,
    "start_time": "2025-08-05T19:42:51.854Z"
   },
   {
    "duration": 74,
    "start_time": "2025-08-05T19:42:51.873Z"
   },
   {
    "duration": 4,
    "start_time": "2025-08-05T19:42:51.949Z"
   },
   {
    "duration": 61,
    "start_time": "2025-08-05T19:42:51.955Z"
   },
   {
    "duration": 5,
    "start_time": "2025-08-05T19:42:52.018Z"
   },
   {
    "duration": 73,
    "start_time": "2025-08-05T19:42:52.025Z"
   },
   {
    "duration": 105,
    "start_time": "2025-08-05T19:42:52.100Z"
   },
   {
    "duration": 51,
    "start_time": "2025-08-05T19:42:52.207Z"
   },
   {
    "duration": 118,
    "start_time": "2025-08-05T19:42:52.260Z"
   },
   {
    "duration": 45,
    "start_time": "2025-08-05T19:42:52.380Z"
   },
   {
    "duration": 4,
    "start_time": "2025-08-05T19:42:52.427Z"
   },
   {
    "duration": 157,
    "start_time": "2025-08-05T19:42:52.433Z"
   },
   {
    "duration": 5,
    "start_time": "2025-08-05T19:42:52.592Z"
   },
   {
    "duration": 45,
    "start_time": "2025-08-05T19:42:52.599Z"
   },
   {
    "duration": 264,
    "start_time": "2025-08-05T19:42:52.646Z"
   },
   {
    "duration": 9,
    "start_time": "2025-08-05T19:42:52.912Z"
   },
   {
    "duration": 385,
    "start_time": "2025-08-05T19:42:52.922Z"
   },
   {
    "duration": 29,
    "start_time": "2025-08-05T19:42:53.309Z"
   },
   {
    "duration": 65,
    "start_time": "2025-08-05T19:42:53.340Z"
   },
   {
    "duration": 25,
    "start_time": "2025-08-05T19:42:53.407Z"
   },
   {
    "duration": 26,
    "start_time": "2025-08-05T19:42:53.434Z"
   },
   {
    "duration": 21,
    "start_time": "2025-08-05T19:42:53.462Z"
   },
   {
    "duration": 61,
    "start_time": "2025-08-05T19:42:53.485Z"
   },
   {
    "duration": 26,
    "start_time": "2025-08-05T19:42:53.548Z"
   },
   {
    "duration": 130,
    "start_time": "2025-08-05T19:42:53.576Z"
   },
   {
    "duration": 4,
    "start_time": "2025-08-05T19:42:53.708Z"
   },
   {
    "duration": 59,
    "start_time": "2025-08-05T19:42:53.714Z"
   },
   {
    "duration": 6,
    "start_time": "2025-08-05T19:42:53.774Z"
   },
   {
    "duration": 51,
    "start_time": "2025-08-05T19:42:53.782Z"
   },
   {
    "duration": 6,
    "start_time": "2025-08-05T19:42:53.835Z"
   },
   {
    "duration": 57,
    "start_time": "2025-08-05T19:42:53.842Z"
   },
   {
    "duration": 5,
    "start_time": "2025-08-05T19:42:53.901Z"
   },
   {
    "duration": 54,
    "start_time": "2025-08-05T19:42:53.907Z"
   },
   {
    "duration": 5,
    "start_time": "2025-08-05T19:42:53.962Z"
   },
   {
    "duration": 61,
    "start_time": "2025-08-05T19:42:53.969Z"
   },
   {
    "duration": 20,
    "start_time": "2025-08-05T19:42:54.031Z"
   },
   {
    "duration": 158,
    "start_time": "2025-08-05T19:42:54.052Z"
   },
   {
    "duration": 16,
    "start_time": "2025-08-05T19:42:54.212Z"
   },
   {
    "duration": 148,
    "start_time": "2025-08-05T19:42:54.229Z"
   },
   {
    "duration": 9,
    "start_time": "2025-08-05T19:42:54.379Z"
   },
   {
    "duration": 141741,
    "start_time": "2025-08-05T19:43:24.621Z"
   },
   {
    "duration": 24681,
    "start_time": "2025-08-05T19:45:46.364Z"
   },
   {
    "duration": 24059,
    "start_time": "2025-08-05T19:46:11.047Z"
   },
   {
    "duration": 113239,
    "start_time": "2025-08-05T19:46:35.108Z"
   },
   {
    "duration": 308137,
    "start_time": "2025-08-05T19:48:28.349Z"
   },
   {
    "duration": 182029,
    "start_time": "2025-08-05T19:53:36.488Z"
   },
   {
    "duration": 300568,
    "start_time": "2025-08-05T19:56:38.525Z"
   },
   {
    "duration": 41208,
    "start_time": "2025-08-05T20:01:39.095Z"
   },
   {
    "duration": 28683,
    "start_time": "2025-08-05T20:02:20.305Z"
   },
   {
    "duration": 18,
    "start_time": "2025-08-05T20:02:48.990Z"
   },
   {
    "duration": 27,
    "start_time": "2025-08-05T20:02:49.011Z"
   },
   {
    "duration": 8,
    "start_time": "2025-08-05T20:02:49.040Z"
   },
   {
    "duration": 492973,
    "start_time": "2025-08-05T20:02:49.050Z"
   },
   {
    "duration": 11,
    "start_time": "2025-08-05T20:11:02.025Z"
   },
   {
    "duration": 75,
    "start_time": "2025-08-05T20:11:02.037Z"
   },
   {
    "duration": 51,
    "start_time": "2025-08-05T20:11:02.114Z"
   },
   {
    "duration": 306610,
    "start_time": "2025-08-05T20:11:02.166Z"
   },
   {
    "duration": 0,
    "start_time": "2025-08-05T20:16:08.778Z"
   },
   {
    "duration": 0,
    "start_time": "2025-08-05T20:16:08.780Z"
   },
   {
    "duration": 0,
    "start_time": "2025-08-05T20:16:08.781Z"
   },
   {
    "duration": 0,
    "start_time": "2025-08-05T20:16:08.799Z"
   },
   {
    "duration": 0,
    "start_time": "2025-08-05T20:16:08.800Z"
   },
   {
    "duration": 0,
    "start_time": "2025-08-05T20:16:08.801Z"
   },
   {
    "duration": 0,
    "start_time": "2025-08-05T20:16:08.803Z"
   },
   {
    "duration": 0,
    "start_time": "2025-08-05T20:16:08.805Z"
   },
   {
    "duration": 0,
    "start_time": "2025-08-05T20:16:08.806Z"
   },
   {
    "duration": 20308,
    "start_time": "2025-08-05T20:17:03.253Z"
   },
   {
    "duration": 3745,
    "start_time": "2025-08-05T20:17:23.564Z"
   },
   {
    "duration": 11,
    "start_time": "2025-08-05T20:17:27.311Z"
   },
   {
    "duration": 62,
    "start_time": "2025-08-05T20:17:27.324Z"
   },
   {
    "duration": 20,
    "start_time": "2025-08-05T20:17:27.388Z"
   },
   {
    "duration": 18,
    "start_time": "2025-08-05T20:17:27.409Z"
   },
   {
    "duration": 36,
    "start_time": "2025-08-05T20:17:27.429Z"
   },
   {
    "duration": 15,
    "start_time": "2025-08-05T20:17:27.468Z"
   },
   {
    "duration": 48,
    "start_time": "2025-08-05T20:17:27.484Z"
   },
   {
    "duration": 32,
    "start_time": "2025-08-05T20:17:27.535Z"
   },
   {
    "duration": 57,
    "start_time": "2025-08-05T20:17:27.569Z"
   },
   {
    "duration": 131,
    "start_time": "2025-08-05T20:17:27.628Z"
   },
   {
    "duration": 28,
    "start_time": "2025-08-05T20:17:27.760Z"
   },
   {
    "duration": 17,
    "start_time": "2025-08-05T20:17:27.790Z"
   },
   {
    "duration": 30,
    "start_time": "2025-08-05T20:17:27.809Z"
   },
   {
    "duration": 44,
    "start_time": "2025-08-05T20:17:27.841Z"
   },
   {
    "duration": 8,
    "start_time": "2025-08-05T20:17:27.887Z"
   },
   {
    "duration": 38,
    "start_time": "2025-08-05T20:17:27.897Z"
   },
   {
    "duration": 16,
    "start_time": "2025-08-05T20:17:27.937Z"
   },
   {
    "duration": 45,
    "start_time": "2025-08-05T20:17:27.955Z"
   },
   {
    "duration": 3,
    "start_time": "2025-08-05T20:17:28.002Z"
   },
   {
    "duration": 36,
    "start_time": "2025-08-05T20:17:28.007Z"
   },
   {
    "duration": 6,
    "start_time": "2025-08-05T20:17:28.045Z"
   },
   {
    "duration": 31,
    "start_time": "2025-08-05T20:17:28.052Z"
   },
   {
    "duration": 15,
    "start_time": "2025-08-05T20:17:28.085Z"
   },
   {
    "duration": 26,
    "start_time": "2025-08-05T20:17:28.101Z"
   },
   {
    "duration": 28,
    "start_time": "2025-08-05T20:17:28.129Z"
   },
   {
    "duration": 19,
    "start_time": "2025-08-05T20:17:28.161Z"
   },
   {
    "duration": 368,
    "start_time": "2025-08-05T20:17:28.182Z"
   },
   {
    "duration": 6,
    "start_time": "2025-08-05T20:17:28.552Z"
   },
   {
    "duration": 145,
    "start_time": "2025-08-05T20:17:28.560Z"
   },
   {
    "duration": 9,
    "start_time": "2025-08-05T20:17:28.707Z"
   },
   {
    "duration": 83,
    "start_time": "2025-08-05T20:17:28.718Z"
   },
   {
    "duration": 5,
    "start_time": "2025-08-05T20:17:28.803Z"
   },
   {
    "duration": 71,
    "start_time": "2025-08-05T20:17:28.809Z"
   },
   {
    "duration": 8,
    "start_time": "2025-08-05T20:17:28.898Z"
   },
   {
    "duration": 13,
    "start_time": "2025-08-05T20:17:28.908Z"
   },
   {
    "duration": 10,
    "start_time": "2025-08-05T20:17:28.923Z"
   },
   {
    "duration": 51,
    "start_time": "2025-08-05T20:17:28.935Z"
   },
   {
    "duration": 13,
    "start_time": "2025-08-05T20:17:28.988Z"
   },
   {
    "duration": 54,
    "start_time": "2025-08-05T20:17:29.003Z"
   },
   {
    "duration": 5,
    "start_time": "2025-08-05T20:17:29.058Z"
   },
   {
    "duration": 76,
    "start_time": "2025-08-05T20:17:29.065Z"
   },
   {
    "duration": 5,
    "start_time": "2025-08-05T20:17:29.142Z"
   },
   {
    "duration": 70,
    "start_time": "2025-08-05T20:17:29.149Z"
   },
   {
    "duration": 6,
    "start_time": "2025-08-05T20:17:29.221Z"
   },
   {
    "duration": 46,
    "start_time": "2025-08-05T20:17:29.229Z"
   },
   {
    "duration": 6,
    "start_time": "2025-08-05T20:17:29.299Z"
   },
   {
    "duration": 33,
    "start_time": "2025-08-05T20:17:29.307Z"
   },
   {
    "duration": 4,
    "start_time": "2025-08-05T20:17:29.341Z"
   },
   {
    "duration": 76,
    "start_time": "2025-08-05T20:17:29.347Z"
   },
   {
    "duration": 6,
    "start_time": "2025-08-05T20:17:29.424Z"
   },
   {
    "duration": 31,
    "start_time": "2025-08-05T20:17:29.431Z"
   },
   {
    "duration": 274,
    "start_time": "2025-08-05T20:17:29.464Z"
   },
   {
    "duration": 9,
    "start_time": "2025-08-05T20:17:29.740Z"
   },
   {
    "duration": 402,
    "start_time": "2025-08-05T20:17:29.751Z"
   },
   {
    "duration": 57,
    "start_time": "2025-08-05T20:17:30.155Z"
   },
   {
    "duration": 51,
    "start_time": "2025-08-05T20:17:30.214Z"
   },
   {
    "duration": 187,
    "start_time": "2025-08-05T20:17:30.266Z"
   },
   {
    "duration": 121,
    "start_time": "2025-08-05T20:17:30.454Z"
   },
   {
    "duration": 143,
    "start_time": "2025-08-05T20:17:30.578Z"
   },
   {
    "duration": 62,
    "start_time": "2025-08-05T20:17:30.723Z"
   },
   {
    "duration": 6,
    "start_time": "2025-08-05T20:17:30.786Z"
   },
   {
    "duration": 77,
    "start_time": "2025-08-05T20:17:30.793Z"
   },
   {
    "duration": 17,
    "start_time": "2025-08-05T20:17:30.872Z"
   },
   {
    "duration": 67,
    "start_time": "2025-08-05T20:17:30.890Z"
   },
   {
    "duration": 12,
    "start_time": "2025-08-05T20:17:30.959Z"
   },
   {
    "duration": 67,
    "start_time": "2025-08-05T20:17:30.973Z"
   },
   {
    "duration": 13,
    "start_time": "2025-08-05T20:17:31.042Z"
   },
   {
    "duration": 78,
    "start_time": "2025-08-05T20:17:31.057Z"
   },
   {
    "duration": 5,
    "start_time": "2025-08-05T20:17:31.136Z"
   },
   {
    "duration": 34,
    "start_time": "2025-08-05T20:17:31.143Z"
   },
   {
    "duration": 19,
    "start_time": "2025-08-05T20:17:31.179Z"
   },
   {
    "duration": 81,
    "start_time": "2025-08-05T20:17:31.200Z"
   },
   {
    "duration": 44,
    "start_time": "2025-08-05T20:17:31.283Z"
   },
   {
    "duration": 91,
    "start_time": "2025-08-05T20:17:31.329Z"
   },
   {
    "duration": 4,
    "start_time": "2025-08-05T20:17:31.422Z"
   },
   {
    "duration": 69,
    "start_time": "2025-08-05T20:17:31.428Z"
   },
   {
    "duration": 5,
    "start_time": "2025-08-05T20:17:31.499Z"
   },
   {
    "duration": 45,
    "start_time": "2025-08-05T20:17:31.506Z"
   },
   {
    "duration": 99,
    "start_time": "2025-08-05T20:17:31.552Z"
   },
   {
    "duration": 77,
    "start_time": "2025-08-05T20:17:31.658Z"
   },
   {
    "duration": 84,
    "start_time": "2025-08-05T20:17:31.737Z"
   },
   {
    "duration": 76,
    "start_time": "2025-08-05T20:17:31.823Z"
   },
   {
    "duration": 86,
    "start_time": "2025-08-05T20:17:31.900Z"
   },
   {
    "duration": 12,
    "start_time": "2025-08-05T20:17:31.988Z"
   },
   {
    "duration": 91,
    "start_time": "2025-08-05T20:17:32.002Z"
   },
   {
    "duration": 86,
    "start_time": "2025-08-05T20:17:32.095Z"
   },
   {
    "duration": 57,
    "start_time": "2025-08-05T20:17:32.182Z"
   },
   {
    "duration": 223,
    "start_time": "2025-08-05T20:17:32.240Z"
   },
   {
    "duration": 5,
    "start_time": "2025-08-05T20:17:32.464Z"
   },
   {
    "duration": 63,
    "start_time": "2025-08-05T20:17:32.471Z"
   },
   {
    "duration": 1452,
    "start_time": "2025-08-05T20:17:32.535Z"
   },
   {
    "duration": 1415,
    "start_time": "2025-08-05T20:17:33.988Z"
   },
   {
    "duration": 16,
    "start_time": "2025-08-05T20:17:35.404Z"
   },
   {
    "duration": 23,
    "start_time": "2025-08-05T20:17:35.422Z"
   },
   {
    "duration": 41,
    "start_time": "2025-08-05T20:17:35.447Z"
   },
   {
    "duration": 35,
    "start_time": "2025-08-05T20:17:35.490Z"
   },
   {
    "duration": 27,
    "start_time": "2025-08-05T20:17:35.527Z"
   },
   {
    "duration": 21,
    "start_time": "2025-08-05T20:17:35.556Z"
   },
   {
    "duration": 12,
    "start_time": "2025-08-05T20:17:35.579Z"
   },
   {
    "duration": 33,
    "start_time": "2025-08-05T20:17:35.593Z"
   },
   {
    "duration": 30,
    "start_time": "2025-08-05T20:17:35.628Z"
   },
   {
    "duration": 7,
    "start_time": "2025-08-05T20:17:35.660Z"
   },
   {
    "duration": 22,
    "start_time": "2025-08-05T20:17:35.669Z"
   },
   {
    "duration": 193,
    "start_time": "2025-08-05T20:17:35.692Z"
   },
   {
    "duration": 68,
    "start_time": "2025-08-05T20:17:35.887Z"
   },
   {
    "duration": 22,
    "start_time": "2025-08-05T20:17:35.957Z"
   },
   {
    "duration": 55,
    "start_time": "2025-08-05T20:17:35.981Z"
   },
   {
    "duration": 52,
    "start_time": "2025-08-05T20:17:36.038Z"
   },
   {
    "duration": 65,
    "start_time": "2025-08-05T20:17:36.092Z"
   },
   {
    "duration": 66,
    "start_time": "2025-08-05T20:17:36.159Z"
   },
   {
    "duration": 32,
    "start_time": "2025-08-05T20:17:36.226Z"
   },
   {
    "duration": 59,
    "start_time": "2025-08-05T20:17:36.259Z"
   },
   {
    "duration": 25781,
    "start_time": "2025-08-05T20:17:36.320Z"
   },
   {
    "duration": 177642,
    "start_time": "2025-08-05T20:18:02.103Z"
   },
   {
    "duration": 22916,
    "start_time": "2025-08-05T20:20:59.747Z"
   },
   {
    "duration": 24150,
    "start_time": "2025-08-05T20:21:22.665Z"
   },
   {
    "duration": 105721,
    "start_time": "2025-08-05T20:21:46.817Z"
   },
   {
    "duration": 296000,
    "start_time": "2025-08-05T20:23:32.540Z"
   },
   {
    "duration": 154860,
    "start_time": "2025-08-05T20:28:28.542Z"
   },
   {
    "duration": 279553,
    "start_time": "2025-08-05T20:31:03.404Z"
   },
   {
    "duration": 38263,
    "start_time": "2025-08-05T20:35:42.960Z"
   },
   {
    "duration": 27022,
    "start_time": "2025-08-05T20:36:21.225Z"
   },
   {
    "duration": 8,
    "start_time": "2025-08-05T20:36:48.249Z"
   },
   {
    "duration": 16,
    "start_time": "2025-08-05T20:36:48.258Z"
   },
   {
    "duration": 13,
    "start_time": "2025-08-05T20:36:48.276Z"
   },
   {
    "duration": 746559,
    "start_time": "2025-08-05T20:36:48.290Z"
   },
   {
    "duration": 8,
    "start_time": "2025-08-05T20:49:14.899Z"
   },
   {
    "duration": 12,
    "start_time": "2025-08-05T20:49:14.908Z"
   },
   {
    "duration": 18,
    "start_time": "2025-08-05T20:49:14.922Z"
   },
   {
    "duration": 954675,
    "start_time": "2025-08-05T20:49:14.942Z"
   },
   {
    "duration": 115,
    "start_time": "2025-08-05T21:05:09.619Z"
   },
   {
    "duration": 384,
    "start_time": "2025-08-05T21:05:09.736Z"
   },
   {
    "duration": 34,
    "start_time": "2025-08-05T21:05:10.122Z"
   },
   {
    "duration": 86,
    "start_time": "2025-08-05T21:05:10.158Z"
   },
   {
    "duration": 25,
    "start_time": "2025-08-05T21:05:10.247Z"
   },
   {
    "duration": 37,
    "start_time": "2025-08-05T21:05:10.274Z"
   },
   {
    "duration": 61,
    "start_time": "2025-08-05T21:05:10.314Z"
   },
   {
    "duration": 14,
    "start_time": "2025-08-05T21:05:10.377Z"
   },
   {
    "duration": 1561,
    "start_time": "2025-08-05T21:05:10.392Z"
   },
   {
    "duration": 85,
    "start_time": "2025-08-06T11:02:46.071Z"
   },
   {
    "duration": 47,
    "start_time": "2025-08-06T11:02:52.694Z"
   },
   {
    "duration": 46159,
    "start_time": "2025-08-06T11:03:04.692Z"
   },
   {
    "duration": 3743,
    "start_time": "2025-08-06T11:03:50.854Z"
   },
   {
    "duration": 10,
    "start_time": "2025-08-06T11:03:54.599Z"
   },
   {
    "duration": 67,
    "start_time": "2025-08-06T11:03:54.611Z"
   },
   {
    "duration": 85,
    "start_time": "2025-08-06T11:03:54.680Z"
   },
   {
    "duration": 100,
    "start_time": "2025-08-06T11:03:54.767Z"
   },
   {
    "duration": 62,
    "start_time": "2025-08-06T11:03:54.869Z"
   },
   {
    "duration": 81,
    "start_time": "2025-08-06T11:03:54.933Z"
   },
   {
    "duration": 58,
    "start_time": "2025-08-06T11:03:55.015Z"
   },
   {
    "duration": 27,
    "start_time": "2025-08-06T11:03:55.076Z"
   },
   {
    "duration": 40,
    "start_time": "2025-08-06T11:03:55.105Z"
   },
   {
    "duration": 292,
    "start_time": "2025-08-06T11:03:55.147Z"
   },
   {
    "duration": 26,
    "start_time": "2025-08-06T11:03:55.441Z"
   },
   {
    "duration": 323,
    "start_time": "2025-08-06T11:03:55.469Z"
   },
   {
    "duration": 0,
    "start_time": "2025-08-06T11:03:55.797Z"
   },
   {
    "duration": 0,
    "start_time": "2025-08-06T11:03:55.798Z"
   },
   {
    "duration": 0,
    "start_time": "2025-08-06T11:03:55.799Z"
   },
   {
    "duration": 0,
    "start_time": "2025-08-06T11:03:55.800Z"
   },
   {
    "duration": 0,
    "start_time": "2025-08-06T11:03:55.801Z"
   },
   {
    "duration": 0,
    "start_time": "2025-08-06T11:03:55.802Z"
   },
   {
    "duration": 0,
    "start_time": "2025-08-06T11:03:55.803Z"
   },
   {
    "duration": 0,
    "start_time": "2025-08-06T11:03:55.805Z"
   },
   {
    "duration": 0,
    "start_time": "2025-08-06T11:03:55.806Z"
   },
   {
    "duration": 0,
    "start_time": "2025-08-06T11:03:55.807Z"
   },
   {
    "duration": 0,
    "start_time": "2025-08-06T11:03:55.808Z"
   },
   {
    "duration": 0,
    "start_time": "2025-08-06T11:03:55.809Z"
   },
   {
    "duration": 0,
    "start_time": "2025-08-06T11:03:55.810Z"
   },
   {
    "duration": 0,
    "start_time": "2025-08-06T11:03:55.811Z"
   },
   {
    "duration": 0,
    "start_time": "2025-08-06T11:03:55.812Z"
   },
   {
    "duration": 0,
    "start_time": "2025-08-06T11:03:55.813Z"
   },
   {
    "duration": 0,
    "start_time": "2025-08-06T11:03:55.814Z"
   },
   {
    "duration": 0,
    "start_time": "2025-08-06T11:03:55.839Z"
   },
   {
    "duration": 0,
    "start_time": "2025-08-06T11:03:55.840Z"
   },
   {
    "duration": 0,
    "start_time": "2025-08-06T11:03:55.841Z"
   },
   {
    "duration": 0,
    "start_time": "2025-08-06T11:03:55.843Z"
   },
   {
    "duration": 0,
    "start_time": "2025-08-06T11:03:55.844Z"
   },
   {
    "duration": 0,
    "start_time": "2025-08-06T11:03:55.844Z"
   },
   {
    "duration": 0,
    "start_time": "2025-08-06T11:03:55.845Z"
   },
   {
    "duration": 0,
    "start_time": "2025-08-06T11:03:55.846Z"
   },
   {
    "duration": 0,
    "start_time": "2025-08-06T11:03:55.847Z"
   },
   {
    "duration": 0,
    "start_time": "2025-08-06T11:03:55.848Z"
   },
   {
    "duration": 0,
    "start_time": "2025-08-06T11:03:55.850Z"
   },
   {
    "duration": 0,
    "start_time": "2025-08-06T11:03:55.850Z"
   },
   {
    "duration": 0,
    "start_time": "2025-08-06T11:03:55.852Z"
   },
   {
    "duration": 0,
    "start_time": "2025-08-06T11:03:55.852Z"
   },
   {
    "duration": 0,
    "start_time": "2025-08-06T11:03:55.854Z"
   },
   {
    "duration": 0,
    "start_time": "2025-08-06T11:03:55.854Z"
   },
   {
    "duration": 0,
    "start_time": "2025-08-06T11:03:55.855Z"
   },
   {
    "duration": 0,
    "start_time": "2025-08-06T11:03:55.856Z"
   },
   {
    "duration": 0,
    "start_time": "2025-08-06T11:03:55.857Z"
   },
   {
    "duration": 0,
    "start_time": "2025-08-06T11:03:55.858Z"
   },
   {
    "duration": 0,
    "start_time": "2025-08-06T11:03:55.859Z"
   },
   {
    "duration": 0,
    "start_time": "2025-08-06T11:03:55.860Z"
   },
   {
    "duration": 0,
    "start_time": "2025-08-06T11:03:55.861Z"
   },
   {
    "duration": 0,
    "start_time": "2025-08-06T11:03:55.862Z"
   },
   {
    "duration": 0,
    "start_time": "2025-08-06T11:03:55.863Z"
   },
   {
    "duration": 0,
    "start_time": "2025-08-06T11:03:55.864Z"
   },
   {
    "duration": 0,
    "start_time": "2025-08-06T11:03:55.865Z"
   },
   {
    "duration": 0,
    "start_time": "2025-08-06T11:03:55.866Z"
   },
   {
    "duration": 0,
    "start_time": "2025-08-06T11:03:55.867Z"
   },
   {
    "duration": 0,
    "start_time": "2025-08-06T11:03:55.868Z"
   },
   {
    "duration": 0,
    "start_time": "2025-08-06T11:03:55.869Z"
   },
   {
    "duration": 0,
    "start_time": "2025-08-06T11:03:55.870Z"
   },
   {
    "duration": 0,
    "start_time": "2025-08-06T11:03:55.871Z"
   },
   {
    "duration": 0,
    "start_time": "2025-08-06T11:03:55.872Z"
   },
   {
    "duration": 0,
    "start_time": "2025-08-06T11:03:55.873Z"
   },
   {
    "duration": 0,
    "start_time": "2025-08-06T11:03:55.874Z"
   },
   {
    "duration": 0,
    "start_time": "2025-08-06T11:03:55.939Z"
   },
   {
    "duration": 0,
    "start_time": "2025-08-06T11:03:55.940Z"
   },
   {
    "duration": 0,
    "start_time": "2025-08-06T11:03:55.941Z"
   },
   {
    "duration": 0,
    "start_time": "2025-08-06T11:03:55.943Z"
   },
   {
    "duration": 0,
    "start_time": "2025-08-06T11:03:55.944Z"
   },
   {
    "duration": 1,
    "start_time": "2025-08-06T11:03:55.944Z"
   },
   {
    "duration": 0,
    "start_time": "2025-08-06T11:03:55.946Z"
   },
   {
    "duration": 0,
    "start_time": "2025-08-06T11:03:55.947Z"
   },
   {
    "duration": 0,
    "start_time": "2025-08-06T11:03:55.948Z"
   },
   {
    "duration": 0,
    "start_time": "2025-08-06T11:03:55.948Z"
   },
   {
    "duration": 0,
    "start_time": "2025-08-06T11:03:55.949Z"
   },
   {
    "duration": 0,
    "start_time": "2025-08-06T11:03:55.950Z"
   },
   {
    "duration": 0,
    "start_time": "2025-08-06T11:03:55.951Z"
   },
   {
    "duration": 0,
    "start_time": "2025-08-06T11:03:55.952Z"
   },
   {
    "duration": 0,
    "start_time": "2025-08-06T11:03:55.953Z"
   },
   {
    "duration": 0,
    "start_time": "2025-08-06T11:03:55.955Z"
   },
   {
    "duration": 0,
    "start_time": "2025-08-06T11:03:55.955Z"
   },
   {
    "duration": 0,
    "start_time": "2025-08-06T11:03:55.956Z"
   },
   {
    "duration": 0,
    "start_time": "2025-08-06T11:03:55.957Z"
   },
   {
    "duration": 0,
    "start_time": "2025-08-06T11:03:55.958Z"
   },
   {
    "duration": 0,
    "start_time": "2025-08-06T11:03:55.959Z"
   },
   {
    "duration": 0,
    "start_time": "2025-08-06T11:03:55.960Z"
   },
   {
    "duration": 0,
    "start_time": "2025-08-06T11:03:55.961Z"
   },
   {
    "duration": 0,
    "start_time": "2025-08-06T11:03:55.962Z"
   },
   {
    "duration": 0,
    "start_time": "2025-08-06T11:03:55.964Z"
   },
   {
    "duration": 0,
    "start_time": "2025-08-06T11:03:55.965Z"
   },
   {
    "duration": 0,
    "start_time": "2025-08-06T11:03:55.966Z"
   },
   {
    "duration": 0,
    "start_time": "2025-08-06T11:03:55.967Z"
   },
   {
    "duration": 0,
    "start_time": "2025-08-06T11:03:55.968Z"
   },
   {
    "duration": 0,
    "start_time": "2025-08-06T11:03:55.969Z"
   },
   {
    "duration": 0,
    "start_time": "2025-08-06T11:03:55.970Z"
   },
   {
    "duration": 0,
    "start_time": "2025-08-06T11:03:55.971Z"
   },
   {
    "duration": 0,
    "start_time": "2025-08-06T11:03:55.972Z"
   },
   {
    "duration": 0,
    "start_time": "2025-08-06T11:03:55.973Z"
   },
   {
    "duration": 0,
    "start_time": "2025-08-06T11:03:55.974Z"
   },
   {
    "duration": 0,
    "start_time": "2025-08-06T11:03:55.975Z"
   },
   {
    "duration": 0,
    "start_time": "2025-08-06T11:03:56.039Z"
   },
   {
    "duration": 0,
    "start_time": "2025-08-06T11:03:56.040Z"
   },
   {
    "duration": 0,
    "start_time": "2025-08-06T11:03:56.042Z"
   },
   {
    "duration": 0,
    "start_time": "2025-08-06T11:03:56.043Z"
   },
   {
    "duration": 0,
    "start_time": "2025-08-06T11:03:56.044Z"
   },
   {
    "duration": 0,
    "start_time": "2025-08-06T11:03:56.045Z"
   },
   {
    "duration": 0,
    "start_time": "2025-08-06T11:03:56.046Z"
   },
   {
    "duration": 0,
    "start_time": "2025-08-06T11:03:56.047Z"
   },
   {
    "duration": 0,
    "start_time": "2025-08-06T11:03:56.048Z"
   },
   {
    "duration": 0,
    "start_time": "2025-08-06T11:03:56.049Z"
   },
   {
    "duration": 0,
    "start_time": "2025-08-06T11:03:56.050Z"
   },
   {
    "duration": 0,
    "start_time": "2025-08-06T11:03:56.052Z"
   },
   {
    "duration": 0,
    "start_time": "2025-08-06T11:03:56.053Z"
   },
   {
    "duration": 0,
    "start_time": "2025-08-06T11:03:56.054Z"
   },
   {
    "duration": 0,
    "start_time": "2025-08-06T11:03:56.055Z"
   },
   {
    "duration": 0,
    "start_time": "2025-08-06T11:03:56.056Z"
   },
   {
    "duration": 0,
    "start_time": "2025-08-06T11:03:56.057Z"
   },
   {
    "duration": 0,
    "start_time": "2025-08-06T11:03:56.058Z"
   },
   {
    "duration": 0,
    "start_time": "2025-08-06T11:03:56.059Z"
   },
   {
    "duration": 0,
    "start_time": "2025-08-06T11:03:56.060Z"
   },
   {
    "duration": 0,
    "start_time": "2025-08-06T11:03:56.061Z"
   },
   {
    "duration": 0,
    "start_time": "2025-08-06T11:03:56.063Z"
   },
   {
    "duration": 0,
    "start_time": "2025-08-06T11:03:56.063Z"
   },
   {
    "duration": 1,
    "start_time": "2025-08-06T11:03:56.064Z"
   },
   {
    "duration": 0,
    "start_time": "2025-08-06T11:03:56.065Z"
   },
   {
    "duration": 0,
    "start_time": "2025-08-06T11:03:56.067Z"
   },
   {
    "duration": 0,
    "start_time": "2025-08-06T11:03:56.068Z"
   },
   {
    "duration": 0,
    "start_time": "2025-08-06T11:03:56.069Z"
   },
   {
    "duration": 0,
    "start_time": "2025-08-06T11:03:56.070Z"
   },
   {
    "duration": 0,
    "start_time": "2025-08-06T11:03:56.071Z"
   },
   {
    "duration": 0,
    "start_time": "2025-08-06T11:03:56.073Z"
   },
   {
    "duration": 0,
    "start_time": "2025-08-06T11:03:56.073Z"
   },
   {
    "duration": 0,
    "start_time": "2025-08-06T11:03:56.138Z"
   },
   {
    "duration": 0,
    "start_time": "2025-08-06T11:03:56.140Z"
   },
   {
    "duration": 0,
    "start_time": "2025-08-06T11:03:56.141Z"
   },
   {
    "duration": 0,
    "start_time": "2025-08-06T11:03:56.142Z"
   },
   {
    "duration": 0,
    "start_time": "2025-08-06T11:03:56.144Z"
   },
   {
    "duration": 0,
    "start_time": "2025-08-06T11:03:56.145Z"
   },
   {
    "duration": 234,
    "start_time": "2025-08-06T11:04:16.269Z"
   },
   {
    "duration": 21,
    "start_time": "2025-08-06T11:06:50.426Z"
   },
   {
    "duration": 86,
    "start_time": "2025-08-06T11:06:58.902Z"
   },
   {
    "duration": 19,
    "start_time": "2025-08-06T11:07:01.717Z"
   },
   {
    "duration": 20260,
    "start_time": "2025-08-06T11:21:19.751Z"
   },
   {
    "duration": 3534,
    "start_time": "2025-08-06T11:21:40.013Z"
   },
   {
    "duration": 10,
    "start_time": "2025-08-06T11:21:43.548Z"
   },
   {
    "duration": 35,
    "start_time": "2025-08-06T11:21:43.560Z"
   },
   {
    "duration": 10,
    "start_time": "2025-08-06T11:21:43.597Z"
   },
   {
    "duration": 21,
    "start_time": "2025-08-06T11:21:43.608Z"
   },
   {
    "duration": 19,
    "start_time": "2025-08-06T11:21:43.631Z"
   },
   {
    "duration": 8,
    "start_time": "2025-08-06T11:21:43.652Z"
   },
   {
    "duration": 15,
    "start_time": "2025-08-06T11:21:43.662Z"
   },
   {
    "duration": 7,
    "start_time": "2025-08-06T11:21:43.679Z"
   },
   {
    "duration": 10,
    "start_time": "2025-08-06T11:21:43.687Z"
   },
   {
    "duration": 103,
    "start_time": "2025-08-06T11:21:43.698Z"
   },
   {
    "duration": 26,
    "start_time": "2025-08-06T11:21:43.803Z"
   },
   {
    "duration": 16,
    "start_time": "2025-08-06T11:21:43.831Z"
   },
   {
    "duration": 18,
    "start_time": "2025-08-06T11:21:43.849Z"
   },
   {
    "duration": 14,
    "start_time": "2025-08-06T11:21:43.869Z"
   },
   {
    "duration": 3,
    "start_time": "2025-08-06T11:21:43.884Z"
   },
   {
    "duration": 23,
    "start_time": "2025-08-06T11:21:43.888Z"
   },
   {
    "duration": 14,
    "start_time": "2025-08-06T11:21:43.939Z"
   },
   {
    "duration": 49,
    "start_time": "2025-08-06T11:21:43.954Z"
   },
   {
    "duration": 4,
    "start_time": "2025-08-06T11:21:44.005Z"
   },
   {
    "duration": 18,
    "start_time": "2025-08-06T11:21:44.011Z"
   },
   {
    "duration": 86,
    "start_time": "2025-08-06T11:21:44.031Z"
   },
   {
    "duration": 0,
    "start_time": "2025-08-06T11:21:44.122Z"
   },
   {
    "duration": 0,
    "start_time": "2025-08-06T11:21:44.123Z"
   },
   {
    "duration": 0,
    "start_time": "2025-08-06T11:21:44.124Z"
   },
   {
    "duration": 0,
    "start_time": "2025-08-06T11:21:44.125Z"
   },
   {
    "duration": 0,
    "start_time": "2025-08-06T11:21:44.126Z"
   },
   {
    "duration": 0,
    "start_time": "2025-08-06T11:21:44.127Z"
   },
   {
    "duration": 0,
    "start_time": "2025-08-06T11:21:44.128Z"
   },
   {
    "duration": 0,
    "start_time": "2025-08-06T11:21:44.129Z"
   },
   {
    "duration": 0,
    "start_time": "2025-08-06T11:21:44.131Z"
   },
   {
    "duration": 0,
    "start_time": "2025-08-06T11:21:44.131Z"
   },
   {
    "duration": 0,
    "start_time": "2025-08-06T11:21:44.132Z"
   },
   {
    "duration": 0,
    "start_time": "2025-08-06T11:21:44.134Z"
   },
   {
    "duration": 0,
    "start_time": "2025-08-06T11:21:44.135Z"
   },
   {
    "duration": 0,
    "start_time": "2025-08-06T11:21:44.136Z"
   },
   {
    "duration": 0,
    "start_time": "2025-08-06T11:21:44.137Z"
   },
   {
    "duration": 0,
    "start_time": "2025-08-06T11:21:44.138Z"
   },
   {
    "duration": 0,
    "start_time": "2025-08-06T11:21:44.139Z"
   },
   {
    "duration": 0,
    "start_time": "2025-08-06T11:21:44.140Z"
   },
   {
    "duration": 0,
    "start_time": "2025-08-06T11:21:44.141Z"
   },
   {
    "duration": 0,
    "start_time": "2025-08-06T11:21:44.142Z"
   },
   {
    "duration": 0,
    "start_time": "2025-08-06T11:21:44.143Z"
   },
   {
    "duration": 0,
    "start_time": "2025-08-06T11:21:44.143Z"
   },
   {
    "duration": 0,
    "start_time": "2025-08-06T11:21:44.145Z"
   },
   {
    "duration": 0,
    "start_time": "2025-08-06T11:21:44.146Z"
   },
   {
    "duration": 0,
    "start_time": "2025-08-06T11:21:44.147Z"
   },
   {
    "duration": 0,
    "start_time": "2025-08-06T11:21:44.148Z"
   },
   {
    "duration": 0,
    "start_time": "2025-08-06T11:21:44.149Z"
   },
   {
    "duration": 0,
    "start_time": "2025-08-06T11:21:44.150Z"
   },
   {
    "duration": 0,
    "start_time": "2025-08-06T11:21:44.151Z"
   },
   {
    "duration": 0,
    "start_time": "2025-08-06T11:21:44.152Z"
   },
   {
    "duration": 0,
    "start_time": "2025-08-06T11:21:44.154Z"
   },
   {
    "duration": 0,
    "start_time": "2025-08-06T11:21:44.155Z"
   },
   {
    "duration": 0,
    "start_time": "2025-08-06T11:21:44.156Z"
   },
   {
    "duration": 0,
    "start_time": "2025-08-06T11:21:44.157Z"
   },
   {
    "duration": 0,
    "start_time": "2025-08-06T11:21:44.158Z"
   },
   {
    "duration": 0,
    "start_time": "2025-08-06T11:21:44.159Z"
   },
   {
    "duration": 0,
    "start_time": "2025-08-06T11:21:44.160Z"
   },
   {
    "duration": 0,
    "start_time": "2025-08-06T11:21:44.161Z"
   },
   {
    "duration": 0,
    "start_time": "2025-08-06T11:21:44.162Z"
   },
   {
    "duration": 0,
    "start_time": "2025-08-06T11:21:44.163Z"
   },
   {
    "duration": 0,
    "start_time": "2025-08-06T11:21:44.164Z"
   },
   {
    "duration": 0,
    "start_time": "2025-08-06T11:21:44.164Z"
   },
   {
    "duration": 0,
    "start_time": "2025-08-06T11:21:44.166Z"
   },
   {
    "duration": 0,
    "start_time": "2025-08-06T11:21:44.167Z"
   },
   {
    "duration": 0,
    "start_time": "2025-08-06T11:21:44.167Z"
   },
   {
    "duration": 0,
    "start_time": "2025-08-06T11:21:44.168Z"
   },
   {
    "duration": 0,
    "start_time": "2025-08-06T11:21:44.170Z"
   },
   {
    "duration": 0,
    "start_time": "2025-08-06T11:21:44.171Z"
   },
   {
    "duration": 0,
    "start_time": "2025-08-06T11:21:44.172Z"
   },
   {
    "duration": 0,
    "start_time": "2025-08-06T11:21:44.173Z"
   },
   {
    "duration": 0,
    "start_time": "2025-08-06T11:21:44.174Z"
   },
   {
    "duration": 0,
    "start_time": "2025-08-06T11:21:44.175Z"
   },
   {
    "duration": 0,
    "start_time": "2025-08-06T11:21:44.176Z"
   },
   {
    "duration": 0,
    "start_time": "2025-08-06T11:21:44.177Z"
   },
   {
    "duration": 0,
    "start_time": "2025-08-06T11:21:44.178Z"
   },
   {
    "duration": 0,
    "start_time": "2025-08-06T11:21:44.240Z"
   },
   {
    "duration": 0,
    "start_time": "2025-08-06T11:21:44.241Z"
   },
   {
    "duration": 0,
    "start_time": "2025-08-06T11:21:44.242Z"
   },
   {
    "duration": 0,
    "start_time": "2025-08-06T11:21:44.243Z"
   },
   {
    "duration": 0,
    "start_time": "2025-08-06T11:21:44.244Z"
   },
   {
    "duration": 0,
    "start_time": "2025-08-06T11:21:44.245Z"
   },
   {
    "duration": 0,
    "start_time": "2025-08-06T11:21:44.246Z"
   },
   {
    "duration": 0,
    "start_time": "2025-08-06T11:21:44.247Z"
   },
   {
    "duration": 0,
    "start_time": "2025-08-06T11:21:44.248Z"
   },
   {
    "duration": 0,
    "start_time": "2025-08-06T11:21:44.249Z"
   },
   {
    "duration": 0,
    "start_time": "2025-08-06T11:21:44.250Z"
   },
   {
    "duration": 0,
    "start_time": "2025-08-06T11:21:44.251Z"
   },
   {
    "duration": 0,
    "start_time": "2025-08-06T11:21:44.252Z"
   },
   {
    "duration": 0,
    "start_time": "2025-08-06T11:21:44.253Z"
   },
   {
    "duration": 0,
    "start_time": "2025-08-06T11:21:44.254Z"
   },
   {
    "duration": 0,
    "start_time": "2025-08-06T11:21:44.256Z"
   },
   {
    "duration": 0,
    "start_time": "2025-08-06T11:21:44.257Z"
   },
   {
    "duration": 0,
    "start_time": "2025-08-06T11:21:44.258Z"
   },
   {
    "duration": 0,
    "start_time": "2025-08-06T11:21:44.259Z"
   },
   {
    "duration": 0,
    "start_time": "2025-08-06T11:21:44.260Z"
   },
   {
    "duration": 0,
    "start_time": "2025-08-06T11:21:44.261Z"
   },
   {
    "duration": 0,
    "start_time": "2025-08-06T11:21:44.262Z"
   },
   {
    "duration": 0,
    "start_time": "2025-08-06T11:21:44.263Z"
   },
   {
    "duration": 0,
    "start_time": "2025-08-06T11:21:44.264Z"
   },
   {
    "duration": 0,
    "start_time": "2025-08-06T11:21:44.265Z"
   },
   {
    "duration": 0,
    "start_time": "2025-08-06T11:21:44.266Z"
   },
   {
    "duration": 0,
    "start_time": "2025-08-06T11:21:44.267Z"
   },
   {
    "duration": 1,
    "start_time": "2025-08-06T11:21:44.268Z"
   },
   {
    "duration": 0,
    "start_time": "2025-08-06T11:21:44.270Z"
   },
   {
    "duration": 0,
    "start_time": "2025-08-06T11:21:44.271Z"
   },
   {
    "duration": 0,
    "start_time": "2025-08-06T11:21:44.272Z"
   },
   {
    "duration": 0,
    "start_time": "2025-08-06T11:21:44.273Z"
   },
   {
    "duration": 0,
    "start_time": "2025-08-06T11:21:44.274Z"
   },
   {
    "duration": 0,
    "start_time": "2025-08-06T11:21:44.339Z"
   },
   {
    "duration": 0,
    "start_time": "2025-08-06T11:21:44.341Z"
   },
   {
    "duration": 0,
    "start_time": "2025-08-06T11:21:44.342Z"
   },
   {
    "duration": 0,
    "start_time": "2025-08-06T11:21:44.343Z"
   },
   {
    "duration": 0,
    "start_time": "2025-08-06T11:21:44.344Z"
   },
   {
    "duration": 0,
    "start_time": "2025-08-06T11:21:44.345Z"
   },
   {
    "duration": 0,
    "start_time": "2025-08-06T11:21:44.346Z"
   },
   {
    "duration": 0,
    "start_time": "2025-08-06T11:21:44.347Z"
   },
   {
    "duration": 1,
    "start_time": "2025-08-06T11:21:44.348Z"
   },
   {
    "duration": 0,
    "start_time": "2025-08-06T11:21:44.349Z"
   },
   {
    "duration": 0,
    "start_time": "2025-08-06T11:21:44.350Z"
   },
   {
    "duration": 0,
    "start_time": "2025-08-06T11:21:44.352Z"
   },
   {
    "duration": 0,
    "start_time": "2025-08-06T11:21:44.353Z"
   },
   {
    "duration": 0,
    "start_time": "2025-08-06T11:21:44.354Z"
   },
   {
    "duration": 0,
    "start_time": "2025-08-06T11:21:44.356Z"
   },
   {
    "duration": 0,
    "start_time": "2025-08-06T11:21:44.357Z"
   },
   {
    "duration": 0,
    "start_time": "2025-08-06T11:21:44.358Z"
   },
   {
    "duration": 0,
    "start_time": "2025-08-06T11:21:44.359Z"
   },
   {
    "duration": 0,
    "start_time": "2025-08-06T11:21:44.360Z"
   },
   {
    "duration": 0,
    "start_time": "2025-08-06T11:21:44.361Z"
   },
   {
    "duration": 0,
    "start_time": "2025-08-06T11:21:44.362Z"
   },
   {
    "duration": 0,
    "start_time": "2025-08-06T11:21:44.363Z"
   },
   {
    "duration": 0,
    "start_time": "2025-08-06T11:21:44.364Z"
   },
   {
    "duration": 0,
    "start_time": "2025-08-06T11:21:44.365Z"
   },
   {
    "duration": 0,
    "start_time": "2025-08-06T11:21:44.367Z"
   },
   {
    "duration": 0,
    "start_time": "2025-08-06T11:21:44.368Z"
   },
   {
    "duration": 0,
    "start_time": "2025-08-06T11:21:44.369Z"
   },
   {
    "duration": 0,
    "start_time": "2025-08-06T11:21:44.370Z"
   },
   {
    "duration": 0,
    "start_time": "2025-08-06T11:21:44.371Z"
   },
   {
    "duration": 0,
    "start_time": "2025-08-06T11:21:44.372Z"
   },
   {
    "duration": 0,
    "start_time": "2025-08-06T11:21:44.373Z"
   },
   {
    "duration": 11,
    "start_time": "2025-08-06T11:28:10.860Z"
   },
   {
    "duration": 2,
    "start_time": "2025-08-06T11:31:16.201Z"
   },
   {
    "duration": 4,
    "start_time": "2025-08-06T11:31:26.702Z"
   },
   {
    "duration": 9,
    "start_time": "2025-08-06T11:31:30.166Z"
   },
   {
    "duration": 6,
    "start_time": "2025-08-06T11:31:32.826Z"
   },
   {
    "duration": 8,
    "start_time": "2025-08-06T11:31:36.670Z"
   },
   {
    "duration": 10,
    "start_time": "2025-08-06T11:32:08.945Z"
   },
   {
    "duration": 350,
    "start_time": "2025-08-06T11:35:42.081Z"
   },
   {
    "duration": 5,
    "start_time": "2025-08-06T11:36:15.733Z"
   },
   {
    "duration": 56,
    "start_time": "2025-08-06T11:36:17.134Z"
   },
   {
    "duration": 5,
    "start_time": "2025-08-06T11:36:32.078Z"
   },
   {
    "duration": 54,
    "start_time": "2025-08-06T11:36:33.405Z"
   },
   {
    "duration": 5,
    "start_time": "2025-08-06T11:36:37.020Z"
   },
   {
    "duration": 62,
    "start_time": "2025-08-06T11:36:40.820Z"
   },
   {
    "duration": 47,
    "start_time": "2025-08-06T12:02:46.326Z"
   },
   {
    "duration": 48,
    "start_time": "2025-08-06T12:02:54.190Z"
   },
   {
    "duration": 727,
    "start_time": "2025-08-07T08:24:41.005Z"
   },
   {
    "duration": 72182,
    "start_time": "2025-08-07T08:25:03.801Z"
   },
   {
    "duration": 3633,
    "start_time": "2025-08-07T08:26:15.986Z"
   },
   {
    "duration": 13,
    "start_time": "2025-08-07T08:26:19.621Z"
   },
   {
    "duration": 116,
    "start_time": "2025-08-07T08:26:19.637Z"
   },
   {
    "duration": 28,
    "start_time": "2025-08-07T08:26:19.755Z"
   },
   {
    "duration": 10,
    "start_time": "2025-08-07T08:26:19.784Z"
   },
   {
    "duration": 12,
    "start_time": "2025-08-07T08:26:19.796Z"
   },
   {
    "duration": 9,
    "start_time": "2025-08-07T08:26:19.810Z"
   },
   {
    "duration": 30,
    "start_time": "2025-08-07T08:26:19.820Z"
   },
   {
    "duration": 32,
    "start_time": "2025-08-07T08:26:19.853Z"
   },
   {
    "duration": 33,
    "start_time": "2025-08-07T08:26:19.886Z"
   },
   {
    "duration": 317,
    "start_time": "2025-08-07T08:26:19.921Z"
   },
   {
    "duration": 26,
    "start_time": "2025-08-07T08:26:20.239Z"
   },
   {
    "duration": 41,
    "start_time": "2025-08-07T08:26:20.267Z"
   },
   {
    "duration": 20,
    "start_time": "2025-08-07T08:26:20.309Z"
   },
   {
    "duration": 23,
    "start_time": "2025-08-07T08:26:20.331Z"
   },
   {
    "duration": 4,
    "start_time": "2025-08-07T08:26:20.355Z"
   },
   {
    "duration": 65,
    "start_time": "2025-08-07T08:26:20.361Z"
   },
   {
    "duration": 37,
    "start_time": "2025-08-07T08:26:20.428Z"
   },
   {
    "duration": 48,
    "start_time": "2025-08-07T08:26:20.467Z"
   },
   {
    "duration": 4,
    "start_time": "2025-08-07T08:26:20.517Z"
   },
   {
    "duration": 73,
    "start_time": "2025-08-07T08:26:20.523Z"
   },
   {
    "duration": 14,
    "start_time": "2025-08-07T08:26:20.598Z"
   },
   {
    "duration": 42,
    "start_time": "2025-08-07T08:26:20.614Z"
   },
   {
    "duration": 236,
    "start_time": "2025-08-07T08:26:20.657Z"
   },
   {
    "duration": 27,
    "start_time": "2025-08-07T08:26:20.895Z"
   },
   {
    "duration": 26,
    "start_time": "2025-08-07T08:26:20.924Z"
   },
   {
    "duration": 159,
    "start_time": "2025-08-07T08:26:20.954Z"
   },
   {
    "duration": 44,
    "start_time": "2025-08-07T08:26:21.114Z"
   },
   {
    "duration": 4,
    "start_time": "2025-08-07T08:26:21.159Z"
   },
   {
    "duration": 9,
    "start_time": "2025-08-07T08:26:21.164Z"
   },
   {
    "duration": 21,
    "start_time": "2025-08-07T08:26:21.175Z"
   },
   {
    "duration": 196,
    "start_time": "2025-08-07T08:26:21.198Z"
   },
   {
    "duration": 5,
    "start_time": "2025-08-07T08:26:21.395Z"
   },
   {
    "duration": 133,
    "start_time": "2025-08-07T08:26:21.401Z"
   },
   {
    "duration": 6,
    "start_time": "2025-08-07T08:26:21.536Z"
   },
   {
    "duration": 59,
    "start_time": "2025-08-07T08:26:21.544Z"
   },
   {
    "duration": 8,
    "start_time": "2025-08-07T08:26:21.605Z"
   },
   {
    "duration": 56,
    "start_time": "2025-08-07T08:26:21.635Z"
   },
   {
    "duration": 9,
    "start_time": "2025-08-07T08:26:21.692Z"
   },
   {
    "duration": 38,
    "start_time": "2025-08-07T08:26:21.703Z"
   },
   {
    "duration": 17,
    "start_time": "2025-08-07T08:26:21.742Z"
   },
   {
    "duration": 46,
    "start_time": "2025-08-07T08:26:21.760Z"
   },
   {
    "duration": 5,
    "start_time": "2025-08-07T08:26:21.807Z"
   },
   {
    "duration": 59,
    "start_time": "2025-08-07T08:26:21.814Z"
   },
   {
    "duration": 4,
    "start_time": "2025-08-07T08:26:21.875Z"
   },
   {
    "duration": 59,
    "start_time": "2025-08-07T08:26:21.880Z"
   },
   {
    "duration": 5,
    "start_time": "2025-08-07T08:26:21.941Z"
   },
   {
    "duration": 45,
    "start_time": "2025-08-07T08:26:21.947Z"
   },
   {
    "duration": 5,
    "start_time": "2025-08-07T08:26:21.993Z"
   },
   {
    "duration": 80,
    "start_time": "2025-08-07T08:26:21.999Z"
   },
   {
    "duration": 5,
    "start_time": "2025-08-07T08:26:22.081Z"
   },
   {
    "duration": 50,
    "start_time": "2025-08-07T08:26:22.087Z"
   },
   {
    "duration": 4,
    "start_time": "2025-08-07T08:26:22.139Z"
   },
   {
    "duration": 51,
    "start_time": "2025-08-07T08:26:22.144Z"
   },
   {
    "duration": 4,
    "start_time": "2025-08-07T08:26:22.197Z"
   },
   {
    "duration": 57,
    "start_time": "2025-08-07T08:26:22.203Z"
   },
   {
    "duration": 1026,
    "start_time": "2025-08-07T08:26:22.262Z"
   },
   {
    "duration": 367,
    "start_time": "2025-08-07T08:26:23.290Z"
   },
   {
    "duration": 0,
    "start_time": "2025-08-07T08:26:23.660Z"
   },
   {
    "duration": 0,
    "start_time": "2025-08-07T08:26:23.662Z"
   },
   {
    "duration": 0,
    "start_time": "2025-08-07T08:26:23.664Z"
   },
   {
    "duration": 0,
    "start_time": "2025-08-07T08:26:23.665Z"
   },
   {
    "duration": 0,
    "start_time": "2025-08-07T08:26:23.666Z"
   },
   {
    "duration": 0,
    "start_time": "2025-08-07T08:26:23.668Z"
   },
   {
    "duration": 0,
    "start_time": "2025-08-07T08:26:23.669Z"
   },
   {
    "duration": 0,
    "start_time": "2025-08-07T08:26:23.671Z"
   },
   {
    "duration": 0,
    "start_time": "2025-08-07T08:26:23.672Z"
   },
   {
    "duration": 0,
    "start_time": "2025-08-07T08:26:23.673Z"
   },
   {
    "duration": 0,
    "start_time": "2025-08-07T08:26:23.675Z"
   },
   {
    "duration": 0,
    "start_time": "2025-08-07T08:26:23.676Z"
   },
   {
    "duration": 0,
    "start_time": "2025-08-07T08:26:23.678Z"
   },
   {
    "duration": 0,
    "start_time": "2025-08-07T08:26:23.679Z"
   },
   {
    "duration": 0,
    "start_time": "2025-08-07T08:26:23.681Z"
   },
   {
    "duration": 0,
    "start_time": "2025-08-07T08:26:23.682Z"
   },
   {
    "duration": 0,
    "start_time": "2025-08-07T08:26:23.684Z"
   },
   {
    "duration": 0,
    "start_time": "2025-08-07T08:26:23.685Z"
   },
   {
    "duration": 0,
    "start_time": "2025-08-07T08:26:23.687Z"
   },
   {
    "duration": 0,
    "start_time": "2025-08-07T08:26:23.689Z"
   },
   {
    "duration": 0,
    "start_time": "2025-08-07T08:26:23.690Z"
   },
   {
    "duration": 0,
    "start_time": "2025-08-07T08:26:23.735Z"
   },
   {
    "duration": 0,
    "start_time": "2025-08-07T08:26:23.736Z"
   },
   {
    "duration": 0,
    "start_time": "2025-08-07T08:26:23.738Z"
   },
   {
    "duration": 0,
    "start_time": "2025-08-07T08:26:23.739Z"
   },
   {
    "duration": 0,
    "start_time": "2025-08-07T08:26:23.740Z"
   },
   {
    "duration": 0,
    "start_time": "2025-08-07T08:26:23.741Z"
   },
   {
    "duration": 0,
    "start_time": "2025-08-07T08:26:23.742Z"
   },
   {
    "duration": 0,
    "start_time": "2025-08-07T08:26:23.743Z"
   },
   {
    "duration": 0,
    "start_time": "2025-08-07T08:26:23.744Z"
   },
   {
    "duration": 0,
    "start_time": "2025-08-07T08:26:23.747Z"
   },
   {
    "duration": 0,
    "start_time": "2025-08-07T08:26:23.748Z"
   },
   {
    "duration": 0,
    "start_time": "2025-08-07T08:26:23.749Z"
   },
   {
    "duration": 0,
    "start_time": "2025-08-07T08:26:23.750Z"
   },
   {
    "duration": 0,
    "start_time": "2025-08-07T08:26:23.752Z"
   },
   {
    "duration": 0,
    "start_time": "2025-08-07T08:26:23.753Z"
   },
   {
    "duration": 0,
    "start_time": "2025-08-07T08:26:23.754Z"
   },
   {
    "duration": 0,
    "start_time": "2025-08-07T08:26:23.754Z"
   },
   {
    "duration": 0,
    "start_time": "2025-08-07T08:26:23.755Z"
   },
   {
    "duration": 0,
    "start_time": "2025-08-07T08:26:23.756Z"
   },
   {
    "duration": 0,
    "start_time": "2025-08-07T08:26:23.757Z"
   },
   {
    "duration": 0,
    "start_time": "2025-08-07T08:26:23.758Z"
   },
   {
    "duration": 0,
    "start_time": "2025-08-07T08:26:23.759Z"
   },
   {
    "duration": 0,
    "start_time": "2025-08-07T08:26:23.761Z"
   },
   {
    "duration": 0,
    "start_time": "2025-08-07T08:26:23.762Z"
   },
   {
    "duration": 0,
    "start_time": "2025-08-07T08:26:23.762Z"
   },
   {
    "duration": 0,
    "start_time": "2025-08-07T08:26:23.764Z"
   },
   {
    "duration": 0,
    "start_time": "2025-08-07T08:26:23.765Z"
   },
   {
    "duration": 0,
    "start_time": "2025-08-07T08:26:23.766Z"
   },
   {
    "duration": 0,
    "start_time": "2025-08-07T08:26:23.767Z"
   },
   {
    "duration": 0,
    "start_time": "2025-08-07T08:26:23.768Z"
   },
   {
    "duration": 0,
    "start_time": "2025-08-07T08:26:23.769Z"
   },
   {
    "duration": 0,
    "start_time": "2025-08-07T08:26:23.770Z"
   },
   {
    "duration": 0,
    "start_time": "2025-08-07T08:26:23.771Z"
   },
   {
    "duration": 0,
    "start_time": "2025-08-07T08:26:23.834Z"
   },
   {
    "duration": 0,
    "start_time": "2025-08-07T08:26:23.835Z"
   },
   {
    "duration": 0,
    "start_time": "2025-08-07T08:26:23.837Z"
   },
   {
    "duration": 0,
    "start_time": "2025-08-07T08:26:23.838Z"
   },
   {
    "duration": 1,
    "start_time": "2025-08-07T08:26:23.841Z"
   },
   {
    "duration": 0,
    "start_time": "2025-08-07T08:26:23.843Z"
   },
   {
    "duration": 0,
    "start_time": "2025-08-07T08:26:23.844Z"
   },
   {
    "duration": 0,
    "start_time": "2025-08-07T08:26:23.846Z"
   },
   {
    "duration": 0,
    "start_time": "2025-08-07T08:26:23.847Z"
   },
   {
    "duration": 0,
    "start_time": "2025-08-07T08:26:23.849Z"
   },
   {
    "duration": 0,
    "start_time": "2025-08-07T08:26:23.850Z"
   },
   {
    "duration": 0,
    "start_time": "2025-08-07T08:26:23.851Z"
   },
   {
    "duration": 0,
    "start_time": "2025-08-07T08:26:23.853Z"
   },
   {
    "duration": 0,
    "start_time": "2025-08-07T08:26:23.854Z"
   },
   {
    "duration": 0,
    "start_time": "2025-08-07T08:26:23.857Z"
   },
   {
    "duration": 0,
    "start_time": "2025-08-07T08:26:23.859Z"
   },
   {
    "duration": 0,
    "start_time": "2025-08-07T08:26:23.860Z"
   },
   {
    "duration": 0,
    "start_time": "2025-08-07T08:26:23.862Z"
   },
   {
    "duration": 0,
    "start_time": "2025-08-07T08:26:23.863Z"
   },
   {
    "duration": 0,
    "start_time": "2025-08-07T08:26:23.864Z"
   },
   {
    "duration": 0,
    "start_time": "2025-08-07T08:26:23.866Z"
   },
   {
    "duration": 0,
    "start_time": "2025-08-07T08:26:23.867Z"
   },
   {
    "duration": 0,
    "start_time": "2025-08-07T08:26:23.869Z"
   },
   {
    "duration": 0,
    "start_time": "2025-08-07T08:26:23.870Z"
   },
   {
    "duration": 0,
    "start_time": "2025-08-07T08:26:23.871Z"
   },
   {
    "duration": 0,
    "start_time": "2025-08-07T08:26:23.872Z"
   },
   {
    "duration": 0,
    "start_time": "2025-08-07T08:26:23.935Z"
   },
   {
    "duration": 0,
    "start_time": "2025-08-07T08:26:23.936Z"
   },
   {
    "duration": 0,
    "start_time": "2025-08-07T08:26:23.938Z"
   },
   {
    "duration": 0,
    "start_time": "2025-08-07T08:26:23.939Z"
   },
   {
    "duration": 0,
    "start_time": "2025-08-07T08:26:23.940Z"
   },
   {
    "duration": 0,
    "start_time": "2025-08-07T08:26:23.941Z"
   },
   {
    "duration": 0,
    "start_time": "2025-08-07T08:26:23.942Z"
   },
   {
    "duration": 0,
    "start_time": "2025-08-07T08:26:23.943Z"
   },
   {
    "duration": 111,
    "start_time": "2025-08-07T08:27:01.711Z"
   },
   {
    "duration": 111,
    "start_time": "2025-08-07T08:45:52.356Z"
   },
   {
    "duration": 110,
    "start_time": "2025-08-07T08:47:25.700Z"
   },
   {
    "duration": 134,
    "start_time": "2025-08-07T08:47:31.605Z"
   },
   {
    "duration": 109,
    "start_time": "2025-08-07T08:47:36.099Z"
   },
   {
    "duration": 107,
    "start_time": "2025-08-07T08:50:38.457Z"
   },
   {
    "duration": 107,
    "start_time": "2025-08-07T08:50:46.178Z"
   },
   {
    "duration": 105,
    "start_time": "2025-08-07T08:50:51.124Z"
   },
   {
    "duration": 9,
    "start_time": "2025-08-07T08:52:07.816Z"
   },
   {
    "duration": 232,
    "start_time": "2025-08-07T08:54:45.168Z"
   },
   {
    "duration": 5,
    "start_time": "2025-08-07T09:06:52.700Z"
   },
   {
    "duration": 5,
    "start_time": "2025-08-07T09:07:00.343Z"
   },
   {
    "duration": 5,
    "start_time": "2025-08-07T09:07:19.419Z"
   },
   {
    "duration": 6,
    "start_time": "2025-08-07T09:07:38.043Z"
   },
   {
    "duration": 6,
    "start_time": "2025-08-07T09:07:42.212Z"
   },
   {
    "duration": 5,
    "start_time": "2025-08-07T09:07:48.702Z"
   },
   {
    "duration": 6,
    "start_time": "2025-08-07T09:07:53.563Z"
   },
   {
    "duration": 23,
    "start_time": "2025-08-07T09:08:00.916Z"
   },
   {
    "duration": 83,
    "start_time": "2025-08-07T09:11:51.164Z"
   },
   {
    "duration": 23,
    "start_time": "2025-08-07T09:11:56.932Z"
   },
   {
    "duration": 11,
    "start_time": "2025-08-07T09:16:32.330Z"
   },
   {
    "duration": 720,
    "start_time": "2025-08-07T09:16:46.484Z"
   },
   {
    "duration": 122,
    "start_time": "2025-08-07T09:31:07.450Z"
   },
   {
    "duration": 20,
    "start_time": "2025-08-07T09:31:14.717Z"
   },
   {
    "duration": 222,
    "start_time": "2025-08-07T09:31:19.119Z"
   },
   {
    "duration": 48,
    "start_time": "2025-08-07T11:27:00.899Z"
   },
   {
    "duration": 6,
    "start_time": "2025-08-07T12:11:25.591Z"
   },
   {
    "duration": 47840,
    "start_time": "2025-08-07T12:12:29.376Z"
   },
   {
    "duration": 3679,
    "start_time": "2025-08-07T12:13:17.218Z"
   },
   {
    "duration": 10,
    "start_time": "2025-08-07T12:13:20.898Z"
   },
   {
    "duration": 43,
    "start_time": "2025-08-07T12:13:20.910Z"
   },
   {
    "duration": 9,
    "start_time": "2025-08-07T12:13:20.955Z"
   },
   {
    "duration": 23,
    "start_time": "2025-08-07T12:13:20.966Z"
   },
   {
    "duration": 91,
    "start_time": "2025-08-07T12:13:20.991Z"
   },
   {
    "duration": 117,
    "start_time": "2025-08-07T12:13:21.084Z"
   },
   {
    "duration": 28,
    "start_time": "2025-08-07T12:13:21.203Z"
   },
   {
    "duration": 17,
    "start_time": "2025-08-07T12:13:21.233Z"
   },
   {
    "duration": 21,
    "start_time": "2025-08-07T12:13:21.251Z"
   },
   {
    "duration": 250,
    "start_time": "2025-08-07T12:13:21.273Z"
   },
   {
    "duration": 26,
    "start_time": "2025-08-07T12:13:21.525Z"
   },
   {
    "duration": 52,
    "start_time": "2025-08-07T12:13:21.554Z"
   },
   {
    "duration": 22,
    "start_time": "2025-08-07T12:13:21.608Z"
   },
   {
    "duration": 16,
    "start_time": "2025-08-07T12:13:21.632Z"
   },
   {
    "duration": 27,
    "start_time": "2025-08-07T12:13:21.649Z"
   },
   {
    "duration": 24,
    "start_time": "2025-08-07T12:13:21.677Z"
   },
   {
    "duration": 14,
    "start_time": "2025-08-07T12:13:21.703Z"
   },
   {
    "duration": 40,
    "start_time": "2025-08-07T12:13:21.718Z"
   },
   {
    "duration": 3,
    "start_time": "2025-08-07T12:13:21.760Z"
   },
   {
    "duration": 29,
    "start_time": "2025-08-07T12:13:21.765Z"
   },
   {
    "duration": 17,
    "start_time": "2025-08-07T12:13:21.795Z"
   },
   {
    "duration": 12,
    "start_time": "2025-08-07T12:13:21.813Z"
   },
   {
    "duration": 15,
    "start_time": "2025-08-07T12:13:21.827Z"
   },
   {
    "duration": 19,
    "start_time": "2025-08-07T12:13:21.843Z"
   },
   {
    "duration": 7,
    "start_time": "2025-08-07T12:13:21.864Z"
   },
   {
    "duration": 14,
    "start_time": "2025-08-07T12:13:21.872Z"
   },
   {
    "duration": 10,
    "start_time": "2025-08-07T12:13:21.887Z"
   },
   {
    "duration": 5,
    "start_time": "2025-08-07T12:13:21.898Z"
   },
   {
    "duration": 27,
    "start_time": "2025-08-07T12:13:21.904Z"
   },
   {
    "duration": 13,
    "start_time": "2025-08-07T12:13:21.933Z"
   },
   {
    "duration": 315,
    "start_time": "2025-08-07T12:13:21.947Z"
   },
   {
    "duration": 0,
    "start_time": "2025-08-07T12:13:22.268Z"
   },
   {
    "duration": 0,
    "start_time": "2025-08-07T12:13:22.270Z"
   },
   {
    "duration": 0,
    "start_time": "2025-08-07T12:13:22.271Z"
   },
   {
    "duration": 0,
    "start_time": "2025-08-07T12:13:22.273Z"
   },
   {
    "duration": 0,
    "start_time": "2025-08-07T12:13:22.274Z"
   },
   {
    "duration": 0,
    "start_time": "2025-08-07T12:13:22.276Z"
   },
   {
    "duration": 0,
    "start_time": "2025-08-07T12:13:22.277Z"
   },
   {
    "duration": 0,
    "start_time": "2025-08-07T12:13:22.279Z"
   },
   {
    "duration": 0,
    "start_time": "2025-08-07T12:13:22.280Z"
   },
   {
    "duration": 0,
    "start_time": "2025-08-07T12:13:22.282Z"
   },
   {
    "duration": 0,
    "start_time": "2025-08-07T12:13:22.283Z"
   },
   {
    "duration": 0,
    "start_time": "2025-08-07T12:13:22.285Z"
   },
   {
    "duration": 0,
    "start_time": "2025-08-07T12:13:22.286Z"
   },
   {
    "duration": 0,
    "start_time": "2025-08-07T12:13:22.288Z"
   },
   {
    "duration": 0,
    "start_time": "2025-08-07T12:13:22.289Z"
   },
   {
    "duration": 0,
    "start_time": "2025-08-07T12:13:22.290Z"
   },
   {
    "duration": 0,
    "start_time": "2025-08-07T12:13:22.292Z"
   },
   {
    "duration": 0,
    "start_time": "2025-08-07T12:13:22.293Z"
   },
   {
    "duration": 0,
    "start_time": "2025-08-07T12:13:22.295Z"
   },
   {
    "duration": 0,
    "start_time": "2025-08-07T12:13:22.296Z"
   },
   {
    "duration": 0,
    "start_time": "2025-08-07T12:13:22.298Z"
   },
   {
    "duration": 0,
    "start_time": "2025-08-07T12:13:22.299Z"
   },
   {
    "duration": 0,
    "start_time": "2025-08-07T12:13:22.301Z"
   },
   {
    "duration": 0,
    "start_time": "2025-08-07T12:13:22.302Z"
   },
   {
    "duration": 0,
    "start_time": "2025-08-07T12:13:22.303Z"
   },
   {
    "duration": 0,
    "start_time": "2025-08-07T12:13:22.305Z"
   },
   {
    "duration": 0,
    "start_time": "2025-08-07T12:13:22.363Z"
   },
   {
    "duration": 0,
    "start_time": "2025-08-07T12:13:22.364Z"
   },
   {
    "duration": 0,
    "start_time": "2025-08-07T12:13:22.366Z"
   },
   {
    "duration": 0,
    "start_time": "2025-08-07T12:13:22.368Z"
   },
   {
    "duration": 0,
    "start_time": "2025-08-07T12:13:22.369Z"
   },
   {
    "duration": 0,
    "start_time": "2025-08-07T12:13:22.370Z"
   },
   {
    "duration": 0,
    "start_time": "2025-08-07T12:13:22.372Z"
   },
   {
    "duration": 0,
    "start_time": "2025-08-07T12:13:22.373Z"
   },
   {
    "duration": 0,
    "start_time": "2025-08-07T12:13:22.375Z"
   },
   {
    "duration": 0,
    "start_time": "2025-08-07T12:13:22.376Z"
   },
   {
    "duration": 0,
    "start_time": "2025-08-07T12:13:22.377Z"
   },
   {
    "duration": 0,
    "start_time": "2025-08-07T12:13:22.379Z"
   },
   {
    "duration": 0,
    "start_time": "2025-08-07T12:13:22.380Z"
   },
   {
    "duration": 0,
    "start_time": "2025-08-07T12:13:22.382Z"
   },
   {
    "duration": 0,
    "start_time": "2025-08-07T12:13:22.383Z"
   },
   {
    "duration": 0,
    "start_time": "2025-08-07T12:13:22.384Z"
   },
   {
    "duration": 0,
    "start_time": "2025-08-07T12:13:22.386Z"
   },
   {
    "duration": 0,
    "start_time": "2025-08-07T12:13:22.387Z"
   },
   {
    "duration": 0,
    "start_time": "2025-08-07T12:13:22.389Z"
   },
   {
    "duration": 0,
    "start_time": "2025-08-07T12:13:22.390Z"
   },
   {
    "duration": 0,
    "start_time": "2025-08-07T12:13:22.392Z"
   },
   {
    "duration": 0,
    "start_time": "2025-08-07T12:13:22.393Z"
   },
   {
    "duration": 0,
    "start_time": "2025-08-07T12:13:22.394Z"
   },
   {
    "duration": 0,
    "start_time": "2025-08-07T12:13:22.396Z"
   },
   {
    "duration": 0,
    "start_time": "2025-08-07T12:13:22.397Z"
   },
   {
    "duration": 0,
    "start_time": "2025-08-07T12:13:22.399Z"
   },
   {
    "duration": 0,
    "start_time": "2025-08-07T12:13:22.400Z"
   },
   {
    "duration": 0,
    "start_time": "2025-08-07T12:13:22.401Z"
   },
   {
    "duration": 0,
    "start_time": "2025-08-07T12:13:22.461Z"
   },
   {
    "duration": 0,
    "start_time": "2025-08-07T12:13:22.463Z"
   },
   {
    "duration": 0,
    "start_time": "2025-08-07T12:13:22.464Z"
   },
   {
    "duration": 0,
    "start_time": "2025-08-07T12:13:22.465Z"
   },
   {
    "duration": 0,
    "start_time": "2025-08-07T12:13:22.466Z"
   },
   {
    "duration": 0,
    "start_time": "2025-08-07T12:13:22.467Z"
   },
   {
    "duration": 0,
    "start_time": "2025-08-07T12:13:22.468Z"
   },
   {
    "duration": 1,
    "start_time": "2025-08-07T12:13:22.469Z"
   },
   {
    "duration": 0,
    "start_time": "2025-08-07T12:13:22.470Z"
   },
   {
    "duration": 0,
    "start_time": "2025-08-07T12:13:22.471Z"
   },
   {
    "duration": 0,
    "start_time": "2025-08-07T12:13:22.473Z"
   },
   {
    "duration": 0,
    "start_time": "2025-08-07T12:13:22.474Z"
   },
   {
    "duration": 0,
    "start_time": "2025-08-07T12:13:22.475Z"
   },
   {
    "duration": 0,
    "start_time": "2025-08-07T12:13:22.475Z"
   },
   {
    "duration": 0,
    "start_time": "2025-08-07T12:13:22.476Z"
   },
   {
    "duration": 0,
    "start_time": "2025-08-07T12:13:22.477Z"
   },
   {
    "duration": 0,
    "start_time": "2025-08-07T12:13:22.479Z"
   },
   {
    "duration": 0,
    "start_time": "2025-08-07T12:13:22.480Z"
   },
   {
    "duration": 0,
    "start_time": "2025-08-07T12:13:22.482Z"
   },
   {
    "duration": 0,
    "start_time": "2025-08-07T12:13:22.483Z"
   },
   {
    "duration": 0,
    "start_time": "2025-08-07T12:13:22.484Z"
   },
   {
    "duration": 0,
    "start_time": "2025-08-07T12:13:22.485Z"
   },
   {
    "duration": 0,
    "start_time": "2025-08-07T12:13:22.486Z"
   },
   {
    "duration": 0,
    "start_time": "2025-08-07T12:13:22.487Z"
   },
   {
    "duration": 0,
    "start_time": "2025-08-07T12:13:22.488Z"
   },
   {
    "duration": 0,
    "start_time": "2025-08-07T12:13:22.488Z"
   },
   {
    "duration": 0,
    "start_time": "2025-08-07T12:13:22.489Z"
   },
   {
    "duration": 0,
    "start_time": "2025-08-07T12:13:22.490Z"
   },
   {
    "duration": 0,
    "start_time": "2025-08-07T12:13:22.491Z"
   },
   {
    "duration": 0,
    "start_time": "2025-08-07T12:13:22.492Z"
   },
   {
    "duration": 0,
    "start_time": "2025-08-07T12:13:22.493Z"
   },
   {
    "duration": 0,
    "start_time": "2025-08-07T12:13:22.494Z"
   },
   {
    "duration": 0,
    "start_time": "2025-08-07T12:13:22.495Z"
   },
   {
    "duration": 0,
    "start_time": "2025-08-07T12:13:22.496Z"
   },
   {
    "duration": 0,
    "start_time": "2025-08-07T12:13:22.497Z"
   },
   {
    "duration": 0,
    "start_time": "2025-08-07T12:13:22.562Z"
   },
   {
    "duration": 0,
    "start_time": "2025-08-07T12:13:22.563Z"
   },
   {
    "duration": 0,
    "start_time": "2025-08-07T12:13:22.564Z"
   },
   {
    "duration": 0,
    "start_time": "2025-08-07T12:13:22.565Z"
   },
   {
    "duration": 0,
    "start_time": "2025-08-07T12:13:22.566Z"
   },
   {
    "duration": 0,
    "start_time": "2025-08-07T12:13:22.567Z"
   },
   {
    "duration": 0,
    "start_time": "2025-08-07T12:13:22.568Z"
   },
   {
    "duration": 0,
    "start_time": "2025-08-07T12:13:22.568Z"
   },
   {
    "duration": 0,
    "start_time": "2025-08-07T12:13:22.570Z"
   },
   {
    "duration": 0,
    "start_time": "2025-08-07T12:13:22.571Z"
   },
   {
    "duration": 0,
    "start_time": "2025-08-07T12:13:22.575Z"
   },
   {
    "duration": 0,
    "start_time": "2025-08-07T12:13:22.576Z"
   },
   {
    "duration": 0,
    "start_time": "2025-08-07T12:13:22.578Z"
   },
   {
    "duration": 0,
    "start_time": "2025-08-07T12:13:22.578Z"
   },
   {
    "duration": 0,
    "start_time": "2025-08-07T12:13:22.580Z"
   },
   {
    "duration": 0,
    "start_time": "2025-08-07T12:13:22.581Z"
   },
   {
    "duration": 0,
    "start_time": "2025-08-07T12:13:22.582Z"
   },
   {
    "duration": 0,
    "start_time": "2025-08-07T12:13:22.583Z"
   },
   {
    "duration": 0,
    "start_time": "2025-08-07T12:13:22.584Z"
   },
   {
    "duration": 0,
    "start_time": "2025-08-07T12:13:22.586Z"
   },
   {
    "duration": 0,
    "start_time": "2025-08-07T12:13:22.586Z"
   },
   {
    "duration": 0,
    "start_time": "2025-08-07T12:13:22.588Z"
   },
   {
    "duration": 0,
    "start_time": "2025-08-07T12:13:22.588Z"
   },
   {
    "duration": 0,
    "start_time": "2025-08-07T12:13:22.589Z"
   },
   {
    "duration": 0,
    "start_time": "2025-08-07T12:13:22.590Z"
   },
   {
    "duration": 0,
    "start_time": "2025-08-07T12:13:22.591Z"
   },
   {
    "duration": 0,
    "start_time": "2025-08-07T12:13:22.592Z"
   },
   {
    "duration": 0,
    "start_time": "2025-08-07T12:13:22.593Z"
   },
   {
    "duration": 18887,
    "start_time": "2025-08-07T13:46:36.493Z"
   },
   {
    "duration": 3537,
    "start_time": "2025-08-07T13:46:55.382Z"
   },
   {
    "duration": 15,
    "start_time": "2025-08-07T13:46:58.921Z"
   },
   {
    "duration": 23,
    "start_time": "2025-08-07T13:46:58.939Z"
   },
   {
    "duration": 15,
    "start_time": "2025-08-07T13:46:58.965Z"
   },
   {
    "duration": 12,
    "start_time": "2025-08-07T13:46:58.982Z"
   },
   {
    "duration": 13,
    "start_time": "2025-08-07T13:46:58.996Z"
   },
   {
    "duration": 14,
    "start_time": "2025-08-07T13:46:59.011Z"
   },
   {
    "duration": 6,
    "start_time": "2025-08-07T13:46:59.026Z"
   },
   {
    "duration": 29,
    "start_time": "2025-08-07T13:46:59.036Z"
   },
   {
    "duration": 13,
    "start_time": "2025-08-07T13:46:59.066Z"
   },
   {
    "duration": 106,
    "start_time": "2025-08-07T13:46:59.081Z"
   },
   {
    "duration": 25,
    "start_time": "2025-08-07T13:46:59.189Z"
   },
   {
    "duration": 66,
    "start_time": "2025-08-07T13:46:59.216Z"
   },
   {
    "duration": 19,
    "start_time": "2025-08-07T13:46:59.283Z"
   },
   {
    "duration": 14,
    "start_time": "2025-08-07T13:46:59.303Z"
   },
   {
    "duration": 2,
    "start_time": "2025-08-07T13:46:59.319Z"
   },
   {
    "duration": 40,
    "start_time": "2025-08-07T13:46:59.323Z"
   },
   {
    "duration": 16,
    "start_time": "2025-08-07T13:46:59.364Z"
   },
   {
    "duration": 90,
    "start_time": "2025-08-07T13:46:59.381Z"
   },
   {
    "duration": 4,
    "start_time": "2025-08-07T13:46:59.473Z"
   },
   {
    "duration": 11,
    "start_time": "2025-08-07T13:46:59.478Z"
   },
   {
    "duration": 11,
    "start_time": "2025-08-07T13:46:59.491Z"
   },
   {
    "duration": 3,
    "start_time": "2025-08-07T13:46:59.503Z"
   },
   {
    "duration": 5,
    "start_time": "2025-08-07T13:46:59.508Z"
   },
   {
    "duration": 11,
    "start_time": "2025-08-07T13:46:59.515Z"
   },
   {
    "duration": 39,
    "start_time": "2025-08-07T13:46:59.528Z"
   },
   {
    "duration": 9,
    "start_time": "2025-08-07T13:46:59.571Z"
   },
   {
    "duration": 12,
    "start_time": "2025-08-07T13:46:59.581Z"
   },
   {
    "duration": 2,
    "start_time": "2025-08-07T13:46:59.595Z"
   },
   {
    "duration": 5,
    "start_time": "2025-08-07T13:46:59.599Z"
   },
   {
    "duration": 106,
    "start_time": "2025-08-07T13:46:59.606Z"
   },
   {
    "duration": 6,
    "start_time": "2025-08-07T13:46:59.714Z"
   },
   {
    "duration": 311,
    "start_time": "2025-08-07T13:46:59.721Z"
   },
   {
    "duration": 0,
    "start_time": "2025-08-07T13:47:00.036Z"
   },
   {
    "duration": 0,
    "start_time": "2025-08-07T13:47:00.037Z"
   },
   {
    "duration": 0,
    "start_time": "2025-08-07T13:47:00.038Z"
   },
   {
    "duration": 0,
    "start_time": "2025-08-07T13:47:00.039Z"
   },
   {
    "duration": 0,
    "start_time": "2025-08-07T13:47:00.041Z"
   },
   {
    "duration": 0,
    "start_time": "2025-08-07T13:47:00.042Z"
   },
   {
    "duration": 0,
    "start_time": "2025-08-07T13:47:00.062Z"
   },
   {
    "duration": 0,
    "start_time": "2025-08-07T13:47:00.064Z"
   },
   {
    "duration": 0,
    "start_time": "2025-08-07T13:47:00.065Z"
   },
   {
    "duration": 0,
    "start_time": "2025-08-07T13:47:00.067Z"
   },
   {
    "duration": 0,
    "start_time": "2025-08-07T13:47:00.068Z"
   },
   {
    "duration": 0,
    "start_time": "2025-08-07T13:47:00.069Z"
   },
   {
    "duration": 0,
    "start_time": "2025-08-07T13:47:00.070Z"
   },
   {
    "duration": 0,
    "start_time": "2025-08-07T13:47:00.071Z"
   },
   {
    "duration": 0,
    "start_time": "2025-08-07T13:47:00.073Z"
   },
   {
    "duration": 0,
    "start_time": "2025-08-07T13:47:00.074Z"
   },
   {
    "duration": 0,
    "start_time": "2025-08-07T13:47:00.076Z"
   },
   {
    "duration": 0,
    "start_time": "2025-08-07T13:47:00.078Z"
   },
   {
    "duration": 0,
    "start_time": "2025-08-07T13:47:00.079Z"
   },
   {
    "duration": 0,
    "start_time": "2025-08-07T13:47:00.081Z"
   },
   {
    "duration": 0,
    "start_time": "2025-08-07T13:47:00.082Z"
   },
   {
    "duration": 0,
    "start_time": "2025-08-07T13:47:00.083Z"
   },
   {
    "duration": 0,
    "start_time": "2025-08-07T13:47:00.084Z"
   },
   {
    "duration": 0,
    "start_time": "2025-08-07T13:47:00.085Z"
   },
   {
    "duration": 0,
    "start_time": "2025-08-07T13:47:00.086Z"
   },
   {
    "duration": 0,
    "start_time": "2025-08-07T13:47:00.088Z"
   },
   {
    "duration": 0,
    "start_time": "2025-08-07T13:47:00.089Z"
   },
   {
    "duration": 0,
    "start_time": "2025-08-07T13:47:00.091Z"
   },
   {
    "duration": 0,
    "start_time": "2025-08-07T13:47:00.093Z"
   },
   {
    "duration": 0,
    "start_time": "2025-08-07T13:47:00.094Z"
   },
   {
    "duration": 0,
    "start_time": "2025-08-07T13:47:00.096Z"
   },
   {
    "duration": 0,
    "start_time": "2025-08-07T13:47:00.098Z"
   },
   {
    "duration": 0,
    "start_time": "2025-08-07T13:47:00.100Z"
   },
   {
    "duration": 0,
    "start_time": "2025-08-07T13:47:00.163Z"
   },
   {
    "duration": 0,
    "start_time": "2025-08-07T13:47:00.165Z"
   },
   {
    "duration": 0,
    "start_time": "2025-08-07T13:47:00.166Z"
   },
   {
    "duration": 0,
    "start_time": "2025-08-07T13:47:00.168Z"
   },
   {
    "duration": 0,
    "start_time": "2025-08-07T13:47:00.169Z"
   },
   {
    "duration": 0,
    "start_time": "2025-08-07T13:47:00.170Z"
   },
   {
    "duration": 0,
    "start_time": "2025-08-07T13:47:00.171Z"
   },
   {
    "duration": 0,
    "start_time": "2025-08-07T13:47:00.173Z"
   },
   {
    "duration": 0,
    "start_time": "2025-08-07T13:47:00.174Z"
   },
   {
    "duration": 0,
    "start_time": "2025-08-07T13:47:00.175Z"
   },
   {
    "duration": 0,
    "start_time": "2025-08-07T13:47:00.177Z"
   },
   {
    "duration": 0,
    "start_time": "2025-08-07T13:47:00.178Z"
   },
   {
    "duration": 0,
    "start_time": "2025-08-07T13:47:00.179Z"
   },
   {
    "duration": 0,
    "start_time": "2025-08-07T13:47:00.181Z"
   },
   {
    "duration": 0,
    "start_time": "2025-08-07T13:47:00.182Z"
   },
   {
    "duration": 0,
    "start_time": "2025-08-07T13:47:00.183Z"
   },
   {
    "duration": 0,
    "start_time": "2025-08-07T13:47:00.184Z"
   },
   {
    "duration": 0,
    "start_time": "2025-08-07T13:47:00.185Z"
   },
   {
    "duration": 0,
    "start_time": "2025-08-07T13:47:00.187Z"
   },
   {
    "duration": 0,
    "start_time": "2025-08-07T13:47:00.188Z"
   },
   {
    "duration": 0,
    "start_time": "2025-08-07T13:47:00.189Z"
   },
   {
    "duration": 0,
    "start_time": "2025-08-07T13:47:00.190Z"
   },
   {
    "duration": 0,
    "start_time": "2025-08-07T13:47:00.191Z"
   },
   {
    "duration": 0,
    "start_time": "2025-08-07T13:47:00.193Z"
   },
   {
    "duration": 0,
    "start_time": "2025-08-07T13:47:00.194Z"
   },
   {
    "duration": 0,
    "start_time": "2025-08-07T13:47:00.195Z"
   },
   {
    "duration": 0,
    "start_time": "2025-08-07T13:47:00.196Z"
   },
   {
    "duration": 0,
    "start_time": "2025-08-07T13:47:00.197Z"
   },
   {
    "duration": 0,
    "start_time": "2025-08-07T13:47:00.198Z"
   },
   {
    "duration": 0,
    "start_time": "2025-08-07T13:47:00.263Z"
   },
   {
    "duration": 0,
    "start_time": "2025-08-07T13:47:00.263Z"
   },
   {
    "duration": 0,
    "start_time": "2025-08-07T13:47:00.264Z"
   },
   {
    "duration": 0,
    "start_time": "2025-08-07T13:47:00.265Z"
   },
   {
    "duration": 0,
    "start_time": "2025-08-07T13:47:00.267Z"
   },
   {
    "duration": 0,
    "start_time": "2025-08-07T13:47:00.267Z"
   },
   {
    "duration": 0,
    "start_time": "2025-08-07T13:47:00.269Z"
   },
   {
    "duration": 0,
    "start_time": "2025-08-07T13:47:00.270Z"
   },
   {
    "duration": 0,
    "start_time": "2025-08-07T13:47:00.271Z"
   },
   {
    "duration": 0,
    "start_time": "2025-08-07T13:47:00.272Z"
   },
   {
    "duration": 0,
    "start_time": "2025-08-07T13:47:00.273Z"
   },
   {
    "duration": 0,
    "start_time": "2025-08-07T13:47:00.274Z"
   },
   {
    "duration": 0,
    "start_time": "2025-08-07T13:47:00.275Z"
   },
   {
    "duration": 0,
    "start_time": "2025-08-07T13:47:00.276Z"
   },
   {
    "duration": 0,
    "start_time": "2025-08-07T13:47:00.277Z"
   },
   {
    "duration": 0,
    "start_time": "2025-08-07T13:47:00.278Z"
   },
   {
    "duration": 0,
    "start_time": "2025-08-07T13:47:00.280Z"
   },
   {
    "duration": 0,
    "start_time": "2025-08-07T13:47:00.281Z"
   },
   {
    "duration": 0,
    "start_time": "2025-08-07T13:47:00.283Z"
   },
   {
    "duration": 0,
    "start_time": "2025-08-07T13:47:00.284Z"
   },
   {
    "duration": 0,
    "start_time": "2025-08-07T13:47:00.285Z"
   },
   {
    "duration": 0,
    "start_time": "2025-08-07T13:47:00.286Z"
   },
   {
    "duration": 0,
    "start_time": "2025-08-07T13:47:00.287Z"
   },
   {
    "duration": 0,
    "start_time": "2025-08-07T13:47:00.288Z"
   },
   {
    "duration": 0,
    "start_time": "2025-08-07T13:47:00.289Z"
   },
   {
    "duration": 0,
    "start_time": "2025-08-07T13:47:00.290Z"
   },
   {
    "duration": 0,
    "start_time": "2025-08-07T13:47:00.291Z"
   },
   {
    "duration": 0,
    "start_time": "2025-08-07T13:47:00.292Z"
   },
   {
    "duration": 0,
    "start_time": "2025-08-07T13:47:00.293Z"
   },
   {
    "duration": 0,
    "start_time": "2025-08-07T13:47:00.294Z"
   },
   {
    "duration": 0,
    "start_time": "2025-08-07T13:47:00.295Z"
   },
   {
    "duration": 0,
    "start_time": "2025-08-07T13:47:00.296Z"
   },
   {
    "duration": 0,
    "start_time": "2025-08-07T13:47:00.297Z"
   },
   {
    "duration": 0,
    "start_time": "2025-08-07T13:47:00.298Z"
   },
   {
    "duration": 0,
    "start_time": "2025-08-07T13:47:00.299Z"
   },
   {
    "duration": 0,
    "start_time": "2025-08-07T13:47:00.300Z"
   },
   {
    "duration": 0,
    "start_time": "2025-08-07T13:47:00.301Z"
   },
   {
    "duration": 0,
    "start_time": "2025-08-07T13:47:00.363Z"
   },
   {
    "duration": 0,
    "start_time": "2025-08-07T13:47:00.364Z"
   },
   {
    "duration": 0,
    "start_time": "2025-08-07T13:47:00.365Z"
   },
   {
    "duration": 0,
    "start_time": "2025-08-07T13:47:00.366Z"
   },
   {
    "duration": 0,
    "start_time": "2025-08-07T13:47:00.368Z"
   },
   {
    "duration": 0,
    "start_time": "2025-08-07T13:47:00.369Z"
   },
   {
    "duration": 0,
    "start_time": "2025-08-07T13:47:00.370Z"
   },
   {
    "duration": 0,
    "start_time": "2025-08-07T13:47:00.625Z"
   },
   {
    "duration": 0,
    "start_time": "2025-08-07T13:47:00.626Z"
   },
   {
    "duration": 0,
    "start_time": "2025-08-07T13:47:00.627Z"
   },
   {
    "duration": 0,
    "start_time": "2025-08-07T13:47:00.628Z"
   },
   {
    "duration": 0,
    "start_time": "2025-08-07T13:47:00.630Z"
   },
   {
    "duration": 0,
    "start_time": "2025-08-07T13:47:00.631Z"
   },
   {
    "duration": 0,
    "start_time": "2025-08-07T13:47:00.632Z"
   },
   {
    "duration": 0,
    "start_time": "2025-08-07T13:47:00.633Z"
   },
   {
    "duration": 0,
    "start_time": "2025-08-07T13:47:00.634Z"
   },
   {
    "duration": 0,
    "start_time": "2025-08-07T13:47:00.635Z"
   },
   {
    "duration": 6,
    "start_time": "2025-08-07T13:52:19.815Z"
   },
   {
    "duration": 4608,
    "start_time": "2025-08-07T13:52:23.013Z"
   },
   {
    "duration": 6,
    "start_time": "2025-08-07T13:53:23.267Z"
   },
   {
    "duration": 26,
    "start_time": "2025-08-07T13:53:29.387Z"
   },
   {
    "duration": 43,
    "start_time": "2025-08-07T13:54:37.736Z"
   },
   {
    "duration": 6,
    "start_time": "2025-08-07T13:54:54.808Z"
   },
   {
    "duration": 198,
    "start_time": "2025-08-07T13:55:26.856Z"
   },
   {
    "duration": 4,
    "start_time": "2025-08-07T13:55:50.383Z"
   },
   {
    "duration": 64,
    "start_time": "2025-08-07T13:56:01.489Z"
   },
   {
    "duration": 4,
    "start_time": "2025-08-07T13:56:15.948Z"
   },
   {
    "duration": 42,
    "start_time": "2025-08-07T13:56:20.996Z"
   },
   {
    "duration": 5,
    "start_time": "2025-08-07T13:56:32.766Z"
   },
   {
    "duration": 62,
    "start_time": "2025-08-07T13:56:40.096Z"
   },
   {
    "duration": 10,
    "start_time": "2025-08-07T13:56:54.376Z"
   },
   {
    "duration": 7,
    "start_time": "2025-08-07T13:57:27.795Z"
   },
   {
    "duration": 7,
    "start_time": "2025-08-07T13:57:37.745Z"
   },
   {
    "duration": 5,
    "start_time": "2025-08-07T13:57:42.276Z"
   },
   {
    "duration": 41,
    "start_time": "2025-08-07T13:57:49.716Z"
   },
   {
    "duration": 5,
    "start_time": "2025-08-07T13:57:56.276Z"
   },
   {
    "duration": 57,
    "start_time": "2025-08-07T13:58:00.057Z"
   },
   {
    "duration": 5,
    "start_time": "2025-08-07T13:58:19.636Z"
   },
   {
    "duration": 41,
    "start_time": "2025-08-07T13:58:27.348Z"
   },
   {
    "duration": 4,
    "start_time": "2025-08-07T13:58:34.619Z"
   },
   {
    "duration": 42,
    "start_time": "2025-08-07T13:58:41.025Z"
   },
   {
    "duration": 4,
    "start_time": "2025-08-07T13:58:47.477Z"
   },
   {
    "duration": 43,
    "start_time": "2025-08-07T13:58:54.749Z"
   },
   {
    "duration": 4,
    "start_time": "2025-08-07T14:04:35.270Z"
   },
   {
    "duration": 32,
    "start_time": "2025-08-07T14:14:55.554Z"
   },
   {
    "duration": 29,
    "start_time": "2025-08-07T14:15:04.615Z"
   },
   {
    "duration": 8,
    "start_time": "2025-08-07T14:15:10.384Z"
   },
   {
    "duration": 48,
    "start_time": "2025-08-07T14:16:09.562Z"
   },
   {
    "duration": 21061,
    "start_time": "2025-08-07T14:18:26.770Z"
   },
   {
    "duration": 4052,
    "start_time": "2025-08-07T14:18:47.833Z"
   },
   {
    "duration": 14,
    "start_time": "2025-08-07T14:18:51.887Z"
   },
   {
    "duration": 28,
    "start_time": "2025-08-07T14:18:51.904Z"
   },
   {
    "duration": 17,
    "start_time": "2025-08-07T14:18:51.935Z"
   },
   {
    "duration": 16,
    "start_time": "2025-08-07T14:18:51.955Z"
   },
   {
    "duration": 59,
    "start_time": "2025-08-07T14:18:51.973Z"
   },
   {
    "duration": 24,
    "start_time": "2025-08-07T14:18:52.034Z"
   },
   {
    "duration": 30,
    "start_time": "2025-08-07T14:18:52.061Z"
   },
   {
    "duration": 42,
    "start_time": "2025-08-07T14:18:52.095Z"
   },
   {
    "duration": 103,
    "start_time": "2025-08-07T14:18:52.140Z"
   },
   {
    "duration": 107,
    "start_time": "2025-08-07T14:18:52.245Z"
   },
   {
    "duration": 39,
    "start_time": "2025-08-07T14:18:52.354Z"
   },
   {
    "duration": 18,
    "start_time": "2025-08-07T14:18:52.396Z"
   },
   {
    "duration": 22,
    "start_time": "2025-08-07T14:18:52.416Z"
   },
   {
    "duration": 47,
    "start_time": "2025-08-07T14:18:52.440Z"
   },
   {
    "duration": 38,
    "start_time": "2025-08-07T14:18:52.489Z"
   },
   {
    "duration": 91,
    "start_time": "2025-08-07T14:18:52.529Z"
   },
   {
    "duration": 15,
    "start_time": "2025-08-07T14:18:52.622Z"
   },
   {
    "duration": 61,
    "start_time": "2025-08-07T14:18:52.639Z"
   },
   {
    "duration": 4,
    "start_time": "2025-08-07T14:18:52.701Z"
   },
   {
    "duration": 17,
    "start_time": "2025-08-07T14:18:52.707Z"
   },
   {
    "duration": 27,
    "start_time": "2025-08-07T14:18:52.725Z"
   },
   {
    "duration": 9,
    "start_time": "2025-08-07T14:18:52.753Z"
   },
   {
    "duration": 23,
    "start_time": "2025-08-07T14:18:52.764Z"
   },
   {
    "duration": 38,
    "start_time": "2025-08-07T14:18:52.789Z"
   },
   {
    "duration": 11,
    "start_time": "2025-08-07T14:18:52.829Z"
   },
   {
    "duration": 9,
    "start_time": "2025-08-07T14:18:52.844Z"
   },
   {
    "duration": 13,
    "start_time": "2025-08-07T14:18:52.854Z"
   },
   {
    "duration": 12,
    "start_time": "2025-08-07T14:18:52.870Z"
   },
   {
    "duration": 15,
    "start_time": "2025-08-07T14:18:52.883Z"
   },
   {
    "duration": 3,
    "start_time": "2025-08-07T14:18:52.900Z"
   },
   {
    "duration": 24,
    "start_time": "2025-08-07T14:18:52.904Z"
   },
   {
    "duration": 18,
    "start_time": "2025-08-07T14:18:52.930Z"
   },
   {
    "duration": 8,
    "start_time": "2025-08-07T14:18:52.949Z"
   },
   {
    "duration": 392,
    "start_time": "2025-08-07T14:18:52.959Z"
   },
   {
    "duration": 5,
    "start_time": "2025-08-07T14:18:53.353Z"
   },
   {
    "duration": 131,
    "start_time": "2025-08-07T14:18:53.359Z"
   },
   {
    "duration": 5,
    "start_time": "2025-08-07T14:18:53.492Z"
   },
   {
    "duration": 92,
    "start_time": "2025-08-07T14:18:53.499Z"
   },
   {
    "duration": 17,
    "start_time": "2025-08-07T14:18:53.594Z"
   },
   {
    "duration": 89,
    "start_time": "2025-08-07T14:18:53.613Z"
   },
   {
    "duration": 8,
    "start_time": "2025-08-07T14:18:53.704Z"
   },
   {
    "duration": 13,
    "start_time": "2025-08-07T14:18:53.714Z"
   },
   {
    "duration": 24,
    "start_time": "2025-08-07T14:18:53.729Z"
   },
   {
    "duration": 63,
    "start_time": "2025-08-07T14:18:53.755Z"
   },
   {
    "duration": 5,
    "start_time": "2025-08-07T14:18:53.820Z"
   },
   {
    "duration": 49,
    "start_time": "2025-08-07T14:18:53.827Z"
   },
   {
    "duration": 127,
    "start_time": "2025-08-07T14:18:53.878Z"
   },
   {
    "duration": 54,
    "start_time": "2025-08-07T14:18:54.007Z"
   },
   {
    "duration": 8,
    "start_time": "2025-08-07T14:18:54.065Z"
   },
   {
    "duration": 51,
    "start_time": "2025-08-07T14:18:54.076Z"
   },
   {
    "duration": 5,
    "start_time": "2025-08-07T14:18:54.129Z"
   },
   {
    "duration": 88,
    "start_time": "2025-08-07T14:18:54.135Z"
   },
   {
    "duration": 19,
    "start_time": "2025-08-07T14:18:54.224Z"
   },
   {
    "duration": 61,
    "start_time": "2025-08-07T14:18:54.245Z"
   },
   {
    "duration": 75,
    "start_time": "2025-08-07T14:18:54.308Z"
   },
   {
    "duration": 0,
    "start_time": "2025-08-07T14:18:54.386Z"
   },
   {
    "duration": 0,
    "start_time": "2025-08-07T14:18:54.389Z"
   },
   {
    "duration": 0,
    "start_time": "2025-08-07T14:18:54.390Z"
   },
   {
    "duration": 0,
    "start_time": "2025-08-07T14:18:54.392Z"
   },
   {
    "duration": 0,
    "start_time": "2025-08-07T14:18:54.393Z"
   },
   {
    "duration": 0,
    "start_time": "2025-08-07T14:18:54.394Z"
   },
   {
    "duration": 0,
    "start_time": "2025-08-07T14:18:54.395Z"
   },
   {
    "duration": 0,
    "start_time": "2025-08-07T14:18:54.400Z"
   },
   {
    "duration": 0,
    "start_time": "2025-08-07T14:18:54.401Z"
   },
   {
    "duration": 1,
    "start_time": "2025-08-07T14:18:54.402Z"
   },
   {
    "duration": 0,
    "start_time": "2025-08-07T14:18:54.404Z"
   },
   {
    "duration": 0,
    "start_time": "2025-08-07T14:18:54.405Z"
   },
   {
    "duration": 0,
    "start_time": "2025-08-07T14:18:54.407Z"
   },
   {
    "duration": 0,
    "start_time": "2025-08-07T14:18:54.408Z"
   },
   {
    "duration": 0,
    "start_time": "2025-08-07T14:18:54.410Z"
   },
   {
    "duration": 0,
    "start_time": "2025-08-07T14:18:54.411Z"
   },
   {
    "duration": 0,
    "start_time": "2025-08-07T14:18:54.413Z"
   },
   {
    "duration": 1,
    "start_time": "2025-08-07T14:18:54.414Z"
   },
   {
    "duration": 0,
    "start_time": "2025-08-07T14:18:54.416Z"
   },
   {
    "duration": 0,
    "start_time": "2025-08-07T14:18:54.418Z"
   },
   {
    "duration": 0,
    "start_time": "2025-08-07T14:18:54.419Z"
   },
   {
    "duration": 0,
    "start_time": "2025-08-07T14:18:54.421Z"
   },
   {
    "duration": 0,
    "start_time": "2025-08-07T14:18:54.422Z"
   },
   {
    "duration": 0,
    "start_time": "2025-08-07T14:18:54.424Z"
   },
   {
    "duration": 0,
    "start_time": "2025-08-07T14:18:54.426Z"
   },
   {
    "duration": 0,
    "start_time": "2025-08-07T14:18:54.462Z"
   },
   {
    "duration": 0,
    "start_time": "2025-08-07T14:18:54.467Z"
   },
   {
    "duration": 0,
    "start_time": "2025-08-07T14:18:54.468Z"
   },
   {
    "duration": 0,
    "start_time": "2025-08-07T14:18:54.468Z"
   },
   {
    "duration": 0,
    "start_time": "2025-08-07T14:18:54.471Z"
   },
   {
    "duration": 0,
    "start_time": "2025-08-07T14:18:54.471Z"
   },
   {
    "duration": 0,
    "start_time": "2025-08-07T14:18:54.472Z"
   },
   {
    "duration": 0,
    "start_time": "2025-08-07T14:18:54.473Z"
   },
   {
    "duration": 0,
    "start_time": "2025-08-07T14:18:54.476Z"
   },
   {
    "duration": 0,
    "start_time": "2025-08-07T14:18:54.477Z"
   },
   {
    "duration": 0,
    "start_time": "2025-08-07T14:18:54.478Z"
   },
   {
    "duration": 0,
    "start_time": "2025-08-07T14:18:54.479Z"
   },
   {
    "duration": 0,
    "start_time": "2025-08-07T14:18:54.481Z"
   },
   {
    "duration": 0,
    "start_time": "2025-08-07T14:18:54.482Z"
   },
   {
    "duration": 0,
    "start_time": "2025-08-07T14:18:54.483Z"
   },
   {
    "duration": 0,
    "start_time": "2025-08-07T14:18:54.484Z"
   },
   {
    "duration": 0,
    "start_time": "2025-08-07T14:18:54.485Z"
   },
   {
    "duration": 0,
    "start_time": "2025-08-07T14:18:54.486Z"
   },
   {
    "duration": 0,
    "start_time": "2025-08-07T14:18:54.488Z"
   },
   {
    "duration": 0,
    "start_time": "2025-08-07T14:18:54.488Z"
   },
   {
    "duration": 0,
    "start_time": "2025-08-07T14:18:54.489Z"
   },
   {
    "duration": 0,
    "start_time": "2025-08-07T14:18:54.491Z"
   },
   {
    "duration": 0,
    "start_time": "2025-08-07T14:18:54.492Z"
   },
   {
    "duration": 0,
    "start_time": "2025-08-07T14:18:54.493Z"
   },
   {
    "duration": 0,
    "start_time": "2025-08-07T14:18:54.494Z"
   },
   {
    "duration": 0,
    "start_time": "2025-08-07T14:18:54.495Z"
   },
   {
    "duration": 0,
    "start_time": "2025-08-07T14:18:54.496Z"
   },
   {
    "duration": 0,
    "start_time": "2025-08-07T14:18:54.498Z"
   },
   {
    "duration": 0,
    "start_time": "2025-08-07T14:18:54.499Z"
   },
   {
    "duration": 0,
    "start_time": "2025-08-07T14:18:54.500Z"
   },
   {
    "duration": 0,
    "start_time": "2025-08-07T14:18:54.502Z"
   },
   {
    "duration": 0,
    "start_time": "2025-08-07T14:18:54.503Z"
   },
   {
    "duration": 0,
    "start_time": "2025-08-07T14:18:54.504Z"
   },
   {
    "duration": 0,
    "start_time": "2025-08-07T14:18:54.561Z"
   },
   {
    "duration": 0,
    "start_time": "2025-08-07T14:18:54.565Z"
   },
   {
    "duration": 0,
    "start_time": "2025-08-07T14:18:54.566Z"
   },
   {
    "duration": 0,
    "start_time": "2025-08-07T14:18:54.567Z"
   },
   {
    "duration": 0,
    "start_time": "2025-08-07T14:18:54.570Z"
   },
   {
    "duration": 0,
    "start_time": "2025-08-07T14:18:54.574Z"
   },
   {
    "duration": 0,
    "start_time": "2025-08-07T14:18:54.575Z"
   },
   {
    "duration": 0,
    "start_time": "2025-08-07T14:18:54.575Z"
   },
   {
    "duration": 0,
    "start_time": "2025-08-07T14:18:54.576Z"
   },
   {
    "duration": 0,
    "start_time": "2025-08-07T14:18:54.577Z"
   },
   {
    "duration": 0,
    "start_time": "2025-08-07T14:18:54.578Z"
   },
   {
    "duration": 0,
    "start_time": "2025-08-07T14:18:54.579Z"
   },
   {
    "duration": 0,
    "start_time": "2025-08-07T14:18:54.579Z"
   },
   {
    "duration": 0,
    "start_time": "2025-08-07T14:18:54.580Z"
   },
   {
    "duration": 0,
    "start_time": "2025-08-07T14:18:54.582Z"
   },
   {
    "duration": 0,
    "start_time": "2025-08-07T14:18:54.583Z"
   },
   {
    "duration": 0,
    "start_time": "2025-08-07T14:18:54.584Z"
   },
   {
    "duration": 0,
    "start_time": "2025-08-07T14:18:54.585Z"
   },
   {
    "duration": 0,
    "start_time": "2025-08-07T14:18:54.586Z"
   },
   {
    "duration": 0,
    "start_time": "2025-08-07T14:18:54.587Z"
   },
   {
    "duration": 0,
    "start_time": "2025-08-07T14:18:54.588Z"
   },
   {
    "duration": 0,
    "start_time": "2025-08-07T14:18:54.589Z"
   },
   {
    "duration": 0,
    "start_time": "2025-08-07T14:18:54.590Z"
   },
   {
    "duration": 0,
    "start_time": "2025-08-07T14:18:54.591Z"
   },
   {
    "duration": 0,
    "start_time": "2025-08-07T14:18:54.592Z"
   },
   {
    "duration": 0,
    "start_time": "2025-08-07T14:18:54.593Z"
   },
   {
    "duration": 0,
    "start_time": "2025-08-07T14:18:54.594Z"
   },
   {
    "duration": 0,
    "start_time": "2025-08-07T14:18:54.595Z"
   },
   {
    "duration": 0,
    "start_time": "2025-08-07T14:18:54.596Z"
   },
   {
    "duration": 0,
    "start_time": "2025-08-07T14:18:54.597Z"
   },
   {
    "duration": 0,
    "start_time": "2025-08-07T14:18:54.599Z"
   },
   {
    "duration": 0,
    "start_time": "2025-08-07T14:18:54.600Z"
   },
   {
    "duration": 0,
    "start_time": "2025-08-07T14:18:54.601Z"
   },
   {
    "duration": 0,
    "start_time": "2025-08-07T14:18:54.602Z"
   },
   {
    "duration": 0,
    "start_time": "2025-08-07T14:18:54.603Z"
   },
   {
    "duration": 0,
    "start_time": "2025-08-07T14:18:54.604Z"
   },
   {
    "duration": 9,
    "start_time": "2025-08-07T14:19:51.063Z"
   },
   {
    "duration": 45,
    "start_time": "2025-08-07T14:20:09.213Z"
   },
   {
    "duration": 34,
    "start_time": "2025-08-07T14:23:04.049Z"
   },
   {
    "duration": 16,
    "start_time": "2025-08-07T14:23:16.691Z"
   },
   {
    "duration": 39,
    "start_time": "2025-08-07T14:23:36.651Z"
   },
   {
    "duration": 777,
    "start_time": "2025-08-07T14:23:47.901Z"
   },
   {
    "duration": 33,
    "start_time": "2025-08-07T14:23:59.050Z"
   },
   {
    "duration": 565,
    "start_time": "2025-08-07T14:24:25.293Z"
   },
   {
    "duration": 25,
    "start_time": "2025-08-07T14:24:43.000Z"
   },
   {
    "duration": 26,
    "start_time": "2025-08-07T14:25:28.115Z"
   },
   {
    "duration": 24,
    "start_time": "2025-08-07T14:25:34.187Z"
   },
   {
    "duration": 433,
    "start_time": "2025-08-07T14:27:06.857Z"
   },
   {
    "duration": 24,
    "start_time": "2025-08-07T14:27:20.599Z"
   },
   {
    "duration": 21,
    "start_time": "2025-08-07T14:27:33.418Z"
   },
   {
    "duration": 7,
    "start_time": "2025-08-07T14:28:37.724Z"
   },
   {
    "duration": 7,
    "start_time": "2025-08-07T14:28:56.472Z"
   },
   {
    "duration": 7,
    "start_time": "2025-08-07T14:29:14.524Z"
   },
   {
    "duration": 8,
    "start_time": "2025-08-07T14:35:50.667Z"
   },
   {
    "duration": 9,
    "start_time": "2025-08-07T14:36:12.795Z"
   },
   {
    "duration": 8,
    "start_time": "2025-08-07T14:36:34.355Z"
   },
   {
    "duration": 7,
    "start_time": "2025-08-07T14:36:55.616Z"
   },
   {
    "duration": 7,
    "start_time": "2025-08-07T14:37:16.024Z"
   },
   {
    "duration": 18609,
    "start_time": "2025-08-07T14:37:39.489Z"
   },
   {
    "duration": 3436,
    "start_time": "2025-08-07T14:37:58.100Z"
   },
   {
    "duration": 11,
    "start_time": "2025-08-07T14:38:01.538Z"
   },
   {
    "duration": 59,
    "start_time": "2025-08-07T14:38:01.551Z"
   },
   {
    "duration": 117,
    "start_time": "2025-08-07T14:38:01.612Z"
   },
   {
    "duration": 11,
    "start_time": "2025-08-07T14:38:01.731Z"
   },
   {
    "duration": 9,
    "start_time": "2025-08-07T14:38:01.744Z"
   },
   {
    "duration": 74,
    "start_time": "2025-08-07T14:38:01.755Z"
   },
   {
    "duration": 33,
    "start_time": "2025-08-07T14:38:01.831Z"
   },
   {
    "duration": 53,
    "start_time": "2025-08-07T14:38:01.866Z"
   },
   {
    "duration": 19,
    "start_time": "2025-08-07T14:38:01.921Z"
   },
   {
    "duration": 231,
    "start_time": "2025-08-07T14:38:01.942Z"
   },
   {
    "duration": 28,
    "start_time": "2025-08-07T14:38:02.175Z"
   },
   {
    "duration": 22,
    "start_time": "2025-08-07T14:38:02.207Z"
   },
   {
    "duration": 34,
    "start_time": "2025-08-07T14:38:02.230Z"
   },
   {
    "duration": 96,
    "start_time": "2025-08-07T14:38:02.265Z"
   },
   {
    "duration": 52,
    "start_time": "2025-08-07T14:38:02.363Z"
   },
   {
    "duration": 33,
    "start_time": "2025-08-07T14:38:02.417Z"
   },
   {
    "duration": 59,
    "start_time": "2025-08-07T14:38:02.452Z"
   },
   {
    "duration": 43,
    "start_time": "2025-08-07T14:38:02.513Z"
   },
   {
    "duration": 4,
    "start_time": "2025-08-07T14:38:02.558Z"
   },
   {
    "duration": 143,
    "start_time": "2025-08-07T14:38:02.563Z"
   },
   {
    "duration": 32,
    "start_time": "2025-08-07T14:38:02.707Z"
   },
   {
    "duration": 22,
    "start_time": "2025-08-07T14:38:02.741Z"
   },
   {
    "duration": 51,
    "start_time": "2025-08-07T14:38:02.765Z"
   },
   {
    "duration": 17,
    "start_time": "2025-08-07T14:38:02.818Z"
   },
   {
    "duration": 14,
    "start_time": "2025-08-07T14:38:02.836Z"
   },
   {
    "duration": 28,
    "start_time": "2025-08-07T14:38:02.852Z"
   },
   {
    "duration": 44,
    "start_time": "2025-08-07T14:38:02.882Z"
   },
   {
    "duration": 31,
    "start_time": "2025-08-07T14:38:02.928Z"
   },
   {
    "duration": 55,
    "start_time": "2025-08-07T14:38:02.961Z"
   },
   {
    "duration": 28,
    "start_time": "2025-08-07T14:38:03.018Z"
   },
   {
    "duration": 66,
    "start_time": "2025-08-07T14:38:03.048Z"
   },
   {
    "duration": 51,
    "start_time": "2025-08-07T14:38:03.116Z"
   },
   {
    "duration": 49,
    "start_time": "2025-08-07T14:38:03.168Z"
   },
   {
    "duration": 359,
    "start_time": "2025-08-07T14:38:03.219Z"
   },
   {
    "duration": 7,
    "start_time": "2025-08-07T14:38:03.579Z"
   },
   {
    "duration": 166,
    "start_time": "2025-08-07T14:38:03.587Z"
   },
   {
    "duration": 8,
    "start_time": "2025-08-07T14:38:03.755Z"
   },
   {
    "duration": 70,
    "start_time": "2025-08-07T14:38:03.765Z"
   },
   {
    "duration": 7,
    "start_time": "2025-08-07T14:38:03.842Z"
   },
   {
    "duration": 58,
    "start_time": "2025-08-07T14:38:03.851Z"
   },
   {
    "duration": 8,
    "start_time": "2025-08-07T14:38:03.911Z"
   },
   {
    "duration": 11,
    "start_time": "2025-08-07T14:38:03.920Z"
   },
   {
    "duration": 14,
    "start_time": "2025-08-07T14:38:03.932Z"
   },
   {
    "duration": 190,
    "start_time": "2025-08-07T14:38:03.947Z"
   },
   {
    "duration": 7,
    "start_time": "2025-08-07T14:38:04.139Z"
   },
   {
    "duration": 83,
    "start_time": "2025-08-07T14:38:04.147Z"
   },
   {
    "duration": 8,
    "start_time": "2025-08-07T14:38:04.231Z"
   },
   {
    "duration": 199,
    "start_time": "2025-08-07T14:38:04.241Z"
   },
   {
    "duration": 8,
    "start_time": "2025-08-07T14:38:04.442Z"
   },
   {
    "duration": 88,
    "start_time": "2025-08-07T14:38:04.451Z"
   },
   {
    "duration": 149,
    "start_time": "2025-08-07T14:38:04.541Z"
   },
   {
    "duration": 68,
    "start_time": "2025-08-07T14:38:04.692Z"
   },
   {
    "duration": 0,
    "start_time": "2025-08-07T14:38:04.763Z"
   },
   {
    "duration": 0,
    "start_time": "2025-08-07T14:38:04.765Z"
   },
   {
    "duration": 0,
    "start_time": "2025-08-07T14:38:04.766Z"
   },
   {
    "duration": 0,
    "start_time": "2025-08-07T14:38:04.768Z"
   },
   {
    "duration": 0,
    "start_time": "2025-08-07T14:38:04.769Z"
   },
   {
    "duration": 0,
    "start_time": "2025-08-07T14:38:04.771Z"
   },
   {
    "duration": 0,
    "start_time": "2025-08-07T14:38:04.772Z"
   },
   {
    "duration": 0,
    "start_time": "2025-08-07T14:38:04.774Z"
   },
   {
    "duration": 0,
    "start_time": "2025-08-07T14:38:04.775Z"
   },
   {
    "duration": 0,
    "start_time": "2025-08-07T14:38:04.777Z"
   },
   {
    "duration": 0,
    "start_time": "2025-08-07T14:38:04.778Z"
   },
   {
    "duration": 0,
    "start_time": "2025-08-07T14:38:04.779Z"
   },
   {
    "duration": 0,
    "start_time": "2025-08-07T14:38:04.780Z"
   },
   {
    "duration": 0,
    "start_time": "2025-08-07T14:38:04.782Z"
   },
   {
    "duration": 0,
    "start_time": "2025-08-07T14:38:04.784Z"
   },
   {
    "duration": 0,
    "start_time": "2025-08-07T14:38:04.785Z"
   },
   {
    "duration": 0,
    "start_time": "2025-08-07T14:38:04.787Z"
   },
   {
    "duration": 0,
    "start_time": "2025-08-07T14:38:04.788Z"
   },
   {
    "duration": 0,
    "start_time": "2025-08-07T14:38:04.789Z"
   },
   {
    "duration": 0,
    "start_time": "2025-08-07T14:38:04.790Z"
   },
   {
    "duration": 0,
    "start_time": "2025-08-07T14:38:04.792Z"
   },
   {
    "duration": 0,
    "start_time": "2025-08-07T14:38:04.793Z"
   },
   {
    "duration": 0,
    "start_time": "2025-08-07T14:38:04.795Z"
   },
   {
    "duration": 0,
    "start_time": "2025-08-07T14:38:04.796Z"
   },
   {
    "duration": 0,
    "start_time": "2025-08-07T14:38:04.798Z"
   },
   {
    "duration": 0,
    "start_time": "2025-08-07T14:38:04.799Z"
   },
   {
    "duration": 0,
    "start_time": "2025-08-07T14:38:04.801Z"
   },
   {
    "duration": 0,
    "start_time": "2025-08-07T14:38:04.802Z"
   },
   {
    "duration": 0,
    "start_time": "2025-08-07T14:38:04.862Z"
   },
   {
    "duration": 0,
    "start_time": "2025-08-07T14:38:04.864Z"
   },
   {
    "duration": 0,
    "start_time": "2025-08-07T14:38:04.865Z"
   },
   {
    "duration": 0,
    "start_time": "2025-08-07T14:38:04.866Z"
   },
   {
    "duration": 0,
    "start_time": "2025-08-07T14:38:04.867Z"
   },
   {
    "duration": 0,
    "start_time": "2025-08-07T14:38:04.867Z"
   },
   {
    "duration": 0,
    "start_time": "2025-08-07T14:38:04.868Z"
   },
   {
    "duration": 0,
    "start_time": "2025-08-07T14:38:04.869Z"
   },
   {
    "duration": 0,
    "start_time": "2025-08-07T14:38:04.870Z"
   },
   {
    "duration": 0,
    "start_time": "2025-08-07T14:38:04.871Z"
   },
   {
    "duration": 0,
    "start_time": "2025-08-07T14:38:04.872Z"
   },
   {
    "duration": 0,
    "start_time": "2025-08-07T14:38:04.873Z"
   },
   {
    "duration": 0,
    "start_time": "2025-08-07T14:38:04.874Z"
   },
   {
    "duration": 0,
    "start_time": "2025-08-07T14:38:04.875Z"
   },
   {
    "duration": 0,
    "start_time": "2025-08-07T14:38:04.876Z"
   },
   {
    "duration": 0,
    "start_time": "2025-08-07T14:38:04.877Z"
   },
   {
    "duration": 0,
    "start_time": "2025-08-07T14:38:04.878Z"
   },
   {
    "duration": 0,
    "start_time": "2025-08-07T14:38:04.879Z"
   },
   {
    "duration": 0,
    "start_time": "2025-08-07T14:38:04.880Z"
   },
   {
    "duration": 1,
    "start_time": "2025-08-07T14:38:04.880Z"
   },
   {
    "duration": 0,
    "start_time": "2025-08-07T14:38:04.882Z"
   },
   {
    "duration": 0,
    "start_time": "2025-08-07T14:38:04.882Z"
   },
   {
    "duration": 0,
    "start_time": "2025-08-07T14:38:04.883Z"
   },
   {
    "duration": 0,
    "start_time": "2025-08-07T14:38:04.884Z"
   },
   {
    "duration": 0,
    "start_time": "2025-08-07T14:38:04.885Z"
   },
   {
    "duration": 0,
    "start_time": "2025-08-07T14:38:04.886Z"
   },
   {
    "duration": 0,
    "start_time": "2025-08-07T14:38:04.887Z"
   },
   {
    "duration": 0,
    "start_time": "2025-08-07T14:38:04.888Z"
   },
   {
    "duration": 0,
    "start_time": "2025-08-07T14:38:04.889Z"
   },
   {
    "duration": 0,
    "start_time": "2025-08-07T14:38:04.890Z"
   },
   {
    "duration": 0,
    "start_time": "2025-08-07T14:38:04.891Z"
   },
   {
    "duration": 0,
    "start_time": "2025-08-07T14:38:04.892Z"
   },
   {
    "duration": 0,
    "start_time": "2025-08-07T14:38:04.893Z"
   },
   {
    "duration": 0,
    "start_time": "2025-08-07T14:38:04.893Z"
   },
   {
    "duration": 0,
    "start_time": "2025-08-07T14:38:04.895Z"
   },
   {
    "duration": 0,
    "start_time": "2025-08-07T14:38:04.896Z"
   },
   {
    "duration": 0,
    "start_time": "2025-08-07T14:38:04.897Z"
   },
   {
    "duration": 0,
    "start_time": "2025-08-07T14:38:04.897Z"
   },
   {
    "duration": 0,
    "start_time": "2025-08-07T14:38:04.962Z"
   },
   {
    "duration": 0,
    "start_time": "2025-08-07T14:38:04.963Z"
   },
   {
    "duration": 0,
    "start_time": "2025-08-07T14:38:04.964Z"
   },
   {
    "duration": 0,
    "start_time": "2025-08-07T14:38:04.965Z"
   },
   {
    "duration": 0,
    "start_time": "2025-08-07T14:38:04.966Z"
   },
   {
    "duration": 0,
    "start_time": "2025-08-07T14:38:04.967Z"
   },
   {
    "duration": 0,
    "start_time": "2025-08-07T14:38:04.968Z"
   },
   {
    "duration": 0,
    "start_time": "2025-08-07T14:38:04.969Z"
   },
   {
    "duration": 0,
    "start_time": "2025-08-07T14:38:04.969Z"
   },
   {
    "duration": 0,
    "start_time": "2025-08-07T14:38:04.970Z"
   },
   {
    "duration": 0,
    "start_time": "2025-08-07T14:38:04.971Z"
   },
   {
    "duration": 0,
    "start_time": "2025-08-07T14:38:04.973Z"
   },
   {
    "duration": 0,
    "start_time": "2025-08-07T14:38:04.974Z"
   },
   {
    "duration": 0,
    "start_time": "2025-08-07T14:38:04.975Z"
   },
   {
    "duration": 0,
    "start_time": "2025-08-07T14:38:04.976Z"
   },
   {
    "duration": 0,
    "start_time": "2025-08-07T14:38:04.977Z"
   },
   {
    "duration": 0,
    "start_time": "2025-08-07T14:38:04.978Z"
   },
   {
    "duration": 0,
    "start_time": "2025-08-07T14:38:04.979Z"
   },
   {
    "duration": 0,
    "start_time": "2025-08-07T14:38:04.980Z"
   },
   {
    "duration": 0,
    "start_time": "2025-08-07T14:38:04.981Z"
   },
   {
    "duration": 0,
    "start_time": "2025-08-07T14:38:04.982Z"
   },
   {
    "duration": 0,
    "start_time": "2025-08-07T14:38:04.983Z"
   },
   {
    "duration": 0,
    "start_time": "2025-08-07T14:38:04.984Z"
   },
   {
    "duration": 0,
    "start_time": "2025-08-07T14:38:04.986Z"
   },
   {
    "duration": 0,
    "start_time": "2025-08-07T14:38:04.987Z"
   },
   {
    "duration": 1,
    "start_time": "2025-08-07T14:38:04.987Z"
   },
   {
    "duration": 0,
    "start_time": "2025-08-07T14:38:04.988Z"
   },
   {
    "duration": 0,
    "start_time": "2025-08-07T14:38:04.990Z"
   },
   {
    "duration": 0,
    "start_time": "2025-08-07T14:38:04.990Z"
   },
   {
    "duration": 0,
    "start_time": "2025-08-07T14:38:04.992Z"
   },
   {
    "duration": 0,
    "start_time": "2025-08-07T14:38:04.992Z"
   },
   {
    "duration": 1118,
    "start_time": "2025-08-07T14:42:15.190Z"
   },
   {
    "duration": 21,
    "start_time": "2025-08-07T14:42:30.997Z"
   },
   {
    "duration": 23,
    "start_time": "2025-08-07T14:42:48.140Z"
   },
   {
    "duration": 22,
    "start_time": "2025-08-07T14:43:03.400Z"
   },
   {
    "duration": 55,
    "start_time": "2025-08-07T14:44:39.583Z"
   },
   {
    "duration": 110,
    "start_time": "2025-08-07T14:45:26.643Z"
   },
   {
    "duration": 95,
    "start_time": "2025-08-07T14:47:22.379Z"
   },
   {
    "duration": 93,
    "start_time": "2025-08-07T14:53:15.937Z"
   },
   {
    "duration": 19111,
    "start_time": "2025-08-07T14:56:09.452Z"
   },
   {
    "duration": 3496,
    "start_time": "2025-08-07T14:56:28.566Z"
   },
   {
    "duration": 10,
    "start_time": "2025-08-07T14:56:32.064Z"
   },
   {
    "duration": 87,
    "start_time": "2025-08-07T14:56:32.076Z"
   },
   {
    "duration": 19,
    "start_time": "2025-08-07T14:56:32.164Z"
   },
   {
    "duration": 18,
    "start_time": "2025-08-07T14:56:32.185Z"
   },
   {
    "duration": 9,
    "start_time": "2025-08-07T14:56:32.205Z"
   },
   {
    "duration": 17,
    "start_time": "2025-08-07T14:56:32.216Z"
   },
   {
    "duration": 38,
    "start_time": "2025-08-07T14:56:32.234Z"
   },
   {
    "duration": 12,
    "start_time": "2025-08-07T14:56:32.275Z"
   },
   {
    "duration": 22,
    "start_time": "2025-08-07T14:56:32.288Z"
   },
   {
    "duration": 92,
    "start_time": "2025-08-07T14:56:32.312Z"
   },
   {
    "duration": 46,
    "start_time": "2025-08-07T14:56:32.405Z"
   },
   {
    "duration": 16,
    "start_time": "2025-08-07T14:56:32.453Z"
   },
   {
    "duration": 19,
    "start_time": "2025-08-07T14:56:32.470Z"
   },
   {
    "duration": 15,
    "start_time": "2025-08-07T14:56:32.490Z"
   },
   {
    "duration": 9,
    "start_time": "2025-08-07T14:56:32.506Z"
   },
   {
    "duration": 24,
    "start_time": "2025-08-07T14:56:32.516Z"
   },
   {
    "duration": 14,
    "start_time": "2025-08-07T14:56:32.562Z"
   },
   {
    "duration": 79,
    "start_time": "2025-08-07T14:56:32.577Z"
   },
   {
    "duration": 3,
    "start_time": "2025-08-07T14:56:32.658Z"
   },
   {
    "duration": 107,
    "start_time": "2025-08-07T14:56:32.663Z"
   },
   {
    "duration": 17,
    "start_time": "2025-08-07T14:56:32.772Z"
   },
   {
    "duration": 13,
    "start_time": "2025-08-07T14:56:32.790Z"
   },
   {
    "duration": 25,
    "start_time": "2025-08-07T14:56:32.804Z"
   },
   {
    "duration": 13,
    "start_time": "2025-08-07T14:56:32.831Z"
   },
   {
    "duration": 29,
    "start_time": "2025-08-07T14:56:32.846Z"
   },
   {
    "duration": 39,
    "start_time": "2025-08-07T14:56:32.879Z"
   },
   {
    "duration": 21,
    "start_time": "2025-08-07T14:56:32.920Z"
   },
   {
    "duration": 50,
    "start_time": "2025-08-07T14:56:32.943Z"
   },
   {
    "duration": 49,
    "start_time": "2025-08-07T14:56:32.994Z"
   },
   {
    "duration": 50,
    "start_time": "2025-08-07T14:56:33.045Z"
   },
   {
    "duration": 293,
    "start_time": "2025-08-07T14:56:33.097Z"
   },
   {
    "duration": 7,
    "start_time": "2025-08-07T14:56:33.392Z"
   },
   {
    "duration": 38,
    "start_time": "2025-08-07T14:56:33.401Z"
   },
   {
    "duration": 9,
    "start_time": "2025-08-07T14:56:33.442Z"
   },
   {
    "duration": 193,
    "start_time": "2025-08-07T14:56:33.453Z"
   },
   {
    "duration": 6,
    "start_time": "2025-08-07T14:56:33.648Z"
   },
   {
    "duration": 146,
    "start_time": "2025-08-07T14:56:33.656Z"
   },
   {
    "duration": 6,
    "start_time": "2025-08-07T14:56:33.804Z"
   },
   {
    "duration": 70,
    "start_time": "2025-08-07T14:56:33.812Z"
   },
   {
    "duration": 5,
    "start_time": "2025-08-07T14:56:33.883Z"
   },
   {
    "duration": 80,
    "start_time": "2025-08-07T14:56:33.890Z"
   },
   {
    "duration": 9,
    "start_time": "2025-08-07T14:56:33.972Z"
   },
   {
    "duration": 28,
    "start_time": "2025-08-07T14:56:33.982Z"
   },
   {
    "duration": 17,
    "start_time": "2025-08-07T14:56:34.012Z"
   },
   {
    "duration": 50,
    "start_time": "2025-08-07T14:56:34.031Z"
   },
   {
    "duration": 7,
    "start_time": "2025-08-07T14:56:34.083Z"
   },
   {
    "duration": 130,
    "start_time": "2025-08-07T14:56:34.092Z"
   },
   {
    "duration": 10,
    "start_time": "2025-08-07T14:56:34.223Z"
   },
   {
    "duration": 46,
    "start_time": "2025-08-07T14:56:34.234Z"
   },
   {
    "duration": 7,
    "start_time": "2025-08-07T14:56:34.282Z"
   },
   {
    "duration": 53,
    "start_time": "2025-08-07T14:56:34.290Z"
   },
   {
    "duration": 23,
    "start_time": "2025-08-07T14:56:34.344Z"
   },
   {
    "duration": 87,
    "start_time": "2025-08-07T14:56:34.369Z"
   },
   {
    "duration": 0,
    "start_time": "2025-08-07T14:56:34.459Z"
   },
   {
    "duration": 0,
    "start_time": "2025-08-07T14:56:34.460Z"
   },
   {
    "duration": 0,
    "start_time": "2025-08-07T14:56:34.461Z"
   },
   {
    "duration": 0,
    "start_time": "2025-08-07T14:56:34.462Z"
   },
   {
    "duration": 0,
    "start_time": "2025-08-07T14:56:34.464Z"
   },
   {
    "duration": 0,
    "start_time": "2025-08-07T14:56:34.464Z"
   },
   {
    "duration": 0,
    "start_time": "2025-08-07T14:56:34.465Z"
   },
   {
    "duration": 0,
    "start_time": "2025-08-07T14:56:34.466Z"
   },
   {
    "duration": 0,
    "start_time": "2025-08-07T14:56:34.467Z"
   },
   {
    "duration": 0,
    "start_time": "2025-08-07T14:56:34.468Z"
   },
   {
    "duration": 0,
    "start_time": "2025-08-07T14:56:34.469Z"
   },
   {
    "duration": 0,
    "start_time": "2025-08-07T14:56:34.470Z"
   },
   {
    "duration": 0,
    "start_time": "2025-08-07T14:56:34.471Z"
   },
   {
    "duration": 0,
    "start_time": "2025-08-07T14:56:34.472Z"
   },
   {
    "duration": 0,
    "start_time": "2025-08-07T14:56:34.472Z"
   },
   {
    "duration": 0,
    "start_time": "2025-08-07T14:56:34.473Z"
   },
   {
    "duration": 0,
    "start_time": "2025-08-07T14:56:34.474Z"
   },
   {
    "duration": 0,
    "start_time": "2025-08-07T14:56:34.475Z"
   },
   {
    "duration": 0,
    "start_time": "2025-08-07T14:56:34.476Z"
   },
   {
    "duration": 0,
    "start_time": "2025-08-07T14:56:34.477Z"
   },
   {
    "duration": 0,
    "start_time": "2025-08-07T14:56:34.478Z"
   },
   {
    "duration": 0,
    "start_time": "2025-08-07T14:56:34.479Z"
   },
   {
    "duration": 0,
    "start_time": "2025-08-07T14:56:34.480Z"
   },
   {
    "duration": 0,
    "start_time": "2025-08-07T14:56:34.481Z"
   },
   {
    "duration": 0,
    "start_time": "2025-08-07T14:56:34.481Z"
   },
   {
    "duration": 0,
    "start_time": "2025-08-07T14:56:34.482Z"
   },
   {
    "duration": 0,
    "start_time": "2025-08-07T14:56:34.483Z"
   },
   {
    "duration": 0,
    "start_time": "2025-08-07T14:56:34.484Z"
   },
   {
    "duration": 0,
    "start_time": "2025-08-07T14:56:34.485Z"
   },
   {
    "duration": 0,
    "start_time": "2025-08-07T14:56:34.486Z"
   },
   {
    "duration": 0,
    "start_time": "2025-08-07T14:56:34.487Z"
   },
   {
    "duration": 0,
    "start_time": "2025-08-07T14:56:34.487Z"
   },
   {
    "duration": 0,
    "start_time": "2025-08-07T14:56:34.489Z"
   },
   {
    "duration": 0,
    "start_time": "2025-08-07T14:56:34.490Z"
   },
   {
    "duration": 0,
    "start_time": "2025-08-07T14:56:34.491Z"
   },
   {
    "duration": 0,
    "start_time": "2025-08-07T14:56:34.492Z"
   },
   {
    "duration": 0,
    "start_time": "2025-08-07T14:56:34.493Z"
   },
   {
    "duration": 0,
    "start_time": "2025-08-07T14:56:34.493Z"
   },
   {
    "duration": 0,
    "start_time": "2025-08-07T14:56:34.495Z"
   },
   {
    "duration": 0,
    "start_time": "2025-08-07T14:56:34.495Z"
   },
   {
    "duration": 0,
    "start_time": "2025-08-07T14:56:34.496Z"
   },
   {
    "duration": 0,
    "start_time": "2025-08-07T14:56:34.497Z"
   },
   {
    "duration": 0,
    "start_time": "2025-08-07T14:56:34.498Z"
   },
   {
    "duration": 0,
    "start_time": "2025-08-07T14:56:34.499Z"
   },
   {
    "duration": 0,
    "start_time": "2025-08-07T14:56:34.500Z"
   },
   {
    "duration": 0,
    "start_time": "2025-08-07T14:56:34.562Z"
   },
   {
    "duration": 0,
    "start_time": "2025-08-07T14:56:34.564Z"
   },
   {
    "duration": 0,
    "start_time": "2025-08-07T14:56:34.565Z"
   },
   {
    "duration": 0,
    "start_time": "2025-08-07T14:56:34.566Z"
   },
   {
    "duration": 0,
    "start_time": "2025-08-07T14:56:34.567Z"
   },
   {
    "duration": 0,
    "start_time": "2025-08-07T14:56:34.568Z"
   },
   {
    "duration": 0,
    "start_time": "2025-08-07T14:56:34.568Z"
   },
   {
    "duration": 0,
    "start_time": "2025-08-07T14:56:34.570Z"
   },
   {
    "duration": 0,
    "start_time": "2025-08-07T14:56:34.570Z"
   },
   {
    "duration": 0,
    "start_time": "2025-08-07T14:56:34.572Z"
   },
   {
    "duration": 0,
    "start_time": "2025-08-07T14:56:34.572Z"
   },
   {
    "duration": 0,
    "start_time": "2025-08-07T14:56:34.574Z"
   },
   {
    "duration": 0,
    "start_time": "2025-08-07T14:56:34.575Z"
   },
   {
    "duration": 0,
    "start_time": "2025-08-07T14:56:34.575Z"
   },
   {
    "duration": 0,
    "start_time": "2025-08-07T14:56:34.576Z"
   },
   {
    "duration": 0,
    "start_time": "2025-08-07T14:56:34.578Z"
   },
   {
    "duration": 0,
    "start_time": "2025-08-07T14:56:34.579Z"
   },
   {
    "duration": 0,
    "start_time": "2025-08-07T14:56:34.580Z"
   },
   {
    "duration": 0,
    "start_time": "2025-08-07T14:56:34.581Z"
   },
   {
    "duration": 0,
    "start_time": "2025-08-07T14:56:34.582Z"
   },
   {
    "duration": 0,
    "start_time": "2025-08-07T14:56:34.583Z"
   },
   {
    "duration": 0,
    "start_time": "2025-08-07T14:56:34.584Z"
   },
   {
    "duration": 0,
    "start_time": "2025-08-07T14:56:34.585Z"
   },
   {
    "duration": 0,
    "start_time": "2025-08-07T14:56:34.585Z"
   },
   {
    "duration": 0,
    "start_time": "2025-08-07T14:56:34.586Z"
   },
   {
    "duration": 0,
    "start_time": "2025-08-07T14:56:34.587Z"
   },
   {
    "duration": 0,
    "start_time": "2025-08-07T14:56:34.588Z"
   },
   {
    "duration": 0,
    "start_time": "2025-08-07T14:56:34.589Z"
   },
   {
    "duration": 0,
    "start_time": "2025-08-07T14:56:34.590Z"
   },
   {
    "duration": 0,
    "start_time": "2025-08-07T14:56:34.591Z"
   },
   {
    "duration": 0,
    "start_time": "2025-08-07T14:56:34.592Z"
   },
   {
    "duration": 0,
    "start_time": "2025-08-07T14:56:34.593Z"
   },
   {
    "duration": 0,
    "start_time": "2025-08-07T14:56:34.593Z"
   },
   {
    "duration": 0,
    "start_time": "2025-08-07T14:56:34.594Z"
   },
   {
    "duration": 0,
    "start_time": "2025-08-07T14:56:34.595Z"
   },
   {
    "duration": 0,
    "start_time": "2025-08-07T14:56:34.597Z"
   },
   {
    "duration": 0,
    "start_time": "2025-08-07T14:56:34.597Z"
   },
   {
    "duration": 0,
    "start_time": "2025-08-07T14:56:34.663Z"
   },
   {
    "duration": 0,
    "start_time": "2025-08-07T14:56:34.664Z"
   },
   {
    "duration": 0,
    "start_time": "2025-08-07T14:56:34.665Z"
   },
   {
    "duration": 0,
    "start_time": "2025-08-07T14:56:34.666Z"
   },
   {
    "duration": 0,
    "start_time": "2025-08-07T14:56:34.667Z"
   },
   {
    "duration": 0,
    "start_time": "2025-08-07T14:56:34.668Z"
   },
   {
    "duration": 0,
    "start_time": "2025-08-07T14:56:34.669Z"
   },
   {
    "duration": 0,
    "start_time": "2025-08-07T14:56:34.670Z"
   },
   {
    "duration": 0,
    "start_time": "2025-08-07T14:56:34.671Z"
   },
   {
    "duration": 0,
    "start_time": "2025-08-07T14:56:34.672Z"
   },
   {
    "duration": 0,
    "start_time": "2025-08-07T14:56:34.673Z"
   },
   {
    "duration": 0,
    "start_time": "2025-08-07T14:56:34.675Z"
   },
   {
    "duration": 0,
    "start_time": "2025-08-07T14:56:34.676Z"
   },
   {
    "duration": 0,
    "start_time": "2025-08-07T14:56:34.677Z"
   },
   {
    "duration": 0,
    "start_time": "2025-08-07T14:56:34.678Z"
   },
   {
    "duration": 8,
    "start_time": "2025-08-07T14:59:38.142Z"
   },
   {
    "duration": 326,
    "start_time": "2025-08-07T15:05:00.728Z"
   },
   {
    "duration": 13,
    "start_time": "2025-08-07T15:05:03.626Z"
   },
   {
    "duration": 13,
    "start_time": "2025-08-07T15:05:19.095Z"
   },
   {
    "duration": 21303,
    "start_time": "2025-08-07T15:05:34.546Z"
   },
   {
    "duration": 3671,
    "start_time": "2025-08-07T15:05:55.852Z"
   },
   {
    "duration": 11,
    "start_time": "2025-08-07T15:05:59.524Z"
   },
   {
    "duration": 8,
    "start_time": "2025-08-07T15:05:59.537Z"
   },
   {
    "duration": 22,
    "start_time": "2025-08-07T15:05:59.547Z"
   },
   {
    "duration": 9,
    "start_time": "2025-08-07T15:05:59.571Z"
   },
   {
    "duration": 10,
    "start_time": "2025-08-07T15:05:59.581Z"
   },
   {
    "duration": 8,
    "start_time": "2025-08-07T15:05:59.593Z"
   },
   {
    "duration": 12,
    "start_time": "2025-08-07T15:05:59.602Z"
   },
   {
    "duration": 6,
    "start_time": "2025-08-07T15:05:59.617Z"
   },
   {
    "duration": 38,
    "start_time": "2025-08-07T15:05:59.625Z"
   },
   {
    "duration": 95,
    "start_time": "2025-08-07T15:05:59.664Z"
   },
   {
    "duration": 27,
    "start_time": "2025-08-07T15:05:59.761Z"
   },
   {
    "duration": 18,
    "start_time": "2025-08-07T15:05:59.790Z"
   },
   {
    "duration": 19,
    "start_time": "2025-08-07T15:05:59.810Z"
   },
   {
    "duration": 46,
    "start_time": "2025-08-07T15:05:59.831Z"
   },
   {
    "duration": 6,
    "start_time": "2025-08-07T15:05:59.879Z"
   },
   {
    "duration": 32,
    "start_time": "2025-08-07T15:05:59.887Z"
   },
   {
    "duration": 15,
    "start_time": "2025-08-07T15:05:59.921Z"
   },
   {
    "duration": 54,
    "start_time": "2025-08-07T15:05:59.938Z"
   },
   {
    "duration": 4,
    "start_time": "2025-08-07T15:05:59.994Z"
   },
   {
    "duration": 47,
    "start_time": "2025-08-07T15:06:00.000Z"
   },
   {
    "duration": 37,
    "start_time": "2025-08-07T15:06:00.049Z"
   },
   {
    "duration": 36,
    "start_time": "2025-08-07T15:06:00.088Z"
   },
   {
    "duration": 121,
    "start_time": "2025-08-07T15:06:00.126Z"
   },
   {
    "duration": 67,
    "start_time": "2025-08-07T15:06:00.248Z"
   },
   {
    "duration": 21,
    "start_time": "2025-08-07T15:06:00.317Z"
   },
   {
    "duration": 13,
    "start_time": "2025-08-07T15:06:00.343Z"
   },
   {
    "duration": 21,
    "start_time": "2025-08-07T15:06:00.358Z"
   },
   {
    "duration": 126,
    "start_time": "2025-08-07T15:06:00.381Z"
   },
   {
    "duration": 128,
    "start_time": "2025-08-07T15:06:00.508Z"
   },
   {
    "duration": 6,
    "start_time": "2025-08-07T15:06:00.637Z"
   },
   {
    "duration": 18,
    "start_time": "2025-08-07T15:06:00.645Z"
   },
   {
    "duration": 299,
    "start_time": "2025-08-07T15:06:00.665Z"
   },
   {
    "duration": 13,
    "start_time": "2025-08-07T15:06:00.966Z"
   },
   {
    "duration": 337,
    "start_time": "2025-08-07T15:06:00.980Z"
   },
   {
    "duration": 0,
    "start_time": "2025-08-07T15:06:01.321Z"
   },
   {
    "duration": 0,
    "start_time": "2025-08-07T15:06:01.322Z"
   },
   {
    "duration": 0,
    "start_time": "2025-08-07T15:06:01.324Z"
   },
   {
    "duration": 1,
    "start_time": "2025-08-07T15:06:01.324Z"
   },
   {
    "duration": 0,
    "start_time": "2025-08-07T15:06:01.325Z"
   },
   {
    "duration": 0,
    "start_time": "2025-08-07T15:06:01.327Z"
   },
   {
    "duration": 0,
    "start_time": "2025-08-07T15:06:01.327Z"
   },
   {
    "duration": 0,
    "start_time": "2025-08-07T15:06:01.329Z"
   },
   {
    "duration": 0,
    "start_time": "2025-08-07T15:06:01.330Z"
   },
   {
    "duration": 0,
    "start_time": "2025-08-07T15:06:01.331Z"
   },
   {
    "duration": 0,
    "start_time": "2025-08-07T15:06:01.332Z"
   },
   {
    "duration": 0,
    "start_time": "2025-08-07T15:06:01.333Z"
   },
   {
    "duration": 0,
    "start_time": "2025-08-07T15:06:01.334Z"
   },
   {
    "duration": 0,
    "start_time": "2025-08-07T15:06:01.335Z"
   },
   {
    "duration": 0,
    "start_time": "2025-08-07T15:06:01.336Z"
   },
   {
    "duration": 0,
    "start_time": "2025-08-07T15:06:01.337Z"
   },
   {
    "duration": 0,
    "start_time": "2025-08-07T15:06:01.363Z"
   },
   {
    "duration": 0,
    "start_time": "2025-08-07T15:06:01.364Z"
   },
   {
    "duration": 0,
    "start_time": "2025-08-07T15:06:01.365Z"
   },
   {
    "duration": 0,
    "start_time": "2025-08-07T15:06:01.366Z"
   },
   {
    "duration": 0,
    "start_time": "2025-08-07T15:06:01.367Z"
   },
   {
    "duration": 0,
    "start_time": "2025-08-07T15:06:01.368Z"
   },
   {
    "duration": 0,
    "start_time": "2025-08-07T15:06:01.370Z"
   },
   {
    "duration": 0,
    "start_time": "2025-08-07T15:06:01.371Z"
   },
   {
    "duration": 0,
    "start_time": "2025-08-07T15:06:01.372Z"
   },
   {
    "duration": 0,
    "start_time": "2025-08-07T15:06:01.372Z"
   },
   {
    "duration": 0,
    "start_time": "2025-08-07T15:06:01.374Z"
   },
   {
    "duration": 0,
    "start_time": "2025-08-07T15:06:01.375Z"
   },
   {
    "duration": 0,
    "start_time": "2025-08-07T15:06:01.376Z"
   },
   {
    "duration": 0,
    "start_time": "2025-08-07T15:06:01.377Z"
   },
   {
    "duration": 0,
    "start_time": "2025-08-07T15:06:01.378Z"
   },
   {
    "duration": 0,
    "start_time": "2025-08-07T15:06:01.379Z"
   },
   {
    "duration": 0,
    "start_time": "2025-08-07T15:06:01.380Z"
   },
   {
    "duration": 0,
    "start_time": "2025-08-07T15:06:01.381Z"
   },
   {
    "duration": 0,
    "start_time": "2025-08-07T15:06:01.382Z"
   },
   {
    "duration": 0,
    "start_time": "2025-08-07T15:06:01.383Z"
   },
   {
    "duration": 0,
    "start_time": "2025-08-07T15:06:01.383Z"
   },
   {
    "duration": 0,
    "start_time": "2025-08-07T15:06:01.384Z"
   },
   {
    "duration": 0,
    "start_time": "2025-08-07T15:06:01.386Z"
   },
   {
    "duration": 0,
    "start_time": "2025-08-07T15:06:01.386Z"
   },
   {
    "duration": 0,
    "start_time": "2025-08-07T15:06:01.387Z"
   },
   {
    "duration": 0,
    "start_time": "2025-08-07T15:06:01.388Z"
   },
   {
    "duration": 0,
    "start_time": "2025-08-07T15:06:01.389Z"
   },
   {
    "duration": 0,
    "start_time": "2025-08-07T15:06:01.390Z"
   },
   {
    "duration": 0,
    "start_time": "2025-08-07T15:06:01.391Z"
   },
   {
    "duration": 0,
    "start_time": "2025-08-07T15:06:01.392Z"
   },
   {
    "duration": 0,
    "start_time": "2025-08-07T15:06:01.393Z"
   },
   {
    "duration": 0,
    "start_time": "2025-08-07T15:06:01.394Z"
   },
   {
    "duration": 0,
    "start_time": "2025-08-07T15:06:01.395Z"
   },
   {
    "duration": 0,
    "start_time": "2025-08-07T15:06:01.396Z"
   },
   {
    "duration": 0,
    "start_time": "2025-08-07T15:06:01.397Z"
   },
   {
    "duration": 0,
    "start_time": "2025-08-07T15:06:01.398Z"
   },
   {
    "duration": 0,
    "start_time": "2025-08-07T15:06:01.399Z"
   },
   {
    "duration": 0,
    "start_time": "2025-08-07T15:06:01.400Z"
   },
   {
    "duration": 0,
    "start_time": "2025-08-07T15:06:01.462Z"
   },
   {
    "duration": 0,
    "start_time": "2025-08-07T15:06:01.464Z"
   },
   {
    "duration": 0,
    "start_time": "2025-08-07T15:06:01.465Z"
   },
   {
    "duration": 0,
    "start_time": "2025-08-07T15:06:01.466Z"
   },
   {
    "duration": 0,
    "start_time": "2025-08-07T15:06:01.466Z"
   },
   {
    "duration": 0,
    "start_time": "2025-08-07T15:06:01.467Z"
   },
   {
    "duration": 0,
    "start_time": "2025-08-07T15:06:01.468Z"
   },
   {
    "duration": 0,
    "start_time": "2025-08-07T15:06:01.470Z"
   },
   {
    "duration": 0,
    "start_time": "2025-08-07T15:06:01.471Z"
   },
   {
    "duration": 0,
    "start_time": "2025-08-07T15:06:01.471Z"
   },
   {
    "duration": 0,
    "start_time": "2025-08-07T15:06:01.472Z"
   },
   {
    "duration": 0,
    "start_time": "2025-08-07T15:06:01.473Z"
   },
   {
    "duration": 0,
    "start_time": "2025-08-07T15:06:01.474Z"
   },
   {
    "duration": 0,
    "start_time": "2025-08-07T15:06:01.475Z"
   },
   {
    "duration": 0,
    "start_time": "2025-08-07T15:06:01.476Z"
   },
   {
    "duration": 0,
    "start_time": "2025-08-07T15:06:01.477Z"
   },
   {
    "duration": 0,
    "start_time": "2025-08-07T15:06:01.478Z"
   },
   {
    "duration": 0,
    "start_time": "2025-08-07T15:06:01.480Z"
   },
   {
    "duration": 0,
    "start_time": "2025-08-07T15:06:01.481Z"
   },
   {
    "duration": 0,
    "start_time": "2025-08-07T15:06:01.482Z"
   },
   {
    "duration": 0,
    "start_time": "2025-08-07T15:06:01.483Z"
   },
   {
    "duration": 0,
    "start_time": "2025-08-07T15:06:01.484Z"
   },
   {
    "duration": 0,
    "start_time": "2025-08-07T15:06:01.485Z"
   },
   {
    "duration": 0,
    "start_time": "2025-08-07T15:06:01.487Z"
   },
   {
    "duration": 0,
    "start_time": "2025-08-07T15:06:01.488Z"
   },
   {
    "duration": 0,
    "start_time": "2025-08-07T15:06:01.489Z"
   },
   {
    "duration": 0,
    "start_time": "2025-08-07T15:06:01.490Z"
   },
   {
    "duration": 0,
    "start_time": "2025-08-07T15:06:01.491Z"
   },
   {
    "duration": 0,
    "start_time": "2025-08-07T15:06:01.492Z"
   },
   {
    "duration": 0,
    "start_time": "2025-08-07T15:06:01.493Z"
   },
   {
    "duration": 0,
    "start_time": "2025-08-07T15:06:01.495Z"
   },
   {
    "duration": 0,
    "start_time": "2025-08-07T15:06:01.496Z"
   },
   {
    "duration": 0,
    "start_time": "2025-08-07T15:06:01.497Z"
   },
   {
    "duration": 0,
    "start_time": "2025-08-07T15:06:01.498Z"
   },
   {
    "duration": 0,
    "start_time": "2025-08-07T15:06:01.562Z"
   },
   {
    "duration": 0,
    "start_time": "2025-08-07T15:06:01.564Z"
   },
   {
    "duration": 0,
    "start_time": "2025-08-07T15:06:01.565Z"
   },
   {
    "duration": 0,
    "start_time": "2025-08-07T15:06:01.565Z"
   },
   {
    "duration": 0,
    "start_time": "2025-08-07T15:06:01.567Z"
   },
   {
    "duration": 0,
    "start_time": "2025-08-07T15:06:01.568Z"
   },
   {
    "duration": 0,
    "start_time": "2025-08-07T15:06:01.569Z"
   },
   {
    "duration": 0,
    "start_time": "2025-08-07T15:06:01.571Z"
   },
   {
    "duration": 0,
    "start_time": "2025-08-07T15:06:01.573Z"
   },
   {
    "duration": 0,
    "start_time": "2025-08-07T15:06:01.575Z"
   },
   {
    "duration": 0,
    "start_time": "2025-08-07T15:06:01.577Z"
   },
   {
    "duration": 0,
    "start_time": "2025-08-07T15:06:01.578Z"
   },
   {
    "duration": 0,
    "start_time": "2025-08-07T15:06:01.579Z"
   },
   {
    "duration": 0,
    "start_time": "2025-08-07T15:06:01.581Z"
   },
   {
    "duration": 0,
    "start_time": "2025-08-07T15:06:01.583Z"
   },
   {
    "duration": 0,
    "start_time": "2025-08-07T15:06:01.585Z"
   },
   {
    "duration": 0,
    "start_time": "2025-08-07T15:06:01.586Z"
   },
   {
    "duration": 0,
    "start_time": "2025-08-07T15:06:01.598Z"
   },
   {
    "duration": 0,
    "start_time": "2025-08-07T15:06:01.662Z"
   },
   {
    "duration": 0,
    "start_time": "2025-08-07T15:06:01.663Z"
   },
   {
    "duration": 0,
    "start_time": "2025-08-07T15:06:01.664Z"
   },
   {
    "duration": 0,
    "start_time": "2025-08-07T15:06:01.665Z"
   },
   {
    "duration": 0,
    "start_time": "2025-08-07T15:06:01.666Z"
   },
   {
    "duration": 0,
    "start_time": "2025-08-07T15:06:01.667Z"
   },
   {
    "duration": 0,
    "start_time": "2025-08-07T15:06:01.668Z"
   },
   {
    "duration": 0,
    "start_time": "2025-08-07T15:06:01.669Z"
   },
   {
    "duration": 0,
    "start_time": "2025-08-07T15:06:01.670Z"
   },
   {
    "duration": 0,
    "start_time": "2025-08-07T15:06:01.671Z"
   },
   {
    "duration": 0,
    "start_time": "2025-08-07T15:06:01.672Z"
   },
   {
    "duration": 0,
    "start_time": "2025-08-07T15:06:01.673Z"
   },
   {
    "duration": 0,
    "start_time": "2025-08-07T15:06:01.674Z"
   },
   {
    "duration": 6,
    "start_time": "2025-08-07T15:06:54.648Z"
   },
   {
    "duration": 17,
    "start_time": "2025-08-07T15:06:56.976Z"
   },
   {
    "duration": 10,
    "start_time": "2025-08-07T15:07:00.017Z"
   },
   {
    "duration": 19,
    "start_time": "2025-08-07T15:07:02.355Z"
   },
   {
    "duration": 19929,
    "start_time": "2025-08-07T15:08:51.657Z"
   },
   {
    "duration": 4479,
    "start_time": "2025-08-07T15:09:11.589Z"
   },
   {
    "duration": 11,
    "start_time": "2025-08-07T15:09:16.070Z"
   },
   {
    "duration": 26,
    "start_time": "2025-08-07T15:09:16.083Z"
   },
   {
    "duration": 68,
    "start_time": "2025-08-07T15:09:16.111Z"
   },
   {
    "duration": 13,
    "start_time": "2025-08-07T15:09:16.182Z"
   },
   {
    "duration": 15,
    "start_time": "2025-08-07T15:09:16.197Z"
   },
   {
    "duration": 51,
    "start_time": "2025-08-07T15:09:16.214Z"
   },
   {
    "duration": 61,
    "start_time": "2025-08-07T15:09:16.267Z"
   },
   {
    "duration": 32,
    "start_time": "2025-08-07T15:09:16.331Z"
   },
   {
    "duration": 32,
    "start_time": "2025-08-07T15:09:16.365Z"
   },
   {
    "duration": 168,
    "start_time": "2025-08-07T15:09:16.399Z"
   },
   {
    "duration": 29,
    "start_time": "2025-08-07T15:09:16.569Z"
   },
   {
    "duration": 22,
    "start_time": "2025-08-07T15:09:16.600Z"
   },
   {
    "duration": 45,
    "start_time": "2025-08-07T15:09:16.624Z"
   },
   {
    "duration": 16,
    "start_time": "2025-08-07T15:09:16.671Z"
   },
   {
    "duration": 55,
    "start_time": "2025-08-07T15:09:16.689Z"
   },
   {
    "duration": 65,
    "start_time": "2025-08-07T15:09:16.745Z"
   },
   {
    "duration": 26,
    "start_time": "2025-08-07T15:09:16.812Z"
   },
   {
    "duration": 49,
    "start_time": "2025-08-07T15:09:16.840Z"
   },
   {
    "duration": 4,
    "start_time": "2025-08-07T15:09:16.891Z"
   },
   {
    "duration": 12,
    "start_time": "2025-08-07T15:09:16.897Z"
   },
   {
    "duration": 15,
    "start_time": "2025-08-07T15:09:16.910Z"
   },
   {
    "duration": 3,
    "start_time": "2025-08-07T15:09:16.926Z"
   },
   {
    "duration": 10,
    "start_time": "2025-08-07T15:09:16.930Z"
   },
   {
    "duration": 34,
    "start_time": "2025-08-07T15:09:16.942Z"
   },
   {
    "duration": 21,
    "start_time": "2025-08-07T15:09:16.978Z"
   },
   {
    "duration": 14,
    "start_time": "2025-08-07T15:09:17.003Z"
   },
   {
    "duration": 22,
    "start_time": "2025-08-07T15:09:17.019Z"
   },
   {
    "duration": 15,
    "start_time": "2025-08-07T15:09:17.042Z"
   },
   {
    "duration": 76,
    "start_time": "2025-08-07T15:09:17.059Z"
   },
   {
    "duration": 19,
    "start_time": "2025-08-07T15:09:17.137Z"
   },
   {
    "duration": 20,
    "start_time": "2025-08-07T15:09:17.158Z"
   },
   {
    "duration": 287,
    "start_time": "2025-08-07T15:09:17.180Z"
   },
   {
    "duration": 6,
    "start_time": "2025-08-07T15:09:17.469Z"
   },
   {
    "duration": 37,
    "start_time": "2025-08-07T15:09:17.477Z"
   },
   {
    "duration": 8,
    "start_time": "2025-08-07T15:09:17.516Z"
   },
   {
    "duration": 208,
    "start_time": "2025-08-07T15:09:17.526Z"
   },
   {
    "duration": 5,
    "start_time": "2025-08-07T15:09:17.737Z"
   },
   {
    "duration": 141,
    "start_time": "2025-08-07T15:09:17.743Z"
   },
   {
    "duration": 5,
    "start_time": "2025-08-07T15:09:17.886Z"
   },
   {
    "duration": 88,
    "start_time": "2025-08-07T15:09:17.893Z"
   },
   {
    "duration": 5,
    "start_time": "2025-08-07T15:09:17.983Z"
   },
   {
    "duration": 92,
    "start_time": "2025-08-07T15:09:17.990Z"
   },
   {
    "duration": 70,
    "start_time": "2025-08-07T15:09:18.083Z"
   },
   {
    "duration": 0,
    "start_time": "2025-08-07T15:09:18.158Z"
   },
   {
    "duration": 0,
    "start_time": "2025-08-07T15:09:18.160Z"
   },
   {
    "duration": 0,
    "start_time": "2025-08-07T15:09:18.161Z"
   },
   {
    "duration": 0,
    "start_time": "2025-08-07T15:09:18.163Z"
   },
   {
    "duration": 0,
    "start_time": "2025-08-07T15:09:18.164Z"
   },
   {
    "duration": 0,
    "start_time": "2025-08-07T15:09:18.166Z"
   },
   {
    "duration": 0,
    "start_time": "2025-08-07T15:09:18.167Z"
   },
   {
    "duration": 0,
    "start_time": "2025-08-07T15:09:18.169Z"
   },
   {
    "duration": 0,
    "start_time": "2025-08-07T15:09:18.170Z"
   },
   {
    "duration": 0,
    "start_time": "2025-08-07T15:09:18.172Z"
   },
   {
    "duration": 0,
    "start_time": "2025-08-07T15:09:18.173Z"
   },
   {
    "duration": 0,
    "start_time": "2025-08-07T15:09:18.175Z"
   },
   {
    "duration": 0,
    "start_time": "2025-08-07T15:09:18.176Z"
   },
   {
    "duration": 0,
    "start_time": "2025-08-07T15:09:18.178Z"
   },
   {
    "duration": 0,
    "start_time": "2025-08-07T15:09:18.179Z"
   },
   {
    "duration": 0,
    "start_time": "2025-08-07T15:09:18.181Z"
   },
   {
    "duration": 0,
    "start_time": "2025-08-07T15:09:18.182Z"
   },
   {
    "duration": 0,
    "start_time": "2025-08-07T15:09:18.184Z"
   },
   {
    "duration": 0,
    "start_time": "2025-08-07T15:09:18.186Z"
   },
   {
    "duration": 0,
    "start_time": "2025-08-07T15:09:18.187Z"
   },
   {
    "duration": 0,
    "start_time": "2025-08-07T15:09:18.189Z"
   },
   {
    "duration": 0,
    "start_time": "2025-08-07T15:09:18.190Z"
   },
   {
    "duration": 0,
    "start_time": "2025-08-07T15:09:18.191Z"
   },
   {
    "duration": 0,
    "start_time": "2025-08-07T15:09:18.192Z"
   },
   {
    "duration": 0,
    "start_time": "2025-08-07T15:09:18.193Z"
   },
   {
    "duration": 0,
    "start_time": "2025-08-07T15:09:18.194Z"
   },
   {
    "duration": 0,
    "start_time": "2025-08-07T15:09:18.195Z"
   },
   {
    "duration": 0,
    "start_time": "2025-08-07T15:09:18.196Z"
   },
   {
    "duration": 0,
    "start_time": "2025-08-07T15:09:18.197Z"
   },
   {
    "duration": 0,
    "start_time": "2025-08-07T15:09:18.199Z"
   },
   {
    "duration": 0,
    "start_time": "2025-08-07T15:09:18.200Z"
   },
   {
    "duration": 0,
    "start_time": "2025-08-07T15:09:18.263Z"
   },
   {
    "duration": 0,
    "start_time": "2025-08-07T15:09:18.264Z"
   },
   {
    "duration": 0,
    "start_time": "2025-08-07T15:09:18.265Z"
   },
   {
    "duration": 0,
    "start_time": "2025-08-07T15:09:18.267Z"
   },
   {
    "duration": 0,
    "start_time": "2025-08-07T15:09:18.267Z"
   },
   {
    "duration": 0,
    "start_time": "2025-08-07T15:09:18.268Z"
   },
   {
    "duration": 0,
    "start_time": "2025-08-07T15:09:18.269Z"
   },
   {
    "duration": 0,
    "start_time": "2025-08-07T15:09:18.271Z"
   },
   {
    "duration": 0,
    "start_time": "2025-08-07T15:09:18.272Z"
   },
   {
    "duration": 0,
    "start_time": "2025-08-07T15:09:18.273Z"
   },
   {
    "duration": 0,
    "start_time": "2025-08-07T15:09:18.274Z"
   },
   {
    "duration": 0,
    "start_time": "2025-08-07T15:09:18.275Z"
   },
   {
    "duration": 0,
    "start_time": "2025-08-07T15:09:18.276Z"
   },
   {
    "duration": 0,
    "start_time": "2025-08-07T15:09:18.277Z"
   },
   {
    "duration": 0,
    "start_time": "2025-08-07T15:09:18.278Z"
   },
   {
    "duration": 0,
    "start_time": "2025-08-07T15:09:18.279Z"
   },
   {
    "duration": 0,
    "start_time": "2025-08-07T15:09:18.280Z"
   },
   {
    "duration": 0,
    "start_time": "2025-08-07T15:09:18.281Z"
   },
   {
    "duration": 0,
    "start_time": "2025-08-07T15:09:18.282Z"
   },
   {
    "duration": 0,
    "start_time": "2025-08-07T15:09:18.283Z"
   },
   {
    "duration": 0,
    "start_time": "2025-08-07T15:09:18.284Z"
   },
   {
    "duration": 0,
    "start_time": "2025-08-07T15:09:18.285Z"
   },
   {
    "duration": 0,
    "start_time": "2025-08-07T15:09:18.287Z"
   },
   {
    "duration": 0,
    "start_time": "2025-08-07T15:09:18.288Z"
   },
   {
    "duration": 0,
    "start_time": "2025-08-07T15:09:18.290Z"
   },
   {
    "duration": 0,
    "start_time": "2025-08-07T15:09:18.291Z"
   },
   {
    "duration": 0,
    "start_time": "2025-08-07T15:09:18.292Z"
   },
   {
    "duration": 0,
    "start_time": "2025-08-07T15:09:18.294Z"
   },
   {
    "duration": 0,
    "start_time": "2025-08-07T15:09:18.296Z"
   },
   {
    "duration": 0,
    "start_time": "2025-08-07T15:09:18.297Z"
   },
   {
    "duration": 0,
    "start_time": "2025-08-07T15:09:18.299Z"
   },
   {
    "duration": 0,
    "start_time": "2025-08-07T15:09:18.363Z"
   },
   {
    "duration": 0,
    "start_time": "2025-08-07T15:09:18.365Z"
   },
   {
    "duration": 0,
    "start_time": "2025-08-07T15:09:18.366Z"
   },
   {
    "duration": 0,
    "start_time": "2025-08-07T15:09:18.368Z"
   },
   {
    "duration": 0,
    "start_time": "2025-08-07T15:09:18.369Z"
   },
   {
    "duration": 0,
    "start_time": "2025-08-07T15:09:18.371Z"
   },
   {
    "duration": 0,
    "start_time": "2025-08-07T15:09:18.372Z"
   },
   {
    "duration": 0,
    "start_time": "2025-08-07T15:09:18.374Z"
   },
   {
    "duration": 0,
    "start_time": "2025-08-07T15:09:18.375Z"
   },
   {
    "duration": 0,
    "start_time": "2025-08-07T15:09:18.377Z"
   },
   {
    "duration": 0,
    "start_time": "2025-08-07T15:09:18.378Z"
   },
   {
    "duration": 0,
    "start_time": "2025-08-07T15:09:18.380Z"
   },
   {
    "duration": 0,
    "start_time": "2025-08-07T15:09:18.381Z"
   },
   {
    "duration": 0,
    "start_time": "2025-08-07T15:09:18.383Z"
   },
   {
    "duration": 0,
    "start_time": "2025-08-07T15:09:18.384Z"
   },
   {
    "duration": 0,
    "start_time": "2025-08-07T15:09:18.386Z"
   },
   {
    "duration": 0,
    "start_time": "2025-08-07T15:09:18.387Z"
   },
   {
    "duration": 1,
    "start_time": "2025-08-07T15:09:18.388Z"
   },
   {
    "duration": 0,
    "start_time": "2025-08-07T15:09:18.390Z"
   },
   {
    "duration": 0,
    "start_time": "2025-08-07T15:09:18.392Z"
   },
   {
    "duration": 0,
    "start_time": "2025-08-07T15:09:18.393Z"
   },
   {
    "duration": 0,
    "start_time": "2025-08-07T15:09:18.397Z"
   },
   {
    "duration": 0,
    "start_time": "2025-08-07T15:09:18.399Z"
   },
   {
    "duration": 0,
    "start_time": "2025-08-07T15:09:18.400Z"
   },
   {
    "duration": 0,
    "start_time": "2025-08-07T15:09:18.463Z"
   },
   {
    "duration": 0,
    "start_time": "2025-08-07T15:09:18.465Z"
   },
   {
    "duration": 0,
    "start_time": "2025-08-07T15:09:18.466Z"
   },
   {
    "duration": 0,
    "start_time": "2025-08-07T15:09:18.467Z"
   },
   {
    "duration": 0,
    "start_time": "2025-08-07T15:09:18.468Z"
   },
   {
    "duration": 0,
    "start_time": "2025-08-07T15:09:18.469Z"
   },
   {
    "duration": 0,
    "start_time": "2025-08-07T15:09:18.470Z"
   },
   {
    "duration": 0,
    "start_time": "2025-08-07T15:09:18.472Z"
   },
   {
    "duration": 0,
    "start_time": "2025-08-07T15:09:18.473Z"
   },
   {
    "duration": 0,
    "start_time": "2025-08-07T15:09:18.474Z"
   },
   {
    "duration": 0,
    "start_time": "2025-08-07T15:09:18.475Z"
   },
   {
    "duration": 0,
    "start_time": "2025-08-07T15:09:18.476Z"
   },
   {
    "duration": 0,
    "start_time": "2025-08-07T15:09:18.477Z"
   },
   {
    "duration": 0,
    "start_time": "2025-08-07T15:09:18.478Z"
   },
   {
    "duration": 0,
    "start_time": "2025-08-07T15:09:18.479Z"
   },
   {
    "duration": 0,
    "start_time": "2025-08-07T15:09:18.480Z"
   },
   {
    "duration": 0,
    "start_time": "2025-08-07T15:09:18.481Z"
   },
   {
    "duration": 0,
    "start_time": "2025-08-07T15:09:18.482Z"
   },
   {
    "duration": 0,
    "start_time": "2025-08-07T15:09:18.484Z"
   },
   {
    "duration": 0,
    "start_time": "2025-08-07T15:09:18.485Z"
   },
   {
    "duration": 0,
    "start_time": "2025-08-07T15:09:18.486Z"
   },
   {
    "duration": 0,
    "start_time": "2025-08-07T15:09:18.487Z"
   },
   {
    "duration": 0,
    "start_time": "2025-08-07T15:09:18.488Z"
   },
   {
    "duration": 5,
    "start_time": "2025-08-07T15:09:40.626Z"
   },
   {
    "duration": 11,
    "start_time": "2025-08-07T15:10:07.972Z"
   },
   {
    "duration": 7,
    "start_time": "2025-08-07T15:10:21.359Z"
   },
   {
    "duration": 11,
    "start_time": "2025-08-07T15:10:27.845Z"
   },
   {
    "duration": 10,
    "start_time": "2025-08-07T15:10:32.246Z"
   },
   {
    "duration": 9,
    "start_time": "2025-08-07T15:10:44.422Z"
   },
   {
    "duration": 13,
    "start_time": "2025-08-07T15:11:01.968Z"
   },
   {
    "duration": 326,
    "start_time": "2025-08-07T15:11:27.446Z"
   },
   {
    "duration": 4,
    "start_time": "2025-08-07T15:11:35.526Z"
   },
   {
    "duration": 4,
    "start_time": "2025-08-07T15:11:42.775Z"
   },
   {
    "duration": 11,
    "start_time": "2025-08-07T15:12:10.537Z"
   },
   {
    "duration": 10,
    "start_time": "2025-08-07T15:15:42.100Z"
   },
   {
    "duration": 11,
    "start_time": "2025-08-07T15:16:05.013Z"
   },
   {
    "duration": 13,
    "start_time": "2025-08-07T15:16:14.239Z"
   },
   {
    "duration": 39,
    "start_time": "2025-08-07T15:16:28.669Z"
   },
   {
    "duration": 24,
    "start_time": "2025-08-07T15:17:37.282Z"
   },
   {
    "duration": 24,
    "start_time": "2025-08-07T15:17:49.852Z"
   },
   {
    "duration": 34,
    "start_time": "2025-08-07T15:17:57.822Z"
   },
   {
    "duration": 20251,
    "start_time": "2025-08-07T15:34:46.853Z"
   },
   {
    "duration": 3614,
    "start_time": "2025-08-07T15:35:07.107Z"
   },
   {
    "duration": 10,
    "start_time": "2025-08-07T15:35:10.722Z"
   },
   {
    "duration": 8,
    "start_time": "2025-08-07T15:35:10.734Z"
   },
   {
    "duration": 31,
    "start_time": "2025-08-07T15:35:10.743Z"
   },
   {
    "duration": 53,
    "start_time": "2025-08-07T15:35:10.776Z"
   },
   {
    "duration": 24,
    "start_time": "2025-08-07T15:35:10.831Z"
   },
   {
    "duration": 24,
    "start_time": "2025-08-07T15:35:10.857Z"
   },
   {
    "duration": 31,
    "start_time": "2025-08-07T15:35:10.882Z"
   },
   {
    "duration": 6,
    "start_time": "2025-08-07T15:35:10.916Z"
   },
   {
    "duration": 45,
    "start_time": "2025-08-07T15:35:10.924Z"
   },
   {
    "duration": 138,
    "start_time": "2025-08-07T15:35:10.971Z"
   },
   {
    "duration": 68,
    "start_time": "2025-08-07T15:35:11.111Z"
   },
   {
    "duration": 16,
    "start_time": "2025-08-07T15:35:11.181Z"
   },
   {
    "duration": 86,
    "start_time": "2025-08-07T15:35:11.199Z"
   },
   {
    "duration": 32,
    "start_time": "2025-08-07T15:35:11.287Z"
   },
   {
    "duration": 52,
    "start_time": "2025-08-07T15:35:11.321Z"
   },
   {
    "duration": 19,
    "start_time": "2025-08-07T15:35:11.375Z"
   },
   {
    "duration": 14,
    "start_time": "2025-08-07T15:35:11.395Z"
   },
   {
    "duration": 82,
    "start_time": "2025-08-07T15:35:11.410Z"
   },
   {
    "duration": 3,
    "start_time": "2025-08-07T15:35:11.494Z"
   },
   {
    "duration": 80,
    "start_time": "2025-08-07T15:35:11.498Z"
   },
   {
    "duration": 22,
    "start_time": "2025-08-07T15:35:11.580Z"
   },
   {
    "duration": 4,
    "start_time": "2025-08-07T15:35:11.604Z"
   },
   {
    "duration": 4,
    "start_time": "2025-08-07T15:35:11.610Z"
   },
   {
    "duration": 16,
    "start_time": "2025-08-07T15:35:11.666Z"
   },
   {
    "duration": 6,
    "start_time": "2025-08-07T15:35:11.683Z"
   },
   {
    "duration": 8,
    "start_time": "2025-08-07T15:35:11.693Z"
   },
   {
    "duration": 72,
    "start_time": "2025-08-07T15:35:11.702Z"
   },
   {
    "duration": 3,
    "start_time": "2025-08-07T15:35:11.776Z"
   },
   {
    "duration": 119,
    "start_time": "2025-08-07T15:35:11.780Z"
   },
   {
    "duration": 16,
    "start_time": "2025-08-07T15:35:11.901Z"
   },
   {
    "duration": 45,
    "start_time": "2025-08-07T15:35:11.918Z"
   },
   {
    "duration": 382,
    "start_time": "2025-08-07T15:35:11.965Z"
   },
   {
    "duration": 5,
    "start_time": "2025-08-07T15:35:12.348Z"
   },
   {
    "duration": 66,
    "start_time": "2025-08-07T15:35:12.355Z"
   },
   {
    "duration": 33,
    "start_time": "2025-08-07T15:35:12.422Z"
   },
   {
    "duration": 201,
    "start_time": "2025-08-07T15:35:12.456Z"
   },
   {
    "duration": 8,
    "start_time": "2025-08-07T15:35:12.659Z"
   },
   {
    "duration": 136,
    "start_time": "2025-08-07T15:35:12.670Z"
   },
   {
    "duration": 68,
    "start_time": "2025-08-07T15:35:12.807Z"
   },
   {
    "duration": 59,
    "start_time": "2025-08-07T15:35:12.877Z"
   },
   {
    "duration": 6,
    "start_time": "2025-08-07T15:35:12.937Z"
   },
   {
    "duration": 75,
    "start_time": "2025-08-07T15:35:12.944Z"
   },
   {
    "duration": 73,
    "start_time": "2025-08-07T15:35:13.021Z"
   },
   {
    "duration": 0,
    "start_time": "2025-08-07T15:35:13.097Z"
   },
   {
    "duration": 0,
    "start_time": "2025-08-07T15:35:13.098Z"
   },
   {
    "duration": 0,
    "start_time": "2025-08-07T15:35:13.099Z"
   },
   {
    "duration": 0,
    "start_time": "2025-08-07T15:35:13.100Z"
   },
   {
    "duration": 0,
    "start_time": "2025-08-07T15:35:13.101Z"
   },
   {
    "duration": 0,
    "start_time": "2025-08-07T15:35:13.102Z"
   },
   {
    "duration": 0,
    "start_time": "2025-08-07T15:35:13.103Z"
   },
   {
    "duration": 0,
    "start_time": "2025-08-07T15:35:13.104Z"
   },
   {
    "duration": 0,
    "start_time": "2025-08-07T15:35:13.105Z"
   },
   {
    "duration": 0,
    "start_time": "2025-08-07T15:35:13.106Z"
   },
   {
    "duration": 0,
    "start_time": "2025-08-07T15:35:13.107Z"
   },
   {
    "duration": 0,
    "start_time": "2025-08-07T15:35:13.108Z"
   },
   {
    "duration": 0,
    "start_time": "2025-08-07T15:35:13.109Z"
   },
   {
    "duration": 0,
    "start_time": "2025-08-07T15:35:13.110Z"
   },
   {
    "duration": 0,
    "start_time": "2025-08-07T15:35:13.111Z"
   },
   {
    "duration": 0,
    "start_time": "2025-08-07T15:35:13.111Z"
   },
   {
    "duration": 0,
    "start_time": "2025-08-07T15:35:13.112Z"
   },
   {
    "duration": 0,
    "start_time": "2025-08-07T15:35:13.114Z"
   },
   {
    "duration": 0,
    "start_time": "2025-08-07T15:35:13.114Z"
   },
   {
    "duration": 0,
    "start_time": "2025-08-07T15:35:13.115Z"
   },
   {
    "duration": 0,
    "start_time": "2025-08-07T15:35:13.117Z"
   },
   {
    "duration": 0,
    "start_time": "2025-08-07T15:35:13.118Z"
   },
   {
    "duration": 0,
    "start_time": "2025-08-07T15:35:13.119Z"
   },
   {
    "duration": 0,
    "start_time": "2025-08-07T15:35:13.120Z"
   },
   {
    "duration": 0,
    "start_time": "2025-08-07T15:35:13.121Z"
   },
   {
    "duration": 0,
    "start_time": "2025-08-07T15:35:13.122Z"
   },
   {
    "duration": 0,
    "start_time": "2025-08-07T15:35:13.122Z"
   },
   {
    "duration": 0,
    "start_time": "2025-08-07T15:35:13.123Z"
   },
   {
    "duration": 0,
    "start_time": "2025-08-07T15:35:13.124Z"
   },
   {
    "duration": 0,
    "start_time": "2025-08-07T15:35:13.125Z"
   },
   {
    "duration": 0,
    "start_time": "2025-08-07T15:35:13.126Z"
   },
   {
    "duration": 0,
    "start_time": "2025-08-07T15:35:13.127Z"
   },
   {
    "duration": 0,
    "start_time": "2025-08-07T15:35:13.128Z"
   },
   {
    "duration": 0,
    "start_time": "2025-08-07T15:35:13.129Z"
   },
   {
    "duration": 0,
    "start_time": "2025-08-07T15:35:13.130Z"
   },
   {
    "duration": 0,
    "start_time": "2025-08-07T15:35:13.131Z"
   },
   {
    "duration": 0,
    "start_time": "2025-08-07T15:35:13.132Z"
   },
   {
    "duration": 0,
    "start_time": "2025-08-07T15:35:13.133Z"
   },
   {
    "duration": 0,
    "start_time": "2025-08-07T15:35:13.167Z"
   },
   {
    "duration": 0,
    "start_time": "2025-08-07T15:35:13.168Z"
   },
   {
    "duration": 0,
    "start_time": "2025-08-07T15:35:13.169Z"
   },
   {
    "duration": 0,
    "start_time": "2025-08-07T15:35:13.170Z"
   },
   {
    "duration": 0,
    "start_time": "2025-08-07T15:35:13.171Z"
   },
   {
    "duration": 0,
    "start_time": "2025-08-07T15:35:13.171Z"
   },
   {
    "duration": 0,
    "start_time": "2025-08-07T15:35:13.172Z"
   },
   {
    "duration": 0,
    "start_time": "2025-08-07T15:35:13.173Z"
   },
   {
    "duration": 0,
    "start_time": "2025-08-07T15:35:13.174Z"
   },
   {
    "duration": 0,
    "start_time": "2025-08-07T15:35:13.175Z"
   },
   {
    "duration": 0,
    "start_time": "2025-08-07T15:35:13.176Z"
   },
   {
    "duration": 0,
    "start_time": "2025-08-07T15:35:13.178Z"
   },
   {
    "duration": 0,
    "start_time": "2025-08-07T15:35:13.179Z"
   },
   {
    "duration": 0,
    "start_time": "2025-08-07T15:35:13.180Z"
   },
   {
    "duration": 0,
    "start_time": "2025-08-07T15:35:13.181Z"
   },
   {
    "duration": 0,
    "start_time": "2025-08-07T15:35:13.182Z"
   },
   {
    "duration": 0,
    "start_time": "2025-08-07T15:35:13.183Z"
   },
   {
    "duration": 0,
    "start_time": "2025-08-07T15:35:13.184Z"
   },
   {
    "duration": 0,
    "start_time": "2025-08-07T15:35:13.185Z"
   },
   {
    "duration": 0,
    "start_time": "2025-08-07T15:35:13.186Z"
   },
   {
    "duration": 0,
    "start_time": "2025-08-07T15:35:13.187Z"
   },
   {
    "duration": 0,
    "start_time": "2025-08-07T15:35:13.188Z"
   },
   {
    "duration": 0,
    "start_time": "2025-08-07T15:35:13.189Z"
   },
   {
    "duration": 0,
    "start_time": "2025-08-07T15:35:13.190Z"
   },
   {
    "duration": 0,
    "start_time": "2025-08-07T15:35:13.191Z"
   },
   {
    "duration": 0,
    "start_time": "2025-08-07T15:35:13.192Z"
   },
   {
    "duration": 0,
    "start_time": "2025-08-07T15:35:13.193Z"
   },
   {
    "duration": 0,
    "start_time": "2025-08-07T15:35:13.194Z"
   },
   {
    "duration": 0,
    "start_time": "2025-08-07T15:35:13.195Z"
   },
   {
    "duration": 0,
    "start_time": "2025-08-07T15:35:13.196Z"
   },
   {
    "duration": 0,
    "start_time": "2025-08-07T15:35:13.196Z"
   },
   {
    "duration": 0,
    "start_time": "2025-08-07T15:35:13.197Z"
   },
   {
    "duration": 0,
    "start_time": "2025-08-07T15:35:13.198Z"
   },
   {
    "duration": 0,
    "start_time": "2025-08-07T15:35:13.199Z"
   },
   {
    "duration": 0,
    "start_time": "2025-08-07T15:35:13.200Z"
   },
   {
    "duration": 0,
    "start_time": "2025-08-07T15:35:13.201Z"
   },
   {
    "duration": 0,
    "start_time": "2025-08-07T15:35:13.202Z"
   },
   {
    "duration": 0,
    "start_time": "2025-08-07T15:35:13.203Z"
   },
   {
    "duration": 0,
    "start_time": "2025-08-07T15:35:13.204Z"
   },
   {
    "duration": 0,
    "start_time": "2025-08-07T15:35:13.205Z"
   },
   {
    "duration": 0,
    "start_time": "2025-08-07T15:35:13.206Z"
   },
   {
    "duration": 0,
    "start_time": "2025-08-07T15:35:13.264Z"
   },
   {
    "duration": 0,
    "start_time": "2025-08-07T15:35:13.265Z"
   },
   {
    "duration": 0,
    "start_time": "2025-08-07T15:35:13.266Z"
   },
   {
    "duration": 0,
    "start_time": "2025-08-07T15:35:13.266Z"
   },
   {
    "duration": 0,
    "start_time": "2025-08-07T15:35:13.267Z"
   },
   {
    "duration": 0,
    "start_time": "2025-08-07T15:35:13.268Z"
   },
   {
    "duration": 0,
    "start_time": "2025-08-07T15:35:13.268Z"
   },
   {
    "duration": 0,
    "start_time": "2025-08-07T15:35:13.274Z"
   },
   {
    "duration": 0,
    "start_time": "2025-08-07T15:35:13.281Z"
   },
   {
    "duration": 0,
    "start_time": "2025-08-07T15:35:13.283Z"
   },
   {
    "duration": 0,
    "start_time": "2025-08-07T15:35:13.284Z"
   },
   {
    "duration": 0,
    "start_time": "2025-08-07T15:35:13.285Z"
   },
   {
    "duration": 0,
    "start_time": "2025-08-07T15:35:13.286Z"
   },
   {
    "duration": 0,
    "start_time": "2025-08-07T15:35:13.287Z"
   },
   {
    "duration": 0,
    "start_time": "2025-08-07T15:35:13.288Z"
   },
   {
    "duration": 0,
    "start_time": "2025-08-07T15:35:13.289Z"
   },
   {
    "duration": 0,
    "start_time": "2025-08-07T15:35:13.290Z"
   },
   {
    "duration": 0,
    "start_time": "2025-08-07T15:35:13.291Z"
   },
   {
    "duration": 0,
    "start_time": "2025-08-07T15:35:13.293Z"
   },
   {
    "duration": 0,
    "start_time": "2025-08-07T15:35:13.294Z"
   },
   {
    "duration": 0,
    "start_time": "2025-08-07T15:35:13.295Z"
   },
   {
    "duration": 0,
    "start_time": "2025-08-07T15:35:13.296Z"
   },
   {
    "duration": 0,
    "start_time": "2025-08-07T15:35:13.297Z"
   },
   {
    "duration": 0,
    "start_time": "2025-08-07T15:35:13.298Z"
   },
   {
    "duration": 0,
    "start_time": "2025-08-07T15:35:13.300Z"
   },
   {
    "duration": 0,
    "start_time": "2025-08-07T15:35:13.301Z"
   },
   {
    "duration": 0,
    "start_time": "2025-08-07T15:35:13.302Z"
   },
   {
    "duration": 0,
    "start_time": "2025-08-07T15:35:13.303Z"
   },
   {
    "duration": 0,
    "start_time": "2025-08-07T15:35:13.304Z"
   },
   {
    "duration": 20000,
    "start_time": "2025-08-07T15:36:04.623Z"
   },
   {
    "duration": 3748,
    "start_time": "2025-08-07T15:36:24.626Z"
   },
   {
    "duration": 11,
    "start_time": "2025-08-07T15:36:28.376Z"
   },
   {
    "duration": 62,
    "start_time": "2025-08-07T15:36:28.389Z"
   },
   {
    "duration": 12,
    "start_time": "2025-08-07T15:36:28.453Z"
   },
   {
    "duration": 26,
    "start_time": "2025-08-07T15:36:28.467Z"
   },
   {
    "duration": 18,
    "start_time": "2025-08-07T15:36:28.494Z"
   },
   {
    "duration": 9,
    "start_time": "2025-08-07T15:36:28.514Z"
   },
   {
    "duration": 78,
    "start_time": "2025-08-07T15:36:28.524Z"
   },
   {
    "duration": 7,
    "start_time": "2025-08-07T15:36:28.604Z"
   },
   {
    "duration": 10,
    "start_time": "2025-08-07T15:36:28.612Z"
   },
   {
    "duration": 109,
    "start_time": "2025-08-07T15:36:28.623Z"
   },
   {
    "duration": 26,
    "start_time": "2025-08-07T15:36:28.734Z"
   },
   {
    "duration": 22,
    "start_time": "2025-08-07T15:36:28.762Z"
   },
   {
    "duration": 89,
    "start_time": "2025-08-07T15:36:28.786Z"
   },
   {
    "duration": 15,
    "start_time": "2025-08-07T15:36:28.876Z"
   },
   {
    "duration": 4,
    "start_time": "2025-08-07T15:36:28.893Z"
   },
   {
    "duration": 26,
    "start_time": "2025-08-07T15:36:28.899Z"
   },
   {
    "duration": 14,
    "start_time": "2025-08-07T15:36:28.926Z"
   },
   {
    "duration": 55,
    "start_time": "2025-08-07T15:36:28.941Z"
   },
   {
    "duration": 4,
    "start_time": "2025-08-07T15:36:28.998Z"
   },
   {
    "duration": 31,
    "start_time": "2025-08-07T15:36:29.004Z"
   },
   {
    "duration": 13,
    "start_time": "2025-08-07T15:36:29.037Z"
   },
   {
    "duration": 5,
    "start_time": "2025-08-07T15:36:29.052Z"
   },
   {
    "duration": 28,
    "start_time": "2025-08-07T15:36:29.059Z"
   },
   {
    "duration": 29,
    "start_time": "2025-08-07T15:36:29.088Z"
   },
   {
    "duration": 15,
    "start_time": "2025-08-07T15:36:29.119Z"
   },
   {
    "duration": 8,
    "start_time": "2025-08-07T15:36:29.138Z"
   },
   {
    "duration": 27,
    "start_time": "2025-08-07T15:36:29.148Z"
   },
   {
    "duration": 12,
    "start_time": "2025-08-07T15:36:29.177Z"
   },
   {
    "duration": 18,
    "start_time": "2025-08-07T15:36:29.191Z"
   },
   {
    "duration": 10,
    "start_time": "2025-08-07T15:36:29.211Z"
   },
   {
    "duration": 327,
    "start_time": "2025-08-07T15:36:29.223Z"
   },
   {
    "duration": 0,
    "start_time": "2025-08-07T15:36:29.554Z"
   },
   {
    "duration": 0,
    "start_time": "2025-08-07T15:36:29.561Z"
   },
   {
    "duration": 0,
    "start_time": "2025-08-07T15:36:29.565Z"
   },
   {
    "duration": 0,
    "start_time": "2025-08-07T15:36:29.566Z"
   },
   {
    "duration": 0,
    "start_time": "2025-08-07T15:36:29.567Z"
   },
   {
    "duration": 0,
    "start_time": "2025-08-07T15:36:29.569Z"
   },
   {
    "duration": 0,
    "start_time": "2025-08-07T15:36:29.570Z"
   },
   {
    "duration": 0,
    "start_time": "2025-08-07T15:36:29.571Z"
   },
   {
    "duration": 0,
    "start_time": "2025-08-07T15:36:29.572Z"
   },
   {
    "duration": 0,
    "start_time": "2025-08-07T15:36:29.574Z"
   },
   {
    "duration": 0,
    "start_time": "2025-08-07T15:36:29.575Z"
   },
   {
    "duration": 0,
    "start_time": "2025-08-07T15:36:29.577Z"
   },
   {
    "duration": 0,
    "start_time": "2025-08-07T15:36:29.578Z"
   },
   {
    "duration": 0,
    "start_time": "2025-08-07T15:36:29.579Z"
   },
   {
    "duration": 0,
    "start_time": "2025-08-07T15:36:29.581Z"
   },
   {
    "duration": 0,
    "start_time": "2025-08-07T15:36:29.582Z"
   },
   {
    "duration": 0,
    "start_time": "2025-08-07T15:36:29.582Z"
   },
   {
    "duration": 0,
    "start_time": "2025-08-07T15:36:29.583Z"
   },
   {
    "duration": 0,
    "start_time": "2025-08-07T15:36:29.584Z"
   },
   {
    "duration": 0,
    "start_time": "2025-08-07T15:36:29.585Z"
   },
   {
    "duration": 0,
    "start_time": "2025-08-07T15:36:29.586Z"
   },
   {
    "duration": 0,
    "start_time": "2025-08-07T15:36:29.587Z"
   },
   {
    "duration": 0,
    "start_time": "2025-08-07T15:36:29.588Z"
   },
   {
    "duration": 0,
    "start_time": "2025-08-07T15:36:29.589Z"
   },
   {
    "duration": 0,
    "start_time": "2025-08-07T15:36:29.590Z"
   },
   {
    "duration": 0,
    "start_time": "2025-08-07T15:36:29.591Z"
   },
   {
    "duration": 0,
    "start_time": "2025-08-07T15:36:29.592Z"
   },
   {
    "duration": 0,
    "start_time": "2025-08-07T15:36:29.593Z"
   },
   {
    "duration": 0,
    "start_time": "2025-08-07T15:36:29.594Z"
   },
   {
    "duration": 0,
    "start_time": "2025-08-07T15:36:29.595Z"
   },
   {
    "duration": 0,
    "start_time": "2025-08-07T15:36:29.596Z"
   },
   {
    "duration": 0,
    "start_time": "2025-08-07T15:36:29.597Z"
   },
   {
    "duration": 0,
    "start_time": "2025-08-07T15:36:29.598Z"
   },
   {
    "duration": 0,
    "start_time": "2025-08-07T15:36:29.599Z"
   },
   {
    "duration": 0,
    "start_time": "2025-08-07T15:36:29.600Z"
   },
   {
    "duration": 0,
    "start_time": "2025-08-07T15:36:29.601Z"
   },
   {
    "duration": 0,
    "start_time": "2025-08-07T15:36:29.602Z"
   },
   {
    "duration": 0,
    "start_time": "2025-08-07T15:36:29.603Z"
   },
   {
    "duration": 0,
    "start_time": "2025-08-07T15:36:29.662Z"
   },
   {
    "duration": 0,
    "start_time": "2025-08-07T15:36:29.665Z"
   },
   {
    "duration": 0,
    "start_time": "2025-08-07T15:36:29.667Z"
   },
   {
    "duration": 0,
    "start_time": "2025-08-07T15:36:29.668Z"
   },
   {
    "duration": 0,
    "start_time": "2025-08-07T15:36:29.669Z"
   },
   {
    "duration": 0,
    "start_time": "2025-08-07T15:36:29.672Z"
   },
   {
    "duration": 0,
    "start_time": "2025-08-07T15:36:29.678Z"
   },
   {
    "duration": 0,
    "start_time": "2025-08-07T15:36:29.680Z"
   },
   {
    "duration": 0,
    "start_time": "2025-08-07T15:36:29.682Z"
   },
   {
    "duration": 0,
    "start_time": "2025-08-07T15:36:29.683Z"
   },
   {
    "duration": 0,
    "start_time": "2025-08-07T15:36:29.685Z"
   },
   {
    "duration": 0,
    "start_time": "2025-08-07T15:36:29.686Z"
   },
   {
    "duration": 0,
    "start_time": "2025-08-07T15:36:29.687Z"
   },
   {
    "duration": 0,
    "start_time": "2025-08-07T15:36:29.687Z"
   },
   {
    "duration": 0,
    "start_time": "2025-08-07T15:36:29.688Z"
   },
   {
    "duration": 0,
    "start_time": "2025-08-07T15:36:29.689Z"
   },
   {
    "duration": 0,
    "start_time": "2025-08-07T15:36:29.690Z"
   },
   {
    "duration": 0,
    "start_time": "2025-08-07T15:36:29.691Z"
   },
   {
    "duration": 0,
    "start_time": "2025-08-07T15:36:29.692Z"
   },
   {
    "duration": 0,
    "start_time": "2025-08-07T15:36:29.693Z"
   },
   {
    "duration": 0,
    "start_time": "2025-08-07T15:36:29.694Z"
   },
   {
    "duration": 0,
    "start_time": "2025-08-07T15:36:29.695Z"
   },
   {
    "duration": 0,
    "start_time": "2025-08-07T15:36:29.696Z"
   },
   {
    "duration": 0,
    "start_time": "2025-08-07T15:36:29.697Z"
   },
   {
    "duration": 0,
    "start_time": "2025-08-07T15:36:29.698Z"
   },
   {
    "duration": 0,
    "start_time": "2025-08-07T15:36:29.699Z"
   },
   {
    "duration": 0,
    "start_time": "2025-08-07T15:36:29.700Z"
   },
   {
    "duration": 0,
    "start_time": "2025-08-07T15:36:29.700Z"
   },
   {
    "duration": 0,
    "start_time": "2025-08-07T15:36:29.702Z"
   },
   {
    "duration": 0,
    "start_time": "2025-08-07T15:36:29.702Z"
   },
   {
    "duration": 0,
    "start_time": "2025-08-07T15:36:29.703Z"
   },
   {
    "duration": 0,
    "start_time": "2025-08-07T15:36:29.704Z"
   },
   {
    "duration": 0,
    "start_time": "2025-08-07T15:36:29.764Z"
   },
   {
    "duration": 0,
    "start_time": "2025-08-07T15:36:29.766Z"
   },
   {
    "duration": 0,
    "start_time": "2025-08-07T15:36:29.767Z"
   },
   {
    "duration": 0,
    "start_time": "2025-08-07T15:36:29.768Z"
   },
   {
    "duration": 0,
    "start_time": "2025-08-07T15:36:29.770Z"
   },
   {
    "duration": 0,
    "start_time": "2025-08-07T15:36:29.770Z"
   },
   {
    "duration": 0,
    "start_time": "2025-08-07T15:36:29.772Z"
   },
   {
    "duration": 0,
    "start_time": "2025-08-07T15:36:29.775Z"
   },
   {
    "duration": 0,
    "start_time": "2025-08-07T15:36:29.776Z"
   },
   {
    "duration": 0,
    "start_time": "2025-08-07T15:36:29.778Z"
   },
   {
    "duration": 0,
    "start_time": "2025-08-07T15:36:29.779Z"
   },
   {
    "duration": 0,
    "start_time": "2025-08-07T15:36:29.781Z"
   },
   {
    "duration": 0,
    "start_time": "2025-08-07T15:36:29.782Z"
   },
   {
    "duration": 0,
    "start_time": "2025-08-07T15:36:29.783Z"
   },
   {
    "duration": 0,
    "start_time": "2025-08-07T15:36:29.784Z"
   },
   {
    "duration": 0,
    "start_time": "2025-08-07T15:36:29.786Z"
   },
   {
    "duration": 0,
    "start_time": "2025-08-07T15:36:29.787Z"
   },
   {
    "duration": 0,
    "start_time": "2025-08-07T15:36:29.789Z"
   },
   {
    "duration": 0,
    "start_time": "2025-08-07T15:36:29.790Z"
   },
   {
    "duration": 0,
    "start_time": "2025-08-07T15:36:29.791Z"
   },
   {
    "duration": 0,
    "start_time": "2025-08-07T15:36:29.792Z"
   },
   {
    "duration": 0,
    "start_time": "2025-08-07T15:36:29.794Z"
   },
   {
    "duration": 0,
    "start_time": "2025-08-07T15:36:29.795Z"
   },
   {
    "duration": 0,
    "start_time": "2025-08-07T15:36:29.796Z"
   },
   {
    "duration": 0,
    "start_time": "2025-08-07T15:36:29.797Z"
   },
   {
    "duration": 0,
    "start_time": "2025-08-07T15:36:29.798Z"
   },
   {
    "duration": 0,
    "start_time": "2025-08-07T15:36:29.799Z"
   },
   {
    "duration": 0,
    "start_time": "2025-08-07T15:36:29.800Z"
   },
   {
    "duration": 0,
    "start_time": "2025-08-07T15:36:29.801Z"
   },
   {
    "duration": 0,
    "start_time": "2025-08-07T15:36:29.802Z"
   },
   {
    "duration": 0,
    "start_time": "2025-08-07T15:36:29.803Z"
   },
   {
    "duration": 0,
    "start_time": "2025-08-07T15:36:29.864Z"
   },
   {
    "duration": 0,
    "start_time": "2025-08-07T15:36:29.865Z"
   },
   {
    "duration": 0,
    "start_time": "2025-08-07T15:36:29.866Z"
   },
   {
    "duration": 0,
    "start_time": "2025-08-07T15:36:29.867Z"
   },
   {
    "duration": 0,
    "start_time": "2025-08-07T15:36:29.867Z"
   },
   {
    "duration": 0,
    "start_time": "2025-08-07T15:36:29.868Z"
   },
   {
    "duration": 0,
    "start_time": "2025-08-07T15:36:29.868Z"
   },
   {
    "duration": 0,
    "start_time": "2025-08-07T15:36:29.869Z"
   },
   {
    "duration": 0,
    "start_time": "2025-08-07T15:36:29.870Z"
   },
   {
    "duration": 0,
    "start_time": "2025-08-07T15:36:29.871Z"
   },
   {
    "duration": 0,
    "start_time": "2025-08-07T15:36:30.209Z"
   },
   {
    "duration": 0,
    "start_time": "2025-08-07T15:36:30.211Z"
   },
   {
    "duration": 0,
    "start_time": "2025-08-07T15:36:30.212Z"
   },
   {
    "duration": 0,
    "start_time": "2025-08-07T15:36:30.214Z"
   },
   {
    "duration": 1,
    "start_time": "2025-08-07T15:36:30.214Z"
   },
   {
    "duration": 0,
    "start_time": "2025-08-07T15:36:30.215Z"
   },
   {
    "duration": 0,
    "start_time": "2025-08-07T15:36:30.216Z"
   },
   {
    "duration": 0,
    "start_time": "2025-08-07T15:36:30.218Z"
   },
   {
    "duration": 6,
    "start_time": "2025-08-07T15:36:54.506Z"
   },
   {
    "duration": 434,
    "start_time": "2025-08-07T15:37:13.613Z"
   },
   {
    "duration": 7,
    "start_time": "2025-08-07T15:37:21.331Z"
   },
   {
    "duration": 36,
    "start_time": "2025-08-07T15:37:37.147Z"
   },
   {
    "duration": 19,
    "start_time": "2025-08-07T15:37:45.853Z"
   },
   {
    "duration": 453,
    "start_time": "2025-08-07T15:37:58.386Z"
   },
   {
    "duration": 4,
    "start_time": "2025-08-07T15:38:44.506Z"
   },
   {
    "duration": 3,
    "start_time": "2025-08-07T15:38:53.986Z"
   },
   {
    "duration": 4,
    "start_time": "2025-08-07T15:39:13.141Z"
   },
   {
    "duration": 4,
    "start_time": "2025-08-07T15:39:22.076Z"
   },
   {
    "duration": 4,
    "start_time": "2025-08-07T15:39:27.852Z"
   },
   {
    "duration": 504,
    "start_time": "2025-08-07T15:39:57.406Z"
   },
   {
    "duration": 438,
    "start_time": "2025-08-07T15:40:12.013Z"
   },
   {
    "duration": 4,
    "start_time": "2025-08-07T15:40:54.026Z"
   },
   {
    "duration": 8,
    "start_time": "2025-08-07T15:40:58.067Z"
   },
   {
    "duration": 5,
    "start_time": "2025-08-07T15:41:05.471Z"
   },
   {
    "duration": 73,
    "start_time": "2025-08-07T15:41:25.694Z"
   },
   {
    "duration": 78,
    "start_time": "2025-08-07T15:42:05.782Z"
   },
   {
    "duration": 21992,
    "start_time": "2025-08-07T15:42:29.609Z"
   },
   {
    "duration": 3732,
    "start_time": "2025-08-07T15:42:51.604Z"
   },
   {
    "duration": 10,
    "start_time": "2025-08-07T15:42:55.338Z"
   },
   {
    "duration": 26,
    "start_time": "2025-08-07T15:42:55.350Z"
   },
   {
    "duration": 15,
    "start_time": "2025-08-07T15:42:55.378Z"
   },
   {
    "duration": 9,
    "start_time": "2025-08-07T15:42:55.395Z"
   },
   {
    "duration": 13,
    "start_time": "2025-08-07T15:42:55.406Z"
   },
   {
    "duration": 10,
    "start_time": "2025-08-07T15:42:55.421Z"
   },
   {
    "duration": 8,
    "start_time": "2025-08-07T15:42:55.433Z"
   },
   {
    "duration": 34,
    "start_time": "2025-08-07T15:42:55.443Z"
   },
   {
    "duration": 19,
    "start_time": "2025-08-07T15:42:55.479Z"
   },
   {
    "duration": 108,
    "start_time": "2025-08-07T15:42:55.500Z"
   },
   {
    "duration": 29,
    "start_time": "2025-08-07T15:42:55.610Z"
   },
   {
    "duration": 24,
    "start_time": "2025-08-07T15:42:55.643Z"
   },
   {
    "duration": 20,
    "start_time": "2025-08-07T15:42:55.675Z"
   },
   {
    "duration": 14,
    "start_time": "2025-08-07T15:42:55.697Z"
   },
   {
    "duration": 3,
    "start_time": "2025-08-07T15:42:55.712Z"
   },
   {
    "duration": 19,
    "start_time": "2025-08-07T15:42:55.717Z"
   },
   {
    "duration": 45,
    "start_time": "2025-08-07T15:42:55.738Z"
   },
   {
    "duration": 36,
    "start_time": "2025-08-07T15:42:55.785Z"
   },
   {
    "duration": 3,
    "start_time": "2025-08-07T15:42:55.823Z"
   },
   {
    "duration": 95,
    "start_time": "2025-08-07T15:42:55.828Z"
   },
   {
    "duration": 10,
    "start_time": "2025-08-07T15:42:55.925Z"
   },
   {
    "duration": 3,
    "start_time": "2025-08-07T15:42:55.937Z"
   },
   {
    "duration": 5,
    "start_time": "2025-08-07T15:42:55.941Z"
   },
   {
    "duration": 11,
    "start_time": "2025-08-07T15:42:55.947Z"
   },
   {
    "duration": 13,
    "start_time": "2025-08-07T15:42:55.960Z"
   },
   {
    "duration": 20,
    "start_time": "2025-08-07T15:42:55.977Z"
   },
   {
    "duration": 11,
    "start_time": "2025-08-07T15:42:55.999Z"
   },
   {
    "duration": 15,
    "start_time": "2025-08-07T15:42:56.012Z"
   },
   {
    "duration": 16,
    "start_time": "2025-08-07T15:42:56.029Z"
   },
   {
    "duration": 5,
    "start_time": "2025-08-07T15:42:56.047Z"
   },
   {
    "duration": 91,
    "start_time": "2025-08-07T15:42:56.053Z"
   },
   {
    "duration": 337,
    "start_time": "2025-08-07T15:42:56.145Z"
   },
   {
    "duration": 0,
    "start_time": "2025-08-07T15:42:56.488Z"
   },
   {
    "duration": 0,
    "start_time": "2025-08-07T15:42:56.489Z"
   },
   {
    "duration": 0,
    "start_time": "2025-08-07T15:42:56.491Z"
   },
   {
    "duration": 0,
    "start_time": "2025-08-07T15:42:56.493Z"
   },
   {
    "duration": 0,
    "start_time": "2025-08-07T15:42:56.495Z"
   },
   {
    "duration": 0,
    "start_time": "2025-08-07T15:42:56.496Z"
   },
   {
    "duration": 0,
    "start_time": "2025-08-07T15:42:56.498Z"
   },
   {
    "duration": 0,
    "start_time": "2025-08-07T15:42:56.500Z"
   },
   {
    "duration": 0,
    "start_time": "2025-08-07T15:42:56.501Z"
   },
   {
    "duration": 0,
    "start_time": "2025-08-07T15:42:56.503Z"
   },
   {
    "duration": 0,
    "start_time": "2025-08-07T15:42:56.504Z"
   },
   {
    "duration": 0,
    "start_time": "2025-08-07T15:42:56.506Z"
   },
   {
    "duration": 0,
    "start_time": "2025-08-07T15:42:56.507Z"
   },
   {
    "duration": 0,
    "start_time": "2025-08-07T15:42:56.509Z"
   },
   {
    "duration": 0,
    "start_time": "2025-08-07T15:42:56.510Z"
   },
   {
    "duration": 0,
    "start_time": "2025-08-07T15:42:56.512Z"
   },
   {
    "duration": 0,
    "start_time": "2025-08-07T15:42:56.514Z"
   },
   {
    "duration": 0,
    "start_time": "2025-08-07T15:42:56.515Z"
   },
   {
    "duration": 0,
    "start_time": "2025-08-07T15:42:56.517Z"
   },
   {
    "duration": 0,
    "start_time": "2025-08-07T15:42:56.519Z"
   },
   {
    "duration": 0,
    "start_time": "2025-08-07T15:42:56.520Z"
   },
   {
    "duration": 0,
    "start_time": "2025-08-07T15:42:56.522Z"
   },
   {
    "duration": 0,
    "start_time": "2025-08-07T15:42:56.563Z"
   },
   {
    "duration": 0,
    "start_time": "2025-08-07T15:42:56.564Z"
   },
   {
    "duration": 0,
    "start_time": "2025-08-07T15:42:56.565Z"
   },
   {
    "duration": 0,
    "start_time": "2025-08-07T15:42:56.566Z"
   },
   {
    "duration": 0,
    "start_time": "2025-08-07T15:42:56.566Z"
   },
   {
    "duration": 0,
    "start_time": "2025-08-07T15:42:56.567Z"
   },
   {
    "duration": 0,
    "start_time": "2025-08-07T15:42:56.568Z"
   },
   {
    "duration": 0,
    "start_time": "2025-08-07T15:42:56.569Z"
   },
   {
    "duration": 0,
    "start_time": "2025-08-07T15:42:56.570Z"
   },
   {
    "duration": 0,
    "start_time": "2025-08-07T15:42:56.571Z"
   },
   {
    "duration": 0,
    "start_time": "2025-08-07T15:42:56.572Z"
   },
   {
    "duration": 1,
    "start_time": "2025-08-07T15:42:56.572Z"
   },
   {
    "duration": 0,
    "start_time": "2025-08-07T15:42:56.576Z"
   },
   {
    "duration": 0,
    "start_time": "2025-08-07T15:42:56.577Z"
   },
   {
    "duration": 0,
    "start_time": "2025-08-07T15:42:56.578Z"
   },
   {
    "duration": 0,
    "start_time": "2025-08-07T15:42:56.580Z"
   },
   {
    "duration": 0,
    "start_time": "2025-08-07T15:42:56.581Z"
   },
   {
    "duration": 0,
    "start_time": "2025-08-07T15:42:56.582Z"
   },
   {
    "duration": 0,
    "start_time": "2025-08-07T15:42:56.582Z"
   },
   {
    "duration": 0,
    "start_time": "2025-08-07T15:42:56.584Z"
   },
   {
    "duration": 0,
    "start_time": "2025-08-07T15:42:56.585Z"
   },
   {
    "duration": 0,
    "start_time": "2025-08-07T15:42:56.586Z"
   },
   {
    "duration": 0,
    "start_time": "2025-08-07T15:42:56.587Z"
   },
   {
    "duration": 0,
    "start_time": "2025-08-07T15:42:56.588Z"
   },
   {
    "duration": 0,
    "start_time": "2025-08-07T15:42:56.589Z"
   },
   {
    "duration": 0,
    "start_time": "2025-08-07T15:42:56.590Z"
   },
   {
    "duration": 0,
    "start_time": "2025-08-07T15:42:56.591Z"
   },
   {
    "duration": 0,
    "start_time": "2025-08-07T15:42:56.592Z"
   },
   {
    "duration": 0,
    "start_time": "2025-08-07T15:42:56.593Z"
   },
   {
    "duration": 0,
    "start_time": "2025-08-07T15:42:56.594Z"
   },
   {
    "duration": 0,
    "start_time": "2025-08-07T15:42:56.595Z"
   },
   {
    "duration": 0,
    "start_time": "2025-08-07T15:42:56.596Z"
   },
   {
    "duration": 0,
    "start_time": "2025-08-07T15:42:56.597Z"
   },
   {
    "duration": 0,
    "start_time": "2025-08-07T15:42:56.598Z"
   },
   {
    "duration": 0,
    "start_time": "2025-08-07T15:42:56.599Z"
   },
   {
    "duration": 0,
    "start_time": "2025-08-07T15:42:56.600Z"
   },
   {
    "duration": 0,
    "start_time": "2025-08-07T15:42:56.602Z"
   },
   {
    "duration": 0,
    "start_time": "2025-08-07T15:42:56.664Z"
   },
   {
    "duration": 0,
    "start_time": "2025-08-07T15:42:56.668Z"
   },
   {
    "duration": 0,
    "start_time": "2025-08-07T15:42:56.669Z"
   },
   {
    "duration": 0,
    "start_time": "2025-08-07T15:42:56.674Z"
   },
   {
    "duration": 0,
    "start_time": "2025-08-07T15:42:56.675Z"
   },
   {
    "duration": 0,
    "start_time": "2025-08-07T15:42:56.677Z"
   },
   {
    "duration": 0,
    "start_time": "2025-08-07T15:42:56.678Z"
   },
   {
    "duration": 0,
    "start_time": "2025-08-07T15:42:56.679Z"
   },
   {
    "duration": 0,
    "start_time": "2025-08-07T15:42:56.680Z"
   },
   {
    "duration": 0,
    "start_time": "2025-08-07T15:42:56.681Z"
   },
   {
    "duration": 0,
    "start_time": "2025-08-07T15:42:56.682Z"
   },
   {
    "duration": 0,
    "start_time": "2025-08-07T15:42:56.683Z"
   },
   {
    "duration": 0,
    "start_time": "2025-08-07T15:42:56.684Z"
   },
   {
    "duration": 0,
    "start_time": "2025-08-07T15:42:56.685Z"
   },
   {
    "duration": 0,
    "start_time": "2025-08-07T15:42:56.686Z"
   },
   {
    "duration": 0,
    "start_time": "2025-08-07T15:42:56.687Z"
   },
   {
    "duration": 0,
    "start_time": "2025-08-07T15:42:56.688Z"
   },
   {
    "duration": 0,
    "start_time": "2025-08-07T15:42:56.689Z"
   },
   {
    "duration": 0,
    "start_time": "2025-08-07T15:42:56.690Z"
   },
   {
    "duration": 0,
    "start_time": "2025-08-07T15:42:56.691Z"
   },
   {
    "duration": 0,
    "start_time": "2025-08-07T15:42:56.692Z"
   },
   {
    "duration": 0,
    "start_time": "2025-08-07T15:42:56.693Z"
   },
   {
    "duration": 0,
    "start_time": "2025-08-07T15:42:56.694Z"
   },
   {
    "duration": 0,
    "start_time": "2025-08-07T15:42:56.695Z"
   },
   {
    "duration": 0,
    "start_time": "2025-08-07T15:42:56.696Z"
   },
   {
    "duration": 0,
    "start_time": "2025-08-07T15:42:56.697Z"
   },
   {
    "duration": 0,
    "start_time": "2025-08-07T15:42:56.698Z"
   },
   {
    "duration": 0,
    "start_time": "2025-08-07T15:42:56.699Z"
   },
   {
    "duration": 0,
    "start_time": "2025-08-07T15:42:56.700Z"
   },
   {
    "duration": 0,
    "start_time": "2025-08-07T15:42:56.701Z"
   },
   {
    "duration": 0,
    "start_time": "2025-08-07T15:42:56.701Z"
   },
   {
    "duration": 0,
    "start_time": "2025-08-07T15:42:56.702Z"
   },
   {
    "duration": 0,
    "start_time": "2025-08-07T15:42:56.703Z"
   },
   {
    "duration": 0,
    "start_time": "2025-08-07T15:42:56.704Z"
   },
   {
    "duration": 0,
    "start_time": "2025-08-07T15:42:56.762Z"
   },
   {
    "duration": 0,
    "start_time": "2025-08-07T15:42:56.764Z"
   },
   {
    "duration": 0,
    "start_time": "2025-08-07T15:42:57.043Z"
   },
   {
    "duration": 0,
    "start_time": "2025-08-07T15:42:57.044Z"
   },
   {
    "duration": 0,
    "start_time": "2025-08-07T15:42:57.046Z"
   },
   {
    "duration": 0,
    "start_time": "2025-08-07T15:42:57.047Z"
   },
   {
    "duration": 0,
    "start_time": "2025-08-07T15:42:57.048Z"
   },
   {
    "duration": 0,
    "start_time": "2025-08-07T15:42:57.062Z"
   },
   {
    "duration": 0,
    "start_time": "2025-08-07T15:42:57.064Z"
   },
   {
    "duration": 0,
    "start_time": "2025-08-07T15:42:57.065Z"
   },
   {
    "duration": 0,
    "start_time": "2025-08-07T15:42:57.071Z"
   },
   {
    "duration": 0,
    "start_time": "2025-08-07T15:42:57.071Z"
   },
   {
    "duration": 0,
    "start_time": "2025-08-07T15:42:57.072Z"
   },
   {
    "duration": 0,
    "start_time": "2025-08-07T15:42:57.073Z"
   },
   {
    "duration": 0,
    "start_time": "2025-08-07T15:42:57.073Z"
   },
   {
    "duration": 0,
    "start_time": "2025-08-07T15:42:57.074Z"
   },
   {
    "duration": 0,
    "start_time": "2025-08-07T15:42:57.077Z"
   },
   {
    "duration": 0,
    "start_time": "2025-08-07T15:42:57.078Z"
   },
   {
    "duration": 0,
    "start_time": "2025-08-07T15:42:57.080Z"
   },
   {
    "duration": 0,
    "start_time": "2025-08-07T15:42:57.081Z"
   },
   {
    "duration": 0,
    "start_time": "2025-08-07T15:42:57.082Z"
   },
   {
    "duration": 0,
    "start_time": "2025-08-07T15:42:57.084Z"
   },
   {
    "duration": 0,
    "start_time": "2025-08-07T15:42:57.085Z"
   },
   {
    "duration": 0,
    "start_time": "2025-08-07T15:42:57.086Z"
   },
   {
    "duration": 0,
    "start_time": "2025-08-07T15:42:57.087Z"
   },
   {
    "duration": 21095,
    "start_time": "2025-08-07T15:44:06.951Z"
   },
   {
    "duration": 5047,
    "start_time": "2025-08-07T15:44:28.049Z"
   },
   {
    "duration": 11,
    "start_time": "2025-08-07T15:44:33.098Z"
   },
   {
    "duration": 15,
    "start_time": "2025-08-07T15:44:33.111Z"
   },
   {
    "duration": 51,
    "start_time": "2025-08-07T15:44:33.127Z"
   },
   {
    "duration": 24,
    "start_time": "2025-08-07T15:44:33.180Z"
   },
   {
    "duration": 14,
    "start_time": "2025-08-07T15:44:33.206Z"
   },
   {
    "duration": 17,
    "start_time": "2025-08-07T15:44:33.222Z"
   },
   {
    "duration": 7,
    "start_time": "2025-08-07T15:44:33.241Z"
   },
   {
    "duration": 7,
    "start_time": "2025-08-07T15:44:33.250Z"
   },
   {
    "duration": 25,
    "start_time": "2025-08-07T15:44:33.258Z"
   },
   {
    "duration": 111,
    "start_time": "2025-08-07T15:44:33.284Z"
   },
   {
    "duration": 29,
    "start_time": "2025-08-07T15:44:33.397Z"
   },
   {
    "duration": 18,
    "start_time": "2025-08-07T15:44:33.428Z"
   },
   {
    "duration": 37,
    "start_time": "2025-08-07T15:44:33.448Z"
   },
   {
    "duration": 30,
    "start_time": "2025-08-07T15:44:33.487Z"
   },
   {
    "duration": 4,
    "start_time": "2025-08-07T15:44:33.519Z"
   },
   {
    "duration": 22,
    "start_time": "2025-08-07T15:44:33.525Z"
   },
   {
    "duration": 20,
    "start_time": "2025-08-07T15:44:33.571Z"
   },
   {
    "duration": 65,
    "start_time": "2025-08-07T15:44:33.593Z"
   },
   {
    "duration": 4,
    "start_time": "2025-08-07T15:44:33.660Z"
   },
   {
    "duration": 45,
    "start_time": "2025-08-07T15:44:33.666Z"
   },
   {
    "duration": 12,
    "start_time": "2025-08-07T15:44:33.713Z"
   },
   {
    "duration": 9,
    "start_time": "2025-08-07T15:44:33.727Z"
   },
   {
    "duration": 24,
    "start_time": "2025-08-07T15:44:33.737Z"
   },
   {
    "duration": 15,
    "start_time": "2025-08-07T15:44:33.764Z"
   },
   {
    "duration": 36,
    "start_time": "2025-08-07T15:44:33.781Z"
   },
   {
    "duration": 114,
    "start_time": "2025-08-07T15:44:33.822Z"
   },
   {
    "duration": 16,
    "start_time": "2025-08-07T15:44:33.937Z"
   },
   {
    "duration": 2,
    "start_time": "2025-08-07T15:44:33.955Z"
   },
   {
    "duration": 8,
    "start_time": "2025-08-07T15:44:33.958Z"
   },
   {
    "duration": 12,
    "start_time": "2025-08-07T15:44:33.968Z"
   },
   {
    "duration": 116,
    "start_time": "2025-08-07T15:44:33.982Z"
   },
   {
    "duration": 2,
    "start_time": "2025-08-07T15:44:34.100Z"
   },
   {
    "duration": 21,
    "start_time": "2025-08-07T15:44:34.104Z"
   },
   {
    "duration": 39,
    "start_time": "2025-08-07T15:44:34.126Z"
   },
   {
    "duration": 24,
    "start_time": "2025-08-07T15:44:34.171Z"
   },
   {
    "duration": 437,
    "start_time": "2025-08-07T15:44:34.197Z"
   },
   {
    "duration": 6,
    "start_time": "2025-08-07T15:44:34.635Z"
   },
   {
    "duration": 130,
    "start_time": "2025-08-07T15:44:34.642Z"
   },
   {
    "duration": 8,
    "start_time": "2025-08-07T15:44:34.774Z"
   },
   {
    "duration": 143,
    "start_time": "2025-08-07T15:44:34.784Z"
   },
   {
    "duration": 7,
    "start_time": "2025-08-07T15:44:34.929Z"
   },
   {
    "duration": 75,
    "start_time": "2025-08-07T15:44:34.940Z"
   },
   {
    "duration": 69,
    "start_time": "2025-08-07T15:44:35.016Z"
   },
   {
    "duration": 0,
    "start_time": "2025-08-07T15:44:35.089Z"
   },
   {
    "duration": 0,
    "start_time": "2025-08-07T15:44:35.090Z"
   },
   {
    "duration": 0,
    "start_time": "2025-08-07T15:44:35.091Z"
   },
   {
    "duration": 0,
    "start_time": "2025-08-07T15:44:35.092Z"
   },
   {
    "duration": 0,
    "start_time": "2025-08-07T15:44:35.094Z"
   },
   {
    "duration": 1,
    "start_time": "2025-08-07T15:44:35.094Z"
   },
   {
    "duration": 0,
    "start_time": "2025-08-07T15:44:35.095Z"
   },
   {
    "duration": 0,
    "start_time": "2025-08-07T15:44:35.096Z"
   },
   {
    "duration": 0,
    "start_time": "2025-08-07T15:44:35.097Z"
   },
   {
    "duration": 0,
    "start_time": "2025-08-07T15:44:35.099Z"
   },
   {
    "duration": 0,
    "start_time": "2025-08-07T15:44:35.099Z"
   },
   {
    "duration": 0,
    "start_time": "2025-08-07T15:44:35.100Z"
   },
   {
    "duration": 0,
    "start_time": "2025-08-07T15:44:35.102Z"
   },
   {
    "duration": 0,
    "start_time": "2025-08-07T15:44:35.103Z"
   },
   {
    "duration": 0,
    "start_time": "2025-08-07T15:44:35.104Z"
   },
   {
    "duration": 0,
    "start_time": "2025-08-07T15:44:35.105Z"
   },
   {
    "duration": 0,
    "start_time": "2025-08-07T15:44:35.106Z"
   },
   {
    "duration": 0,
    "start_time": "2025-08-07T15:44:35.107Z"
   },
   {
    "duration": 0,
    "start_time": "2025-08-07T15:44:35.108Z"
   },
   {
    "duration": 0,
    "start_time": "2025-08-07T15:44:35.109Z"
   },
   {
    "duration": 0,
    "start_time": "2025-08-07T15:44:35.110Z"
   },
   {
    "duration": 0,
    "start_time": "2025-08-07T15:44:35.111Z"
   },
   {
    "duration": 0,
    "start_time": "2025-08-07T15:44:35.112Z"
   },
   {
    "duration": 0,
    "start_time": "2025-08-07T15:44:35.113Z"
   },
   {
    "duration": 0,
    "start_time": "2025-08-07T15:44:35.114Z"
   },
   {
    "duration": 0,
    "start_time": "2025-08-07T15:44:35.115Z"
   },
   {
    "duration": 0,
    "start_time": "2025-08-07T15:44:35.116Z"
   },
   {
    "duration": 0,
    "start_time": "2025-08-07T15:44:35.117Z"
   },
   {
    "duration": 0,
    "start_time": "2025-08-07T15:44:35.118Z"
   },
   {
    "duration": 0,
    "start_time": "2025-08-07T15:44:35.119Z"
   },
   {
    "duration": 0,
    "start_time": "2025-08-07T15:44:35.121Z"
   },
   {
    "duration": 0,
    "start_time": "2025-08-07T15:44:35.122Z"
   },
   {
    "duration": 0,
    "start_time": "2025-08-07T15:44:35.123Z"
   },
   {
    "duration": 0,
    "start_time": "2025-08-07T15:44:35.124Z"
   },
   {
    "duration": 0,
    "start_time": "2025-08-07T15:44:35.125Z"
   },
   {
    "duration": 0,
    "start_time": "2025-08-07T15:44:35.162Z"
   },
   {
    "duration": 0,
    "start_time": "2025-08-07T15:44:35.163Z"
   },
   {
    "duration": 0,
    "start_time": "2025-08-07T15:44:35.164Z"
   },
   {
    "duration": 0,
    "start_time": "2025-08-07T15:44:35.165Z"
   },
   {
    "duration": 0,
    "start_time": "2025-08-07T15:44:35.166Z"
   },
   {
    "duration": 0,
    "start_time": "2025-08-07T15:44:35.167Z"
   },
   {
    "duration": 0,
    "start_time": "2025-08-07T15:44:35.168Z"
   },
   {
    "duration": 0,
    "start_time": "2025-08-07T15:44:35.169Z"
   },
   {
    "duration": 0,
    "start_time": "2025-08-07T15:44:35.173Z"
   },
   {
    "duration": 0,
    "start_time": "2025-08-07T15:44:35.174Z"
   },
   {
    "duration": 0,
    "start_time": "2025-08-07T15:44:35.176Z"
   },
   {
    "duration": 0,
    "start_time": "2025-08-07T15:44:35.177Z"
   },
   {
    "duration": 0,
    "start_time": "2025-08-07T15:44:35.179Z"
   },
   {
    "duration": 0,
    "start_time": "2025-08-07T15:44:35.181Z"
   },
   {
    "duration": 0,
    "start_time": "2025-08-07T15:44:35.182Z"
   },
   {
    "duration": 0,
    "start_time": "2025-08-07T15:44:35.183Z"
   },
   {
    "duration": 0,
    "start_time": "2025-08-07T15:44:35.184Z"
   },
   {
    "duration": 0,
    "start_time": "2025-08-07T15:44:35.188Z"
   },
   {
    "duration": 0,
    "start_time": "2025-08-07T15:44:35.188Z"
   },
   {
    "duration": 0,
    "start_time": "2025-08-07T15:44:35.190Z"
   },
   {
    "duration": 0,
    "start_time": "2025-08-07T15:44:35.190Z"
   },
   {
    "duration": 0,
    "start_time": "2025-08-07T15:44:35.192Z"
   },
   {
    "duration": 0,
    "start_time": "2025-08-07T15:44:35.192Z"
   },
   {
    "duration": 0,
    "start_time": "2025-08-07T15:44:35.193Z"
   },
   {
    "duration": 0,
    "start_time": "2025-08-07T15:44:35.194Z"
   },
   {
    "duration": 0,
    "start_time": "2025-08-07T15:44:35.195Z"
   },
   {
    "duration": 0,
    "start_time": "2025-08-07T15:44:35.196Z"
   },
   {
    "duration": 0,
    "start_time": "2025-08-07T15:44:35.197Z"
   },
   {
    "duration": 0,
    "start_time": "2025-08-07T15:44:35.198Z"
   },
   {
    "duration": 0,
    "start_time": "2025-08-07T15:44:35.199Z"
   },
   {
    "duration": 0,
    "start_time": "2025-08-07T15:44:35.200Z"
   },
   {
    "duration": 0,
    "start_time": "2025-08-07T15:44:35.201Z"
   },
   {
    "duration": 0,
    "start_time": "2025-08-07T15:44:35.266Z"
   },
   {
    "duration": 0,
    "start_time": "2025-08-07T15:44:35.267Z"
   },
   {
    "duration": 0,
    "start_time": "2025-08-07T15:44:35.270Z"
   },
   {
    "duration": 0,
    "start_time": "2025-08-07T15:44:35.273Z"
   },
   {
    "duration": 0,
    "start_time": "2025-08-07T15:44:35.276Z"
   },
   {
    "duration": 0,
    "start_time": "2025-08-07T15:44:35.279Z"
   },
   {
    "duration": 0,
    "start_time": "2025-08-07T15:44:35.280Z"
   },
   {
    "duration": 0,
    "start_time": "2025-08-07T15:44:35.282Z"
   },
   {
    "duration": 0,
    "start_time": "2025-08-07T15:44:35.283Z"
   },
   {
    "duration": 0,
    "start_time": "2025-08-07T15:44:35.284Z"
   },
   {
    "duration": 0,
    "start_time": "2025-08-07T15:44:35.285Z"
   },
   {
    "duration": 0,
    "start_time": "2025-08-07T15:44:35.287Z"
   },
   {
    "duration": 0,
    "start_time": "2025-08-07T15:44:35.288Z"
   },
   {
    "duration": 0,
    "start_time": "2025-08-07T15:44:35.289Z"
   },
   {
    "duration": 0,
    "start_time": "2025-08-07T15:44:35.290Z"
   },
   {
    "duration": 0,
    "start_time": "2025-08-07T15:44:35.291Z"
   },
   {
    "duration": 0,
    "start_time": "2025-08-07T15:44:35.292Z"
   },
   {
    "duration": 0,
    "start_time": "2025-08-07T15:44:35.293Z"
   },
   {
    "duration": 0,
    "start_time": "2025-08-07T15:44:35.294Z"
   },
   {
    "duration": 0,
    "start_time": "2025-08-07T15:44:35.296Z"
   },
   {
    "duration": 0,
    "start_time": "2025-08-07T15:44:35.297Z"
   },
   {
    "duration": 0,
    "start_time": "2025-08-07T15:44:35.298Z"
   },
   {
    "duration": 0,
    "start_time": "2025-08-07T15:44:35.299Z"
   },
   {
    "duration": 0,
    "start_time": "2025-08-07T15:44:35.300Z"
   },
   {
    "duration": 0,
    "start_time": "2025-08-07T15:44:35.302Z"
   },
   {
    "duration": 0,
    "start_time": "2025-08-07T15:44:35.363Z"
   },
   {
    "duration": 0,
    "start_time": "2025-08-07T15:44:35.365Z"
   },
   {
    "duration": 0,
    "start_time": "2025-08-07T15:44:35.366Z"
   },
   {
    "duration": 0,
    "start_time": "2025-08-07T15:44:35.368Z"
   },
   {
    "duration": 0,
    "start_time": "2025-08-07T15:44:35.369Z"
   },
   {
    "duration": 0,
    "start_time": "2025-08-07T15:44:35.371Z"
   },
   {
    "duration": 0,
    "start_time": "2025-08-07T15:44:35.372Z"
   },
   {
    "duration": 0,
    "start_time": "2025-08-07T15:44:35.374Z"
   },
   {
    "duration": 0,
    "start_time": "2025-08-07T15:44:35.375Z"
   },
   {
    "duration": 0,
    "start_time": "2025-08-07T15:44:35.377Z"
   },
   {
    "duration": 0,
    "start_time": "2025-08-07T15:44:35.379Z"
   },
   {
    "duration": 0,
    "start_time": "2025-08-07T15:44:35.380Z"
   },
   {
    "duration": 0,
    "start_time": "2025-08-07T15:44:35.382Z"
   },
   {
    "duration": 0,
    "start_time": "2025-08-07T15:44:35.383Z"
   },
   {
    "duration": 0,
    "start_time": "2025-08-07T15:44:35.384Z"
   },
   {
    "duration": 52,
    "start_time": "2025-08-07T15:45:37.026Z"
   },
   {
    "duration": 10,
    "start_time": "2025-08-07T15:45:51.235Z"
   },
   {
    "duration": 357,
    "start_time": "2025-08-07T15:47:39.810Z"
   },
   {
    "duration": 4,
    "start_time": "2025-08-07T15:47:44.473Z"
   },
   {
    "duration": 20,
    "start_time": "2025-08-07T15:47:51.774Z"
   },
   {
    "duration": 21,
    "start_time": "2025-08-07T15:47:57.553Z"
   },
   {
    "duration": 23,
    "start_time": "2025-08-07T15:48:00.133Z"
   },
   {
    "duration": 4,
    "start_time": "2025-08-07T15:48:10.093Z"
   },
   {
    "duration": 927,
    "start_time": "2025-08-07T15:49:00.093Z"
   },
   {
    "duration": 32,
    "start_time": "2025-08-07T15:49:27.913Z"
   },
   {
    "duration": 1800,
    "start_time": "2025-08-07T15:49:34.506Z"
   },
   {
    "duration": 1006,
    "start_time": "2025-08-07T15:50:59.279Z"
   },
   {
    "duration": 1885,
    "start_time": "2025-08-07T15:51:06.707Z"
   },
   {
    "duration": 5,
    "start_time": "2025-08-07T15:51:19.917Z"
   },
   {
    "duration": 4,
    "start_time": "2025-08-07T15:51:49.854Z"
   },
   {
    "duration": 1980,
    "start_time": "2025-08-07T15:52:01.647Z"
   },
   {
    "duration": 5,
    "start_time": "2025-08-07T15:52:30.818Z"
   },
   {
    "duration": 5,
    "start_time": "2025-08-07T15:52:41.209Z"
   },
   {
    "duration": 4,
    "start_time": "2025-08-07T15:52:48.847Z"
   },
   {
    "duration": 36,
    "start_time": "2025-08-07T15:52:53.509Z"
   },
   {
    "duration": 401,
    "start_time": "2025-08-07T15:53:52.787Z"
   },
   {
    "duration": 19022,
    "start_time": "2025-08-07T15:55:07.325Z"
   },
   {
    "duration": 3515,
    "start_time": "2025-08-07T15:55:26.350Z"
   },
   {
    "duration": 10,
    "start_time": "2025-08-07T15:55:29.867Z"
   },
   {
    "duration": 76,
    "start_time": "2025-08-07T15:55:29.879Z"
   },
   {
    "duration": 15,
    "start_time": "2025-08-07T15:55:29.957Z"
   },
   {
    "duration": 14,
    "start_time": "2025-08-07T15:55:29.973Z"
   },
   {
    "duration": 45,
    "start_time": "2025-08-07T15:55:29.989Z"
   },
   {
    "duration": 122,
    "start_time": "2025-08-07T15:55:30.036Z"
   },
   {
    "duration": 60,
    "start_time": "2025-08-07T15:55:30.159Z"
   },
   {
    "duration": 49,
    "start_time": "2025-08-07T15:55:30.222Z"
   },
   {
    "duration": 80,
    "start_time": "2025-08-07T15:55:30.273Z"
   },
   {
    "duration": 198,
    "start_time": "2025-08-07T15:55:30.355Z"
   },
   {
    "duration": 145,
    "start_time": "2025-08-07T15:55:30.556Z"
   },
   {
    "duration": 46,
    "start_time": "2025-08-07T15:55:30.703Z"
   },
   {
    "duration": 26,
    "start_time": "2025-08-07T15:55:30.751Z"
   },
   {
    "duration": 42,
    "start_time": "2025-08-07T15:55:30.778Z"
   },
   {
    "duration": 102,
    "start_time": "2025-08-07T15:55:30.822Z"
   },
   {
    "duration": 23,
    "start_time": "2025-08-07T15:55:30.926Z"
   },
   {
    "duration": 28,
    "start_time": "2025-08-07T15:55:30.951Z"
   },
   {
    "duration": 69,
    "start_time": "2025-08-07T15:55:30.981Z"
   },
   {
    "duration": 4,
    "start_time": "2025-08-07T15:55:31.051Z"
   },
   {
    "duration": 11,
    "start_time": "2025-08-07T15:55:31.056Z"
   },
   {
    "duration": 24,
    "start_time": "2025-08-07T15:55:31.068Z"
   },
   {
    "duration": 20,
    "start_time": "2025-08-07T15:55:31.093Z"
   },
   {
    "duration": 6,
    "start_time": "2025-08-07T15:55:31.115Z"
   },
   {
    "duration": 21,
    "start_time": "2025-08-07T15:55:31.122Z"
   },
   {
    "duration": 33,
    "start_time": "2025-08-07T15:55:31.144Z"
   },
   {
    "duration": 19,
    "start_time": "2025-08-07T15:55:31.181Z"
   },
   {
    "duration": 32,
    "start_time": "2025-08-07T15:55:31.202Z"
   },
   {
    "duration": 4,
    "start_time": "2025-08-07T15:55:31.235Z"
   },
   {
    "duration": 12,
    "start_time": "2025-08-07T15:55:31.240Z"
   },
   {
    "duration": 39,
    "start_time": "2025-08-07T15:55:31.254Z"
   },
   {
    "duration": 43,
    "start_time": "2025-08-07T15:55:31.295Z"
   },
   {
    "duration": 22,
    "start_time": "2025-08-07T15:55:31.340Z"
   },
   {
    "duration": 17,
    "start_time": "2025-08-07T15:55:31.364Z"
   },
   {
    "duration": 32,
    "start_time": "2025-08-07T15:55:31.383Z"
   },
   {
    "duration": 366,
    "start_time": "2025-08-07T15:55:31.416Z"
   },
   {
    "duration": 6,
    "start_time": "2025-08-07T15:55:31.784Z"
   },
   {
    "duration": 108,
    "start_time": "2025-08-07T15:55:31.791Z"
   },
   {
    "duration": 82,
    "start_time": "2025-08-07T15:55:31.900Z"
   },
   {
    "duration": 63,
    "start_time": "2025-08-07T15:55:31.984Z"
   },
   {
    "duration": 5,
    "start_time": "2025-08-07T15:55:32.048Z"
   },
   {
    "duration": 57,
    "start_time": "2025-08-07T15:55:32.055Z"
   },
   {
    "duration": 71,
    "start_time": "2025-08-07T15:55:32.114Z"
   },
   {
    "duration": 0,
    "start_time": "2025-08-07T15:55:32.188Z"
   },
   {
    "duration": 0,
    "start_time": "2025-08-07T15:55:32.190Z"
   },
   {
    "duration": 0,
    "start_time": "2025-08-07T15:55:32.190Z"
   },
   {
    "duration": 0,
    "start_time": "2025-08-07T15:55:32.192Z"
   },
   {
    "duration": 0,
    "start_time": "2025-08-07T15:55:32.193Z"
   },
   {
    "duration": 0,
    "start_time": "2025-08-07T15:55:32.193Z"
   },
   {
    "duration": 0,
    "start_time": "2025-08-07T15:55:32.194Z"
   },
   {
    "duration": 1,
    "start_time": "2025-08-07T15:55:32.195Z"
   },
   {
    "duration": 0,
    "start_time": "2025-08-07T15:55:32.196Z"
   },
   {
    "duration": 0,
    "start_time": "2025-08-07T15:55:32.197Z"
   },
   {
    "duration": 0,
    "start_time": "2025-08-07T15:55:32.199Z"
   },
   {
    "duration": 0,
    "start_time": "2025-08-07T15:55:32.200Z"
   },
   {
    "duration": 0,
    "start_time": "2025-08-07T15:55:32.201Z"
   },
   {
    "duration": 0,
    "start_time": "2025-08-07T15:55:32.202Z"
   },
   {
    "duration": 0,
    "start_time": "2025-08-07T15:55:32.202Z"
   },
   {
    "duration": 0,
    "start_time": "2025-08-07T15:55:32.203Z"
   },
   {
    "duration": 0,
    "start_time": "2025-08-07T15:55:32.204Z"
   },
   {
    "duration": 0,
    "start_time": "2025-08-07T15:55:32.205Z"
   },
   {
    "duration": 0,
    "start_time": "2025-08-07T15:55:32.206Z"
   },
   {
    "duration": 0,
    "start_time": "2025-08-07T15:55:32.207Z"
   },
   {
    "duration": 0,
    "start_time": "2025-08-07T15:55:32.208Z"
   },
   {
    "duration": 0,
    "start_time": "2025-08-07T15:55:32.209Z"
   },
   {
    "duration": 0,
    "start_time": "2025-08-07T15:55:32.210Z"
   },
   {
    "duration": 0,
    "start_time": "2025-08-07T15:55:32.212Z"
   },
   {
    "duration": 0,
    "start_time": "2025-08-07T15:55:32.213Z"
   },
   {
    "duration": 0,
    "start_time": "2025-08-07T15:55:32.213Z"
   },
   {
    "duration": 0,
    "start_time": "2025-08-07T15:55:32.214Z"
   },
   {
    "duration": 0,
    "start_time": "2025-08-07T15:55:32.215Z"
   },
   {
    "duration": 0,
    "start_time": "2025-08-07T15:55:32.216Z"
   },
   {
    "duration": 0,
    "start_time": "2025-08-07T15:55:32.217Z"
   },
   {
    "duration": 0,
    "start_time": "2025-08-07T15:55:32.218Z"
   },
   {
    "duration": 0,
    "start_time": "2025-08-07T15:55:32.219Z"
   },
   {
    "duration": 0,
    "start_time": "2025-08-07T15:55:32.220Z"
   },
   {
    "duration": 0,
    "start_time": "2025-08-07T15:55:32.221Z"
   },
   {
    "duration": 0,
    "start_time": "2025-08-07T15:55:32.222Z"
   },
   {
    "duration": 0,
    "start_time": "2025-08-07T15:55:32.223Z"
   },
   {
    "duration": 0,
    "start_time": "2025-08-07T15:55:32.224Z"
   },
   {
    "duration": 0,
    "start_time": "2025-08-07T15:55:32.225Z"
   },
   {
    "duration": 0,
    "start_time": "2025-08-07T15:55:32.262Z"
   },
   {
    "duration": 0,
    "start_time": "2025-08-07T15:55:32.264Z"
   },
   {
    "duration": 0,
    "start_time": "2025-08-07T15:55:32.264Z"
   },
   {
    "duration": 0,
    "start_time": "2025-08-07T15:55:32.266Z"
   },
   {
    "duration": 0,
    "start_time": "2025-08-07T15:55:32.267Z"
   },
   {
    "duration": 0,
    "start_time": "2025-08-07T15:55:32.268Z"
   },
   {
    "duration": 0,
    "start_time": "2025-08-07T15:55:32.269Z"
   },
   {
    "duration": 0,
    "start_time": "2025-08-07T15:55:32.270Z"
   },
   {
    "duration": 0,
    "start_time": "2025-08-07T15:55:32.271Z"
   },
   {
    "duration": 0,
    "start_time": "2025-08-07T15:55:32.272Z"
   },
   {
    "duration": 0,
    "start_time": "2025-08-07T15:55:32.273Z"
   },
   {
    "duration": 0,
    "start_time": "2025-08-07T15:55:32.274Z"
   },
   {
    "duration": 0,
    "start_time": "2025-08-07T15:55:32.275Z"
   },
   {
    "duration": 0,
    "start_time": "2025-08-07T15:55:32.276Z"
   },
   {
    "duration": 0,
    "start_time": "2025-08-07T15:55:32.277Z"
   },
   {
    "duration": 0,
    "start_time": "2025-08-07T15:55:32.278Z"
   },
   {
    "duration": 0,
    "start_time": "2025-08-07T15:55:32.278Z"
   },
   {
    "duration": 0,
    "start_time": "2025-08-07T15:55:32.279Z"
   },
   {
    "duration": 0,
    "start_time": "2025-08-07T15:55:32.280Z"
   },
   {
    "duration": 0,
    "start_time": "2025-08-07T15:55:32.281Z"
   },
   {
    "duration": 0,
    "start_time": "2025-08-07T15:55:32.282Z"
   },
   {
    "duration": 0,
    "start_time": "2025-08-07T15:55:32.283Z"
   },
   {
    "duration": 0,
    "start_time": "2025-08-07T15:55:32.284Z"
   },
   {
    "duration": 0,
    "start_time": "2025-08-07T15:55:32.285Z"
   },
   {
    "duration": 0,
    "start_time": "2025-08-07T15:55:32.286Z"
   },
   {
    "duration": 0,
    "start_time": "2025-08-07T15:55:32.287Z"
   },
   {
    "duration": 0,
    "start_time": "2025-08-07T15:55:32.288Z"
   },
   {
    "duration": 0,
    "start_time": "2025-08-07T15:55:32.289Z"
   },
   {
    "duration": 0,
    "start_time": "2025-08-07T15:55:32.290Z"
   },
   {
    "duration": 0,
    "start_time": "2025-08-07T15:55:32.291Z"
   },
   {
    "duration": 0,
    "start_time": "2025-08-07T15:55:32.292Z"
   },
   {
    "duration": 0,
    "start_time": "2025-08-07T15:55:32.293Z"
   },
   {
    "duration": 0,
    "start_time": "2025-08-07T15:55:32.294Z"
   },
   {
    "duration": 0,
    "start_time": "2025-08-07T15:55:32.295Z"
   },
   {
    "duration": 0,
    "start_time": "2025-08-07T15:55:32.295Z"
   },
   {
    "duration": 0,
    "start_time": "2025-08-07T15:55:32.296Z"
   },
   {
    "duration": 0,
    "start_time": "2025-08-07T15:55:32.297Z"
   },
   {
    "duration": 0,
    "start_time": "2025-08-07T15:55:32.298Z"
   },
   {
    "duration": 0,
    "start_time": "2025-08-07T15:55:32.299Z"
   },
   {
    "duration": 0,
    "start_time": "2025-08-07T15:55:32.362Z"
   },
   {
    "duration": 0,
    "start_time": "2025-08-07T15:55:32.363Z"
   },
   {
    "duration": 0,
    "start_time": "2025-08-07T15:55:32.365Z"
   },
   {
    "duration": 0,
    "start_time": "2025-08-07T15:55:32.366Z"
   },
   {
    "duration": 0,
    "start_time": "2025-08-07T15:55:32.367Z"
   },
   {
    "duration": 0,
    "start_time": "2025-08-07T15:55:32.368Z"
   },
   {
    "duration": 0,
    "start_time": "2025-08-07T15:55:32.369Z"
   },
   {
    "duration": 0,
    "start_time": "2025-08-07T15:55:32.370Z"
   },
   {
    "duration": 0,
    "start_time": "2025-08-07T15:55:32.371Z"
   },
   {
    "duration": 0,
    "start_time": "2025-08-07T15:55:32.372Z"
   },
   {
    "duration": 0,
    "start_time": "2025-08-07T15:55:32.373Z"
   },
   {
    "duration": 0,
    "start_time": "2025-08-07T15:55:32.374Z"
   },
   {
    "duration": 0,
    "start_time": "2025-08-07T15:55:32.375Z"
   },
   {
    "duration": 0,
    "start_time": "2025-08-07T15:55:32.376Z"
   },
   {
    "duration": 0,
    "start_time": "2025-08-07T15:55:32.377Z"
   },
   {
    "duration": 0,
    "start_time": "2025-08-07T15:55:32.378Z"
   },
   {
    "duration": 0,
    "start_time": "2025-08-07T15:55:32.379Z"
   },
   {
    "duration": 0,
    "start_time": "2025-08-07T15:55:32.380Z"
   },
   {
    "duration": 0,
    "start_time": "2025-08-07T15:55:32.381Z"
   },
   {
    "duration": 0,
    "start_time": "2025-08-07T15:55:32.382Z"
   },
   {
    "duration": 0,
    "start_time": "2025-08-07T15:55:32.383Z"
   },
   {
    "duration": 0,
    "start_time": "2025-08-07T15:55:32.384Z"
   },
   {
    "duration": 0,
    "start_time": "2025-08-07T15:55:32.385Z"
   },
   {
    "duration": 0,
    "start_time": "2025-08-07T15:55:32.386Z"
   },
   {
    "duration": 0,
    "start_time": "2025-08-07T15:55:32.387Z"
   },
   {
    "duration": 0,
    "start_time": "2025-08-07T15:55:32.388Z"
   },
   {
    "duration": 1,
    "start_time": "2025-08-07T15:55:32.388Z"
   },
   {
    "duration": 1,
    "start_time": "2025-08-07T15:55:32.389Z"
   },
   {
    "duration": 0,
    "start_time": "2025-08-07T15:55:32.390Z"
   },
   {
    "duration": 0,
    "start_time": "2025-08-07T15:55:32.392Z"
   },
   {
    "duration": 7,
    "start_time": "2025-08-07T15:55:54.074Z"
   },
   {
    "duration": 20977,
    "start_time": "2025-08-07T15:59:10.026Z"
   },
   {
    "duration": 3411,
    "start_time": "2025-08-07T15:59:31.006Z"
   },
   {
    "duration": 11,
    "start_time": "2025-08-07T15:59:34.418Z"
   },
   {
    "duration": 56,
    "start_time": "2025-08-07T15:59:34.431Z"
   },
   {
    "duration": 10,
    "start_time": "2025-08-07T15:59:34.489Z"
   },
   {
    "duration": 8,
    "start_time": "2025-08-07T15:59:34.500Z"
   },
   {
    "duration": 8,
    "start_time": "2025-08-07T15:59:34.510Z"
   },
   {
    "duration": 17,
    "start_time": "2025-08-07T15:59:34.520Z"
   },
   {
    "duration": 23,
    "start_time": "2025-08-07T15:59:34.538Z"
   },
   {
    "duration": 18,
    "start_time": "2025-08-07T15:59:34.563Z"
   },
   {
    "duration": 28,
    "start_time": "2025-08-07T15:59:34.583Z"
   },
   {
    "duration": 182,
    "start_time": "2025-08-07T15:59:34.613Z"
   },
   {
    "duration": 25,
    "start_time": "2025-08-07T15:59:34.797Z"
   },
   {
    "duration": 16,
    "start_time": "2025-08-07T15:59:34.824Z"
   },
   {
    "duration": 77,
    "start_time": "2025-08-07T15:59:34.842Z"
   },
   {
    "duration": 26,
    "start_time": "2025-08-07T15:59:34.921Z"
   },
   {
    "duration": 9,
    "start_time": "2025-08-07T15:59:34.950Z"
   },
   {
    "duration": 19,
    "start_time": "2025-08-07T15:59:34.960Z"
   },
   {
    "duration": 26,
    "start_time": "2025-08-07T15:59:34.980Z"
   },
   {
    "duration": 33,
    "start_time": "2025-08-07T15:59:35.008Z"
   },
   {
    "duration": 4,
    "start_time": "2025-08-07T15:59:35.043Z"
   },
   {
    "duration": 7,
    "start_time": "2025-08-07T15:59:35.062Z"
   },
   {
    "duration": 29,
    "start_time": "2025-08-07T15:59:35.071Z"
   },
   {
    "duration": 2,
    "start_time": "2025-08-07T15:59:35.102Z"
   },
   {
    "duration": 5,
    "start_time": "2025-08-07T15:59:35.106Z"
   },
   {
    "duration": 28,
    "start_time": "2025-08-07T15:59:35.112Z"
   },
   {
    "duration": 13,
    "start_time": "2025-08-07T15:59:35.142Z"
   },
   {
    "duration": 21,
    "start_time": "2025-08-07T15:59:35.159Z"
   },
   {
    "duration": 30,
    "start_time": "2025-08-07T15:59:35.182Z"
   },
   {
    "duration": 3,
    "start_time": "2025-08-07T15:59:35.214Z"
   },
   {
    "duration": 8,
    "start_time": "2025-08-07T15:59:35.218Z"
   },
   {
    "duration": 4,
    "start_time": "2025-08-07T15:59:35.228Z"
   },
   {
    "duration": 73,
    "start_time": "2025-08-07T15:59:35.234Z"
   },
   {
    "duration": 5,
    "start_time": "2025-08-07T15:59:35.309Z"
   },
   {
    "duration": 34,
    "start_time": "2025-08-07T15:59:35.315Z"
   },
   {
    "duration": 14,
    "start_time": "2025-08-07T15:59:35.350Z"
   },
   {
    "duration": 391,
    "start_time": "2025-08-07T15:59:35.366Z"
   },
   {
    "duration": 5,
    "start_time": "2025-08-07T15:59:35.759Z"
   },
   {
    "duration": 108,
    "start_time": "2025-08-07T15:59:35.765Z"
   },
   {
    "duration": 5,
    "start_time": "2025-08-07T15:59:35.875Z"
   },
   {
    "duration": 162,
    "start_time": "2025-08-07T15:59:35.881Z"
   },
   {
    "duration": 303,
    "start_time": "2025-08-07T15:59:36.045Z"
   },
   {
    "duration": 0,
    "start_time": "2025-08-07T15:59:36.351Z"
   },
   {
    "duration": 0,
    "start_time": "2025-08-07T15:59:36.352Z"
   },
   {
    "duration": 0,
    "start_time": "2025-08-07T15:59:36.353Z"
   },
   {
    "duration": 0,
    "start_time": "2025-08-07T15:59:36.354Z"
   },
   {
    "duration": 0,
    "start_time": "2025-08-07T15:59:36.361Z"
   },
   {
    "duration": 0,
    "start_time": "2025-08-07T15:59:36.362Z"
   },
   {
    "duration": 0,
    "start_time": "2025-08-07T15:59:36.363Z"
   },
   {
    "duration": 0,
    "start_time": "2025-08-07T15:59:36.364Z"
   },
   {
    "duration": 0,
    "start_time": "2025-08-07T15:59:36.365Z"
   },
   {
    "duration": 0,
    "start_time": "2025-08-07T15:59:36.366Z"
   },
   {
    "duration": 0,
    "start_time": "2025-08-07T15:59:36.368Z"
   },
   {
    "duration": 0,
    "start_time": "2025-08-07T15:59:36.368Z"
   },
   {
    "duration": 0,
    "start_time": "2025-08-07T15:59:36.369Z"
   },
   {
    "duration": 0,
    "start_time": "2025-08-07T15:59:36.370Z"
   },
   {
    "duration": 0,
    "start_time": "2025-08-07T15:59:36.371Z"
   },
   {
    "duration": 0,
    "start_time": "2025-08-07T15:59:36.372Z"
   },
   {
    "duration": 0,
    "start_time": "2025-08-07T15:59:36.373Z"
   },
   {
    "duration": 0,
    "start_time": "2025-08-07T15:59:36.374Z"
   },
   {
    "duration": 0,
    "start_time": "2025-08-07T15:59:36.375Z"
   },
   {
    "duration": 0,
    "start_time": "2025-08-07T15:59:36.376Z"
   },
   {
    "duration": 0,
    "start_time": "2025-08-07T15:59:36.377Z"
   },
   {
    "duration": 0,
    "start_time": "2025-08-07T15:59:36.378Z"
   },
   {
    "duration": 0,
    "start_time": "2025-08-07T15:59:36.379Z"
   },
   {
    "duration": 0,
    "start_time": "2025-08-07T15:59:36.380Z"
   },
   {
    "duration": 0,
    "start_time": "2025-08-07T15:59:36.381Z"
   },
   {
    "duration": 0,
    "start_time": "2025-08-07T15:59:36.382Z"
   },
   {
    "duration": 0,
    "start_time": "2025-08-07T15:59:36.383Z"
   },
   {
    "duration": 0,
    "start_time": "2025-08-07T15:59:36.384Z"
   },
   {
    "duration": 0,
    "start_time": "2025-08-07T15:59:36.385Z"
   },
   {
    "duration": 0,
    "start_time": "2025-08-07T15:59:36.386Z"
   },
   {
    "duration": 0,
    "start_time": "2025-08-07T15:59:36.387Z"
   },
   {
    "duration": 0,
    "start_time": "2025-08-07T15:59:36.388Z"
   },
   {
    "duration": 0,
    "start_time": "2025-08-07T15:59:36.389Z"
   },
   {
    "duration": 0,
    "start_time": "2025-08-07T15:59:36.390Z"
   },
   {
    "duration": 0,
    "start_time": "2025-08-07T15:59:36.391Z"
   },
   {
    "duration": 0,
    "start_time": "2025-08-07T15:59:36.391Z"
   },
   {
    "duration": 0,
    "start_time": "2025-08-07T15:59:36.392Z"
   },
   {
    "duration": 0,
    "start_time": "2025-08-07T15:59:36.394Z"
   },
   {
    "duration": 0,
    "start_time": "2025-08-07T15:59:36.394Z"
   },
   {
    "duration": 0,
    "start_time": "2025-08-07T15:59:36.395Z"
   },
   {
    "duration": 0,
    "start_time": "2025-08-07T15:59:36.397Z"
   },
   {
    "duration": 0,
    "start_time": "2025-08-07T15:59:36.398Z"
   },
   {
    "duration": 0,
    "start_time": "2025-08-07T15:59:36.399Z"
   },
   {
    "duration": 0,
    "start_time": "2025-08-07T15:59:36.400Z"
   },
   {
    "duration": 0,
    "start_time": "2025-08-07T15:59:36.400Z"
   },
   {
    "duration": 0,
    "start_time": "2025-08-07T15:59:36.462Z"
   },
   {
    "duration": 0,
    "start_time": "2025-08-07T15:59:36.464Z"
   },
   {
    "duration": 0,
    "start_time": "2025-08-07T15:59:36.464Z"
   },
   {
    "duration": 0,
    "start_time": "2025-08-07T15:59:36.465Z"
   },
   {
    "duration": 0,
    "start_time": "2025-08-07T15:59:36.467Z"
   },
   {
    "duration": 0,
    "start_time": "2025-08-07T15:59:36.467Z"
   },
   {
    "duration": 0,
    "start_time": "2025-08-07T15:59:36.469Z"
   },
   {
    "duration": 0,
    "start_time": "2025-08-07T15:59:36.469Z"
   },
   {
    "duration": 0,
    "start_time": "2025-08-07T15:59:36.471Z"
   },
   {
    "duration": 0,
    "start_time": "2025-08-07T15:59:36.471Z"
   },
   {
    "duration": 0,
    "start_time": "2025-08-07T15:59:36.473Z"
   },
   {
    "duration": 0,
    "start_time": "2025-08-07T15:59:36.473Z"
   },
   {
    "duration": 0,
    "start_time": "2025-08-07T15:59:36.474Z"
   },
   {
    "duration": 0,
    "start_time": "2025-08-07T15:59:36.475Z"
   },
   {
    "duration": 0,
    "start_time": "2025-08-07T15:59:36.476Z"
   },
   {
    "duration": 0,
    "start_time": "2025-08-07T15:59:36.477Z"
   },
   {
    "duration": 0,
    "start_time": "2025-08-07T15:59:36.478Z"
   },
   {
    "duration": 0,
    "start_time": "2025-08-07T15:59:36.479Z"
   },
   {
    "duration": 0,
    "start_time": "2025-08-07T15:59:36.480Z"
   },
   {
    "duration": 0,
    "start_time": "2025-08-07T15:59:36.481Z"
   },
   {
    "duration": 0,
    "start_time": "2025-08-07T15:59:36.482Z"
   },
   {
    "duration": 0,
    "start_time": "2025-08-07T15:59:36.483Z"
   },
   {
    "duration": 0,
    "start_time": "2025-08-07T15:59:36.484Z"
   },
   {
    "duration": 0,
    "start_time": "2025-08-07T15:59:36.485Z"
   },
   {
    "duration": 0,
    "start_time": "2025-08-07T15:59:36.485Z"
   },
   {
    "duration": 0,
    "start_time": "2025-08-07T15:59:36.486Z"
   },
   {
    "duration": 0,
    "start_time": "2025-08-07T15:59:36.487Z"
   },
   {
    "duration": 0,
    "start_time": "2025-08-07T15:59:36.488Z"
   },
   {
    "duration": 0,
    "start_time": "2025-08-07T15:59:36.489Z"
   },
   {
    "duration": 0,
    "start_time": "2025-08-07T15:59:36.490Z"
   },
   {
    "duration": 0,
    "start_time": "2025-08-07T15:59:36.491Z"
   },
   {
    "duration": 0,
    "start_time": "2025-08-07T15:59:36.492Z"
   },
   {
    "duration": 0,
    "start_time": "2025-08-07T15:59:36.493Z"
   },
   {
    "duration": 0,
    "start_time": "2025-08-07T15:59:36.494Z"
   },
   {
    "duration": 0,
    "start_time": "2025-08-07T15:59:36.495Z"
   },
   {
    "duration": 0,
    "start_time": "2025-08-07T15:59:36.496Z"
   },
   {
    "duration": 0,
    "start_time": "2025-08-07T15:59:36.497Z"
   },
   {
    "duration": 0,
    "start_time": "2025-08-07T15:59:36.562Z"
   },
   {
    "duration": 0,
    "start_time": "2025-08-07T15:59:36.563Z"
   },
   {
    "duration": 0,
    "start_time": "2025-08-07T15:59:36.564Z"
   },
   {
    "duration": 0,
    "start_time": "2025-08-07T15:59:36.565Z"
   },
   {
    "duration": 0,
    "start_time": "2025-08-07T15:59:36.566Z"
   },
   {
    "duration": 0,
    "start_time": "2025-08-07T15:59:36.567Z"
   },
   {
    "duration": 0,
    "start_time": "2025-08-07T15:59:36.568Z"
   },
   {
    "duration": 0,
    "start_time": "2025-08-07T15:59:36.569Z"
   },
   {
    "duration": 0,
    "start_time": "2025-08-07T15:59:36.569Z"
   },
   {
    "duration": 0,
    "start_time": "2025-08-07T15:59:36.571Z"
   },
   {
    "duration": 0,
    "start_time": "2025-08-07T15:59:36.572Z"
   },
   {
    "duration": 0,
    "start_time": "2025-08-07T15:59:36.573Z"
   },
   {
    "duration": 0,
    "start_time": "2025-08-07T15:59:36.573Z"
   },
   {
    "duration": 0,
    "start_time": "2025-08-07T15:59:36.574Z"
   },
   {
    "duration": 0,
    "start_time": "2025-08-07T15:59:36.575Z"
   },
   {
    "duration": 0,
    "start_time": "2025-08-07T15:59:36.576Z"
   },
   {
    "duration": 0,
    "start_time": "2025-08-07T15:59:36.577Z"
   },
   {
    "duration": 0,
    "start_time": "2025-08-07T15:59:36.578Z"
   },
   {
    "duration": 0,
    "start_time": "2025-08-07T15:59:36.579Z"
   },
   {
    "duration": 0,
    "start_time": "2025-08-07T15:59:36.580Z"
   },
   {
    "duration": 0,
    "start_time": "2025-08-07T15:59:36.581Z"
   },
   {
    "duration": 0,
    "start_time": "2025-08-07T15:59:36.582Z"
   },
   {
    "duration": 0,
    "start_time": "2025-08-07T15:59:36.583Z"
   },
   {
    "duration": 0,
    "start_time": "2025-08-07T15:59:36.584Z"
   },
   {
    "duration": 0,
    "start_time": "2025-08-07T15:59:36.584Z"
   },
   {
    "duration": 0,
    "start_time": "2025-08-07T15:59:36.585Z"
   },
   {
    "duration": 0,
    "start_time": "2025-08-07T15:59:36.586Z"
   },
   {
    "duration": 0,
    "start_time": "2025-08-07T15:59:36.587Z"
   },
   {
    "duration": 5,
    "start_time": "2025-08-07T15:59:58.924Z"
   },
   {
    "duration": 5,
    "start_time": "2025-08-07T16:00:17.660Z"
   },
   {
    "duration": 60,
    "start_time": "2025-08-07T16:00:31.946Z"
   },
   {
    "duration": 9,
    "start_time": "2025-08-07T16:00:44.398Z"
   },
   {
    "duration": 82,
    "start_time": "2025-08-07T16:02:13.908Z"
   },
   {
    "duration": 67,
    "start_time": "2025-08-07T16:02:20.500Z"
   },
   {
    "duration": 68,
    "start_time": "2025-08-07T16:02:47.708Z"
   },
   {
    "duration": 74,
    "start_time": "2025-08-07T16:02:51.932Z"
   },
   {
    "duration": 8,
    "start_time": "2025-08-07T16:04:13.948Z"
   },
   {
    "duration": 7,
    "start_time": "2025-08-07T16:21:51.935Z"
   },
   {
    "duration": 5,
    "start_time": "2025-08-07T16:21:57.167Z"
   },
   {
    "duration": 43,
    "start_time": "2025-08-07T16:22:00.421Z"
   },
   {
    "duration": 5,
    "start_time": "2025-08-07T16:22:09.029Z"
   },
   {
    "duration": 43,
    "start_time": "2025-08-07T16:22:11.759Z"
   },
   {
    "duration": 5,
    "start_time": "2025-08-07T16:22:16.262Z"
   },
   {
    "duration": 42,
    "start_time": "2025-08-07T16:22:19.134Z"
   },
   {
    "duration": 5,
    "start_time": "2025-08-07T16:22:24.564Z"
   },
   {
    "duration": 44,
    "start_time": "2025-08-07T16:22:27.080Z"
   },
   {
    "duration": 5,
    "start_time": "2025-08-07T16:22:33.352Z"
   },
   {
    "duration": 42,
    "start_time": "2025-08-07T16:22:40.521Z"
   },
   {
    "duration": 13,
    "start_time": "2025-08-07T16:22:46.361Z"
   },
   {
    "duration": 32,
    "start_time": "2025-08-07T16:26:21.091Z"
   },
   {
    "duration": 5,
    "start_time": "2025-08-07T16:26:27.993Z"
   },
   {
    "duration": 42,
    "start_time": "2025-08-07T16:26:32.401Z"
   },
   {
    "duration": 5,
    "start_time": "2025-08-07T16:27:40.105Z"
   },
   {
    "duration": 5,
    "start_time": "2025-08-07T16:27:56.343Z"
   },
   {
    "duration": 30,
    "start_time": "2025-08-07T16:28:01.253Z"
   },
   {
    "duration": 194,
    "start_time": "2025-08-07T16:28:27.403Z"
   },
   {
    "duration": 9,
    "start_time": "2025-08-07T16:33:55.205Z"
   },
   {
    "duration": 4,
    "start_time": "2025-08-07T16:36:43.732Z"
   },
   {
    "duration": 5,
    "start_time": "2025-08-07T16:36:51.304Z"
   },
   {
    "duration": 18608,
    "start_time": "2025-08-07T17:33:36.216Z"
   },
   {
    "duration": 3438,
    "start_time": "2025-08-07T17:33:54.827Z"
   },
   {
    "duration": 10,
    "start_time": "2025-08-07T17:33:58.267Z"
   },
   {
    "duration": 121,
    "start_time": "2025-08-07T17:33:58.280Z"
   },
   {
    "duration": 11,
    "start_time": "2025-08-07T17:33:58.403Z"
   },
   {
    "duration": 9,
    "start_time": "2025-08-07T17:33:58.416Z"
   },
   {
    "duration": 10,
    "start_time": "2025-08-07T17:33:58.427Z"
   },
   {
    "duration": 9,
    "start_time": "2025-08-07T17:33:58.439Z"
   },
   {
    "duration": 10,
    "start_time": "2025-08-07T17:33:58.450Z"
   },
   {
    "duration": 7,
    "start_time": "2025-08-07T17:33:58.462Z"
   },
   {
    "duration": 6,
    "start_time": "2025-08-07T17:33:58.470Z"
   },
   {
    "duration": 93,
    "start_time": "2025-08-07T17:33:58.477Z"
   },
   {
    "duration": 26,
    "start_time": "2025-08-07T17:33:58.572Z"
   },
   {
    "duration": 15,
    "start_time": "2025-08-07T17:33:58.600Z"
   },
   {
    "duration": 65,
    "start_time": "2025-08-07T17:33:58.616Z"
   },
   {
    "duration": 17,
    "start_time": "2025-08-07T17:33:58.683Z"
   },
   {
    "duration": 3,
    "start_time": "2025-08-07T17:33:58.703Z"
   },
   {
    "duration": 23,
    "start_time": "2025-08-07T17:33:58.707Z"
   },
   {
    "duration": 14,
    "start_time": "2025-08-07T17:33:58.731Z"
   },
   {
    "duration": 33,
    "start_time": "2025-08-07T17:33:58.762Z"
   },
   {
    "duration": 3,
    "start_time": "2025-08-07T17:33:58.797Z"
   },
   {
    "duration": 14,
    "start_time": "2025-08-07T17:33:58.802Z"
   },
   {
    "duration": 11,
    "start_time": "2025-08-07T17:33:58.817Z"
   },
   {
    "duration": 3,
    "start_time": "2025-08-07T17:33:58.829Z"
   },
   {
    "duration": 30,
    "start_time": "2025-08-07T17:33:58.833Z"
   },
   {
    "duration": 19,
    "start_time": "2025-08-07T17:33:58.865Z"
   },
   {
    "duration": 5,
    "start_time": "2025-08-07T17:33:58.886Z"
   },
   {
    "duration": 85,
    "start_time": "2025-08-07T17:33:58.895Z"
   },
   {
    "duration": 10,
    "start_time": "2025-08-07T17:33:58.982Z"
   },
   {
    "duration": 2,
    "start_time": "2025-08-07T17:33:58.994Z"
   },
   {
    "duration": 4,
    "start_time": "2025-08-07T17:33:58.998Z"
   },
   {
    "duration": 48,
    "start_time": "2025-08-07T17:33:59.004Z"
   },
   {
    "duration": 73,
    "start_time": "2025-08-07T17:33:59.054Z"
   },
   {
    "duration": 5,
    "start_time": "2025-08-07T17:33:59.129Z"
   },
   {
    "duration": 46,
    "start_time": "2025-08-07T17:33:59.136Z"
   },
   {
    "duration": 9,
    "start_time": "2025-08-07T17:33:59.184Z"
   },
   {
    "duration": 411,
    "start_time": "2025-08-07T17:33:59.195Z"
   },
   {
    "duration": 6,
    "start_time": "2025-08-07T17:33:59.608Z"
   },
   {
    "duration": 82,
    "start_time": "2025-08-07T17:33:59.615Z"
   },
   {
    "duration": 5,
    "start_time": "2025-08-07T17:33:59.698Z"
   },
   {
    "duration": 97,
    "start_time": "2025-08-07T17:33:59.704Z"
   },
   {
    "duration": 5,
    "start_time": "2025-08-07T17:33:59.803Z"
   },
   {
    "duration": 94,
    "start_time": "2025-08-07T17:33:59.809Z"
   },
   {
    "duration": 8,
    "start_time": "2025-08-07T17:33:59.905Z"
   },
   {
    "duration": 28,
    "start_time": "2025-08-07T17:33:59.914Z"
   },
   {
    "duration": 5,
    "start_time": "2025-08-07T17:33:59.944Z"
   },
   {
    "duration": 57,
    "start_time": "2025-08-07T17:33:59.951Z"
   },
   {
    "duration": 5,
    "start_time": "2025-08-07T17:34:00.010Z"
   },
   {
    "duration": 104,
    "start_time": "2025-08-07T17:34:00.016Z"
   },
   {
    "duration": 5,
    "start_time": "2025-08-07T17:34:00.121Z"
   },
   {
    "duration": 57,
    "start_time": "2025-08-07T17:34:00.128Z"
   },
   {
    "duration": 57,
    "start_time": "2025-08-07T17:34:00.186Z"
   },
   {
    "duration": 62,
    "start_time": "2025-08-07T17:34:00.245Z"
   },
   {
    "duration": 138,
    "start_time": "2025-08-07T17:34:00.309Z"
   },
   {
    "duration": 54,
    "start_time": "2025-08-07T17:34:00.448Z"
   },
   {
    "duration": 11,
    "start_time": "2025-08-07T17:34:00.504Z"
   },
   {
    "duration": 54,
    "start_time": "2025-08-07T17:34:00.516Z"
   },
   {
    "duration": 6,
    "start_time": "2025-08-07T17:34:00.571Z"
   },
   {
    "duration": 64,
    "start_time": "2025-08-07T17:34:00.578Z"
   },
   {
    "duration": 61,
    "start_time": "2025-08-07T17:34:00.644Z"
   },
   {
    "duration": 27,
    "start_time": "2025-08-07T17:34:00.707Z"
   },
   {
    "duration": 178,
    "start_time": "2025-08-07T17:34:00.735Z"
   },
   {
    "duration": 72,
    "start_time": "2025-08-07T17:34:00.915Z"
   },
   {
    "duration": 0,
    "start_time": "2025-08-07T17:34:00.990Z"
   },
   {
    "duration": 0,
    "start_time": "2025-08-07T17:34:00.991Z"
   },
   {
    "duration": 0,
    "start_time": "2025-08-07T17:34:00.992Z"
   },
   {
    "duration": 0,
    "start_time": "2025-08-07T17:34:00.994Z"
   },
   {
    "duration": 0,
    "start_time": "2025-08-07T17:34:00.995Z"
   },
   {
    "duration": 0,
    "start_time": "2025-08-07T17:34:00.996Z"
   },
   {
    "duration": 0,
    "start_time": "2025-08-07T17:34:00.998Z"
   },
   {
    "duration": 0,
    "start_time": "2025-08-07T17:34:00.999Z"
   },
   {
    "duration": 0,
    "start_time": "2025-08-07T17:34:01.001Z"
   },
   {
    "duration": 0,
    "start_time": "2025-08-07T17:34:01.002Z"
   },
   {
    "duration": 0,
    "start_time": "2025-08-07T17:34:01.004Z"
   },
   {
    "duration": 0,
    "start_time": "2025-08-07T17:34:01.005Z"
   },
   {
    "duration": 0,
    "start_time": "2025-08-07T17:34:01.006Z"
   },
   {
    "duration": 0,
    "start_time": "2025-08-07T17:34:01.008Z"
   },
   {
    "duration": 0,
    "start_time": "2025-08-07T17:34:01.009Z"
   },
   {
    "duration": 0,
    "start_time": "2025-08-07T17:34:01.010Z"
   },
   {
    "duration": 0,
    "start_time": "2025-08-07T17:34:01.012Z"
   },
   {
    "duration": 0,
    "start_time": "2025-08-07T17:34:01.013Z"
   },
   {
    "duration": 0,
    "start_time": "2025-08-07T17:34:01.014Z"
   },
   {
    "duration": 0,
    "start_time": "2025-08-07T17:34:01.016Z"
   },
   {
    "duration": 0,
    "start_time": "2025-08-07T17:34:01.017Z"
   },
   {
    "duration": 0,
    "start_time": "2025-08-07T17:34:01.018Z"
   },
   {
    "duration": 0,
    "start_time": "2025-08-07T17:34:01.020Z"
   },
   {
    "duration": 0,
    "start_time": "2025-08-07T17:34:01.021Z"
   },
   {
    "duration": 1,
    "start_time": "2025-08-07T17:34:01.022Z"
   },
   {
    "duration": 0,
    "start_time": "2025-08-07T17:34:01.024Z"
   },
   {
    "duration": 0,
    "start_time": "2025-08-07T17:34:01.025Z"
   },
   {
    "duration": 1,
    "start_time": "2025-08-07T17:34:01.026Z"
   },
   {
    "duration": 0,
    "start_time": "2025-08-07T17:34:01.028Z"
   },
   {
    "duration": 0,
    "start_time": "2025-08-07T17:34:01.029Z"
   },
   {
    "duration": 0,
    "start_time": "2025-08-07T17:34:01.063Z"
   },
   {
    "duration": 0,
    "start_time": "2025-08-07T17:34:01.064Z"
   },
   {
    "duration": 0,
    "start_time": "2025-08-07T17:34:01.066Z"
   },
   {
    "duration": 0,
    "start_time": "2025-08-07T17:34:01.067Z"
   },
   {
    "duration": 0,
    "start_time": "2025-08-07T17:34:01.068Z"
   },
   {
    "duration": 0,
    "start_time": "2025-08-07T17:34:01.070Z"
   },
   {
    "duration": 0,
    "start_time": "2025-08-07T17:34:01.071Z"
   },
   {
    "duration": 0,
    "start_time": "2025-08-07T17:34:01.072Z"
   },
   {
    "duration": 0,
    "start_time": "2025-08-07T17:34:01.074Z"
   },
   {
    "duration": 0,
    "start_time": "2025-08-07T17:34:01.075Z"
   },
   {
    "duration": 0,
    "start_time": "2025-08-07T17:34:01.077Z"
   },
   {
    "duration": 0,
    "start_time": "2025-08-07T17:34:01.078Z"
   },
   {
    "duration": 0,
    "start_time": "2025-08-07T17:34:01.079Z"
   },
   {
    "duration": 0,
    "start_time": "2025-08-07T17:34:01.080Z"
   },
   {
    "duration": 0,
    "start_time": "2025-08-07T17:34:01.082Z"
   },
   {
    "duration": 0,
    "start_time": "2025-08-07T17:34:01.083Z"
   },
   {
    "duration": 0,
    "start_time": "2025-08-07T17:34:01.084Z"
   },
   {
    "duration": 0,
    "start_time": "2025-08-07T17:34:01.086Z"
   },
   {
    "duration": 0,
    "start_time": "2025-08-07T17:34:01.087Z"
   },
   {
    "duration": 0,
    "start_time": "2025-08-07T17:34:01.089Z"
   },
   {
    "duration": 0,
    "start_time": "2025-08-07T17:34:01.090Z"
   },
   {
    "duration": 0,
    "start_time": "2025-08-07T17:34:01.091Z"
   },
   {
    "duration": 0,
    "start_time": "2025-08-07T17:34:01.092Z"
   },
   {
    "duration": 0,
    "start_time": "2025-08-07T17:34:01.093Z"
   },
   {
    "duration": 0,
    "start_time": "2025-08-07T17:34:01.094Z"
   },
   {
    "duration": 0,
    "start_time": "2025-08-07T17:34:01.095Z"
   },
   {
    "duration": 0,
    "start_time": "2025-08-07T17:34:01.096Z"
   },
   {
    "duration": 0,
    "start_time": "2025-08-07T17:34:01.096Z"
   },
   {
    "duration": 0,
    "start_time": "2025-08-07T17:34:01.097Z"
   },
   {
    "duration": 0,
    "start_time": "2025-08-07T17:34:01.098Z"
   },
   {
    "duration": 0,
    "start_time": "2025-08-07T17:34:01.099Z"
   },
   {
    "duration": 0,
    "start_time": "2025-08-07T17:34:01.162Z"
   },
   {
    "duration": 0,
    "start_time": "2025-08-07T17:34:01.163Z"
   },
   {
    "duration": 1,
    "start_time": "2025-08-07T17:34:01.164Z"
   },
   {
    "duration": 0,
    "start_time": "2025-08-07T17:34:01.166Z"
   },
   {
    "duration": 0,
    "start_time": "2025-08-07T17:34:01.167Z"
   },
   {
    "duration": 0,
    "start_time": "2025-08-07T17:34:01.168Z"
   },
   {
    "duration": 0,
    "start_time": "2025-08-07T17:34:01.169Z"
   },
   {
    "duration": 0,
    "start_time": "2025-08-07T17:34:01.170Z"
   },
   {
    "duration": 0,
    "start_time": "2025-08-07T17:34:01.171Z"
   },
   {
    "duration": 0,
    "start_time": "2025-08-07T17:34:01.172Z"
   },
   {
    "duration": 0,
    "start_time": "2025-08-07T17:34:01.173Z"
   },
   {
    "duration": 0,
    "start_time": "2025-08-07T17:34:01.174Z"
   },
   {
    "duration": 0,
    "start_time": "2025-08-07T17:34:01.175Z"
   },
   {
    "duration": 0,
    "start_time": "2025-08-07T17:34:01.176Z"
   },
   {
    "duration": 0,
    "start_time": "2025-08-07T17:34:01.176Z"
   },
   {
    "duration": 0,
    "start_time": "2025-08-07T17:34:01.177Z"
   },
   {
    "duration": 0,
    "start_time": "2025-08-07T17:34:01.178Z"
   },
   {
    "duration": 0,
    "start_time": "2025-08-07T17:34:01.179Z"
   },
   {
    "duration": 0,
    "start_time": "2025-08-07T17:34:01.180Z"
   },
   {
    "duration": 0,
    "start_time": "2025-08-07T17:34:01.181Z"
   },
   {
    "duration": 0,
    "start_time": "2025-08-07T17:34:01.182Z"
   },
   {
    "duration": 0,
    "start_time": "2025-08-07T17:34:01.183Z"
   },
   {
    "duration": 0,
    "start_time": "2025-08-07T17:34:01.184Z"
   },
   {
    "duration": 0,
    "start_time": "2025-08-07T17:34:01.185Z"
   },
   {
    "duration": 0,
    "start_time": "2025-08-07T17:34:01.186Z"
   },
   {
    "duration": 0,
    "start_time": "2025-08-07T17:34:01.187Z"
   },
   {
    "duration": 0,
    "start_time": "2025-08-07T17:34:01.188Z"
   },
   {
    "duration": 0,
    "start_time": "2025-08-07T17:34:01.189Z"
   },
   {
    "duration": 8,
    "start_time": "2025-08-07T17:35:40.026Z"
   },
   {
    "duration": 5,
    "start_time": "2025-08-07T17:35:54.201Z"
   },
   {
    "duration": 3,
    "start_time": "2025-08-07T17:36:04.645Z"
   },
   {
    "duration": 4,
    "start_time": "2025-08-07T17:36:09.087Z"
   },
   {
    "duration": 299,
    "start_time": "2025-08-07T17:36:15.111Z"
   },
   {
    "duration": 19,
    "start_time": "2025-08-07T17:36:28.266Z"
   },
   {
    "duration": 4,
    "start_time": "2025-08-07T17:36:35.497Z"
   },
   {
    "duration": 109,
    "start_time": "2025-08-07T17:37:22.394Z"
   },
   {
    "duration": 71,
    "start_time": "2025-08-07T17:37:38.116Z"
   },
   {
    "duration": 68,
    "start_time": "2025-08-07T17:37:41.084Z"
   },
   {
    "duration": 72,
    "start_time": "2025-08-07T17:38:11.386Z"
   },
   {
    "duration": 33,
    "start_time": "2025-08-07T17:38:42.926Z"
   },
   {
    "duration": 34,
    "start_time": "2025-08-07T17:39:06.906Z"
   },
   {
    "duration": 5,
    "start_time": "2025-08-07T17:39:12.288Z"
   },
   {
    "duration": 6,
    "start_time": "2025-08-07T17:39:15.845Z"
   },
   {
    "duration": 1319,
    "start_time": "2025-08-07T17:40:47.147Z"
   },
   {
    "duration": 1304,
    "start_time": "2025-08-07T17:41:12.216Z"
   },
   {
    "duration": 22,
    "start_time": "2025-08-07T17:44:21.107Z"
   },
   {
    "duration": 9,
    "start_time": "2025-08-07T17:44:47.380Z"
   },
   {
    "duration": 9,
    "start_time": "2025-08-07T17:44:57.508Z"
   },
   {
    "duration": 9,
    "start_time": "2025-08-07T17:45:09.724Z"
   },
   {
    "duration": 10,
    "start_time": "2025-08-07T17:45:17.392Z"
   },
   {
    "duration": 8,
    "start_time": "2025-08-07T17:45:22.611Z"
   },
   {
    "duration": 6,
    "start_time": "2025-08-07T17:46:14.753Z"
   },
   {
    "duration": 7,
    "start_time": "2025-08-07T17:47:11.950Z"
   },
   {
    "duration": 6,
    "start_time": "2025-08-07T17:47:17.945Z"
   },
   {
    "duration": 6,
    "start_time": "2025-08-07T17:48:25.155Z"
   },
   {
    "duration": 6,
    "start_time": "2025-08-07T17:50:18.337Z"
   },
   {
    "duration": 7,
    "start_time": "2025-08-07T17:50:38.657Z"
   },
   {
    "duration": 4,
    "start_time": "2025-08-07T17:51:05.703Z"
   },
   {
    "duration": 4,
    "start_time": "2025-08-07T17:51:46.364Z"
   },
   {
    "duration": 444,
    "start_time": "2025-08-07T17:57:01.137Z"
   },
   {
    "duration": 8,
    "start_time": "2025-08-07T17:57:09.195Z"
   },
   {
    "duration": 8,
    "start_time": "2025-08-07T17:57:20.152Z"
   },
   {
    "duration": 86,
    "start_time": "2025-08-07T18:02:25.143Z"
   },
   {
    "duration": 81,
    "start_time": "2025-08-07T18:02:29.704Z"
   },
   {
    "duration": 11,
    "start_time": "2025-08-07T18:02:52.004Z"
   },
   {
    "duration": 24,
    "start_time": "2025-08-07T18:11:23.197Z"
   },
   {
    "duration": 8,
    "start_time": "2025-08-07T18:11:40.983Z"
   },
   {
    "duration": 7,
    "start_time": "2025-08-07T18:13:19.691Z"
   },
   {
    "duration": 9,
    "start_time": "2025-08-07T18:13:30.246Z"
   },
   {
    "duration": 10,
    "start_time": "2025-08-07T18:21:37.718Z"
   },
   {
    "duration": 250,
    "start_time": "2025-08-07T18:22:13.171Z"
   },
   {
    "duration": 19,
    "start_time": "2025-08-07T18:22:30.218Z"
   },
   {
    "duration": 24,
    "start_time": "2025-08-07T18:22:36.408Z"
   },
   {
    "duration": 7,
    "start_time": "2025-08-07T18:27:03.274Z"
   },
   {
    "duration": 11,
    "start_time": "2025-08-07T18:27:41.796Z"
   },
   {
    "duration": 12,
    "start_time": "2025-08-07T18:28:18.575Z"
   },
   {
    "duration": 1432,
    "start_time": "2025-08-07T18:28:21.985Z"
   },
   {
    "duration": 10,
    "start_time": "2025-08-07T18:28:39.809Z"
   },
   {
    "duration": 1398,
    "start_time": "2025-08-07T18:28:42.789Z"
   },
   {
    "duration": 10,
    "start_time": "2025-08-07T18:28:58.739Z"
   },
   {
    "duration": 7,
    "start_time": "2025-08-07T18:29:01.334Z"
   },
   {
    "duration": 5,
    "start_time": "2025-08-07T18:32:18.455Z"
   },
   {
    "duration": 43,
    "start_time": "2025-08-07T18:32:32.745Z"
   },
   {
    "duration": 4,
    "start_time": "2025-08-07T18:33:26.493Z"
   },
   {
    "duration": 4,
    "start_time": "2025-08-07T18:33:35.846Z"
   },
   {
    "duration": 28,
    "start_time": "2025-08-07T18:33:46.405Z"
   },
   {
    "duration": 5,
    "start_time": "2025-08-07T18:42:22.290Z"
   },
   {
    "duration": 43,
    "start_time": "2025-08-07T18:43:20.522Z"
   },
   {
    "duration": 19,
    "start_time": "2025-08-07T18:45:04.063Z"
   },
   {
    "duration": 5,
    "start_time": "2025-08-07T18:45:14.728Z"
   },
   {
    "duration": 28,
    "start_time": "2025-08-07T18:45:21.545Z"
   },
   {
    "duration": 5,
    "start_time": "2025-08-07T18:45:29.173Z"
   },
   {
    "duration": 42,
    "start_time": "2025-08-07T18:45:38.323Z"
   },
   {
    "duration": 4,
    "start_time": "2025-08-07T18:47:01.146Z"
   },
   {
    "duration": 26,
    "start_time": "2025-08-07T18:47:07.096Z"
   },
   {
    "duration": 6,
    "start_time": "2025-08-07T18:47:16.345Z"
   },
   {
    "duration": 43,
    "start_time": "2025-08-07T18:47:27.845Z"
   },
   {
    "duration": 4,
    "start_time": "2025-08-07T18:48:20.573Z"
   },
   {
    "duration": 27,
    "start_time": "2025-08-07T18:48:26.119Z"
   },
   {
    "duration": 5,
    "start_time": "2025-08-07T18:48:36.665Z"
   },
   {
    "duration": 44,
    "start_time": "2025-08-07T18:48:42.317Z"
   },
   {
    "duration": 44,
    "start_time": "2025-08-07T18:48:48.717Z"
   },
   {
    "duration": 4,
    "start_time": "2025-08-07T18:49:33.313Z"
   },
   {
    "duration": 27,
    "start_time": "2025-08-07T18:49:40.354Z"
   },
   {
    "duration": 5,
    "start_time": "2025-08-07T18:49:48.445Z"
   },
   {
    "duration": 43,
    "start_time": "2025-08-07T18:49:58.916Z"
   },
   {
    "duration": 4,
    "start_time": "2025-08-07T18:50:32.245Z"
   },
   {
    "duration": 27,
    "start_time": "2025-08-07T18:50:36.843Z"
   },
   {
    "duration": 11,
    "start_time": "2025-08-07T18:52:31.825Z"
   },
   {
    "duration": 10,
    "start_time": "2025-08-07T18:52:52.895Z"
   },
   {
    "duration": 4,
    "start_time": "2025-08-07T18:53:09.536Z"
   },
   {
    "duration": 52,
    "start_time": "2025-08-07T19:08:28.896Z"
   },
   {
    "duration": 48,
    "start_time": "2025-08-07T19:08:49.976Z"
   },
   {
    "duration": 54,
    "start_time": "2025-08-07T19:09:02.046Z"
   },
   {
    "duration": 52,
    "start_time": "2025-08-07T19:10:18.387Z"
   },
   {
    "duration": 31,
    "start_time": "2025-08-07T19:11:02.652Z"
   },
   {
    "duration": 168,
    "start_time": "2025-08-07T19:13:13.917Z"
   },
   {
    "duration": 40,
    "start_time": "2025-08-07T19:14:04.180Z"
   },
   {
    "duration": 5,
    "start_time": "2025-08-07T19:14:10.254Z"
   },
   {
    "duration": 26,
    "start_time": "2025-08-07T19:14:21.161Z"
   },
   {
    "duration": 6,
    "start_time": "2025-08-07T19:14:41.069Z"
   },
   {
    "duration": 1413,
    "start_time": "2025-08-07T19:14:49.178Z"
   },
   {
    "duration": 1421,
    "start_time": "2025-08-07T19:15:29.737Z"
   },
   {
    "duration": 139,
    "start_time": "2025-08-07T19:18:29.799Z"
   },
   {
    "duration": 10,
    "start_time": "2025-08-07T19:18:46.187Z"
   },
   {
    "duration": 38,
    "start_time": "2025-08-07T19:19:02.110Z"
   },
   {
    "duration": 1421,
    "start_time": "2025-08-07T19:20:07.621Z"
   },
   {
    "duration": 19,
    "start_time": "2025-08-07T19:28:24.518Z"
   },
   {
    "duration": 19,
    "start_time": "2025-08-07T19:28:39.081Z"
   },
   {
    "duration": 27,
    "start_time": "2025-08-07T19:29:00.461Z"
   },
   {
    "duration": 25,
    "start_time": "2025-08-07T19:29:31.979Z"
   },
   {
    "duration": 16,
    "start_time": "2025-08-07T19:29:37.980Z"
   },
   {
    "duration": 6,
    "start_time": "2025-08-07T19:41:14.034Z"
   },
   {
    "duration": 7,
    "start_time": "2025-08-07T19:41:17.771Z"
   },
   {
    "duration": 8,
    "start_time": "2025-08-07T19:41:21.935Z"
   },
   {
    "duration": 9,
    "start_time": "2025-08-07T19:42:08.473Z"
   },
   {
    "duration": 49527,
    "start_time": "2025-08-07T21:21:44.977Z"
   },
   {
    "duration": 3824,
    "start_time": "2025-08-07T21:22:34.507Z"
   },
   {
    "duration": 10,
    "start_time": "2025-08-07T21:22:38.333Z"
   },
   {
    "duration": 72,
    "start_time": "2025-08-07T21:22:38.345Z"
   },
   {
    "duration": 29,
    "start_time": "2025-08-07T21:22:38.419Z"
   },
   {
    "duration": 8,
    "start_time": "2025-08-07T21:22:38.450Z"
   },
   {
    "duration": 17,
    "start_time": "2025-08-07T21:22:38.460Z"
   },
   {
    "duration": 12,
    "start_time": "2025-08-07T21:22:38.479Z"
   },
   {
    "duration": 10,
    "start_time": "2025-08-07T21:22:38.492Z"
   },
   {
    "duration": 8,
    "start_time": "2025-08-07T21:22:38.504Z"
   },
   {
    "duration": 18,
    "start_time": "2025-08-07T21:22:38.514Z"
   },
   {
    "duration": 258,
    "start_time": "2025-08-07T21:22:38.534Z"
   },
   {
    "duration": 27,
    "start_time": "2025-08-07T21:22:38.794Z"
   },
   {
    "duration": 66,
    "start_time": "2025-08-07T21:22:38.823Z"
   },
   {
    "duration": 19,
    "start_time": "2025-08-07T21:22:38.890Z"
   },
   {
    "duration": 14,
    "start_time": "2025-08-07T21:22:38.910Z"
   },
   {
    "duration": 3,
    "start_time": "2025-08-07T21:22:38.925Z"
   },
   {
    "duration": 19,
    "start_time": "2025-08-07T21:22:38.929Z"
   },
   {
    "duration": 14,
    "start_time": "2025-08-07T21:22:38.949Z"
   },
   {
    "duration": 70,
    "start_time": "2025-08-07T21:22:38.964Z"
   },
   {
    "duration": 4,
    "start_time": "2025-08-07T21:22:39.035Z"
   },
   {
    "duration": 19,
    "start_time": "2025-08-07T21:22:39.041Z"
   },
   {
    "duration": 10,
    "start_time": "2025-08-07T21:22:39.062Z"
   },
   {
    "duration": 2,
    "start_time": "2025-08-07T21:22:39.074Z"
   },
   {
    "duration": 23,
    "start_time": "2025-08-07T21:22:39.078Z"
   },
   {
    "duration": 14,
    "start_time": "2025-08-07T21:22:39.102Z"
   },
   {
    "duration": 5,
    "start_time": "2025-08-07T21:22:39.118Z"
   },
   {
    "duration": 13,
    "start_time": "2025-08-07T21:22:39.127Z"
   },
   {
    "duration": 9,
    "start_time": "2025-08-07T21:22:39.141Z"
   },
   {
    "duration": 3,
    "start_time": "2025-08-07T21:22:39.151Z"
   },
   {
    "duration": 8,
    "start_time": "2025-08-07T21:22:39.155Z"
   },
   {
    "duration": 5,
    "start_time": "2025-08-07T21:22:39.164Z"
   },
   {
    "duration": 103,
    "start_time": "2025-08-07T21:22:39.170Z"
   },
   {
    "duration": 5,
    "start_time": "2025-08-07T21:22:39.274Z"
   },
   {
    "duration": 28,
    "start_time": "2025-08-07T21:22:39.280Z"
   },
   {
    "duration": 8,
    "start_time": "2025-08-07T21:22:39.310Z"
   },
   {
    "duration": 308,
    "start_time": "2025-08-07T21:22:39.320Z"
   },
   {
    "duration": 5,
    "start_time": "2025-08-07T21:22:39.629Z"
   },
   {
    "duration": 90,
    "start_time": "2025-08-07T21:22:39.636Z"
   },
   {
    "duration": 5,
    "start_time": "2025-08-07T21:22:39.728Z"
   },
   {
    "duration": 103,
    "start_time": "2025-08-07T21:22:39.735Z"
   },
   {
    "duration": 5,
    "start_time": "2025-08-07T21:22:39.840Z"
   },
   {
    "duration": 87,
    "start_time": "2025-08-07T21:22:39.846Z"
   },
   {
    "duration": 8,
    "start_time": "2025-08-07T21:22:39.935Z"
   },
   {
    "duration": 20,
    "start_time": "2025-08-07T21:22:39.944Z"
   },
   {
    "duration": 6,
    "start_time": "2025-08-07T21:22:39.966Z"
   },
   {
    "duration": 64,
    "start_time": "2025-08-07T21:22:39.974Z"
   },
   {
    "duration": 5,
    "start_time": "2025-08-07T21:22:40.040Z"
   },
   {
    "duration": 64,
    "start_time": "2025-08-07T21:22:40.046Z"
   },
   {
    "duration": 5,
    "start_time": "2025-08-07T21:22:40.112Z"
   },
   {
    "duration": 46,
    "start_time": "2025-08-07T21:22:40.119Z"
   },
   {
    "duration": 34,
    "start_time": "2025-08-07T21:22:40.166Z"
   },
   {
    "duration": 53,
    "start_time": "2025-08-07T21:22:40.201Z"
   },
   {
    "duration": 5,
    "start_time": "2025-08-07T21:22:40.255Z"
   },
   {
    "duration": 116,
    "start_time": "2025-08-07T21:22:40.262Z"
   },
   {
    "duration": 24,
    "start_time": "2025-08-07T21:22:40.379Z"
   },
   {
    "duration": 35,
    "start_time": "2025-08-07T21:22:40.405Z"
   },
   {
    "duration": 5,
    "start_time": "2025-08-07T21:22:40.442Z"
   },
   {
    "duration": 64,
    "start_time": "2025-08-07T21:22:40.448Z"
   },
   {
    "duration": 4,
    "start_time": "2025-08-07T21:22:40.514Z"
   },
   {
    "duration": 32,
    "start_time": "2025-08-07T21:22:40.519Z"
   },
   {
    "duration": 209,
    "start_time": "2025-08-07T21:22:40.553Z"
   },
   {
    "duration": 8,
    "start_time": "2025-08-07T21:22:40.764Z"
   },
   {
    "duration": 111,
    "start_time": "2025-08-07T21:22:40.799Z"
   },
   {
    "duration": 11,
    "start_time": "2025-08-07T21:22:40.912Z"
   },
   {
    "duration": 14,
    "start_time": "2025-08-07T21:22:40.925Z"
   },
   {
    "duration": 264,
    "start_time": "2025-08-07T21:22:40.941Z"
   },
   {
    "duration": 28,
    "start_time": "2025-08-07T21:22:41.207Z"
   },
   {
    "duration": 9,
    "start_time": "2025-08-07T21:22:41.237Z"
   },
   {
    "duration": 12,
    "start_time": "2025-08-07T21:22:41.299Z"
   },
   {
    "duration": 118,
    "start_time": "2025-08-07T21:22:41.312Z"
   },
   {
    "duration": 9,
    "start_time": "2025-08-07T21:22:41.432Z"
   },
   {
    "duration": 126,
    "start_time": "2025-08-07T21:22:41.443Z"
   },
   {
    "duration": 4,
    "start_time": "2025-08-07T21:22:41.570Z"
   },
   {
    "duration": 34,
    "start_time": "2025-08-07T21:22:41.576Z"
   },
   {
    "duration": 5,
    "start_time": "2025-08-07T21:22:41.612Z"
   },
   {
    "duration": 60,
    "start_time": "2025-08-07T21:22:41.618Z"
   },
   {
    "duration": 20,
    "start_time": "2025-08-07T21:22:41.679Z"
   },
   {
    "duration": 44,
    "start_time": "2025-08-07T21:22:41.701Z"
   },
   {
    "duration": 5,
    "start_time": "2025-08-07T21:22:41.747Z"
   },
   {
    "duration": 139,
    "start_time": "2025-08-07T21:22:41.754Z"
   },
   {
    "duration": 230,
    "start_time": "2025-08-07T21:22:41.900Z"
   },
   {
    "duration": 355,
    "start_time": "2025-08-07T21:22:42.132Z"
   },
   {
    "duration": 95,
    "start_time": "2025-08-07T21:22:42.488Z"
   },
   {
    "duration": 859,
    "start_time": "2025-08-07T21:22:42.585Z"
   },
   {
    "duration": 255,
    "start_time": "2025-08-07T21:22:43.445Z"
   },
   {
    "duration": 263,
    "start_time": "2025-08-07T21:22:43.702Z"
   },
   {
    "duration": 196,
    "start_time": "2025-08-07T21:22:43.967Z"
   },
   {
    "duration": 454,
    "start_time": "2025-08-07T21:22:44.164Z"
   },
   {
    "duration": 494,
    "start_time": "2025-08-07T21:22:44.619Z"
   },
   {
    "duration": 470,
    "start_time": "2025-08-07T21:22:45.115Z"
   },
   {
    "duration": 310,
    "start_time": "2025-08-07T21:22:45.587Z"
   },
   {
    "duration": 300,
    "start_time": "2025-08-07T21:22:45.899Z"
   },
   {
    "duration": 290,
    "start_time": "2025-08-07T21:22:46.200Z"
   },
   {
    "duration": 40,
    "start_time": "2025-08-07T21:22:46.492Z"
   },
   {
    "duration": 15,
    "start_time": "2025-08-07T21:22:46.534Z"
   },
   {
    "duration": 53,
    "start_time": "2025-08-07T21:22:46.552Z"
   },
   {
    "duration": 64,
    "start_time": "2025-08-07T21:22:46.607Z"
   },
   {
    "duration": 197,
    "start_time": "2025-08-07T21:22:46.672Z"
   },
   {
    "duration": 68,
    "start_time": "2025-08-07T21:22:46.871Z"
   },
   {
    "duration": 40,
    "start_time": "2025-08-07T21:22:46.941Z"
   },
   {
    "duration": 168,
    "start_time": "2025-08-07T21:22:46.998Z"
   },
   {
    "duration": 6,
    "start_time": "2025-08-07T21:22:47.168Z"
   },
   {
    "duration": 7,
    "start_time": "2025-08-07T21:22:47.198Z"
   },
   {
    "duration": 1565,
    "start_time": "2025-08-07T21:22:47.207Z"
   },
   {
    "duration": 1492,
    "start_time": "2025-08-07T21:22:48.774Z"
   },
   {
    "duration": 2,
    "start_time": "2025-08-07T21:22:50.268Z"
   },
   {
    "duration": 101,
    "start_time": "2025-08-07T21:22:50.272Z"
   },
   {
    "duration": 14,
    "start_time": "2025-08-07T21:22:50.375Z"
   },
   {
    "duration": 155,
    "start_time": "2025-08-07T21:22:50.391Z"
   },
   {
    "duration": 428,
    "start_time": "2025-08-07T21:22:50.548Z"
   },
   {
    "duration": 0,
    "start_time": "2025-08-07T21:22:50.978Z"
   },
   {
    "duration": 0,
    "start_time": "2025-08-07T21:22:50.979Z"
   },
   {
    "duration": 0,
    "start_time": "2025-08-07T21:22:50.980Z"
   },
   {
    "duration": 0,
    "start_time": "2025-08-07T21:22:50.981Z"
   },
   {
    "duration": 0,
    "start_time": "2025-08-07T21:22:50.982Z"
   },
   {
    "duration": 0,
    "start_time": "2025-08-07T21:22:50.983Z"
   },
   {
    "duration": 0,
    "start_time": "2025-08-07T21:22:50.999Z"
   },
   {
    "duration": 0,
    "start_time": "2025-08-07T21:22:51.000Z"
   },
   {
    "duration": 0,
    "start_time": "2025-08-07T21:22:51.001Z"
   },
   {
    "duration": 0,
    "start_time": "2025-08-07T21:22:51.002Z"
   },
   {
    "duration": 0,
    "start_time": "2025-08-07T21:22:51.003Z"
   },
   {
    "duration": 0,
    "start_time": "2025-08-07T21:22:51.004Z"
   },
   {
    "duration": 0,
    "start_time": "2025-08-07T21:22:51.005Z"
   },
   {
    "duration": 0,
    "start_time": "2025-08-07T21:22:51.006Z"
   },
   {
    "duration": 0,
    "start_time": "2025-08-07T21:22:51.009Z"
   },
   {
    "duration": 0,
    "start_time": "2025-08-07T21:22:51.010Z"
   },
   {
    "duration": 0,
    "start_time": "2025-08-07T21:22:51.011Z"
   },
   {
    "duration": 0,
    "start_time": "2025-08-07T21:22:51.013Z"
   },
   {
    "duration": 0,
    "start_time": "2025-08-07T21:22:51.013Z"
   },
   {
    "duration": 0,
    "start_time": "2025-08-07T21:22:51.015Z"
   },
   {
    "duration": 0,
    "start_time": "2025-08-07T21:22:51.016Z"
   },
   {
    "duration": 0,
    "start_time": "2025-08-07T21:22:51.017Z"
   },
   {
    "duration": 0,
    "start_time": "2025-08-07T21:22:51.018Z"
   },
   {
    "duration": 0,
    "start_time": "2025-08-07T21:22:51.019Z"
   },
   {
    "duration": 0,
    "start_time": "2025-08-07T21:22:51.020Z"
   },
   {
    "duration": 1,
    "start_time": "2025-08-07T21:22:51.021Z"
   },
   {
    "duration": 0,
    "start_time": "2025-08-07T21:22:51.022Z"
   },
   {
    "duration": 0,
    "start_time": "2025-08-07T21:22:51.023Z"
   },
   {
    "duration": 0,
    "start_time": "2025-08-07T21:22:51.024Z"
   },
   {
    "duration": 0,
    "start_time": "2025-08-07T21:22:51.025Z"
   },
   {
    "duration": 0,
    "start_time": "2025-08-07T21:22:51.026Z"
   },
   {
    "duration": 1,
    "start_time": "2025-08-07T21:22:51.027Z"
   },
   {
    "duration": 0,
    "start_time": "2025-08-07T21:22:51.029Z"
   },
   {
    "duration": 0,
    "start_time": "2025-08-07T21:22:51.030Z"
   },
   {
    "duration": 0,
    "start_time": "2025-08-07T21:22:51.031Z"
   },
   {
    "duration": 0,
    "start_time": "2025-08-07T21:22:51.032Z"
   },
   {
    "duration": 0,
    "start_time": "2025-08-07T21:22:51.033Z"
   },
   {
    "duration": 0,
    "start_time": "2025-08-07T21:22:51.034Z"
   },
   {
    "duration": 0,
    "start_time": "2025-08-07T21:22:51.035Z"
   },
   {
    "duration": 0,
    "start_time": "2025-08-07T21:22:51.098Z"
   },
   {
    "duration": 0,
    "start_time": "2025-08-07T21:22:51.100Z"
   },
   {
    "duration": 0,
    "start_time": "2025-08-07T21:22:51.101Z"
   },
   {
    "duration": 0,
    "start_time": "2025-08-07T21:22:51.102Z"
   },
   {
    "duration": 0,
    "start_time": "2025-08-07T21:22:51.103Z"
   },
   {
    "duration": 0,
    "start_time": "2025-08-07T21:22:51.104Z"
   },
   {
    "duration": 3,
    "start_time": "2025-08-07T21:36:18.747Z"
   },
   {
    "duration": 23,
    "start_time": "2025-08-07T21:38:18.027Z"
   },
   {
    "duration": 10,
    "start_time": "2025-08-07T21:39:01.688Z"
   },
   {
    "duration": 10,
    "start_time": "2025-08-07T21:39:04.697Z"
   },
   {
    "duration": 26,
    "start_time": "2025-08-07T21:45:42.027Z"
   },
   {
    "duration": 4,
    "start_time": "2025-08-07T21:45:49.115Z"
   },
   {
    "duration": 20,
    "start_time": "2025-08-07T21:45:55.655Z"
   },
   {
    "duration": 22,
    "start_time": "2025-08-07T21:57:44.555Z"
   },
   {
    "duration": 3,
    "start_time": "2025-08-07T21:58:13.023Z"
   },
   {
    "duration": 23,
    "start_time": "2025-08-07T21:58:17.743Z"
   },
   {
    "duration": 6,
    "start_time": "2025-08-07T21:58:39.155Z"
   },
   {
    "duration": 54,
    "start_time": "2025-08-07T21:58:57.996Z"
   },
   {
    "duration": 29,
    "start_time": "2025-08-07T21:59:19.503Z"
   },
   {
    "duration": 50,
    "start_time": "2025-08-07T21:59:35.443Z"
   },
   {
    "duration": 18,
    "start_time": "2025-08-07T22:01:24.127Z"
   },
   {
    "duration": 18,
    "start_time": "2025-08-07T22:01:30.540Z"
   },
   {
    "duration": 20,
    "start_time": "2025-08-07T22:01:42.885Z"
   },
   {
    "duration": 17,
    "start_time": "2025-08-07T22:02:21.414Z"
   },
   {
    "duration": 20,
    "start_time": "2025-08-07T22:02:33.084Z"
   },
   {
    "duration": 22,
    "start_time": "2025-08-07T22:03:39.484Z"
   },
   {
    "duration": 52,
    "start_time": "2025-08-07T22:04:11.517Z"
   },
   {
    "duration": 45,
    "start_time": "2025-08-07T22:05:49.593Z"
   },
   {
    "duration": 221,
    "start_time": "2025-08-07T22:08:46.585Z"
   },
   {
    "duration": 273,
    "start_time": "2025-08-07T22:09:14.044Z"
   },
   {
    "duration": 5,
    "start_time": "2025-08-07T22:09:36.444Z"
   },
   {
    "duration": 89,
    "start_time": "2025-08-07T22:11:58.261Z"
   },
   {
    "duration": 175,
    "start_time": "2025-08-07T22:12:03.930Z"
   },
   {
    "duration": 42,
    "start_time": "2025-08-07T23:03:49.056Z"
   },
   {
    "duration": 22,
    "start_time": "2025-08-07T23:04:17.723Z"
   },
   {
    "duration": 22,
    "start_time": "2025-08-07T23:04:24.981Z"
   },
   {
    "duration": 45,
    "start_time": "2025-08-07T23:04:57.499Z"
   },
   {
    "duration": 25,
    "start_time": "2025-08-07T23:05:19.960Z"
   },
   {
    "duration": 46393,
    "start_time": "2025-08-09T08:49:31.716Z"
   },
   {
    "duration": 4117,
    "start_time": "2025-08-09T08:50:18.111Z"
   },
   {
    "duration": 10,
    "start_time": "2025-08-09T08:50:22.230Z"
   },
   {
    "duration": 22,
    "start_time": "2025-08-09T08:50:22.243Z"
   },
   {
    "duration": 11,
    "start_time": "2025-08-09T08:50:22.267Z"
   },
   {
    "duration": 10,
    "start_time": "2025-08-09T08:50:22.279Z"
   },
   {
    "duration": 9,
    "start_time": "2025-08-09T08:50:22.291Z"
   },
   {
    "duration": 9,
    "start_time": "2025-08-09T08:50:22.302Z"
   },
   {
    "duration": 9,
    "start_time": "2025-08-09T08:50:22.312Z"
   },
   {
    "duration": 7,
    "start_time": "2025-08-09T08:50:22.324Z"
   },
   {
    "duration": 34,
    "start_time": "2025-08-09T08:50:22.333Z"
   },
   {
    "duration": 490,
    "start_time": "2025-08-09T08:50:22.368Z"
   },
   {
    "duration": 26,
    "start_time": "2025-08-09T08:50:22.860Z"
   },
   {
    "duration": 123,
    "start_time": "2025-08-09T08:50:22.888Z"
   },
   {
    "duration": 18,
    "start_time": "2025-08-09T08:50:23.013Z"
   },
   {
    "duration": 19,
    "start_time": "2025-08-09T08:50:23.033Z"
   },
   {
    "duration": 63,
    "start_time": "2025-08-09T08:50:23.053Z"
   },
   {
    "duration": 37,
    "start_time": "2025-08-09T08:50:23.118Z"
   },
   {
    "duration": 13,
    "start_time": "2025-08-09T08:50:23.157Z"
   },
   {
    "duration": 64,
    "start_time": "2025-08-09T08:50:23.172Z"
   },
   {
    "duration": 4,
    "start_time": "2025-08-09T08:50:23.237Z"
   },
   {
    "duration": 13,
    "start_time": "2025-08-09T08:50:23.243Z"
   },
   {
    "duration": 10,
    "start_time": "2025-08-09T08:50:23.257Z"
   },
   {
    "duration": 3,
    "start_time": "2025-08-09T08:50:23.268Z"
   },
   {
    "duration": 17,
    "start_time": "2025-08-09T08:50:23.272Z"
   },
   {
    "duration": 14,
    "start_time": "2025-08-09T08:50:23.291Z"
   },
   {
    "duration": 6,
    "start_time": "2025-08-09T08:50:23.307Z"
   },
   {
    "duration": 8,
    "start_time": "2025-08-09T08:50:23.317Z"
   },
   {
    "duration": 74,
    "start_time": "2025-08-09T08:50:23.327Z"
   },
   {
    "duration": 2,
    "start_time": "2025-08-09T08:50:23.403Z"
   },
   {
    "duration": 7,
    "start_time": "2025-08-09T08:50:23.407Z"
   },
   {
    "duration": 4,
    "start_time": "2025-08-09T08:50:23.415Z"
   },
   {
    "duration": 69,
    "start_time": "2025-08-09T08:50:23.421Z"
   },
   {
    "duration": 5,
    "start_time": "2025-08-09T08:50:23.491Z"
   },
   {
    "duration": 17,
    "start_time": "2025-08-09T08:50:23.498Z"
   },
   {
    "duration": 11,
    "start_time": "2025-08-09T08:50:23.516Z"
   },
   {
    "duration": 189,
    "start_time": "2025-08-09T08:50:23.528Z"
   },
   {
    "duration": 5,
    "start_time": "2025-08-09T08:50:23.719Z"
   },
   {
    "duration": 91,
    "start_time": "2025-08-09T08:50:23.726Z"
   },
   {
    "duration": 5,
    "start_time": "2025-08-09T08:50:23.863Z"
   },
   {
    "duration": 49,
    "start_time": "2025-08-09T08:50:23.870Z"
   },
   {
    "duration": 5,
    "start_time": "2025-08-09T08:50:23.920Z"
   },
   {
    "duration": 82,
    "start_time": "2025-08-09T08:50:23.927Z"
   },
   {
    "duration": 7,
    "start_time": "2025-08-09T08:50:24.010Z"
   },
   {
    "duration": 29,
    "start_time": "2025-08-09T08:50:24.019Z"
   },
   {
    "duration": 7,
    "start_time": "2025-08-09T08:50:24.049Z"
   },
   {
    "duration": 45,
    "start_time": "2025-08-09T08:50:24.057Z"
   },
   {
    "duration": 5,
    "start_time": "2025-08-09T08:50:24.103Z"
   },
   {
    "duration": 67,
    "start_time": "2025-08-09T08:50:24.110Z"
   },
   {
    "duration": 5,
    "start_time": "2025-08-09T08:50:24.178Z"
   },
   {
    "duration": 52,
    "start_time": "2025-08-09T08:50:24.184Z"
   },
   {
    "duration": 5,
    "start_time": "2025-08-09T08:50:24.238Z"
   },
   {
    "duration": 54,
    "start_time": "2025-08-09T08:50:24.263Z"
   },
   {
    "duration": 4,
    "start_time": "2025-08-09T08:50:24.319Z"
   },
   {
    "duration": 67,
    "start_time": "2025-08-09T08:50:24.325Z"
   },
   {
    "duration": 11,
    "start_time": "2025-08-09T08:50:24.394Z"
   },
   {
    "duration": 102,
    "start_time": "2025-08-09T08:50:24.407Z"
   },
   {
    "duration": 5,
    "start_time": "2025-08-09T08:50:24.510Z"
   },
   {
    "duration": 45,
    "start_time": "2025-08-09T08:50:24.517Z"
   },
   {
    "duration": 4,
    "start_time": "2025-08-09T08:50:24.563Z"
   },
   {
    "duration": 27,
    "start_time": "2025-08-09T08:50:24.568Z"
   },
   {
    "duration": 207,
    "start_time": "2025-08-09T08:50:24.597Z"
   },
   {
    "duration": 8,
    "start_time": "2025-08-09T08:50:24.806Z"
   },
   {
    "duration": 50,
    "start_time": "2025-08-09T08:50:24.815Z"
   },
   {
    "duration": 2,
    "start_time": "2025-08-09T08:50:24.867Z"
   },
   {
    "duration": 152,
    "start_time": "2025-08-09T08:50:24.871Z"
   },
   {
    "duration": 238,
    "start_time": "2025-08-09T08:50:25.024Z"
   },
   {
    "duration": 24,
    "start_time": "2025-08-09T08:50:25.264Z"
   },
   {
    "duration": 7,
    "start_time": "2025-08-09T08:50:25.290Z"
   },
   {
    "duration": 14,
    "start_time": "2025-08-09T08:50:25.299Z"
   },
   {
    "duration": 52,
    "start_time": "2025-08-09T08:50:25.314Z"
   },
   {
    "duration": 36,
    "start_time": "2025-08-09T08:50:25.368Z"
   },
   {
    "duration": 46,
    "start_time": "2025-08-09T08:50:25.406Z"
   },
   {
    "duration": 4,
    "start_time": "2025-08-09T08:50:25.454Z"
   },
   {
    "duration": 28,
    "start_time": "2025-08-09T08:50:25.462Z"
   },
   {
    "duration": 5,
    "start_time": "2025-08-09T08:50:25.491Z"
   },
   {
    "duration": 65,
    "start_time": "2025-08-09T08:50:25.498Z"
   },
   {
    "duration": 4,
    "start_time": "2025-08-09T08:50:25.564Z"
   },
   {
    "duration": 29,
    "start_time": "2025-08-09T08:50:25.570Z"
   },
   {
    "duration": 4,
    "start_time": "2025-08-09T08:50:25.601Z"
   },
   {
    "duration": 67,
    "start_time": "2025-08-09T08:50:25.607Z"
   },
   {
    "duration": 4,
    "start_time": "2025-08-09T08:50:25.681Z"
   },
   {
    "duration": 111,
    "start_time": "2025-08-09T08:50:25.687Z"
   },
   {
    "duration": 5,
    "start_time": "2025-08-09T08:50:25.799Z"
   },
   {
    "duration": 47,
    "start_time": "2025-08-09T08:50:25.806Z"
   },
   {
    "duration": 10,
    "start_time": "2025-08-09T08:50:25.854Z"
   },
   {
    "duration": 39,
    "start_time": "2025-08-09T08:50:25.865Z"
   },
   {
    "duration": 5,
    "start_time": "2025-08-09T08:50:25.906Z"
   },
   {
    "duration": 62,
    "start_time": "2025-08-09T08:50:25.913Z"
   },
   {
    "duration": 4,
    "start_time": "2025-08-09T08:50:25.977Z"
   },
   {
    "duration": 27,
    "start_time": "2025-08-09T08:50:25.982Z"
   },
   {
    "duration": 4,
    "start_time": "2025-08-09T08:50:26.011Z"
   },
   {
    "duration": 69,
    "start_time": "2025-08-09T08:50:26.017Z"
   },
   {
    "duration": 5,
    "start_time": "2025-08-09T08:50:26.087Z"
   },
   {
    "duration": 35,
    "start_time": "2025-08-09T08:50:26.093Z"
   },
   {
    "duration": 10,
    "start_time": "2025-08-09T08:50:26.130Z"
   },
   {
    "duration": 23,
    "start_time": "2025-08-09T08:50:26.142Z"
   },
   {
    "duration": 52,
    "start_time": "2025-08-09T08:50:26.167Z"
   },
   {
    "duration": 65,
    "start_time": "2025-08-09T08:50:26.220Z"
   },
   {
    "duration": 51,
    "start_time": "2025-08-09T08:50:26.287Z"
   },
   {
    "duration": 56,
    "start_time": "2025-08-09T08:50:26.340Z"
   },
   {
    "duration": 184,
    "start_time": "2025-08-09T08:50:26.398Z"
   },
   {
    "duration": 7,
    "start_time": "2025-08-09T08:50:26.583Z"
   },
   {
    "duration": 9,
    "start_time": "2025-08-09T08:50:26.592Z"
   },
   {
    "duration": 1436,
    "start_time": "2025-08-09T08:50:26.603Z"
   },
   {
    "duration": 1414,
    "start_time": "2025-08-09T08:50:28.041Z"
   },
   {
    "duration": 6,
    "start_time": "2025-08-09T08:50:29.456Z"
   },
   {
    "duration": 8,
    "start_time": "2025-08-09T08:50:29.464Z"
   },
   {
    "duration": 26,
    "start_time": "2025-08-09T08:50:29.474Z"
   },
   {
    "duration": 8,
    "start_time": "2025-08-09T08:50:29.502Z"
   },
   {
    "duration": 325,
    "start_time": "2025-08-09T08:50:29.512Z"
   },
   {
    "duration": 0,
    "start_time": "2025-08-09T08:50:29.838Z"
   },
   {
    "duration": 0,
    "start_time": "2025-08-09T08:50:29.839Z"
   },
   {
    "duration": 0,
    "start_time": "2025-08-09T08:50:29.841Z"
   },
   {
    "duration": 0,
    "start_time": "2025-08-09T08:50:29.842Z"
   },
   {
    "duration": 0,
    "start_time": "2025-08-09T08:50:29.843Z"
   },
   {
    "duration": 0,
    "start_time": "2025-08-09T08:50:29.844Z"
   },
   {
    "duration": 0,
    "start_time": "2025-08-09T08:50:29.863Z"
   },
   {
    "duration": 0,
    "start_time": "2025-08-09T08:50:29.864Z"
   },
   {
    "duration": 0,
    "start_time": "2025-08-09T08:50:29.865Z"
   },
   {
    "duration": 0,
    "start_time": "2025-08-09T08:50:29.866Z"
   },
   {
    "duration": 0,
    "start_time": "2025-08-09T08:50:29.868Z"
   },
   {
    "duration": 0,
    "start_time": "2025-08-09T08:50:29.869Z"
   },
   {
    "duration": 0,
    "start_time": "2025-08-09T08:50:29.869Z"
   },
   {
    "duration": 0,
    "start_time": "2025-08-09T08:50:29.870Z"
   },
   {
    "duration": 0,
    "start_time": "2025-08-09T08:50:29.872Z"
   },
   {
    "duration": 0,
    "start_time": "2025-08-09T08:50:29.873Z"
   },
   {
    "duration": 0,
    "start_time": "2025-08-09T08:50:29.874Z"
   },
   {
    "duration": 0,
    "start_time": "2025-08-09T08:50:29.876Z"
   },
   {
    "duration": 0,
    "start_time": "2025-08-09T08:50:29.876Z"
   },
   {
    "duration": 0,
    "start_time": "2025-08-09T08:50:29.877Z"
   },
   {
    "duration": 0,
    "start_time": "2025-08-09T08:50:29.882Z"
   },
   {
    "duration": 0,
    "start_time": "2025-08-09T08:50:29.884Z"
   },
   {
    "duration": 0,
    "start_time": "2025-08-09T08:50:29.885Z"
   },
   {
    "duration": 0,
    "start_time": "2025-08-09T08:50:29.886Z"
   },
   {
    "duration": 0,
    "start_time": "2025-08-09T08:50:29.888Z"
   },
   {
    "duration": 0,
    "start_time": "2025-08-09T08:50:29.889Z"
   },
   {
    "duration": 0,
    "start_time": "2025-08-09T08:50:29.890Z"
   },
   {
    "duration": 0,
    "start_time": "2025-08-09T08:50:29.892Z"
   },
   {
    "duration": 0,
    "start_time": "2025-08-09T08:50:29.893Z"
   },
   {
    "duration": 0,
    "start_time": "2025-08-09T08:50:29.894Z"
   },
   {
    "duration": 0,
    "start_time": "2025-08-09T08:50:29.895Z"
   },
   {
    "duration": 0,
    "start_time": "2025-08-09T08:50:29.897Z"
   },
   {
    "duration": 0,
    "start_time": "2025-08-09T08:50:29.898Z"
   },
   {
    "duration": 0,
    "start_time": "2025-08-09T08:50:29.898Z"
   },
   {
    "duration": 0,
    "start_time": "2025-08-09T08:50:29.900Z"
   },
   {
    "duration": 0,
    "start_time": "2025-08-09T08:50:29.962Z"
   },
   {
    "duration": 0,
    "start_time": "2025-08-09T08:50:29.964Z"
   },
   {
    "duration": 0,
    "start_time": "2025-08-09T08:50:29.966Z"
   },
   {
    "duration": 0,
    "start_time": "2025-08-09T08:50:29.967Z"
   },
   {
    "duration": 0,
    "start_time": "2025-08-09T08:50:29.969Z"
   },
   {
    "duration": 0,
    "start_time": "2025-08-09T08:50:29.970Z"
   },
   {
    "duration": 0,
    "start_time": "2025-08-09T08:50:29.971Z"
   },
   {
    "duration": 0,
    "start_time": "2025-08-09T08:50:29.973Z"
   },
   {
    "duration": 0,
    "start_time": "2025-08-09T08:50:29.974Z"
   },
   {
    "duration": 0,
    "start_time": "2025-08-09T08:50:29.976Z"
   },
   {
    "duration": 0,
    "start_time": "2025-08-09T08:50:29.977Z"
   },
   {
    "duration": 0,
    "start_time": "2025-08-09T08:50:29.978Z"
   },
   {
    "duration": 0,
    "start_time": "2025-08-09T08:50:29.980Z"
   },
   {
    "duration": 7,
    "start_time": "2025-08-09T08:57:30.874Z"
   },
   {
    "duration": 8,
    "start_time": "2025-08-09T08:57:45.881Z"
   },
   {
    "duration": 3,
    "start_time": "2025-08-09T08:58:35.759Z"
   },
   {
    "duration": 8,
    "start_time": "2025-08-09T08:58:41.591Z"
   },
   {
    "duration": 4,
    "start_time": "2025-08-09T10:00:05.335Z"
   },
   {
    "duration": 4,
    "start_time": "2025-08-09T10:00:30.325Z"
   },
   {
    "duration": 5,
    "start_time": "2025-08-09T10:00:42.315Z"
   },
   {
    "duration": 4,
    "start_time": "2025-08-09T10:01:38.286Z"
   },
   {
    "duration": 3,
    "start_time": "2025-08-09T10:02:48.886Z"
   },
   {
    "duration": 4,
    "start_time": "2025-08-09T10:03:23.292Z"
   },
   {
    "duration": 4,
    "start_time": "2025-08-09T10:03:45.904Z"
   },
   {
    "duration": 8,
    "start_time": "2025-08-09T10:04:09.237Z"
   },
   {
    "duration": 7,
    "start_time": "2025-08-09T10:04:36.858Z"
   },
   {
    "duration": 8,
    "start_time": "2025-08-09T10:09:06.392Z"
   },
   {
    "duration": 2,
    "start_time": "2025-08-09T10:11:01.631Z"
   },
   {
    "duration": 6,
    "start_time": "2025-08-09T10:19:45.865Z"
   },
   {
    "duration": 21,
    "start_time": "2025-08-09T10:19:52.789Z"
   },
   {
    "duration": 5,
    "start_time": "2025-08-09T10:19:56.794Z"
   },
   {
    "duration": 5,
    "start_time": "2025-08-09T10:20:00.934Z"
   },
   {
    "duration": 101,
    "start_time": "2025-08-09T10:43:34.923Z"
   },
   {
    "duration": 6,
    "start_time": "2025-08-09T10:43:40.837Z"
   },
   {
    "duration": 6,
    "start_time": "2025-08-09T10:44:01.267Z"
   },
   {
    "duration": 8,
    "start_time": "2025-08-09T10:44:34.911Z"
   },
   {
    "duration": 6,
    "start_time": "2025-08-09T10:53:30.463Z"
   },
   {
    "duration": 4,
    "start_time": "2025-08-09T10:53:41.291Z"
   },
   {
    "duration": 5,
    "start_time": "2025-08-09T10:53:47.479Z"
   },
   {
    "duration": 6,
    "start_time": "2025-08-09T11:04:39.058Z"
   },
   {
    "duration": 4,
    "start_time": "2025-08-09T11:04:46.218Z"
   },
   {
    "duration": 19,
    "start_time": "2025-08-09T11:05:04.848Z"
   },
   {
    "duration": 19,
    "start_time": "2025-08-09T11:05:09.818Z"
   },
   {
    "duration": 4,
    "start_time": "2025-08-09T11:05:50.599Z"
   },
   {
    "duration": 4,
    "start_time": "2025-08-09T11:05:57.413Z"
   },
   {
    "duration": 74,
    "start_time": "2025-08-09T11:06:09.812Z"
   },
   {
    "duration": 4,
    "start_time": "2025-08-09T11:06:14.350Z"
   },
   {
    "duration": 5,
    "start_time": "2025-08-09T11:06:19.403Z"
   },
   {
    "duration": 4,
    "start_time": "2025-08-09T11:06:32.128Z"
   },
   {
    "duration": 2,
    "start_time": "2025-08-09T11:13:11.684Z"
   },
   {
    "duration": 5,
    "start_time": "2025-08-09T11:13:12.292Z"
   },
   {
    "duration": 19,
    "start_time": "2025-08-09T11:35:35.204Z"
   },
   {
    "duration": 4,
    "start_time": "2025-08-09T11:35:52.636Z"
   },
   {
    "duration": 18,
    "start_time": "2025-08-09T11:36:36.136Z"
   },
   {
    "duration": 19,
    "start_time": "2025-08-09T11:36:43.920Z"
   },
   {
    "duration": 2,
    "start_time": "2025-08-09T11:37:29.587Z"
   },
   {
    "duration": 3,
    "start_time": "2025-08-09T11:37:35.676Z"
   },
   {
    "duration": 3,
    "start_time": "2025-08-09T11:41:33.900Z"
   },
   {
    "duration": 3,
    "start_time": "2025-08-09T11:41:38.707Z"
   },
   {
    "duration": 4,
    "start_time": "2025-08-09T11:41:57.397Z"
   },
   {
    "duration": 3,
    "start_time": "2025-08-09T11:44:13.933Z"
   },
   {
    "duration": 4,
    "start_time": "2025-08-09T11:44:42.160Z"
   },
   {
    "duration": 3,
    "start_time": "2025-08-09T11:44:46.944Z"
   },
   {
    "duration": 4,
    "start_time": "2025-08-09T11:45:10.063Z"
   },
   {
    "duration": 4,
    "start_time": "2025-08-09T11:45:33.433Z"
   },
   {
    "duration": 1465,
    "start_time": "2025-08-09T11:45:46.879Z"
   },
   {
    "duration": 5,
    "start_time": "2025-08-09T11:45:58.982Z"
   },
   {
    "duration": 4,
    "start_time": "2025-08-09T11:46:03.903Z"
   },
   {
    "duration": 5,
    "start_time": "2025-08-09T11:50:17.421Z"
   },
   {
    "duration": 5,
    "start_time": "2025-08-09T11:50:26.894Z"
   },
   {
    "duration": 21,
    "start_time": "2025-08-09T11:50:28.673Z"
   },
   {
    "duration": 4,
    "start_time": "2025-08-09T11:50:32.567Z"
   },
   {
    "duration": 8,
    "start_time": "2025-08-09T11:50:54.394Z"
   },
   {
    "duration": 111,
    "start_time": "2025-08-09T11:51:00.922Z"
   },
   {
    "duration": 77,
    "start_time": "2025-08-09T11:51:14.064Z"
   },
   {
    "duration": 5,
    "start_time": "2025-08-09T11:51:24.964Z"
   },
   {
    "duration": 6,
    "start_time": "2025-08-09T11:51:53.072Z"
   },
   {
    "duration": 5,
    "start_time": "2025-08-09T11:52:17.197Z"
   },
   {
    "duration": 8,
    "start_time": "2025-08-09T13:05:02.753Z"
   },
   {
    "duration": 5,
    "start_time": "2025-08-09T13:05:05.265Z"
   },
   {
    "duration": 6,
    "start_time": "2025-08-09T13:05:07.439Z"
   },
   {
    "duration": 77,
    "start_time": "2025-08-09T13:05:55.263Z"
   },
   {
    "duration": 9,
    "start_time": "2025-08-09T13:06:37.903Z"
   },
   {
    "duration": 19,
    "start_time": "2025-08-09T13:06:40.226Z"
   },
   {
    "duration": 2,
    "start_time": "2025-08-09T13:06:52.662Z"
   },
   {
    "duration": 10,
    "start_time": "2025-08-09T13:07:04.481Z"
   },
   {
    "duration": 9,
    "start_time": "2025-08-09T13:07:16.515Z"
   },
   {
    "duration": 45,
    "start_time": "2025-08-09T13:07:45.817Z"
   },
   {
    "duration": 5,
    "start_time": "2025-08-09T13:08:05.718Z"
   },
   {
    "duration": 11,
    "start_time": "2025-08-09T13:08:10.305Z"
   },
   {
    "duration": 5,
    "start_time": "2025-08-09T13:08:32.140Z"
   },
   {
    "duration": 15,
    "start_time": "2025-08-09T13:09:35.386Z"
   },
   {
    "duration": 17,
    "start_time": "2025-08-09T13:09:51.191Z"
   },
   {
    "duration": 13,
    "start_time": "2025-08-09T13:10:00.031Z"
   },
   {
    "duration": 7,
    "start_time": "2025-08-09T13:10:03.790Z"
   },
   {
    "duration": 80,
    "start_time": "2025-08-09T13:20:24.394Z"
   },
   {
    "duration": 24,
    "start_time": "2025-08-09T13:20:40.696Z"
   },
   {
    "duration": 4,
    "start_time": "2025-08-09T13:20:50.658Z"
   },
   {
    "duration": 4,
    "start_time": "2025-08-09T13:23:24.193Z"
   },
   {
    "duration": 6,
    "start_time": "2025-08-09T13:24:26.191Z"
   },
   {
    "duration": 7,
    "start_time": "2025-08-09T13:24:34.957Z"
   },
   {
    "duration": 19,
    "start_time": "2025-08-09T13:24:36.682Z"
   },
   {
    "duration": 23,
    "start_time": "2025-08-09T13:24:43.275Z"
   },
   {
    "duration": 5,
    "start_time": "2025-08-09T13:25:45.216Z"
   },
   {
    "duration": 5,
    "start_time": "2025-08-09T13:25:52.154Z"
   },
   {
    "duration": 6,
    "start_time": "2025-08-09T13:26:27.619Z"
   },
   {
    "duration": 14,
    "start_time": "2025-08-09T13:26:37.441Z"
   },
   {
    "duration": 8,
    "start_time": "2025-08-09T13:26:40.386Z"
   },
   {
    "duration": 8,
    "start_time": "2025-08-09T13:26:42.670Z"
   },
   {
    "duration": 7,
    "start_time": "2025-08-09T13:30:23.677Z"
   },
   {
    "duration": 6,
    "start_time": "2025-08-09T13:30:30.532Z"
   },
   {
    "duration": 19,
    "start_time": "2025-08-09T13:30:33.165Z"
   },
   {
    "duration": 11,
    "start_time": "2025-08-09T13:30:38.669Z"
   },
   {
    "duration": 8,
    "start_time": "2025-08-09T13:30:41.424Z"
   },
   {
    "duration": 6,
    "start_time": "2025-08-09T13:36:21.462Z"
   },
   {
    "duration": 18,
    "start_time": "2025-08-09T13:36:33.591Z"
   },
   {
    "duration": 13,
    "start_time": "2025-08-09T13:36:40.203Z"
   },
   {
    "duration": 8,
    "start_time": "2025-08-09T13:36:42.919Z"
   },
   {
    "duration": 8,
    "start_time": "2025-08-09T13:36:45.785Z"
   },
   {
    "duration": 6,
    "start_time": "2025-08-09T13:39:02.438Z"
   },
   {
    "duration": 18,
    "start_time": "2025-08-09T13:39:17.242Z"
   },
   {
    "duration": 12,
    "start_time": "2025-08-09T13:39:24.755Z"
   },
   {
    "duration": 8,
    "start_time": "2025-08-09T13:39:27.263Z"
   },
   {
    "duration": 8,
    "start_time": "2025-08-09T13:39:29.826Z"
   },
   {
    "duration": 6,
    "start_time": "2025-08-09T13:44:57.755Z"
   },
   {
    "duration": 18,
    "start_time": "2025-08-09T13:45:07.415Z"
   },
   {
    "duration": 18,
    "start_time": "2025-08-09T13:45:13.788Z"
   },
   {
    "duration": 6,
    "start_time": "2025-08-09T13:45:44.157Z"
   },
   {
    "duration": 12,
    "start_time": "2025-08-09T13:45:51.103Z"
   },
   {
    "duration": 7,
    "start_time": "2025-08-09T13:45:53.957Z"
   },
   {
    "duration": 5,
    "start_time": "2025-08-09T13:48:22.380Z"
   },
   {
    "duration": 22,
    "start_time": "2025-08-09T13:48:45.137Z"
   },
   {
    "duration": 8,
    "start_time": "2025-08-09T13:48:53.022Z"
   },
   {
    "duration": 7,
    "start_time": "2025-08-09T13:48:55.339Z"
   },
   {
    "duration": 18,
    "start_time": "2025-08-09T13:49:03.902Z"
   },
   {
    "duration": 11,
    "start_time": "2025-08-09T13:49:14.795Z"
   },
   {
    "duration": 7,
    "start_time": "2025-08-09T13:49:17.250Z"
   },
   {
    "duration": 8,
    "start_time": "2025-08-09T13:49:20.191Z"
   },
   {
    "duration": 6,
    "start_time": "2025-08-09T13:51:07.351Z"
   },
   {
    "duration": 5,
    "start_time": "2025-08-09T13:51:39.037Z"
   },
   {
    "duration": 18,
    "start_time": "2025-08-09T13:53:35.579Z"
   },
   {
    "duration": 13,
    "start_time": "2025-08-09T13:53:43.585Z"
   },
   {
    "duration": 19203,
    "start_time": "2025-08-09T13:59:54.544Z"
   },
   {
    "duration": 3568,
    "start_time": "2025-08-09T14:00:13.749Z"
   },
   {
    "duration": 12,
    "start_time": "2025-08-09T14:00:17.319Z"
   },
   {
    "duration": 101,
    "start_time": "2025-08-09T14:00:17.334Z"
   },
   {
    "duration": 21,
    "start_time": "2025-08-09T14:00:17.436Z"
   },
   {
    "duration": 29,
    "start_time": "2025-08-09T14:00:17.459Z"
   },
   {
    "duration": 9,
    "start_time": "2025-08-09T14:00:17.490Z"
   },
   {
    "duration": 12,
    "start_time": "2025-08-09T14:00:17.501Z"
   },
   {
    "duration": 12,
    "start_time": "2025-08-09T14:00:17.515Z"
   },
   {
    "duration": 8,
    "start_time": "2025-08-09T14:00:17.530Z"
   },
   {
    "duration": 13,
    "start_time": "2025-08-09T14:00:17.540Z"
   },
   {
    "duration": 13,
    "start_time": "2025-08-09T14:00:17.555Z"
   },
   {
    "duration": 8,
    "start_time": "2025-08-09T14:00:17.570Z"
   },
   {
    "duration": 11,
    "start_time": "2025-08-09T14:00:17.580Z"
   },
   {
    "duration": 23,
    "start_time": "2025-08-09T14:00:17.593Z"
   },
   {
    "duration": 104,
    "start_time": "2025-08-09T14:00:17.618Z"
   },
   {
    "duration": 28,
    "start_time": "2025-08-09T14:00:17.724Z"
   },
   {
    "duration": 39,
    "start_time": "2025-08-09T14:00:17.754Z"
   },
   {
    "duration": 19,
    "start_time": "2025-08-09T14:00:17.795Z"
   },
   {
    "duration": 14,
    "start_time": "2025-08-09T14:00:17.817Z"
   },
   {
    "duration": 4,
    "start_time": "2025-08-09T14:00:17.833Z"
   },
   {
    "duration": 35,
    "start_time": "2025-08-09T14:00:17.839Z"
   },
   {
    "duration": 14,
    "start_time": "2025-08-09T14:00:17.875Z"
   },
   {
    "duration": 60,
    "start_time": "2025-08-09T14:00:17.890Z"
   },
   {
    "duration": 11,
    "start_time": "2025-08-09T14:00:17.952Z"
   },
   {
    "duration": 32,
    "start_time": "2025-08-09T14:00:17.965Z"
   },
   {
    "duration": 30,
    "start_time": "2025-08-09T14:00:17.998Z"
   },
   {
    "duration": 3,
    "start_time": "2025-08-09T14:00:18.033Z"
   },
   {
    "duration": 88,
    "start_time": "2025-08-09T14:00:18.037Z"
   },
   {
    "duration": 31,
    "start_time": "2025-08-09T14:00:18.127Z"
   },
   {
    "duration": 28,
    "start_time": "2025-08-09T14:00:18.160Z"
   },
   {
    "duration": 8,
    "start_time": "2025-08-09T14:00:18.189Z"
   },
   {
    "duration": 30,
    "start_time": "2025-08-09T14:00:18.199Z"
   },
   {
    "duration": 137,
    "start_time": "2025-08-09T14:00:18.231Z"
   },
   {
    "duration": 17,
    "start_time": "2025-08-09T14:00:18.369Z"
   },
   {
    "duration": 75,
    "start_time": "2025-08-09T14:00:18.388Z"
   },
   {
    "duration": 75,
    "start_time": "2025-08-09T14:00:18.464Z"
   },
   {
    "duration": 5,
    "start_time": "2025-08-09T14:00:18.540Z"
   },
   {
    "duration": 34,
    "start_time": "2025-08-09T14:00:18.547Z"
   },
   {
    "duration": 18,
    "start_time": "2025-08-09T14:00:18.583Z"
   },
   {
    "duration": 358,
    "start_time": "2025-08-09T14:00:18.603Z"
   },
   {
    "duration": 5,
    "start_time": "2025-08-09T14:00:18.963Z"
   },
   {
    "duration": 113,
    "start_time": "2025-08-09T14:00:18.970Z"
   },
   {
    "duration": 6,
    "start_time": "2025-08-09T14:00:19.084Z"
   },
   {
    "duration": 90,
    "start_time": "2025-08-09T14:00:19.092Z"
   },
   {
    "duration": 6,
    "start_time": "2025-08-09T14:00:19.184Z"
   },
   {
    "duration": 84,
    "start_time": "2025-08-09T14:00:19.192Z"
   },
   {
    "duration": 7,
    "start_time": "2025-08-09T14:00:19.278Z"
   },
   {
    "duration": 7,
    "start_time": "2025-08-09T14:00:19.287Z"
   },
   {
    "duration": 13,
    "start_time": "2025-08-09T14:00:19.296Z"
   },
   {
    "duration": 72,
    "start_time": "2025-08-09T14:00:19.311Z"
   },
   {
    "duration": 52,
    "start_time": "2025-08-09T14:00:19.384Z"
   },
   {
    "duration": 42,
    "start_time": "2025-08-09T14:00:19.437Z"
   },
   {
    "duration": 4,
    "start_time": "2025-08-09T14:00:19.481Z"
   },
   {
    "duration": 46,
    "start_time": "2025-08-09T14:00:19.487Z"
   },
   {
    "duration": 29,
    "start_time": "2025-08-09T14:00:19.534Z"
   },
   {
    "duration": 44,
    "start_time": "2025-08-09T14:00:19.565Z"
   },
   {
    "duration": 5,
    "start_time": "2025-08-09T14:00:19.611Z"
   },
   {
    "duration": 68,
    "start_time": "2025-08-09T14:00:19.617Z"
   },
   {
    "duration": 12,
    "start_time": "2025-08-09T14:00:19.687Z"
   },
   {
    "duration": 45,
    "start_time": "2025-08-09T14:00:19.700Z"
   },
   {
    "duration": 17,
    "start_time": "2025-08-09T14:00:19.747Z"
   },
   {
    "duration": 58,
    "start_time": "2025-08-09T14:00:19.766Z"
   },
   {
    "duration": 4,
    "start_time": "2025-08-09T14:00:19.826Z"
   },
   {
    "duration": 47,
    "start_time": "2025-08-09T14:00:19.832Z"
   },
   {
    "duration": 224,
    "start_time": "2025-08-09T14:00:19.881Z"
   },
   {
    "duration": 8,
    "start_time": "2025-08-09T14:00:20.107Z"
   },
   {
    "duration": 46,
    "start_time": "2025-08-09T14:00:20.117Z"
   },
   {
    "duration": 3,
    "start_time": "2025-08-09T14:00:20.165Z"
   },
   {
    "duration": 17,
    "start_time": "2025-08-09T14:00:20.170Z"
   },
   {
    "duration": 313,
    "start_time": "2025-08-09T14:00:20.189Z"
   },
   {
    "duration": 64,
    "start_time": "2025-08-09T14:00:20.504Z"
   },
   {
    "duration": 16,
    "start_time": "2025-08-09T14:00:20.569Z"
   },
   {
    "duration": 15,
    "start_time": "2025-08-09T14:00:20.587Z"
   },
   {
    "duration": 19,
    "start_time": "2025-08-09T14:00:20.604Z"
   },
   {
    "duration": 6,
    "start_time": "2025-08-09T14:00:20.625Z"
   },
   {
    "duration": 69,
    "start_time": "2025-08-09T14:00:20.632Z"
   },
   {
    "duration": 4,
    "start_time": "2025-08-09T14:00:20.702Z"
   },
   {
    "duration": 38,
    "start_time": "2025-08-09T14:00:20.707Z"
   },
   {
    "duration": 18,
    "start_time": "2025-08-09T14:00:20.746Z"
   },
   {
    "duration": 118,
    "start_time": "2025-08-09T14:00:20.766Z"
   },
   {
    "duration": 5,
    "start_time": "2025-08-09T14:00:20.890Z"
   },
   {
    "duration": 46,
    "start_time": "2025-08-09T14:00:20.896Z"
   },
   {
    "duration": 11,
    "start_time": "2025-08-09T14:00:20.944Z"
   },
   {
    "duration": 47,
    "start_time": "2025-08-09T14:00:20.957Z"
   },
   {
    "duration": 4,
    "start_time": "2025-08-09T14:00:21.006Z"
   },
   {
    "duration": 37,
    "start_time": "2025-08-09T14:00:21.012Z"
   },
   {
    "duration": 14,
    "start_time": "2025-08-09T14:00:21.051Z"
   },
   {
    "duration": 70,
    "start_time": "2025-08-09T14:00:21.067Z"
   },
   {
    "duration": 4,
    "start_time": "2025-08-09T14:00:21.139Z"
   },
   {
    "duration": 36,
    "start_time": "2025-08-09T14:00:21.145Z"
   },
   {
    "duration": 4,
    "start_time": "2025-08-09T14:00:21.183Z"
   },
   {
    "duration": 69,
    "start_time": "2025-08-09T14:00:21.188Z"
   },
   {
    "duration": 4,
    "start_time": "2025-08-09T14:00:21.259Z"
   },
   {
    "duration": 31,
    "start_time": "2025-08-09T14:00:21.264Z"
   },
   {
    "duration": 7,
    "start_time": "2025-08-09T14:00:21.296Z"
   },
   {
    "duration": 70,
    "start_time": "2025-08-09T14:00:21.305Z"
   },
   {
    "duration": 34,
    "start_time": "2025-08-09T14:00:21.377Z"
   },
   {
    "duration": 31,
    "start_time": "2025-08-09T14:00:21.413Z"
   },
   {
    "duration": 11,
    "start_time": "2025-08-09T14:00:21.446Z"
   },
   {
    "duration": 9,
    "start_time": "2025-08-09T14:00:21.459Z"
   },
   {
    "duration": 52,
    "start_time": "2025-08-09T14:00:21.470Z"
   },
   {
    "duration": 62,
    "start_time": "2025-08-09T14:00:21.524Z"
   },
   {
    "duration": 51,
    "start_time": "2025-08-09T14:00:21.588Z"
   },
   {
    "duration": 37,
    "start_time": "2025-08-09T14:00:21.662Z"
   },
   {
    "duration": 192,
    "start_time": "2025-08-09T14:00:21.700Z"
   },
   {
    "duration": 325,
    "start_time": "2025-08-09T14:00:21.893Z"
   },
   {
    "duration": 0,
    "start_time": "2025-08-09T14:00:22.219Z"
   },
   {
    "duration": 0,
    "start_time": "2025-08-09T14:00:22.220Z"
   },
   {
    "duration": 0,
    "start_time": "2025-08-09T14:00:22.221Z"
   },
   {
    "duration": 0,
    "start_time": "2025-08-09T14:00:22.222Z"
   },
   {
    "duration": 0,
    "start_time": "2025-08-09T14:00:22.223Z"
   },
   {
    "duration": 0,
    "start_time": "2025-08-09T14:00:22.224Z"
   },
   {
    "duration": 0,
    "start_time": "2025-08-09T14:00:22.225Z"
   },
   {
    "duration": 0,
    "start_time": "2025-08-09T14:00:22.226Z"
   },
   {
    "duration": 0,
    "start_time": "2025-08-09T14:00:22.227Z"
   },
   {
    "duration": 0,
    "start_time": "2025-08-09T14:00:22.227Z"
   },
   {
    "duration": 0,
    "start_time": "2025-08-09T14:00:22.228Z"
   },
   {
    "duration": 0,
    "start_time": "2025-08-09T14:00:22.229Z"
   },
   {
    "duration": 0,
    "start_time": "2025-08-09T14:00:22.230Z"
   },
   {
    "duration": 0,
    "start_time": "2025-08-09T14:00:22.231Z"
   },
   {
    "duration": 0,
    "start_time": "2025-08-09T14:00:22.262Z"
   },
   {
    "duration": 0,
    "start_time": "2025-08-09T14:00:22.263Z"
   },
   {
    "duration": 0,
    "start_time": "2025-08-09T14:00:22.264Z"
   },
   {
    "duration": 0,
    "start_time": "2025-08-09T14:00:22.266Z"
   },
   {
    "duration": 0,
    "start_time": "2025-08-09T14:00:22.267Z"
   },
   {
    "duration": 0,
    "start_time": "2025-08-09T14:00:22.268Z"
   },
   {
    "duration": 0,
    "start_time": "2025-08-09T14:00:22.269Z"
   },
   {
    "duration": 0,
    "start_time": "2025-08-09T14:00:22.269Z"
   },
   {
    "duration": 0,
    "start_time": "2025-08-09T14:00:22.271Z"
   },
   {
    "duration": 0,
    "start_time": "2025-08-09T14:00:22.272Z"
   },
   {
    "duration": 0,
    "start_time": "2025-08-09T14:00:22.272Z"
   },
   {
    "duration": 1,
    "start_time": "2025-08-09T14:00:22.273Z"
   },
   {
    "duration": 0,
    "start_time": "2025-08-09T14:00:22.275Z"
   },
   {
    "duration": 0,
    "start_time": "2025-08-09T14:00:22.276Z"
   },
   {
    "duration": 0,
    "start_time": "2025-08-09T14:00:22.277Z"
   },
   {
    "duration": 0,
    "start_time": "2025-08-09T14:00:22.278Z"
   },
   {
    "duration": 0,
    "start_time": "2025-08-09T14:00:22.279Z"
   },
   {
    "duration": 0,
    "start_time": "2025-08-09T14:00:22.280Z"
   },
   {
    "duration": 0,
    "start_time": "2025-08-09T14:00:22.281Z"
   },
   {
    "duration": 0,
    "start_time": "2025-08-09T14:00:22.282Z"
   },
   {
    "duration": 0,
    "start_time": "2025-08-09T14:00:22.283Z"
   },
   {
    "duration": 0,
    "start_time": "2025-08-09T14:00:22.283Z"
   },
   {
    "duration": 0,
    "start_time": "2025-08-09T14:00:22.284Z"
   },
   {
    "duration": 0,
    "start_time": "2025-08-09T14:00:22.285Z"
   },
   {
    "duration": 0,
    "start_time": "2025-08-09T14:00:22.286Z"
   },
   {
    "duration": 0,
    "start_time": "2025-08-09T14:00:22.287Z"
   },
   {
    "duration": 0,
    "start_time": "2025-08-09T14:00:22.288Z"
   },
   {
    "duration": 0,
    "start_time": "2025-08-09T14:00:22.289Z"
   },
   {
    "duration": 0,
    "start_time": "2025-08-09T14:00:22.290Z"
   },
   {
    "duration": 0,
    "start_time": "2025-08-09T14:00:22.291Z"
   },
   {
    "duration": 0,
    "start_time": "2025-08-09T14:00:22.292Z"
   },
   {
    "duration": 0,
    "start_time": "2025-08-09T14:00:22.293Z"
   },
   {
    "duration": 1,
    "start_time": "2025-08-09T14:00:22.293Z"
   },
   {
    "duration": 0,
    "start_time": "2025-08-09T14:00:22.294Z"
   },
   {
    "duration": 0,
    "start_time": "2025-08-09T14:00:22.295Z"
   },
   {
    "duration": 0,
    "start_time": "2025-08-09T14:00:22.297Z"
   },
   {
    "duration": 0,
    "start_time": "2025-08-09T14:00:22.298Z"
   },
   {
    "duration": 0,
    "start_time": "2025-08-09T14:00:22.362Z"
   },
   {
    "duration": 0,
    "start_time": "2025-08-09T14:00:22.364Z"
   },
   {
    "duration": 0,
    "start_time": "2025-08-09T14:00:22.364Z"
   },
   {
    "duration": 0,
    "start_time": "2025-08-09T14:00:22.366Z"
   },
   {
    "duration": 0,
    "start_time": "2025-08-09T14:00:22.366Z"
   },
   {
    "duration": 7,
    "start_time": "2025-08-09T14:01:31.415Z"
   },
   {
    "duration": 7,
    "start_time": "2025-08-09T14:01:35.870Z"
   },
   {
    "duration": 1410,
    "start_time": "2025-08-09T14:01:39.048Z"
   },
   {
    "duration": 1405,
    "start_time": "2025-08-09T14:01:51.642Z"
   },
   {
    "duration": 15,
    "start_time": "2025-08-09T14:02:55.453Z"
   },
   {
    "duration": 37,
    "start_time": "2025-08-09T14:03:02.395Z"
   },
   {
    "duration": 6,
    "start_time": "2025-08-09T14:03:57.798Z"
   },
   {
    "duration": 32,
    "start_time": "2025-08-09T14:04:08.142Z"
   },
   {
    "duration": 5,
    "start_time": "2025-08-09T14:05:47.358Z"
   },
   {
    "duration": 4,
    "start_time": "2025-08-09T14:05:59.168Z"
   },
   {
    "duration": 22,
    "start_time": "2025-08-09T14:06:24.642Z"
   },
   {
    "duration": 4,
    "start_time": "2025-08-09T14:06:47.427Z"
   },
   {
    "duration": 20,
    "start_time": "2025-08-09T14:06:52.663Z"
   },
   {
    "duration": 4,
    "start_time": "2025-08-09T14:07:02.897Z"
   },
   {
    "duration": 21,
    "start_time": "2025-08-09T14:07:11.973Z"
   },
   {
    "duration": 51,
    "start_time": "2025-08-09T14:07:21.169Z"
   },
   {
    "duration": 4,
    "start_time": "2025-08-09T14:09:48.665Z"
   },
   {
    "duration": 32,
    "start_time": "2025-08-09T14:09:52.410Z"
   },
   {
    "duration": 28,
    "start_time": "2025-08-09T14:10:14.232Z"
   },
   {
    "duration": 43,
    "start_time": "2025-08-09T14:10:46.658Z"
   },
   {
    "duration": 5,
    "start_time": "2025-08-09T14:13:56.489Z"
   },
   {
    "duration": 4,
    "start_time": "2025-08-09T14:14:02.635Z"
   },
   {
    "duration": 43,
    "start_time": "2025-08-09T14:14:18.863Z"
   },
   {
    "duration": 18278,
    "start_time": "2025-08-09T14:15:17.655Z"
   },
   {
    "duration": 3483,
    "start_time": "2025-08-09T14:15:35.936Z"
   },
   {
    "duration": 11,
    "start_time": "2025-08-09T14:15:39.421Z"
   },
   {
    "duration": 12,
    "start_time": "2025-08-09T14:15:39.434Z"
   },
   {
    "duration": 21,
    "start_time": "2025-08-09T14:15:39.448Z"
   },
   {
    "duration": 7,
    "start_time": "2025-08-09T14:15:39.471Z"
   },
   {
    "duration": 11,
    "start_time": "2025-08-09T14:15:39.480Z"
   },
   {
    "duration": 17,
    "start_time": "2025-08-09T14:15:39.493Z"
   },
   {
    "duration": 8,
    "start_time": "2025-08-09T14:15:39.512Z"
   },
   {
    "duration": 11,
    "start_time": "2025-08-09T14:15:39.521Z"
   },
   {
    "duration": 6,
    "start_time": "2025-08-09T14:15:39.534Z"
   },
   {
    "duration": 7,
    "start_time": "2025-08-09T14:15:39.542Z"
   },
   {
    "duration": 14,
    "start_time": "2025-08-09T14:15:39.550Z"
   },
   {
    "duration": 18,
    "start_time": "2025-08-09T14:15:39.567Z"
   },
   {
    "duration": 6,
    "start_time": "2025-08-09T14:15:39.587Z"
   },
   {
    "duration": 102,
    "start_time": "2025-08-09T14:15:39.594Z"
   },
   {
    "duration": 27,
    "start_time": "2025-08-09T14:15:39.698Z"
   },
   {
    "duration": 17,
    "start_time": "2025-08-09T14:15:39.727Z"
   },
   {
    "duration": 22,
    "start_time": "2025-08-09T14:15:39.746Z"
   },
   {
    "duration": 14,
    "start_time": "2025-08-09T14:15:39.770Z"
   },
   {
    "duration": 2,
    "start_time": "2025-08-09T14:15:39.786Z"
   },
   {
    "duration": 20,
    "start_time": "2025-08-09T14:15:39.789Z"
   },
   {
    "duration": 13,
    "start_time": "2025-08-09T14:15:39.811Z"
   },
   {
    "duration": 66,
    "start_time": "2025-08-09T14:15:39.826Z"
   },
   {
    "duration": 4,
    "start_time": "2025-08-09T14:15:39.894Z"
   },
   {
    "duration": 12,
    "start_time": "2025-08-09T14:15:39.900Z"
   },
   {
    "duration": 10,
    "start_time": "2025-08-09T14:15:39.914Z"
   },
   {
    "duration": 8,
    "start_time": "2025-08-09T14:15:39.926Z"
   },
   {
    "duration": 30,
    "start_time": "2025-08-09T14:15:39.935Z"
   },
   {
    "duration": 13,
    "start_time": "2025-08-09T14:15:39.966Z"
   },
   {
    "duration": 6,
    "start_time": "2025-08-09T14:15:39.980Z"
   },
   {
    "duration": 9,
    "start_time": "2025-08-09T14:15:39.988Z"
   },
   {
    "duration": 9,
    "start_time": "2025-08-09T14:15:39.999Z"
   },
   {
    "duration": 26,
    "start_time": "2025-08-09T14:15:40.010Z"
   },
   {
    "duration": 8,
    "start_time": "2025-08-09T14:15:40.039Z"
   },
   {
    "duration": 20,
    "start_time": "2025-08-09T14:15:40.049Z"
   },
   {
    "duration": 80,
    "start_time": "2025-08-09T14:15:40.070Z"
   },
   {
    "duration": 5,
    "start_time": "2025-08-09T14:15:40.152Z"
   },
   {
    "duration": 17,
    "start_time": "2025-08-09T14:15:40.161Z"
   },
   {
    "duration": 12,
    "start_time": "2025-08-09T14:15:40.180Z"
   },
   {
    "duration": 380,
    "start_time": "2025-08-09T14:15:40.197Z"
   },
   {
    "duration": 5,
    "start_time": "2025-08-09T14:15:40.579Z"
   },
   {
    "duration": 98,
    "start_time": "2025-08-09T14:15:40.586Z"
   },
   {
    "duration": 6,
    "start_time": "2025-08-09T14:15:40.685Z"
   },
   {
    "duration": 92,
    "start_time": "2025-08-09T14:15:40.692Z"
   },
   {
    "duration": 5,
    "start_time": "2025-08-09T14:15:40.785Z"
   },
   {
    "duration": 77,
    "start_time": "2025-08-09T14:15:40.791Z"
   },
   {
    "duration": 13,
    "start_time": "2025-08-09T14:15:40.869Z"
   },
   {
    "duration": 15,
    "start_time": "2025-08-09T14:15:40.884Z"
   },
   {
    "duration": 5,
    "start_time": "2025-08-09T14:15:40.901Z"
   },
   {
    "duration": 57,
    "start_time": "2025-08-09T14:15:40.908Z"
   },
   {
    "duration": 5,
    "start_time": "2025-08-09T14:15:40.966Z"
   },
   {
    "duration": 75,
    "start_time": "2025-08-09T14:15:40.973Z"
   },
   {
    "duration": 4,
    "start_time": "2025-08-09T14:15:41.050Z"
   },
   {
    "duration": 47,
    "start_time": "2025-08-09T14:15:41.056Z"
   },
   {
    "duration": 6,
    "start_time": "2025-08-09T14:15:41.104Z"
   },
   {
    "duration": 61,
    "start_time": "2025-08-09T14:15:41.111Z"
   },
   {
    "duration": 5,
    "start_time": "2025-08-09T14:15:41.174Z"
   },
   {
    "duration": 42,
    "start_time": "2025-08-09T14:15:41.180Z"
   },
   {
    "duration": 12,
    "start_time": "2025-08-09T14:15:41.223Z"
   },
   {
    "duration": 32,
    "start_time": "2025-08-09T14:15:41.263Z"
   },
   {
    "duration": 5,
    "start_time": "2025-08-09T14:15:41.296Z"
   },
   {
    "duration": 68,
    "start_time": "2025-08-09T14:15:41.303Z"
   },
   {
    "duration": 4,
    "start_time": "2025-08-09T14:15:41.372Z"
   },
   {
    "duration": 70,
    "start_time": "2025-08-09T14:15:41.378Z"
   },
   {
    "duration": 173,
    "start_time": "2025-08-09T14:15:41.450Z"
   },
   {
    "duration": 8,
    "start_time": "2025-08-09T14:15:41.624Z"
   },
   {
    "duration": 37,
    "start_time": "2025-08-09T14:15:41.633Z"
   },
   {
    "duration": 14,
    "start_time": "2025-08-09T14:15:41.671Z"
   },
   {
    "duration": 25,
    "start_time": "2025-08-09T14:15:41.686Z"
   },
   {
    "duration": 250,
    "start_time": "2025-08-09T14:15:41.712Z"
   },
   {
    "duration": 24,
    "start_time": "2025-08-09T14:15:41.964Z"
   },
   {
    "duration": 23,
    "start_time": "2025-08-09T14:15:41.990Z"
   },
   {
    "duration": 10,
    "start_time": "2025-08-09T14:15:42.015Z"
   },
   {
    "duration": 40,
    "start_time": "2025-08-09T14:15:42.026Z"
   },
   {
    "duration": 5,
    "start_time": "2025-08-09T14:15:42.067Z"
   },
   {
    "duration": 43,
    "start_time": "2025-08-09T14:15:42.073Z"
   },
   {
    "duration": 41,
    "start_time": "2025-08-09T14:15:42.117Z"
   },
   {
    "duration": 33,
    "start_time": "2025-08-09T14:15:42.159Z"
   },
   {
    "duration": 5,
    "start_time": "2025-08-09T14:15:42.193Z"
   },
   {
    "duration": 45,
    "start_time": "2025-08-09T14:15:42.199Z"
   },
   {
    "duration": 17,
    "start_time": "2025-08-09T14:15:42.245Z"
   },
   {
    "duration": 30,
    "start_time": "2025-08-09T14:15:42.264Z"
   },
   {
    "duration": 5,
    "start_time": "2025-08-09T14:15:42.295Z"
   },
   {
    "duration": 140,
    "start_time": "2025-08-09T14:15:42.302Z"
   },
   {
    "duration": 71,
    "start_time": "2025-08-09T14:15:42.444Z"
   },
   {
    "duration": 32,
    "start_time": "2025-08-09T14:15:42.517Z"
   },
   {
    "duration": 5,
    "start_time": "2025-08-09T14:15:42.551Z"
   },
   {
    "duration": 43,
    "start_time": "2025-08-09T14:15:42.557Z"
   },
   {
    "duration": 4,
    "start_time": "2025-08-09T14:15:42.602Z"
   },
   {
    "duration": 29,
    "start_time": "2025-08-09T14:15:42.607Z"
   },
   {
    "duration": 24,
    "start_time": "2025-08-09T14:15:42.638Z"
   },
   {
    "duration": 46,
    "start_time": "2025-08-09T14:15:42.664Z"
   },
   {
    "duration": 4,
    "start_time": "2025-08-09T14:15:42.711Z"
   },
   {
    "duration": 48,
    "start_time": "2025-08-09T14:15:42.717Z"
   },
   {
    "duration": 5,
    "start_time": "2025-08-09T14:15:42.767Z"
   },
   {
    "duration": 48,
    "start_time": "2025-08-09T14:15:42.773Z"
   },
   {
    "duration": 5,
    "start_time": "2025-08-09T14:15:42.822Z"
   },
   {
    "duration": 66,
    "start_time": "2025-08-09T14:15:42.828Z"
   },
   {
    "duration": 10,
    "start_time": "2025-08-09T14:15:42.895Z"
   },
   {
    "duration": 4,
    "start_time": "2025-08-09T14:15:42.907Z"
   },
   {
    "duration": 62,
    "start_time": "2025-08-09T14:15:42.912Z"
   },
   {
    "duration": 41,
    "start_time": "2025-08-09T14:15:42.975Z"
   },
   {
    "duration": 69,
    "start_time": "2025-08-09T14:15:43.017Z"
   },
   {
    "duration": 35,
    "start_time": "2025-08-09T14:15:43.088Z"
   },
   {
    "duration": 190,
    "start_time": "2025-08-09T14:15:43.124Z"
   },
   {
    "duration": 8,
    "start_time": "2025-08-09T14:15:43.315Z"
   },
   {
    "duration": 42,
    "start_time": "2025-08-09T14:15:43.324Z"
   },
   {
    "duration": 1509,
    "start_time": "2025-08-09T14:15:43.368Z"
   },
   {
    "duration": 1443,
    "start_time": "2025-08-09T14:15:44.878Z"
   },
   {
    "duration": 3,
    "start_time": "2025-08-09T14:15:46.322Z"
   },
   {
    "duration": 190,
    "start_time": "2025-08-09T14:15:46.326Z"
   },
   {
    "duration": 32,
    "start_time": "2025-08-09T14:15:46.518Z"
   },
   {
    "duration": 19,
    "start_time": "2025-08-09T14:15:46.552Z"
   },
   {
    "duration": 32,
    "start_time": "2025-08-09T14:15:46.573Z"
   },
   {
    "duration": 2,
    "start_time": "2025-08-09T14:15:46.607Z"
   },
   {
    "duration": 22,
    "start_time": "2025-08-09T14:15:46.611Z"
   },
   {
    "duration": 23,
    "start_time": "2025-08-09T14:15:46.635Z"
   },
   {
    "duration": 3,
    "start_time": "2025-08-09T14:15:46.660Z"
   },
   {
    "duration": 15,
    "start_time": "2025-08-09T14:15:46.665Z"
   },
   {
    "duration": 78,
    "start_time": "2025-08-09T14:15:46.682Z"
   },
   {
    "duration": 68,
    "start_time": "2025-08-09T14:15:46.768Z"
   },
   {
    "duration": 0,
    "start_time": "2025-08-09T14:15:46.838Z"
   },
   {
    "duration": 0,
    "start_time": "2025-08-09T14:15:46.839Z"
   },
   {
    "duration": 0,
    "start_time": "2025-08-09T14:15:46.840Z"
   },
   {
    "duration": 0,
    "start_time": "2025-08-09T14:15:46.841Z"
   },
   {
    "duration": 0,
    "start_time": "2025-08-09T14:15:46.842Z"
   },
   {
    "duration": 0,
    "start_time": "2025-08-09T14:15:46.843Z"
   },
   {
    "duration": 0,
    "start_time": "2025-08-09T14:15:46.844Z"
   },
   {
    "duration": 0,
    "start_time": "2025-08-09T14:15:46.845Z"
   },
   {
    "duration": 0,
    "start_time": "2025-08-09T14:15:46.846Z"
   },
   {
    "duration": 0,
    "start_time": "2025-08-09T14:15:46.847Z"
   },
   {
    "duration": 0,
    "start_time": "2025-08-09T14:15:46.848Z"
   },
   {
    "duration": 0,
    "start_time": "2025-08-09T14:15:46.849Z"
   },
   {
    "duration": 0,
    "start_time": "2025-08-09T14:15:46.850Z"
   },
   {
    "duration": 0,
    "start_time": "2025-08-09T14:15:46.851Z"
   },
   {
    "duration": 0,
    "start_time": "2025-08-09T14:15:46.852Z"
   },
   {
    "duration": 0,
    "start_time": "2025-08-09T14:15:46.853Z"
   },
   {
    "duration": 0,
    "start_time": "2025-08-09T14:15:46.853Z"
   },
   {
    "duration": 0,
    "start_time": "2025-08-09T14:15:46.854Z"
   },
   {
    "duration": 0,
    "start_time": "2025-08-09T14:15:46.855Z"
   },
   {
    "duration": 0,
    "start_time": "2025-08-09T14:15:46.856Z"
   },
   {
    "duration": 0,
    "start_time": "2025-08-09T14:15:46.857Z"
   },
   {
    "duration": 0,
    "start_time": "2025-08-09T14:15:46.858Z"
   },
   {
    "duration": 0,
    "start_time": "2025-08-09T14:15:46.859Z"
   },
   {
    "duration": 0,
    "start_time": "2025-08-09T14:15:46.860Z"
   },
   {
    "duration": 0,
    "start_time": "2025-08-09T14:15:46.860Z"
   },
   {
    "duration": 0,
    "start_time": "2025-08-09T14:15:46.861Z"
   },
   {
    "duration": 0,
    "start_time": "2025-08-09T14:15:46.863Z"
   },
   {
    "duration": 0,
    "start_time": "2025-08-09T14:15:46.863Z"
   },
   {
    "duration": 0,
    "start_time": "2025-08-09T14:15:46.864Z"
   },
   {
    "duration": 0,
    "start_time": "2025-08-09T14:15:46.865Z"
   },
   {
    "duration": 0,
    "start_time": "2025-08-09T14:15:46.866Z"
   },
   {
    "duration": 0,
    "start_time": "2025-08-09T14:15:46.867Z"
   },
   {
    "duration": 0,
    "start_time": "2025-08-09T14:15:46.868Z"
   },
   {
    "duration": 0,
    "start_time": "2025-08-09T14:15:46.868Z"
   },
   {
    "duration": 0,
    "start_time": "2025-08-09T14:15:46.869Z"
   },
   {
    "duration": 0,
    "start_time": "2025-08-09T14:15:46.870Z"
   },
   {
    "duration": 0,
    "start_time": "2025-08-09T14:15:46.871Z"
   },
   {
    "duration": 0,
    "start_time": "2025-08-09T14:15:46.872Z"
   },
   {
    "duration": 0,
    "start_time": "2025-08-09T14:15:46.873Z"
   },
   {
    "duration": 0,
    "start_time": "2025-08-09T14:15:46.874Z"
   },
   {
    "duration": 0,
    "start_time": "2025-08-09T14:15:46.875Z"
   },
   {
    "duration": 0,
    "start_time": "2025-08-09T14:15:46.876Z"
   },
   {
    "duration": 6,
    "start_time": "2025-08-09T15:29:23.000Z"
   },
   {
    "duration": 4,
    "start_time": "2025-08-09T15:29:29.452Z"
   },
   {
    "duration": 4,
    "start_time": "2025-08-09T15:29:52.278Z"
   },
   {
    "duration": 45,
    "start_time": "2025-08-09T15:29:57.110Z"
   },
   {
    "duration": 20,
    "start_time": "2025-08-09T15:31:14.612Z"
   },
   {
    "duration": 25,
    "start_time": "2025-08-09T15:31:23.064Z"
   },
   {
    "duration": 4,
    "start_time": "2025-08-09T15:33:25.293Z"
   },
   {
    "duration": 5,
    "start_time": "2025-08-09T15:33:32.009Z"
   },
   {
    "duration": 6,
    "start_time": "2025-08-09T15:33:47.703Z"
   },
   {
    "duration": 6,
    "start_time": "2025-08-09T15:34:00.884Z"
   },
   {
    "duration": 4,
    "start_time": "2025-08-09T15:34:10.672Z"
   },
   {
    "duration": 7,
    "start_time": "2025-08-09T15:34:21.226Z"
   },
   {
    "duration": 5,
    "start_time": "2025-08-09T15:34:23.091Z"
   },
   {
    "duration": 6,
    "start_time": "2025-08-09T15:34:24.124Z"
   },
   {
    "duration": 5,
    "start_time": "2025-08-09T15:34:25.025Z"
   },
   {
    "duration": 4,
    "start_time": "2025-08-09T15:34:36.128Z"
   },
   {
    "duration": 22,
    "start_time": "2025-08-09T15:34:39.503Z"
   },
   {
    "duration": 28,
    "start_time": "2025-08-09T15:34:40.893Z"
   },
   {
    "duration": 27,
    "start_time": "2025-08-09T15:34:50.378Z"
   },
   {
    "duration": 30,
    "start_time": "2025-08-09T15:35:21.880Z"
   },
   {
    "duration": 6,
    "start_time": "2025-08-09T15:40:03.887Z"
   },
   {
    "duration": 6,
    "start_time": "2025-08-09T15:40:22.847Z"
   },
   {
    "duration": 4,
    "start_time": "2025-08-09T15:41:10.791Z"
   },
   {
    "duration": 6,
    "start_time": "2025-08-09T15:41:13.646Z"
   },
   {
    "duration": 4,
    "start_time": "2025-08-09T15:41:21.595Z"
   },
   {
    "duration": 29,
    "start_time": "2025-08-09T15:41:24.640Z"
   },
   {
    "duration": 26,
    "start_time": "2025-08-09T15:41:29.595Z"
   },
   {
    "duration": 4,
    "start_time": "2025-08-09T15:44:47.611Z"
   },
   {
    "duration": 29,
    "start_time": "2025-08-09T15:46:27.537Z"
   },
   {
    "duration": 23,
    "start_time": "2025-08-09T16:53:25.948Z"
   },
   {
    "duration": 9,
    "start_time": "2025-08-09T16:53:38.005Z"
   },
   {
    "duration": 310,
    "start_time": "2025-08-09T16:53:46.463Z"
   },
   {
    "duration": 32,
    "start_time": "2025-08-09T16:54:02.866Z"
   },
   {
    "duration": 22,
    "start_time": "2025-08-09T16:56:06.016Z"
   },
   {
    "duration": 6,
    "start_time": "2025-08-09T16:56:24.763Z"
   },
   {
    "duration": 4,
    "start_time": "2025-08-09T16:56:32.572Z"
   },
   {
    "duration": 28,
    "start_time": "2025-08-09T16:56:49.445Z"
   },
   {
    "duration": 9,
    "start_time": "2025-08-09T16:56:53.927Z"
   },
   {
    "duration": 7,
    "start_time": "2025-08-09T16:57:25.834Z"
   },
   {
    "duration": 8,
    "start_time": "2025-08-09T17:00:09.155Z"
   },
   {
    "duration": 9,
    "start_time": "2025-08-09T17:00:38.858Z"
   },
   {
    "duration": 7,
    "start_time": "2025-08-09T17:05:00.345Z"
   },
   {
    "duration": 4,
    "start_time": "2025-08-09T17:06:28.437Z"
   },
   {
    "duration": 60,
    "start_time": "2025-08-09T17:06:32.065Z"
   },
   {
    "duration": 4,
    "start_time": "2025-08-09T17:08:51.641Z"
   },
   {
    "duration": 19,
    "start_time": "2025-08-09T17:09:03.608Z"
   },
   {
    "duration": 22,
    "start_time": "2025-08-09T17:09:17.901Z"
   },
   {
    "duration": 5,
    "start_time": "2025-08-09T17:10:20.755Z"
   },
   {
    "duration": 4,
    "start_time": "2025-08-09T17:11:53.052Z"
   },
   {
    "duration": 9,
    "start_time": "2025-08-09T17:13:57.717Z"
   },
   {
    "duration": 8,
    "start_time": "2025-08-09T17:18:24.465Z"
   },
   {
    "duration": 25,
    "start_time": "2025-08-09T17:18:37.129Z"
   },
   {
    "duration": 33,
    "start_time": "2025-08-09T17:19:33.489Z"
   },
   {
    "duration": 7,
    "start_time": "2025-08-09T17:19:55.139Z"
   },
   {
    "duration": 4,
    "start_time": "2025-08-09T17:20:05.635Z"
   },
   {
    "duration": 55,
    "start_time": "2025-08-09T17:20:10.131Z"
   },
   {
    "duration": 7,
    "start_time": "2025-08-09T17:20:32.335Z"
   },
   {
    "duration": 5,
    "start_time": "2025-08-09T17:20:41.750Z"
   },
   {
    "duration": 56,
    "start_time": "2025-08-09T17:20:45.450Z"
   },
   {
    "duration": 5,
    "start_time": "2025-08-09T17:29:01.157Z"
   },
   {
    "duration": 55,
    "start_time": "2025-08-09T17:29:04.355Z"
   },
   {
    "duration": 8,
    "start_time": "2025-08-09T17:35:13.204Z"
   },
   {
    "duration": 4,
    "start_time": "2025-08-09T17:35:23.709Z"
   },
   {
    "duration": 53,
    "start_time": "2025-08-09T17:35:28.203Z"
   },
   {
    "duration": 7,
    "start_time": "2025-08-09T17:39:19.633Z"
   },
   {
    "duration": 4,
    "start_time": "2025-08-09T17:39:32.891Z"
   },
   {
    "duration": 52,
    "start_time": "2025-08-09T17:39:37.210Z"
   },
   {
    "duration": 6,
    "start_time": "2025-08-09T17:42:38.983Z"
   },
   {
    "duration": 4,
    "start_time": "2025-08-09T17:42:46.596Z"
   },
   {
    "duration": 54,
    "start_time": "2025-08-09T17:42:50.218Z"
   },
   {
    "duration": 7,
    "start_time": "2025-08-09T17:43:37.227Z"
   },
   {
    "duration": 4,
    "start_time": "2025-08-09T17:43:49.231Z"
   },
   {
    "duration": 3,
    "start_time": "2025-08-09T17:43:55.235Z"
   },
   {
    "duration": 53,
    "start_time": "2025-08-09T17:43:59.902Z"
   },
   {
    "duration": 7,
    "start_time": "2025-08-09T17:47:59.784Z"
   },
   {
    "duration": 4,
    "start_time": "2025-08-09T17:48:09.611Z"
   },
   {
    "duration": 57,
    "start_time": "2025-08-09T17:48:13.332Z"
   },
   {
    "duration": 52,
    "start_time": "2025-08-09T17:48:30.490Z"
   },
   {
    "duration": 23,
    "start_time": "2025-08-09T18:01:30.517Z"
   },
   {
    "duration": 76,
    "start_time": "2025-08-09T18:01:49.595Z"
   },
   {
    "duration": 69,
    "start_time": "2025-08-09T18:01:56.023Z"
   },
   {
    "duration": 58,
    "start_time": "2025-08-09T18:02:03.540Z"
   },
   {
    "duration": 8,
    "start_time": "2025-08-09T18:04:59.090Z"
   },
   {
    "duration": 75,
    "start_time": "2025-08-09T18:20:29.078Z"
   },
   {
    "duration": 63,
    "start_time": "2025-08-09T18:20:35.838Z"
   },
   {
    "duration": 58,
    "start_time": "2025-08-09T18:21:03.084Z"
   },
   {
    "duration": 4,
    "start_time": "2025-08-09T18:21:10.322Z"
   },
   {
    "duration": 63,
    "start_time": "2025-08-09T18:21:14.296Z"
   },
   {
    "duration": 73,
    "start_time": "2025-08-09T18:24:52.524Z"
   },
   {
    "duration": 8,
    "start_time": "2025-08-09T18:25:24.582Z"
   },
   {
    "duration": 4,
    "start_time": "2025-08-09T18:25:37.333Z"
   },
   {
    "duration": 59,
    "start_time": "2025-08-09T18:25:40.446Z"
   },
   {
    "duration": 97,
    "start_time": "2025-08-09T18:31:17.850Z"
   },
   {
    "duration": 88,
    "start_time": "2025-08-09T18:31:32.128Z"
   },
   {
    "duration": 93,
    "start_time": "2025-08-09T18:31:40.025Z"
   },
   {
    "duration": 87,
    "start_time": "2025-08-09T18:32:36.934Z"
   },
   {
    "duration": 76,
    "start_time": "2025-08-09T18:33:32.862Z"
   },
   {
    "duration": 14,
    "start_time": "2025-08-09T18:34:08.107Z"
   },
   {
    "duration": 1437,
    "start_time": "2025-08-09T18:34:14.166Z"
   },
   {
    "duration": 19208,
    "start_time": "2025-08-09T18:36:37.421Z"
   },
   {
    "duration": 3586,
    "start_time": "2025-08-09T18:36:56.632Z"
   },
   {
    "duration": 11,
    "start_time": "2025-08-09T18:37:00.220Z"
   },
   {
    "duration": 57,
    "start_time": "2025-08-09T18:37:00.233Z"
   },
   {
    "duration": 32,
    "start_time": "2025-08-09T18:37:00.292Z"
   },
   {
    "duration": 69,
    "start_time": "2025-08-09T18:37:00.325Z"
   },
   {
    "duration": 21,
    "start_time": "2025-08-09T18:37:00.396Z"
   },
   {
    "duration": 14,
    "start_time": "2025-08-09T18:37:00.419Z"
   },
   {
    "duration": 20,
    "start_time": "2025-08-09T18:37:00.435Z"
   },
   {
    "duration": 24,
    "start_time": "2025-08-09T18:37:00.458Z"
   },
   {
    "duration": 56,
    "start_time": "2025-08-09T18:37:00.484Z"
   },
   {
    "duration": 18,
    "start_time": "2025-08-09T18:37:00.542Z"
   },
   {
    "duration": 61,
    "start_time": "2025-08-09T18:37:00.561Z"
   },
   {
    "duration": 29,
    "start_time": "2025-08-09T18:37:00.624Z"
   },
   {
    "duration": 12,
    "start_time": "2025-08-09T18:37:00.654Z"
   },
   {
    "duration": 47,
    "start_time": "2025-08-09T18:37:00.668Z"
   },
   {
    "duration": 111,
    "start_time": "2025-08-09T18:37:00.717Z"
   },
   {
    "duration": 28,
    "start_time": "2025-08-09T18:37:00.829Z"
   },
   {
    "duration": 16,
    "start_time": "2025-08-09T18:37:00.858Z"
   },
   {
    "duration": 30,
    "start_time": "2025-08-09T18:37:00.875Z"
   },
   {
    "duration": 13,
    "start_time": "2025-08-09T18:37:00.907Z"
   },
   {
    "duration": 3,
    "start_time": "2025-08-09T18:37:00.922Z"
   },
   {
    "duration": 18,
    "start_time": "2025-08-09T18:37:00.926Z"
   },
   {
    "duration": 14,
    "start_time": "2025-08-09T18:37:00.963Z"
   },
   {
    "duration": 54,
    "start_time": "2025-08-09T18:37:00.978Z"
   },
   {
    "duration": 4,
    "start_time": "2025-08-09T18:37:01.034Z"
   },
   {
    "duration": 70,
    "start_time": "2025-08-09T18:37:01.039Z"
   },
   {
    "duration": 10,
    "start_time": "2025-08-09T18:37:01.113Z"
   },
   {
    "duration": 3,
    "start_time": "2025-08-09T18:37:01.124Z"
   },
   {
    "duration": 9,
    "start_time": "2025-08-09T18:37:01.128Z"
   },
   {
    "duration": 34,
    "start_time": "2025-08-09T18:37:01.138Z"
   },
   {
    "duration": 25,
    "start_time": "2025-08-09T18:37:01.173Z"
   },
   {
    "duration": 13,
    "start_time": "2025-08-09T18:37:01.200Z"
   },
   {
    "duration": 9,
    "start_time": "2025-08-09T18:37:01.214Z"
   },
   {
    "duration": 2,
    "start_time": "2025-08-09T18:37:01.225Z"
   },
   {
    "duration": 8,
    "start_time": "2025-08-09T18:37:01.229Z"
   },
   {
    "duration": 13,
    "start_time": "2025-08-09T18:37:01.239Z"
   },
   {
    "duration": 97,
    "start_time": "2025-08-09T18:37:01.254Z"
   },
   {
    "duration": 6,
    "start_time": "2025-08-09T18:37:01.352Z"
   },
   {
    "duration": 36,
    "start_time": "2025-08-09T18:37:01.359Z"
   },
   {
    "duration": 14,
    "start_time": "2025-08-09T18:37:01.397Z"
   },
   {
    "duration": 365,
    "start_time": "2025-08-09T18:37:01.412Z"
   },
   {
    "duration": 5,
    "start_time": "2025-08-09T18:37:01.779Z"
   },
   {
    "duration": 118,
    "start_time": "2025-08-09T18:37:01.786Z"
   },
   {
    "duration": 5,
    "start_time": "2025-08-09T18:37:01.906Z"
   },
   {
    "duration": 72,
    "start_time": "2025-08-09T18:37:01.912Z"
   },
   {
    "duration": 5,
    "start_time": "2025-08-09T18:37:01.986Z"
   },
   {
    "duration": 79,
    "start_time": "2025-08-09T18:37:01.992Z"
   },
   {
    "duration": 7,
    "start_time": "2025-08-09T18:37:02.073Z"
   },
   {
    "duration": 33,
    "start_time": "2025-08-09T18:37:02.082Z"
   },
   {
    "duration": 9,
    "start_time": "2025-08-09T18:37:02.117Z"
   },
   {
    "duration": 52,
    "start_time": "2025-08-09T18:37:02.129Z"
   },
   {
    "duration": 5,
    "start_time": "2025-08-09T18:37:02.182Z"
   },
   {
    "duration": 103,
    "start_time": "2025-08-09T18:37:02.189Z"
   },
   {
    "duration": 6,
    "start_time": "2025-08-09T18:37:02.294Z"
   },
   {
    "duration": 63,
    "start_time": "2025-08-09T18:37:02.301Z"
   },
   {
    "duration": 4,
    "start_time": "2025-08-09T18:37:02.366Z"
   },
   {
    "duration": 100,
    "start_time": "2025-08-09T18:37:02.372Z"
   },
   {
    "duration": 23,
    "start_time": "2025-08-09T18:37:02.474Z"
   },
   {
    "duration": 69,
    "start_time": "2025-08-09T18:37:02.499Z"
   },
   {
    "duration": 13,
    "start_time": "2025-08-09T18:37:02.569Z"
   },
   {
    "duration": 53,
    "start_time": "2025-08-09T18:37:02.583Z"
   },
   {
    "duration": 5,
    "start_time": "2025-08-09T18:37:02.638Z"
   },
   {
    "duration": 63,
    "start_time": "2025-08-09T18:37:02.644Z"
   },
   {
    "duration": 9,
    "start_time": "2025-08-09T18:37:02.709Z"
   },
   {
    "duration": 38,
    "start_time": "2025-08-09T18:37:02.720Z"
   },
   {
    "duration": 202,
    "start_time": "2025-08-09T18:37:02.760Z"
   },
   {
    "duration": 7,
    "start_time": "2025-08-09T18:37:02.964Z"
   },
   {
    "duration": 42,
    "start_time": "2025-08-09T18:37:02.972Z"
   },
   {
    "duration": 6,
    "start_time": "2025-08-09T18:37:03.015Z"
   },
   {
    "duration": 92,
    "start_time": "2025-08-09T18:37:03.023Z"
   },
   {
    "duration": 229,
    "start_time": "2025-08-09T18:37:03.117Z"
   },
   {
    "duration": 31,
    "start_time": "2025-08-09T18:37:03.348Z"
   },
   {
    "duration": 7,
    "start_time": "2025-08-09T18:37:03.381Z"
   },
   {
    "duration": 26,
    "start_time": "2025-08-09T18:37:03.389Z"
   },
   {
    "duration": 91,
    "start_time": "2025-08-09T18:37:03.417Z"
   },
   {
    "duration": 7,
    "start_time": "2025-08-09T18:37:03.509Z"
   },
   {
    "duration": 42,
    "start_time": "2025-08-09T18:37:03.518Z"
   },
   {
    "duration": 4,
    "start_time": "2025-08-09T18:37:03.562Z"
   },
   {
    "duration": 41,
    "start_time": "2025-08-09T18:37:03.567Z"
   },
   {
    "duration": 5,
    "start_time": "2025-08-09T18:37:03.610Z"
   },
   {
    "duration": 124,
    "start_time": "2025-08-09T18:37:03.622Z"
   },
   {
    "duration": 4,
    "start_time": "2025-08-09T18:37:03.748Z"
   },
   {
    "duration": 78,
    "start_time": "2025-08-09T18:37:03.753Z"
   },
   {
    "duration": 5,
    "start_time": "2025-08-09T18:37:03.832Z"
   },
   {
    "duration": 44,
    "start_time": "2025-08-09T18:37:03.839Z"
   },
   {
    "duration": 9,
    "start_time": "2025-08-09T18:37:03.885Z"
   },
   {
    "duration": 30,
    "start_time": "2025-08-09T18:37:03.896Z"
   },
   {
    "duration": 5,
    "start_time": "2025-08-09T18:37:03.927Z"
   },
   {
    "duration": 63,
    "start_time": "2025-08-09T18:37:03.934Z"
   },
   {
    "duration": 5,
    "start_time": "2025-08-09T18:37:03.999Z"
   },
   {
    "duration": 32,
    "start_time": "2025-08-09T18:37:04.006Z"
   },
   {
    "duration": 5,
    "start_time": "2025-08-09T18:37:04.063Z"
   },
   {
    "duration": 44,
    "start_time": "2025-08-09T18:37:04.069Z"
   },
   {
    "duration": 4,
    "start_time": "2025-08-09T18:37:04.114Z"
   },
   {
    "duration": 47,
    "start_time": "2025-08-09T18:37:04.120Z"
   },
   {
    "duration": 5,
    "start_time": "2025-08-09T18:37:04.169Z"
   },
   {
    "duration": 128,
    "start_time": "2025-08-09T18:37:04.176Z"
   },
   {
    "duration": 4,
    "start_time": "2025-08-09T18:37:04.305Z"
   },
   {
    "duration": 27,
    "start_time": "2025-08-09T18:37:04.311Z"
   },
   {
    "duration": 27,
    "start_time": "2025-08-09T18:37:04.339Z"
   },
   {
    "duration": 12,
    "start_time": "2025-08-09T18:37:04.367Z"
   },
   {
    "duration": 61,
    "start_time": "2025-08-09T18:37:04.381Z"
   },
   {
    "duration": 49,
    "start_time": "2025-08-09T18:37:04.444Z"
   },
   {
    "duration": 67,
    "start_time": "2025-08-09T18:37:04.495Z"
   },
   {
    "duration": 39,
    "start_time": "2025-08-09T18:37:04.564Z"
   },
   {
    "duration": 187,
    "start_time": "2025-08-09T18:37:04.605Z"
   },
   {
    "duration": 7,
    "start_time": "2025-08-09T18:37:04.793Z"
   },
   {
    "duration": 7,
    "start_time": "2025-08-09T18:37:04.802Z"
   },
   {
    "duration": 1520,
    "start_time": "2025-08-09T18:37:04.810Z"
   },
   {
    "duration": 1451,
    "start_time": "2025-08-09T18:37:06.332Z"
   },
   {
    "duration": 2,
    "start_time": "2025-08-09T18:37:07.784Z"
   },
   {
    "duration": 38,
    "start_time": "2025-08-09T18:37:07.788Z"
   },
   {
    "duration": 3,
    "start_time": "2025-08-09T18:37:07.828Z"
   },
   {
    "duration": 4,
    "start_time": "2025-08-09T18:37:07.832Z"
   },
   {
    "duration": 3,
    "start_time": "2025-08-09T18:37:07.837Z"
   },
   {
    "duration": 5,
    "start_time": "2025-08-09T18:37:07.841Z"
   },
   {
    "duration": 9,
    "start_time": "2025-08-09T18:37:07.848Z"
   },
   {
    "duration": 3,
    "start_time": "2025-08-09T18:37:07.858Z"
   },
   {
    "duration": 14,
    "start_time": "2025-08-09T18:37:07.862Z"
   },
   {
    "duration": 2,
    "start_time": "2025-08-09T18:37:07.878Z"
   },
   {
    "duration": 16,
    "start_time": "2025-08-09T18:37:07.881Z"
   },
   {
    "duration": 118,
    "start_time": "2025-08-09T18:37:07.899Z"
   },
   {
    "duration": 72,
    "start_time": "2025-08-09T18:37:08.019Z"
   },
   {
    "duration": 0,
    "start_time": "2025-08-09T18:37:08.092Z"
   },
   {
    "duration": 0,
    "start_time": "2025-08-09T18:37:08.094Z"
   },
   {
    "duration": 0,
    "start_time": "2025-08-09T18:37:08.095Z"
   },
   {
    "duration": 0,
    "start_time": "2025-08-09T18:37:08.096Z"
   },
   {
    "duration": 0,
    "start_time": "2025-08-09T18:37:08.097Z"
   },
   {
    "duration": 0,
    "start_time": "2025-08-09T18:37:08.098Z"
   },
   {
    "duration": 0,
    "start_time": "2025-08-09T18:37:08.099Z"
   },
   {
    "duration": 0,
    "start_time": "2025-08-09T18:37:08.100Z"
   },
   {
    "duration": 0,
    "start_time": "2025-08-09T18:37:08.101Z"
   },
   {
    "duration": 0,
    "start_time": "2025-08-09T18:37:08.103Z"
   },
   {
    "duration": 0,
    "start_time": "2025-08-09T18:37:08.104Z"
   },
   {
    "duration": 0,
    "start_time": "2025-08-09T18:37:08.105Z"
   },
   {
    "duration": 0,
    "start_time": "2025-08-09T18:37:08.106Z"
   },
   {
    "duration": 0,
    "start_time": "2025-08-09T18:37:08.107Z"
   },
   {
    "duration": 0,
    "start_time": "2025-08-09T18:37:08.108Z"
   },
   {
    "duration": 0,
    "start_time": "2025-08-09T18:37:08.109Z"
   },
   {
    "duration": 0,
    "start_time": "2025-08-09T18:37:08.110Z"
   },
   {
    "duration": 0,
    "start_time": "2025-08-09T18:37:08.111Z"
   },
   {
    "duration": 0,
    "start_time": "2025-08-09T18:37:08.112Z"
   },
   {
    "duration": 0,
    "start_time": "2025-08-09T18:37:08.113Z"
   },
   {
    "duration": 0,
    "start_time": "2025-08-09T18:37:08.114Z"
   },
   {
    "duration": 1,
    "start_time": "2025-08-09T18:37:08.115Z"
   },
   {
    "duration": 0,
    "start_time": "2025-08-09T18:37:08.118Z"
   },
   {
    "duration": 0,
    "start_time": "2025-08-09T18:37:08.119Z"
   },
   {
    "duration": 1,
    "start_time": "2025-08-09T18:37:08.119Z"
   },
   {
    "duration": 0,
    "start_time": "2025-08-09T18:37:08.121Z"
   },
   {
    "duration": 0,
    "start_time": "2025-08-09T18:37:08.122Z"
   },
   {
    "duration": 0,
    "start_time": "2025-08-09T18:37:08.123Z"
   },
   {
    "duration": 0,
    "start_time": "2025-08-09T18:37:08.124Z"
   },
   {
    "duration": 0,
    "start_time": "2025-08-09T18:37:08.125Z"
   },
   {
    "duration": 0,
    "start_time": "2025-08-09T18:37:08.126Z"
   },
   {
    "duration": 0,
    "start_time": "2025-08-09T18:37:08.126Z"
   },
   {
    "duration": 0,
    "start_time": "2025-08-09T18:37:08.128Z"
   },
   {
    "duration": 0,
    "start_time": "2025-08-09T18:37:08.128Z"
   },
   {
    "duration": 0,
    "start_time": "2025-08-09T18:37:08.129Z"
   },
   {
    "duration": 0,
    "start_time": "2025-08-09T18:37:08.162Z"
   },
   {
    "duration": 0,
    "start_time": "2025-08-09T18:37:08.163Z"
   },
   {
    "duration": 0,
    "start_time": "2025-08-09T18:37:08.165Z"
   },
   {
    "duration": 0,
    "start_time": "2025-08-09T18:37:08.166Z"
   },
   {
    "duration": 0,
    "start_time": "2025-08-09T18:37:08.166Z"
   },
   {
    "duration": 0,
    "start_time": "2025-08-09T18:37:08.168Z"
   },
   {
    "duration": 0,
    "start_time": "2025-08-09T18:37:08.168Z"
   },
   {
    "duration": 0,
    "start_time": "2025-08-09T18:37:08.169Z"
   },
   {
    "duration": 0,
    "start_time": "2025-08-09T18:37:08.170Z"
   },
   {
    "duration": 0,
    "start_time": "2025-08-09T18:37:08.171Z"
   },
   {
    "duration": 20,
    "start_time": "2025-08-09T18:45:10.049Z"
   },
   {
    "duration": 15,
    "start_time": "2025-08-09T18:45:22.485Z"
   },
   {
    "duration": 87,
    "start_time": "2025-08-09T18:46:05.952Z"
   },
   {
    "duration": 8,
    "start_time": "2025-08-09T18:48:32.135Z"
   },
   {
    "duration": 18,
    "start_time": "2025-08-09T18:49:06.648Z"
   },
   {
    "duration": 13,
    "start_time": "2025-08-09T18:49:23.505Z"
   },
   {
    "duration": 12,
    "start_time": "2025-08-09T18:49:34.775Z"
   },
   {
    "duration": 3,
    "start_time": "2025-08-09T19:00:41.187Z"
   },
   {
    "duration": 5,
    "start_time": "2025-08-09T19:06:32.194Z"
   },
   {
    "duration": 4,
    "start_time": "2025-08-09T19:06:37.437Z"
   },
   {
    "duration": 6,
    "start_time": "2025-08-09T19:08:17.482Z"
   },
   {
    "duration": 9,
    "start_time": "2025-08-09T19:09:47.201Z"
   },
   {
    "duration": 5,
    "start_time": "2025-08-09T19:09:53.671Z"
   },
   {
    "duration": 4,
    "start_time": "2025-08-09T19:09:57.888Z"
   },
   {
    "duration": 4,
    "start_time": "2025-08-09T19:10:01.495Z"
   },
   {
    "duration": 4,
    "start_time": "2025-08-09T19:10:04.930Z"
   },
   {
    "duration": 5,
    "start_time": "2025-08-09T19:10:07.661Z"
   },
   {
    "duration": 5,
    "start_time": "2025-08-09T19:10:10.664Z"
   },
   {
    "duration": 3,
    "start_time": "2025-08-09T19:12:28.570Z"
   },
   {
    "duration": 3,
    "start_time": "2025-08-09T19:12:40.459Z"
   },
   {
    "duration": 3,
    "start_time": "2025-08-09T19:14:04.688Z"
   },
   {
    "duration": 2,
    "start_time": "2025-08-09T19:14:08.207Z"
   },
   {
    "duration": 3,
    "start_time": "2025-08-09T19:14:12.157Z"
   },
   {
    "duration": 4,
    "start_time": "2025-08-09T19:15:15.006Z"
   },
   {
    "duration": 6,
    "start_time": "2025-08-09T19:15:22.085Z"
   },
   {
    "duration": 30,
    "start_time": "2025-08-09T19:16:17.248Z"
   },
   {
    "duration": 3,
    "start_time": "2025-08-09T19:17:26.960Z"
   },
   {
    "duration": 308,
    "start_time": "2025-08-09T19:17:46.763Z"
   },
   {
    "duration": 18556,
    "start_time": "2025-08-09T19:18:14.440Z"
   },
   {
    "duration": 3425,
    "start_time": "2025-08-09T19:18:32.999Z"
   },
   {
    "duration": 10,
    "start_time": "2025-08-09T19:18:36.426Z"
   },
   {
    "duration": 11,
    "start_time": "2025-08-09T19:18:36.439Z"
   },
   {
    "duration": 18,
    "start_time": "2025-08-09T19:18:36.452Z"
   },
   {
    "duration": 10,
    "start_time": "2025-08-09T19:18:36.472Z"
   },
   {
    "duration": 32,
    "start_time": "2025-08-09T19:18:36.484Z"
   },
   {
    "duration": 14,
    "start_time": "2025-08-09T19:18:36.518Z"
   },
   {
    "duration": 14,
    "start_time": "2025-08-09T19:18:36.534Z"
   },
   {
    "duration": 7,
    "start_time": "2025-08-09T19:18:36.551Z"
   },
   {
    "duration": 11,
    "start_time": "2025-08-09T19:18:36.560Z"
   },
   {
    "duration": 19,
    "start_time": "2025-08-09T19:18:36.573Z"
   },
   {
    "duration": 7,
    "start_time": "2025-08-09T19:18:36.594Z"
   },
   {
    "duration": 14,
    "start_time": "2025-08-09T19:18:36.603Z"
   },
   {
    "duration": 15,
    "start_time": "2025-08-09T19:18:36.619Z"
   },
   {
    "duration": 178,
    "start_time": "2025-08-09T19:18:36.636Z"
   },
   {
    "duration": 109,
    "start_time": "2025-08-09T19:18:36.816Z"
   },
   {
    "duration": 28,
    "start_time": "2025-08-09T19:18:36.927Z"
   },
   {
    "duration": 17,
    "start_time": "2025-08-09T19:18:36.957Z"
   },
   {
    "duration": 18,
    "start_time": "2025-08-09T19:18:36.975Z"
   },
   {
    "duration": 14,
    "start_time": "2025-08-09T19:18:36.994Z"
   },
   {
    "duration": 3,
    "start_time": "2025-08-09T19:18:37.009Z"
   },
   {
    "duration": 49,
    "start_time": "2025-08-09T19:18:37.013Z"
   },
   {
    "duration": 15,
    "start_time": "2025-08-09T19:18:37.064Z"
   },
   {
    "duration": 53,
    "start_time": "2025-08-09T19:18:37.081Z"
   },
   {
    "duration": 5,
    "start_time": "2025-08-09T19:18:37.135Z"
   },
   {
    "duration": 8,
    "start_time": "2025-08-09T19:18:37.163Z"
   },
   {
    "duration": 30,
    "start_time": "2025-08-09T19:18:37.178Z"
   },
   {
    "duration": 14,
    "start_time": "2025-08-09T19:18:37.210Z"
   },
   {
    "duration": 4,
    "start_time": "2025-08-09T19:18:37.226Z"
   },
   {
    "duration": 11,
    "start_time": "2025-08-09T19:18:37.232Z"
   },
   {
    "duration": 6,
    "start_time": "2025-08-09T19:18:37.244Z"
   },
   {
    "duration": 17,
    "start_time": "2025-08-09T19:18:37.252Z"
   },
   {
    "duration": 10,
    "start_time": "2025-08-09T19:18:37.270Z"
   },
   {
    "duration": 3,
    "start_time": "2025-08-09T19:18:37.281Z"
   },
   {
    "duration": 10,
    "start_time": "2025-08-09T19:18:37.285Z"
   },
   {
    "duration": 3,
    "start_time": "2025-08-09T19:18:37.297Z"
   },
   {
    "duration": 99,
    "start_time": "2025-08-09T19:18:37.302Z"
   },
   {
    "duration": 5,
    "start_time": "2025-08-09T19:18:37.403Z"
   },
   {
    "duration": 28,
    "start_time": "2025-08-09T19:18:37.410Z"
   },
   {
    "duration": 23,
    "start_time": "2025-08-09T19:18:37.440Z"
   },
   {
    "duration": 181,
    "start_time": "2025-08-09T19:18:37.464Z"
   },
   {
    "duration": 6,
    "start_time": "2025-08-09T19:18:37.646Z"
   },
   {
    "duration": 109,
    "start_time": "2025-08-09T19:18:37.653Z"
   },
   {
    "duration": 5,
    "start_time": "2025-08-09T19:18:37.764Z"
   },
   {
    "duration": 102,
    "start_time": "2025-08-09T19:18:37.770Z"
   },
   {
    "duration": 4,
    "start_time": "2025-08-09T19:18:37.874Z"
   },
   {
    "duration": 98,
    "start_time": "2025-08-09T19:18:37.880Z"
   },
   {
    "duration": 11,
    "start_time": "2025-08-09T19:18:37.980Z"
   },
   {
    "duration": 13,
    "start_time": "2025-08-09T19:18:37.992Z"
   },
   {
    "duration": 4,
    "start_time": "2025-08-09T19:18:38.007Z"
   },
   {
    "duration": 72,
    "start_time": "2025-08-09T19:18:38.013Z"
   },
   {
    "duration": 5,
    "start_time": "2025-08-09T19:18:38.087Z"
   },
   {
    "duration": 68,
    "start_time": "2025-08-09T19:18:38.094Z"
   },
   {
    "duration": 4,
    "start_time": "2025-08-09T19:18:38.164Z"
   },
   {
    "duration": 48,
    "start_time": "2025-08-09T19:18:38.170Z"
   },
   {
    "duration": 5,
    "start_time": "2025-08-09T19:18:38.220Z"
   },
   {
    "duration": 67,
    "start_time": "2025-08-09T19:18:38.226Z"
   },
   {
    "duration": 9,
    "start_time": "2025-08-09T19:18:38.295Z"
   },
   {
    "duration": 85,
    "start_time": "2025-08-09T19:18:38.305Z"
   },
   {
    "duration": 13,
    "start_time": "2025-08-09T19:18:38.391Z"
   },
   {
    "duration": 32,
    "start_time": "2025-08-09T19:18:38.406Z"
   },
   {
    "duration": 5,
    "start_time": "2025-08-09T19:18:38.462Z"
   },
   {
    "duration": 43,
    "start_time": "2025-08-09T19:18:38.468Z"
   },
   {
    "duration": 4,
    "start_time": "2025-08-09T19:18:38.512Z"
   },
   {
    "duration": 55,
    "start_time": "2025-08-09T19:18:38.518Z"
   },
   {
    "duration": 195,
    "start_time": "2025-08-09T19:18:38.575Z"
   },
   {
    "duration": 7,
    "start_time": "2025-08-09T19:18:38.772Z"
   },
   {
    "duration": 12,
    "start_time": "2025-08-09T19:18:38.780Z"
   },
   {
    "duration": 2,
    "start_time": "2025-08-09T19:18:38.793Z"
   },
   {
    "duration": 16,
    "start_time": "2025-08-09T19:18:38.797Z"
   },
   {
    "duration": 276,
    "start_time": "2025-08-09T19:18:38.815Z"
   },
   {
    "duration": 27,
    "start_time": "2025-08-09T19:18:39.092Z"
   },
   {
    "duration": 46,
    "start_time": "2025-08-09T19:18:39.121Z"
   },
   {
    "duration": 11,
    "start_time": "2025-08-09T19:18:39.168Z"
   },
   {
    "duration": 78,
    "start_time": "2025-08-09T19:18:39.180Z"
   },
   {
    "duration": 6,
    "start_time": "2025-08-09T19:18:39.260Z"
   },
   {
    "duration": 49,
    "start_time": "2025-08-09T19:18:39.268Z"
   },
   {
    "duration": 4,
    "start_time": "2025-08-09T19:18:39.319Z"
   },
   {
    "duration": 56,
    "start_time": "2025-08-09T19:18:39.325Z"
   },
   {
    "duration": 5,
    "start_time": "2025-08-09T19:18:39.383Z"
   },
   {
    "duration": 42,
    "start_time": "2025-08-09T19:18:39.395Z"
   },
   {
    "duration": 25,
    "start_time": "2025-08-09T19:18:39.439Z"
   },
   {
    "duration": 31,
    "start_time": "2025-08-09T19:18:39.466Z"
   },
   {
    "duration": 5,
    "start_time": "2025-08-09T19:18:39.499Z"
   },
   {
    "duration": 71,
    "start_time": "2025-08-09T19:18:39.506Z"
   },
   {
    "duration": 4,
    "start_time": "2025-08-09T19:18:39.579Z"
   },
   {
    "duration": 61,
    "start_time": "2025-08-09T19:18:39.584Z"
   },
   {
    "duration": 4,
    "start_time": "2025-08-09T19:18:39.647Z"
   },
   {
    "duration": 51,
    "start_time": "2025-08-09T19:18:39.653Z"
   },
   {
    "duration": 4,
    "start_time": "2025-08-09T19:18:39.705Z"
   },
   {
    "duration": 44,
    "start_time": "2025-08-09T19:18:39.711Z"
   },
   {
    "duration": 7,
    "start_time": "2025-08-09T19:18:39.756Z"
   },
   {
    "duration": 48,
    "start_time": "2025-08-09T19:18:39.765Z"
   },
   {
    "duration": 4,
    "start_time": "2025-08-09T19:18:39.815Z"
   },
   {
    "duration": 48,
    "start_time": "2025-08-09T19:18:39.821Z"
   },
   {
    "duration": 5,
    "start_time": "2025-08-09T19:18:39.871Z"
   },
   {
    "duration": 58,
    "start_time": "2025-08-09T19:18:39.877Z"
   },
   {
    "duration": 27,
    "start_time": "2025-08-09T19:18:39.937Z"
   },
   {
    "duration": 56,
    "start_time": "2025-08-09T19:18:39.966Z"
   },
   {
    "duration": 14,
    "start_time": "2025-08-09T19:18:40.024Z"
   },
   {
    "duration": 13,
    "start_time": "2025-08-09T19:18:40.040Z"
   },
   {
    "duration": 66,
    "start_time": "2025-08-09T19:18:40.055Z"
   },
   {
    "duration": 63,
    "start_time": "2025-08-09T19:18:40.123Z"
   },
   {
    "duration": 76,
    "start_time": "2025-08-09T19:18:40.187Z"
   },
   {
    "duration": 39,
    "start_time": "2025-08-09T19:18:40.265Z"
   },
   {
    "duration": 212,
    "start_time": "2025-08-09T19:18:40.305Z"
   },
   {
    "duration": 7,
    "start_time": "2025-08-09T19:18:40.519Z"
   },
   {
    "duration": 9,
    "start_time": "2025-08-09T19:18:40.527Z"
   },
   {
    "duration": 1472,
    "start_time": "2025-08-09T19:18:40.562Z"
   },
   {
    "duration": 1430,
    "start_time": "2025-08-09T19:18:42.035Z"
   },
   {
    "duration": 2,
    "start_time": "2025-08-09T19:18:43.467Z"
   },
   {
    "duration": 4,
    "start_time": "2025-08-09T19:18:43.470Z"
   },
   {
    "duration": 3,
    "start_time": "2025-08-09T19:18:43.475Z"
   },
   {
    "duration": 2,
    "start_time": "2025-08-09T19:18:43.479Z"
   },
   {
    "duration": 3,
    "start_time": "2025-08-09T19:18:43.483Z"
   },
   {
    "duration": 5,
    "start_time": "2025-08-09T19:18:43.488Z"
   },
   {
    "duration": 10,
    "start_time": "2025-08-09T19:18:43.494Z"
   },
   {
    "duration": 5,
    "start_time": "2025-08-09T19:18:43.505Z"
   },
   {
    "duration": 18,
    "start_time": "2025-08-09T19:18:43.511Z"
   },
   {
    "duration": 3,
    "start_time": "2025-08-09T19:18:43.530Z"
   },
   {
    "duration": 85,
    "start_time": "2025-08-09T19:18:43.534Z"
   },
   {
    "duration": 81,
    "start_time": "2025-08-09T19:18:43.621Z"
   },
   {
    "duration": 12,
    "start_time": "2025-08-09T19:18:43.704Z"
   },
   {
    "duration": 3,
    "start_time": "2025-08-09T19:18:43.717Z"
   },
   {
    "duration": 3,
    "start_time": "2025-08-09T19:18:43.722Z"
   },
   {
    "duration": 3,
    "start_time": "2025-08-09T19:18:43.726Z"
   },
   {
    "duration": 11,
    "start_time": "2025-08-09T19:18:43.730Z"
   },
   {
    "duration": 20,
    "start_time": "2025-08-09T19:18:43.743Z"
   },
   {
    "duration": 77,
    "start_time": "2025-08-09T19:18:43.765Z"
   },
   {
    "duration": 3,
    "start_time": "2025-08-09T19:18:43.843Z"
   },
   {
    "duration": 3,
    "start_time": "2025-08-09T19:18:43.848Z"
   },
   {
    "duration": 4,
    "start_time": "2025-08-09T19:18:43.852Z"
   },
   {
    "duration": 5,
    "start_time": "2025-08-09T19:18:43.857Z"
   },
   {
    "duration": 4,
    "start_time": "2025-08-09T19:18:43.864Z"
   },
   {
    "duration": 7,
    "start_time": "2025-08-09T19:18:43.869Z"
   },
   {
    "duration": 3,
    "start_time": "2025-08-09T19:18:43.878Z"
   },
   {
    "duration": 5,
    "start_time": "2025-08-09T19:18:43.883Z"
   },
   {
    "duration": 4,
    "start_time": "2025-08-09T19:18:43.889Z"
   },
   {
    "duration": 315,
    "start_time": "2025-08-09T19:18:43.894Z"
   },
   {
    "duration": 0,
    "start_time": "2025-08-09T19:18:44.211Z"
   },
   {
    "duration": 0,
    "start_time": "2025-08-09T19:18:44.212Z"
   },
   {
    "duration": 0,
    "start_time": "2025-08-09T19:18:44.213Z"
   },
   {
    "duration": 0,
    "start_time": "2025-08-09T19:18:44.214Z"
   },
   {
    "duration": 0,
    "start_time": "2025-08-09T19:18:44.215Z"
   },
   {
    "duration": 0,
    "start_time": "2025-08-09T19:18:44.216Z"
   },
   {
    "duration": 0,
    "start_time": "2025-08-09T19:18:44.217Z"
   },
   {
    "duration": 0,
    "start_time": "2025-08-09T19:18:44.218Z"
   },
   {
    "duration": 0,
    "start_time": "2025-08-09T19:18:44.219Z"
   },
   {
    "duration": 0,
    "start_time": "2025-08-09T19:18:44.220Z"
   },
   {
    "duration": 0,
    "start_time": "2025-08-09T19:18:44.221Z"
   },
   {
    "duration": 0,
    "start_time": "2025-08-09T19:18:44.222Z"
   },
   {
    "duration": 0,
    "start_time": "2025-08-09T19:18:44.223Z"
   },
   {
    "duration": 0,
    "start_time": "2025-08-09T19:18:44.224Z"
   },
   {
    "duration": 0,
    "start_time": "2025-08-09T19:18:44.225Z"
   },
   {
    "duration": 0,
    "start_time": "2025-08-09T19:18:44.226Z"
   },
   {
    "duration": 0,
    "start_time": "2025-08-09T19:18:44.227Z"
   },
   {
    "duration": 0,
    "start_time": "2025-08-09T19:18:44.228Z"
   },
   {
    "duration": 0,
    "start_time": "2025-08-09T19:18:44.229Z"
   },
   {
    "duration": 0,
    "start_time": "2025-08-09T19:18:44.262Z"
   },
   {
    "duration": 0,
    "start_time": "2025-08-09T19:18:44.265Z"
   },
   {
    "duration": 0,
    "start_time": "2025-08-09T19:18:44.267Z"
   },
   {
    "duration": 0,
    "start_time": "2025-08-09T19:18:44.268Z"
   },
   {
    "duration": 0,
    "start_time": "2025-08-09T19:18:44.269Z"
   },
   {
    "duration": 0,
    "start_time": "2025-08-09T19:18:44.270Z"
   },
   {
    "duration": 0,
    "start_time": "2025-08-09T19:18:44.271Z"
   },
   {
    "duration": 0,
    "start_time": "2025-08-09T19:18:44.272Z"
   },
   {
    "duration": 0,
    "start_time": "2025-08-09T19:18:44.274Z"
   },
   {
    "duration": 0,
    "start_time": "2025-08-09T19:18:44.275Z"
   },
   {
    "duration": 0,
    "start_time": "2025-08-09T19:18:44.276Z"
   },
   {
    "duration": 0,
    "start_time": "2025-08-09T19:18:44.277Z"
   },
   {
    "duration": 0,
    "start_time": "2025-08-09T19:18:44.278Z"
   },
   {
    "duration": 0,
    "start_time": "2025-08-09T19:18:44.279Z"
   },
   {
    "duration": 20,
    "start_time": "2025-08-09T19:23:53.426Z"
   },
   {
    "duration": 11,
    "start_time": "2025-08-09T19:24:15.424Z"
   },
   {
    "duration": 3,
    "start_time": "2025-08-09T19:24:23.234Z"
   },
   {
    "duration": 4,
    "start_time": "2025-08-09T19:24:29.993Z"
   },
   {
    "duration": 3,
    "start_time": "2025-08-09T19:24:36.737Z"
   },
   {
    "duration": 3,
    "start_time": "2025-08-09T19:24:40.487Z"
   },
   {
    "duration": 4,
    "start_time": "2025-08-09T19:25:06.737Z"
   },
   {
    "duration": 4,
    "start_time": "2025-08-09T19:25:15.154Z"
   },
   {
    "duration": 6,
    "start_time": "2025-08-09T19:25:20.823Z"
   },
   {
    "duration": 30,
    "start_time": "2025-08-09T19:25:24.902Z"
   },
   {
    "duration": 3,
    "start_time": "2025-08-09T19:26:21.187Z"
   },
   {
    "duration": 8,
    "start_time": "2025-08-09T19:26:25.174Z"
   },
   {
    "duration": 69,
    "start_time": "2025-08-09T19:27:25.803Z"
   },
   {
    "duration": 86,
    "start_time": "2025-08-09T19:27:43.852Z"
   },
   {
    "duration": 31704,
    "start_time": "2025-08-09T19:27:59.482Z"
   },
   {
    "duration": 25,
    "start_time": "2025-08-09T19:29:06.418Z"
   },
   {
    "duration": 8,
    "start_time": "2025-08-09T19:29:16.745Z"
   },
   {
    "duration": 18951,
    "start_time": "2025-08-09T19:30:46.850Z"
   },
   {
    "duration": 3384,
    "start_time": "2025-08-09T19:31:05.804Z"
   },
   {
    "duration": 10,
    "start_time": "2025-08-09T19:31:09.190Z"
   },
   {
    "duration": 10,
    "start_time": "2025-08-09T19:31:09.202Z"
   },
   {
    "duration": 10,
    "start_time": "2025-08-09T19:31:09.214Z"
   },
   {
    "duration": 68,
    "start_time": "2025-08-09T19:31:09.225Z"
   },
   {
    "duration": 12,
    "start_time": "2025-08-09T19:31:09.295Z"
   },
   {
    "duration": 7,
    "start_time": "2025-08-09T19:31:09.309Z"
   },
   {
    "duration": 7,
    "start_time": "2025-08-09T19:31:09.318Z"
   },
   {
    "duration": 6,
    "start_time": "2025-08-09T19:31:09.327Z"
   },
   {
    "duration": 6,
    "start_time": "2025-08-09T19:31:09.335Z"
   },
   {
    "duration": 8,
    "start_time": "2025-08-09T19:31:09.342Z"
   },
   {
    "duration": 13,
    "start_time": "2025-08-09T19:31:09.352Z"
   },
   {
    "duration": 19,
    "start_time": "2025-08-09T19:31:09.367Z"
   },
   {
    "duration": 26,
    "start_time": "2025-08-09T19:31:09.388Z"
   },
   {
    "duration": 12,
    "start_time": "2025-08-09T19:31:09.416Z"
   },
   {
    "duration": 259,
    "start_time": "2025-08-09T19:31:09.429Z"
   },
   {
    "duration": 25,
    "start_time": "2025-08-09T19:31:09.689Z"
   },
   {
    "duration": 16,
    "start_time": "2025-08-09T19:31:09.716Z"
   },
   {
    "duration": 17,
    "start_time": "2025-08-09T19:31:09.733Z"
   },
   {
    "duration": 13,
    "start_time": "2025-08-09T19:31:09.762Z"
   },
   {
    "duration": 2,
    "start_time": "2025-08-09T19:31:09.777Z"
   },
   {
    "duration": 26,
    "start_time": "2025-08-09T19:31:09.780Z"
   },
   {
    "duration": 14,
    "start_time": "2025-08-09T19:31:09.808Z"
   },
   {
    "duration": 118,
    "start_time": "2025-08-09T19:31:09.823Z"
   },
   {
    "duration": 4,
    "start_time": "2025-08-09T19:31:09.942Z"
   },
   {
    "duration": 73,
    "start_time": "2025-08-09T19:31:09.947Z"
   },
   {
    "duration": 13,
    "start_time": "2025-08-09T19:31:10.026Z"
   },
   {
    "duration": 7,
    "start_time": "2025-08-09T19:31:10.041Z"
   },
   {
    "duration": 13,
    "start_time": "2025-08-09T19:31:10.050Z"
   },
   {
    "duration": 11,
    "start_time": "2025-08-09T19:31:10.064Z"
   },
   {
    "duration": 18,
    "start_time": "2025-08-09T19:31:10.076Z"
   },
   {
    "duration": 9,
    "start_time": "2025-08-09T19:31:10.096Z"
   },
   {
    "duration": 10,
    "start_time": "2025-08-09T19:31:10.107Z"
   },
   {
    "duration": 3,
    "start_time": "2025-08-09T19:31:10.119Z"
   },
   {
    "duration": 5,
    "start_time": "2025-08-09T19:31:10.124Z"
   },
   {
    "duration": 11,
    "start_time": "2025-08-09T19:31:10.131Z"
   },
   {
    "duration": 87,
    "start_time": "2025-08-09T19:31:10.143Z"
   },
   {
    "duration": 5,
    "start_time": "2025-08-09T19:31:10.232Z"
   },
   {
    "duration": 31,
    "start_time": "2025-08-09T19:31:10.238Z"
   },
   {
    "duration": 9,
    "start_time": "2025-08-09T19:31:10.271Z"
   },
   {
    "duration": 196,
    "start_time": "2025-08-09T19:31:10.282Z"
   },
   {
    "duration": 5,
    "start_time": "2025-08-09T19:31:10.479Z"
   },
   {
    "duration": 94,
    "start_time": "2025-08-09T19:31:10.486Z"
   },
   {
    "duration": 5,
    "start_time": "2025-08-09T19:31:10.581Z"
   },
   {
    "duration": 89,
    "start_time": "2025-08-09T19:31:10.587Z"
   },
   {
    "duration": 5,
    "start_time": "2025-08-09T19:31:10.678Z"
   },
   {
    "duration": 87,
    "start_time": "2025-08-09T19:31:10.684Z"
   },
   {
    "duration": 8,
    "start_time": "2025-08-09T19:31:10.773Z"
   },
   {
    "duration": 7,
    "start_time": "2025-08-09T19:31:10.782Z"
   },
   {
    "duration": 5,
    "start_time": "2025-08-09T19:31:10.791Z"
   },
   {
    "duration": 75,
    "start_time": "2025-08-09T19:31:10.797Z"
   },
   {
    "duration": 5,
    "start_time": "2025-08-09T19:31:10.873Z"
   },
   {
    "duration": 41,
    "start_time": "2025-08-09T19:31:10.880Z"
   },
   {
    "duration": 5,
    "start_time": "2025-08-09T19:31:10.922Z"
   },
   {
    "duration": 70,
    "start_time": "2025-08-09T19:31:10.928Z"
   },
   {
    "duration": 5,
    "start_time": "2025-08-09T19:31:10.999Z"
   },
   {
    "duration": 68,
    "start_time": "2025-08-09T19:31:11.006Z"
   },
   {
    "duration": 5,
    "start_time": "2025-08-09T19:31:11.076Z"
   },
   {
    "duration": 44,
    "start_time": "2025-08-09T19:31:11.083Z"
   },
   {
    "duration": 37,
    "start_time": "2025-08-09T19:31:11.129Z"
   },
   {
    "duration": 36,
    "start_time": "2025-08-09T19:31:11.167Z"
   },
   {
    "duration": 6,
    "start_time": "2025-08-09T19:31:11.204Z"
   },
   {
    "duration": 72,
    "start_time": "2025-08-09T19:31:11.211Z"
   },
   {
    "duration": 41,
    "start_time": "2025-08-09T19:31:11.284Z"
   },
   {
    "duration": 30,
    "start_time": "2025-08-09T19:31:11.327Z"
   },
   {
    "duration": 206,
    "start_time": "2025-08-09T19:31:11.358Z"
   },
   {
    "duration": 7,
    "start_time": "2025-08-09T19:31:11.566Z"
   },
   {
    "duration": 19,
    "start_time": "2025-08-09T19:31:11.574Z"
   },
   {
    "duration": 74,
    "start_time": "2025-08-09T19:31:11.595Z"
   },
   {
    "duration": 11,
    "start_time": "2025-08-09T19:31:11.671Z"
   },
   {
    "duration": 234,
    "start_time": "2025-08-09T19:31:11.683Z"
   },
   {
    "duration": 49,
    "start_time": "2025-08-09T19:31:11.918Z"
   },
   {
    "duration": 56,
    "start_time": "2025-08-09T19:31:11.968Z"
   },
   {
    "duration": 10,
    "start_time": "2025-08-09T19:31:12.026Z"
   },
   {
    "duration": 7,
    "start_time": "2025-08-09T19:31:12.038Z"
   },
   {
    "duration": 5,
    "start_time": "2025-08-09T19:31:12.047Z"
   },
   {
    "duration": 42,
    "start_time": "2025-08-09T19:31:12.053Z"
   },
   {
    "duration": 4,
    "start_time": "2025-08-09T19:31:12.097Z"
   },
   {
    "duration": 28,
    "start_time": "2025-08-09T19:31:12.102Z"
   },
   {
    "duration": 4,
    "start_time": "2025-08-09T19:31:12.132Z"
   },
   {
    "duration": 42,
    "start_time": "2025-08-09T19:31:12.167Z"
   },
   {
    "duration": 4,
    "start_time": "2025-08-09T19:31:12.211Z"
   },
   {
    "duration": 48,
    "start_time": "2025-08-09T19:31:12.217Z"
   },
   {
    "duration": 5,
    "start_time": "2025-08-09T19:31:12.267Z"
   },
   {
    "duration": 46,
    "start_time": "2025-08-09T19:31:12.273Z"
   },
   {
    "duration": 4,
    "start_time": "2025-08-09T19:31:12.321Z"
   },
   {
    "duration": 110,
    "start_time": "2025-08-09T19:31:12.326Z"
   },
   {
    "duration": 5,
    "start_time": "2025-08-09T19:31:12.438Z"
   },
   {
    "duration": 42,
    "start_time": "2025-08-09T19:31:12.444Z"
   },
   {
    "duration": 5,
    "start_time": "2025-08-09T19:31:12.487Z"
   },
   {
    "duration": 26,
    "start_time": "2025-08-09T19:31:12.493Z"
   },
   {
    "duration": 5,
    "start_time": "2025-08-09T19:31:12.521Z"
   },
   {
    "duration": 70,
    "start_time": "2025-08-09T19:31:12.528Z"
   },
   {
    "duration": 4,
    "start_time": "2025-08-09T19:31:12.600Z"
   },
   {
    "duration": 31,
    "start_time": "2025-08-09T19:31:12.606Z"
   },
   {
    "duration": 25,
    "start_time": "2025-08-09T19:31:12.639Z"
   },
   {
    "duration": 43,
    "start_time": "2025-08-09T19:31:12.666Z"
   },
   {
    "duration": 4,
    "start_time": "2025-08-09T19:31:12.711Z"
   },
   {
    "duration": 57,
    "start_time": "2025-08-09T19:31:12.716Z"
   },
   {
    "duration": 10,
    "start_time": "2025-08-09T19:31:12.774Z"
   },
   {
    "duration": 4,
    "start_time": "2025-08-09T19:31:12.786Z"
   },
   {
    "duration": 71,
    "start_time": "2025-08-09T19:31:12.791Z"
   },
   {
    "duration": 42,
    "start_time": "2025-08-09T19:31:12.864Z"
   },
   {
    "duration": 70,
    "start_time": "2025-08-09T19:31:12.908Z"
   },
   {
    "duration": 36,
    "start_time": "2025-08-09T19:31:12.979Z"
   },
   {
    "duration": 187,
    "start_time": "2025-08-09T19:31:13.017Z"
   },
   {
    "duration": 7,
    "start_time": "2025-08-09T19:31:13.206Z"
   },
   {
    "duration": 14,
    "start_time": "2025-08-09T19:31:13.214Z"
   },
   {
    "duration": 1493,
    "start_time": "2025-08-09T19:31:13.230Z"
   },
   {
    "duration": 1407,
    "start_time": "2025-08-09T19:31:14.724Z"
   },
   {
    "duration": 2,
    "start_time": "2025-08-09T19:31:16.133Z"
   },
   {
    "duration": 9,
    "start_time": "2025-08-09T19:31:16.136Z"
   },
   {
    "duration": 3,
    "start_time": "2025-08-09T19:31:16.147Z"
   },
   {
    "duration": 3,
    "start_time": "2025-08-09T19:31:16.161Z"
   },
   {
    "duration": 8,
    "start_time": "2025-08-09T19:31:16.165Z"
   },
   {
    "duration": 6,
    "start_time": "2025-08-09T19:31:16.174Z"
   },
   {
    "duration": 21,
    "start_time": "2025-08-09T19:31:16.182Z"
   },
   {
    "duration": 4,
    "start_time": "2025-08-09T19:31:16.205Z"
   },
   {
    "duration": 33,
    "start_time": "2025-08-09T19:31:16.210Z"
   },
   {
    "duration": 15,
    "start_time": "2025-08-09T19:31:16.244Z"
   },
   {
    "duration": 11,
    "start_time": "2025-08-09T19:31:16.261Z"
   },
   {
    "duration": 83,
    "start_time": "2025-08-09T19:31:16.273Z"
   },
   {
    "duration": 10,
    "start_time": "2025-08-09T19:31:16.362Z"
   },
   {
    "duration": 26,
    "start_time": "2025-08-09T19:31:16.373Z"
   },
   {
    "duration": 25,
    "start_time": "2025-08-09T19:31:16.401Z"
   },
   {
    "duration": 4,
    "start_time": "2025-08-09T19:31:16.428Z"
   },
   {
    "duration": 13,
    "start_time": "2025-08-09T19:31:16.433Z"
   },
   {
    "duration": 16,
    "start_time": "2025-08-09T19:31:16.447Z"
   },
   {
    "duration": 21,
    "start_time": "2025-08-09T19:31:16.465Z"
   },
   {
    "duration": 3,
    "start_time": "2025-08-09T19:31:16.488Z"
   },
   {
    "duration": 9,
    "start_time": "2025-08-09T19:31:16.493Z"
   },
   {
    "duration": 4,
    "start_time": "2025-08-09T19:31:16.504Z"
   },
   {
    "duration": 16,
    "start_time": "2025-08-09T19:31:16.509Z"
   },
   {
    "duration": 19,
    "start_time": "2025-08-09T19:31:16.526Z"
   },
   {
    "duration": 7,
    "start_time": "2025-08-09T19:31:16.546Z"
   },
   {
    "duration": 5,
    "start_time": "2025-08-09T19:31:16.554Z"
   },
   {
    "duration": 16,
    "start_time": "2025-08-09T19:31:16.560Z"
   },
   {
    "duration": 5,
    "start_time": "2025-08-09T19:31:16.577Z"
   },
   {
    "duration": 7,
    "start_time": "2025-08-09T19:31:16.583Z"
   },
   {
    "duration": 9,
    "start_time": "2025-08-09T19:31:16.592Z"
   },
   {
    "duration": 10,
    "start_time": "2025-08-09T19:31:16.603Z"
   },
   {
    "duration": 36,
    "start_time": "2025-08-09T19:31:16.614Z"
   },
   {
    "duration": 2,
    "start_time": "2025-08-09T19:31:16.652Z"
   },
   {
    "duration": 9,
    "start_time": "2025-08-09T19:31:16.655Z"
   },
   {
    "duration": 73,
    "start_time": "2025-08-09T19:31:16.666Z"
   },
   {
    "duration": 0,
    "start_time": "2025-08-09T19:31:16.740Z"
   },
   {
    "duration": 0,
    "start_time": "2025-08-09T19:31:16.741Z"
   },
   {
    "duration": 0,
    "start_time": "2025-08-09T19:31:16.742Z"
   },
   {
    "duration": 0,
    "start_time": "2025-08-09T19:31:16.743Z"
   },
   {
    "duration": 0,
    "start_time": "2025-08-09T19:31:16.744Z"
   },
   {
    "duration": 0,
    "start_time": "2025-08-09T19:31:16.745Z"
   },
   {
    "duration": 0,
    "start_time": "2025-08-09T19:31:16.746Z"
   },
   {
    "duration": 0,
    "start_time": "2025-08-09T19:31:16.747Z"
   },
   {
    "duration": 0,
    "start_time": "2025-08-09T19:31:16.748Z"
   },
   {
    "duration": 0,
    "start_time": "2025-08-09T19:31:16.749Z"
   },
   {
    "duration": 0,
    "start_time": "2025-08-09T19:31:16.750Z"
   },
   {
    "duration": 0,
    "start_time": "2025-08-09T19:31:16.751Z"
   },
   {
    "duration": 0,
    "start_time": "2025-08-09T19:31:16.752Z"
   },
   {
    "duration": 0,
    "start_time": "2025-08-09T19:31:16.753Z"
   },
   {
    "duration": 0,
    "start_time": "2025-08-09T19:31:16.754Z"
   },
   {
    "duration": 0,
    "start_time": "2025-08-09T19:31:16.754Z"
   },
   {
    "duration": 0,
    "start_time": "2025-08-09T19:31:16.756Z"
   },
   {
    "duration": 0,
    "start_time": "2025-08-09T19:31:16.756Z"
   },
   {
    "duration": 0,
    "start_time": "2025-08-09T19:31:16.757Z"
   },
   {
    "duration": 0,
    "start_time": "2025-08-09T19:31:16.758Z"
   },
   {
    "duration": 0,
    "start_time": "2025-08-09T19:31:16.759Z"
   },
   {
    "duration": 0,
    "start_time": "2025-08-09T19:31:16.761Z"
   },
   {
    "duration": 0,
    "start_time": "2025-08-09T19:31:16.762Z"
   },
   {
    "duration": 0,
    "start_time": "2025-08-09T19:31:16.763Z"
   },
   {
    "duration": 0,
    "start_time": "2025-08-09T19:31:16.764Z"
   },
   {
    "duration": 0,
    "start_time": "2025-08-09T19:31:16.764Z"
   },
   {
    "duration": 4,
    "start_time": "2025-08-09T19:32:40.933Z"
   },
   {
    "duration": 30444,
    "start_time": "2025-08-09T19:33:10.820Z"
   },
   {
    "duration": 6,
    "start_time": "2025-08-09T19:45:24.933Z"
   },
   {
    "duration": 3,
    "start_time": "2025-08-09T19:45:28.883Z"
   },
   {
    "duration": 4,
    "start_time": "2025-08-09T19:45:32.184Z"
   },
   {
    "duration": 5,
    "start_time": "2025-08-09T19:45:37.001Z"
   },
   {
    "duration": 4,
    "start_time": "2025-08-09T19:45:41.594Z"
   },
   {
    "duration": 5,
    "start_time": "2025-08-09T19:45:45.792Z"
   },
   {
    "duration": 4,
    "start_time": "2025-08-09T19:45:50.481Z"
   },
   {
    "duration": 5,
    "start_time": "2025-08-09T19:45:55.868Z"
   },
   {
    "duration": 5,
    "start_time": "2025-08-09T19:46:01.000Z"
   },
   {
    "duration": 18570,
    "start_time": "2025-08-09T19:52:57.134Z"
   },
   {
    "duration": 3462,
    "start_time": "2025-08-09T19:53:15.707Z"
   },
   {
    "duration": 10,
    "start_time": "2025-08-09T19:53:19.170Z"
   },
   {
    "duration": 12,
    "start_time": "2025-08-09T19:53:19.182Z"
   },
   {
    "duration": 10,
    "start_time": "2025-08-09T19:53:19.196Z"
   },
   {
    "duration": 8,
    "start_time": "2025-08-09T19:53:19.207Z"
   },
   {
    "duration": 8,
    "start_time": "2025-08-09T19:53:19.217Z"
   },
   {
    "duration": 8,
    "start_time": "2025-08-09T19:53:19.226Z"
   },
   {
    "duration": 4,
    "start_time": "2025-08-09T19:53:19.263Z"
   },
   {
    "duration": 24,
    "start_time": "2025-08-09T19:53:19.268Z"
   },
   {
    "duration": 18,
    "start_time": "2025-08-09T19:53:19.294Z"
   },
   {
    "duration": 16,
    "start_time": "2025-08-09T19:53:19.314Z"
   },
   {
    "duration": 16,
    "start_time": "2025-08-09T19:53:19.332Z"
   },
   {
    "duration": 9,
    "start_time": "2025-08-09T19:53:19.352Z"
   },
   {
    "duration": 33,
    "start_time": "2025-08-09T19:53:19.363Z"
   },
   {
    "duration": 11,
    "start_time": "2025-08-09T19:53:19.398Z"
   },
   {
    "duration": 266,
    "start_time": "2025-08-09T19:53:19.410Z"
   },
   {
    "duration": 26,
    "start_time": "2025-08-09T19:53:19.677Z"
   },
   {
    "duration": 55,
    "start_time": "2025-08-09T19:53:19.704Z"
   },
   {
    "duration": 16,
    "start_time": "2025-08-09T19:53:19.761Z"
   },
   {
    "duration": 14,
    "start_time": "2025-08-09T19:53:19.779Z"
   },
   {
    "duration": 2,
    "start_time": "2025-08-09T19:53:19.795Z"
   },
   {
    "duration": 17,
    "start_time": "2025-08-09T19:53:19.799Z"
   },
   {
    "duration": 14,
    "start_time": "2025-08-09T19:53:19.817Z"
   },
   {
    "duration": 34,
    "start_time": "2025-08-09T19:53:19.863Z"
   },
   {
    "duration": 4,
    "start_time": "2025-08-09T19:53:19.898Z"
   },
   {
    "duration": 57,
    "start_time": "2025-08-09T19:53:19.904Z"
   },
   {
    "duration": 10,
    "start_time": "2025-08-09T19:53:19.963Z"
   },
   {
    "duration": 2,
    "start_time": "2025-08-09T19:53:19.975Z"
   },
   {
    "duration": 6,
    "start_time": "2025-08-09T19:53:19.979Z"
   },
   {
    "duration": 11,
    "start_time": "2025-08-09T19:53:19.987Z"
   },
   {
    "duration": 6,
    "start_time": "2025-08-09T19:53:19.999Z"
   },
   {
    "duration": 10,
    "start_time": "2025-08-09T19:53:20.007Z"
   },
   {
    "duration": 47,
    "start_time": "2025-08-09T19:53:20.019Z"
   },
   {
    "duration": 52,
    "start_time": "2025-08-09T19:53:20.068Z"
   },
   {
    "duration": 10,
    "start_time": "2025-08-09T19:53:20.122Z"
   },
   {
    "duration": 10,
    "start_time": "2025-08-09T19:53:20.133Z"
   },
   {
    "duration": 75,
    "start_time": "2025-08-09T19:53:20.145Z"
   },
   {
    "duration": 5,
    "start_time": "2025-08-09T19:53:20.222Z"
   },
   {
    "duration": 33,
    "start_time": "2025-08-09T19:53:20.229Z"
   },
   {
    "duration": 9,
    "start_time": "2025-08-09T19:53:20.269Z"
   },
   {
    "duration": 197,
    "start_time": "2025-08-09T19:53:20.280Z"
   },
   {
    "duration": 6,
    "start_time": "2025-08-09T19:53:20.479Z"
   },
   {
    "duration": 118,
    "start_time": "2025-08-09T19:53:20.487Z"
   },
   {
    "duration": 58,
    "start_time": "2025-08-09T19:53:20.607Z"
   },
   {
    "duration": 44,
    "start_time": "2025-08-09T19:53:20.667Z"
   },
   {
    "duration": 8,
    "start_time": "2025-08-09T19:53:20.713Z"
   },
   {
    "duration": 92,
    "start_time": "2025-08-09T19:53:20.723Z"
   },
   {
    "duration": 8,
    "start_time": "2025-08-09T19:53:20.816Z"
   },
   {
    "duration": 8,
    "start_time": "2025-08-09T19:53:20.827Z"
   },
   {
    "duration": 28,
    "start_time": "2025-08-09T19:53:20.836Z"
   },
   {
    "duration": 55,
    "start_time": "2025-08-09T19:53:20.866Z"
   },
   {
    "duration": 5,
    "start_time": "2025-08-09T19:53:20.923Z"
   },
   {
    "duration": 56,
    "start_time": "2025-08-09T19:53:20.929Z"
   },
   {
    "duration": 5,
    "start_time": "2025-08-09T19:53:20.987Z"
   },
   {
    "duration": 53,
    "start_time": "2025-08-09T19:53:20.993Z"
   },
   {
    "duration": 18,
    "start_time": "2025-08-09T19:53:21.047Z"
   },
   {
    "duration": 43,
    "start_time": "2025-08-09T19:53:21.067Z"
   },
   {
    "duration": 5,
    "start_time": "2025-08-09T19:53:21.112Z"
   },
   {
    "duration": 75,
    "start_time": "2025-08-09T19:53:21.118Z"
   },
   {
    "duration": 12,
    "start_time": "2025-08-09T19:53:21.195Z"
   },
   {
    "duration": 63,
    "start_time": "2025-08-09T19:53:21.209Z"
   },
   {
    "duration": 5,
    "start_time": "2025-08-09T19:53:21.274Z"
   },
   {
    "duration": 43,
    "start_time": "2025-08-09T19:53:21.281Z"
   },
   {
    "duration": 56,
    "start_time": "2025-08-09T19:53:21.326Z"
   },
   {
    "duration": 32,
    "start_time": "2025-08-09T19:53:21.383Z"
   },
   {
    "duration": 191,
    "start_time": "2025-08-09T19:53:21.416Z"
   },
   {
    "duration": 8,
    "start_time": "2025-08-09T19:53:21.608Z"
   },
   {
    "duration": 15,
    "start_time": "2025-08-09T19:53:21.617Z"
   },
   {
    "duration": 29,
    "start_time": "2025-08-09T19:53:21.634Z"
   },
   {
    "duration": 95,
    "start_time": "2025-08-09T19:53:21.664Z"
   },
   {
    "duration": 256,
    "start_time": "2025-08-09T19:53:21.761Z"
   },
   {
    "duration": 51,
    "start_time": "2025-08-09T19:53:22.019Z"
   },
   {
    "duration": 58,
    "start_time": "2025-08-09T19:53:22.072Z"
   },
   {
    "duration": 20,
    "start_time": "2025-08-09T19:53:22.131Z"
   },
   {
    "duration": 7,
    "start_time": "2025-08-09T19:53:22.153Z"
   },
   {
    "duration": 9,
    "start_time": "2025-08-09T19:53:22.162Z"
   },
   {
    "duration": 43,
    "start_time": "2025-08-09T19:53:22.173Z"
   },
   {
    "duration": 4,
    "start_time": "2025-08-09T19:53:22.217Z"
   },
   {
    "duration": 45,
    "start_time": "2025-08-09T19:53:22.223Z"
   },
   {
    "duration": 5,
    "start_time": "2025-08-09T19:53:22.270Z"
   },
   {
    "duration": 60,
    "start_time": "2025-08-09T19:53:22.276Z"
   },
   {
    "duration": 4,
    "start_time": "2025-08-09T19:53:22.338Z"
   },
   {
    "duration": 46,
    "start_time": "2025-08-09T19:53:22.343Z"
   },
   {
    "duration": 5,
    "start_time": "2025-08-09T19:53:22.391Z"
   },
   {
    "duration": 108,
    "start_time": "2025-08-09T19:53:22.398Z"
   },
   {
    "duration": 4,
    "start_time": "2025-08-09T19:53:22.508Z"
   },
   {
    "duration": 33,
    "start_time": "2025-08-09T19:53:22.514Z"
   },
   {
    "duration": 15,
    "start_time": "2025-08-09T19:53:22.549Z"
   },
   {
    "duration": 52,
    "start_time": "2025-08-09T19:53:22.565Z"
   },
   {
    "duration": 5,
    "start_time": "2025-08-09T19:53:22.619Z"
   },
   {
    "duration": 53,
    "start_time": "2025-08-09T19:53:22.625Z"
   },
   {
    "duration": 5,
    "start_time": "2025-08-09T19:53:22.680Z"
   },
   {
    "duration": 50,
    "start_time": "2025-08-09T19:53:22.686Z"
   },
   {
    "duration": 26,
    "start_time": "2025-08-09T19:53:22.738Z"
   },
   {
    "duration": 31,
    "start_time": "2025-08-09T19:53:22.766Z"
   },
   {
    "duration": 5,
    "start_time": "2025-08-09T19:53:22.799Z"
   },
   {
    "duration": 71,
    "start_time": "2025-08-09T19:53:22.806Z"
   },
   {
    "duration": 5,
    "start_time": "2025-08-09T19:53:22.878Z"
   },
   {
    "duration": 36,
    "start_time": "2025-08-09T19:53:22.885Z"
   },
   {
    "duration": 10,
    "start_time": "2025-08-09T19:53:22.923Z"
   },
   {
    "duration": 4,
    "start_time": "2025-08-09T19:53:22.935Z"
   },
   {
    "duration": 49,
    "start_time": "2025-08-09T19:53:22.963Z"
   },
   {
    "duration": 66,
    "start_time": "2025-08-09T19:53:23.014Z"
   },
   {
    "duration": 50,
    "start_time": "2025-08-09T19:53:23.082Z"
   },
   {
    "duration": 58,
    "start_time": "2025-08-09T19:53:23.134Z"
   },
   {
    "duration": 185,
    "start_time": "2025-08-09T19:53:23.194Z"
   },
   {
    "duration": 6,
    "start_time": "2025-08-09T19:53:23.381Z"
   },
   {
    "duration": 8,
    "start_time": "2025-08-09T19:53:23.389Z"
   },
   {
    "duration": 1492,
    "start_time": "2025-08-09T19:53:23.399Z"
   },
   {
    "duration": 1433,
    "start_time": "2025-08-09T19:53:24.893Z"
   },
   {
    "duration": 2,
    "start_time": "2025-08-09T19:53:26.328Z"
   },
   {
    "duration": 11,
    "start_time": "2025-08-09T19:53:26.331Z"
   },
   {
    "duration": 3,
    "start_time": "2025-08-09T19:53:26.344Z"
   },
   {
    "duration": 14,
    "start_time": "2025-08-09T19:53:26.349Z"
   },
   {
    "duration": 16,
    "start_time": "2025-08-09T19:53:26.364Z"
   },
   {
    "duration": 70,
    "start_time": "2025-08-09T19:53:26.382Z"
   },
   {
    "duration": 8,
    "start_time": "2025-08-09T19:53:26.454Z"
   },
   {
    "duration": 6,
    "start_time": "2025-08-09T19:53:26.464Z"
   },
   {
    "duration": 16,
    "start_time": "2025-08-09T19:53:26.471Z"
   },
   {
    "duration": 8,
    "start_time": "2025-08-09T19:53:26.489Z"
   },
   {
    "duration": 4,
    "start_time": "2025-08-09T19:53:26.505Z"
   },
   {
    "duration": 106,
    "start_time": "2025-08-09T19:53:26.511Z"
   },
   {
    "duration": 14,
    "start_time": "2025-08-09T19:53:26.619Z"
   },
   {
    "duration": 15,
    "start_time": "2025-08-09T19:53:26.634Z"
   },
   {
    "duration": 16,
    "start_time": "2025-08-09T19:53:26.651Z"
   },
   {
    "duration": 4,
    "start_time": "2025-08-09T19:53:26.669Z"
   },
   {
    "duration": 21,
    "start_time": "2025-08-09T19:53:26.674Z"
   },
   {
    "duration": 4,
    "start_time": "2025-08-09T19:53:26.697Z"
   },
   {
    "duration": 4,
    "start_time": "2025-08-09T19:53:26.703Z"
   },
   {
    "duration": 4,
    "start_time": "2025-08-09T19:53:26.709Z"
   },
   {
    "duration": 3,
    "start_time": "2025-08-09T19:53:26.714Z"
   },
   {
    "duration": 5,
    "start_time": "2025-08-09T19:53:26.719Z"
   },
   {
    "duration": 12,
    "start_time": "2025-08-09T19:53:26.725Z"
   },
   {
    "duration": 4,
    "start_time": "2025-08-09T19:53:26.739Z"
   },
   {
    "duration": 12,
    "start_time": "2025-08-09T19:53:26.744Z"
   },
   {
    "duration": 5,
    "start_time": "2025-08-09T19:53:26.758Z"
   },
   {
    "duration": 12,
    "start_time": "2025-08-09T19:53:26.764Z"
   },
   {
    "duration": 31,
    "start_time": "2025-08-09T19:53:26.777Z"
   },
   {
    "duration": 7,
    "start_time": "2025-08-09T19:53:26.809Z"
   },
   {
    "duration": 5,
    "start_time": "2025-08-09T19:53:26.817Z"
   },
   {
    "duration": 8,
    "start_time": "2025-08-09T19:53:26.823Z"
   },
   {
    "duration": 42,
    "start_time": "2025-08-09T19:53:26.832Z"
   },
   {
    "duration": 2,
    "start_time": "2025-08-09T19:53:26.876Z"
   },
   {
    "duration": 27,
    "start_time": "2025-08-09T19:53:26.880Z"
   },
   {
    "duration": 107,
    "start_time": "2025-08-09T19:53:26.908Z"
   },
   {
    "duration": 0,
    "start_time": "2025-08-09T19:53:27.016Z"
   },
   {
    "duration": 0,
    "start_time": "2025-08-09T19:53:27.018Z"
   },
   {
    "duration": 0,
    "start_time": "2025-08-09T19:53:27.018Z"
   },
   {
    "duration": 0,
    "start_time": "2025-08-09T19:53:27.019Z"
   },
   {
    "duration": 0,
    "start_time": "2025-08-09T19:53:27.021Z"
   },
   {
    "duration": 0,
    "start_time": "2025-08-09T19:53:27.022Z"
   },
   {
    "duration": 0,
    "start_time": "2025-08-09T19:53:27.023Z"
   },
   {
    "duration": 0,
    "start_time": "2025-08-09T19:53:27.024Z"
   },
   {
    "duration": 0,
    "start_time": "2025-08-09T19:53:27.025Z"
   },
   {
    "duration": 0,
    "start_time": "2025-08-09T19:53:27.026Z"
   },
   {
    "duration": 0,
    "start_time": "2025-08-09T19:53:27.027Z"
   },
   {
    "duration": 0,
    "start_time": "2025-08-09T19:53:27.028Z"
   },
   {
    "duration": 0,
    "start_time": "2025-08-09T19:53:27.029Z"
   },
   {
    "duration": 0,
    "start_time": "2025-08-09T19:53:27.030Z"
   },
   {
    "duration": 0,
    "start_time": "2025-08-09T19:53:27.031Z"
   },
   {
    "duration": 0,
    "start_time": "2025-08-09T19:53:27.032Z"
   },
   {
    "duration": 0,
    "start_time": "2025-08-09T19:53:27.032Z"
   },
   {
    "duration": 0,
    "start_time": "2025-08-09T19:53:27.033Z"
   },
   {
    "duration": 0,
    "start_time": "2025-08-09T19:53:27.034Z"
   },
   {
    "duration": 0,
    "start_time": "2025-08-09T19:53:27.035Z"
   },
   {
    "duration": 0,
    "start_time": "2025-08-09T19:53:27.036Z"
   },
   {
    "duration": 0,
    "start_time": "2025-08-09T19:53:27.037Z"
   },
   {
    "duration": 0,
    "start_time": "2025-08-09T19:53:27.038Z"
   },
   {
    "duration": 0,
    "start_time": "2025-08-09T19:53:27.039Z"
   },
   {
    "duration": 0,
    "start_time": "2025-08-09T19:53:27.040Z"
   },
   {
    "duration": 0,
    "start_time": "2025-08-09T19:53:27.041Z"
   },
   {
    "duration": 23812,
    "start_time": "2025-08-09T19:54:36.233Z"
   },
   {
    "duration": 7,
    "start_time": "2025-08-09T19:57:31.570Z"
   },
   {
    "duration": 24044,
    "start_time": "2025-08-09T19:57:38.744Z"
   },
   {
    "duration": 4,
    "start_time": "2025-08-09T19:58:16.646Z"
   },
   {
    "duration": 318,
    "start_time": "2025-08-09T20:06:44.392Z"
   },
   {
    "duration": 25,
    "start_time": "2025-08-09T20:07:06.247Z"
   },
   {
    "duration": 25,
    "start_time": "2025-08-09T20:07:38.487Z"
   },
   {
    "duration": 45,
    "start_time": "2025-08-09T20:08:49.652Z"
   },
   {
    "duration": 31,
    "start_time": "2025-08-09T20:08:59.358Z"
   },
   {
    "duration": 26,
    "start_time": "2025-08-09T20:09:30.128Z"
   },
   {
    "duration": 5,
    "start_time": "2025-08-09T20:09:53.356Z"
   },
   {
    "duration": 5,
    "start_time": "2025-08-09T20:10:03.859Z"
   },
   {
    "duration": 4,
    "start_time": "2025-08-09T20:10:15.540Z"
   },
   {
    "duration": 5,
    "start_time": "2025-08-09T20:10:22.993Z"
   },
   {
    "duration": 4,
    "start_time": "2025-08-09T20:10:28.211Z"
   },
   {
    "duration": 5,
    "start_time": "2025-08-09T20:10:34.797Z"
   },
   {
    "duration": 5,
    "start_time": "2025-08-09T20:10:48.694Z"
   },
   {
    "duration": 6,
    "start_time": "2025-08-09T20:10:55.605Z"
   },
   {
    "duration": 6,
    "start_time": "2025-08-09T20:11:03.948Z"
   },
   {
    "duration": 28677,
    "start_time": "2025-08-09T20:11:18.286Z"
   },
   {
    "duration": 34,
    "start_time": "2025-08-09T20:14:00.971Z"
   },
   {
    "duration": 25,
    "start_time": "2025-08-09T20:14:06.200Z"
   },
   {
    "duration": 5,
    "start_time": "2025-08-09T20:14:15.110Z"
   },
   {
    "duration": 28403,
    "start_time": "2025-08-09T20:14:38.462Z"
   },
   {
    "duration": 5,
    "start_time": "2025-08-09T20:20:51.408Z"
   },
   {
    "duration": 5,
    "start_time": "2025-08-09T20:20:57.877Z"
   },
   {
    "duration": 28563,
    "start_time": "2025-08-09T20:21:12.702Z"
   },
   {
    "duration": 19397,
    "start_time": "2025-08-09T20:24:58.086Z"
   },
   {
    "duration": 3508,
    "start_time": "2025-08-09T20:25:17.485Z"
   },
   {
    "duration": 10,
    "start_time": "2025-08-09T20:25:20.995Z"
   },
   {
    "duration": 23,
    "start_time": "2025-08-09T20:25:21.007Z"
   },
   {
    "duration": 20,
    "start_time": "2025-08-09T20:25:21.031Z"
   },
   {
    "duration": 18,
    "start_time": "2025-08-09T20:25:21.053Z"
   },
   {
    "duration": 21,
    "start_time": "2025-08-09T20:25:21.072Z"
   },
   {
    "duration": 7,
    "start_time": "2025-08-09T20:25:21.095Z"
   },
   {
    "duration": 22,
    "start_time": "2025-08-09T20:25:21.104Z"
   },
   {
    "duration": 7,
    "start_time": "2025-08-09T20:25:21.129Z"
   },
   {
    "duration": 8,
    "start_time": "2025-08-09T20:25:21.138Z"
   },
   {
    "duration": 9,
    "start_time": "2025-08-09T20:25:21.147Z"
   },
   {
    "duration": 12,
    "start_time": "2025-08-09T20:25:21.158Z"
   },
   {
    "duration": 7,
    "start_time": "2025-08-09T20:25:21.172Z"
   },
   {
    "duration": 6,
    "start_time": "2025-08-09T20:25:21.181Z"
   },
   {
    "duration": 15,
    "start_time": "2025-08-09T20:25:21.188Z"
   },
   {
    "duration": 283,
    "start_time": "2025-08-09T20:25:21.204Z"
   },
   {
    "duration": 28,
    "start_time": "2025-08-09T20:25:21.488Z"
   },
   {
    "duration": 18,
    "start_time": "2025-08-09T20:25:21.518Z"
   },
   {
    "duration": 36,
    "start_time": "2025-08-09T20:25:21.538Z"
   },
   {
    "duration": 14,
    "start_time": "2025-08-09T20:25:21.576Z"
   },
   {
    "duration": 3,
    "start_time": "2025-08-09T20:25:21.592Z"
   },
   {
    "duration": 27,
    "start_time": "2025-08-09T20:25:21.597Z"
   },
   {
    "duration": 36,
    "start_time": "2025-08-09T20:25:21.626Z"
   },
   {
    "duration": 42,
    "start_time": "2025-08-09T20:25:21.664Z"
   },
   {
    "duration": 4,
    "start_time": "2025-08-09T20:25:21.708Z"
   },
   {
    "duration": 9,
    "start_time": "2025-08-09T20:25:21.714Z"
   },
   {
    "duration": 10,
    "start_time": "2025-08-09T20:25:21.727Z"
   },
   {
    "duration": 2,
    "start_time": "2025-08-09T20:25:21.763Z"
   },
   {
    "duration": 13,
    "start_time": "2025-08-09T20:25:21.767Z"
   },
   {
    "duration": 19,
    "start_time": "2025-08-09T20:25:21.782Z"
   },
   {
    "duration": 53,
    "start_time": "2025-08-09T20:25:21.803Z"
   },
   {
    "duration": 8,
    "start_time": "2025-08-09T20:25:21.858Z"
   },
   {
    "duration": 9,
    "start_time": "2025-08-09T20:25:21.868Z"
   },
   {
    "duration": 3,
    "start_time": "2025-08-09T20:25:21.878Z"
   },
   {
    "duration": 6,
    "start_time": "2025-08-09T20:25:21.882Z"
   },
   {
    "duration": 5,
    "start_time": "2025-08-09T20:25:21.889Z"
   },
   {
    "duration": 98,
    "start_time": "2025-08-09T20:25:21.896Z"
   },
   {
    "duration": 5,
    "start_time": "2025-08-09T20:25:21.995Z"
   },
   {
    "duration": 19,
    "start_time": "2025-08-09T20:25:22.002Z"
   },
   {
    "duration": 9,
    "start_time": "2025-08-09T20:25:22.022Z"
   },
   {
    "duration": 223,
    "start_time": "2025-08-09T20:25:22.032Z"
   },
   {
    "duration": 4,
    "start_time": "2025-08-09T20:25:22.257Z"
   },
   {
    "duration": 104,
    "start_time": "2025-08-09T20:25:22.263Z"
   },
   {
    "duration": 6,
    "start_time": "2025-08-09T20:25:22.368Z"
   },
   {
    "duration": 92,
    "start_time": "2025-08-09T20:25:22.376Z"
   },
   {
    "duration": 5,
    "start_time": "2025-08-09T20:25:22.469Z"
   },
   {
    "duration": 58,
    "start_time": "2025-08-09T20:25:22.476Z"
   },
   {
    "duration": 31,
    "start_time": "2025-08-09T20:25:22.536Z"
   },
   {
    "duration": 6,
    "start_time": "2025-08-09T20:25:22.569Z"
   },
   {
    "duration": 16,
    "start_time": "2025-08-09T20:25:22.577Z"
   },
   {
    "duration": 68,
    "start_time": "2025-08-09T20:25:22.594Z"
   },
   {
    "duration": 5,
    "start_time": "2025-08-09T20:25:22.663Z"
   },
   {
    "duration": 50,
    "start_time": "2025-08-09T20:25:22.669Z"
   },
   {
    "duration": 4,
    "start_time": "2025-08-09T20:25:22.721Z"
   },
   {
    "duration": 63,
    "start_time": "2025-08-09T20:25:22.727Z"
   },
   {
    "duration": 5,
    "start_time": "2025-08-09T20:25:22.791Z"
   },
   {
    "duration": 81,
    "start_time": "2025-08-09T20:25:22.797Z"
   },
   {
    "duration": 6,
    "start_time": "2025-08-09T20:25:22.879Z"
   },
   {
    "duration": 47,
    "start_time": "2025-08-09T20:25:22.886Z"
   },
   {
    "duration": 33,
    "start_time": "2025-08-09T20:25:22.935Z"
   },
   {
    "duration": 32,
    "start_time": "2025-08-09T20:25:22.970Z"
   },
   {
    "duration": 5,
    "start_time": "2025-08-09T20:25:23.004Z"
   },
   {
    "duration": 69,
    "start_time": "2025-08-09T20:25:23.011Z"
   },
   {
    "duration": 4,
    "start_time": "2025-08-09T20:25:23.082Z"
   },
   {
    "duration": 32,
    "start_time": "2025-08-09T20:25:23.088Z"
   },
   {
    "duration": 199,
    "start_time": "2025-08-09T20:25:23.122Z"
   },
   {
    "duration": 7,
    "start_time": "2025-08-09T20:25:23.323Z"
   },
   {
    "duration": 35,
    "start_time": "2025-08-09T20:25:23.332Z"
   },
   {
    "duration": 3,
    "start_time": "2025-08-09T20:25:23.368Z"
   },
   {
    "duration": 22,
    "start_time": "2025-08-09T20:25:23.372Z"
   },
   {
    "duration": 277,
    "start_time": "2025-08-09T20:25:23.396Z"
   },
   {
    "duration": 25,
    "start_time": "2025-08-09T20:25:23.675Z"
   },
   {
    "duration": 7,
    "start_time": "2025-08-09T20:25:23.702Z"
   },
   {
    "duration": 55,
    "start_time": "2025-08-09T20:25:23.711Z"
   },
   {
    "duration": 7,
    "start_time": "2025-08-09T20:25:23.768Z"
   },
   {
    "duration": 11,
    "start_time": "2025-08-09T20:25:23.776Z"
   },
   {
    "duration": 132,
    "start_time": "2025-08-09T20:25:23.789Z"
   },
   {
    "duration": 5,
    "start_time": "2025-08-09T20:25:23.922Z"
   },
   {
    "duration": 34,
    "start_time": "2025-08-09T20:25:23.928Z"
   },
   {
    "duration": 4,
    "start_time": "2025-08-09T20:25:23.964Z"
   },
   {
    "duration": 46,
    "start_time": "2025-08-09T20:25:23.977Z"
   },
   {
    "duration": 5,
    "start_time": "2025-08-09T20:25:24.025Z"
   },
   {
    "duration": 111,
    "start_time": "2025-08-09T20:25:24.032Z"
   },
   {
    "duration": 6,
    "start_time": "2025-08-09T20:25:24.145Z"
   },
   {
    "duration": 61,
    "start_time": "2025-08-09T20:25:24.153Z"
   },
   {
    "duration": 5,
    "start_time": "2025-08-09T20:25:24.216Z"
   },
   {
    "duration": 85,
    "start_time": "2025-08-09T20:25:24.222Z"
   },
   {
    "duration": 5,
    "start_time": "2025-08-09T20:25:24.309Z"
   },
   {
    "duration": 46,
    "start_time": "2025-08-09T20:25:24.316Z"
   },
   {
    "duration": 4,
    "start_time": "2025-08-09T20:25:24.364Z"
   },
   {
    "duration": 29,
    "start_time": "2025-08-09T20:25:24.369Z"
   },
   {
    "duration": 5,
    "start_time": "2025-08-09T20:25:24.400Z"
   },
   {
    "duration": 67,
    "start_time": "2025-08-09T20:25:24.407Z"
   },
   {
    "duration": 4,
    "start_time": "2025-08-09T20:25:24.476Z"
   },
   {
    "duration": 128,
    "start_time": "2025-08-09T20:25:24.482Z"
   },
   {
    "duration": 6,
    "start_time": "2025-08-09T20:25:24.611Z"
   },
   {
    "duration": 44,
    "start_time": "2025-08-09T20:25:24.618Z"
   },
   {
    "duration": 4,
    "start_time": "2025-08-09T20:25:24.664Z"
   },
   {
    "duration": 27,
    "start_time": "2025-08-09T20:25:24.669Z"
   },
   {
    "duration": 9,
    "start_time": "2025-08-09T20:25:24.698Z"
   },
   {
    "duration": 11,
    "start_time": "2025-08-09T20:25:24.709Z"
   },
   {
    "duration": 73,
    "start_time": "2025-08-09T20:25:24.722Z"
   },
   {
    "duration": 42,
    "start_time": "2025-08-09T20:25:24.797Z"
   },
   {
    "duration": 70,
    "start_time": "2025-08-09T20:25:24.840Z"
   },
   {
    "duration": 60,
    "start_time": "2025-08-09T20:25:24.911Z"
   },
   {
    "duration": 159,
    "start_time": "2025-08-09T20:25:24.972Z"
   },
   {
    "duration": 32,
    "start_time": "2025-08-09T20:25:25.133Z"
   },
   {
    "duration": 12,
    "start_time": "2025-08-09T20:25:25.166Z"
   },
   {
    "duration": 1533,
    "start_time": "2025-08-09T20:25:25.180Z"
   },
   {
    "duration": 1483,
    "start_time": "2025-08-09T20:25:26.714Z"
   },
   {
    "duration": 2,
    "start_time": "2025-08-09T20:25:28.199Z"
   },
   {
    "duration": 79,
    "start_time": "2025-08-09T20:25:28.203Z"
   },
   {
    "duration": 8,
    "start_time": "2025-08-09T20:25:28.283Z"
   },
   {
    "duration": 6,
    "start_time": "2025-08-09T20:25:28.293Z"
   },
   {
    "duration": 4,
    "start_time": "2025-08-09T20:25:28.301Z"
   },
   {
    "duration": 4,
    "start_time": "2025-08-09T20:25:28.307Z"
   },
   {
    "duration": 5,
    "start_time": "2025-08-09T20:25:28.313Z"
   },
   {
    "duration": 5,
    "start_time": "2025-08-09T20:25:28.320Z"
   },
   {
    "duration": 35,
    "start_time": "2025-08-09T20:25:28.327Z"
   },
   {
    "duration": 3,
    "start_time": "2025-08-09T20:25:28.364Z"
   },
   {
    "duration": 11,
    "start_time": "2025-08-09T20:25:28.369Z"
   },
   {
    "duration": 105,
    "start_time": "2025-08-09T20:25:28.382Z"
   },
   {
    "duration": 12,
    "start_time": "2025-08-09T20:25:28.489Z"
   },
   {
    "duration": 106,
    "start_time": "2025-08-09T20:25:28.503Z"
   },
   {
    "duration": 5,
    "start_time": "2025-08-09T20:25:28.610Z"
   },
   {
    "duration": 33,
    "start_time": "2025-08-09T20:25:28.616Z"
   },
   {
    "duration": 3,
    "start_time": "2025-08-09T20:25:28.651Z"
   },
   {
    "duration": 6,
    "start_time": "2025-08-09T20:25:28.656Z"
   },
   {
    "duration": 6,
    "start_time": "2025-08-09T20:25:28.664Z"
   },
   {
    "duration": 6,
    "start_time": "2025-08-09T20:25:28.672Z"
   },
   {
    "duration": 25,
    "start_time": "2025-08-09T20:25:28.680Z"
   },
   {
    "duration": 16,
    "start_time": "2025-08-09T20:25:28.707Z"
   },
   {
    "duration": 24,
    "start_time": "2025-08-09T20:25:28.725Z"
   },
   {
    "duration": 6,
    "start_time": "2025-08-09T20:25:28.751Z"
   },
   {
    "duration": 6,
    "start_time": "2025-08-09T20:25:28.759Z"
   },
   {
    "duration": 6,
    "start_time": "2025-08-09T20:25:28.767Z"
   },
   {
    "duration": 33,
    "start_time": "2025-08-09T20:25:28.775Z"
   },
   {
    "duration": 9,
    "start_time": "2025-08-09T20:25:28.810Z"
   },
   {
    "duration": 6,
    "start_time": "2025-08-09T20:25:28.821Z"
   },
   {
    "duration": 4,
    "start_time": "2025-08-09T20:25:28.829Z"
   },
   {
    "duration": 22,
    "start_time": "2025-08-09T20:25:28.835Z"
   },
   {
    "duration": 46,
    "start_time": "2025-08-09T20:25:28.859Z"
   },
   {
    "duration": 4,
    "start_time": "2025-08-09T20:25:28.907Z"
   },
   {
    "duration": 18,
    "start_time": "2025-08-09T20:25:28.913Z"
   },
   {
    "duration": 28530,
    "start_time": "2025-08-09T20:25:28.933Z"
   },
   {
    "duration": 314,
    "start_time": "2025-08-09T20:25:57.465Z"
   },
   {
    "duration": 0,
    "start_time": "2025-08-09T20:25:57.781Z"
   },
   {
    "duration": 0,
    "start_time": "2025-08-09T20:25:57.782Z"
   },
   {
    "duration": 0,
    "start_time": "2025-08-09T20:25:57.783Z"
   },
   {
    "duration": 0,
    "start_time": "2025-08-09T20:25:57.784Z"
   },
   {
    "duration": 0,
    "start_time": "2025-08-09T20:25:57.785Z"
   },
   {
    "duration": 0,
    "start_time": "2025-08-09T20:25:57.786Z"
   },
   {
    "duration": 0,
    "start_time": "2025-08-09T20:25:57.787Z"
   },
   {
    "duration": 0,
    "start_time": "2025-08-09T20:25:57.788Z"
   },
   {
    "duration": 0,
    "start_time": "2025-08-09T20:25:57.789Z"
   },
   {
    "duration": 0,
    "start_time": "2025-08-09T20:25:57.790Z"
   },
   {
    "duration": 0,
    "start_time": "2025-08-09T20:25:57.791Z"
   },
   {
    "duration": 0,
    "start_time": "2025-08-09T20:25:57.792Z"
   },
   {
    "duration": 0,
    "start_time": "2025-08-09T20:25:57.794Z"
   },
   {
    "duration": 0,
    "start_time": "2025-08-09T20:25:57.794Z"
   },
   {
    "duration": 0,
    "start_time": "2025-08-09T20:25:57.796Z"
   },
   {
    "duration": 0,
    "start_time": "2025-08-09T20:25:57.796Z"
   },
   {
    "duration": 0,
    "start_time": "2025-08-09T20:25:57.797Z"
   },
   {
    "duration": 0,
    "start_time": "2025-08-09T20:25:57.798Z"
   },
   {
    "duration": 0,
    "start_time": "2025-08-09T20:25:57.800Z"
   },
   {
    "duration": 0,
    "start_time": "2025-08-09T20:25:57.800Z"
   },
   {
    "duration": 0,
    "start_time": "2025-08-09T20:25:57.801Z"
   },
   {
    "duration": 0,
    "start_time": "2025-08-09T20:25:57.803Z"
   },
   {
    "duration": 0,
    "start_time": "2025-08-09T20:25:57.804Z"
   },
   {
    "duration": 0,
    "start_time": "2025-08-09T20:25:57.805Z"
   },
   {
    "duration": 0,
    "start_time": "2025-08-09T20:25:57.806Z"
   },
   {
    "duration": 19516,
    "start_time": "2025-08-09T20:28:57.495Z"
   },
   {
    "duration": 3493,
    "start_time": "2025-08-09T20:29:17.015Z"
   },
   {
    "duration": 11,
    "start_time": "2025-08-09T20:29:20.509Z"
   },
   {
    "duration": 41,
    "start_time": "2025-08-09T20:29:20.522Z"
   },
   {
    "duration": 20,
    "start_time": "2025-08-09T20:29:20.565Z"
   },
   {
    "duration": 13,
    "start_time": "2025-08-09T20:29:20.587Z"
   },
   {
    "duration": 28,
    "start_time": "2025-08-09T20:29:20.601Z"
   },
   {
    "duration": 12,
    "start_time": "2025-08-09T20:29:20.631Z"
   },
   {
    "duration": 5,
    "start_time": "2025-08-09T20:29:20.644Z"
   },
   {
    "duration": 6,
    "start_time": "2025-08-09T20:29:20.652Z"
   },
   {
    "duration": 14,
    "start_time": "2025-08-09T20:29:20.659Z"
   },
   {
    "duration": 23,
    "start_time": "2025-08-09T20:29:20.674Z"
   },
   {
    "duration": 50,
    "start_time": "2025-08-09T20:29:20.698Z"
   },
   {
    "duration": 14,
    "start_time": "2025-08-09T20:29:20.750Z"
   },
   {
    "duration": 23,
    "start_time": "2025-08-09T20:29:20.766Z"
   },
   {
    "duration": 12,
    "start_time": "2025-08-09T20:29:20.791Z"
   },
   {
    "duration": 289,
    "start_time": "2025-08-09T20:29:20.805Z"
   },
   {
    "duration": 27,
    "start_time": "2025-08-09T20:29:21.096Z"
   },
   {
    "duration": 18,
    "start_time": "2025-08-09T20:29:21.124Z"
   },
   {
    "duration": 29,
    "start_time": "2025-08-09T20:29:21.143Z"
   },
   {
    "duration": 22,
    "start_time": "2025-08-09T20:29:21.174Z"
   },
   {
    "duration": 10,
    "start_time": "2025-08-09T20:29:21.197Z"
   },
   {
    "duration": 35,
    "start_time": "2025-08-09T20:29:21.208Z"
   },
   {
    "duration": 16,
    "start_time": "2025-08-09T20:29:21.244Z"
   },
   {
    "duration": 34,
    "start_time": "2025-08-09T20:29:21.262Z"
   },
   {
    "duration": 3,
    "start_time": "2025-08-09T20:29:21.298Z"
   },
   {
    "duration": 25,
    "start_time": "2025-08-09T20:29:21.303Z"
   },
   {
    "duration": 11,
    "start_time": "2025-08-09T20:29:21.333Z"
   },
   {
    "duration": 16,
    "start_time": "2025-08-09T20:29:21.346Z"
   },
   {
    "duration": 7,
    "start_time": "2025-08-09T20:29:21.364Z"
   },
   {
    "duration": 15,
    "start_time": "2025-08-09T20:29:21.373Z"
   },
   {
    "duration": 60,
    "start_time": "2025-08-09T20:29:21.389Z"
   },
   {
    "duration": 32,
    "start_time": "2025-08-09T20:29:21.450Z"
   },
   {
    "duration": 10,
    "start_time": "2025-08-09T20:29:21.483Z"
   },
   {
    "duration": 15,
    "start_time": "2025-08-09T20:29:21.495Z"
   },
   {
    "duration": 20,
    "start_time": "2025-08-09T20:29:21.512Z"
   },
   {
    "duration": 11,
    "start_time": "2025-08-09T20:29:21.533Z"
   },
   {
    "duration": 72,
    "start_time": "2025-08-09T20:29:21.546Z"
   },
   {
    "duration": 6,
    "start_time": "2025-08-09T20:29:21.619Z"
   },
   {
    "duration": 22,
    "start_time": "2025-08-09T20:29:21.626Z"
   },
   {
    "duration": 19,
    "start_time": "2025-08-09T20:29:21.649Z"
   },
   {
    "duration": 194,
    "start_time": "2025-08-09T20:29:21.669Z"
   },
   {
    "duration": 5,
    "start_time": "2025-08-09T20:29:21.864Z"
   },
   {
    "duration": 117,
    "start_time": "2025-08-09T20:29:21.871Z"
   },
   {
    "duration": 5,
    "start_time": "2025-08-09T20:29:21.989Z"
   },
   {
    "duration": 83,
    "start_time": "2025-08-09T20:29:21.995Z"
   },
   {
    "duration": 4,
    "start_time": "2025-08-09T20:29:22.080Z"
   },
   {
    "duration": 118,
    "start_time": "2025-08-09T20:29:22.086Z"
   },
   {
    "duration": 7,
    "start_time": "2025-08-09T20:29:22.206Z"
   },
   {
    "duration": 76,
    "start_time": "2025-08-09T20:29:22.215Z"
   },
   {
    "duration": 9,
    "start_time": "2025-08-09T20:29:22.293Z"
   },
   {
    "duration": 45,
    "start_time": "2025-08-09T20:29:22.304Z"
   },
   {
    "duration": 4,
    "start_time": "2025-08-09T20:29:22.351Z"
   },
   {
    "duration": 44,
    "start_time": "2025-08-09T20:29:22.357Z"
   },
   {
    "duration": 5,
    "start_time": "2025-08-09T20:29:22.402Z"
   },
   {
    "duration": 79,
    "start_time": "2025-08-09T20:29:22.408Z"
   },
   {
    "duration": 5,
    "start_time": "2025-08-09T20:29:22.489Z"
   },
   {
    "duration": 113,
    "start_time": "2025-08-09T20:29:22.495Z"
   },
   {
    "duration": 6,
    "start_time": "2025-08-09T20:29:22.609Z"
   },
   {
    "duration": 59,
    "start_time": "2025-08-09T20:29:22.616Z"
   },
   {
    "duration": 13,
    "start_time": "2025-08-09T20:29:22.676Z"
   },
   {
    "duration": 49,
    "start_time": "2025-08-09T20:29:22.690Z"
   },
   {
    "duration": 5,
    "start_time": "2025-08-09T20:29:22.740Z"
   },
   {
    "duration": 59,
    "start_time": "2025-08-09T20:29:22.747Z"
   },
   {
    "duration": 3,
    "start_time": "2025-08-09T20:29:22.808Z"
   },
   {
    "duration": 34,
    "start_time": "2025-08-09T20:29:22.813Z"
   },
   {
    "duration": 183,
    "start_time": "2025-08-09T20:29:22.849Z"
   },
   {
    "duration": 9,
    "start_time": "2025-08-09T20:29:23.061Z"
   },
   {
    "duration": 20,
    "start_time": "2025-08-09T20:29:23.072Z"
   },
   {
    "duration": 3,
    "start_time": "2025-08-09T20:29:23.093Z"
   },
   {
    "duration": 20,
    "start_time": "2025-08-09T20:29:23.098Z"
   },
   {
    "duration": 277,
    "start_time": "2025-08-09T20:29:23.120Z"
   },
   {
    "duration": 25,
    "start_time": "2025-08-09T20:29:23.399Z"
   },
   {
    "duration": 89,
    "start_time": "2025-08-09T20:29:23.426Z"
   },
   {
    "duration": 11,
    "start_time": "2025-08-09T20:29:23.517Z"
   },
   {
    "duration": 10,
    "start_time": "2025-08-09T20:29:23.529Z"
   },
   {
    "duration": 7,
    "start_time": "2025-08-09T20:29:23.540Z"
   },
   {
    "duration": 44,
    "start_time": "2025-08-09T20:29:23.549Z"
   },
   {
    "duration": 4,
    "start_time": "2025-08-09T20:29:23.595Z"
   },
   {
    "duration": 29,
    "start_time": "2025-08-09T20:29:23.600Z"
   },
   {
    "duration": 5,
    "start_time": "2025-08-09T20:29:23.631Z"
   },
   {
    "duration": 63,
    "start_time": "2025-08-09T20:29:23.664Z"
   },
   {
    "duration": 5,
    "start_time": "2025-08-09T20:29:23.728Z"
   },
   {
    "duration": 51,
    "start_time": "2025-08-09T20:29:23.734Z"
   },
   {
    "duration": 5,
    "start_time": "2025-08-09T20:29:23.787Z"
   },
   {
    "duration": 44,
    "start_time": "2025-08-09T20:29:23.793Z"
   },
   {
    "duration": 74,
    "start_time": "2025-08-09T20:29:23.839Z"
   },
   {
    "duration": 35,
    "start_time": "2025-08-09T20:29:23.915Z"
   },
   {
    "duration": 5,
    "start_time": "2025-08-09T20:29:23.952Z"
   },
   {
    "duration": 60,
    "start_time": "2025-08-09T20:29:23.959Z"
   },
   {
    "duration": 4,
    "start_time": "2025-08-09T20:29:24.021Z"
   },
   {
    "duration": 29,
    "start_time": "2025-08-09T20:29:24.027Z"
   },
   {
    "duration": 5,
    "start_time": "2025-08-09T20:29:24.057Z"
   },
   {
    "duration": 44,
    "start_time": "2025-08-09T20:29:24.064Z"
   },
   {
    "duration": 56,
    "start_time": "2025-08-09T20:29:24.109Z"
   },
   {
    "duration": 29,
    "start_time": "2025-08-09T20:29:24.166Z"
   },
   {
    "duration": 6,
    "start_time": "2025-08-09T20:29:24.197Z"
   },
   {
    "duration": 110,
    "start_time": "2025-08-09T20:29:24.205Z"
   },
   {
    "duration": 4,
    "start_time": "2025-08-09T20:29:24.317Z"
   },
   {
    "duration": 40,
    "start_time": "2025-08-09T20:29:24.323Z"
   },
   {
    "duration": 11,
    "start_time": "2025-08-09T20:29:24.365Z"
   },
   {
    "duration": 5,
    "start_time": "2025-08-09T20:29:24.378Z"
   },
   {
    "duration": 83,
    "start_time": "2025-08-09T20:29:24.385Z"
   },
   {
    "duration": 45,
    "start_time": "2025-08-09T20:29:24.470Z"
   },
   {
    "duration": 79,
    "start_time": "2025-08-09T20:29:24.517Z"
   },
   {
    "duration": 37,
    "start_time": "2025-08-09T20:29:24.598Z"
   },
   {
    "duration": 235,
    "start_time": "2025-08-09T20:29:24.637Z"
   },
   {
    "duration": 10,
    "start_time": "2025-08-09T20:29:24.874Z"
   },
   {
    "duration": 35,
    "start_time": "2025-08-09T20:29:24.885Z"
   },
   {
    "duration": 1455,
    "start_time": "2025-08-09T20:29:24.921Z"
   },
   {
    "duration": 1385,
    "start_time": "2025-08-09T20:29:26.378Z"
   },
   {
    "duration": 3,
    "start_time": "2025-08-09T20:29:27.764Z"
   },
   {
    "duration": 7,
    "start_time": "2025-08-09T20:29:27.768Z"
   },
   {
    "duration": 11,
    "start_time": "2025-08-09T20:29:27.776Z"
   },
   {
    "duration": 10,
    "start_time": "2025-08-09T20:29:27.789Z"
   },
   {
    "duration": 7,
    "start_time": "2025-08-09T20:29:27.800Z"
   },
   {
    "duration": 82,
    "start_time": "2025-08-09T20:29:27.809Z"
   },
   {
    "duration": 19,
    "start_time": "2025-08-09T20:29:27.892Z"
   },
   {
    "duration": 9,
    "start_time": "2025-08-09T20:29:27.913Z"
   },
   {
    "duration": 23,
    "start_time": "2025-08-09T20:29:27.925Z"
   },
   {
    "duration": 3,
    "start_time": "2025-08-09T20:29:27.951Z"
   },
   {
    "duration": 25,
    "start_time": "2025-08-09T20:29:27.959Z"
   },
   {
    "duration": 108,
    "start_time": "2025-08-09T20:29:27.986Z"
   },
   {
    "duration": 10,
    "start_time": "2025-08-09T20:29:28.096Z"
   },
   {
    "duration": 58,
    "start_time": "2025-08-09T20:29:28.107Z"
   },
   {
    "duration": 3,
    "start_time": "2025-08-09T20:29:28.166Z"
   },
   {
    "duration": 27,
    "start_time": "2025-08-09T20:29:28.171Z"
   },
   {
    "duration": 4,
    "start_time": "2025-08-09T20:29:28.200Z"
   },
   {
    "duration": 4,
    "start_time": "2025-08-09T20:29:28.207Z"
   },
   {
    "duration": 78,
    "start_time": "2025-08-09T20:29:28.213Z"
   },
   {
    "duration": 10,
    "start_time": "2025-08-09T20:29:28.293Z"
   },
   {
    "duration": 4,
    "start_time": "2025-08-09T20:29:28.304Z"
   },
   {
    "duration": 17,
    "start_time": "2025-08-09T20:29:28.309Z"
   },
   {
    "duration": 7,
    "start_time": "2025-08-09T20:29:28.328Z"
   },
   {
    "duration": 5,
    "start_time": "2025-08-09T20:29:28.336Z"
   },
   {
    "duration": 6,
    "start_time": "2025-08-09T20:29:28.343Z"
   },
   {
    "duration": 5,
    "start_time": "2025-08-09T20:29:28.350Z"
   },
   {
    "duration": 5,
    "start_time": "2025-08-09T20:29:28.357Z"
   },
   {
    "duration": 4,
    "start_time": "2025-08-09T20:29:28.364Z"
   },
   {
    "duration": 6,
    "start_time": "2025-08-09T20:29:28.370Z"
   },
   {
    "duration": 5,
    "start_time": "2025-08-09T20:29:28.377Z"
   },
   {
    "duration": 7,
    "start_time": "2025-08-09T20:29:28.384Z"
   },
   {
    "duration": 29,
    "start_time": "2025-08-09T20:29:28.393Z"
   },
   {
    "duration": 3,
    "start_time": "2025-08-09T20:29:28.423Z"
   },
   {
    "duration": 40,
    "start_time": "2025-08-09T20:29:28.428Z"
   },
   {
    "duration": 28593,
    "start_time": "2025-08-09T20:29:28.470Z"
   },
   {
    "duration": 181964,
    "start_time": "2025-08-09T20:29:57.065Z"
   },
   {
    "duration": 21656,
    "start_time": "2025-08-09T20:32:59.031Z"
   },
   {
    "duration": 16936,
    "start_time": "2025-08-09T20:33:20.689Z"
   },
   {
    "duration": 85493,
    "start_time": "2025-08-09T20:33:37.627Z"
   },
   {
    "duration": 212892,
    "start_time": "2025-08-09T20:35:03.122Z"
   },
   {
    "duration": 123225,
    "start_time": "2025-08-09T20:38:36.016Z"
   },
   {
    "duration": 719,
    "start_time": "2025-08-09T20:40:39.243Z"
   },
   {
    "duration": 0,
    "start_time": "2025-08-09T20:40:39.964Z"
   },
   {
    "duration": 0,
    "start_time": "2025-08-09T20:40:39.965Z"
   },
   {
    "duration": 0,
    "start_time": "2025-08-09T20:40:39.966Z"
   },
   {
    "duration": 0,
    "start_time": "2025-08-09T20:40:39.967Z"
   },
   {
    "duration": 0,
    "start_time": "2025-08-09T20:40:39.968Z"
   },
   {
    "duration": 0,
    "start_time": "2025-08-09T20:40:39.969Z"
   },
   {
    "duration": 0,
    "start_time": "2025-08-09T20:40:39.970Z"
   },
   {
    "duration": 0,
    "start_time": "2025-08-09T20:40:39.971Z"
   },
   {
    "duration": 0,
    "start_time": "2025-08-09T20:40:39.972Z"
   },
   {
    "duration": 0,
    "start_time": "2025-08-09T20:40:39.973Z"
   },
   {
    "duration": 0,
    "start_time": "2025-08-09T20:40:39.974Z"
   },
   {
    "duration": 0,
    "start_time": "2025-08-09T20:40:39.975Z"
   },
   {
    "duration": 0,
    "start_time": "2025-08-09T20:40:39.977Z"
   },
   {
    "duration": 0,
    "start_time": "2025-08-09T20:40:39.977Z"
   },
   {
    "duration": 0,
    "start_time": "2025-08-09T20:40:39.978Z"
   },
   {
    "duration": 0,
    "start_time": "2025-08-09T20:40:39.979Z"
   },
   {
    "duration": 0,
    "start_time": "2025-08-09T20:40:39.981Z"
   },
   {
    "duration": 0,
    "start_time": "2025-08-09T20:40:39.982Z"
   },
   {
    "duration": 0,
    "start_time": "2025-08-09T20:40:39.983Z"
   },
   {
    "duration": 5,
    "start_time": "2025-08-09T20:43:39.190Z"
   },
   {
    "duration": 235046,
    "start_time": "2025-08-09T20:43:46.829Z"
   },
   {
    "duration": 32372,
    "start_time": "2025-08-09T20:47:41.877Z"
   },
   {
    "duration": 22470,
    "start_time": "2025-08-09T20:48:14.251Z"
   },
   {
    "duration": 7,
    "start_time": "2025-08-09T20:48:36.724Z"
   },
   {
    "duration": 6,
    "start_time": "2025-08-09T20:48:36.733Z"
   },
   {
    "duration": 22,
    "start_time": "2025-08-09T20:48:36.740Z"
   },
   {
    "duration": 69,
    "start_time": "2025-08-09T20:48:36.764Z"
   },
   {
    "duration": 0,
    "start_time": "2025-08-09T20:48:36.836Z"
   },
   {
    "duration": 0,
    "start_time": "2025-08-09T20:48:36.837Z"
   },
   {
    "duration": 0,
    "start_time": "2025-08-09T20:48:36.839Z"
   },
   {
    "duration": 0,
    "start_time": "2025-08-09T20:48:36.841Z"
   },
   {
    "duration": 0,
    "start_time": "2025-08-09T20:48:36.842Z"
   },
   {
    "duration": 0,
    "start_time": "2025-08-09T20:48:36.844Z"
   },
   {
    "duration": 0,
    "start_time": "2025-08-09T20:48:36.863Z"
   },
   {
    "duration": 0,
    "start_time": "2025-08-09T20:48:36.865Z"
   },
   {
    "duration": 0,
    "start_time": "2025-08-09T20:48:36.866Z"
   },
   {
    "duration": 0,
    "start_time": "2025-08-09T20:48:36.867Z"
   },
   {
    "duration": 0,
    "start_time": "2025-08-09T20:48:36.869Z"
   },
   {
    "duration": 0,
    "start_time": "2025-08-09T20:48:36.870Z"
   },
   {
    "duration": 0,
    "start_time": "2025-08-09T20:48:36.872Z"
   },
   {
    "duration": 4,
    "start_time": "2025-08-09T20:50:50.462Z"
   },
   {
    "duration": 29590,
    "start_time": "2025-08-09T20:50:55.872Z"
   },
   {
    "duration": 5,
    "start_time": "2025-08-09T20:51:41.740Z"
   },
   {
    "duration": 33618,
    "start_time": "2025-08-09T20:51:47.048Z"
   },
   {
    "duration": 6,
    "start_time": "2025-08-09T20:54:17.731Z"
   },
   {
    "duration": 56,
    "start_time": "2025-08-09T20:54:21.258Z"
   },
   {
    "duration": 5,
    "start_time": "2025-08-09T20:54:59.485Z"
   },
   {
    "duration": 5,
    "start_time": "2025-08-09T20:56:22.817Z"
   },
   {
    "duration": 45,
    "start_time": "2025-08-09T20:56:26.964Z"
   },
   {
    "duration": 5,
    "start_time": "2025-08-09T20:57:39.972Z"
   },
   {
    "duration": 18728,
    "start_time": "2025-08-09T21:11:21.267Z"
   },
   {
    "duration": 3435,
    "start_time": "2025-08-09T21:11:39.998Z"
   },
   {
    "duration": 11,
    "start_time": "2025-08-09T21:11:43.435Z"
   },
   {
    "duration": 16,
    "start_time": "2025-08-09T21:11:43.448Z"
   },
   {
    "duration": 10,
    "start_time": "2025-08-09T21:11:43.466Z"
   },
   {
    "duration": 10,
    "start_time": "2025-08-09T21:11:43.478Z"
   },
   {
    "duration": 42,
    "start_time": "2025-08-09T21:11:43.490Z"
   },
   {
    "duration": 10,
    "start_time": "2025-08-09T21:11:43.534Z"
   },
   {
    "duration": 80,
    "start_time": "2025-08-09T21:11:43.545Z"
   },
   {
    "duration": 14,
    "start_time": "2025-08-09T21:11:43.628Z"
   },
   {
    "duration": 12,
    "start_time": "2025-08-09T21:11:43.644Z"
   },
   {
    "duration": 7,
    "start_time": "2025-08-09T21:11:43.658Z"
   },
   {
    "duration": 9,
    "start_time": "2025-08-09T21:11:43.666Z"
   },
   {
    "duration": 8,
    "start_time": "2025-08-09T21:11:43.677Z"
   },
   {
    "duration": 10,
    "start_time": "2025-08-09T21:11:43.686Z"
   },
   {
    "duration": 174,
    "start_time": "2025-08-09T21:11:43.697Z"
   },
   {
    "duration": 90,
    "start_time": "2025-08-09T21:11:43.872Z"
   },
   {
    "duration": 28,
    "start_time": "2025-08-09T21:11:43.963Z"
   },
   {
    "duration": 17,
    "start_time": "2025-08-09T21:11:43.993Z"
   },
   {
    "duration": 105,
    "start_time": "2025-08-09T21:11:44.012Z"
   },
   {
    "duration": 14,
    "start_time": "2025-08-09T21:11:44.118Z"
   },
   {
    "duration": 2,
    "start_time": "2025-08-09T21:11:44.134Z"
   },
   {
    "duration": 17,
    "start_time": "2025-08-09T21:11:44.137Z"
   },
   {
    "duration": 14,
    "start_time": "2025-08-09T21:11:44.155Z"
   },
   {
    "duration": 41,
    "start_time": "2025-08-09T21:11:44.171Z"
   },
   {
    "duration": 4,
    "start_time": "2025-08-09T21:11:44.213Z"
   },
   {
    "duration": 18,
    "start_time": "2025-08-09T21:11:44.219Z"
   },
   {
    "duration": 26,
    "start_time": "2025-08-09T21:11:44.243Z"
   },
   {
    "duration": 3,
    "start_time": "2025-08-09T21:11:44.270Z"
   },
   {
    "duration": 74,
    "start_time": "2025-08-09T21:11:44.275Z"
   },
   {
    "duration": 77,
    "start_time": "2025-08-09T21:11:44.350Z"
   },
   {
    "duration": 8,
    "start_time": "2025-08-09T21:11:44.429Z"
   },
   {
    "duration": 37,
    "start_time": "2025-08-09T21:11:44.438Z"
   },
   {
    "duration": 9,
    "start_time": "2025-08-09T21:11:44.477Z"
   },
   {
    "duration": 2,
    "start_time": "2025-08-09T21:11:44.487Z"
   },
   {
    "duration": 4,
    "start_time": "2025-08-09T21:11:44.491Z"
   },
   {
    "duration": 4,
    "start_time": "2025-08-09T21:11:44.496Z"
   },
   {
    "duration": 91,
    "start_time": "2025-08-09T21:11:44.501Z"
   },
   {
    "duration": 4,
    "start_time": "2025-08-09T21:11:44.594Z"
   },
   {
    "duration": 19,
    "start_time": "2025-08-09T21:11:44.600Z"
   },
   {
    "duration": 8,
    "start_time": "2025-08-09T21:11:44.621Z"
   },
   {
    "duration": 207,
    "start_time": "2025-08-09T21:11:44.631Z"
   },
   {
    "duration": 5,
    "start_time": "2025-08-09T21:11:44.839Z"
   },
   {
    "duration": 117,
    "start_time": "2025-08-09T21:11:44.845Z"
   },
   {
    "duration": 5,
    "start_time": "2025-08-09T21:11:44.964Z"
   },
   {
    "duration": 45,
    "start_time": "2025-08-09T21:11:44.971Z"
   },
   {
    "duration": 5,
    "start_time": "2025-08-09T21:11:45.018Z"
   },
   {
    "duration": 97,
    "start_time": "2025-08-09T21:11:45.024Z"
   },
   {
    "duration": 13,
    "start_time": "2025-08-09T21:11:45.123Z"
   },
   {
    "duration": 40,
    "start_time": "2025-08-09T21:11:45.138Z"
   },
   {
    "duration": 13,
    "start_time": "2025-08-09T21:11:45.180Z"
   },
   {
    "duration": 68,
    "start_time": "2025-08-09T21:11:45.195Z"
   },
   {
    "duration": 11,
    "start_time": "2025-08-09T21:11:45.264Z"
   },
   {
    "duration": 79,
    "start_time": "2025-08-09T21:11:45.276Z"
   },
   {
    "duration": 5,
    "start_time": "2025-08-09T21:11:45.357Z"
   },
   {
    "duration": 64,
    "start_time": "2025-08-09T21:11:45.363Z"
   },
   {
    "duration": 5,
    "start_time": "2025-08-09T21:11:45.429Z"
   },
   {
    "duration": 50,
    "start_time": "2025-08-09T21:11:45.436Z"
   },
   {
    "duration": 5,
    "start_time": "2025-08-09T21:11:45.487Z"
   },
   {
    "duration": 68,
    "start_time": "2025-08-09T21:11:45.494Z"
   },
   {
    "duration": 13,
    "start_time": "2025-08-09T21:11:45.564Z"
   },
   {
    "duration": 106,
    "start_time": "2025-08-09T21:11:45.579Z"
   },
   {
    "duration": 5,
    "start_time": "2025-08-09T21:11:45.686Z"
   },
   {
    "duration": 72,
    "start_time": "2025-08-09T21:11:45.693Z"
   },
   {
    "duration": 5,
    "start_time": "2025-08-09T21:11:45.766Z"
   },
   {
    "duration": 31,
    "start_time": "2025-08-09T21:11:45.772Z"
   },
   {
    "duration": 199,
    "start_time": "2025-08-09T21:11:45.804Z"
   },
   {
    "duration": 6,
    "start_time": "2025-08-09T21:11:46.005Z"
   },
   {
    "duration": 107,
    "start_time": "2025-08-09T21:11:46.013Z"
   },
   {
    "duration": 4,
    "start_time": "2025-08-09T21:11:46.122Z"
   },
   {
    "duration": 25,
    "start_time": "2025-08-09T21:11:46.127Z"
   },
   {
    "duration": 247,
    "start_time": "2025-08-09T21:11:46.154Z"
   },
   {
    "duration": 26,
    "start_time": "2025-08-09T21:11:46.403Z"
   },
   {
    "duration": 7,
    "start_time": "2025-08-09T21:11:46.463Z"
   },
   {
    "duration": 16,
    "start_time": "2025-08-09T21:11:46.472Z"
   },
   {
    "duration": 31,
    "start_time": "2025-08-09T21:11:46.490Z"
   },
   {
    "duration": 23,
    "start_time": "2025-08-09T21:11:46.524Z"
   },
   {
    "duration": 52,
    "start_time": "2025-08-09T21:11:46.549Z"
   },
   {
    "duration": 6,
    "start_time": "2025-08-09T21:11:46.603Z"
   },
   {
    "duration": 110,
    "start_time": "2025-08-09T21:11:46.610Z"
   },
   {
    "duration": 5,
    "start_time": "2025-08-09T21:11:46.722Z"
   },
   {
    "duration": 65,
    "start_time": "2025-08-09T21:11:46.739Z"
   },
   {
    "duration": 4,
    "start_time": "2025-08-09T21:11:46.806Z"
   },
   {
    "duration": 47,
    "start_time": "2025-08-09T21:11:46.812Z"
   },
   {
    "duration": 5,
    "start_time": "2025-08-09T21:11:46.861Z"
   },
   {
    "duration": 63,
    "start_time": "2025-08-09T21:11:46.867Z"
   },
   {
    "duration": 6,
    "start_time": "2025-08-09T21:11:46.932Z"
   },
   {
    "duration": 41,
    "start_time": "2025-08-09T21:11:46.939Z"
   },
   {
    "duration": 18,
    "start_time": "2025-08-09T21:11:46.982Z"
   },
   {
    "duration": 54,
    "start_time": "2025-08-09T21:11:47.002Z"
   },
   {
    "duration": 5,
    "start_time": "2025-08-09T21:11:47.057Z"
   },
   {
    "duration": 34,
    "start_time": "2025-08-09T21:11:47.063Z"
   },
   {
    "duration": 4,
    "start_time": "2025-08-09T21:11:47.099Z"
   },
   {
    "duration": 64,
    "start_time": "2025-08-09T21:11:47.105Z"
   },
   {
    "duration": 4,
    "start_time": "2025-08-09T21:11:47.170Z"
   },
   {
    "duration": 32,
    "start_time": "2025-08-09T21:11:47.176Z"
   },
   {
    "duration": 4,
    "start_time": "2025-08-09T21:11:47.210Z"
   },
   {
    "duration": 68,
    "start_time": "2025-08-09T21:11:47.216Z"
   },
   {
    "duration": 4,
    "start_time": "2025-08-09T21:11:47.286Z"
   },
   {
    "duration": 47,
    "start_time": "2025-08-09T21:11:47.291Z"
   },
   {
    "duration": 9,
    "start_time": "2025-08-09T21:11:47.340Z"
   },
   {
    "duration": 4,
    "start_time": "2025-08-09T21:11:47.363Z"
   },
   {
    "duration": 50,
    "start_time": "2025-08-09T21:11:47.369Z"
   },
   {
    "duration": 68,
    "start_time": "2025-08-09T21:11:47.421Z"
   },
   {
    "duration": 75,
    "start_time": "2025-08-09T21:11:47.490Z"
   },
   {
    "duration": 36,
    "start_time": "2025-08-09T21:11:47.566Z"
   },
   {
    "duration": 215,
    "start_time": "2025-08-09T21:11:47.604Z"
   },
   {
    "duration": 7,
    "start_time": "2025-08-09T21:11:47.820Z"
   },
   {
    "duration": 38,
    "start_time": "2025-08-09T21:11:47.828Z"
   },
   {
    "duration": 1498,
    "start_time": "2025-08-09T21:11:47.868Z"
   },
   {
    "duration": 1463,
    "start_time": "2025-08-09T21:11:49.368Z"
   },
   {
    "duration": 3,
    "start_time": "2025-08-09T21:11:50.832Z"
   },
   {
    "duration": 10,
    "start_time": "2025-08-09T21:11:50.836Z"
   },
   {
    "duration": 4,
    "start_time": "2025-08-09T21:11:50.848Z"
   },
   {
    "duration": 2,
    "start_time": "2025-08-09T21:11:50.862Z"
   },
   {
    "duration": 12,
    "start_time": "2025-08-09T21:11:50.865Z"
   },
   {
    "duration": 25,
    "start_time": "2025-08-09T21:11:50.878Z"
   },
   {
    "duration": 14,
    "start_time": "2025-08-09T21:11:50.905Z"
   },
   {
    "duration": 18,
    "start_time": "2025-08-09T21:11:50.921Z"
   },
   {
    "duration": 26,
    "start_time": "2025-08-09T21:11:50.940Z"
   },
   {
    "duration": 15,
    "start_time": "2025-08-09T21:11:50.968Z"
   },
   {
    "duration": 24,
    "start_time": "2025-08-09T21:11:50.985Z"
   },
   {
    "duration": 114,
    "start_time": "2025-08-09T21:11:51.011Z"
   },
   {
    "duration": 11,
    "start_time": "2025-08-09T21:11:51.127Z"
   },
   {
    "duration": 58,
    "start_time": "2025-08-09T21:11:51.139Z"
   },
   {
    "duration": 3,
    "start_time": "2025-08-09T21:11:51.198Z"
   },
   {
    "duration": 40,
    "start_time": "2025-08-09T21:11:51.203Z"
   },
   {
    "duration": 10,
    "start_time": "2025-08-09T21:11:51.245Z"
   },
   {
    "duration": 19,
    "start_time": "2025-08-09T21:11:51.256Z"
   },
   {
    "duration": 11,
    "start_time": "2025-08-09T21:11:51.276Z"
   },
   {
    "duration": 5,
    "start_time": "2025-08-09T21:11:51.289Z"
   },
   {
    "duration": 9,
    "start_time": "2025-08-09T21:11:51.295Z"
   },
   {
    "duration": 29,
    "start_time": "2025-08-09T21:11:51.306Z"
   },
   {
    "duration": 18,
    "start_time": "2025-08-09T21:11:51.337Z"
   },
   {
    "duration": 7,
    "start_time": "2025-08-09T21:11:51.357Z"
   },
   {
    "duration": 17,
    "start_time": "2025-08-09T21:11:51.366Z"
   },
   {
    "duration": 18,
    "start_time": "2025-08-09T21:11:51.385Z"
   },
   {
    "duration": 38,
    "start_time": "2025-08-09T21:11:51.404Z"
   },
   {
    "duration": 19,
    "start_time": "2025-08-09T21:11:51.444Z"
   },
   {
    "duration": 7,
    "start_time": "2025-08-09T21:11:51.465Z"
   },
   {
    "duration": 6,
    "start_time": "2025-08-09T21:11:51.473Z"
   },
   {
    "duration": 23,
    "start_time": "2025-08-09T21:11:51.480Z"
   },
   {
    "duration": 43,
    "start_time": "2025-08-09T21:11:51.505Z"
   },
   {
    "duration": 3,
    "start_time": "2025-08-09T21:11:51.550Z"
   },
   {
    "duration": 73,
    "start_time": "2025-08-09T21:11:51.555Z"
   },
   {
    "duration": 32238,
    "start_time": "2025-08-09T21:11:51.629Z"
   },
   {
    "duration": 172038,
    "start_time": "2025-08-09T21:12:23.869Z"
   },
   {
    "duration": 21800,
    "start_time": "2025-08-09T21:15:15.908Z"
   },
   {
    "duration": 16634,
    "start_time": "2025-08-09T21:15:37.710Z"
   },
   {
    "duration": 87337,
    "start_time": "2025-08-09T21:15:54.346Z"
   },
   {
    "duration": 216557,
    "start_time": "2025-08-09T21:17:21.684Z"
   },
   {
    "duration": 124699,
    "start_time": "2025-08-09T21:20:58.243Z"
   },
   {
    "duration": 238738,
    "start_time": "2025-08-09T21:23:02.943Z"
   },
   {
    "duration": 32691,
    "start_time": "2025-08-09T21:27:01.683Z"
   },
   {
    "duration": 22228,
    "start_time": "2025-08-09T21:27:34.375Z"
   },
   {
    "duration": 8,
    "start_time": "2025-08-09T21:27:56.606Z"
   },
   {
    "duration": 10,
    "start_time": "2025-08-09T21:27:56.616Z"
   },
   {
    "duration": 6,
    "start_time": "2025-08-09T21:27:56.628Z"
   },
   {
    "duration": 958241,
    "start_time": "2025-08-09T21:27:56.635Z"
   },
   {
    "duration": 8,
    "start_time": "2025-08-09T21:43:54.878Z"
   },
   {
    "duration": 10,
    "start_time": "2025-08-09T21:43:54.888Z"
   },
   {
    "duration": 6,
    "start_time": "2025-08-09T21:43:54.900Z"
   },
   {
    "duration": 372,
    "start_time": "2025-08-09T21:43:54.907Z"
   },
   {
    "duration": 0,
    "start_time": "2025-08-09T21:43:55.282Z"
   },
   {
    "duration": 0,
    "start_time": "2025-08-09T21:43:55.283Z"
   },
   {
    "duration": 0,
    "start_time": "2025-08-09T21:43:55.285Z"
   },
   {
    "duration": 0,
    "start_time": "2025-08-09T21:43:55.286Z"
   },
   {
    "duration": 0,
    "start_time": "2025-08-09T21:43:55.288Z"
   },
   {
    "duration": 0,
    "start_time": "2025-08-09T21:43:55.289Z"
   },
   {
    "duration": 0,
    "start_time": "2025-08-09T21:43:55.290Z"
   },
   {
    "duration": 0,
    "start_time": "2025-08-09T21:43:55.292Z"
   },
   {
    "duration": 0,
    "start_time": "2025-08-09T21:43:55.293Z"
   },
   {
    "duration": 6,
    "start_time": "2025-08-09T21:51:25.818Z"
   },
   {
    "duration": 1010020,
    "start_time": "2025-08-09T21:51:30.166Z"
   },
   {
    "duration": 6,
    "start_time": "2025-08-09T22:09:38.617Z"
   },
   {
    "duration": 31681,
    "start_time": "2025-08-09T22:09:51.362Z"
   },
   {
    "duration": 0,
    "start_time": "2025-08-09T22:10:23.044Z"
   },
   {
    "duration": 6,
    "start_time": "2025-08-09T22:11:09.781Z"
   },
   {
    "duration": 35868,
    "start_time": "2025-08-09T22:11:20.887Z"
   },
   {
    "duration": 19580,
    "start_time": "2025-08-09T22:11:56.762Z"
   },
   {
    "duration": 4,
    "start_time": "2025-08-09T22:14:03.401Z"
   },
   {
    "duration": 9,
    "start_time": "2025-08-09T22:14:14.197Z"
   },
   {
    "duration": 25051,
    "start_time": "2025-08-09T22:14:21.647Z"
   },
   {
    "duration": 5,
    "start_time": "2025-08-09T22:16:11.628Z"
   },
   {
    "duration": 131250,
    "start_time": "2025-08-09T22:16:20.632Z"
   },
   {
    "duration": 243364,
    "start_time": "2025-08-09T22:18:31.884Z"
   },
   {
    "duration": 5,
    "start_time": "2025-08-09T22:26:05.346Z"
   },
   {
    "duration": 37170,
    "start_time": "2025-08-09T22:26:17.093Z"
   },
   {
    "duration": 5,
    "start_time": "2025-08-09T22:27:07.602Z"
   },
   {
    "duration": 32888,
    "start_time": "2025-08-09T22:27:13.379Z"
   },
   {
    "duration": 30,
    "start_time": "2025-08-09T22:30:04.163Z"
   },
   {
    "duration": 779,
    "start_time": "2025-08-09T22:30:10.254Z"
   },
   {
    "duration": 31,
    "start_time": "2025-08-09T22:30:24.607Z"
   },
   {
    "duration": 19,
    "start_time": "2025-08-09T22:31:41.322Z"
   },
   {
    "duration": 40,
    "start_time": "2025-08-09T22:33:31.336Z"
   },
   {
    "duration": 67,
    "start_time": "2025-08-09T22:34:31.232Z"
   },
   {
    "duration": 30,
    "start_time": "2025-08-09T22:34:43.928Z"
   },
   {
    "duration": 15,
    "start_time": "2025-08-09T22:35:09.832Z"
   },
   {
    "duration": 17,
    "start_time": "2025-08-09T22:35:49.952Z"
   },
   {
    "duration": 4,
    "start_time": "2025-08-09T22:36:00.656Z"
   },
   {
    "duration": 972,
    "start_time": "2025-08-09T22:36:27.447Z"
   },
   {
    "duration": 18530,
    "start_time": "2025-08-09T22:39:47.760Z"
   },
   {
    "duration": 3435,
    "start_time": "2025-08-09T22:40:06.293Z"
   },
   {
    "duration": 10,
    "start_time": "2025-08-09T22:40:09.730Z"
   },
   {
    "duration": 10,
    "start_time": "2025-08-09T22:40:09.742Z"
   },
   {
    "duration": 9,
    "start_time": "2025-08-09T22:40:09.762Z"
   },
   {
    "duration": 19,
    "start_time": "2025-08-09T22:40:09.773Z"
   },
   {
    "duration": 11,
    "start_time": "2025-08-09T22:40:09.793Z"
   },
   {
    "duration": 8,
    "start_time": "2025-08-09T22:40:09.806Z"
   },
   {
    "duration": 8,
    "start_time": "2025-08-09T22:40:09.816Z"
   },
   {
    "duration": 6,
    "start_time": "2025-08-09T22:40:09.827Z"
   },
   {
    "duration": 6,
    "start_time": "2025-08-09T22:40:09.835Z"
   },
   {
    "duration": 8,
    "start_time": "2025-08-09T22:40:09.862Z"
   },
   {
    "duration": 69,
    "start_time": "2025-08-09T22:40:09.871Z"
   },
   {
    "duration": 7,
    "start_time": "2025-08-09T22:40:09.942Z"
   },
   {
    "duration": 5,
    "start_time": "2025-08-09T22:40:09.951Z"
   },
   {
    "duration": 8,
    "start_time": "2025-08-09T22:40:09.958Z"
   },
   {
    "duration": 96,
    "start_time": "2025-08-09T22:40:09.968Z"
   },
   {
    "duration": 30,
    "start_time": "2025-08-09T22:40:10.066Z"
   },
   {
    "duration": 22,
    "start_time": "2025-08-09T22:40:10.098Z"
   },
   {
    "duration": 48,
    "start_time": "2025-08-09T22:40:10.122Z"
   },
   {
    "duration": 14,
    "start_time": "2025-08-09T22:40:10.172Z"
   },
   {
    "duration": 4,
    "start_time": "2025-08-09T22:40:10.187Z"
   },
   {
    "duration": 32,
    "start_time": "2025-08-09T22:40:10.193Z"
   },
   {
    "duration": 14,
    "start_time": "2025-08-09T22:40:10.226Z"
   },
   {
    "duration": 35,
    "start_time": "2025-08-09T22:40:10.263Z"
   },
   {
    "duration": 3,
    "start_time": "2025-08-09T22:40:10.300Z"
   },
   {
    "duration": 22,
    "start_time": "2025-08-09T22:40:10.305Z"
   },
   {
    "duration": 11,
    "start_time": "2025-08-09T22:40:10.332Z"
   },
   {
    "duration": 21,
    "start_time": "2025-08-09T22:40:10.344Z"
   },
   {
    "duration": 131,
    "start_time": "2025-08-09T22:40:10.367Z"
   },
   {
    "duration": 28,
    "start_time": "2025-08-09T22:40:10.500Z"
   },
   {
    "duration": 12,
    "start_time": "2025-08-09T22:40:10.530Z"
   },
   {
    "duration": 25,
    "start_time": "2025-08-09T22:40:10.544Z"
   },
   {
    "duration": 11,
    "start_time": "2025-08-09T22:40:10.571Z"
   },
   {
    "duration": 3,
    "start_time": "2025-08-09T22:40:10.583Z"
   },
   {
    "duration": 22,
    "start_time": "2025-08-09T22:40:10.587Z"
   },
   {
    "duration": 8,
    "start_time": "2025-08-09T22:40:10.611Z"
   },
   {
    "duration": 72,
    "start_time": "2025-08-09T22:40:10.621Z"
   },
   {
    "duration": 5,
    "start_time": "2025-08-09T22:40:10.695Z"
   },
   {
    "duration": 92,
    "start_time": "2025-08-09T22:40:10.701Z"
   },
   {
    "duration": 8,
    "start_time": "2025-08-09T22:40:10.795Z"
   },
   {
    "duration": 342,
    "start_time": "2025-08-09T22:40:10.805Z"
   },
   {
    "duration": 4,
    "start_time": "2025-08-09T22:40:11.149Z"
   },
   {
    "duration": 108,
    "start_time": "2025-08-09T22:40:11.155Z"
   },
   {
    "duration": 6,
    "start_time": "2025-08-09T22:40:11.264Z"
   },
   {
    "duration": 49,
    "start_time": "2025-08-09T22:40:11.271Z"
   },
   {
    "duration": 41,
    "start_time": "2025-08-09T22:40:11.322Z"
   },
   {
    "duration": 64,
    "start_time": "2025-08-09T22:40:11.364Z"
   },
   {
    "duration": 8,
    "start_time": "2025-08-09T22:40:11.430Z"
   },
   {
    "duration": 8,
    "start_time": "2025-08-09T22:40:11.463Z"
   },
   {
    "duration": 32,
    "start_time": "2025-08-09T22:40:11.473Z"
   },
   {
    "duration": 47,
    "start_time": "2025-08-09T22:40:11.506Z"
   },
   {
    "duration": 4,
    "start_time": "2025-08-09T22:40:11.555Z"
   },
   {
    "duration": 51,
    "start_time": "2025-08-09T22:40:11.561Z"
   },
   {
    "duration": 4,
    "start_time": "2025-08-09T22:40:11.614Z"
   },
   {
    "duration": 62,
    "start_time": "2025-08-09T22:40:11.620Z"
   },
   {
    "duration": 5,
    "start_time": "2025-08-09T22:40:11.684Z"
   },
   {
    "duration": 50,
    "start_time": "2025-08-09T22:40:11.690Z"
   },
   {
    "duration": 6,
    "start_time": "2025-08-09T22:40:11.761Z"
   },
   {
    "duration": 45,
    "start_time": "2025-08-09T22:40:11.768Z"
   },
   {
    "duration": 11,
    "start_time": "2025-08-09T22:40:11.814Z"
   },
   {
    "duration": 52,
    "start_time": "2025-08-09T22:40:11.827Z"
   },
   {
    "duration": 31,
    "start_time": "2025-08-09T22:40:11.881Z"
   },
   {
    "duration": 62,
    "start_time": "2025-08-09T22:40:11.913Z"
   },
   {
    "duration": 4,
    "start_time": "2025-08-09T22:40:11.976Z"
   },
   {
    "duration": 38,
    "start_time": "2025-08-09T22:40:11.982Z"
   },
   {
    "duration": 194,
    "start_time": "2025-08-09T22:40:12.022Z"
   },
   {
    "duration": 7,
    "start_time": "2025-08-09T22:40:12.218Z"
   },
   {
    "duration": 38,
    "start_time": "2025-08-09T22:40:12.226Z"
   },
   {
    "duration": 2,
    "start_time": "2025-08-09T22:40:12.266Z"
   },
   {
    "duration": 19,
    "start_time": "2025-08-09T22:40:12.269Z"
   },
   {
    "duration": 272,
    "start_time": "2025-08-09T22:40:12.290Z"
   },
   {
    "duration": 25,
    "start_time": "2025-08-09T22:40:12.564Z"
   },
   {
    "duration": 12,
    "start_time": "2025-08-09T22:40:12.591Z"
   },
   {
    "duration": 10,
    "start_time": "2025-08-09T22:40:12.604Z"
   },
   {
    "duration": 49,
    "start_time": "2025-08-09T22:40:12.616Z"
   },
   {
    "duration": 5,
    "start_time": "2025-08-09T22:40:12.667Z"
   },
   {
    "duration": 150,
    "start_time": "2025-08-09T22:40:12.673Z"
   },
   {
    "duration": 4,
    "start_time": "2025-08-09T22:40:12.825Z"
   },
   {
    "duration": 28,
    "start_time": "2025-08-09T22:40:12.831Z"
   },
   {
    "duration": 6,
    "start_time": "2025-08-09T22:40:12.860Z"
   },
   {
    "duration": 46,
    "start_time": "2025-08-09T22:40:12.874Z"
   },
   {
    "duration": 61,
    "start_time": "2025-08-09T22:40:12.922Z"
   },
   {
    "duration": 31,
    "start_time": "2025-08-09T22:40:12.985Z"
   },
   {
    "duration": 6,
    "start_time": "2025-08-09T22:40:13.018Z"
   },
   {
    "duration": 45,
    "start_time": "2025-08-09T22:40:13.026Z"
   },
   {
    "duration": 5,
    "start_time": "2025-08-09T22:40:13.073Z"
   },
   {
    "duration": 31,
    "start_time": "2025-08-09T22:40:13.079Z"
   },
   {
    "duration": 6,
    "start_time": "2025-08-09T22:40:13.112Z"
   },
   {
    "duration": 73,
    "start_time": "2025-08-09T22:40:13.120Z"
   },
   {
    "duration": 5,
    "start_time": "2025-08-09T22:40:13.195Z"
   },
   {
    "duration": 27,
    "start_time": "2025-08-09T22:40:13.202Z"
   },
   {
    "duration": 33,
    "start_time": "2025-08-09T22:40:13.230Z"
   },
   {
    "duration": 55,
    "start_time": "2025-08-09T22:40:13.265Z"
   },
   {
    "duration": 5,
    "start_time": "2025-08-09T22:40:13.321Z"
   },
   {
    "duration": 47,
    "start_time": "2025-08-09T22:40:13.328Z"
   },
   {
    "duration": 6,
    "start_time": "2025-08-09T22:40:13.377Z"
   },
   {
    "duration": 50,
    "start_time": "2025-08-09T22:40:13.384Z"
   },
   {
    "duration": 5,
    "start_time": "2025-08-09T22:40:13.436Z"
   },
   {
    "duration": 30,
    "start_time": "2025-08-09T22:40:13.463Z"
   },
   {
    "duration": 11,
    "start_time": "2025-08-09T22:40:13.495Z"
   },
   {
    "duration": 23,
    "start_time": "2025-08-09T22:40:13.507Z"
   },
   {
    "duration": 67,
    "start_time": "2025-08-09T22:40:13.532Z"
   },
   {
    "duration": 41,
    "start_time": "2025-08-09T22:40:13.601Z"
   },
   {
    "duration": 67,
    "start_time": "2025-08-09T22:40:13.643Z"
   },
   {
    "duration": 56,
    "start_time": "2025-08-09T22:40:13.712Z"
   },
   {
    "duration": 155,
    "start_time": "2025-08-09T22:40:13.770Z"
   },
   {
    "duration": 36,
    "start_time": "2025-08-09T22:40:13.927Z"
   },
   {
    "duration": 8,
    "start_time": "2025-08-09T22:40:13.964Z"
   },
   {
    "duration": 1488,
    "start_time": "2025-08-09T22:40:13.974Z"
   },
   {
    "duration": 1432,
    "start_time": "2025-08-09T22:40:15.463Z"
   },
   {
    "duration": 3,
    "start_time": "2025-08-09T22:40:16.896Z"
   },
   {
    "duration": 85,
    "start_time": "2025-08-09T22:40:16.900Z"
   },
   {
    "duration": 5,
    "start_time": "2025-08-09T22:40:16.987Z"
   },
   {
    "duration": 9,
    "start_time": "2025-08-09T22:40:16.993Z"
   },
   {
    "duration": 5,
    "start_time": "2025-08-09T22:40:17.003Z"
   },
   {
    "duration": 9,
    "start_time": "2025-08-09T22:40:17.009Z"
   },
   {
    "duration": 5,
    "start_time": "2025-08-09T22:40:17.020Z"
   },
   {
    "duration": 16,
    "start_time": "2025-08-09T22:40:17.026Z"
   },
   {
    "duration": 21,
    "start_time": "2025-08-09T22:40:17.044Z"
   },
   {
    "duration": 2,
    "start_time": "2025-08-09T22:40:17.067Z"
   },
   {
    "duration": 9,
    "start_time": "2025-08-09T22:40:17.071Z"
   },
   {
    "duration": 101,
    "start_time": "2025-08-09T22:40:17.082Z"
   },
   {
    "duration": 12,
    "start_time": "2025-08-09T22:40:17.185Z"
   },
   {
    "duration": 38,
    "start_time": "2025-08-09T22:40:17.199Z"
   },
   {
    "duration": 3,
    "start_time": "2025-08-09T22:40:17.239Z"
   },
   {
    "duration": 39,
    "start_time": "2025-08-09T22:40:17.244Z"
   },
   {
    "duration": 3,
    "start_time": "2025-08-09T22:40:17.284Z"
   },
   {
    "duration": 10,
    "start_time": "2025-08-09T22:40:17.289Z"
   },
   {
    "duration": 22,
    "start_time": "2025-08-09T22:40:17.301Z"
   },
   {
    "duration": 16,
    "start_time": "2025-08-09T22:40:17.325Z"
   },
   {
    "duration": 7,
    "start_time": "2025-08-09T22:40:17.343Z"
   },
   {
    "duration": 15,
    "start_time": "2025-08-09T22:40:17.351Z"
   },
   {
    "duration": 16,
    "start_time": "2025-08-09T22:40:17.368Z"
   },
   {
    "duration": 38,
    "start_time": "2025-08-09T22:40:17.386Z"
   },
   {
    "duration": 7,
    "start_time": "2025-08-09T22:40:17.425Z"
   },
   {
    "duration": 14,
    "start_time": "2025-08-09T22:40:17.433Z"
   },
   {
    "duration": 9,
    "start_time": "2025-08-09T22:40:17.449Z"
   },
   {
    "duration": 5,
    "start_time": "2025-08-09T22:40:17.459Z"
   },
   {
    "duration": 22,
    "start_time": "2025-08-09T22:40:17.465Z"
   },
   {
    "duration": 12,
    "start_time": "2025-08-09T22:40:17.488Z"
   },
   {
    "duration": 17,
    "start_time": "2025-08-09T22:40:17.501Z"
   },
   {
    "duration": 6,
    "start_time": "2025-08-09T22:40:17.520Z"
   },
   {
    "duration": 30,
    "start_time": "2025-08-09T22:40:17.527Z"
   },
   {
    "duration": 2,
    "start_time": "2025-08-09T22:40:17.559Z"
   },
   {
    "duration": 32805,
    "start_time": "2025-08-09T22:40:17.562Z"
   },
   {
    "duration": 152376,
    "start_time": "2025-08-09T22:40:50.370Z"
   },
   {
    "duration": 21750,
    "start_time": "2025-08-09T22:43:22.748Z"
   },
   {
    "duration": 16663,
    "start_time": "2025-08-09T22:43:44.500Z"
   },
   {
    "duration": 86107,
    "start_time": "2025-08-09T22:44:01.165Z"
   },
   {
    "duration": 214357,
    "start_time": "2025-08-09T22:45:27.273Z"
   },
   {
    "duration": 128031,
    "start_time": "2025-08-09T22:49:01.632Z"
   },
   {
    "duration": 252548,
    "start_time": "2025-08-09T22:51:09.665Z"
   },
   {
    "duration": 36259,
    "start_time": "2025-08-09T22:55:22.215Z"
   },
   {
    "duration": 19280,
    "start_time": "2025-08-09T22:55:58.476Z"
   },
   {
    "duration": 21,
    "start_time": "2025-08-09T22:56:17.758Z"
   },
   {
    "duration": 3,
    "start_time": "2025-08-09T22:56:17.781Z"
   },
   {
    "duration": 5,
    "start_time": "2025-08-09T22:56:17.785Z"
   },
   {
    "duration": 743385,
    "start_time": "2025-08-09T22:56:17.791Z"
   },
   {
    "duration": 7,
    "start_time": "2025-08-09T23:08:41.178Z"
   },
   {
    "duration": 18,
    "start_time": "2025-08-09T23:08:41.187Z"
   },
   {
    "duration": 9,
    "start_time": "2025-08-09T23:08:41.207Z"
   },
   {
    "duration": 1013971,
    "start_time": "2025-08-09T23:08:41.217Z"
   },
   {
    "duration": 29,
    "start_time": "2025-08-09T23:25:35.189Z"
   },
   {
    "duration": 367,
    "start_time": "2025-08-09T23:25:35.219Z"
   },
   {
    "duration": 25,
    "start_time": "2025-08-09T23:25:35.588Z"
   },
   {
    "duration": 74,
    "start_time": "2025-08-09T23:25:35.615Z"
   },
   {
    "duration": 24,
    "start_time": "2025-08-09T23:25:35.690Z"
   },
   {
    "duration": 25,
    "start_time": "2025-08-09T23:25:35.716Z"
   },
   {
    "duration": 28,
    "start_time": "2025-08-09T23:25:35.743Z"
   },
   {
    "duration": 26,
    "start_time": "2025-08-09T23:25:35.773Z"
   },
   {
    "duration": 973,
    "start_time": "2025-08-09T23:25:35.801Z"
   },
   {
    "duration": 44956,
    "start_time": "2025-08-11T08:49:01.642Z"
   },
   {
    "duration": 3509,
    "start_time": "2025-08-11T08:49:46.601Z"
   },
   {
    "duration": 14,
    "start_time": "2025-08-11T08:49:50.112Z"
   },
   {
    "duration": 19,
    "start_time": "2025-08-11T08:49:50.128Z"
   },
   {
    "duration": 14,
    "start_time": "2025-08-11T08:49:50.149Z"
   },
   {
    "duration": 9,
    "start_time": "2025-08-11T08:49:50.164Z"
   },
   {
    "duration": 10,
    "start_time": "2025-08-11T08:49:50.174Z"
   },
   {
    "duration": 21,
    "start_time": "2025-08-11T08:49:50.185Z"
   },
   {
    "duration": 13,
    "start_time": "2025-08-11T08:49:50.207Z"
   },
   {
    "duration": 6,
    "start_time": "2025-08-11T08:49:50.222Z"
   },
   {
    "duration": 22,
    "start_time": "2025-08-11T08:49:50.230Z"
   },
   {
    "duration": 20,
    "start_time": "2025-08-11T08:49:50.253Z"
   },
   {
    "duration": 10,
    "start_time": "2025-08-11T08:49:50.275Z"
   },
   {
    "duration": 14,
    "start_time": "2025-08-11T08:49:50.286Z"
   },
   {
    "duration": 16,
    "start_time": "2025-08-11T08:49:50.301Z"
   },
   {
    "duration": 8,
    "start_time": "2025-08-11T08:49:50.319Z"
   },
   {
    "duration": 243,
    "start_time": "2025-08-11T08:49:50.328Z"
   },
   {
    "duration": 24,
    "start_time": "2025-08-11T08:49:50.573Z"
   },
   {
    "duration": 15,
    "start_time": "2025-08-11T08:49:50.599Z"
   },
   {
    "duration": 17,
    "start_time": "2025-08-11T08:49:50.616Z"
   },
   {
    "duration": 38,
    "start_time": "2025-08-11T08:49:50.634Z"
   },
   {
    "duration": 9,
    "start_time": "2025-08-11T08:49:50.674Z"
   },
   {
    "duration": 43,
    "start_time": "2025-08-11T08:49:50.685Z"
   },
   {
    "duration": 28,
    "start_time": "2025-08-11T08:49:50.730Z"
   },
   {
    "duration": 38,
    "start_time": "2025-08-11T08:49:50.760Z"
   },
   {
    "duration": 4,
    "start_time": "2025-08-11T08:49:50.799Z"
   },
   {
    "duration": 33,
    "start_time": "2025-08-11T08:49:50.804Z"
   },
   {
    "duration": 18,
    "start_time": "2025-08-11T08:49:50.840Z"
   },
   {
    "duration": 3,
    "start_time": "2025-08-11T08:49:50.859Z"
   },
   {
    "duration": 8,
    "start_time": "2025-08-11T08:49:50.863Z"
   },
   {
    "duration": 11,
    "start_time": "2025-08-11T08:49:50.872Z"
   },
   {
    "duration": 5,
    "start_time": "2025-08-11T08:49:50.885Z"
   },
   {
    "duration": 19,
    "start_time": "2025-08-11T08:49:50.891Z"
   },
   {
    "duration": 17,
    "start_time": "2025-08-11T08:49:50.911Z"
   },
   {
    "duration": 9,
    "start_time": "2025-08-11T08:49:50.929Z"
   },
   {
    "duration": 6,
    "start_time": "2025-08-11T08:49:50.940Z"
   },
   {
    "duration": 5,
    "start_time": "2025-08-11T08:49:50.947Z"
   },
   {
    "duration": 69,
    "start_time": "2025-08-11T08:49:50.953Z"
   },
   {
    "duration": 5,
    "start_time": "2025-08-11T08:49:51.023Z"
   },
   {
    "duration": 44,
    "start_time": "2025-08-11T08:49:51.030Z"
   },
   {
    "duration": 14,
    "start_time": "2025-08-11T08:49:51.075Z"
   },
   {
    "duration": 222,
    "start_time": "2025-08-11T08:49:51.091Z"
   },
   {
    "duration": 5,
    "start_time": "2025-08-11T08:49:51.315Z"
   },
   {
    "duration": 77,
    "start_time": "2025-08-11T08:49:51.321Z"
   },
   {
    "duration": 5,
    "start_time": "2025-08-11T08:49:51.399Z"
   },
   {
    "duration": 43,
    "start_time": "2025-08-11T08:49:51.462Z"
   },
   {
    "duration": 5,
    "start_time": "2025-08-11T08:49:51.506Z"
   },
   {
    "duration": 165,
    "start_time": "2025-08-11T08:49:51.512Z"
   },
   {
    "duration": 8,
    "start_time": "2025-08-11T08:49:51.678Z"
   },
   {
    "duration": 12,
    "start_time": "2025-08-11T08:49:51.687Z"
   },
   {
    "duration": 14,
    "start_time": "2025-08-11T08:49:51.701Z"
   },
   {
    "duration": 60,
    "start_time": "2025-08-11T08:49:51.717Z"
   },
   {
    "duration": 4,
    "start_time": "2025-08-11T08:49:51.779Z"
   },
   {
    "duration": 59,
    "start_time": "2025-08-11T08:49:51.784Z"
   },
   {
    "duration": 4,
    "start_time": "2025-08-11T08:49:51.845Z"
   },
   {
    "duration": 47,
    "start_time": "2025-08-11T08:49:51.863Z"
   },
   {
    "duration": 49,
    "start_time": "2025-08-11T08:49:51.912Z"
   },
   {
    "duration": 43,
    "start_time": "2025-08-11T08:49:51.963Z"
   },
   {
    "duration": 7,
    "start_time": "2025-08-11T08:49:52.008Z"
   },
   {
    "duration": 76,
    "start_time": "2025-08-11T08:49:52.017Z"
   },
   {
    "duration": 18,
    "start_time": "2025-08-11T08:49:52.095Z"
   },
   {
    "duration": 55,
    "start_time": "2025-08-11T08:49:52.115Z"
   },
   {
    "duration": 5,
    "start_time": "2025-08-11T08:49:52.171Z"
   },
   {
    "duration": 47,
    "start_time": "2025-08-11T08:49:52.177Z"
   },
   {
    "duration": 4,
    "start_time": "2025-08-11T08:49:52.226Z"
   },
   {
    "duration": 42,
    "start_time": "2025-08-11T08:49:52.231Z"
   },
   {
    "duration": 156,
    "start_time": "2025-08-11T08:49:52.275Z"
   },
   {
    "duration": 7,
    "start_time": "2025-08-11T08:49:52.462Z"
   },
   {
    "duration": 32,
    "start_time": "2025-08-11T08:49:52.471Z"
   },
   {
    "duration": 29,
    "start_time": "2025-08-11T08:49:52.505Z"
   },
   {
    "duration": 25,
    "start_time": "2025-08-11T08:49:52.536Z"
   },
   {
    "duration": 241,
    "start_time": "2025-08-11T08:49:52.563Z"
   },
   {
    "duration": 25,
    "start_time": "2025-08-11T08:49:52.806Z"
   },
   {
    "duration": 7,
    "start_time": "2025-08-11T08:49:52.863Z"
   },
   {
    "duration": 11,
    "start_time": "2025-08-11T08:49:52.871Z"
   },
   {
    "duration": 28,
    "start_time": "2025-08-11T08:49:52.884Z"
   },
   {
    "duration": 20,
    "start_time": "2025-08-11T08:49:52.914Z"
   },
   {
    "duration": 52,
    "start_time": "2025-08-11T08:49:52.935Z"
   },
   {
    "duration": 9,
    "start_time": "2025-08-11T08:49:52.989Z"
   },
   {
    "duration": 49,
    "start_time": "2025-08-11T08:49:52.999Z"
   },
   {
    "duration": 4,
    "start_time": "2025-08-11T08:49:53.050Z"
   },
   {
    "duration": 43,
    "start_time": "2025-08-11T08:49:53.061Z"
   },
   {
    "duration": 4,
    "start_time": "2025-08-11T08:49:53.105Z"
   },
   {
    "duration": 54,
    "start_time": "2025-08-11T08:49:53.111Z"
   },
   {
    "duration": 5,
    "start_time": "2025-08-11T08:49:53.166Z"
   },
   {
    "duration": 203,
    "start_time": "2025-08-11T08:49:53.172Z"
   },
   {
    "duration": 4,
    "start_time": "2025-08-11T08:49:53.376Z"
   },
   {
    "duration": 42,
    "start_time": "2025-08-11T08:49:53.382Z"
   },
   {
    "duration": 5,
    "start_time": "2025-08-11T08:49:53.426Z"
   },
   {
    "duration": 46,
    "start_time": "2025-08-11T08:49:53.432Z"
   },
   {
    "duration": 4,
    "start_time": "2025-08-11T08:49:53.479Z"
   },
   {
    "duration": 42,
    "start_time": "2025-08-11T08:49:53.484Z"
   },
   {
    "duration": 5,
    "start_time": "2025-08-11T08:49:53.527Z"
   },
   {
    "duration": 150,
    "start_time": "2025-08-11T08:49:53.533Z"
   },
   {
    "duration": 4,
    "start_time": "2025-08-11T08:49:53.684Z"
   },
   {
    "duration": 54,
    "start_time": "2025-08-11T08:49:53.690Z"
   },
   {
    "duration": 4,
    "start_time": "2025-08-11T08:49:53.746Z"
   },
   {
    "duration": 41,
    "start_time": "2025-08-11T08:49:53.752Z"
   },
   {
    "duration": 4,
    "start_time": "2025-08-11T08:49:53.795Z"
   },
   {
    "duration": 27,
    "start_time": "2025-08-11T08:49:53.800Z"
   },
   {
    "duration": 9,
    "start_time": "2025-08-11T08:49:53.829Z"
   },
   {
    "duration": 27,
    "start_time": "2025-08-11T08:49:53.839Z"
   },
   {
    "duration": 49,
    "start_time": "2025-08-11T08:49:53.867Z"
   },
   {
    "duration": 88,
    "start_time": "2025-08-11T08:49:53.918Z"
   },
   {
    "duration": 54,
    "start_time": "2025-08-11T08:49:54.008Z"
   },
   {
    "duration": 35,
    "start_time": "2025-08-11T08:49:54.064Z"
   },
   {
    "duration": 193,
    "start_time": "2025-08-11T08:49:54.100Z"
   },
   {
    "duration": 7,
    "start_time": "2025-08-11T08:49:54.294Z"
   },
   {
    "duration": 24,
    "start_time": "2025-08-11T08:49:54.302Z"
   },
   {
    "duration": 1439,
    "start_time": "2025-08-11T08:49:54.327Z"
   },
   {
    "duration": 1404,
    "start_time": "2025-08-11T08:49:55.768Z"
   },
   {
    "duration": 2,
    "start_time": "2025-08-11T08:49:57.173Z"
   },
   {
    "duration": 149,
    "start_time": "2025-08-11T08:49:57.177Z"
   },
   {
    "duration": 21,
    "start_time": "2025-08-11T08:49:57.327Z"
   },
   {
    "duration": 8,
    "start_time": "2025-08-11T08:49:57.349Z"
   },
   {
    "duration": 4,
    "start_time": "2025-08-11T08:49:57.359Z"
   },
   {
    "duration": 8,
    "start_time": "2025-08-11T08:49:57.364Z"
   },
   {
    "duration": 30,
    "start_time": "2025-08-11T08:49:57.373Z"
   },
   {
    "duration": 14,
    "start_time": "2025-08-11T08:49:57.405Z"
   },
   {
    "duration": 23,
    "start_time": "2025-08-11T08:49:57.420Z"
   },
   {
    "duration": 3,
    "start_time": "2025-08-11T08:49:57.444Z"
   },
   {
    "duration": 8,
    "start_time": "2025-08-11T08:49:57.449Z"
   },
   {
    "duration": 83,
    "start_time": "2025-08-11T08:49:57.459Z"
   },
   {
    "duration": 13,
    "start_time": "2025-08-11T08:49:57.543Z"
   },
   {
    "duration": 149,
    "start_time": "2025-08-11T08:49:57.562Z"
   },
   {
    "duration": 3,
    "start_time": "2025-08-11T08:49:57.712Z"
   },
   {
    "duration": 35,
    "start_time": "2025-08-11T08:49:57.717Z"
   },
   {
    "duration": 3,
    "start_time": "2025-08-11T08:49:57.754Z"
   },
   {
    "duration": 3,
    "start_time": "2025-08-11T08:49:57.758Z"
   },
   {
    "duration": 4,
    "start_time": "2025-08-11T08:49:57.763Z"
   },
   {
    "duration": 3,
    "start_time": "2025-08-11T08:49:57.768Z"
   },
   {
    "duration": 7,
    "start_time": "2025-08-11T08:49:57.773Z"
   },
   {
    "duration": 15,
    "start_time": "2025-08-11T08:49:57.781Z"
   },
   {
    "duration": 6,
    "start_time": "2025-08-11T08:49:57.798Z"
   },
   {
    "duration": 7,
    "start_time": "2025-08-11T08:49:57.806Z"
   },
   {
    "duration": 13,
    "start_time": "2025-08-11T08:49:57.814Z"
   },
   {
    "duration": 7,
    "start_time": "2025-08-11T08:49:57.829Z"
   },
   {
    "duration": 6,
    "start_time": "2025-08-11T08:49:57.838Z"
   },
   {
    "duration": 7,
    "start_time": "2025-08-11T08:49:57.845Z"
   },
   {
    "duration": 7,
    "start_time": "2025-08-11T08:49:57.853Z"
   },
   {
    "duration": 4,
    "start_time": "2025-08-11T08:49:57.862Z"
   },
   {
    "duration": 5,
    "start_time": "2025-08-11T08:49:57.867Z"
   },
   {
    "duration": 75,
    "start_time": "2025-08-11T08:49:57.873Z"
   },
   {
    "duration": 41,
    "start_time": "2025-08-11T08:49:57.950Z"
   },
   {
    "duration": 2,
    "start_time": "2025-08-11T08:49:57.993Z"
   },
   {
    "duration": 31766,
    "start_time": "2025-08-11T08:49:57.997Z"
   },
   {
    "duration": 148645,
    "start_time": "2025-08-11T08:50:29.765Z"
   },
   {
    "duration": 21051,
    "start_time": "2025-08-11T08:52:58.412Z"
   },
   {
    "duration": 16382,
    "start_time": "2025-08-11T08:53:19.464Z"
   },
   {
    "duration": 80431,
    "start_time": "2025-08-11T08:53:35.847Z"
   },
   {
    "duration": 0,
    "start_time": "2025-08-11T08:54:56.280Z"
   },
   {
    "duration": 0,
    "start_time": "2025-08-11T08:54:56.282Z"
   },
   {
    "duration": 0,
    "start_time": "2025-08-11T08:54:56.283Z"
   },
   {
    "duration": 0,
    "start_time": "2025-08-11T08:54:56.284Z"
   },
   {
    "duration": 0,
    "start_time": "2025-08-11T08:54:56.285Z"
   },
   {
    "duration": 0,
    "start_time": "2025-08-11T08:54:56.286Z"
   },
   {
    "duration": 0,
    "start_time": "2025-08-11T08:54:56.287Z"
   },
   {
    "duration": 0,
    "start_time": "2025-08-11T08:54:56.288Z"
   },
   {
    "duration": 0,
    "start_time": "2025-08-11T08:54:56.289Z"
   },
   {
    "duration": 0,
    "start_time": "2025-08-11T08:54:56.291Z"
   },
   {
    "duration": 0,
    "start_time": "2025-08-11T08:54:56.291Z"
   },
   {
    "duration": 0,
    "start_time": "2025-08-11T08:54:56.292Z"
   },
   {
    "duration": 0,
    "start_time": "2025-08-11T08:54:56.294Z"
   },
   {
    "duration": 0,
    "start_time": "2025-08-11T08:54:56.294Z"
   },
   {
    "duration": 0,
    "start_time": "2025-08-11T08:54:56.295Z"
   },
   {
    "duration": 0,
    "start_time": "2025-08-11T08:54:56.296Z"
   },
   {
    "duration": 0,
    "start_time": "2025-08-11T08:54:56.297Z"
   },
   {
    "duration": 0,
    "start_time": "2025-08-11T08:54:56.298Z"
   },
   {
    "duration": 0,
    "start_time": "2025-08-11T08:54:56.299Z"
   },
   {
    "duration": 0,
    "start_time": "2025-08-11T08:54:56.300Z"
   },
   {
    "duration": 0,
    "start_time": "2025-08-11T08:54:56.301Z"
   },
   {
    "duration": 0,
    "start_time": "2025-08-11T08:54:56.303Z"
   },
   {
    "duration": 210473,
    "start_time": "2025-08-11T08:54:59.232Z"
   },
   {
    "duration": 31,
    "start_time": "2025-08-11T09:05:40.383Z"
   },
   {
    "duration": 524,
    "start_time": "2025-08-11T09:05:58.335Z"
   },
   {
    "duration": 32,
    "start_time": "2025-08-11T09:06:46.848Z"
   },
   {
    "duration": 56,
    "start_time": "2025-08-11T09:07:08.112Z"
   },
   {
    "duration": 27,
    "start_time": "2025-08-11T09:07:11.102Z"
   },
   {
    "duration": 14,
    "start_time": "2025-08-11T09:07:25.470Z"
   },
   {
    "duration": 19,
    "start_time": "2025-08-11T09:07:29.518Z"
   },
   {
    "duration": 4,
    "start_time": "2025-08-11T09:07:30.582Z"
   },
   {
    "duration": 973,
    "start_time": "2025-08-11T09:07:31.606Z"
   },
   {
    "duration": 45,
    "start_time": "2025-08-11T09:07:59.462Z"
   },
   {
    "duration": 637,
    "start_time": "2025-08-11T09:08:08.013Z"
   },
   {
    "duration": 609,
    "start_time": "2025-08-11T09:08:14.553Z"
   },
   {
    "duration": 56617,
    "start_time": "2025-08-22T09:28:08.030Z"
   },
   {
    "duration": 3778,
    "start_time": "2025-08-22T09:29:04.649Z"
   },
   {
    "duration": 10,
    "start_time": "2025-08-22T09:29:08.429Z"
   },
   {
    "duration": 36,
    "start_time": "2025-08-22T09:29:08.441Z"
   },
   {
    "duration": 17,
    "start_time": "2025-08-22T09:29:08.479Z"
   },
   {
    "duration": 8,
    "start_time": "2025-08-22T09:29:08.498Z"
   },
   {
    "duration": 14,
    "start_time": "2025-08-22T09:29:08.507Z"
   },
   {
    "duration": 28,
    "start_time": "2025-08-22T09:29:08.523Z"
   },
   {
    "duration": 6,
    "start_time": "2025-08-22T09:29:08.553Z"
   },
   {
    "duration": 6,
    "start_time": "2025-08-22T09:29:08.561Z"
   },
   {
    "duration": 7,
    "start_time": "2025-08-22T09:29:08.568Z"
   },
   {
    "duration": 16,
    "start_time": "2025-08-22T09:29:08.577Z"
   },
   {
    "duration": 21,
    "start_time": "2025-08-22T09:29:08.595Z"
   },
   {
    "duration": 24,
    "start_time": "2025-08-22T09:29:08.618Z"
   },
   {
    "duration": 8,
    "start_time": "2025-08-22T09:29:08.644Z"
   },
   {
    "duration": 17,
    "start_time": "2025-08-22T09:29:08.653Z"
   },
   {
    "duration": 494,
    "start_time": "2025-08-22T09:29:08.671Z"
   },
   {
    "duration": 27,
    "start_time": "2025-08-22T09:29:09.167Z"
   },
   {
    "duration": 16,
    "start_time": "2025-08-22T09:29:09.196Z"
   },
   {
    "duration": 18,
    "start_time": "2025-08-22T09:29:09.213Z"
   },
   {
    "duration": 13,
    "start_time": "2025-08-22T09:29:09.238Z"
   },
   {
    "duration": 28,
    "start_time": "2025-08-22T09:29:09.253Z"
   },
   {
    "duration": 18,
    "start_time": "2025-08-22T09:29:09.283Z"
   },
   {
    "duration": 14,
    "start_time": "2025-08-22T09:29:09.302Z"
   },
   {
    "duration": 40,
    "start_time": "2025-08-22T09:29:09.318Z"
   },
   {
    "duration": 4,
    "start_time": "2025-08-22T09:29:09.359Z"
   },
   {
    "duration": 12,
    "start_time": "2025-08-22T09:29:09.364Z"
   },
   {
    "duration": 10,
    "start_time": "2025-08-22T09:29:09.380Z"
   },
   {
    "duration": 67,
    "start_time": "2025-08-22T09:29:09.391Z"
   },
   {
    "duration": 7,
    "start_time": "2025-08-22T09:29:09.460Z"
   },
   {
    "duration": 15,
    "start_time": "2025-08-22T09:29:09.469Z"
   },
   {
    "duration": 10,
    "start_time": "2025-08-22T09:29:09.486Z"
   },
   {
    "duration": 14,
    "start_time": "2025-08-22T09:29:09.498Z"
   },
   {
    "duration": 10,
    "start_time": "2025-08-22T09:29:09.514Z"
   },
   {
    "duration": 10,
    "start_time": "2025-08-22T09:29:09.526Z"
   },
   {
    "duration": 8,
    "start_time": "2025-08-22T09:29:09.538Z"
   },
   {
    "duration": 5,
    "start_time": "2025-08-22T09:29:09.548Z"
   },
   {
    "duration": 73,
    "start_time": "2025-08-22T09:29:09.555Z"
   },
   {
    "duration": 5,
    "start_time": "2025-08-22T09:29:09.640Z"
   },
   {
    "duration": 18,
    "start_time": "2025-08-22T09:29:09.647Z"
   },
   {
    "duration": 10,
    "start_time": "2025-08-22T09:29:09.667Z"
   },
   {
    "duration": 215,
    "start_time": "2025-08-22T09:29:09.679Z"
   },
   {
    "duration": 5,
    "start_time": "2025-08-22T09:29:09.897Z"
   },
   {
    "duration": 78,
    "start_time": "2025-08-22T09:29:09.904Z"
   },
   {
    "duration": 59,
    "start_time": "2025-08-22T09:29:09.983Z"
   },
   {
    "duration": 129,
    "start_time": "2025-08-22T09:29:10.044Z"
   },
   {
    "duration": 5,
    "start_time": "2025-08-22T09:29:10.175Z"
   },
   {
    "duration": 74,
    "start_time": "2025-08-22T09:29:10.181Z"
   },
   {
    "duration": 8,
    "start_time": "2025-08-22T09:29:10.257Z"
   },
   {
    "duration": 34,
    "start_time": "2025-08-22T09:29:10.266Z"
   },
   {
    "duration": 10,
    "start_time": "2025-08-22T09:29:10.302Z"
   },
   {
    "duration": 58,
    "start_time": "2025-08-22T09:29:10.313Z"
   },
   {
    "duration": 20,
    "start_time": "2025-08-22T09:29:10.373Z"
   },
   {
    "duration": 63,
    "start_time": "2025-08-22T09:29:10.395Z"
   },
   {
    "duration": 69,
    "start_time": "2025-08-22T09:29:10.460Z"
   },
   {
    "duration": 56,
    "start_time": "2025-08-22T09:29:10.531Z"
   },
   {
    "duration": 23,
    "start_time": "2025-08-22T09:29:10.589Z"
   },
   {
    "duration": 58,
    "start_time": "2025-08-22T09:29:10.615Z"
   },
   {
    "duration": 6,
    "start_time": "2025-08-22T09:29:10.675Z"
   },
   {
    "duration": 63,
    "start_time": "2025-08-22T09:29:10.683Z"
   },
   {
    "duration": 12,
    "start_time": "2025-08-22T09:29:10.747Z"
   },
   {
    "duration": 42,
    "start_time": "2025-08-22T09:29:10.760Z"
   },
   {
    "duration": 5,
    "start_time": "2025-08-22T09:29:10.804Z"
   },
   {
    "duration": 69,
    "start_time": "2025-08-22T09:29:10.810Z"
   },
   {
    "duration": 4,
    "start_time": "2025-08-22T09:29:10.881Z"
   },
   {
    "duration": 49,
    "start_time": "2025-08-22T09:29:10.887Z"
   },
   {
    "duration": 215,
    "start_time": "2025-08-22T09:29:10.938Z"
   },
   {
    "duration": 8,
    "start_time": "2025-08-22T09:29:11.154Z"
   },
   {
    "duration": 52,
    "start_time": "2025-08-22T09:29:11.164Z"
   },
   {
    "duration": 24,
    "start_time": "2025-08-22T09:29:11.218Z"
   },
   {
    "duration": 47,
    "start_time": "2025-08-22T09:29:11.244Z"
   },
   {
    "duration": 257,
    "start_time": "2025-08-22T09:29:11.293Z"
   },
   {
    "duration": 24,
    "start_time": "2025-08-22T09:29:11.552Z"
   },
   {
    "duration": 30,
    "start_time": "2025-08-22T09:29:11.578Z"
   },
   {
    "duration": 36,
    "start_time": "2025-08-22T09:29:11.609Z"
   },
   {
    "duration": 30,
    "start_time": "2025-08-22T09:29:11.647Z"
   },
   {
    "duration": 26,
    "start_time": "2025-08-22T09:29:11.678Z"
   },
   {
    "duration": 66,
    "start_time": "2025-08-22T09:29:11.706Z"
   },
   {
    "duration": 14,
    "start_time": "2025-08-22T09:29:11.773Z"
   },
   {
    "duration": 54,
    "start_time": "2025-08-22T09:29:11.790Z"
   },
   {
    "duration": 8,
    "start_time": "2025-08-22T09:29:11.846Z"
   },
   {
    "duration": 57,
    "start_time": "2025-08-22T09:29:11.862Z"
   },
   {
    "duration": 18,
    "start_time": "2025-08-22T09:29:11.921Z"
   },
   {
    "duration": 30,
    "start_time": "2025-08-22T09:29:11.941Z"
   },
   {
    "duration": 6,
    "start_time": "2025-08-22T09:29:11.973Z"
   },
   {
    "duration": 124,
    "start_time": "2025-08-22T09:29:11.981Z"
   },
   {
    "duration": 109,
    "start_time": "2025-08-22T09:29:12.107Z"
   },
   {
    "duration": 77,
    "start_time": "2025-08-22T09:29:12.218Z"
   },
   {
    "duration": 143,
    "start_time": "2025-08-22T09:29:12.297Z"
   },
   {
    "duration": 149,
    "start_time": "2025-08-22T09:29:12.442Z"
   },
   {
    "duration": 217,
    "start_time": "2025-08-22T09:29:12.593Z"
   },
   {
    "duration": 389,
    "start_time": "2025-08-22T09:29:12.812Z"
   },
   {
    "duration": 470,
    "start_time": "2025-08-22T09:29:13.203Z"
   },
   {
    "duration": 86,
    "start_time": "2025-08-22T09:29:13.675Z"
   },
   {
    "duration": 4,
    "start_time": "2025-08-22T09:29:13.763Z"
   },
   {
    "duration": 49,
    "start_time": "2025-08-22T09:29:13.768Z"
   },
   {
    "duration": 7,
    "start_time": "2025-08-22T09:29:13.818Z"
   },
   {
    "duration": 53,
    "start_time": "2025-08-22T09:29:13.827Z"
   },
   {
    "duration": 4,
    "start_time": "2025-08-22T09:29:13.882Z"
   },
   {
    "duration": 46,
    "start_time": "2025-08-22T09:29:13.887Z"
   },
   {
    "duration": 10,
    "start_time": "2025-08-22T09:29:13.935Z"
   },
   {
    "duration": 8,
    "start_time": "2025-08-22T09:29:13.947Z"
   },
   {
    "duration": 66,
    "start_time": "2025-08-22T09:29:13.956Z"
   },
   {
    "duration": 48,
    "start_time": "2025-08-22T09:29:14.024Z"
   },
   {
    "duration": 153,
    "start_time": "2025-08-22T09:29:14.074Z"
   },
   {
    "duration": 40,
    "start_time": "2025-08-22T09:29:14.228Z"
   },
   {
    "duration": 208,
    "start_time": "2025-08-22T09:29:14.270Z"
   },
   {
    "duration": 7,
    "start_time": "2025-08-22T09:29:14.480Z"
   },
   {
    "duration": 40,
    "start_time": "2025-08-22T09:29:14.488Z"
   },
   {
    "duration": 1519,
    "start_time": "2025-08-22T09:29:14.530Z"
   },
   {
    "duration": 1440,
    "start_time": "2025-08-22T09:29:16.050Z"
   },
   {
    "duration": 2,
    "start_time": "2025-08-22T09:29:17.492Z"
   },
   {
    "duration": 19,
    "start_time": "2025-08-22T09:29:17.495Z"
   },
   {
    "duration": 17,
    "start_time": "2025-08-22T09:29:17.516Z"
   },
   {
    "duration": 27,
    "start_time": "2025-08-22T09:29:17.535Z"
   },
   {
    "duration": 15,
    "start_time": "2025-08-22T09:29:17.565Z"
   },
   {
    "duration": 18,
    "start_time": "2025-08-22T09:29:17.582Z"
   },
   {
    "duration": 32,
    "start_time": "2025-08-22T09:29:17.602Z"
   },
   {
    "duration": 28,
    "start_time": "2025-08-22T09:29:17.636Z"
   },
   {
    "duration": 21,
    "start_time": "2025-08-22T09:29:17.666Z"
   },
   {
    "duration": 3,
    "start_time": "2025-08-22T09:29:17.689Z"
   },
   {
    "duration": 21,
    "start_time": "2025-08-22T09:29:17.693Z"
   },
   {
    "duration": 113,
    "start_time": "2025-08-22T09:29:17.716Z"
   },
   {
    "duration": 11,
    "start_time": "2025-08-22T09:29:17.830Z"
   },
   {
    "duration": 33,
    "start_time": "2025-08-22T09:29:17.843Z"
   },
   {
    "duration": 3,
    "start_time": "2025-08-22T09:29:17.877Z"
   },
   {
    "duration": 37,
    "start_time": "2025-08-22T09:29:17.881Z"
   },
   {
    "duration": 3,
    "start_time": "2025-08-22T09:29:17.919Z"
   },
   {
    "duration": 36,
    "start_time": "2025-08-22T09:29:17.924Z"
   },
   {
    "duration": 57,
    "start_time": "2025-08-22T09:29:17.961Z"
   },
   {
    "duration": 19,
    "start_time": "2025-08-22T09:29:18.020Z"
   },
   {
    "duration": 105,
    "start_time": "2025-08-22T09:29:18.040Z"
   },
   {
    "duration": 40,
    "start_time": "2025-08-22T09:29:18.146Z"
   },
   {
    "duration": 39,
    "start_time": "2025-08-22T09:29:18.187Z"
   },
   {
    "duration": 41,
    "start_time": "2025-08-22T09:29:18.227Z"
   },
   {
    "duration": 38,
    "start_time": "2025-08-22T09:29:18.270Z"
   },
   {
    "duration": 18,
    "start_time": "2025-08-22T09:29:18.310Z"
   },
   {
    "duration": 34,
    "start_time": "2025-08-22T09:29:18.329Z"
   },
   {
    "duration": 18,
    "start_time": "2025-08-22T09:29:18.364Z"
   },
   {
    "duration": 31,
    "start_time": "2025-08-22T09:29:18.383Z"
   },
   {
    "duration": 20,
    "start_time": "2025-08-22T09:29:18.415Z"
   },
   {
    "duration": 97,
    "start_time": "2025-08-22T09:29:18.437Z"
   },
   {
    "duration": 14,
    "start_time": "2025-08-22T09:29:18.536Z"
   },
   {
    "duration": 46,
    "start_time": "2025-08-22T09:29:18.552Z"
   },
   {
    "duration": 3,
    "start_time": "2025-08-22T09:29:18.600Z"
   },
   {
    "duration": 32239,
    "start_time": "2025-08-22T09:29:18.604Z"
   },
   {
    "duration": 26453,
    "start_time": "2025-08-22T09:29:50.845Z"
   },
   {
    "duration": 0,
    "start_time": "2025-08-22T09:30:17.300Z"
   },
   {
    "duration": 0,
    "start_time": "2025-08-22T09:30:17.301Z"
   },
   {
    "duration": 0,
    "start_time": "2025-08-22T09:30:17.302Z"
   },
   {
    "duration": 0,
    "start_time": "2025-08-22T09:30:17.303Z"
   },
   {
    "duration": 0,
    "start_time": "2025-08-22T09:30:17.304Z"
   },
   {
    "duration": 0,
    "start_time": "2025-08-22T09:30:17.305Z"
   },
   {
    "duration": 0,
    "start_time": "2025-08-22T09:30:17.307Z"
   },
   {
    "duration": 0,
    "start_time": "2025-08-22T09:30:17.308Z"
   },
   {
    "duration": 0,
    "start_time": "2025-08-22T09:30:17.309Z"
   },
   {
    "duration": 0,
    "start_time": "2025-08-22T09:30:17.310Z"
   },
   {
    "duration": 0,
    "start_time": "2025-08-22T09:30:17.311Z"
   },
   {
    "duration": 0,
    "start_time": "2025-08-22T09:30:17.312Z"
   },
   {
    "duration": 0,
    "start_time": "2025-08-22T09:30:17.313Z"
   },
   {
    "duration": 0,
    "start_time": "2025-08-22T09:30:17.314Z"
   },
   {
    "duration": 0,
    "start_time": "2025-08-22T09:30:17.315Z"
   },
   {
    "duration": 0,
    "start_time": "2025-08-22T09:30:17.339Z"
   },
   {
    "duration": 0,
    "start_time": "2025-08-22T09:30:17.341Z"
   },
   {
    "duration": 0,
    "start_time": "2025-08-22T09:30:17.342Z"
   },
   {
    "duration": 0,
    "start_time": "2025-08-22T09:30:17.343Z"
   },
   {
    "duration": 0,
    "start_time": "2025-08-22T09:30:17.344Z"
   },
   {
    "duration": 0,
    "start_time": "2025-08-22T09:30:17.345Z"
   },
   {
    "duration": 0,
    "start_time": "2025-08-22T09:30:17.346Z"
   },
   {
    "duration": 0,
    "start_time": "2025-08-22T09:30:17.348Z"
   },
   {
    "duration": 0,
    "start_time": "2025-08-22T09:30:17.349Z"
   },
   {
    "duration": 0,
    "start_time": "2025-08-22T09:30:17.350Z"
   },
   {
    "duration": 221250,
    "start_time": "2025-08-22T09:30:22.499Z"
   },
   {
    "duration": 30,
    "start_time": "2025-08-22T09:34:03.751Z"
   },
   {
    "duration": 351,
    "start_time": "2025-08-22T09:34:03.783Z"
   },
   {
    "duration": 37,
    "start_time": "2025-08-22T09:34:04.136Z"
   },
   {
    "duration": 78,
    "start_time": "2025-08-22T09:34:04.175Z"
   },
   {
    "duration": 22,
    "start_time": "2025-08-22T09:34:04.255Z"
   },
   {
    "duration": 15,
    "start_time": "2025-08-22T09:34:04.279Z"
   },
   {
    "duration": 15,
    "start_time": "2025-08-22T09:34:04.295Z"
   },
   {
    "duration": 29,
    "start_time": "2025-08-22T09:34:04.311Z"
   },
   {
    "duration": 997,
    "start_time": "2025-08-22T09:34:04.343Z"
   },
   {
    "duration": 49,
    "start_time": "2025-08-22T09:59:18.256Z"
   },
   {
    "duration": 41,
    "start_time": "2025-08-22T09:59:51.118Z"
   },
   {
    "duration": 36,
    "start_time": "2025-08-22T10:00:14.502Z"
   },
   {
    "duration": 33,
    "start_time": "2025-08-22T10:00:21.574Z"
   }
  ],
  "kernelspec": {
   "display_name": "pract_311",
   "language": "python",
   "name": "python3"
  },
  "language_info": {
   "codemirror_mode": {
    "name": "ipython",
    "version": 3
   },
   "file_extension": ".py",
   "mimetype": "text/x-python",
   "name": "python",
   "nbconvert_exporter": "python",
   "pygments_lexer": "ipython3",
   "version": "3.11.13"
  },
  "toc": {
   "base_numbering": 1,
   "nav_menu": {
    "height": "124px",
    "width": "177px"
   },
   "number_sections": true,
   "sideBar": true,
   "skip_h1_title": true,
   "title_cell": "Содержание",
   "title_sidebar": "Contents",
   "toc_cell": true,
   "toc_position": {
    "height": "calc(100% - 180px)",
    "left": "10px",
    "top": "150px",
    "width": "191.562px"
   },
   "toc_section_display": true,
   "toc_window_display": true
  }
 },
 "nbformat": 4,
 "nbformat_minor": 5
}
